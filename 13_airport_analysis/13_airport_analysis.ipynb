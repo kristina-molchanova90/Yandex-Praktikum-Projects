{
 "cells": [
  {
   "cell_type": "markdown",
   "metadata": {},
   "source": [
    "# Спрос на рейсы авиакомпании"
   ]
  },
  {
   "cell_type": "markdown",
   "metadata": {},
   "source": [
    "Необходимо получить требую информацию из базы данных российской авиакомпании (SQL-запросы), затем, проанализировав результаты 1 и 3 запросов, понять предпочтения пользователей, покупающих билеты на разные направления:\n",
    "\n",
    "-построить графики: модели самолётов и количество рейсов, города и количество рейсов и топ-10 городов и количество рейсов <br>\n",
    "-сделать выводы по каждому из графиков, пояснить результат."
   ]
  },
  {
   "cell_type": "markdown",
   "metadata": {},
   "source": [
    "## SQL-запросы"
   ]
  },
  {
   "cell_type": "markdown",
   "metadata": {},
   "source": [
    "<b>Задача 1</b><br>\n",
    "Найдите количество рейсов на каждой модели самолёта с вылетом в сентябре 2018 года. Назовите получившееся поле flights_amount и выведите его. Также напечатайте на экране поле model. Столбцы в таблице должны быть выведены в следующем порядке:<br>\n",
    "model<br>\n",
    "flights_amount"
   ]
  },
  {
   "cell_type": "markdown",
   "metadata": {},
   "source": [
    "``` sql\n",
    "SELECT (SELECT model FROM aircrafts WHERE aircrafts.aircraft_code = flights.aircraft_code) as model, COUNT(flight_id) as flights_amount FROM flights\n",
    "WHERE (EXTRACT(year FROM departure_time::date) = 2018) AND (EXTRACT(month FROM departure_time::date) = 9)\n",
    "GROUP BY model\n",
    "```"
   ]
  },
  {
   "cell_type": "markdown",
   "metadata": {},
   "source": [
    "<b>Результат:</b>\n",
    "\n",
    "|        MODEL        | FLIGHTS_AMOUNT |\n",
    "|:-------------------:|:--------------:|\n",
    "| Airbus A319-100     | 607            |\n",
    "| Airbus A321-200     | 960            |\n",
    "| Boeing 737-300      | 630            |\n",
    "| Boeing 767-300      | 600            |\n",
    "| Boeing 777-300      | 300            |\n",
    "| Bombardier CRJ-200  | 4446           |\n",
    "| Cessna 208 Caravan  | 4557           |\n",
    "| Sukhoi SuperJet-100 | 4185           |"
   ]
  },
  {
   "cell_type": "markdown",
   "metadata": {},
   "source": [
    "<b>Задача 2</b><br>\n",
    "Посчитайте отправленные в сентябре рейсы самолётов следующих моделей:\n",
    "Boeing,\n",
    "Airbus,\n",
    "другие (“other”).\n",
    "Назовите получившуюся переменную flights_amount и выведите её значение на экран."
   ]
  },
  {
   "cell_type": "markdown",
   "metadata": {},
   "source": [
    "``` sql\n",
    "SELECT\n",
    "     (CASE \n",
    "        WHEN (aircrafts.model LIKE 'Boeing%') \n",
    "        THEN 'Boeing'\n",
    "        WHEN (aircrafts.model LIKE 'Airbus%')\n",
    "        THEN 'Airbus'\n",
    "        ELSE 'other'\n",
    "    END) as model,\n",
    "    COUNT(flight_id) as flights_amount \n",
    "FROM flights INNER JOIN aircrafts on aircrafts.aircraft_code = flights.aircraft_code\n",
    "WHERE EXTRACT(month FROM departure_time::date)=9\n",
    "GROUP BY (CASE \n",
    "        WHEN (aircrafts.model LIKE 'Boeing%') \n",
    "        THEN 'Boeing'\n",
    "        WHEN (aircrafts.model LIKE 'Airbus%')\n",
    "        THEN 'Airbus'\n",
    "        ELSE 'other'\n",
    "    END)\n",
    "```"
   ]
  },
  {
   "cell_type": "markdown",
   "metadata": {},
   "source": [
    "<b>Результат:</b>\n",
    "\n",
    "|  MODEL | FLIGHTS_AMOUNT |\n",
    "|:------:|:--------------:|\n",
    "| Airbus | 1567           |\n",
    "| Boeing | 1530           |\n",
    "| other  | 13188          |"
   ]
  },
  {
   "cell_type": "markdown",
   "metadata": {},
   "source": [
    "<b>Задача 3</b><br>\n",
    "\n",
    "Посчитайте среднее количество прибывающих рейсов в день для каждого города за август 2018 года. Назовите получившееся поле average_flights, вместе с ним выведите столбец city.\n",
    "Выводите столбцы в таком порядке:<br>\n",
    "city,<br>\n",
    "average_flights."
   ]
  },
  {
   "cell_type": "markdown",
   "metadata": {},
   "source": [
    "``` sql\n",
    "SELECT \n",
    "    DISTINCT subq.airp_city as city,\n",
    "    AVG(subq.count_flights) as average_flights\n",
    "    \n",
    "FROM \n",
    "     (SELECT \n",
    "       airports.city AS airp_city,\n",
    "       EXTRACT(day from arrival_time::date) AS arr_day,\n",
    "       COUNT(flight_id) as count_flights \n",
    "     FROM flights INNER JOIN airports on flights.arrival_airport = airports.airport_code\n",
    "     WHERE flights.ARRIVAL_TIME :: DATE < '2018-09-01 00:00:00'\n",
    "                AND flights.ARRIVAL_TIME :: DATE >= '2018-08-01 00:00:00'\n",
    "     GROUP BY arr_day,airp_city) as subq\n",
    "GROUP BY city\n",
    "\n",
    "```"
   ]
  },
  {
   "cell_type": "markdown",
   "metadata": {},
   "source": [
    "<b>Результат:</b>\n",
    "\n",
    "| CITY                     | AVERAGE_FLIGHTS |\n",
    "|--------------------------|-----------------|\n",
    "| Абакан                   | 3.87097         |\n",
    "| Анадырь                  | 1               |\n",
    "| Анапа                    | 2.16129         |\n",
    "| Архангельск              | 5.35484         |\n",
    "| Астрахань                | 2.45161         |\n",
    "| Барнаул                  | 2.6129          |\n",
    "| Белгород                 | 6               |\n",
    "| Белоярский               | 2               |\n",
    "| Благовещенск             | 1               |\n",
    "| Братск                   | 1               |\n",
    "| Брянск                   | 10              |\n",
    "| Бугульма                 | 3               |\n",
    "| Владивосток              | 3               |\n",
    "| Владикавказ              | 2               |\n",
    "| Волгоград                | 5.12903         |\n",
    "| Воркута                  | 4.58065         |\n",
    "| Воронеж                  | 2               |\n",
    "| Геленджик                | 2.59091         |\n",
    "| Горно-Алтайск            | 1.3871          |\n",
    "| Грозный                  | 1.12903         |\n",
    "| Екатеринбург             | 11.3226         |\n",
    "| Иваново                  | 1               |\n",
    "| Ижевск                   | 1               |\n",
    "| Иркутск                  | 6.03226         |\n",
    "| Йошкар-Ола               | 4.29032         |\n",
    "| Казань                   | 7.74194         |\n",
    "| Калининград              | 2.58065         |\n",
    "| Калуга                   | 2.03226         |\n",
    "| Кемерово                 | 2               |\n",
    "| Киров                    | 6               |\n",
    "| Когалым                  | 3.16129         |\n",
    "| Комсомольск-на-Амуре     | 1               |\n",
    "| Краснодар                | 3.90323         |\n",
    "| Красноярск               | 11.5806         |\n",
    "| Курган                   | 3.41935         |\n",
    "| Курск                    | 2.29032         |\n",
    "| Кызыл                    | 1.27778         |\n",
    "| Липецк                   | 1.29412         |\n",
    "| Магадан                  | 1.35714         |\n",
    "| Магнитогорск             | 4               |\n",
    "| Махачкала                | 3.29032         |\n",
    "| Минеральные Воды         | 3.41935         |\n",
    "| Мирный                   | 6.29032         |\n",
    "| Москва                   | 129.774         |\n",
    "| Мурманск                 | 2               |\n",
    "| Надым                    | 2.29032         |\n",
    "| Нальчик                  | 3               |\n",
    "| Нарьян-Мар               | 2.6129          |\n",
    "| Нерюнгри                 | 2.58065         |\n",
    "| Нефтеюганск              | 1               |\n",
    "| Нижневартовск            | 3.12903         |\n",
    "| Нижнекамск               | 3.74194         |\n",
    "| Нижний Новгород          | 5.87097         |\n",
    "| Новокузнецк              | 6.03226         |\n",
    "| Новосибирск              | 17.3226         |\n",
    "| Новый Уренгой            | 8.29032         |\n",
    "| Норильск                 | 2.29032         |\n",
    "| Ноябрьск                 | 3               |\n",
    "| Нягань                   | 1               |\n",
    "| Омск                     | 3.29032         |\n",
    "| Оренбург                 | 5               |\n",
    "| Орск                     | 1.59091         |\n",
    "| Пенза                    | 4               |\n",
    "| Пермь                    | 10.129          |\n",
    "| Петрозаводск             | 5.87097         |\n",
    "| Петропавловск-Камчатский | 1               |\n",
    "| Псков                    | 1.54839         |\n",
    "| Ростов-на-Дону           | 10.1935         |\n",
    "| Салехард                 | 2               |\n",
    "| Самара                   | 3               |\n",
    "| Санкт-Петербург          | 31.1613         |\n",
    "| Саранск                  | 2               |\n",
    "| Саратов                  | 4               |\n",
    "| Советский                | 9               |\n",
    "| Сочи                     | 9.6129          |\n",
    "| Ставрополь               | 2               |\n",
    "| Стрежевой                | 1               |\n",
    "| Сургут                   | 8.74194         |\n",
    "| Сыктывкар                | 4.12903         |\n",
    "| Тамбов                   | 4               |\n",
    "| Томск                    | 4.19355         |\n",
    "| Тюмень                   | 6.96774         |\n",
    "| Удачный                  | 3               |\n",
    "| Улан-Удэ                 | 1.6087          |\n",
    "| Ульяновск                | 9.58065         |\n",
    "| Урай                     | 2               |\n",
    "| Усинск                   | 1               |\n",
    "| Усть-Илимск              | 2.87097         |\n",
    "| Усть-Кут                 | 1               |\n",
    "| Уфа                      | 6.29032         |\n",
    "| Ухта                     | 3               |\n",
    "| Хабаровск                | 6.54839         |\n",
    "| Ханты-Мансийск           | 8.41935         |\n",
    "| Чебоксары                | 5               |\n",
    "| Челябинск                | 6.70968         |\n",
    "| Череповец                | 2.16129         |\n",
    "| Чита                     | 1.58065         |\n",
    "| Элиста                   | 4.87097         |\n",
    "| Южно-Сахалинск           | 4.29032         |\n",
    "| Якутск                   | 2.74194         |\n",
    "| Ярославль                | 1.32258         |"
   ]
  },
  {
   "cell_type": "markdown",
   "metadata": {},
   "source": [
    "<b>Задача 4</b><br>\n",
    "Установите фестивали, которые проходили с 23 июля по 30 сентября 2018 года в Москве, и номер недели, в которую они проходили. Выведите название фестиваля festival_name и номер недели festival_week"
   ]
  },
  {
   "cell_type": "markdown",
   "metadata": {},
   "source": [
    "``` sql\n",
    "SELECT \n",
    "    festival_name,\n",
    "    EXTRACT(week from festival_date::date) as festival_week\n",
    "\n",
    "FROM festivals\n",
    "WHERE \n",
    "    (festival_date >= '2018-07-23')\n",
    "    AND\n",
    "    (festival_date <='2018-09-30')\n",
    "    AND\n",
    "    (festival_city = 'Москва')\n",
    "```"
   ]
  },
  {
   "cell_type": "markdown",
   "metadata": {},
   "source": [
    "<b>Результат:</b>\n",
    "\n",
    "| FESTIVAL_NAME | FESTIVAL_WEEK |\n",
    "|---------------|---------------|\n",
    "| Park Live     | 30            |\n",
    "| Пикник Афиши  | 31            |\n",
    "| Видфест       | 36            |"
   ]
  },
  {
   "cell_type": "markdown",
   "metadata": {},
   "source": [
    "<b>Задача 5</b><br>\n",
    "\n",
    "Для каждой недели с 23 июля по 30 сентября 2018 года посчитайте билеты, которые купили на рейсы в Москву (номер недели week_number и количество билетов ticket_amount). Получите таблицу:\n",
    "с количеством купленных за неделю билетов;\n",
    "отметкой, проходил ли в эту неделю фестиваль;\n",
    "название фестиваля festival_name;\n",
    "номер недели week_number.\n",
    "Выводите столбцы в таком порядке: - week_number - ticket_amount - festival_week - festival_name"
   ]
  },
  {
   "cell_type": "markdown",
   "metadata": {},
   "source": [
    "``` sql\n",
    "SELECT \n",
    "        EXTRACT(week from arrival_time::date) as week_number,\n",
    "        COUNT(ticket_flights.ticket_no) as ticket_amount,  \n",
    "        sub.festival_week as festival_week,\n",
    "        sub.festival_name as festival_name\n",
    "\n",
    "FROM\n",
    "    flights\n",
    "INNER JOIN airports ON airports.airport_code = flights.arrival_airport\n",
    "INNER JOIN ticket_flights ON ticket_flights.flight_id = flights.flight_id\n",
    "LEFT JOIN (SELECT\n",
    "             festival_name,\n",
    "             EXTRACT(WEEK FROM CAST(festival_date AS date)) AS festival_week\n",
    "         FROM\n",
    "             festivals\n",
    "         WHERE\n",
    "             festival_city = 'Москва' AND festival_date BETWEEN '2018-07-23' AND '2018-09-30') as sub ON sub.festival_week = EXTRACT(week FROM CAST(flights.arrival_time AS date))\n",
    "\n",
    "WHERE \n",
    "        (flights.arrival_time::date >= '2018-07-23')\n",
    "       AND\n",
    "        (flights.arrival_time::date <='2018-09-30')\n",
    "       AND\n",
    "        (airports.city LIKE 'Москва')\n",
    "GROUP BY\n",
    "    week_number,\n",
    "    festival_week,\n",
    "    festival_name\n",
    "\n",
    "```"
   ]
  },
  {
   "cell_type": "markdown",
   "metadata": {},
   "source": [
    "<b>Результат:</b>\n",
    "\n",
    "| WEEK_NUMBER | TICKET_AMOUNT | FESTIVAL_WEEK | FESTIVAL_NAME |\n",
    "|-------------|---------------|---------------|---------------|\n",
    "| 37          | 51670         | nan           |               |\n",
    "| 39          | 51623         | nan           |               |\n",
    "| 33          | 51378         | nan           |               |\n",
    "| 31          | 51034         | 31            | Пикник Афиши  |\n",
    "| 35          | 51360         | nan           |               |\n",
    "| 30          | 43568         | 30            | Park Live     |\n",
    "| 34          | 51492         | nan           |               |\n",
    "| 38          | 51518         | nan           |               |\n",
    "| 32          | 51675         | nan           |               |\n",
    "| 36          | 51386         | 36            | Видфест       |"
   ]
  },
  {
   "cell_type": "markdown",
   "metadata": {},
   "source": [
    "## Аналитика"
   ]
  },
  {
   "cell_type": "markdown",
   "metadata": {},
   "source": [
    "Сделаем все необходимые импорты"
   ]
  },
  {
   "cell_type": "code",
   "execution_count": 1,
   "metadata": {},
   "outputs": [],
   "source": [
    "import pandas as pd\n",
    "import numpy as np\n",
    "import matplotlib.pyplot as plt\n",
    "import seaborn as sns"
   ]
  },
  {
   "cell_type": "markdown",
   "metadata": {},
   "source": [
    "Напишем функцию для открытия и вывода общей  информации о файле и зададим переменные, содержащие путь к файлам:"
   ]
  },
  {
   "cell_type": "code",
   "execution_count": 2,
   "metadata": {},
   "outputs": [],
   "source": [
    "def print_file_info(filepath,filename,sort_column):\n",
    "    fl = pd.read_csv(filepath)\n",
    "    print('Первые 10 строк файла \"',filename,'\", отсортированные по убыванию')\n",
    "    display(fl.sort_values(by=sort_column,ascending = False).head(10))\n",
    "    if fl.shape[0] > 10:\n",
    "        print('Первые 10 строк файла \"',filename,'\", отсортированные по возрастанию')\n",
    "        display(fl.sort_values(by=sort_column,ascending = True).head(10))\n",
    "    print('Общая информация о файле: ',filename)\n",
    "    print(fl.info())\n",
    "    return fl\n",
    "\n",
    "fp1 = '/datasets/query_1.csv'\n",
    "fp2 = '/datasets/query_3.csv'"
   ]
  },
  {
   "cell_type": "markdown",
   "metadata": {},
   "source": [
    "<h3>Анализ файла \"Количество рейсов для каждой модели самолетов в сентябре 2018\"</h3>"
   ]
  },
  {
   "cell_type": "code",
   "execution_count": 3,
   "metadata": {},
   "outputs": [
    {
     "name": "stdout",
     "output_type": "stream",
     "text": [
      "Первые 10 строк файла \" Количество рейсов для каждой модели самолетов в сентябре 2018 \", отсортированные по убыванию\n"
     ]
    },
    {
     "data": {
      "text/html": [
       "<div>\n",
       "<style scoped>\n",
       "    .dataframe tbody tr th:only-of-type {\n",
       "        vertical-align: middle;\n",
       "    }\n",
       "\n",
       "    .dataframe tbody tr th {\n",
       "        vertical-align: top;\n",
       "    }\n",
       "\n",
       "    .dataframe thead th {\n",
       "        text-align: right;\n",
       "    }\n",
       "</style>\n",
       "<table border=\"1\" class=\"dataframe\">\n",
       "  <thead>\n",
       "    <tr style=\"text-align: right;\">\n",
       "      <th></th>\n",
       "      <th>model</th>\n",
       "      <th>flights_amount</th>\n",
       "    </tr>\n",
       "  </thead>\n",
       "  <tbody>\n",
       "    <tr>\n",
       "      <td>6</td>\n",
       "      <td>Cessna 208 Caravan</td>\n",
       "      <td>4557</td>\n",
       "    </tr>\n",
       "    <tr>\n",
       "      <td>5</td>\n",
       "      <td>Bombardier CRJ-200</td>\n",
       "      <td>4446</td>\n",
       "    </tr>\n",
       "    <tr>\n",
       "      <td>7</td>\n",
       "      <td>Sukhoi SuperJet-100</td>\n",
       "      <td>4185</td>\n",
       "    </tr>\n",
       "    <tr>\n",
       "      <td>1</td>\n",
       "      <td>Airbus A321-200</td>\n",
       "      <td>960</td>\n",
       "    </tr>\n",
       "    <tr>\n",
       "      <td>2</td>\n",
       "      <td>Boeing 737-300</td>\n",
       "      <td>630</td>\n",
       "    </tr>\n",
       "    <tr>\n",
       "      <td>0</td>\n",
       "      <td>Airbus A319-100</td>\n",
       "      <td>607</td>\n",
       "    </tr>\n",
       "    <tr>\n",
       "      <td>3</td>\n",
       "      <td>Boeing 767-300</td>\n",
       "      <td>600</td>\n",
       "    </tr>\n",
       "    <tr>\n",
       "      <td>4</td>\n",
       "      <td>Boeing 777-300</td>\n",
       "      <td>300</td>\n",
       "    </tr>\n",
       "  </tbody>\n",
       "</table>\n",
       "</div>"
      ],
      "text/plain": [
       "                 model  flights_amount\n",
       "6   Cessna 208 Caravan            4557\n",
       "5   Bombardier CRJ-200            4446\n",
       "7  Sukhoi SuperJet-100            4185\n",
       "1      Airbus A321-200             960\n",
       "2       Boeing 737-300             630\n",
       "0      Airbus A319-100             607\n",
       "3       Boeing 767-300             600\n",
       "4       Boeing 777-300             300"
      ]
     },
     "metadata": {},
     "output_type": "display_data"
    },
    {
     "name": "stdout",
     "output_type": "stream",
     "text": [
      "Общая информация о файле:  Количество рейсов для каждой модели самолетов в сентябре 2018\n",
      "<class 'pandas.core.frame.DataFrame'>\n",
      "RangeIndex: 8 entries, 0 to 7\n",
      "Data columns (total 2 columns):\n",
      "model             8 non-null object\n",
      "flights_amount    8 non-null int64\n",
      "dtypes: int64(1), object(1)\n",
      "memory usage: 256.0+ bytes\n",
      "None\n"
     ]
    }
   ],
   "source": [
    "file_model = print_file_info(fp1,'Количество рейсов для каждой модели самолетов в сентябре 2018','flights_amount')"
   ]
  },
  {
   "cell_type": "markdown",
   "metadata": {},
   "source": [
    "<b>Вывод:</b><br>\n",
    "В файле \"Количество рейсов для каждой модели самолетов в сентябре 2018\" содержится информация о количестве вылетов в сентябре 2018 года для 8 моделей самолетов. Типы данных соответствуют ожидаемым: для наименований - тип object, для количества вылетов - int. Пропусков в данных не обнаружено.<br>\n",
    "Наибольшее количество вылетов совершили модели самолетов Cessna 208 Caravan, Bombardier CRJ-200, Sukhoi SuperJet-100 - свыше 4000 вылетов для каждой модели.  Все остальные модели самолетов совершили значительно меньше полетов: только 4 в списке Airbus A321-200\t совершил в 4,5 раз меньше полетов. Наименьшее количество полетов совершено самолетами модели Boeing 777-300. <br>\n",
    "Ниже после построения графиков проанализируем более подробно"
   ]
  },
  {
   "cell_type": "markdown",
   "metadata": {},
   "source": [
    "<h3>Анализ файла \"Количество рейсов для каждого города в сентябре 2018\"</h3>"
   ]
  },
  {
   "cell_type": "code",
   "execution_count": 4,
   "metadata": {},
   "outputs": [
    {
     "name": "stdout",
     "output_type": "stream",
     "text": [
      "Первые 10 строк файла \" Количество рейсов для каждого города в сентябре 2018 \", отсортированные по убыванию\n"
     ]
    },
    {
     "data": {
      "text/html": [
       "<div>\n",
       "<style scoped>\n",
       "    .dataframe tbody tr th:only-of-type {\n",
       "        vertical-align: middle;\n",
       "    }\n",
       "\n",
       "    .dataframe tbody tr th {\n",
       "        vertical-align: top;\n",
       "    }\n",
       "\n",
       "    .dataframe thead th {\n",
       "        text-align: right;\n",
       "    }\n",
       "</style>\n",
       "<table border=\"1\" class=\"dataframe\">\n",
       "  <thead>\n",
       "    <tr style=\"text-align: right;\">\n",
       "      <th></th>\n",
       "      <th>city</th>\n",
       "      <th>average_flights</th>\n",
       "    </tr>\n",
       "  </thead>\n",
       "  <tbody>\n",
       "    <tr>\n",
       "      <td>43</td>\n",
       "      <td>Москва</td>\n",
       "      <td>129.774194</td>\n",
       "    </tr>\n",
       "    <tr>\n",
       "      <td>70</td>\n",
       "      <td>Санкт-Петербург</td>\n",
       "      <td>31.161290</td>\n",
       "    </tr>\n",
       "    <tr>\n",
       "      <td>54</td>\n",
       "      <td>Новосибирск</td>\n",
       "      <td>17.322581</td>\n",
       "    </tr>\n",
       "    <tr>\n",
       "      <td>33</td>\n",
       "      <td>Красноярск</td>\n",
       "      <td>11.580645</td>\n",
       "    </tr>\n",
       "    <tr>\n",
       "      <td>20</td>\n",
       "      <td>Екатеринбург</td>\n",
       "      <td>11.322581</td>\n",
       "    </tr>\n",
       "    <tr>\n",
       "      <td>67</td>\n",
       "      <td>Ростов-на-Дону</td>\n",
       "      <td>10.193548</td>\n",
       "    </tr>\n",
       "    <tr>\n",
       "      <td>63</td>\n",
       "      <td>Пермь</td>\n",
       "      <td>10.129032</td>\n",
       "    </tr>\n",
       "    <tr>\n",
       "      <td>10</td>\n",
       "      <td>Брянск</td>\n",
       "      <td>10.000000</td>\n",
       "    </tr>\n",
       "    <tr>\n",
       "      <td>74</td>\n",
       "      <td>Сочи</td>\n",
       "      <td>9.612903</td>\n",
       "    </tr>\n",
       "    <tr>\n",
       "      <td>84</td>\n",
       "      <td>Ульяновск</td>\n",
       "      <td>9.580645</td>\n",
       "    </tr>\n",
       "  </tbody>\n",
       "</table>\n",
       "</div>"
      ],
      "text/plain": [
       "               city  average_flights\n",
       "43           Москва       129.774194\n",
       "70  Санкт-Петербург        31.161290\n",
       "54      Новосибирск        17.322581\n",
       "33       Красноярск        11.580645\n",
       "20     Екатеринбург        11.322581\n",
       "67   Ростов-на-Дону        10.193548\n",
       "63            Пермь        10.129032\n",
       "10           Брянск        10.000000\n",
       "74             Сочи         9.612903\n",
       "84        Ульяновск         9.580645"
      ]
     },
     "metadata": {},
     "output_type": "display_data"
    },
    {
     "name": "stdout",
     "output_type": "stream",
     "text": [
      "Первые 10 строк файла \" Количество рейсов для каждого города в сентябре 2018 \", отсортированные по возрастанию\n"
     ]
    },
    {
     "data": {
      "text/html": [
       "<div>\n",
       "<style scoped>\n",
       "    .dataframe tbody tr th:only-of-type {\n",
       "        vertical-align: middle;\n",
       "    }\n",
       "\n",
       "    .dataframe tbody tr th {\n",
       "        vertical-align: top;\n",
       "    }\n",
       "\n",
       "    .dataframe thead th {\n",
       "        text-align: right;\n",
       "    }\n",
       "</style>\n",
       "<table border=\"1\" class=\"dataframe\">\n",
       "  <thead>\n",
       "    <tr style=\"text-align: right;\">\n",
       "      <th></th>\n",
       "      <th>city</th>\n",
       "      <th>average_flights</th>\n",
       "    </tr>\n",
       "  </thead>\n",
       "  <tbody>\n",
       "    <tr>\n",
       "      <td>8</td>\n",
       "      <td>Благовещенск</td>\n",
       "      <td>1.0</td>\n",
       "    </tr>\n",
       "    <tr>\n",
       "      <td>1</td>\n",
       "      <td>Анадырь</td>\n",
       "      <td>1.0</td>\n",
       "    </tr>\n",
       "    <tr>\n",
       "      <td>31</td>\n",
       "      <td>Комсомольск-на-Амуре</td>\n",
       "      <td>1.0</td>\n",
       "    </tr>\n",
       "    <tr>\n",
       "      <td>76</td>\n",
       "      <td>Стрежевой</td>\n",
       "      <td>1.0</td>\n",
       "    </tr>\n",
       "    <tr>\n",
       "      <td>49</td>\n",
       "      <td>Нефтеюганск</td>\n",
       "      <td>1.0</td>\n",
       "    </tr>\n",
       "    <tr>\n",
       "      <td>65</td>\n",
       "      <td>Петропавловск-Камчатский</td>\n",
       "      <td>1.0</td>\n",
       "    </tr>\n",
       "    <tr>\n",
       "      <td>88</td>\n",
       "      <td>Усть-Кут</td>\n",
       "      <td>1.0</td>\n",
       "    </tr>\n",
       "    <tr>\n",
       "      <td>22</td>\n",
       "      <td>Ижевск</td>\n",
       "      <td>1.0</td>\n",
       "    </tr>\n",
       "    <tr>\n",
       "      <td>9</td>\n",
       "      <td>Братск</td>\n",
       "      <td>1.0</td>\n",
       "    </tr>\n",
       "    <tr>\n",
       "      <td>21</td>\n",
       "      <td>Иваново</td>\n",
       "      <td>1.0</td>\n",
       "    </tr>\n",
       "  </tbody>\n",
       "</table>\n",
       "</div>"
      ],
      "text/plain": [
       "                        city  average_flights\n",
       "8               Благовещенск              1.0\n",
       "1                    Анадырь              1.0\n",
       "31      Комсомольск-на-Амуре              1.0\n",
       "76                 Стрежевой              1.0\n",
       "49               Нефтеюганск              1.0\n",
       "65  Петропавловск-Камчатский              1.0\n",
       "88                  Усть-Кут              1.0\n",
       "22                    Ижевск              1.0\n",
       "9                     Братск              1.0\n",
       "21                   Иваново              1.0"
      ]
     },
     "metadata": {},
     "output_type": "display_data"
    },
    {
     "name": "stdout",
     "output_type": "stream",
     "text": [
      "Общая информация о файле:  Количество рейсов для каждого города в сентябре 2018\n",
      "<class 'pandas.core.frame.DataFrame'>\n",
      "RangeIndex: 101 entries, 0 to 100\n",
      "Data columns (total 2 columns):\n",
      "city               101 non-null object\n",
      "average_flights    101 non-null float64\n",
      "dtypes: float64(1), object(1)\n",
      "memory usage: 1.7+ KB\n",
      "None\n"
     ]
    }
   ],
   "source": [
    "file_city = print_file_info(fp2,'Количество рейсов для каждого города в сентябре 2018','average_flights')"
   ]
  },
  {
   "cell_type": "markdown",
   "metadata": {},
   "source": [
    "В таблице \"Количество рейсов для каждого города в сентябре 2018\" содержится 101 запись, пропусков нет. Тип данных для столбца  совпадает с ожидаемым, в то время как тип данных для столбца average_flights - float. В запросе действительно считали среднее значение, которое вполне может быть не целочисленным, однако в данной задаче такая точность ни к чему, поэтому уместно будет преобразовать тип данных в int:"
   ]
  },
  {
   "cell_type": "code",
   "execution_count": 5,
   "metadata": {},
   "outputs": [
    {
     "name": "stdout",
     "output_type": "stream",
     "text": [
      "<class 'pandas.core.frame.DataFrame'>\n",
      "RangeIndex: 101 entries, 0 to 100\n",
      "Data columns (total 2 columns):\n",
      "city               101 non-null object\n",
      "average_flights    101 non-null int64\n",
      "dtypes: int64(1), object(1)\n",
      "memory usage: 1.7+ KB\n"
     ]
    }
   ],
   "source": [
    "file_city['average_flights'] = file_city['average_flights'].apply(lambda x: int(x))\n",
    "file_city.info()"
   ]
  },
  {
   "cell_type": "markdown",
   "metadata": {},
   "source": [
    "<b>Вывод</b><br>\n",
    "Можем видеть, что в перечень городов с наибольшим количеством рейсов попали Москва, Санкт-Петербург, а также крупные региональные центры, такие как Новосибирск, Красноярск, Екатеринбург, а также южные туристические города - Сочи и Ростов-на-Дону.\n",
    "Города с самым маленьким средним количеством рейсов в день - по 1 рейсу - все досаточно маленькие города, большая часть которых находится на Севере. <br>\n",
    "Построим ниже графики и увидим более полную картину"
   ]
  },
  {
   "cell_type": "markdown",
   "metadata": {},
   "source": [
    "<h3>Графики</h3>"
   ]
  },
  {
   "cell_type": "markdown",
   "metadata": {},
   "source": [
    "Напишем функцию для отрисовки графиков: столбчатой диаграммы и круговой диаграммы. На круговой диаграмме будем рассматривать доли только первых 10 (с наивысшими показателями), все остальные строки, если они есть, заменим на \"Остальные\" "
   ]
  },
  {
   "cell_type": "code",
   "execution_count": 6,
   "metadata": {},
   "outputs": [],
   "source": [
    "def print_bar_pie_chart(file,x,y, filename):\n",
    "    file = file.sort_values(by = y, ascending = False)\n",
    "    \n",
    "    if len(file) > 15:\n",
    "        print(' ')\n",
    "        plt.rcParams['figure.figsize']=(20,60)\n",
    "    else:\n",
    "        print(' ')\n",
    "        plt.rcParams['figure.figsize']=(8,8)\n",
    "    g = sns.barplot(x=file[y],y=file[x])\n",
    "    plt.title('Столбчатая диаграмма '+ filename)\n",
    "    plt.show()\n",
    "    \n",
    "    file = file.reset_index()\n",
    "    max_postf = ''\n",
    "    file=file[[x,y]]\n",
    "    for i in range(len(file)):\n",
    "        if i>10:\n",
    "            file.loc[i,x] = 'Остальные'\n",
    "            max_postf = '(доли для 10 самых популярных среди всех)'\n",
    "\n",
    "    file.groupby(x).sum().plot(kind='pie', subplots=True, autopct='%1.1f%%', figsize = (7,7))\n",
    "    plt.title('Круговая диаграмма (доли)' + filename +' ' + max_postf)\n",
    "    plt.ylabel('')\n",
    "    plt.legend('')\n",
    "    plt.show()"
   ]
  },
  {
   "cell_type": "markdown",
   "metadata": {},
   "source": [
    "<h4>Графики \"модели самолетов и количество рейсов\"</h4>"
   ]
  },
  {
   "cell_type": "code",
   "execution_count": 7,
   "metadata": {},
   "outputs": [
    {
     "name": "stdout",
     "output_type": "stream",
     "text": [
      " \n"
     ]
    },
    {
     "data": {
      "image/png": "[encoded data removed]",
      "text/plain": [
       "<Figure size 576x576 with 1 Axes>"
      ]
     },
     "metadata": {
      "needs_background": "light"
     },
     "output_type": "display_data"
    },
    {
     "data": {
      "image/png": "[encoded data removed]",
      "text/plain": [
       "<Figure size 504x504 with 1 Axes>"
      ]
     },
     "metadata": {},
     "output_type": "display_data"
    }
   ],
   "source": [
    "print_bar_pie_chart(file_model,'model','flights_amount','Количество рейсов для каждой модели в сентябре 2018')"
   ]
  },
  {
   "cell_type": "markdown",
   "metadata": {},
   "source": [
    "<b>Вывод</b><br>\n",
    "Как и говорилось ранее, наибольшую долю рейсов осуществляют следующие самолеты: Cessna 208 Caravan, Bombardier CRJ-200, Sukhoi SuperJet-100 осуществили 81% рейсов. Доли всех остальных не превышают 6%.  <br>\n",
    "Стоит отметить, что рекордсмен по количеству рейсов - Cessna 208 Caravan  - маленький одномоторный турбовинтовой самолет, предназначенный для перевозки небольшого количества пассажиров на небольшие расстояния. Очевидно, что в авиакомпании такие рейсы пользуются большой популярностью (возможно, для перевозки в ближайшие города или перевозки небольших, но ценных грузов).<br>\n",
    "Второй по количетсву рейсов  - Bombardier CRJ-200 - также рассчитан на небольшое количество пассажиров (однако, большее, нежели Cessna 208 Caravan). Также может быть использован для перевозки некоторых грузов, перевозки пассажиров в ближайшие города, либо для перевозки воинских подразделений.<br>\n",
    "Третий  -  уже более крупный самолет - Sukhoi SuperJet-100 - рассчитан на перевозку 87-108 пассажиров, что в некотрых модификациях может быть больше, чем у Bombardier CRJ-200.<br>\n",
    "Все остальные самолеты расчитаны на перевозку большого количества пассажиров. Так, Airbus A321 вмещают 170-220 пассажиров, дальность их полета - 5600 км, а Boeing 777-300\tвмещает 305-550 пассажиров, дальность полетов может доходить до 17500 км.<br>\n",
    "Очевидно, что в авиакомпании чаще всего используются маленькие самолеты, рассчитанные на небольшую дальность полета, потому что спрос на такие рейсы достаточно высок, и выгоднее здесь запустить \"чаще, но понемногу\", чем \"редко, но много\". Однако большие самолеты с высокой дальностью полета также активно используются, где это необходимо.\n",
    "    "
   ]
  },
  {
   "cell_type": "markdown",
   "metadata": {},
   "source": [
    "<h4>Графики \"города и количество рейсов\"</h4>"
   ]
  },
  {
   "cell_type": "code",
   "execution_count": 8,
   "metadata": {
    "scrolled": false
   },
   "outputs": [
    {
     "name": "stdout",
     "output_type": "stream",
     "text": [
      " \n"
     ]
    },
    {
     "data": {
      "image/png": "[encoded data removed]",
      "text/plain": [
       "<Figure size 1440x4320 with 1 Axes>"
      ]
     },
     "metadata": {
      "needs_background": "light"
     },
     "output_type": "display_data"
    },
    {
     "data": {
      "image/png": "[encoded data removed]",
      "text/plain": [
       "<Figure size 504x504 with 1 Axes>"
      ]
     },
     "metadata": {},
     "output_type": "display_data"
    }
   ],
   "source": [
    "print_bar_pie_chart(file_city,'city','average_flights','Количество рейсов для каждого города в сентябре 2018')"
   ]
  },
  {
   "cell_type": "markdown",
   "metadata": {},
   "source": [
    "<b>Вывод</b><br>\n",
    "Наблюдается явный дисбаланс в количестве рейсов среди городов. Абсолютный лидер - Москва. Доля всех рейсов из Москвы - 24,5%. На втором месте - Санкт Петербург с долей всего 5,9%. На третьем - Новосибирск с долей 3,2%, на четвертом и пятом - Красноярск и Екатеринбург с долей 2,1%. Доли всех остальных городов не превышают 2% для каждого города. При этом 51.4% рейса совершаются в городах, где доля рейсов для каждого города менее 1,7%. Это говорит о полной завязке всех рейсов между городами РФ на Москве (а также наибольшем потоке рейсов за границу) <br>\n",
    "Рассмотрим более подробно ТОП-10 городов"
   ]
  },
  {
   "cell_type": "markdown",
   "metadata": {},
   "source": [
    "<h4>Графики \"ТОП-10 городов и количество рейсов\"</h4>"
   ]
  },
  {
   "cell_type": "code",
   "execution_count": 9,
   "metadata": {},
   "outputs": [
    {
     "name": "stdout",
     "output_type": "stream",
     "text": [
      " \n"
     ]
    },
    {
     "data": {
      "image/png": "[encoded data removed]",
      "text/plain": [
       "<Figure size 576x576 with 1 Axes>"
      ]
     },
     "metadata": {
      "needs_background": "light"
     },
     "output_type": "display_data"
    },
    {
     "data": {
      "image/png": "[encoded data removed]",
      "text/plain": [
       "<Figure size 504x504 with 1 Axes>"
      ]
     },
     "metadata": {},
     "output_type": "display_data"
    }
   ],
   "source": [
    "print_bar_pie_chart(file_city.sort_values(by = 'average_flights', ascending = False).head(11),'city','average_flights','Количество рейсов для ТОП-10 городов в сентябре 2018')"
   ]
  },
  {
   "cell_type": "markdown",
   "metadata": {},
   "source": [
    "<b>Вывод</b><br>\n",
    "Можно видеть, что самый популярный город по количеству вылетов - Москва (52,2% среди ТОП-10), что вполне естественно, потому что из Москвы есть рейсы в большинство городов РФ, а также из Москвы открыто наибольшее количество заграничных направлений.<br>\n",
    "Второй по количетсву вылетов - Санкт - Петербуг (как и по количеству жителей в РФ), однако среднее количество вылетов в день здесь более чем в 4 раза меньше(12,6% среди ТОП-10), чем в Москве (из Москвы действиельно выше поток и аэропортов больше).<br>\n",
    "Третий - Новосибирск. Крупный региональный центр с населением сыше 1 млн человек, удачно близко располооженный (в сравнении с Москвой и Санкт-Петербургом) к Китаю, Тайланду, Монголии и Казахстану. Через него довольно удобно делать рейсы в эти направления, а также достаточно большое количество ежедневных рейсов в Москву и Санкт-Петербург (что нужно как жителям Новосибирской области, так и жителям близлежащи регионов - например, Алтайского края, где всего 1-2 рейса в день в этом направлении).<br>\n",
    "Также в 10 самых популярных по количеству вылетов городов попали такие крупные региональные центры как Екатеринбург,Красноярск И Пермь; а также Ростов-на-Дону и Сочи, но эти города либо сами являются туристическим центрами, либо близко к ним расположены.<br>\n",
    "Такие города как Брянск и Ульяновск не являются крупными городами, однако попали в перечень 10 городов с самым большим количеством рейсов. Из данных аэропортов регулярно совершаются рейсы в Москву, Санкт-Петербург, Симферополь, Казань, а также ряд других городов туристического направления. Также в перечень попал город Советский (как 11 город. На самом деле, в изначальной сортировке он в этот список не попадал, но после приведения к целочисленному значения поля average_flights для г. Советский и г. Сочи сравнялись, и теперь при выводе ТОП-10 в список попадал не Сочи, а Советский, поэтому его тоже решено было взять в анализ). В самом деле, из г. Советский достаточно большое количество рейсов в разные города Ханты-Мансийского АО, очевидно, это один из тех городов где популярны рейсы на маловместительных самолетах, рассчитанных на небольшую дальность. <br>\n"
   ]
  }
 ],
 "metadata": {
  "ExecuteTimeLog": [
   {
    "duration": 1418,
    "start_time": "2021-08-15T19:48:11.214Z"
   },
   {
    "duration": 5,
    "start_time": "2021-08-15T19:52:41.233Z"
   },
   {
    "duration": 598,
    "start_time": "2021-08-15T19:53:31.803Z"
   },
   {
    "duration": 5,
    "start_time": "2021-08-15T19:53:46.434Z"
   },
   {
    "duration": 521,
    "start_time": "2021-08-15T19:53:47.969Z"
   },
   {
    "duration": 4,
    "start_time": "2021-08-15T19:53:56.509Z"
   },
   {
    "duration": 2060,
    "start_time": "2021-08-15T19:53:57.961Z"
   },
   {
    "duration": 5,
    "start_time": "2021-08-15T19:58:23.931Z"
   },
   {
    "duration": 35,
    "start_time": "2021-08-15T19:58:24.771Z"
   },
   {
    "duration": 5,
    "start_time": "2021-08-15T19:58:39.417Z"
   },
   {
    "duration": 26,
    "start_time": "2021-08-15T19:58:40.460Z"
   },
   {
    "duration": 5,
    "start_time": "2021-08-15T19:58:46.941Z"
   },
   {
    "duration": 26,
    "start_time": "2021-08-15T19:59:27.755Z"
   },
   {
    "duration": 39,
    "start_time": "2021-08-15T19:59:35.839Z"
   },
   {
    "duration": 6,
    "start_time": "2021-08-15T20:06:12.430Z"
   },
   {
    "duration": 31,
    "start_time": "2021-08-15T20:06:33.643Z"
   },
   {
    "duration": 48,
    "start_time": "2021-08-15T20:06:58.881Z"
   },
   {
    "duration": 6,
    "start_time": "2021-08-15T20:07:36.623Z"
   },
   {
    "duration": 26,
    "start_time": "2021-08-15T20:07:37.193Z"
   },
   {
    "duration": 36,
    "start_time": "2021-08-15T20:07:39.392Z"
   },
   {
    "duration": 6,
    "start_time": "2021-08-15T20:07:59.847Z"
   },
   {
    "duration": 27,
    "start_time": "2021-08-15T20:08:00.510Z"
   },
   {
    "duration": 36,
    "start_time": "2021-08-15T20:08:03.934Z"
   },
   {
    "duration": 3,
    "start_time": "2021-08-15T20:18:55.912Z"
   },
   {
    "duration": 7,
    "start_time": "2021-08-15T20:18:55.918Z"
   },
   {
    "duration": 35,
    "start_time": "2021-08-15T20:18:55.927Z"
   },
   {
    "duration": 37,
    "start_time": "2021-08-15T20:18:55.964Z"
   },
   {
    "duration": 1077,
    "start_time": "2021-08-16T07:19:52.905Z"
   },
   {
    "duration": 4,
    "start_time": "2021-08-16T07:19:53.984Z"
   },
   {
    "duration": 34,
    "start_time": "2021-08-16T07:19:53.990Z"
   },
   {
    "duration": 30,
    "start_time": "2021-08-16T07:19:54.026Z"
   },
   {
    "duration": 4,
    "start_time": "2021-08-16T07:27:00.247Z"
   },
   {
    "duration": 30,
    "start_time": "2021-08-16T07:27:03.060Z"
   },
   {
    "duration": 4,
    "start_time": "2021-08-16T07:29:28.074Z"
   },
   {
    "duration": 25,
    "start_time": "2021-08-16T07:30:19.876Z"
   },
   {
    "duration": 31,
    "start_time": "2021-08-16T07:30:35.391Z"
   },
   {
    "duration": 361,
    "start_time": "2021-08-16T07:32:31.658Z"
   },
   {
    "duration": 6,
    "start_time": "2021-08-16T07:32:35.605Z"
   },
   {
    "duration": 285,
    "start_time": "2021-08-16T07:33:15.791Z"
   },
   {
    "duration": 6,
    "start_time": "2021-08-16T07:33:48.740Z"
   },
   {
    "duration": 3,
    "start_time": "2021-08-16T08:30:47.776Z"
   },
   {
    "duration": 561,
    "start_time": "2021-08-16T08:31:41.751Z"
   },
   {
    "duration": 557,
    "start_time": "2021-08-16T08:32:26.867Z"
   },
   {
    "duration": 273,
    "start_time": "2021-08-16T08:33:28.856Z"
   },
   {
    "duration": 445,
    "start_time": "2021-08-16T08:33:38.924Z"
   },
   {
    "duration": 318,
    "start_time": "2021-08-16T08:35:05.259Z"
   },
   {
    "duration": 280,
    "start_time": "2021-08-16T08:35:16.707Z"
   },
   {
    "duration": 266,
    "start_time": "2021-08-16T08:35:28.235Z"
   },
   {
    "duration": 167,
    "start_time": "2021-08-16T08:36:59.597Z"
   },
   {
    "duration": 566,
    "start_time": "2021-08-16T08:38:51.875Z"
   },
   {
    "duration": 831,
    "start_time": "2021-08-16T08:39:01.389Z"
   },
   {
    "duration": 94,
    "start_time": "2021-08-16T08:39:42.821Z"
   },
   {
    "duration": 3,
    "start_time": "2021-08-16T08:39:47.941Z"
   },
   {
    "duration": 798,
    "start_time": "2021-08-16T08:39:50.519Z"
   },
   {
    "duration": 465,
    "start_time": "2021-08-16T08:40:09.136Z"
   },
   {
    "duration": 158,
    "start_time": "2021-08-16T08:40:16.063Z"
   },
   {
    "duration": 160,
    "start_time": "2021-08-16T08:41:17.002Z"
   },
   {
    "duration": 92,
    "start_time": "2021-08-16T08:41:38.520Z"
   },
   {
    "duration": 3,
    "start_time": "2021-08-16T08:41:59.251Z"
   },
   {
    "duration": 154,
    "start_time": "2021-08-16T08:42:02.120Z"
   },
   {
    "duration": 168,
    "start_time": "2021-08-16T08:43:11.342Z"
   },
   {
    "duration": 159,
    "start_time": "2021-08-16T08:43:24.263Z"
   },
   {
    "duration": 163,
    "start_time": "2021-08-16T08:43:32.509Z"
   },
   {
    "duration": 3,
    "start_time": "2021-08-16T08:47:16.964Z"
   },
   {
    "duration": 215,
    "start_time": "2021-08-16T08:47:18.365Z"
   },
   {
    "duration": 161,
    "start_time": "2021-08-16T08:47:20.255Z"
   },
   {
    "duration": 6,
    "start_time": "2021-08-16T11:14:08.224Z"
   },
   {
    "duration": 1561,
    "start_time": "2021-08-16T11:14:11.844Z"
   },
   {
    "duration": 6,
    "start_time": "2021-08-16T11:14:13.408Z"
   },
   {
    "duration": 41,
    "start_time": "2021-08-16T11:14:13.416Z"
   },
   {
    "duration": 42,
    "start_time": "2021-08-16T11:14:13.460Z"
   },
   {
    "duration": 10,
    "start_time": "2021-08-16T11:14:13.504Z"
   },
   {
    "duration": 11,
    "start_time": "2021-08-16T11:14:13.516Z"
   },
   {
    "duration": 345,
    "start_time": "2021-08-16T11:14:13.529Z"
   },
   {
    "duration": 2054,
    "start_time": "2021-08-16T11:14:13.876Z"
   },
   {
    "duration": 7,
    "start_time": "2021-08-16T11:14:23.037Z"
   },
   {
    "duration": 366,
    "start_time": "2021-08-16T11:14:23.870Z"
   },
   {
    "duration": 2254,
    "start_time": "2021-08-16T11:14:25.372Z"
   },
   {
    "duration": 6,
    "start_time": "2021-08-16T11:15:01.640Z"
   },
   {
    "duration": 1477,
    "start_time": "2021-08-16T11:15:04.482Z"
   },
   {
    "duration": 6,
    "start_time": "2021-08-16T11:17:36.093Z"
   },
   {
    "duration": 298,
    "start_time": "2021-08-16T11:17:37.850Z"
   },
   {
    "duration": 475,
    "start_time": "2021-08-16T11:17:43.013Z"
   },
   {
    "duration": 6,
    "start_time": "2021-08-16T11:21:15.618Z"
   },
   {
    "duration": 292,
    "start_time": "2021-08-16T11:21:16.927Z"
   },
   {
    "duration": 1025,
    "start_time": "2021-08-16T11:21:17.583Z"
   },
   {
    "duration": 6,
    "start_time": "2021-08-16T11:21:26.067Z"
   },
   {
    "duration": 283,
    "start_time": "2021-08-16T11:21:27.605Z"
   },
   {
    "duration": 440,
    "start_time": "2021-08-16T11:21:28.253Z"
   },
   {
    "duration": 6,
    "start_time": "2021-08-16T11:23:30.671Z"
   },
   {
    "duration": 297,
    "start_time": "2021-08-16T11:23:31.953Z"
   },
   {
    "duration": 559,
    "start_time": "2021-08-16T11:23:32.593Z"
   },
   {
    "duration": 5,
    "start_time": "2021-08-16T11:26:02.029Z"
   },
   {
    "duration": 6,
    "start_time": "2021-08-16T11:29:50.871Z"
   },
   {
    "duration": 714,
    "start_time": "2021-08-16T11:29:54.600Z"
   },
   {
    "duration": 6,
    "start_time": "2021-08-16T11:33:54.226Z"
   },
   {
    "duration": 553,
    "start_time": "2021-08-16T11:33:55.171Z"
   },
   {
    "duration": 6,
    "start_time": "2021-08-16T11:34:32.858Z"
   },
   {
    "duration": 581,
    "start_time": "2021-08-16T11:34:33.790Z"
   },
   {
    "duration": 6,
    "start_time": "2021-08-16T11:35:33.019Z"
   },
   {
    "duration": 561,
    "start_time": "2021-08-16T11:35:33.838Z"
   },
   {
    "duration": 7,
    "start_time": "2021-08-16T11:35:52.311Z"
   },
   {
    "duration": 672,
    "start_time": "2021-08-16T11:35:53.046Z"
   },
   {
    "duration": 6,
    "start_time": "2021-08-16T11:39:25.948Z"
   },
   {
    "duration": 661,
    "start_time": "2021-08-16T11:39:26.964Z"
   },
   {
    "duration": 1425,
    "start_time": "2021-08-16T11:39:40.926Z"
   },
   {
    "duration": 6,
    "start_time": "2021-08-16T11:39:42.355Z"
   },
   {
    "duration": 45,
    "start_time": "2021-08-16T11:39:42.365Z"
   },
   {
    "duration": 73,
    "start_time": "2021-08-16T11:39:42.413Z"
   },
   {
    "duration": 10,
    "start_time": "2021-08-16T11:39:42.489Z"
   },
   {
    "duration": 7,
    "start_time": "2021-08-16T11:39:42.502Z"
   },
   {
    "duration": 799,
    "start_time": "2021-08-16T11:39:42.511Z"
   },
   {
    "duration": 669,
    "start_time": "2021-08-16T11:41:42.321Z"
   },
   {
    "duration": 7,
    "start_time": "2021-08-16T11:42:42.390Z"
   },
   {
    "duration": 2410,
    "start_time": "2021-08-16T11:42:43.316Z"
   },
   {
    "duration": 6,
    "start_time": "2021-08-16T11:43:02.352Z"
   },
   {
    "duration": 1541,
    "start_time": "2021-08-16T11:43:03.496Z"
   },
   {
    "duration": 6,
    "start_time": "2021-08-16T11:43:20.872Z"
   },
   {
    "duration": 1475,
    "start_time": "2021-08-16T11:43:21.659Z"
   },
   {
    "duration": 7,
    "start_time": "2021-08-16T11:43:56.765Z"
   },
   {
    "duration": 1787,
    "start_time": "2021-08-16T11:43:57.426Z"
   },
   {
    "duration": 6,
    "start_time": "2021-08-16T11:47:04.374Z"
   },
   {
    "duration": 705,
    "start_time": "2021-08-16T11:47:05.315Z"
   },
   {
    "duration": 6,
    "start_time": "2021-08-16T11:48:11.682Z"
   },
   {
    "duration": 702,
    "start_time": "2021-08-16T11:48:12.533Z"
   },
   {
    "duration": 5,
    "start_time": "2021-08-16T11:52:15.923Z"
   },
   {
    "duration": 775,
    "start_time": "2021-08-16T11:52:16.860Z"
   },
   {
    "duration": 6,
    "start_time": "2021-08-16T11:52:44.093Z"
   },
   {
    "duration": 722,
    "start_time": "2021-08-16T11:52:44.849Z"
   },
   {
    "duration": 5,
    "start_time": "2021-08-16T11:53:23.351Z"
   },
   {
    "duration": 802,
    "start_time": "2021-08-16T11:53:23.926Z"
   },
   {
    "duration": 6,
    "start_time": "2021-08-16T11:55:17.672Z"
   },
   {
    "duration": 1412,
    "start_time": "2021-08-16T11:55:18.309Z"
   },
   {
    "duration": 6,
    "start_time": "2021-08-16T11:59:44.318Z"
   },
   {
    "duration": 541,
    "start_time": "2021-08-16T11:59:45.267Z"
   },
   {
    "duration": 6,
    "start_time": "2021-08-16T12:02:12.362Z"
   },
   {
    "duration": 710,
    "start_time": "2021-08-16T12:02:13.453Z"
   },
   {
    "duration": 5,
    "start_time": "2021-08-16T12:03:37.751Z"
   },
   {
    "duration": 754,
    "start_time": "2021-08-16T12:03:39.467Z"
   },
   {
    "duration": 8,
    "start_time": "2021-08-16T12:04:25.717Z"
   },
   {
    "duration": 658,
    "start_time": "2021-08-16T12:04:26.908Z"
   },
   {
    "duration": 6,
    "start_time": "2021-08-16T12:04:38.505Z"
   },
   {
    "duration": 652,
    "start_time": "2021-08-16T12:04:39.833Z"
   },
   {
    "duration": 6,
    "start_time": "2021-08-16T12:07:09.654Z"
   },
   {
    "duration": 539,
    "start_time": "2021-08-16T12:07:10.903Z"
   },
   {
    "duration": 137,
    "start_time": "2021-08-16T12:10:16.976Z"
   },
   {
    "duration": 532,
    "start_time": "2021-08-16T12:10:17.797Z"
   },
   {
    "duration": 125,
    "start_time": "2021-08-16T12:11:41.307Z"
   },
   {
    "duration": 7,
    "start_time": "2021-08-16T12:13:52.018Z"
   },
   {
    "duration": 2030,
    "start_time": "2021-08-16T12:13:52.811Z"
   },
   {
    "duration": 10,
    "start_time": "2021-08-16T12:15:53.578Z"
   },
   {
    "duration": 2168,
    "start_time": "2021-08-16T12:15:54.444Z"
   },
   {
    "duration": 5,
    "start_time": "2021-08-16T12:16:02.208Z"
   },
   {
    "duration": 723,
    "start_time": "2021-08-16T12:16:03.079Z"
   },
   {
    "duration": 6,
    "start_time": "2021-08-16T12:16:47.463Z"
   },
   {
    "duration": 518,
    "start_time": "2021-08-16T12:16:48.083Z"
   },
   {
    "duration": 7,
    "start_time": "2021-08-16T12:21:20.850Z"
   },
   {
    "duration": 649,
    "start_time": "2021-08-16T12:21:21.349Z"
   },
   {
    "duration": 7,
    "start_time": "2021-08-16T12:22:26.447Z"
   },
   {
    "duration": 1316,
    "start_time": "2021-08-16T12:22:27.099Z"
   },
   {
    "duration": 7,
    "start_time": "2021-08-16T12:24:43.571Z"
   },
   {
    "duration": 1342,
    "start_time": "2021-08-16T12:24:44.367Z"
   },
   {
    "duration": 7,
    "start_time": "2021-08-16T12:25:02.125Z"
   },
   {
    "duration": 2157,
    "start_time": "2021-08-16T12:25:02.873Z"
   },
   {
    "duration": 135,
    "start_time": "2021-08-16T12:27:37.128Z"
   },
   {
    "duration": 126,
    "start_time": "2021-08-16T12:27:46.902Z"
   },
   {
    "duration": 125,
    "start_time": "2021-08-16T12:27:53.729Z"
   },
   {
    "duration": 125,
    "start_time": "2021-08-16T12:29:32.586Z"
   },
   {
    "duration": 6,
    "start_time": "2021-08-16T12:29:37.437Z"
   },
   {
    "duration": 2309,
    "start_time": "2021-08-16T12:29:38.416Z"
   },
   {
    "duration": 7,
    "start_time": "2021-08-16T12:31:49.128Z"
   },
   {
    "duration": 1269,
    "start_time": "2021-08-16T12:31:50.222Z"
   },
   {
    "duration": 8,
    "start_time": "2021-08-16T12:32:52.605Z"
   },
   {
    "duration": 1484,
    "start_time": "2021-08-16T12:32:53.246Z"
   },
   {
    "duration": 7,
    "start_time": "2021-08-16T12:45:29.368Z"
   },
   {
    "duration": 572,
    "start_time": "2021-08-16T12:45:31.054Z"
   },
   {
    "duration": 7,
    "start_time": "2021-08-16T12:48:37.595Z"
   },
   {
    "duration": 373,
    "start_time": "2021-08-16T12:48:38.162Z"
   },
   {
    "duration": 1008,
    "start_time": "2021-08-16T12:49:14.777Z"
   },
   {
    "duration": 7,
    "start_time": "2021-08-16T12:49:49.044Z"
   },
   {
    "duration": 569,
    "start_time": "2021-08-16T12:49:49.508Z"
   },
   {
    "duration": 704,
    "start_time": "2021-08-16T12:50:56.626Z"
   },
   {
    "duration": 4670,
    "start_time": "2021-08-16T12:52:31.920Z"
   },
   {
    "duration": 7,
    "start_time": "2021-08-16T12:53:36.724Z"
   },
   {
    "duration": 2826,
    "start_time": "2021-08-16T12:53:42.624Z"
   },
   {
    "duration": 8,
    "start_time": "2021-08-16T12:54:46.634Z"
   },
   {
    "duration": 674,
    "start_time": "2021-08-16T12:54:48.109Z"
   },
   {
    "duration": 2991,
    "start_time": "2021-08-16T12:54:52.594Z"
   },
   {
    "duration": 9,
    "start_time": "2021-08-16T13:00:37.638Z"
   },
   {
    "duration": 835,
    "start_time": "2021-08-16T13:00:40.265Z"
   },
   {
    "duration": 3606,
    "start_time": "2021-08-16T13:00:44.308Z"
   },
   {
    "duration": 9,
    "start_time": "2021-08-16T13:01:00.574Z"
   },
   {
    "duration": 3266,
    "start_time": "2021-08-16T13:01:05.544Z"
   },
   {
    "duration": 8,
    "start_time": "2021-08-16T13:04:16.819Z"
   },
   {
    "duration": 550,
    "start_time": "2021-08-16T13:04:18.170Z"
   },
   {
    "duration": 3132,
    "start_time": "2021-08-16T13:04:21.676Z"
   },
   {
    "duration": 9,
    "start_time": "2021-08-16T13:04:39.016Z"
   },
   {
    "duration": 3102,
    "start_time": "2021-08-16T13:04:43.298Z"
   },
   {
    "duration": 9,
    "start_time": "2021-08-16T13:05:02.293Z"
   },
   {
    "duration": 3229,
    "start_time": "2021-08-16T13:05:07.688Z"
   },
   {
    "duration": 7,
    "start_time": "2021-08-16T13:05:30.189Z"
   },
   {
    "duration": 3541,
    "start_time": "2021-08-16T13:05:34.258Z"
   },
   {
    "duration": 8,
    "start_time": "2021-08-16T13:05:49.272Z"
   },
   {
    "duration": 3815,
    "start_time": "2021-08-16T13:05:52.946Z"
   },
   {
    "duration": 8,
    "start_time": "2021-08-16T13:12:04.527Z"
   },
   {
    "duration": 1982,
    "start_time": "2021-08-16T13:12:07.053Z"
   },
   {
    "duration": 4098,
    "start_time": "2021-08-16T13:12:09.176Z"
   },
   {
    "duration": 9,
    "start_time": "2021-08-16T13:12:41.192Z"
   },
   {
    "duration": 1798,
    "start_time": "2021-08-16T13:12:42.260Z"
   },
   {
    "duration": 3188,
    "start_time": "2021-08-16T13:12:56.206Z"
   },
   {
    "duration": 1808,
    "start_time": "2021-08-16T13:13:48.221Z"
   },
   {
    "duration": 9,
    "start_time": "2021-08-16T13:14:12.515Z"
   },
   {
    "duration": 702,
    "start_time": "2021-08-16T13:14:14.287Z"
   },
   {
    "duration": 3000,
    "start_time": "2021-08-16T13:14:23.314Z"
   },
   {
    "duration": 125,
    "start_time": "2021-08-16T13:15:01.001Z"
   },
   {
    "duration": 2084,
    "start_time": "2021-08-16T13:15:02.837Z"
   },
   {
    "duration": 9,
    "start_time": "2021-08-16T13:15:15.384Z"
   },
   {
    "duration": 9,
    "start_time": "2021-08-16T13:16:12.692Z"
   },
   {
    "duration": 646,
    "start_time": "2021-08-16T13:16:14.139Z"
   },
   {
    "duration": 4783,
    "start_time": "2021-08-16T13:16:21.250Z"
   },
   {
    "duration": 9,
    "start_time": "2021-08-16T13:16:48.505Z"
   },
   {
    "duration": 647,
    "start_time": "2021-08-16T13:16:50.166Z"
   },
   {
    "duration": 4874,
    "start_time": "2021-08-16T13:16:53.121Z"
   },
   {
    "duration": 9,
    "start_time": "2021-08-16T13:17:45.763Z"
   },
   {
    "duration": 676,
    "start_time": "2021-08-16T13:17:46.779Z"
   },
   {
    "duration": 5085,
    "start_time": "2021-08-16T13:17:52.399Z"
   },
   {
    "duration": 754,
    "start_time": "2021-08-16T13:19:55.882Z"
   },
   {
    "duration": 11,
    "start_time": "2021-08-16T13:49:42.992Z"
   },
   {
    "duration": 13,
    "start_time": "2021-08-16T13:50:14.356Z"
   },
   {
    "duration": 12,
    "start_time": "2021-08-16T13:52:47.947Z"
   },
   {
    "duration": 718,
    "start_time": "2021-08-16T13:52:58.734Z"
   },
   {
    "duration": 1502,
    "start_time": "2021-08-16T14:02:28.056Z"
   },
   {
    "duration": 6,
    "start_time": "2021-08-16T14:02:29.561Z"
   },
   {
    "duration": 44,
    "start_time": "2021-08-16T14:02:29.571Z"
   },
   {
    "duration": 42,
    "start_time": "2021-08-16T14:02:29.619Z"
   },
   {
    "duration": 10,
    "start_time": "2021-08-16T14:02:29.686Z"
   },
   {
    "duration": 20,
    "start_time": "2021-08-16T14:02:29.698Z"
   },
   {
    "duration": 670,
    "start_time": "2021-08-16T14:02:29.720Z"
   },
   {
    "duration": 4907,
    "start_time": "2021-08-16T14:02:30.393Z"
   },
   {
    "duration": 791,
    "start_time": "2021-08-16T14:02:35.304Z"
   }
  ],
  "kernelspec": {
   "display_name": "Python 3",
   "language": "python",
   "name": "python3"
  },
  "language_info": {
   "codemirror_mode": {
    "name": "ipython",
    "version": 3
   },
   "file_extension": ".py",
   "mimetype": "text/x-python",
   "name": "python",
   "nbconvert_exporter": "python",
   "pygments_lexer": "ipython3",
   "version": "3.9.5"
  },
  "toc": {
   "base_numbering": 1,
   "nav_menu": {},
   "number_sections": true,
   "sideBar": true,
   "skip_h1_title": true,
   "title_cell": "Содержание",
   "title_sidebar": "Contents",
   "toc_cell": true,
   "toc_position": {},
   "toc_section_display": true,
   "toc_window_display": true
  }
 },
 "nbformat": 4,
 "nbformat_minor": 2
}
