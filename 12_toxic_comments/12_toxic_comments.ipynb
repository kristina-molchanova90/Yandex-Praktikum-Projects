{
 "cells": [
  {
   "cell_type": "markdown",
   "metadata": {},
   "source": [
    "# Проект \"поиск токсичных комментариев\""
   ]
  },
  {
   "cell_type": "markdown",
   "metadata": {},
   "source": [
    "Построоить модель, классифицирующую комментарии на позитивные и негативные на основании набора данных с разметкой о токсичности правок (*F1* не меньше 0.75)."
   ]
  },
  {
   "cell_type": "markdown",
   "metadata": {},
   "source": [
    "## Подготовка"
   ]
  },
  {
   "cell_type": "markdown",
   "metadata": {},
   "source": [
    "Сделаем все необходимые импорты:"
   ]
  },
  {
   "cell_type": "code",
   "execution_count": 26,
   "metadata": {},
   "outputs": [
    {
     "name": "stdout",
     "output_type": "stream",
     "text": [
      "Defaulting to user installation because normal site-packages is not writeable\n",
      "Collecting wordcloud\n",
      "  Downloading wordcloud-1.8.1-cp37-cp37m-manylinux1_x86_64.whl (366 kB)\n",
      "\u001b[K     |████████████████████████████████| 366 kB 1.5 MB/s eta 0:00:01\n",
      "\u001b[?25hRequirement already satisfied: numpy>=1.6.1 in /opt/conda/lib/python3.7/site-packages (from wordcloud) (1.19.5)\n",
      "Requirement already satisfied: matplotlib in /opt/conda/lib/python3.7/site-packages (from wordcloud) (3.1.0)\n",
      "Requirement already satisfied: pillow in /opt/conda/lib/python3.7/site-packages (from wordcloud) (7.0.0)\n",
      "Requirement already satisfied: kiwisolver>=1.0.1 in /opt/conda/lib/python3.7/site-packages (from matplotlib->wordcloud) (1.3.1)\n",
      "Requirement already satisfied: cycler>=0.10 in /opt/conda/lib/python3.7/site-packages (from matplotlib->wordcloud) (0.10.0)\n",
      "Requirement already satisfied: pyparsing!=2.0.4,!=2.1.2,!=2.1.6,>=2.0.1 in /opt/conda/lib/python3.7/site-packages (from matplotlib->wordcloud) (2.4.7)\n",
      "Requirement already satisfied: python-dateutil>=2.1 in /opt/conda/lib/python3.7/site-packages (from matplotlib->wordcloud) (2.8.1)\n",
      "Requirement already satisfied: six in /opt/conda/lib/python3.7/site-packages (from cycler>=0.10->matplotlib->wordcloud) (1.15.0)\n",
      "Installing collected packages: wordcloud\n",
      "\u001b[33m  WARNING: The script wordcloud_cli is installed in '/home/jovyan/.local/bin' which is not on PATH.\n",
      "  Consider adding this directory to PATH or, if you prefer to suppress this warning, use --no-warn-script-location.\u001b[0m\n",
      "Successfully installed wordcloud-1.8.1\n"
     ]
    }
   ],
   "source": [
    "!pip install wordcloud"
   ]
  },
  {
   "cell_type": "code",
   "execution_count": 27,
   "metadata": {},
   "outputs": [],
   "source": [
    "import pandas as pd\n",
    "import numpy as np\n",
    "\n",
    "import re\n",
    "from sklearn.feature_extraction.text import TfidfVectorizer, CountVectorizer, TfidfTransformer\n",
    "import nltk\n",
    "from nltk.stem import WordNetLemmatizer\n",
    "from nltk.corpus import stopwords as nltk_stopwords\n",
    "from nltk.corpus import wordnet\n",
    "\n",
    "from sklearn.dummy import DummyClassifier\n",
    "from sklearn.linear_model import LogisticRegression\n",
    "from lightgbm import LGBMClassifier\n",
    "from sklearn.linear_model import SGDClassifier\n",
    "\n",
    "from sklearn.model_selection import train_test_split, GridSearchCV\n",
    "from sklearn.metrics import f1_score\n",
    "\n",
    "\n",
    "import matplotlib.pyplot as plt\n",
    "from wordcloud import WordCloud\n",
    "\n",
    "RANDOM_STATE = 42\n",
    "from warnings import filterwarnings\n",
    "filterwarnings('ignore')"
   ]
  },
  {
   "cell_type": "markdown",
   "metadata": {},
   "source": [
    "<h3>Изучение данных</h3>"
   ]
  },
  {
   "cell_type": "markdown",
   "metadata": {},
   "source": [
    "<h3>Загрузка и изучение данных</h3>"
   ]
  },
  {
   "cell_type": "markdown",
   "metadata": {},
   "source": [
    "Откроем и изучим файл:"
   ]
  },
  {
   "cell_type": "code",
   "execution_count": 2,
   "metadata": {},
   "outputs": [
    {
     "data": {
      "text/html": [
       "<div>\n",
       "<style scoped>\n",
       "    .dataframe tbody tr th:only-of-type {\n",
       "        vertical-align: middle;\n",
       "    }\n",
       "\n",
       "    .dataframe tbody tr th {\n",
       "        vertical-align: top;\n",
       "    }\n",
       "\n",
       "    .dataframe thead th {\n",
       "        text-align: right;\n",
       "    }\n",
       "</style>\n",
       "<table border=\"1\" class=\"dataframe\">\n",
       "  <thead>\n",
       "    <tr style=\"text-align: right;\">\n",
       "      <th></th>\n",
       "      <th>text</th>\n",
       "      <th>toxic</th>\n",
       "    </tr>\n",
       "  </thead>\n",
       "  <tbody>\n",
       "    <tr>\n",
       "      <td>0</td>\n",
       "      <td>Explanation\\nWhy the edits made under my usern...</td>\n",
       "      <td>0</td>\n",
       "    </tr>\n",
       "    <tr>\n",
       "      <td>1</td>\n",
       "      <td>D'aww! He matches this background colour I'm s...</td>\n",
       "      <td>0</td>\n",
       "    </tr>\n",
       "    <tr>\n",
       "      <td>2</td>\n",
       "      <td>Hey man, I'm really not trying to edit war. It...</td>\n",
       "      <td>0</td>\n",
       "    </tr>\n",
       "    <tr>\n",
       "      <td>3</td>\n",
       "      <td>\"\\nMore\\nI can't make any real suggestions on ...</td>\n",
       "      <td>0</td>\n",
       "    </tr>\n",
       "    <tr>\n",
       "      <td>4</td>\n",
       "      <td>You, sir, are my hero. Any chance you remember...</td>\n",
       "      <td>0</td>\n",
       "    </tr>\n",
       "  </tbody>\n",
       "</table>\n",
       "</div>"
      ],
      "text/plain": [
       "                                                text  toxic\n",
       "0  Explanation\\nWhy the edits made under my usern...      0\n",
       "1  D'aww! He matches this background colour I'm s...      0\n",
       "2  Hey man, I'm really not trying to edit war. It...      0\n",
       "3  \"\\nMore\\nI can't make any real suggestions on ...      0\n",
       "4  You, sir, are my hero. Any chance you remember...      0"
      ]
     },
     "metadata": {},
     "output_type": "display_data"
    },
    {
     "name": "stdout",
     "output_type": "stream",
     "text": [
      "<class 'pandas.core.frame.DataFrame'>\n",
      "RangeIndex: 159571 entries, 0 to 159570\n",
      "Data columns (total 2 columns):\n",
      "text     159571 non-null object\n",
      "toxic    159571 non-null int64\n",
      "dtypes: int64(1), object(1)\n",
      "memory usage: 2.4+ MB\n"
     ]
    }
   ],
   "source": [
    "comments = pd.read_csv('/datasets/toxic_comments.csv')\n",
    "display(comments.head(5))\n",
    "comments.info()"
   ]
  },
  {
   "cell_type": "markdown",
   "metadata": {},
   "source": [
    "Можно видеть, что в файле содержатся записи на английском языке, а также столбец toxic - целевой признак (является комментарий токсичным или нет). Убедимся, что столбец toxic содержит только 2 значения: 0 и 1, а также определим, присутствует ли дисбаланс классов"
   ]
  },
  {
   "cell_type": "code",
   "execution_count": 3,
   "metadata": {},
   "outputs": [
    {
     "name": "stdout",
     "output_type": "stream",
     "text": [
      "Уникальные значения в столбце toxic:  [0 1]\n"
     ]
    }
   ],
   "source": [
    "print('Уникальные значения в столбце toxic: ',comments['toxic'].unique())"
   ]
  },
  {
   "cell_type": "code",
   "execution_count": 4,
   "metadata": {},
   "outputs": [
    {
     "name": "stdout",
     "output_type": "stream",
     "text": [
      "Доля токсичных комментариев:  0.10167887648758234\n"
     ]
    }
   ],
   "source": [
    "print('Доля токсичных комментариев: ',comments['toxic'].mean())"
   ]
  },
  {
   "cell_type": "markdown",
   "metadata": {},
   "source": [
    "Наблюдается явный дисбаланс классов. Это необходимо будет учесть при обучении моделей"
   ]
  },
  {
   "cell_type": "markdown",
   "metadata": {},
   "source": [
    "Построим облако слов для положительных и токсичных комментариев и посмотрим, какие слова употребляются чаще в том и другом случае:"
   ]
  },
  {
   "cell_type": "code",
   "execution_count": 28,
   "metadata": {},
   "outputs": [],
   "source": [
    "wc = WordCloud(background_color=\"white\", max_words=10000)"
   ]
  },
  {
   "cell_type": "code",
   "execution_count": 31,
   "metadata": {},
   "outputs": [
    {
     "data": {
      "text/plain": [
       "<matplotlib.image.AxesImage at 0x7f90c5b7c750>"
      ]
     },
     "execution_count": 31,
     "metadata": {},
     "output_type": "execute_result"
    },
    {
     "data": {
      "image/png": "[encoded data removed]",
      "text/plain": [
       "<Figure size 864x576 with 1 Axes>"
      ]
     },
     "metadata": {
      "needs_background": "light"
     },
     "output_type": "display_data"
    }
   ],
   "source": [
    "pos_comments = comments.query('toxic == 0')\n",
    "neg_comments = comments.query('toxic == 1')\n",
    "\n",
    "fig = plt.figure(1, figsize=(12, 8))\n",
    "plt.title('Облако слов для положительных комментариев')\n",
    "plt.axis('off')\n",
    "wc.generate(\" \".join(pos_comments[\"text\"]))\n",
    "plt.imshow(wc)"
   ]
  },
  {
   "cell_type": "code",
   "execution_count": 32,
   "metadata": {},
   "outputs": [
    {
     "data": {
      "text/plain": [
       "<matplotlib.image.AxesImage at 0x7f90c5b7cd10>"
      ]
     },
     "execution_count": 32,
     "metadata": {},
     "output_type": "execute_result"
    },
    {
     "data": {
      "image/png": "[encoded data removed]",
      "text/plain": [
       "<Figure size 864x576 with 1 Axes>"
      ]
     },
     "metadata": {
      "needs_background": "light"
     },
     "output_type": "display_data"
    }
   ],
   "source": [
    "fig = plt.figure(1, figsize=(12, 8))\n",
    "plt.title('Облако слов для токсичных комментариев')\n",
    "plt.axis('off')\n",
    "wc.generate(\" \".join(neg_comments[\"text\"]))\n",
    "plt.imshow(wc)"
   ]
  },
  {
   "cell_type": "markdown",
   "metadata": {},
   "source": [
    "<b>Вывод</b><br>\n",
    "Очевидно, что люди, пишущие положительные комментарии любят  ссылаться на статьи, мысли, знания, имена, а также часто благодарят. Люди, пишущие токсичные комментарии часто более эмоциональны, причем эмоции эти негативные. Они используют в своей речи нелитературные слова, оскорбления (в том числе абсолютно неполиткорректные), однако они часто что-то знают и примерно также любят википедию, как и те, кто пишет положительные комментарии. "
   ]
  },
  {
   "cell_type": "markdown",
   "metadata": {},
   "source": [
    "<h3>Подготовка данных: очистка, лемматизация и векторизация </h3>"
   ]
  },
  {
   "cell_type": "markdown",
   "metadata": {},
   "source": [
    "Создадим функции для очистки текста от ненужных символов и лемматизции его"
   ]
  },
  {
   "cell_type": "code",
   "execution_count": 5,
   "metadata": {},
   "outputs": [],
   "source": [
    "def clear_text(text):\n",
    "    text = re.sub(r'[^a-zA-Z ]',' ',text)\n",
    "    return ' '.join(text.split())"
   ]
  },
  {
   "cell_type": "markdown",
   "metadata": {},
   "source": [
    "Очистим и лемматизируем комментарии"
   ]
  },
  {
   "cell_type": "code",
   "execution_count": 6,
   "metadata": {},
   "outputs": [
    {
     "name": "stderr",
     "output_type": "stream",
     "text": [
      "[nltk_data] Downloading package wordnet to /home/jovyan/nltk_data...\n",
      "[nltk_data]   Package wordnet is already up-to-date!\n",
      "[nltk_data] Downloading package averaged_perceptron_tagger to\n",
      "[nltk_data]     /home/jovyan/nltk_data...\n",
      "[nltk_data]   Package averaged_perceptron_tagger is already up-to-\n",
      "[nltk_data]       date!\n"
     ]
    },
    {
     "data": {
      "text/plain": [
       "True"
      ]
     },
     "execution_count": 6,
     "metadata": {},
     "output_type": "execute_result"
    }
   ],
   "source": [
    "nltk.download('wordnet')\n",
    "nltk.download('averaged_perceptron_tagger')"
   ]
  },
  {
   "cell_type": "code",
   "execution_count": 7,
   "metadata": {},
   "outputs": [
    {
     "name": "stdout",
     "output_type": "stream",
     "text": [
      "Лемматизация прошла успешно\n"
     ]
    }
   ],
   "source": [
    "def get_wordnet_pos(word):\n",
    "    \"\"\"Определение POS-тега для WordNetLemmatizer\"\"\"\n",
    "    tag = nltk.pos_tag([word])[0][1][0].upper()\n",
    "    tag_dict = {\"J\": wordnet.ADJ,\n",
    "                \"N\": wordnet.NOUN,\n",
    "                \"V\": wordnet.VERB,\n",
    "                \"R\": wordnet.ADV}\n",
    "    return tag_dict.get(tag, wordnet.NOUN)\n",
    "\n",
    "def lemmatize_sentence(text):\n",
    "    return [lemmatizer.lemmatize(w, get_wordnet_pos(w)) for w in nltk.word_tokenize(text)]\n",
    "\n",
    "\n",
    "lemmatizer = WordNetLemmatizer()\n",
    "\n",
    "comments['lemm_text'] = comments['text'].copy()\n",
    "comments['lemm_text']  = comments['lemm_text'] .apply(clear_text)\n",
    "comments['lemm_text']  = comments['lemm_text'] .apply(lemmatize_sentence)\n",
    "print('Лемматизация прошла успешно')"
   ]
  },
  {
   "cell_type": "markdown",
   "metadata": {},
   "source": [
    "Разделим выборку на обучающую и тестовую"
   ]
  },
  {
   "cell_type": "code",
   "execution_count": 8,
   "metadata": {},
   "outputs": [],
   "source": [
    "target = comments['toxic']\n",
    "features = comments['lemm_text']\n",
    "features_train, features_test, tg_train, tg_test = train_test_split(features,target, test_size = 0.25, random_state=RANDOM_STATE, stratify = target)"
   ]
  },
  {
   "cell_type": "code",
   "execution_count": 9,
   "metadata": {},
   "outputs": [
    {
     "name": "stdout",
     "output_type": "stream",
     "text": [
      "shape train -  (119678,)\n",
      "shape test -  (39893,)\n"
     ]
    }
   ],
   "source": [
    "print('shape train - ', features_train.shape)\n",
    "print('shape test - ', features_test.shape)"
   ]
  },
  {
   "cell_type": "markdown",
   "metadata": {},
   "source": [
    "Текст очищен от ненужных символов и лемматизирован. Создадим счетчик TF-IDF и корпус слов (для обучающей и тестовой выборки)"
   ]
  },
  {
   "cell_type": "markdown",
   "metadata": {},
   "source": [
    "Загрузим список стоп-слов:"
   ]
  },
  {
   "cell_type": "code",
   "execution_count": 10,
   "metadata": {},
   "outputs": [
    {
     "name": "stderr",
     "output_type": "stream",
     "text": [
      "[nltk_data] Downloading package stopwords to /home/jovyan/nltk_data...\n",
      "[nltk_data]   Package stopwords is already up-to-date!\n"
     ]
    }
   ],
   "source": [
    "nltk.download('stopwords')\n",
    "stopwords = set(nltk_stopwords.words('english'))"
   ]
  },
  {
   "cell_type": "code",
   "execution_count": 11,
   "metadata": {},
   "outputs": [
    {
     "name": "stdout",
     "output_type": "stream",
     "text": [
      "Размер обучающий:  (119678, 16510)\n"
     ]
    }
   ],
   "source": [
    "train_index = features_train.index\n",
    "test_index = features_test.index\n",
    "\n",
    "count_tf_idf = TfidfVectorizer(preprocessor=' '.join,stop_words = stopwords, min_df=0.0001, lowercase = True)\n",
    "#создадим корпус для обучающей выборки\n",
    "corp = features_train.values\n",
    "ft_train =  count_tf_idf.fit_transform(corp)\n",
    "print('Размер обучающий: ',ft_train.shape)\n",
    "\n"
   ]
  },
  {
   "cell_type": "code",
   "execution_count": 12,
   "metadata": {},
   "outputs": [
    {
     "name": "stdout",
     "output_type": "stream",
     "text": [
      "Размер тестовый: (39893, 16510)\n"
     ]
    }
   ],
   "source": [
    "#создадим корпус для тестовой выборки\n",
    "corp = features_test.values\n",
    "ft_test = count_tf_idf.transform(corp)\n",
    "print('Размер тестовый:',ft_test.shape)"
   ]
  },
  {
   "cell_type": "markdown",
   "metadata": {},
   "source": [
    "<b>Вывод</b><br>\n",
    "Данные подготовлены к обучению. Количество признаков - 16510"
   ]
  },
  {
   "cell_type": "markdown",
   "metadata": {},
   "source": [
    "## Обучение"
   ]
  },
  {
   "cell_type": "markdown",
   "metadata": {},
   "source": [
    "Создадим датасет для сравнения моделей"
   ]
  },
  {
   "cell_type": "code",
   "execution_count": 13,
   "metadata": {},
   "outputs": [],
   "source": [
    "def add_to_model_types_compare(mtc,mod_name,best_params,best_scores,test_score):\n",
    "    mtc = mtc.append({'model_name':mod_name,'best_params':best_params,'train_score':best_scores,'test_score':test_score},ignore_index = True)\n",
    "    display(mtc)\n",
    "    return mtc\n",
    "model_types_compare = pd.DataFrame()"
   ]
  },
  {
   "cell_type": "markdown",
   "metadata": {},
   "source": [
    "Напишем функцию для подбора гиперпараметров:"
   ]
  },
  {
   "cell_type": "code",
   "execution_count": 14,
   "metadata": {},
   "outputs": [],
   "source": [
    "def find_best_model(model,params,feat_train,feat_test,targ_train,targ_test,mtc,mod_name,cat_features, model_lib):\n",
    "    grd = GridSearchCV(estimator = model, param_grid = params, scoring = 'f1', \n",
    "                               cv = 2, verbose= 5,n_jobs = -1)\n",
    "    if model_lib == 'LGBM':\n",
    "        grd.fit(feat_train, targ_train,categorical_feature = 'auto') \n",
    "    elif model_lib == 'CB' and len(cat_features)> 0:\n",
    "        grd.fit(feat_train, targ_train,cat_features = cat_features)   \n",
    "    else:\n",
    "        grd.fit(feat_train, targ_train)\n",
    "    bp = grd.best_params_\n",
    "    #bs = grd.best_score_\n",
    "    train_sc = f1_score(targ_train,grd.predict(feat_train))\n",
    "    est = grd.best_estimator_\n",
    "    test_sc = f1_score(targ_test,grd.predict(feat_test))\n",
    "    mtc = add_to_model_types_compare(mtc,mod_name,bp,train_sc,test_sc)\n",
    "    return mtc,est"
   ]
  },
  {
   "cell_type": "markdown",
   "metadata": {},
   "source": [
    "<h3>DummyClassifier</h3>"
   ]
  },
  {
   "cell_type": "code",
   "execution_count": 15,
   "metadata": {},
   "outputs": [
    {
     "data": {
      "text/html": [
       "<div>\n",
       "<style scoped>\n",
       "    .dataframe tbody tr th:only-of-type {\n",
       "        vertical-align: middle;\n",
       "    }\n",
       "\n",
       "    .dataframe tbody tr th {\n",
       "        vertical-align: top;\n",
       "    }\n",
       "\n",
       "    .dataframe thead th {\n",
       "        text-align: right;\n",
       "    }\n",
       "</style>\n",
       "<table border=\"1\" class=\"dataframe\">\n",
       "  <thead>\n",
       "    <tr style=\"text-align: right;\">\n",
       "      <th></th>\n",
       "      <th>best_params</th>\n",
       "      <th>model_name</th>\n",
       "      <th>test_score</th>\n",
       "      <th>train_score</th>\n",
       "    </tr>\n",
       "  </thead>\n",
       "  <tbody>\n",
       "    <tr>\n",
       "      <td>0</td>\n",
       "      <td>strategy: constant</td>\n",
       "      <td>DummyClassifier</td>\n",
       "      <td>0.184578</td>\n",
       "      <td>0.184593</td>\n",
       "    </tr>\n",
       "  </tbody>\n",
       "</table>\n",
       "</div>"
      ],
      "text/plain": [
       "          best_params       model_name  test_score  train_score\n",
       "0  strategy: constant  DummyClassifier    0.184578     0.184593"
      ]
     },
     "metadata": {},
     "output_type": "display_data"
    }
   ],
   "source": [
    "dummy_clf = DummyClassifier(strategy=\"constant\", \n",
    "                            random_state=RANDOM_STATE,\n",
    "                          constant=[1])\n",
    "dummy_clf.fit(ft_train, tg_train)\n",
    "pred_train = dummy_clf.predict(ft_train)\n",
    "f1_train = f1_score(tg_train,pred_train)\n",
    "pred_test = dummy_clf.predict(ft_test)\n",
    "f1_test = f1_score(tg_test,pred_test)\n",
    "model_types_compare = add_to_model_types_compare(model_types_compare,'DummyClassifier','strategy: constant',f1_train,f1_test)"
   ]
  },
  {
   "cell_type": "markdown",
   "metadata": {},
   "source": [
    "Для DummyClassifier значение при constant = 1 меры 1 f1 = 0.18 (очевидно из-за явного дисбаланса классов), при значении constant = 0 (то же что и при strategy = 'most_frequent' или strategy = 'prior') значение f1=0 (очевидно, из-за квадратичной зависимости от True Positive, которых в данном случае 0)"
   ]
  },
  {
   "cell_type": "markdown",
   "metadata": {},
   "source": [
    "<h3>Логистическая регрессия</h3>"
   ]
  },
  {
   "cell_type": "code",
   "execution_count": 16,
   "metadata": {},
   "outputs": [
    {
     "name": "stdout",
     "output_type": "stream",
     "text": [
      "Fitting 2 folds for each of 10 candidates, totalling 20 fits\n",
      "[CV] C=4.3, class_weight=balanced, fit_intercept=True, random_state=42 \n"
     ]
    },
    {
     "name": "stderr",
     "output_type": "stream",
     "text": [
      "[Parallel(n_jobs=-1)]: Using backend SequentialBackend with 1 concurrent workers.\n"
     ]
    },
    {
     "name": "stdout",
     "output_type": "stream",
     "text": [
      "[CV]  C=4.3, class_weight=balanced, fit_intercept=True, random_state=42, score=0.740, total=  14.3s\n",
      "[CV] C=4.3, class_weight=balanced, fit_intercept=True, random_state=42 \n"
     ]
    },
    {
     "name": "stderr",
     "output_type": "stream",
     "text": [
      "[Parallel(n_jobs=-1)]: Done   1 out of   1 | elapsed:   14.3s remaining:    0.0s\n"
     ]
    },
    {
     "name": "stdout",
     "output_type": "stream",
     "text": [
      "[CV]  C=4.3, class_weight=balanced, fit_intercept=True, random_state=42, score=0.731, total=  15.4s\n",
      "[CV] C=4.3, class_weight=balanced, fit_intercept=False, random_state=42 \n"
     ]
    },
    {
     "name": "stderr",
     "output_type": "stream",
     "text": [
      "[Parallel(n_jobs=-1)]: Done   2 out of   2 | elapsed:   29.7s remaining:    0.0s\n"
     ]
    },
    {
     "name": "stdout",
     "output_type": "stream",
     "text": [
      "[CV]  C=4.3, class_weight=balanced, fit_intercept=False, random_state=42, score=0.695, total=  16.0s\n",
      "[CV] C=4.3, class_weight=balanced, fit_intercept=False, random_state=42 \n"
     ]
    },
    {
     "name": "stderr",
     "output_type": "stream",
     "text": [
      "[Parallel(n_jobs=-1)]: Done   3 out of   3 | elapsed:   45.7s remaining:    0.0s\n"
     ]
    },
    {
     "name": "stdout",
     "output_type": "stream",
     "text": [
      "[CV]  C=4.3, class_weight=balanced, fit_intercept=False, random_state=42, score=0.685, total=  15.3s\n",
      "[CV] C=4.35, class_weight=balanced, fit_intercept=True, random_state=42 \n"
     ]
    },
    {
     "name": "stderr",
     "output_type": "stream",
     "text": [
      "[Parallel(n_jobs=-1)]: Done   4 out of   4 | elapsed:  1.0min remaining:    0.0s\n"
     ]
    },
    {
     "name": "stdout",
     "output_type": "stream",
     "text": [
      "[CV]  C=4.35, class_weight=balanced, fit_intercept=True, random_state=42, score=0.739, total=  15.8s\n",
      "[CV] C=4.35, class_weight=balanced, fit_intercept=True, random_state=42 \n",
      "[CV]  C=4.35, class_weight=balanced, fit_intercept=True, random_state=42, score=0.731, total=  15.3s\n",
      "[CV] C=4.35, class_weight=balanced, fit_intercept=False, random_state=42 \n",
      "[CV]  C=4.35, class_weight=balanced, fit_intercept=False, random_state=42, score=0.695, total=  14.3s\n",
      "[CV] C=4.35, class_weight=balanced, fit_intercept=False, random_state=42 \n",
      "[CV]  C=4.35, class_weight=balanced, fit_intercept=False, random_state=42, score=0.685, total=  13.9s\n",
      "[CV] C=4.4, class_weight=balanced, fit_intercept=True, random_state=42 \n",
      "[CV]  C=4.4, class_weight=balanced, fit_intercept=True, random_state=42, score=0.739, total=  16.2s\n",
      "[CV] C=4.4, class_weight=balanced, fit_intercept=True, random_state=42 \n",
      "[CV]  C=4.4, class_weight=balanced, fit_intercept=True, random_state=42, score=0.731, total=  16.4s\n",
      "[CV] C=4.4, class_weight=balanced, fit_intercept=False, random_state=42 \n",
      "[CV]  C=4.4, class_weight=balanced, fit_intercept=False, random_state=42, score=0.695, total=  14.4s\n",
      "[CV] C=4.4, class_weight=balanced, fit_intercept=False, random_state=42 \n",
      "[CV]  C=4.4, class_weight=balanced, fit_intercept=False, random_state=42, score=0.685, total=  11.9s\n",
      "[CV] C=4.45, class_weight=balanced, fit_intercept=True, random_state=42 \n",
      "[CV]  C=4.45, class_weight=balanced, fit_intercept=True, random_state=42, score=0.740, total=  15.4s\n",
      "[CV] C=4.45, class_weight=balanced, fit_intercept=True, random_state=42 \n",
      "[CV]  C=4.45, class_weight=balanced, fit_intercept=True, random_state=42, score=0.731, total=  16.1s\n",
      "[CV] C=4.45, class_weight=balanced, fit_intercept=False, random_state=42 \n",
      "[CV]  C=4.45, class_weight=balanced, fit_intercept=False, random_state=42, score=0.695, total=  13.9s\n",
      "[CV] C=4.45, class_weight=balanced, fit_intercept=False, random_state=42 \n",
      "[CV]  C=4.45, class_weight=balanced, fit_intercept=False, random_state=42, score=0.685, total=  12.7s\n",
      "[CV] C=4.5, class_weight=balanced, fit_intercept=True, random_state=42 \n",
      "[CV]  C=4.5, class_weight=balanced, fit_intercept=True, random_state=42, score=0.739, total=  15.2s\n",
      "[CV] C=4.5, class_weight=balanced, fit_intercept=True, random_state=42 \n",
      "[CV]  C=4.5, class_weight=balanced, fit_intercept=True, random_state=42, score=0.731, total=  15.6s\n",
      "[CV] C=4.5, class_weight=balanced, fit_intercept=False, random_state=42 \n",
      "[CV]  C=4.5, class_weight=balanced, fit_intercept=False, random_state=42, score=0.695, total=  14.3s\n",
      "[CV] C=4.5, class_weight=balanced, fit_intercept=False, random_state=42 \n",
      "[CV]  C=4.5, class_weight=balanced, fit_intercept=False, random_state=42, score=0.685, total=  13.6s\n"
     ]
    },
    {
     "name": "stderr",
     "output_type": "stream",
     "text": [
      "[Parallel(n_jobs=-1)]: Done  20 out of  20 | elapsed:  4.9min finished\n"
     ]
    },
    {
     "data": {
      "text/html": [
       "<div>\n",
       "<style scoped>\n",
       "    .dataframe tbody tr th:only-of-type {\n",
       "        vertical-align: middle;\n",
       "    }\n",
       "\n",
       "    .dataframe tbody tr th {\n",
       "        vertical-align: top;\n",
       "    }\n",
       "\n",
       "    .dataframe thead th {\n",
       "        text-align: right;\n",
       "    }\n",
       "</style>\n",
       "<table border=\"1\" class=\"dataframe\">\n",
       "  <thead>\n",
       "    <tr style=\"text-align: right;\">\n",
       "      <th></th>\n",
       "      <th>best_params</th>\n",
       "      <th>model_name</th>\n",
       "      <th>test_score</th>\n",
       "      <th>train_score</th>\n",
       "    </tr>\n",
       "  </thead>\n",
       "  <tbody>\n",
       "    <tr>\n",
       "      <td>0</td>\n",
       "      <td>strategy: constant</td>\n",
       "      <td>DummyClassifier</td>\n",
       "      <td>0.184578</td>\n",
       "      <td>0.184593</td>\n",
       "    </tr>\n",
       "    <tr>\n",
       "      <td>1</td>\n",
       "      <td>{'C': 4.4, 'class_weight': 'balanced', 'fit_in...</td>\n",
       "      <td>LogisticRegression balanced</td>\n",
       "      <td>0.732107</td>\n",
       "      <td>0.830707</td>\n",
       "    </tr>\n",
       "  </tbody>\n",
       "</table>\n",
       "</div>"
      ],
      "text/plain": [
       "                                         best_params  \\\n",
       "0                                 strategy: constant   \n",
       "1  {'C': 4.4, 'class_weight': 'balanced', 'fit_in...   \n",
       "\n",
       "                    model_name  test_score  train_score  \n",
       "0              DummyClassifier    0.184578     0.184593  \n",
       "1  LogisticRegression balanced    0.732107     0.830707  "
      ]
     },
     "metadata": {},
     "output_type": "display_data"
    }
   ],
   "source": [
    "lgr = LogisticRegression()\n",
    "params = {'fit_intercept':[True,False], 'C':[4.3,4.35,4.4,4.45,4.5],'class_weight':['balanced'],'random_state':[RANDOM_STATE]}\n",
    "model_types_compare,best_lgr = find_best_model(lgr,params,ft_train,ft_test,tg_train,tg_test,model_types_compare,'LogisticRegression balanced',[], 'SL')"
   ]
  },
  {
   "cell_type": "code",
   "execution_count": 17,
   "metadata": {},
   "outputs": [
    {
     "name": "stdout",
     "output_type": "stream",
     "text": [
      "Параметры наилучшей модели логистической регрессии\n"
     ]
    },
    {
     "data": {
      "text/plain": [
       "{'C': 4.4,\n",
       " 'class_weight': 'balanced',\n",
       " 'dual': False,\n",
       " 'fit_intercept': True,\n",
       " 'intercept_scaling': 1,\n",
       " 'l1_ratio': None,\n",
       " 'max_iter': 100,\n",
       " 'multi_class': 'warn',\n",
       " 'n_jobs': None,\n",
       " 'penalty': 'l2',\n",
       " 'random_state': 42,\n",
       " 'solver': 'warn',\n",
       " 'tol': 0.0001,\n",
       " 'verbose': 0,\n",
       " 'warm_start': False}"
      ]
     },
     "execution_count": 17,
     "metadata": {},
     "output_type": "execute_result"
    }
   ],
   "source": [
    "print('Параметры наилучшей модели логистической регрессии')\n",
    "best_lgr.get_params()"
   ]
  },
  {
   "cell_type": "markdown",
   "metadata": {},
   "source": [
    "Наилучший результат для логистической регрессии - 0,83 на обучающей выборке и 0,732 на тестовой при значении гиперпараметров C=4.4 И class_weight = 'balanced', fit_intercept = True. Очевидно, что модель несколько переобучается. Сравним результат с другими моделями"
   ]
  },
  {
   "cell_type": "markdown",
   "metadata": {},
   "source": [
    "<h3>SGDClassifier</h3>"
   ]
  },
  {
   "cell_type": "code",
   "execution_count": 18,
   "metadata": {},
   "outputs": [
    {
     "name": "stdout",
     "output_type": "stream",
     "text": [
      "Fitting 2 folds for each of 6 candidates, totalling 12 fits\n",
      "[CV] alpha=5e-05, class_weight=balanced, l1_ratio=0.001, random_state=42 \n"
     ]
    },
    {
     "name": "stderr",
     "output_type": "stream",
     "text": [
      "[Parallel(n_jobs=-1)]: Using backend SequentialBackend with 1 concurrent workers.\n"
     ]
    },
    {
     "name": "stdout",
     "output_type": "stream",
     "text": [
      "[CV]  alpha=5e-05, class_weight=balanced, l1_ratio=0.001, random_state=42, score=0.725, total=   0.5s\n",
      "[CV] alpha=5e-05, class_weight=balanced, l1_ratio=0.001, random_state=42 \n"
     ]
    },
    {
     "name": "stderr",
     "output_type": "stream",
     "text": [
      "[Parallel(n_jobs=-1)]: Done   1 out of   1 | elapsed:    0.5s remaining:    0.0s\n"
     ]
    },
    {
     "name": "stdout",
     "output_type": "stream",
     "text": [
      "[CV]  alpha=5e-05, class_weight=balanced, l1_ratio=0.001, random_state=42, score=0.714, total=   0.4s\n",
      "[CV] alpha=5e-05, class_weight=balanced, l1_ratio=0.002, random_state=42 \n"
     ]
    },
    {
     "name": "stderr",
     "output_type": "stream",
     "text": [
      "[Parallel(n_jobs=-1)]: Done   2 out of   2 | elapsed:    0.8s remaining:    0.0s\n"
     ]
    },
    {
     "name": "stdout",
     "output_type": "stream",
     "text": [
      "[CV]  alpha=5e-05, class_weight=balanced, l1_ratio=0.002, random_state=42, score=0.725, total=   0.4s\n",
      "[CV] alpha=5e-05, class_weight=balanced, l1_ratio=0.002, random_state=42 \n"
     ]
    },
    {
     "name": "stderr",
     "output_type": "stream",
     "text": [
      "[Parallel(n_jobs=-1)]: Done   3 out of   3 | elapsed:    1.3s remaining:    0.0s\n"
     ]
    },
    {
     "name": "stdout",
     "output_type": "stream",
     "text": [
      "[CV]  alpha=5e-05, class_weight=balanced, l1_ratio=0.002, random_state=42, score=0.714, total=   0.3s\n",
      "[CV] alpha=0.0001, class_weight=balanced, l1_ratio=0.001, random_state=42 \n"
     ]
    },
    {
     "name": "stderr",
     "output_type": "stream",
     "text": [
      "[Parallel(n_jobs=-1)]: Done   4 out of   4 | elapsed:    1.6s remaining:    0.0s\n"
     ]
    },
    {
     "name": "stdout",
     "output_type": "stream",
     "text": [
      "[CV]  alpha=0.0001, class_weight=balanced, l1_ratio=0.001, random_state=42, score=0.717, total=   0.5s\n",
      "[CV] alpha=0.0001, class_weight=balanced, l1_ratio=0.001, random_state=42 \n",
      "[CV]  alpha=0.0001, class_weight=balanced, l1_ratio=0.001, random_state=42, score=0.713, total=   0.4s\n",
      "[CV] alpha=0.0001, class_weight=balanced, l1_ratio=0.002, random_state=42 \n",
      "[CV]  alpha=0.0001, class_weight=balanced, l1_ratio=0.002, random_state=42, score=0.717, total=   0.5s\n",
      "[CV] alpha=0.0001, class_weight=balanced, l1_ratio=0.002, random_state=42 \n",
      "[CV]  alpha=0.0001, class_weight=balanced, l1_ratio=0.002, random_state=42, score=0.713, total=   0.3s\n",
      "[CV] alpha=0.0002, class_weight=balanced, l1_ratio=0.001, random_state=42 \n",
      "[CV]  alpha=0.0002, class_weight=balanced, l1_ratio=0.001, random_state=42, score=0.718, total=   0.4s\n",
      "[CV] alpha=0.0002, class_weight=balanced, l1_ratio=0.001, random_state=42 \n",
      "[CV]  alpha=0.0002, class_weight=balanced, l1_ratio=0.001, random_state=42, score=0.705, total=   0.4s\n",
      "[CV] alpha=0.0002, class_weight=balanced, l1_ratio=0.002, random_state=42 \n",
      "[CV]  alpha=0.0002, class_weight=balanced, l1_ratio=0.002, random_state=42, score=0.718, total=   0.4s\n",
      "[CV] alpha=0.0002, class_weight=balanced, l1_ratio=0.002, random_state=42 \n",
      "[CV]  alpha=0.0002, class_weight=balanced, l1_ratio=0.002, random_state=42, score=0.705, total=   0.5s\n"
     ]
    },
    {
     "name": "stderr",
     "output_type": "stream",
     "text": [
      "[Parallel(n_jobs=-1)]: Done  12 out of  12 | elapsed:    5.0s finished\n"
     ]
    },
    {
     "data": {
      "text/html": [
       "<div>\n",
       "<style scoped>\n",
       "    .dataframe tbody tr th:only-of-type {\n",
       "        vertical-align: middle;\n",
       "    }\n",
       "\n",
       "    .dataframe tbody tr th {\n",
       "        vertical-align: top;\n",
       "    }\n",
       "\n",
       "    .dataframe thead th {\n",
       "        text-align: right;\n",
       "    }\n",
       "</style>\n",
       "<table border=\"1\" class=\"dataframe\">\n",
       "  <thead>\n",
       "    <tr style=\"text-align: right;\">\n",
       "      <th></th>\n",
       "      <th>best_params</th>\n",
       "      <th>model_name</th>\n",
       "      <th>test_score</th>\n",
       "      <th>train_score</th>\n",
       "    </tr>\n",
       "  </thead>\n",
       "  <tbody>\n",
       "    <tr>\n",
       "      <td>0</td>\n",
       "      <td>strategy: constant</td>\n",
       "      <td>DummyClassifier</td>\n",
       "      <td>0.184578</td>\n",
       "      <td>0.184593</td>\n",
       "    </tr>\n",
       "    <tr>\n",
       "      <td>1</td>\n",
       "      <td>{'C': 4.4, 'class_weight': 'balanced', 'fit_in...</td>\n",
       "      <td>LogisticRegression balanced</td>\n",
       "      <td>0.732107</td>\n",
       "      <td>0.830707</td>\n",
       "    </tr>\n",
       "    <tr>\n",
       "      <td>2</td>\n",
       "      <td>{'alpha': 5e-05, 'class_weight': 'balanced', '...</td>\n",
       "      <td>SGDClassifier balanced</td>\n",
       "      <td>0.720483</td>\n",
       "      <td>0.766320</td>\n",
       "    </tr>\n",
       "  </tbody>\n",
       "</table>\n",
       "</div>"
      ],
      "text/plain": [
       "                                         best_params  \\\n",
       "0                                 strategy: constant   \n",
       "1  {'C': 4.4, 'class_weight': 'balanced', 'fit_in...   \n",
       "2  {'alpha': 5e-05, 'class_weight': 'balanced', '...   \n",
       "\n",
       "                    model_name  test_score  train_score  \n",
       "0              DummyClassifier    0.184578     0.184593  \n",
       "1  LogisticRegression balanced    0.732107     0.830707  \n",
       "2       SGDClassifier balanced    0.720483     0.766320  "
      ]
     },
     "metadata": {},
     "output_type": "display_data"
    }
   ],
   "source": [
    "sgd = SGDClassifier()\n",
    "params = {'l1_ratio':[0.0005,0.001,0.002],'alpha':[0.00001,0.00005],'random_state':[RANDOM_STATE],'class_weight':['balanced']}\n",
    "model_types_compare,best_sgd = find_best_model(sgd,params,ft_train,ft_test,tg_train,tg_test,model_types_compare,'SGDClassifier balanced',[], 'SL')"
   ]
  },
  {
   "cell_type": "code",
   "execution_count": 19,
   "metadata": {},
   "outputs": [
    {
     "name": "stdout",
     "output_type": "stream",
     "text": [
      "Параметры наилучшей модели SGDClassifier\n"
     ]
    },
    {
     "data": {
      "text/plain": [
       "{'alpha': 5e-05,\n",
       " 'average': False,\n",
       " 'class_weight': 'balanced',\n",
       " 'early_stopping': False,\n",
       " 'epsilon': 0.1,\n",
       " 'eta0': 0.0,\n",
       " 'fit_intercept': True,\n",
       " 'l1_ratio': 0.001,\n",
       " 'learning_rate': 'optimal',\n",
       " 'loss': 'hinge',\n",
       " 'max_iter': 1000,\n",
       " 'n_iter_no_change': 5,\n",
       " 'n_jobs': None,\n",
       " 'penalty': 'l2',\n",
       " 'power_t': 0.5,\n",
       " 'random_state': 42,\n",
       " 'shuffle': True,\n",
       " 'tol': 0.001,\n",
       " 'validation_fraction': 0.1,\n",
       " 'verbose': 0,\n",
       " 'warm_start': False}"
      ]
     },
     "execution_count": 19,
     "metadata": {},
     "output_type": "execute_result"
    }
   ],
   "source": [
    "print('Параметры наилучшей модели SGDClassifier')\n",
    "best_sgd.get_params()"
   ]
  },
  {
   "cell_type": "markdown",
   "metadata": {},
   "source": [
    "У модели SGDClassifier  наилучший результат на обучающей выборке 0,766, на тестовой - 0,72. Модель гораздо менее склонна к переобучению, чем логистическая регрессия, однако результат хуже. Проверим еще модели"
   ]
  },
  {
   "cell_type": "markdown",
   "metadata": {},
   "source": [
    "<h3>LGBMClassifier</h3>"
   ]
  },
  {
   "cell_type": "code",
   "execution_count": 20,
   "metadata": {},
   "outputs": [
    {
     "name": "stdout",
     "output_type": "stream",
     "text": [
      "Fitting 2 folds for each of 4 candidates, totalling 8 fits\n",
      "[CV] class_weight=balanced, class_weights=balanced, max_depth=60, n_estimators=400, random_state=42 \n"
     ]
    },
    {
     "name": "stderr",
     "output_type": "stream",
     "text": [
      "[Parallel(n_jobs=-1)]: Using backend SequentialBackend with 1 concurrent workers.\n"
     ]
    },
    {
     "name": "stdout",
     "output_type": "stream",
     "text": [
      "[CV]  class_weight=balanced, class_weights=balanced, max_depth=60, n_estimators=400, random_state=42, score=0.731, total=17.7min\n",
      "[CV] class_weight=balanced, class_weights=balanced, max_depth=60, n_estimators=400, random_state=42 \n"
     ]
    },
    {
     "name": "stderr",
     "output_type": "stream",
     "text": [
      "[Parallel(n_jobs=-1)]: Done   1 out of   1 | elapsed: 17.7min remaining:    0.0s\n"
     ]
    },
    {
     "name": "stdout",
     "output_type": "stream",
     "text": [
      "[CV]  class_weight=balanced, class_weights=balanced, max_depth=60, n_estimators=400, random_state=42, score=0.732, total= 8.9min\n",
      "[CV] class_weight=balanced, class_weights=balanced, max_depth=60, n_estimators=500, random_state=42 \n"
     ]
    },
    {
     "name": "stderr",
     "output_type": "stream",
     "text": [
      "[Parallel(n_jobs=-1)]: Done   2 out of   2 | elapsed: 26.6min remaining:    0.0s\n"
     ]
    },
    {
     "name": "stdout",
     "output_type": "stream",
     "text": [
      "[CV]  class_weight=balanced, class_weights=balanced, max_depth=60, n_estimators=500, random_state=42, score=0.734, total=13.8min\n",
      "[CV] class_weight=balanced, class_weights=balanced, max_depth=60, n_estimators=500, random_state=42 \n"
     ]
    },
    {
     "name": "stderr",
     "output_type": "stream",
     "text": [
      "[Parallel(n_jobs=-1)]: Done   3 out of   3 | elapsed: 40.4min remaining:    0.0s\n"
     ]
    },
    {
     "name": "stdout",
     "output_type": "stream",
     "text": [
      "[CV]  class_weight=balanced, class_weights=balanced, max_depth=60, n_estimators=500, random_state=42, score=0.733, total= 9.9min\n",
      "[CV] class_weight=balanced, class_weights=balanced, max_depth=70, n_estimators=400, random_state=42 \n"
     ]
    },
    {
     "name": "stderr",
     "output_type": "stream",
     "text": [
      "[Parallel(n_jobs=-1)]: Done   4 out of   4 | elapsed: 50.3min remaining:    0.0s\n"
     ]
    },
    {
     "name": "stdout",
     "output_type": "stream",
     "text": [
      "[CV]  class_weight=balanced, class_weights=balanced, max_depth=70, n_estimators=400, random_state=42, score=0.731, total=18.9min\n",
      "[CV] class_weight=balanced, class_weights=balanced, max_depth=70, n_estimators=400, random_state=42 \n",
      "[CV]  class_weight=balanced, class_weights=balanced, max_depth=70, n_estimators=400, random_state=42, score=0.732, total=24.5min\n",
      "[CV] class_weight=balanced, class_weights=balanced, max_depth=70, n_estimators=500, random_state=42 \n",
      "[CV]  class_weight=balanced, class_weights=balanced, max_depth=70, n_estimators=500, random_state=42, score=0.734, total=47.2min\n",
      "[CV] class_weight=balanced, class_weights=balanced, max_depth=70, n_estimators=500, random_state=42 \n",
      "[CV]  class_weight=balanced, class_weights=balanced, max_depth=70, n_estimators=500, random_state=42, score=0.733, total=32.4min\n"
     ]
    },
    {
     "name": "stderr",
     "output_type": "stream",
     "text": [
      "[Parallel(n_jobs=-1)]: Done   8 out of   8 | elapsed: 173.2min finished\n"
     ]
    },
    {
     "data": {
      "text/html": [
       "<div>\n",
       "<style scoped>\n",
       "    .dataframe tbody tr th:only-of-type {\n",
       "        vertical-align: middle;\n",
       "    }\n",
       "\n",
       "    .dataframe tbody tr th {\n",
       "        vertical-align: top;\n",
       "    }\n",
       "\n",
       "    .dataframe thead th {\n",
       "        text-align: right;\n",
       "    }\n",
       "</style>\n",
       "<table border=\"1\" class=\"dataframe\">\n",
       "  <thead>\n",
       "    <tr style=\"text-align: right;\">\n",
       "      <th></th>\n",
       "      <th>best_params</th>\n",
       "      <th>model_name</th>\n",
       "      <th>test_score</th>\n",
       "      <th>train_score</th>\n",
       "    </tr>\n",
       "  </thead>\n",
       "  <tbody>\n",
       "    <tr>\n",
       "      <td>0</td>\n",
       "      <td>strategy: constant</td>\n",
       "      <td>DummyClassifier</td>\n",
       "      <td>0.184578</td>\n",
       "      <td>0.184593</td>\n",
       "    </tr>\n",
       "    <tr>\n",
       "      <td>1</td>\n",
       "      <td>{'C': 4.4, 'class_weight': 'balanced', 'fit_in...</td>\n",
       "      <td>LogisticRegression balanced</td>\n",
       "      <td>0.732107</td>\n",
       "      <td>0.830707</td>\n",
       "    </tr>\n",
       "    <tr>\n",
       "      <td>2</td>\n",
       "      <td>{'alpha': 5e-05, 'class_weight': 'balanced', '...</td>\n",
       "      <td>SGDClassifier balanced</td>\n",
       "      <td>0.720483</td>\n",
       "      <td>0.766320</td>\n",
       "    </tr>\n",
       "    <tr>\n",
       "      <td>3</td>\n",
       "      <td>{'class_weight': 'balanced', 'class_weights': ...</td>\n",
       "      <td>LGBMClassifier balanced</td>\n",
       "      <td>0.751486</td>\n",
       "      <td>0.843972</td>\n",
       "    </tr>\n",
       "  </tbody>\n",
       "</table>\n",
       "</div>"
      ],
      "text/plain": [
       "                                         best_params  \\\n",
       "0                                 strategy: constant   \n",
       "1  {'C': 4.4, 'class_weight': 'balanced', 'fit_in...   \n",
       "2  {'alpha': 5e-05, 'class_weight': 'balanced', '...   \n",
       "3  {'class_weight': 'balanced', 'class_weights': ...   \n",
       "\n",
       "                    model_name  test_score  train_score  \n",
       "0              DummyClassifier    0.184578     0.184593  \n",
       "1  LogisticRegression balanced    0.732107     0.830707  \n",
       "2       SGDClassifier balanced    0.720483     0.766320  \n",
       "3    LGBMClassifier balanced      0.751486     0.843972  "
      ]
     },
     "metadata": {},
     "output_type": "display_data"
    }
   ],
   "source": [
    "params = {'class_weight':['balanced'],'n_estimators':[400,500], 'max_depth':[60,70],'random_state':[RANDOM_STATE], 'class_weights':['balanced']}\n",
    "lgbm = LGBMClassifier()\n",
    "model_types_compare, best_lgbm = find_best_model(lgbm,params,ft_train,ft_test,tg_train,tg_test,model_types_compare,'LGBMClassifier balanced  ',[],'LGBM')"
   ]
  },
  {
   "cell_type": "code",
   "execution_count": 21,
   "metadata": {},
   "outputs": [
    {
     "data": {
      "text/plain": [
       "{'boosting_type': 'gbdt',\n",
       " 'class_weight': 'balanced',\n",
       " 'colsample_bytree': 1.0,\n",
       " 'importance_type': 'split',\n",
       " 'learning_rate': 0.1,\n",
       " 'max_depth': 60,\n",
       " 'min_child_samples': 20,\n",
       " 'min_child_weight': 0.001,\n",
       " 'min_split_gain': 0.0,\n",
       " 'n_estimators': 500,\n",
       " 'n_jobs': -1,\n",
       " 'num_leaves': 31,\n",
       " 'objective': None,\n",
       " 'random_state': 42,\n",
       " 'reg_alpha': 0.0,\n",
       " 'reg_lambda': 0.0,\n",
       " 'silent': True,\n",
       " 'subsample': 1.0,\n",
       " 'subsample_for_bin': 200000,\n",
       " 'subsample_freq': 0,\n",
       " 'class_weights': 'balanced'}"
      ]
     },
     "execution_count": 21,
     "metadata": {},
     "output_type": "execute_result"
    }
   ],
   "source": [
    "best_lgbm.get_params()"
   ]
  },
  {
   "cell_type": "markdown",
   "metadata": {},
   "source": [
    "Модель LGBMClassifier дала наилучший результат при гиперпараметрах class_weight = 'balanced',n_estimators = 500, max_depth = 60. У данной моделт самый высокий результат на тестовой и обучающей выборках, однако также наблюдается небольшое переобучение (но меньше, чем у логистической регрессии)"
   ]
  },
  {
   "cell_type": "markdown",
   "metadata": {},
   "source": [
    "## Выводы"
   ]
  },
  {
   "cell_type": "markdown",
   "metadata": {},
   "source": [
    "Выведем результаты сравнения качества моделей"
   ]
  },
  {
   "cell_type": "code",
   "execution_count": 22,
   "metadata": {},
   "outputs": [
    {
     "data": {
      "text/html": [
       "<div>\n",
       "<style scoped>\n",
       "    .dataframe tbody tr th:only-of-type {\n",
       "        vertical-align: middle;\n",
       "    }\n",
       "\n",
       "    .dataframe tbody tr th {\n",
       "        vertical-align: top;\n",
       "    }\n",
       "\n",
       "    .dataframe thead th {\n",
       "        text-align: right;\n",
       "    }\n",
       "</style>\n",
       "<table border=\"1\" class=\"dataframe\">\n",
       "  <thead>\n",
       "    <tr style=\"text-align: right;\">\n",
       "      <th></th>\n",
       "      <th>best_params</th>\n",
       "      <th>model_name</th>\n",
       "      <th>test_score</th>\n",
       "      <th>train_score</th>\n",
       "    </tr>\n",
       "  </thead>\n",
       "  <tbody>\n",
       "    <tr>\n",
       "      <td>0</td>\n",
       "      <td>strategy: constant</td>\n",
       "      <td>DummyClassifier</td>\n",
       "      <td>0.184578</td>\n",
       "      <td>0.184593</td>\n",
       "    </tr>\n",
       "    <tr>\n",
       "      <td>1</td>\n",
       "      <td>{'C': 4.4, 'class_weight': 'balanced', 'fit_in...</td>\n",
       "      <td>LogisticRegression balanced</td>\n",
       "      <td>0.732107</td>\n",
       "      <td>0.830707</td>\n",
       "    </tr>\n",
       "    <tr>\n",
       "      <td>2</td>\n",
       "      <td>{'alpha': 5e-05, 'class_weight': 'balanced', '...</td>\n",
       "      <td>SGDClassifier balanced</td>\n",
       "      <td>0.720483</td>\n",
       "      <td>0.766320</td>\n",
       "    </tr>\n",
       "    <tr>\n",
       "      <td>3</td>\n",
       "      <td>{'class_weight': 'balanced', 'class_weights': ...</td>\n",
       "      <td>LGBMClassifier balanced</td>\n",
       "      <td>0.751486</td>\n",
       "      <td>0.843972</td>\n",
       "    </tr>\n",
       "  </tbody>\n",
       "</table>\n",
       "</div>"
      ],
      "text/plain": [
       "                                         best_params  \\\n",
       "0                                 strategy: constant   \n",
       "1  {'C': 4.4, 'class_weight': 'balanced', 'fit_in...   \n",
       "2  {'alpha': 5e-05, 'class_weight': 'balanced', '...   \n",
       "3  {'class_weight': 'balanced', 'class_weights': ...   \n",
       "\n",
       "                    model_name  test_score  train_score  \n",
       "0              DummyClassifier    0.184578     0.184593  \n",
       "1  LogisticRegression balanced    0.732107     0.830707  \n",
       "2       SGDClassifier balanced    0.720483     0.766320  \n",
       "3    LGBMClassifier balanced      0.751486     0.843972  "
      ]
     },
     "execution_count": 22,
     "metadata": {},
     "output_type": "execute_result"
    }
   ],
   "source": [
    "model_types_compare"
   ]
  },
  {
   "cell_type": "markdown",
   "metadata": {},
   "source": [
    "<b>Вывод</b><br>\n",
    "Как можно видеть, качество абсолютно всех рассмотренных моделей намного выше, чем у dummyclassifier. Наиболее низкая степень переобучения -у SGDClassifier, однако у LogisticRegression и LGBMClassifier качество несколько выше. При этом у LGBMClassifier степень переобучения заметно ниже, чем у логистической регрессии. Это говорит о том, что среди рассмотренных моделей LGBMClassifier - наиболее корректно работающая модель"
   ]
  }
 ],
 "metadata": {
  "ExecuteTimeLog": [
   {
    "duration": 1133,
    "start_time": "2021-07-23T12:54:22.388Z"
   },
   {
    "duration": 1577,
    "start_time": "2021-07-23T12:54:31.777Z"
   },
   {
    "duration": 4860,
    "start_time": "2021-07-23T12:54:43.687Z"
   },
   {
    "duration": 782,
    "start_time": "2021-07-23T12:55:58.277Z"
   },
   {
    "duration": 6,
    "start_time": "2021-07-23T12:56:38.865Z"
   },
   {
    "duration": 6,
    "start_time": "2021-07-23T12:56:55.952Z"
   },
   {
    "duration": 1519,
    "start_time": "2021-07-23T13:00:04.445Z"
   },
   {
    "duration": 400,
    "start_time": "2021-07-23T13:01:34.384Z"
   },
   {
    "duration": 119,
    "start_time": "2021-07-23T13:02:04.063Z"
   },
   {
    "duration": 5858,
    "start_time": "2021-07-23T13:02:08.662Z"
   },
   {
    "duration": 6712,
    "start_time": "2021-07-23T13:02:36.344Z"
   },
   {
    "duration": 938,
    "start_time": "2021-07-23T13:05:31.107Z"
   },
   {
    "duration": 4038,
    "start_time": "2021-07-23T13:05:38.243Z"
   },
   {
    "duration": 382,
    "start_time": "2021-07-23T13:05:45.327Z"
   },
   {
    "duration": 6,
    "start_time": "2021-07-23T13:06:11.714Z"
   },
   {
    "duration": 6,
    "start_time": "2021-07-23T13:18:31.723Z"
   },
   {
    "duration": 5,
    "start_time": "2021-07-23T13:21:50.433Z"
   },
   {
    "duration": 5,
    "start_time": "2021-07-23T13:24:49.255Z"
   },
   {
    "duration": 4,
    "start_time": "2021-07-23T13:25:21.921Z"
   },
   {
    "duration": 359,
    "start_time": "2021-07-23T13:26:29.031Z"
   },
   {
    "duration": 481,
    "start_time": "2021-07-23T13:26:49.432Z"
   },
   {
    "duration": 789,
    "start_time": "2021-07-23T13:26:58.370Z"
   },
   {
    "duration": 2885,
    "start_time": "2021-07-23T13:27:08.618Z"
   },
   {
    "duration": 356,
    "start_time": "2021-07-23T13:28:11.364Z"
   },
   {
    "duration": 679,
    "start_time": "2021-07-23T13:28:36.079Z"
   },
   {
    "duration": 5,
    "start_time": "2021-07-23T13:28:58.054Z"
   },
   {
    "duration": 348,
    "start_time": "2021-07-23T13:29:09.136Z"
   },
   {
    "duration": 1066,
    "start_time": "2021-07-23T13:30:04.556Z"
   },
   {
    "duration": 115472,
    "start_time": "2021-07-23T13:30:50.890Z"
   },
   {
    "duration": 40,
    "start_time": "2021-07-23T13:44:45.913Z"
   },
   {
    "duration": 247,
    "start_time": "2021-07-23T13:48:18.279Z"
   },
   {
    "duration": 10437,
    "start_time": "2021-07-23T13:51:18.237Z"
   },
   {
    "duration": 12027,
    "start_time": "2021-07-23T14:21:32.371Z"
   },
   {
    "duration": 303,
    "start_time": "2021-07-23T14:24:55.639Z"
   },
   {
    "duration": 2148,
    "start_time": "2021-07-24T07:37:53.932Z"
   },
   {
    "duration": 782,
    "start_time": "2021-07-24T07:37:56.083Z"
   },
   {
    "duration": 16,
    "start_time": "2021-07-24T07:37:56.868Z"
   },
   {
    "duration": 5,
    "start_time": "2021-07-24T07:37:56.886Z"
   },
   {
    "duration": 353,
    "start_time": "2021-07-24T07:37:56.894Z"
   },
   {
    "duration": 4,
    "start_time": "2021-07-24T07:37:57.249Z"
   },
   {
    "duration": 9,
    "start_time": "2021-07-24T07:37:57.255Z"
   },
   {
    "duration": 2786,
    "start_time": "2021-07-24T07:37:57.267Z"
   },
   {
    "duration": 115394,
    "start_time": "2021-07-24T07:38:00.056Z"
   },
   {
    "duration": 116,
    "start_time": "2021-07-24T07:39:55.452Z"
   },
   {
    "duration": 22698,
    "start_time": "2021-07-24T07:39:55.571Z"
   },
   {
    "duration": 36,
    "start_time": "2021-07-24T07:40:22.233Z"
   },
   {
    "duration": 8544,
    "start_time": "2021-07-24T07:43:26.310Z"
   },
   {
    "duration": 8311,
    "start_time": "2021-07-24T07:44:40.540Z"
   },
   {
    "duration": 8249,
    "start_time": "2021-07-24T07:55:36.204Z"
   },
   {
    "duration": 8251,
    "start_time": "2021-07-24T07:57:13.311Z"
   },
   {
    "duration": 1538,
    "start_time": "2021-07-24T12:07:07.239Z"
   },
   {
    "duration": 581,
    "start_time": "2021-07-24T12:07:08.779Z"
   },
   {
    "duration": 81,
    "start_time": "2021-07-24T12:07:09.362Z"
   },
   {
    "duration": 984,
    "start_time": "2021-07-24T12:07:08.462Z"
   },
   {
    "duration": 981,
    "start_time": "2021-07-24T12:07:08.466Z"
   },
   {
    "duration": 979,
    "start_time": "2021-07-24T12:07:08.469Z"
   },
   {
    "duration": 973,
    "start_time": "2021-07-24T12:07:08.476Z"
   },
   {
    "duration": 972,
    "start_time": "2021-07-24T12:07:08.479Z"
   },
   {
    "duration": 971,
    "start_time": "2021-07-24T12:07:08.481Z"
   },
   {
    "duration": 969,
    "start_time": "2021-07-24T12:07:08.484Z"
   },
   {
    "duration": 964,
    "start_time": "2021-07-24T12:07:08.491Z"
   },
   {
    "duration": 962,
    "start_time": "2021-07-24T12:07:08.494Z"
   },
   {
    "duration": 960,
    "start_time": "2021-07-24T12:07:08.497Z"
   },
   {
    "duration": 93,
    "start_time": "2021-07-24T12:08:07.803Z"
   },
   {
    "duration": 372,
    "start_time": "2021-07-24T12:09:08.008Z"
   },
   {
    "duration": 81,
    "start_time": "2021-07-24T12:09:26.435Z"
   },
   {
    "duration": 80,
    "start_time": "2021-07-24T12:11:35.004Z"
   },
   {
    "duration": 74,
    "start_time": "2021-07-24T12:12:19.903Z"
   },
   {
    "duration": 231,
    "start_time": "2021-07-24T12:12:32.826Z"
   },
   {
    "duration": 242,
    "start_time": "2021-07-24T12:12:49.036Z"
   },
   {
    "duration": 20,
    "start_time": "2021-07-24T12:13:01.764Z"
   },
   {
    "duration": 4,
    "start_time": "2021-07-24T12:13:04.679Z"
   },
   {
    "duration": 3,
    "start_time": "2021-07-24T12:13:05.464Z"
   },
   {
    "duration": 205,
    "start_time": "2021-07-24T12:13:07.340Z"
   },
   {
    "duration": 3,
    "start_time": "2021-07-24T12:13:10.205Z"
   },
   {
    "duration": 3,
    "start_time": "2021-07-24T12:13:11.400Z"
   },
   {
    "duration": 1767,
    "start_time": "2021-07-24T12:13:12.959Z"
   },
   {
    "duration": 63451,
    "start_time": "2021-07-24T12:13:17.250Z"
   },
   {
    "duration": 27,
    "start_time": "2021-07-24T12:14:24.384Z"
   },
   {
    "duration": 264,
    "start_time": "2021-07-24T12:14:27.241Z"
   },
   {
    "duration": 5364,
    "start_time": "2021-07-24T12:14:29.597Z"
   },
   {
    "duration": 256,
    "start_time": "2021-07-24T12:16:10.936Z"
   },
   {
    "duration": 231,
    "start_time": "2021-07-24T12:16:22.170Z"
   },
   {
    "duration": 4546,
    "start_time": "2021-07-24T12:16:46.268Z"
   },
   {
    "duration": 4704,
    "start_time": "2021-07-24T12:17:04.366Z"
   },
   {
    "duration": 4,
    "start_time": "2021-07-24T12:19:01.305Z"
   },
   {
    "duration": 4683,
    "start_time": "2021-07-24T12:22:10.371Z"
   },
   {
    "duration": 258,
    "start_time": "2021-07-24T12:22:56.758Z"
   },
   {
    "duration": 4,
    "start_time": "2021-07-24T12:23:00.906Z"
   },
   {
    "duration": 7364,
    "start_time": "2021-07-24T12:25:25.044Z"
   },
   {
    "duration": 1695,
    "start_time": "2021-07-24T12:43:30.092Z"
   },
   {
    "duration": 605,
    "start_time": "2021-07-24T12:43:31.789Z"
   },
   {
    "duration": 21,
    "start_time": "2021-07-24T12:43:32.396Z"
   },
   {
    "duration": 3,
    "start_time": "2021-07-24T12:43:32.419Z"
   },
   {
    "duration": 14,
    "start_time": "2021-07-24T12:43:32.423Z"
   },
   {
    "duration": 18,
    "start_time": "2021-07-24T12:43:32.439Z"
   },
   {
    "duration": 248,
    "start_time": "2021-07-24T12:43:32.458Z"
   },
   {
    "duration": 3,
    "start_time": "2021-07-24T12:43:32.709Z"
   },
   {
    "duration": 9,
    "start_time": "2021-07-24T12:43:32.714Z"
   },
   {
    "duration": 1852,
    "start_time": "2021-07-24T12:43:32.724Z"
   },
   {
    "duration": 62670,
    "start_time": "2021-07-24T12:43:34.578Z"
   },
   {
    "duration": 25,
    "start_time": "2021-07-24T12:44:37.250Z"
   },
   {
    "duration": 3,
    "start_time": "2021-07-24T12:44:37.276Z"
   },
   {
    "duration": 230,
    "start_time": "2021-07-24T12:44:37.291Z"
   },
   {
    "duration": 7989,
    "start_time": "2021-07-24T12:44:37.523Z"
   },
   {
    "duration": 742,
    "start_time": "2021-07-24T12:44:44.772Z"
   },
   {
    "duration": 3013,
    "start_time": "2021-07-24T12:44:59.335Z"
   },
   {
    "duration": 7606,
    "start_time": "2021-07-24T12:45:59.487Z"
   },
   {
    "duration": 1535,
    "start_time": "2021-07-24T12:53:43.734Z"
   },
   {
    "duration": 594,
    "start_time": "2021-07-24T12:53:45.271Z"
   },
   {
    "duration": 31,
    "start_time": "2021-07-24T12:53:45.868Z"
   },
   {
    "duration": 4,
    "start_time": "2021-07-24T12:53:45.901Z"
   },
   {
    "duration": 5,
    "start_time": "2021-07-24T12:53:45.907Z"
   },
   {
    "duration": 3,
    "start_time": "2021-07-24T12:53:45.913Z"
   },
   {
    "duration": 236,
    "start_time": "2021-07-24T12:53:45.918Z"
   },
   {
    "duration": 3,
    "start_time": "2021-07-24T12:53:46.156Z"
   },
   {
    "duration": 6,
    "start_time": "2021-07-24T12:53:46.161Z"
   },
   {
    "duration": 1798,
    "start_time": "2021-07-24T12:53:46.168Z"
   },
   {
    "duration": 62489,
    "start_time": "2021-07-24T12:53:47.968Z"
   },
   {
    "duration": 36,
    "start_time": "2021-07-24T12:54:50.459Z"
   },
   {
    "duration": 3,
    "start_time": "2021-07-24T12:54:50.497Z"
   },
   {
    "duration": 224,
    "start_time": "2021-07-24T12:54:50.501Z"
   },
   {
    "duration": 7456,
    "start_time": "2021-07-24T12:54:50.727Z"
   },
   {
    "duration": 964,
    "start_time": "2021-07-24T12:54:57.221Z"
   },
   {
    "duration": 4,
    "start_time": "2021-07-24T12:55:30.059Z"
   },
   {
    "duration": 5,
    "start_time": "2021-07-24T12:58:30.945Z"
   },
   {
    "duration": 4,
    "start_time": "2021-07-24T13:00:54.537Z"
   },
   {
    "duration": 3395,
    "start_time": "2021-07-24T16:07:39.864Z"
   },
   {
    "duration": 843,
    "start_time": "2021-07-24T16:07:43.264Z"
   },
   {
    "duration": 27,
    "start_time": "2021-07-24T16:07:44.110Z"
   },
   {
    "duration": 26,
    "start_time": "2021-07-24T16:07:44.140Z"
   },
   {
    "duration": 13,
    "start_time": "2021-07-24T16:07:44.169Z"
   },
   {
    "duration": 7,
    "start_time": "2021-07-24T16:07:44.185Z"
   },
   {
    "duration": 7,
    "start_time": "2021-07-24T16:07:44.195Z"
   },
   {
    "duration": 10,
    "start_time": "2021-07-24T16:07:44.206Z"
   },
   {
    "duration": 2775,
    "start_time": "2021-07-24T16:07:44.218Z"
   },
   {
    "duration": 134188,
    "start_time": "2021-07-24T16:07:46.996Z"
   },
   {
    "duration": 55,
    "start_time": "2021-07-24T16:10:01.188Z"
   },
   {
    "duration": 19,
    "start_time": "2021-07-24T16:10:01.246Z"
   },
   {
    "duration": 249,
    "start_time": "2021-07-24T16:10:01.268Z"
   },
   {
    "duration": 18422,
    "start_time": "2021-07-24T16:11:07.697Z"
   },
   {
    "duration": 2285,
    "start_time": "2021-07-24T16:11:47.789Z"
   },
   {
    "duration": 855,
    "start_time": "2021-07-24T16:11:50.076Z"
   },
   {
    "duration": 40,
    "start_time": "2021-07-24T16:11:50.934Z"
   },
   {
    "duration": 5,
    "start_time": "2021-07-24T16:11:50.977Z"
   },
   {
    "duration": 30,
    "start_time": "2021-07-24T16:11:50.984Z"
   },
   {
    "duration": 45,
    "start_time": "2021-07-24T16:11:51.016Z"
   },
   {
    "duration": 19,
    "start_time": "2021-07-24T16:11:51.065Z"
   },
   {
    "duration": 10,
    "start_time": "2021-07-24T16:11:51.088Z"
   },
   {
    "duration": 3861,
    "start_time": "2021-07-24T16:11:51.104Z"
   },
   {
    "duration": 130524,
    "start_time": "2021-07-24T16:11:54.969Z"
   },
   {
    "duration": 33,
    "start_time": "2021-07-24T16:14:05.495Z"
   },
   {
    "duration": 4,
    "start_time": "2021-07-24T16:14:05.531Z"
   },
   {
    "duration": 256,
    "start_time": "2021-07-24T16:14:05.538Z"
   },
   {
    "duration": 18178,
    "start_time": "2021-07-24T16:14:05.797Z"
   },
   {
    "duration": 2270,
    "start_time": "2021-07-24T16:17:00.236Z"
   },
   {
    "duration": 844,
    "start_time": "2021-07-24T16:17:02.509Z"
   },
   {
    "duration": 32,
    "start_time": "2021-07-24T16:17:03.356Z"
   },
   {
    "duration": 5,
    "start_time": "2021-07-24T16:17:03.391Z"
   },
   {
    "duration": 10,
    "start_time": "2021-07-24T16:17:03.399Z"
   },
   {
    "duration": 8,
    "start_time": "2021-07-24T16:17:03.411Z"
   },
   {
    "duration": 51,
    "start_time": "2021-07-24T16:17:03.421Z"
   },
   {
    "duration": 5,
    "start_time": "2021-07-24T16:17:03.476Z"
   },
   {
    "duration": 2694,
    "start_time": "2021-07-24T16:17:03.484Z"
   },
   {
    "duration": 121345,
    "start_time": "2021-07-24T16:17:06.180Z"
   },
   {
    "duration": 46,
    "start_time": "2021-07-24T16:19:07.527Z"
   },
   {
    "duration": 4,
    "start_time": "2021-07-24T16:19:07.575Z"
   },
   {
    "duration": 228,
    "start_time": "2021-07-24T16:19:07.582Z"
   },
   {
    "duration": 12356,
    "start_time": "2021-07-24T16:20:08.369Z"
   },
   {
    "duration": 2260,
    "start_time": "2021-07-24T16:22:12.692Z"
   },
   {
    "duration": 839,
    "start_time": "2021-07-24T16:22:14.955Z"
   },
   {
    "duration": 28,
    "start_time": "2021-07-24T16:22:15.800Z"
   },
   {
    "duration": 32,
    "start_time": "2021-07-24T16:22:15.830Z"
   },
   {
    "duration": 6,
    "start_time": "2021-07-24T16:22:15.865Z"
   },
   {
    "duration": 5,
    "start_time": "2021-07-24T16:22:15.873Z"
   },
   {
    "duration": 8,
    "start_time": "2021-07-24T16:22:15.881Z"
   },
   {
    "duration": 10,
    "start_time": "2021-07-24T16:22:15.892Z"
   },
   {
    "duration": 2692,
    "start_time": "2021-07-24T16:22:15.905Z"
   },
   {
    "duration": 129583,
    "start_time": "2021-07-24T16:22:18.599Z"
   },
   {
    "duration": 49,
    "start_time": "2021-07-24T16:24:28.185Z"
   },
   {
    "duration": 6,
    "start_time": "2021-07-24T16:24:28.237Z"
   },
   {
    "duration": 230,
    "start_time": "2021-07-24T16:24:28.263Z"
   },
   {
    "duration": 17630,
    "start_time": "2021-07-24T16:24:28.495Z"
   },
   {
    "duration": 247,
    "start_time": "2021-07-24T16:25:25.273Z"
   },
   {
    "duration": 198,
    "start_time": "2021-07-24T16:25:56.949Z"
   },
   {
    "duration": 4134,
    "start_time": "2021-07-24T16:44:57.176Z"
   },
   {
    "duration": 2301,
    "start_time": "2021-07-24T17:47:54.575Z"
   },
   {
    "duration": 832,
    "start_time": "2021-07-24T17:47:56.878Z"
   },
   {
    "duration": 29,
    "start_time": "2021-07-24T17:47:57.713Z"
   },
   {
    "duration": 18,
    "start_time": "2021-07-24T17:47:57.747Z"
   },
   {
    "duration": 26,
    "start_time": "2021-07-24T17:47:57.767Z"
   },
   {
    "duration": 6,
    "start_time": "2021-07-24T17:47:57.796Z"
   },
   {
    "duration": 27,
    "start_time": "2021-07-24T17:47:57.804Z"
   },
   {
    "duration": 6,
    "start_time": "2021-07-24T17:47:57.836Z"
   },
   {
    "duration": 2703,
    "start_time": "2021-07-24T17:47:57.845Z"
   },
   {
    "duration": 122604,
    "start_time": "2021-07-24T17:48:00.551Z"
   },
   {
    "duration": 33,
    "start_time": "2021-07-24T17:50:03.157Z"
   },
   {
    "duration": 4,
    "start_time": "2021-07-24T17:50:03.193Z"
   },
   {
    "duration": 267,
    "start_time": "2021-07-24T17:50:03.199Z"
   },
   {
    "duration": 11421,
    "start_time": "2021-07-24T17:50:03.468Z"
   },
   {
    "duration": 3788,
    "start_time": "2021-07-24T17:50:14.891Z"
   },
   {
    "duration": 5,
    "start_time": "2021-07-24T17:50:18.681Z"
   },
   {
    "duration": 10,
    "start_time": "2021-07-24T17:50:18.688Z"
   },
   {
    "duration": 820,
    "start_time": "2021-07-24T17:50:18.700Z"
   },
   {
    "duration": 856,
    "start_time": "2021-07-24T17:50:18.667Z"
   },
   {
    "duration": 831,
    "start_time": "2021-07-24T17:50:18.694Z"
   },
   {
    "duration": 830,
    "start_time": "2021-07-24T17:50:18.696Z"
   },
   {
    "duration": 275,
    "start_time": "2021-07-24T17:51:49.384Z"
   },
   {
    "duration": 255,
    "start_time": "2021-07-24T17:52:03.978Z"
   },
   {
    "duration": 9360,
    "start_time": "2021-07-24T17:52:30.418Z"
   },
   {
    "duration": 2318,
    "start_time": "2021-07-24T18:56:40.463Z"
   },
   {
    "duration": 853,
    "start_time": "2021-07-24T18:56:42.784Z"
   },
   {
    "duration": 38,
    "start_time": "2021-07-24T18:56:43.640Z"
   },
   {
    "duration": 8,
    "start_time": "2021-07-24T18:56:43.681Z"
   },
   {
    "duration": 6,
    "start_time": "2021-07-24T18:56:43.692Z"
   },
   {
    "duration": 11,
    "start_time": "2021-07-24T18:56:43.700Z"
   },
   {
    "duration": 6,
    "start_time": "2021-07-24T18:56:43.714Z"
   },
   {
    "duration": 4,
    "start_time": "2021-07-24T18:56:43.762Z"
   },
   {
    "duration": 2699,
    "start_time": "2021-07-24T18:56:43.770Z"
   },
   {
    "duration": 122808,
    "start_time": "2021-07-24T18:56:46.471Z"
   },
   {
    "duration": 34,
    "start_time": "2021-07-24T18:58:49.281Z"
   },
   {
    "duration": 5,
    "start_time": "2021-07-24T18:58:49.317Z"
   },
   {
    "duration": 268,
    "start_time": "2021-07-24T18:58:49.324Z"
   },
   {
    "duration": 11571,
    "start_time": "2021-07-24T18:58:49.595Z"
   },
   {
    "duration": 3,
    "start_time": "2021-07-24T18:59:01.169Z"
   },
   {
    "duration": 3781,
    "start_time": "2021-07-24T18:59:01.174Z"
   },
   {
    "duration": 5,
    "start_time": "2021-07-24T18:59:04.958Z"
   },
   {
    "duration": 23,
    "start_time": "2021-07-24T18:59:04.966Z"
   },
   {
    "duration": 843,
    "start_time": "2021-07-24T18:59:04.992Z"
   },
   {
    "duration": 717,
    "start_time": "2021-07-24T18:59:05.121Z"
   },
   {
    "duration": 718,
    "start_time": "2021-07-24T18:59:05.122Z"
   },
   {
    "duration": 718,
    "start_time": "2021-07-24T18:59:05.123Z"
   },
   {
    "duration": 6,
    "start_time": "2021-07-24T19:38:38.194Z"
   },
   {
    "duration": 6,
    "start_time": "2021-07-24T19:39:14.449Z"
   },
   {
    "duration": 255,
    "start_time": "2021-07-24T19:40:34.642Z"
   },
   {
    "duration": 6,
    "start_time": "2021-07-24T19:40:40.748Z"
   },
   {
    "duration": 9059,
    "start_time": "2021-07-24T19:51:13.873Z"
   },
   {
    "duration": 5,
    "start_time": "2021-07-24T19:58:00.346Z"
   },
   {
    "duration": 6,
    "start_time": "2021-07-24T19:58:10.199Z"
   },
   {
    "duration": 8,
    "start_time": "2021-07-24T20:01:28.537Z"
   },
   {
    "duration": 603,
    "start_time": "2021-07-24T20:01:37.214Z"
   },
   {
    "duration": 7,
    "start_time": "2021-07-24T20:06:44.777Z"
   },
   {
    "duration": 630,
    "start_time": "2021-07-24T20:06:48.268Z"
   },
   {
    "duration": 246,
    "start_time": "2021-07-24T20:09:39.487Z"
   },
   {
    "duration": 10362,
    "start_time": "2021-07-24T20:10:04.618Z"
   },
   {
    "duration": 18,
    "start_time": "2021-07-24T20:10:49.849Z"
   },
   {
    "duration": 10542,
    "start_time": "2021-07-24T20:11:18.351Z"
   },
   {
    "duration": 7,
    "start_time": "2021-07-24T20:12:40.729Z"
   },
   {
    "duration": 549,
    "start_time": "2021-07-24T20:12:46.158Z"
   },
   {
    "duration": 10102,
    "start_time": "2021-07-24T20:13:15.895Z"
   },
   {
    "duration": 7581,
    "start_time": "2021-07-24T20:13:34.326Z"
   },
   {
    "duration": 9869,
    "start_time": "2021-07-24T20:13:51.139Z"
   },
   {
    "duration": 367,
    "start_time": "2021-07-24T20:22:09.118Z"
   },
   {
    "duration": 615,
    "start_time": "2021-07-24T20:22:55.232Z"
   },
   {
    "duration": 685,
    "start_time": "2021-07-24T20:23:11.116Z"
   },
   {
    "duration": 569,
    "start_time": "2021-07-24T20:23:19.854Z"
   },
   {
    "duration": 627,
    "start_time": "2021-07-24T20:24:12.959Z"
   },
   {
    "duration": 617,
    "start_time": "2021-07-24T20:24:38.153Z"
   },
   {
    "duration": 7,
    "start_time": "2021-07-24T20:26:16.135Z"
   },
   {
    "duration": 28196,
    "start_time": "2021-07-24T20:26:19.833Z"
   },
   {
    "duration": 7,
    "start_time": "2021-07-24T20:28:18.879Z"
   },
   {
    "duration": 26858,
    "start_time": "2021-07-24T20:28:22.164Z"
   },
   {
    "duration": 2100,
    "start_time": "2021-07-24T20:29:06.199Z"
   },
   {
    "duration": 615,
    "start_time": "2021-07-24T20:29:40.806Z"
   },
   {
    "duration": 2310,
    "start_time": "2021-07-25T07:11:30.300Z"
   },
   {
    "duration": 752,
    "start_time": "2021-07-25T07:11:32.613Z"
   },
   {
    "duration": 6,
    "start_time": "2021-07-25T07:11:33.367Z"
   },
   {
    "duration": 25,
    "start_time": "2021-07-25T07:11:33.375Z"
   },
   {
    "duration": 4,
    "start_time": "2021-07-25T07:11:33.402Z"
   },
   {
    "duration": 18,
    "start_time": "2021-07-25T07:11:33.408Z"
   },
   {
    "duration": 545,
    "start_time": "2021-07-25T07:11:33.428Z"
   },
   {
    "duration": 987,
    "start_time": "2021-07-25T07:11:32.989Z"
   },
   {
    "duration": 985,
    "start_time": "2021-07-25T07:11:32.992Z"
   },
   {
    "duration": 984,
    "start_time": "2021-07-25T07:11:32.994Z"
   },
   {
    "duration": 984,
    "start_time": "2021-07-25T07:11:32.996Z"
   },
   {
    "duration": 982,
    "start_time": "2021-07-25T07:11:32.999Z"
   },
   {
    "duration": 981,
    "start_time": "2021-07-25T07:11:33.001Z"
   },
   {
    "duration": 980,
    "start_time": "2021-07-25T07:11:33.004Z"
   },
   {
    "duration": 979,
    "start_time": "2021-07-25T07:11:33.006Z"
   },
   {
    "duration": 978,
    "start_time": "2021-07-25T07:11:33.008Z"
   },
   {
    "duration": 976,
    "start_time": "2021-07-25T07:11:33.011Z"
   },
   {
    "duration": 976,
    "start_time": "2021-07-25T07:11:33.013Z"
   },
   {
    "duration": 975,
    "start_time": "2021-07-25T07:11:33.015Z"
   },
   {
    "duration": 974,
    "start_time": "2021-07-25T07:11:33.017Z"
   },
   {
    "duration": 972,
    "start_time": "2021-07-25T07:11:33.020Z"
   },
   {
    "duration": 968,
    "start_time": "2021-07-25T07:11:33.025Z"
   },
   {
    "duration": 968,
    "start_time": "2021-07-25T07:11:33.027Z"
   },
   {
    "duration": 966,
    "start_time": "2021-07-25T07:11:33.030Z"
   },
   {
    "duration": 965,
    "start_time": "2021-07-25T07:11:33.032Z"
   },
   {
    "duration": 963,
    "start_time": "2021-07-25T07:11:33.036Z"
   },
   {
    "duration": 962,
    "start_time": "2021-07-25T07:11:33.038Z"
   },
   {
    "duration": 4,
    "start_time": "2021-07-25T07:12:24.862Z"
   },
   {
    "duration": 2264,
    "start_time": "2021-07-25T07:12:59.741Z"
   },
   {
    "duration": 773,
    "start_time": "2021-07-25T07:13:02.008Z"
   },
   {
    "duration": 6,
    "start_time": "2021-07-25T07:13:02.786Z"
   },
   {
    "duration": 6,
    "start_time": "2021-07-25T07:13:02.802Z"
   },
   {
    "duration": 9,
    "start_time": "2021-07-25T07:13:02.811Z"
   },
   {
    "duration": 8,
    "start_time": "2021-07-25T07:13:02.823Z"
   },
   {
    "duration": 2280,
    "start_time": "2021-07-25T07:15:03.000Z"
   },
   {
    "duration": 779,
    "start_time": "2021-07-25T07:15:05.283Z"
   },
   {
    "duration": 6,
    "start_time": "2021-07-25T07:15:06.064Z"
   },
   {
    "duration": 29,
    "start_time": "2021-07-25T07:15:06.073Z"
   },
   {
    "duration": 6,
    "start_time": "2021-07-25T07:15:06.104Z"
   },
   {
    "duration": 5,
    "start_time": "2021-07-25T07:15:06.112Z"
   },
   {
    "duration": 2233,
    "start_time": "2021-07-25T07:15:53.959Z"
   },
   {
    "duration": 768,
    "start_time": "2021-07-25T07:15:56.195Z"
   },
   {
    "duration": 613,
    "start_time": "2021-07-25T07:15:56.966Z"
   },
   {
    "duration": 915,
    "start_time": "2021-07-25T07:15:56.668Z"
   },
   {
    "duration": 914,
    "start_time": "2021-07-25T07:15:56.671Z"
   },
   {
    "duration": 906,
    "start_time": "2021-07-25T07:15:56.680Z"
   },
   {
    "duration": 905,
    "start_time": "2021-07-25T07:15:56.683Z"
   },
   {
    "duration": 904,
    "start_time": "2021-07-25T07:15:56.685Z"
   },
   {
    "duration": 901,
    "start_time": "2021-07-25T07:15:56.690Z"
   },
   {
    "duration": 900,
    "start_time": "2021-07-25T07:15:56.693Z"
   },
   {
    "duration": 900,
    "start_time": "2021-07-25T07:15:56.695Z"
   },
   {
    "duration": 900,
    "start_time": "2021-07-25T07:15:56.697Z"
   },
   {
    "duration": 900,
    "start_time": "2021-07-25T07:15:56.699Z"
   },
   {
    "duration": 900,
    "start_time": "2021-07-25T07:15:56.701Z"
   },
   {
    "duration": 899,
    "start_time": "2021-07-25T07:15:56.704Z"
   },
   {
    "duration": 898,
    "start_time": "2021-07-25T07:15:56.707Z"
   },
   {
    "duration": 898,
    "start_time": "2021-07-25T07:15:56.709Z"
   },
   {
    "duration": 898,
    "start_time": "2021-07-25T07:15:56.711Z"
   },
   {
    "duration": 898,
    "start_time": "2021-07-25T07:15:56.713Z"
   },
   {
    "duration": 898,
    "start_time": "2021-07-25T07:15:56.715Z"
   },
   {
    "duration": 897,
    "start_time": "2021-07-25T07:15:56.717Z"
   },
   {
    "duration": 896,
    "start_time": "2021-07-25T07:15:56.720Z"
   },
   {
    "duration": 896,
    "start_time": "2021-07-25T07:15:56.722Z"
   },
   {
    "duration": 896,
    "start_time": "2021-07-25T07:15:56.724Z"
   },
   {
    "duration": 896,
    "start_time": "2021-07-25T07:15:56.726Z"
   },
   {
    "duration": 895,
    "start_time": "2021-07-25T07:15:56.729Z"
   },
   {
    "duration": 895,
    "start_time": "2021-07-25T07:15:56.731Z"
   },
   {
    "duration": 887,
    "start_time": "2021-07-25T07:15:56.741Z"
   },
   {
    "duration": 26,
    "start_time": "2021-07-25T07:16:18.275Z"
   },
   {
    "duration": 7,
    "start_time": "2021-07-25T07:16:18.304Z"
   },
   {
    "duration": 6,
    "start_time": "2021-07-25T07:16:18.314Z"
   },
   {
    "duration": 6,
    "start_time": "2021-07-25T07:16:18.322Z"
   },
   {
    "duration": 5,
    "start_time": "2021-07-25T07:16:18.331Z"
   },
   {
    "duration": 2283,
    "start_time": "2021-07-25T07:17:56.543Z"
   },
   {
    "duration": 1107,
    "start_time": "2021-07-25T07:17:58.829Z"
   },
   {
    "duration": 5,
    "start_time": "2021-07-25T07:17:59.940Z"
   },
   {
    "duration": 5,
    "start_time": "2021-07-25T07:17:59.948Z"
   },
   {
    "duration": 4,
    "start_time": "2021-07-25T07:17:59.956Z"
   },
   {
    "duration": 41,
    "start_time": "2021-07-25T07:17:59.962Z"
   },
   {
    "duration": 2482,
    "start_time": "2021-07-25T07:19:29.623Z"
   },
   {
    "duration": 808,
    "start_time": "2021-07-25T07:19:32.108Z"
   },
   {
    "duration": 6,
    "start_time": "2021-07-25T07:19:32.919Z"
   },
   {
    "duration": 6,
    "start_time": "2021-07-25T07:19:32.928Z"
   },
   {
    "duration": 8,
    "start_time": "2021-07-25T07:19:32.937Z"
   },
   {
    "duration": 7,
    "start_time": "2021-07-25T07:19:32.948Z"
   },
   {
    "duration": 9149,
    "start_time": "2021-07-25T07:19:32.958Z"
   },
   {
    "duration": 984,
    "start_time": "2021-07-25T07:19:41.127Z"
   },
   {
    "duration": 981,
    "start_time": "2021-07-25T07:19:41.131Z"
   },
   {
    "duration": 980,
    "start_time": "2021-07-25T07:19:41.133Z"
   },
   {
    "duration": 976,
    "start_time": "2021-07-25T07:19:41.138Z"
   },
   {
    "duration": 975,
    "start_time": "2021-07-25T07:19:41.140Z"
   },
   {
    "duration": 973,
    "start_time": "2021-07-25T07:19:41.144Z"
   },
   {
    "duration": 971,
    "start_time": "2021-07-25T07:19:41.147Z"
   },
   {
    "duration": 967,
    "start_time": "2021-07-25T07:19:41.152Z"
   },
   {
    "duration": 965,
    "start_time": "2021-07-25T07:19:41.155Z"
   },
   {
    "duration": 964,
    "start_time": "2021-07-25T07:19:41.158Z"
   },
   {
    "duration": 963,
    "start_time": "2021-07-25T07:19:41.160Z"
   },
   {
    "duration": 962,
    "start_time": "2021-07-25T07:19:41.162Z"
   },
   {
    "duration": 960,
    "start_time": "2021-07-25T07:19:41.165Z"
   },
   {
    "duration": 961,
    "start_time": "2021-07-25T07:19:41.166Z"
   },
   {
    "duration": 959,
    "start_time": "2021-07-25T07:19:41.169Z"
   },
   {
    "duration": 958,
    "start_time": "2021-07-25T07:19:41.171Z"
   },
   {
    "duration": 952,
    "start_time": "2021-07-25T07:19:41.178Z"
   },
   {
    "duration": 949,
    "start_time": "2021-07-25T07:19:41.183Z"
   },
   {
    "duration": 946,
    "start_time": "2021-07-25T07:19:41.187Z"
   },
   {
    "duration": 944,
    "start_time": "2021-07-25T07:19:41.190Z"
   },
   {
    "duration": 2172,
    "start_time": "2021-07-25T07:44:28.817Z"
   },
   {
    "duration": 766,
    "start_time": "2021-07-25T07:44:30.992Z"
   },
   {
    "duration": 7,
    "start_time": "2021-07-25T07:44:31.761Z"
   },
   {
    "duration": 30,
    "start_time": "2021-07-25T07:44:31.772Z"
   },
   {
    "duration": 12,
    "start_time": "2021-07-25T07:44:31.805Z"
   },
   {
    "duration": 24,
    "start_time": "2021-07-25T07:44:31.819Z"
   },
   {
    "duration": 2268,
    "start_time": "2021-07-25T07:44:59.354Z"
   },
   {
    "duration": 1243,
    "start_time": "2021-07-25T07:45:01.625Z"
   },
   {
    "duration": 37,
    "start_time": "2021-07-25T07:45:02.871Z"
   },
   {
    "duration": 7,
    "start_time": "2021-07-25T07:45:02.911Z"
   },
   {
    "duration": 21,
    "start_time": "2021-07-25T07:45:02.921Z"
   },
   {
    "duration": 6,
    "start_time": "2021-07-25T07:45:02.945Z"
   },
   {
    "duration": 7,
    "start_time": "2021-07-25T07:45:02.953Z"
   },
   {
    "duration": 2279,
    "start_time": "2021-07-25T08:40:25.419Z"
   },
   {
    "duration": 774,
    "start_time": "2021-07-25T08:40:27.701Z"
   },
   {
    "duration": 34,
    "start_time": "2021-07-25T08:40:28.478Z"
   },
   {
    "duration": 6,
    "start_time": "2021-07-25T08:40:28.515Z"
   },
   {
    "duration": 6,
    "start_time": "2021-07-25T08:40:28.524Z"
   },
   {
    "duration": 8,
    "start_time": "2021-07-25T08:40:28.533Z"
   },
   {
    "duration": 14,
    "start_time": "2021-07-25T08:40:28.544Z"
   },
   {
    "duration": 2266,
    "start_time": "2021-07-25T08:50:20.548Z"
   },
   {
    "duration": 770,
    "start_time": "2021-07-25T08:50:22.816Z"
   },
   {
    "duration": 33,
    "start_time": "2021-07-25T08:50:23.589Z"
   },
   {
    "duration": 5,
    "start_time": "2021-07-25T08:50:23.625Z"
   },
   {
    "duration": 11,
    "start_time": "2021-07-25T08:50:23.632Z"
   },
   {
    "duration": 8,
    "start_time": "2021-07-25T08:50:23.646Z"
   },
   {
    "duration": 19,
    "start_time": "2021-07-25T08:50:23.656Z"
   },
   {
    "duration": 9063,
    "start_time": "2021-07-25T08:50:23.700Z"
   },
   {
    "duration": 1224,
    "start_time": "2021-07-25T08:50:31.543Z"
   },
   {
    "duration": 1224,
    "start_time": "2021-07-25T08:50:31.545Z"
   },
   {
    "duration": 1224,
    "start_time": "2021-07-25T08:50:31.547Z"
   },
   {
    "duration": 1221,
    "start_time": "2021-07-25T08:50:31.552Z"
   },
   {
    "duration": 1218,
    "start_time": "2021-07-25T08:50:31.557Z"
   },
   {
    "duration": 1217,
    "start_time": "2021-07-25T08:50:31.560Z"
   },
   {
    "duration": 1216,
    "start_time": "2021-07-25T08:50:31.562Z"
   },
   {
    "duration": 1215,
    "start_time": "2021-07-25T08:50:31.565Z"
   },
   {
    "duration": 1215,
    "start_time": "2021-07-25T08:50:31.567Z"
   },
   {
    "duration": 1214,
    "start_time": "2021-07-25T08:50:31.569Z"
   },
   {
    "duration": 1214,
    "start_time": "2021-07-25T08:50:31.571Z"
   },
   {
    "duration": 1214,
    "start_time": "2021-07-25T08:50:31.573Z"
   },
   {
    "duration": 1214,
    "start_time": "2021-07-25T08:50:31.575Z"
   },
   {
    "duration": 1214,
    "start_time": "2021-07-25T08:50:31.577Z"
   },
   {
    "duration": 1215,
    "start_time": "2021-07-25T08:50:31.579Z"
   },
   {
    "duration": 1214,
    "start_time": "2021-07-25T08:50:31.582Z"
   },
   {
    "duration": 1214,
    "start_time": "2021-07-25T08:50:31.584Z"
   },
   {
    "duration": 1214,
    "start_time": "2021-07-25T08:50:31.586Z"
   },
   {
    "duration": 1214,
    "start_time": "2021-07-25T08:50:31.588Z"
   },
   {
    "duration": 1214,
    "start_time": "2021-07-25T08:50:31.590Z"
   },
   {
    "duration": 2347,
    "start_time": "2021-07-25T08:53:01.187Z"
   },
   {
    "duration": 1115,
    "start_time": "2021-07-25T08:53:03.536Z"
   },
   {
    "duration": 24,
    "start_time": "2021-07-25T08:53:04.654Z"
   },
   {
    "duration": 22,
    "start_time": "2021-07-25T08:53:04.680Z"
   },
   {
    "duration": 5,
    "start_time": "2021-07-25T08:53:04.704Z"
   },
   {
    "duration": 5,
    "start_time": "2021-07-25T08:53:04.712Z"
   },
   {
    "duration": 5,
    "start_time": "2021-07-25T08:53:04.719Z"
   },
   {
    "duration": 10203,
    "start_time": "2021-07-25T08:53:04.727Z"
   },
   {
    "duration": 1227,
    "start_time": "2021-07-25T08:53:13.709Z"
   },
   {
    "duration": 1226,
    "start_time": "2021-07-25T08:53:13.712Z"
   },
   {
    "duration": 1225,
    "start_time": "2021-07-25T08:53:13.715Z"
   },
   {
    "duration": 1226,
    "start_time": "2021-07-25T08:53:13.717Z"
   },
   {
    "duration": 1226,
    "start_time": "2021-07-25T08:53:13.719Z"
   },
   {
    "duration": 1225,
    "start_time": "2021-07-25T08:53:13.722Z"
   },
   {
    "duration": 1224,
    "start_time": "2021-07-25T08:53:13.725Z"
   },
   {
    "duration": 1225,
    "start_time": "2021-07-25T08:53:13.727Z"
   },
   {
    "duration": 1225,
    "start_time": "2021-07-25T08:53:13.729Z"
   },
   {
    "duration": 1224,
    "start_time": "2021-07-25T08:53:13.732Z"
   },
   {
    "duration": 1223,
    "start_time": "2021-07-25T08:53:13.735Z"
   },
   {
    "duration": 1223,
    "start_time": "2021-07-25T08:53:13.737Z"
   },
   {
    "duration": 1203,
    "start_time": "2021-07-25T08:53:13.759Z"
   },
   {
    "duration": 1202,
    "start_time": "2021-07-25T08:53:13.762Z"
   },
   {
    "duration": 1202,
    "start_time": "2021-07-25T08:53:13.764Z"
   },
   {
    "duration": 1202,
    "start_time": "2021-07-25T08:53:13.766Z"
   },
   {
    "duration": 1201,
    "start_time": "2021-07-25T08:53:13.769Z"
   },
   {
    "duration": 1241,
    "start_time": "2021-07-25T08:53:13.773Z"
   },
   {
    "duration": 1239,
    "start_time": "2021-07-25T08:53:13.776Z"
   },
   {
    "duration": 1239,
    "start_time": "2021-07-25T08:53:13.778Z"
   },
   {
    "duration": 7,
    "start_time": "2021-07-25T08:53:38.509Z"
   },
   {
    "duration": 740,
    "start_time": "2021-07-25T08:53:38.519Z"
   },
   {
    "duration": 37,
    "start_time": "2021-07-25T08:53:39.263Z"
   },
   {
    "duration": 6,
    "start_time": "2021-07-25T08:53:39.303Z"
   },
   {
    "duration": 7,
    "start_time": "2021-07-25T08:53:39.311Z"
   },
   {
    "duration": 5,
    "start_time": "2021-07-25T08:53:39.320Z"
   },
   {
    "duration": 6,
    "start_time": "2021-07-25T08:53:39.327Z"
   },
   {
    "duration": 12,
    "start_time": "2021-07-25T08:53:39.336Z"
   },
   {
    "duration": 107398,
    "start_time": "2021-07-25T08:53:39.352Z"
   },
   {
    "duration": 380,
    "start_time": "2021-07-25T08:55:26.754Z"
   },
   {
    "duration": 1228,
    "start_time": "2021-07-25T08:55:25.908Z"
   },
   {
    "duration": 1227,
    "start_time": "2021-07-25T08:55:25.911Z"
   },
   {
    "duration": 1219,
    "start_time": "2021-07-25T08:55:25.921Z"
   },
   {
    "duration": 1218,
    "start_time": "2021-07-25T08:55:25.925Z"
   },
   {
    "duration": 1218,
    "start_time": "2021-07-25T08:55:25.927Z"
   },
   {
    "duration": 1216,
    "start_time": "2021-07-25T08:55:25.930Z"
   },
   {
    "duration": 1215,
    "start_time": "2021-07-25T08:55:25.933Z"
   },
   {
    "duration": 1216,
    "start_time": "2021-07-25T08:55:25.935Z"
   },
   {
    "duration": 1215,
    "start_time": "2021-07-25T08:55:25.937Z"
   },
   {
    "duration": 1216,
    "start_time": "2021-07-25T08:55:25.938Z"
   },
   {
    "duration": 1216,
    "start_time": "2021-07-25T08:55:25.940Z"
   },
   {
    "duration": 1215,
    "start_time": "2021-07-25T08:55:25.943Z"
   },
   {
    "duration": 1215,
    "start_time": "2021-07-25T08:55:25.945Z"
   },
   {
    "duration": 1215,
    "start_time": "2021-07-25T08:55:25.947Z"
   },
   {
    "duration": 1216,
    "start_time": "2021-07-25T08:55:25.948Z"
   },
   {
    "duration": 1216,
    "start_time": "2021-07-25T08:55:25.950Z"
   },
   {
    "duration": 1216,
    "start_time": "2021-07-25T08:55:25.952Z"
   },
   {
    "duration": 1217,
    "start_time": "2021-07-25T08:55:25.954Z"
   },
   {
    "duration": 31,
    "start_time": "2021-07-25T08:56:03.114Z"
   },
   {
    "duration": 5,
    "start_time": "2021-07-25T08:56:13.782Z"
   },
   {
    "duration": 259,
    "start_time": "2021-07-25T08:56:13.789Z"
   },
   {
    "duration": 11001,
    "start_time": "2021-07-25T08:56:14.051Z"
   },
   {
    "duration": 3636,
    "start_time": "2021-07-25T08:56:25.055Z"
   },
   {
    "duration": 10,
    "start_time": "2021-07-25T08:56:28.693Z"
   },
   {
    "duration": 10,
    "start_time": "2021-07-25T08:56:28.705Z"
   },
   {
    "duration": 916,
    "start_time": "2021-07-25T08:56:28.718Z"
   },
   {
    "duration": 1084,
    "start_time": "2021-07-25T08:56:28.554Z"
   },
   {
    "duration": 1083,
    "start_time": "2021-07-25T08:56:28.558Z"
   },
   {
    "duration": 1083,
    "start_time": "2021-07-25T08:56:28.560Z"
   },
   {
    "duration": 1083,
    "start_time": "2021-07-25T08:56:28.562Z"
   },
   {
    "duration": 1082,
    "start_time": "2021-07-25T08:56:28.565Z"
   },
   {
    "duration": 1083,
    "start_time": "2021-07-25T08:56:28.567Z"
   },
   {
    "duration": 1083,
    "start_time": "2021-07-25T08:56:28.569Z"
   },
   {
    "duration": 1082,
    "start_time": "2021-07-25T08:56:28.572Z"
   },
   {
    "duration": 1082,
    "start_time": "2021-07-25T08:56:28.574Z"
   },
   {
    "duration": 1081,
    "start_time": "2021-07-25T08:56:28.577Z"
   },
   {
    "duration": 1082,
    "start_time": "2021-07-25T08:56:28.579Z"
   },
   {
    "duration": 859,
    "start_time": "2021-07-25T08:57:56.062Z"
   },
   {
    "duration": 877,
    "start_time": "2021-07-25T08:58:11.284Z"
   },
   {
    "duration": 66,
    "start_time": "2021-07-25T08:58:17.732Z"
   },
   {
    "duration": 35048,
    "start_time": "2021-07-25T08:58:26.612Z"
   },
   {
    "duration": 7,
    "start_time": "2021-07-25T10:05:15.767Z"
   },
   {
    "duration": 806,
    "start_time": "2021-07-25T10:05:15.776Z"
   },
   {
    "duration": 37,
    "start_time": "2021-07-25T10:05:16.585Z"
   },
   {
    "duration": 6,
    "start_time": "2021-07-25T10:05:16.625Z"
   },
   {
    "duration": 21,
    "start_time": "2021-07-25T10:05:16.633Z"
   },
   {
    "duration": 32,
    "start_time": "2021-07-25T10:05:16.656Z"
   },
   {
    "duration": 4,
    "start_time": "2021-07-25T10:05:16.701Z"
   },
   {
    "duration": 23,
    "start_time": "2021-07-25T10:05:16.709Z"
   },
   {
    "duration": 107711,
    "start_time": "2021-07-25T10:05:16.735Z"
   },
   {
    "duration": 86,
    "start_time": "2021-07-25T10:07:04.449Z"
   },
   {
    "duration": 5,
    "start_time": "2021-07-25T10:07:04.538Z"
   },
   {
    "duration": 253,
    "start_time": "2021-07-25T10:07:04.545Z"
   },
   {
    "duration": 11107,
    "start_time": "2021-07-25T10:07:04.801Z"
   },
   {
    "duration": 3810,
    "start_time": "2021-07-25T10:07:15.911Z"
   },
   {
    "duration": 5,
    "start_time": "2021-07-25T10:07:19.723Z"
   },
   {
    "duration": 7,
    "start_time": "2021-07-25T10:07:19.730Z"
   },
   {
    "duration": 93,
    "start_time": "2021-07-25T10:07:19.739Z"
   },
   {
    "duration": 33616,
    "start_time": "2021-07-25T10:07:19.835Z"
   },
   {
    "duration": 3178,
    "start_time": "2021-07-25T10:07:53.454Z"
   },
   {
    "duration": 152900,
    "start_time": "2021-07-25T10:07:56.634Z"
   },
   {
    "duration": 3838,
    "start_time": "2021-07-25T10:10:54.005Z"
   },
   {
    "duration": 2172,
    "start_time": "2021-07-25T11:20:54.230Z"
   },
   {
    "duration": 769,
    "start_time": "2021-07-25T11:20:56.405Z"
   },
   {
    "duration": 40,
    "start_time": "2021-07-25T11:20:57.178Z"
   },
   {
    "duration": 6,
    "start_time": "2021-07-25T11:20:57.221Z"
   },
   {
    "duration": 6,
    "start_time": "2021-07-25T11:20:57.230Z"
   },
   {
    "duration": 13,
    "start_time": "2021-07-25T11:20:57.240Z"
   },
   {
    "duration": 44,
    "start_time": "2021-07-25T11:20:57.256Z"
   },
   {
    "duration": 11,
    "start_time": "2021-07-25T11:20:57.304Z"
   },
   {
    "duration": 109664,
    "start_time": "2021-07-25T11:20:57.317Z"
   },
   {
    "duration": 40,
    "start_time": "2021-07-25T11:22:46.984Z"
   },
   {
    "duration": 5,
    "start_time": "2021-07-25T11:22:47.026Z"
   },
   {
    "duration": 255,
    "start_time": "2021-07-25T11:22:47.034Z"
   },
   {
    "duration": 11078,
    "start_time": "2021-07-25T11:22:47.292Z"
   },
   {
    "duration": 3616,
    "start_time": "2021-07-25T11:22:58.372Z"
   },
   {
    "duration": 11,
    "start_time": "2021-07-25T11:23:01.990Z"
   },
   {
    "duration": 18,
    "start_time": "2021-07-25T11:23:02.003Z"
   },
   {
    "duration": 77,
    "start_time": "2021-07-25T11:23:02.023Z"
   },
   {
    "duration": 34850,
    "start_time": "2021-07-25T11:23:02.103Z"
   },
   {
    "duration": 3904,
    "start_time": "2021-07-25T11:23:36.955Z"
   },
   {
    "duration": 1521975,
    "start_time": "2021-07-25T11:23:40.862Z"
   },
   {
    "duration": 61,
    "start_time": "2021-07-25T11:49:02.840Z"
   },
   {
    "duration": 557,
    "start_time": "2021-07-25T11:49:02.904Z"
   },
   {
    "duration": 70,
    "start_time": "2021-07-25T11:51:45.080Z"
   },
   {
    "duration": 74,
    "start_time": "2021-07-25T11:52:16.187Z"
   },
   {
    "duration": 71,
    "start_time": "2021-07-25T11:53:30.844Z"
   },
   {
    "duration": 76,
    "start_time": "2021-07-25T11:54:03.464Z"
   },
   {
    "duration": 75,
    "start_time": "2021-07-25T11:54:23.047Z"
   },
   {
    "duration": 73,
    "start_time": "2021-07-25T11:54:41.881Z"
   },
   {
    "duration": 74,
    "start_time": "2021-07-25T11:54:53.294Z"
   },
   {
    "duration": 76,
    "start_time": "2021-07-25T11:56:01.761Z"
   },
   {
    "duration": 76,
    "start_time": "2021-07-25T11:56:16.303Z"
   },
   {
    "duration": 889,
    "start_time": "2021-07-25T11:56:39.876Z"
   },
   {
    "duration": 801,
    "start_time": "2021-07-25T11:57:19.946Z"
   },
   {
    "duration": 840,
    "start_time": "2021-07-25T11:57:45.505Z"
   },
   {
    "duration": 617,
    "start_time": "2021-07-25T11:57:59.688Z"
   },
   {
    "duration": 348,
    "start_time": "2021-07-25T11:58:51.479Z"
   },
   {
    "duration": 947,
    "start_time": "2021-07-25T12:01:42.638Z"
   },
   {
    "duration": 2196,
    "start_time": "2021-07-25T12:02:08.426Z"
   },
   {
    "duration": 803,
    "start_time": "2021-07-25T12:02:10.625Z"
   },
   {
    "duration": 27,
    "start_time": "2021-07-25T12:02:11.431Z"
   },
   {
    "duration": 7,
    "start_time": "2021-07-25T12:02:11.461Z"
   },
   {
    "duration": 33,
    "start_time": "2021-07-25T12:02:11.470Z"
   },
   {
    "duration": 4,
    "start_time": "2021-07-25T12:02:11.506Z"
   },
   {
    "duration": 6,
    "start_time": "2021-07-25T12:02:11.513Z"
   },
   {
    "duration": 13,
    "start_time": "2021-07-25T12:02:11.524Z"
   },
   {
    "duration": 107764,
    "start_time": "2021-07-25T12:02:11.540Z"
   },
   {
    "duration": 32,
    "start_time": "2021-07-25T12:03:59.307Z"
   },
   {
    "duration": 5,
    "start_time": "2021-07-25T12:03:59.342Z"
   },
   {
    "duration": 314,
    "start_time": "2021-07-25T12:03:59.350Z"
   },
   {
    "duration": 11008,
    "start_time": "2021-07-25T12:03:59.666Z"
   },
   {
    "duration": 3728,
    "start_time": "2021-07-25T12:04:10.676Z"
   },
   {
    "duration": 6,
    "start_time": "2021-07-25T12:04:14.407Z"
   },
   {
    "duration": 14,
    "start_time": "2021-07-25T12:04:14.416Z"
   },
   {
    "duration": 101,
    "start_time": "2021-07-25T12:04:14.432Z"
   },
   {
    "duration": 103222,
    "start_time": "2021-07-25T12:04:14.537Z"
   },
   {
    "duration": 3013,
    "start_time": "2021-07-25T12:05:57.761Z"
   },
   {
    "duration": 47,
    "start_time": "2021-07-25T17:10:13.657Z"
   },
   {
    "duration": 815,
    "start_time": "2021-07-25T17:10:13.706Z"
   },
   {
    "duration": 6,
    "start_time": "2021-07-25T17:10:14.524Z"
   },
   {
    "duration": 7,
    "start_time": "2021-07-25T17:10:14.532Z"
   },
   {
    "duration": 67,
    "start_time": "2021-07-25T17:10:14.541Z"
   },
   {
    "duration": 4,
    "start_time": "2021-07-25T17:10:14.611Z"
   },
   {
    "duration": 116146,
    "start_time": "2021-07-25T17:10:14.617Z"
   },
   {
    "duration": 83,
    "start_time": "2021-07-25T17:12:10.766Z"
   },
   {
    "duration": 5,
    "start_time": "2021-07-25T17:12:10.854Z"
   },
   {
    "duration": 276,
    "start_time": "2021-07-25T17:12:10.861Z"
   },
   {
    "duration": 2253,
    "start_time": "2021-07-25T17:12:34.672Z"
   },
   {
    "duration": 780,
    "start_time": "2021-07-25T17:12:36.930Z"
   },
   {
    "duration": 7,
    "start_time": "2021-07-25T17:12:37.718Z"
   },
   {
    "duration": 11,
    "start_time": "2021-07-25T17:12:37.727Z"
   },
   {
    "duration": 8,
    "start_time": "2021-07-25T17:12:37.740Z"
   },
   {
    "duration": 8,
    "start_time": "2021-07-25T17:12:37.750Z"
   },
   {
    "duration": 117378,
    "start_time": "2021-07-25T17:12:37.761Z"
   },
   {
    "duration": 34,
    "start_time": "2021-07-25T17:14:35.142Z"
   },
   {
    "duration": 5,
    "start_time": "2021-07-25T17:14:35.179Z"
   },
   {
    "duration": 286,
    "start_time": "2021-07-25T17:14:35.201Z"
   },
   {
    "duration": 12036,
    "start_time": "2021-07-25T17:14:35.490Z"
   },
   {
    "duration": 4040,
    "start_time": "2021-07-25T17:14:47.529Z"
   },
   {
    "duration": 4,
    "start_time": "2021-07-25T17:14:51.572Z"
   },
   {
    "duration": 21,
    "start_time": "2021-07-25T17:14:51.579Z"
   },
   {
    "duration": 69,
    "start_time": "2021-07-25T17:14:51.603Z"
   },
   {
    "duration": 291694,
    "start_time": "2021-07-25T17:14:51.675Z"
   },
   {
    "duration": 9,
    "start_time": "2021-07-25T17:19:43.372Z"
   },
   {
    "duration": 4732,
    "start_time": "2021-07-25T17:19:43.400Z"
   },
   {
    "duration": 9,
    "start_time": "2021-07-25T17:19:48.135Z"
   },
   {
    "duration": 959791,
    "start_time": "2021-07-25T17:19:48.147Z"
   },
   {
    "duration": 1070,
    "start_time": "2021-07-25T17:35:46.871Z"
   },
   {
    "duration": 2967,
    "start_time": "2021-07-25T17:36:40.391Z"
   },
   {
    "duration": 1149,
    "start_time": "2021-07-25T17:36:43.362Z"
   },
   {
    "duration": 7,
    "start_time": "2021-07-25T17:36:44.516Z"
   },
   {
    "duration": 19,
    "start_time": "2021-07-25T17:36:44.527Z"
   },
   {
    "duration": 19,
    "start_time": "2021-07-25T17:36:44.549Z"
   },
   {
    "duration": 7,
    "start_time": "2021-07-25T17:36:44.571Z"
   },
   {
    "duration": 130062,
    "start_time": "2021-07-25T17:36:44.581Z"
   },
   {
    "duration": 51,
    "start_time": "2021-07-25T17:38:54.649Z"
   },
   {
    "duration": 6,
    "start_time": "2021-07-25T17:38:54.703Z"
   },
   {
    "duration": 289,
    "start_time": "2021-07-25T17:38:54.712Z"
   },
   {
    "duration": 15601,
    "start_time": "2021-07-25T17:38:55.005Z"
   },
   {
    "duration": 5034,
    "start_time": "2021-07-25T17:39:10.610Z"
   },
   {
    "duration": 6,
    "start_time": "2021-07-25T17:39:15.646Z"
   },
   {
    "duration": 9,
    "start_time": "2021-07-25T17:39:15.655Z"
   },
   {
    "duration": 150,
    "start_time": "2021-07-25T17:39:15.667Z"
   },
   {
    "duration": 335842,
    "start_time": "2021-07-25T17:39:15.820Z"
   },
   {
    "duration": 6,
    "start_time": "2021-07-25T17:44:51.665Z"
   },
   {
    "duration": 4753,
    "start_time": "2021-07-25T17:44:51.674Z"
   },
   {
    "duration": 8,
    "start_time": "2021-07-25T17:44:56.430Z"
   },
   {
    "duration": 2650,
    "start_time": "2021-07-25T19:36:05.067Z"
   },
   {
    "duration": 10457,
    "start_time": "2021-07-25T19:36:07.720Z"
   },
   {
    "duration": 6,
    "start_time": "2021-07-25T19:36:18.180Z"
   },
   {
    "duration": 7,
    "start_time": "2021-07-25T19:36:18.201Z"
   },
   {
    "duration": 5,
    "start_time": "2021-07-25T19:36:18.211Z"
   },
   {
    "duration": 7,
    "start_time": "2021-07-25T19:36:18.219Z"
   },
   {
    "duration": 114905,
    "start_time": "2021-07-25T19:36:18.229Z"
   },
   {
    "duration": 40,
    "start_time": "2021-07-25T19:38:13.137Z"
   },
   {
    "duration": 4,
    "start_time": "2021-07-25T19:38:13.181Z"
   },
   {
    "duration": 262,
    "start_time": "2021-07-25T19:38:13.188Z"
   },
   {
    "duration": 12195,
    "start_time": "2021-07-25T19:38:13.453Z"
   },
   {
    "duration": 4009,
    "start_time": "2021-07-25T19:38:25.650Z"
   },
   {
    "duration": 5,
    "start_time": "2021-07-25T19:38:29.662Z"
   },
   {
    "duration": 10,
    "start_time": "2021-07-25T19:38:29.669Z"
   },
   {
    "duration": 87,
    "start_time": "2021-07-25T19:38:29.682Z"
   },
   {
    "duration": 458396,
    "start_time": "2021-07-25T19:38:29.771Z"
   },
   {
    "duration": 7,
    "start_time": "2021-07-25T19:46:08.171Z"
   },
   {
    "duration": 3104,
    "start_time": "2021-07-25T19:46:08.181Z"
   },
   {
    "duration": 16,
    "start_time": "2021-07-25T19:46:11.287Z"
   },
   {
    "duration": 2507,
    "start_time": "2021-07-25T20:24:21.749Z"
   },
   {
    "duration": 820,
    "start_time": "2021-07-25T20:24:24.259Z"
   },
   {
    "duration": 5,
    "start_time": "2021-07-25T20:24:25.082Z"
   },
   {
    "duration": 5,
    "start_time": "2021-07-25T20:24:25.101Z"
   },
   {
    "duration": 6,
    "start_time": "2021-07-25T20:24:25.109Z"
   },
   {
    "duration": 6,
    "start_time": "2021-07-25T20:24:25.118Z"
   },
   {
    "duration": 123066,
    "start_time": "2021-07-25T20:24:25.127Z"
   },
   {
    "duration": 34,
    "start_time": "2021-07-25T20:26:28.198Z"
   },
   {
    "duration": 6,
    "start_time": "2021-07-25T20:26:28.235Z"
   },
   {
    "duration": 257,
    "start_time": "2021-07-25T20:26:28.244Z"
   },
   {
    "duration": 11721,
    "start_time": "2021-07-25T20:26:28.503Z"
   },
   {
    "duration": 4050,
    "start_time": "2021-07-25T20:26:40.226Z"
   },
   {
    "duration": 6,
    "start_time": "2021-07-25T20:26:44.278Z"
   },
   {
    "duration": 19,
    "start_time": "2021-07-25T20:26:44.286Z"
   },
   {
    "duration": 92,
    "start_time": "2021-07-25T20:26:44.308Z"
   },
   {
    "duration": 490462,
    "start_time": "2021-07-25T20:26:44.403Z"
   },
   {
    "duration": 7,
    "start_time": "2021-07-25T20:34:54.868Z"
   },
   {
    "duration": 2288,
    "start_time": "2021-07-25T20:34:54.901Z"
   },
   {
    "duration": 10,
    "start_time": "2021-07-25T20:34:57.192Z"
   },
   {
    "duration": 2344,
    "start_time": "2021-07-25T21:05:49.859Z"
   },
   {
    "duration": 817,
    "start_time": "2021-07-25T21:05:52.205Z"
   },
   {
    "duration": 5,
    "start_time": "2021-07-25T21:05:53.026Z"
   },
   {
    "duration": 5,
    "start_time": "2021-07-25T21:05:53.034Z"
   },
   {
    "duration": 4,
    "start_time": "2021-07-25T21:05:53.042Z"
   },
   {
    "duration": 14,
    "start_time": "2021-07-25T21:05:53.048Z"
   },
   {
    "duration": 117378,
    "start_time": "2021-07-25T21:05:53.065Z"
   },
   {
    "duration": 34,
    "start_time": "2021-07-25T21:07:50.446Z"
   },
   {
    "duration": 17,
    "start_time": "2021-07-25T21:07:50.484Z"
   },
   {
    "duration": 256,
    "start_time": "2021-07-25T21:07:50.504Z"
   },
   {
    "duration": 12277,
    "start_time": "2021-07-25T21:07:50.763Z"
   },
   {
    "duration": 4021,
    "start_time": "2021-07-25T21:08:03.042Z"
   },
   {
    "duration": 5,
    "start_time": "2021-07-25T21:08:07.065Z"
   },
   {
    "duration": 28,
    "start_time": "2021-07-25T21:08:07.073Z"
   },
   {
    "duration": 82,
    "start_time": "2021-07-25T21:08:07.104Z"
   },
   {
    "duration": 822678,
    "start_time": "2021-07-25T21:08:07.188Z"
   },
   {
    "duration": 9,
    "start_time": "2021-07-25T21:21:49.869Z"
   },
   {
    "duration": 2393,
    "start_time": "2021-07-25T21:21:49.901Z"
   },
   {
    "duration": 7,
    "start_time": "2021-07-25T21:21:52.300Z"
   },
   {
    "duration": 2317,
    "start_time": "2021-07-26T05:31:23.472Z"
   },
   {
    "duration": 814,
    "start_time": "2021-07-26T05:31:25.792Z"
   },
   {
    "duration": 6,
    "start_time": "2021-07-26T05:31:26.609Z"
   },
   {
    "duration": 7,
    "start_time": "2021-07-26T05:31:26.618Z"
   },
   {
    "duration": 9,
    "start_time": "2021-07-26T05:31:26.628Z"
   },
   {
    "duration": 13,
    "start_time": "2021-07-26T05:31:26.640Z"
   },
   {
    "duration": 126505,
    "start_time": "2021-07-26T05:31:26.656Z"
   },
   {
    "duration": 43,
    "start_time": "2021-07-26T05:33:33.165Z"
   },
   {
    "duration": 5,
    "start_time": "2021-07-26T05:33:33.211Z"
   },
   {
    "duration": 289,
    "start_time": "2021-07-26T05:33:33.218Z"
   },
   {
    "duration": 12355,
    "start_time": "2021-07-26T05:33:33.510Z"
   },
   {
    "duration": 4052,
    "start_time": "2021-07-26T05:33:45.868Z"
   },
   {
    "duration": 6,
    "start_time": "2021-07-26T05:33:49.922Z"
   },
   {
    "duration": 9,
    "start_time": "2021-07-26T05:33:49.930Z"
   },
   {
    "duration": 105,
    "start_time": "2021-07-26T05:33:49.942Z"
   },
   {
    "duration": 915324,
    "start_time": "2021-07-26T05:33:50.049Z"
   },
   {
    "duration": 6,
    "start_time": "2021-07-26T05:49:05.376Z"
   },
   {
    "duration": 6859,
    "start_time": "2021-07-26T05:49:05.385Z"
   },
   {
    "duration": 7,
    "start_time": "2021-07-26T05:49:12.247Z"
   },
   {
    "duration": 2451731,
    "start_time": "2021-07-26T05:49:12.258Z"
   },
   {
    "duration": -434,
    "start_time": "2021-07-26T06:30:04.427Z"
   },
   {
    "duration": 7,
    "start_time": "2021-07-26T06:30:19.004Z"
   },
   {
    "duration": 1829260,
    "start_time": "2021-07-26T06:30:26.118Z"
   },
   {
    "duration": 2620,
    "start_time": "2021-07-26T07:04:05.648Z"
   },
   {
    "duration": 1125,
    "start_time": "2021-07-26T07:04:08.271Z"
   },
   {
    "duration": 40,
    "start_time": "2021-07-26T07:04:09.402Z"
   },
   {
    "duration": 8,
    "start_time": "2021-07-26T07:04:09.446Z"
   },
   {
    "duration": 5,
    "start_time": "2021-07-26T07:04:09.457Z"
   },
   {
    "duration": 37,
    "start_time": "2021-07-26T07:04:09.464Z"
   },
   {
    "duration": 8,
    "start_time": "2021-07-26T07:04:09.503Z"
   },
   {
    "duration": 119087,
    "start_time": "2021-07-26T07:04:09.515Z"
   },
   {
    "duration": 43,
    "start_time": "2021-07-26T07:06:08.607Z"
   },
   {
    "duration": 5,
    "start_time": "2021-07-26T07:06:08.653Z"
   },
   {
    "duration": 292,
    "start_time": "2021-07-26T07:06:08.661Z"
   },
   {
    "duration": 17159,
    "start_time": "2021-07-26T07:06:08.956Z"
   },
   {
    "duration": 5947,
    "start_time": "2021-07-26T07:06:26.118Z"
   },
   {
    "duration": 6,
    "start_time": "2021-07-26T07:06:32.069Z"
   },
   {
    "duration": 28,
    "start_time": "2021-07-26T07:06:32.077Z"
   },
   {
    "duration": 78,
    "start_time": "2021-07-26T07:06:32.107Z"
   },
   {
    "duration": 354388,
    "start_time": "2021-07-26T07:06:32.187Z"
   },
   {
    "duration": 23,
    "start_time": "2021-07-26T07:12:26.577Z"
   },
   {
    "duration": 6226,
    "start_time": "2021-07-26T07:12:26.602Z"
   },
   {
    "duration": 9,
    "start_time": "2021-07-26T07:12:32.831Z"
   },
   {
    "duration": 2045757,
    "start_time": "2021-07-26T07:12:32.843Z"
   },
   {
    "duration": -407,
    "start_time": "2021-07-26T07:46:39.010Z"
   },
   {
    "duration": 7,
    "start_time": "2021-07-26T07:59:46.446Z"
   },
   {
    "duration": 805,
    "start_time": "2021-07-26T07:59:46.457Z"
   },
   {
    "duration": 43,
    "start_time": "2021-07-26T07:59:47.265Z"
   },
   {
    "duration": 6,
    "start_time": "2021-07-26T07:59:47.311Z"
   },
   {
    "duration": 6,
    "start_time": "2021-07-26T07:59:47.320Z"
   },
   {
    "duration": 5,
    "start_time": "2021-07-26T07:59:47.329Z"
   },
   {
    "duration": 8,
    "start_time": "2021-07-26T07:59:47.337Z"
   },
   {
    "duration": 119035,
    "start_time": "2021-07-26T07:59:47.350Z"
   },
   {
    "duration": 79,
    "start_time": "2021-07-26T08:01:46.389Z"
   },
   {
    "duration": 5,
    "start_time": "2021-07-26T08:01:46.471Z"
   },
   {
    "duration": 26,
    "start_time": "2021-07-26T08:01:46.478Z"
   },
   {
    "duration": 2562,
    "start_time": "2021-07-26T08:02:14.060Z"
   },
   {
    "duration": 17659,
    "start_time": "2021-07-26T08:02:16.625Z"
   },
   {
    "duration": -955,
    "start_time": "2021-07-26T08:02:35.243Z"
   },
   {
    "duration": -956,
    "start_time": "2021-07-26T08:02:35.245Z"
   },
   {
    "duration": -957,
    "start_time": "2021-07-26T08:02:35.248Z"
   },
   {
    "duration": -960,
    "start_time": "2021-07-26T08:02:35.252Z"
   },
   {
    "duration": -966,
    "start_time": "2021-07-26T08:02:35.260Z"
   },
   {
    "duration": -967,
    "start_time": "2021-07-26T08:02:35.262Z"
   },
   {
    "duration": -975,
    "start_time": "2021-07-26T08:02:35.272Z"
   },
   {
    "duration": -977,
    "start_time": "2021-07-26T08:02:35.276Z"
   },
   {
    "duration": -978,
    "start_time": "2021-07-26T08:02:35.278Z"
   },
   {
    "duration": -978,
    "start_time": "2021-07-26T08:02:35.280Z"
   },
   {
    "duration": -978,
    "start_time": "2021-07-26T08:02:35.281Z"
   },
   {
    "duration": -979,
    "start_time": "2021-07-26T08:02:35.284Z"
   },
   {
    "duration": -987,
    "start_time": "2021-07-26T08:02:35.293Z"
   },
   {
    "duration": -987,
    "start_time": "2021-07-26T08:02:35.295Z"
   },
   {
    "duration": -987,
    "start_time": "2021-07-26T08:02:35.297Z"
   },
   {
    "duration": -987,
    "start_time": "2021-07-26T08:02:35.298Z"
   },
   {
    "duration": -987,
    "start_time": "2021-07-26T08:02:35.300Z"
   },
   {
    "duration": -987,
    "start_time": "2021-07-26T08:02:35.301Z"
   },
   {
    "duration": -986,
    "start_time": "2021-07-26T08:02:35.302Z"
   },
   {
    "duration": 7,
    "start_time": "2021-07-26T08:02:54.612Z"
   },
   {
    "duration": 874,
    "start_time": "2021-07-26T08:02:54.621Z"
   },
   {
    "duration": 27,
    "start_time": "2021-07-26T08:02:55.498Z"
   },
   {
    "duration": 7,
    "start_time": "2021-07-26T08:02:55.529Z"
   },
   {
    "duration": 6,
    "start_time": "2021-07-26T08:02:55.539Z"
   },
   {
    "duration": 5,
    "start_time": "2021-07-26T08:02:55.548Z"
   },
   {
    "duration": 46,
    "start_time": "2021-07-26T08:02:55.556Z"
   },
   {
    "duration": 118707,
    "start_time": "2021-07-26T08:02:55.605Z"
   },
   {
    "duration": 31,
    "start_time": "2021-07-26T08:04:54.316Z"
   },
   {
    "duration": 5,
    "start_time": "2021-07-26T08:04:54.350Z"
   },
   {
    "duration": 276,
    "start_time": "2021-07-26T08:04:54.357Z"
   },
   {
    "duration": 11512,
    "start_time": "2021-07-26T08:04:54.636Z"
   },
   {
    "duration": 3639,
    "start_time": "2021-07-26T08:05:06.150Z"
   },
   {
    "duration": 12,
    "start_time": "2021-07-26T08:05:09.792Z"
   },
   {
    "duration": 11,
    "start_time": "2021-07-26T08:05:09.807Z"
   },
   {
    "duration": 87,
    "start_time": "2021-07-26T08:05:09.820Z"
   },
   {
    "duration": 33693,
    "start_time": "2021-07-26T08:05:09.910Z"
   },
   {
    "duration": 8,
    "start_time": "2021-07-26T08:05:43.606Z"
   },
   {
    "duration": 3502,
    "start_time": "2021-07-26T08:05:43.616Z"
   },
   {
    "duration": 8,
    "start_time": "2021-07-26T08:05:47.120Z"
   },
   {
    "duration": 632275,
    "start_time": "2021-07-26T08:05:47.131Z"
   },
   {
    "duration": 2343,
    "start_time": "2021-07-26T08:46:19.841Z"
   },
   {
    "duration": 813,
    "start_time": "2021-07-26T08:46:22.187Z"
   },
   {
    "duration": 26,
    "start_time": "2021-07-26T08:46:23.007Z"
   },
   {
    "duration": 6,
    "start_time": "2021-07-26T08:46:23.036Z"
   },
   {
    "duration": 5,
    "start_time": "2021-07-26T08:46:23.044Z"
   },
   {
    "duration": 48,
    "start_time": "2021-07-26T08:46:23.052Z"
   },
   {
    "duration": 4,
    "start_time": "2021-07-26T08:46:23.102Z"
   },
   {
    "duration": 120401,
    "start_time": "2021-07-26T08:46:23.110Z"
   },
   {
    "duration": 33,
    "start_time": "2021-07-26T08:48:23.515Z"
   },
   {
    "duration": 6,
    "start_time": "2021-07-26T08:48:23.550Z"
   },
   {
    "duration": 290,
    "start_time": "2021-07-26T08:48:23.558Z"
   },
   {
    "duration": 16865,
    "start_time": "2021-07-26T08:48:23.851Z"
   },
   {
    "duration": 3840,
    "start_time": "2021-07-26T08:48:40.718Z"
   },
   {
    "duration": 6,
    "start_time": "2021-07-26T08:48:44.560Z"
   },
   {
    "duration": 23,
    "start_time": "2021-07-26T08:48:44.568Z"
   },
   {
    "duration": 78,
    "start_time": "2021-07-26T08:48:44.593Z"
   },
   {
    "duration": 354101,
    "start_time": "2021-07-26T08:48:44.674Z"
   },
   {
    "duration": 23,
    "start_time": "2021-07-26T08:54:38.777Z"
   },
   {
    "duration": 5778,
    "start_time": "2021-07-26T08:54:38.802Z"
   },
   {
    "duration": 17,
    "start_time": "2021-07-26T08:54:44.583Z"
   },
   {
    "duration": 2432510,
    "start_time": "2021-07-26T08:54:44.602Z"
   },
   {
    "duration": 6000832,
    "start_time": "2021-07-26T09:40:42.412Z"
   },
   {
    "duration": 7,
    "start_time": "2021-07-26T11:26:36.020Z"
   },
   {
    "duration": 7,
    "start_time": "2021-07-26T11:29:39.001Z"
   },
   {
    "duration": -337,
    "start_time": "2021-07-26T11:31:15.682Z"
   },
   {
    "duration": 4286394,
    "start_time": "2021-07-26T11:31:20.753Z"
   },
   {
    "duration": 6,
    "start_time": "2021-07-26T12:43:02.299Z"
   },
   {
    "duration": 2316,
    "start_time": "2021-07-26T12:44:05.665Z"
   },
   {
    "duration": 824,
    "start_time": "2021-07-26T12:44:07.984Z"
   },
   {
    "duration": 5,
    "start_time": "2021-07-26T12:44:08.811Z"
   },
   {
    "duration": 6,
    "start_time": "2021-07-26T12:44:08.819Z"
   },
   {
    "duration": 7,
    "start_time": "2021-07-26T12:44:08.827Z"
   },
   {
    "duration": 8,
    "start_time": "2021-07-26T12:44:08.836Z"
   },
   {
    "duration": 123084,
    "start_time": "2021-07-26T12:44:08.846Z"
   },
   {
    "duration": 36,
    "start_time": "2021-07-26T12:46:11.933Z"
   },
   {
    "duration": 5,
    "start_time": "2021-07-26T12:46:11.972Z"
   },
   {
    "duration": 252,
    "start_time": "2021-07-26T12:46:11.999Z"
   },
   {
    "duration": 12019,
    "start_time": "2021-07-26T12:46:12.254Z"
   },
   {
    "duration": 4074,
    "start_time": "2021-07-26T12:46:24.275Z"
   },
   {
    "duration": 6,
    "start_time": "2021-07-26T12:46:28.351Z"
   },
   {
    "duration": 12,
    "start_time": "2021-07-26T12:46:28.360Z"
   },
   {
    "duration": 90,
    "start_time": "2021-07-26T12:46:28.374Z"
   },
   {
    "duration": 354957,
    "start_time": "2021-07-26T12:46:28.466Z"
   },
   {
    "duration": 7,
    "start_time": "2021-07-26T12:52:23.426Z"
   },
   {
    "duration": 6112,
    "start_time": "2021-07-26T12:52:23.435Z"
   },
   {
    "duration": 7,
    "start_time": "2021-07-26T12:52:29.549Z"
   },
   {
    "duration": 12059398,
    "start_time": "2021-07-26T12:52:29.559Z"
   },
   {
    "duration": 6,
    "start_time": "2021-07-26T16:13:29.001Z"
   },
   {
    "duration": 2536726,
    "start_time": "2021-07-26T16:13:29.009Z"
   },
   {
    "duration": 77,
    "start_time": "2021-07-26T18:53:07.834Z"
   },
   {
    "duration": 575,
    "start_time": "2021-07-26T18:58:54.942Z"
   },
   {
    "duration": 124,
    "start_time": "2021-07-26T18:59:10.899Z"
   },
   {
    "duration": 14,
    "start_time": "2021-07-26T19:13:38.055Z"
   },
   {
    "duration": 8,
    "start_time": "2021-07-26T19:21:37.547Z"
   },
   {
    "duration": 838,
    "start_time": "2021-07-26T19:21:37.562Z"
   },
   {
    "duration": 6,
    "start_time": "2021-07-26T19:21:38.403Z"
   },
   {
    "duration": 6,
    "start_time": "2021-07-26T19:21:38.412Z"
   },
   {
    "duration": 42,
    "start_time": "2021-07-26T19:21:38.422Z"
   },
   {
    "duration": 37,
    "start_time": "2021-07-26T19:21:38.466Z"
   },
   {
    "duration": 24023,
    "start_time": "2021-07-26T19:21:38.506Z"
   },
   {
    "duration": -799,
    "start_time": "2021-07-26T19:22:03.331Z"
   },
   {
    "duration": -805,
    "start_time": "2021-07-26T19:22:03.339Z"
   },
   {
    "duration": -809,
    "start_time": "2021-07-26T19:22:03.344Z"
   },
   {
    "duration": -812,
    "start_time": "2021-07-26T19:22:03.348Z"
   },
   {
    "duration": -814,
    "start_time": "2021-07-26T19:22:03.352Z"
   },
   {
    "duration": -816,
    "start_time": "2021-07-26T19:22:03.355Z"
   },
   {
    "duration": -818,
    "start_time": "2021-07-26T19:22:03.358Z"
   },
   {
    "duration": -818,
    "start_time": "2021-07-26T19:22:03.360Z"
   },
   {
    "duration": -818,
    "start_time": "2021-07-26T19:22:03.362Z"
   },
   {
    "duration": -819,
    "start_time": "2021-07-26T19:22:03.364Z"
   },
   {
    "duration": -821,
    "start_time": "2021-07-26T19:22:03.367Z"
   },
   {
    "duration": -821,
    "start_time": "2021-07-26T19:22:03.368Z"
   },
   {
    "duration": -821,
    "start_time": "2021-07-26T19:22:03.370Z"
   },
   {
    "duration": -822,
    "start_time": "2021-07-26T19:22:03.372Z"
   },
   {
    "duration": -824,
    "start_time": "2021-07-26T19:22:03.375Z"
   },
   {
    "duration": 1627,
    "start_time": "2021-07-26T19:22:07.376Z"
   },
   {
    "duration": 811,
    "start_time": "2021-07-26T19:22:09.007Z"
   },
   {
    "duration": 8,
    "start_time": "2021-07-26T19:22:09.822Z"
   },
   {
    "duration": 8,
    "start_time": "2021-07-26T19:22:09.833Z"
   },
   {
    "duration": 14,
    "start_time": "2021-07-26T19:22:09.844Z"
   },
   {
    "duration": 15,
    "start_time": "2021-07-26T19:22:09.861Z"
   },
   {
    "duration": 137862,
    "start_time": "2021-07-26T19:22:09.901Z"
   },
   {
    "duration": 60,
    "start_time": "2021-07-26T19:24:27.767Z"
   },
   {
    "duration": 7,
    "start_time": "2021-07-26T19:24:27.832Z"
   },
   {
    "duration": 315,
    "start_time": "2021-07-26T19:24:27.842Z"
   },
   {
    "duration": 13171,
    "start_time": "2021-07-26T19:24:28.159Z"
   },
   {
    "duration": 4324,
    "start_time": "2021-07-26T19:24:41.334Z"
   },
   {
    "duration": 5,
    "start_time": "2021-07-26T19:24:45.661Z"
   },
   {
    "duration": 32,
    "start_time": "2021-07-26T19:24:45.669Z"
   },
   {
    "duration": 136,
    "start_time": "2021-07-26T19:24:45.703Z"
   },
   {
    "duration": 359588,
    "start_time": "2021-07-26T19:24:45.843Z"
   },
   {
    "duration": 9,
    "start_time": "2021-07-26T19:30:45.434Z"
   },
   {
    "duration": 6139,
    "start_time": "2021-07-26T19:30:45.446Z"
   },
   {
    "duration": 18,
    "start_time": "2021-07-26T19:30:51.587Z"
   },
   {
    "duration": 972560,
    "start_time": "2021-07-26T19:30:51.607Z"
   },
   {
    "duration": -699,
    "start_time": "2021-07-26T19:47:04.869Z"
   },
   {
    "duration": -700,
    "start_time": "2021-07-26T19:47:04.871Z"
   },
   {
    "duration": 1166,
    "start_time": "2021-07-27T05:26:36.271Z"
   },
   {
    "duration": 1567,
    "start_time": "2021-07-27T05:26:37.439Z"
   },
   {
    "duration": 4,
    "start_time": "2021-07-27T05:26:39.009Z"
   },
   {
    "duration": 8,
    "start_time": "2021-07-27T05:26:39.015Z"
   },
   {
    "duration": 11,
    "start_time": "2021-07-27T05:26:39.025Z"
   },
   {
    "duration": 6,
    "start_time": "2021-07-27T05:26:39.038Z"
   },
   {
    "duration": 78019,
    "start_time": "2021-07-27T05:26:39.046Z"
   },
   {
    "duration": 35,
    "start_time": "2021-07-27T05:27:57.067Z"
   },
   {
    "duration": 4,
    "start_time": "2021-07-27T05:27:57.104Z"
   },
   {
    "duration": 113,
    "start_time": "2021-07-27T05:27:57.110Z"
   },
   {
    "duration": 8078,
    "start_time": "2021-07-27T05:27:57.225Z"
   },
   {
    "duration": 2829,
    "start_time": "2021-07-27T05:28:05.306Z"
   },
   {
    "duration": 4,
    "start_time": "2021-07-27T05:28:08.137Z"
   },
   {
    "duration": 6,
    "start_time": "2021-07-27T05:28:08.142Z"
   },
   {
    "duration": 98,
    "start_time": "2021-07-27T05:28:08.150Z"
   },
   {
    "duration": 260335,
    "start_time": "2021-07-27T05:28:08.250Z"
   },
   {
    "duration": 8,
    "start_time": "2021-07-27T05:32:28.587Z"
   },
   {
    "duration": 5470,
    "start_time": "2021-07-27T05:32:28.597Z"
   },
   {
    "duration": 4,
    "start_time": "2021-07-27T05:32:34.068Z"
   },
   {
    "duration": 3462146,
    "start_time": "2021-07-27T05:32:34.074Z"
   },
   {
    "duration": 5,
    "start_time": "2021-07-27T06:30:16.222Z"
   },
   {
    "duration": 57,
    "start_time": "2021-07-27T06:30:16.228Z"
   },
   {
    "duration": 2349,
    "start_time": "2021-07-27T20:09:45.313Z"
   },
   {
    "duration": 2146,
    "start_time": "2021-07-27T20:38:39.058Z"
   },
   {
    "duration": 804,
    "start_time": "2021-07-27T20:38:41.207Z"
   },
   {
    "duration": 6,
    "start_time": "2021-07-27T20:38:42.014Z"
   },
   {
    "duration": 6,
    "start_time": "2021-07-27T20:38:42.022Z"
   },
   {
    "duration": 32,
    "start_time": "2021-07-27T20:38:42.030Z"
   },
   {
    "duration": 1078,
    "start_time": "2021-07-27T20:38:42.064Z"
   },
   {
    "duration": -203,
    "start_time": "2021-07-27T20:38:43.348Z"
   },
   {
    "duration": -204,
    "start_time": "2021-07-27T20:38:43.350Z"
   },
   {
    "duration": -207,
    "start_time": "2021-07-27T20:38:43.354Z"
   },
   {
    "duration": -210,
    "start_time": "2021-07-27T20:38:43.359Z"
   },
   {
    "duration": -211,
    "start_time": "2021-07-27T20:38:43.361Z"
   },
   {
    "duration": -210,
    "start_time": "2021-07-27T20:38:43.362Z"
   },
   {
    "duration": -210,
    "start_time": "2021-07-27T20:38:43.364Z"
   },
   {
    "duration": -209,
    "start_time": "2021-07-27T20:38:43.365Z"
   },
   {
    "duration": -209,
    "start_time": "2021-07-27T20:38:43.367Z"
   },
   {
    "duration": -214,
    "start_time": "2021-07-27T20:38:43.374Z"
   },
   {
    "duration": -214,
    "start_time": "2021-07-27T20:38:43.377Z"
   },
   {
    "duration": -214,
    "start_time": "2021-07-27T20:38:43.379Z"
   },
   {
    "duration": -212,
    "start_time": "2021-07-27T20:38:43.380Z"
   },
   {
    "duration": -211,
    "start_time": "2021-07-27T20:38:43.382Z"
   },
   {
    "duration": -211,
    "start_time": "2021-07-27T20:38:43.384Z"
   },
   {
    "duration": -211,
    "start_time": "2021-07-27T20:38:43.386Z"
   },
   {
    "duration": 2240,
    "start_time": "2021-07-27T20:53:05.616Z"
   },
   {
    "duration": 827,
    "start_time": "2021-07-27T20:53:07.859Z"
   },
   {
    "duration": 6,
    "start_time": "2021-07-27T20:53:08.689Z"
   },
   {
    "duration": 8,
    "start_time": "2021-07-27T20:53:08.698Z"
   },
   {
    "duration": 4,
    "start_time": "2021-07-27T20:53:08.709Z"
   },
   {
    "duration": 2463,
    "start_time": "2021-07-27T21:02:02.632Z"
   },
   {
    "duration": 1114,
    "start_time": "2021-07-27T21:02:05.099Z"
   },
   {
    "duration": 7,
    "start_time": "2021-07-27T21:02:06.216Z"
   },
   {
    "duration": 6,
    "start_time": "2021-07-27T21:02:06.226Z"
   },
   {
    "duration": 4,
    "start_time": "2021-07-27T21:02:06.263Z"
   },
   {
    "duration": 78,
    "start_time": "2021-07-27T21:02:06.270Z"
   },
   {
    "duration": -926,
    "start_time": "2021-07-27T21:02:07.277Z"
   },
   {
    "duration": -937,
    "start_time": "2021-07-27T21:02:07.289Z"
   },
   {
    "duration": -937,
    "start_time": "2021-07-27T21:02:07.291Z"
   },
   {
    "duration": -939,
    "start_time": "2021-07-27T21:02:07.294Z"
   },
   {
    "duration": -940,
    "start_time": "2021-07-27T21:02:07.297Z"
   },
   {
    "duration": -943,
    "start_time": "2021-07-27T21:02:07.301Z"
   },
   {
    "duration": -944,
    "start_time": "2021-07-27T21:02:07.303Z"
   },
   {
    "duration": -944,
    "start_time": "2021-07-27T21:02:07.305Z"
   },
   {
    "duration": -945,
    "start_time": "2021-07-27T21:02:07.307Z"
   },
   {
    "duration": -947,
    "start_time": "2021-07-27T21:02:07.310Z"
   },
   {
    "duration": -947,
    "start_time": "2021-07-27T21:02:07.312Z"
   },
   {
    "duration": -948,
    "start_time": "2021-07-27T21:02:07.314Z"
   },
   {
    "duration": -949,
    "start_time": "2021-07-27T21:02:07.316Z"
   },
   {
    "duration": -949,
    "start_time": "2021-07-27T21:02:07.318Z"
   },
   {
    "duration": -950,
    "start_time": "2021-07-27T21:02:07.320Z"
   },
   {
    "duration": 4626,
    "start_time": "2021-07-27T21:03:06.513Z"
   },
   {
    "duration": 277,
    "start_time": "2021-07-27T21:04:17.312Z"
   },
   {
    "duration": 5987,
    "start_time": "2021-07-27T21:04:22.921Z"
   },
   {
    "duration": 1011,
    "start_time": "2021-07-27T21:04:58.886Z"
   },
   {
    "duration": 2067129,
    "start_time": "2021-07-27T21:05:03.919Z"
   },
   {
    "duration": 292,
    "start_time": "2021-07-27T21:41:12.032Z"
   },
   {
    "duration": -244,
    "start_time": "2021-07-27T21:41:12.588Z"
   },
   {
    "duration": -254,
    "start_time": "2021-07-27T21:41:12.599Z"
   },
   {
    "duration": -258,
    "start_time": "2021-07-27T21:41:12.605Z"
   },
   {
    "duration": -260,
    "start_time": "2021-07-27T21:41:12.608Z"
   },
   {
    "duration": -261,
    "start_time": "2021-07-27T21:41:12.611Z"
   },
   {
    "duration": -262,
    "start_time": "2021-07-27T21:41:12.613Z"
   },
   {
    "duration": -265,
    "start_time": "2021-07-27T21:41:12.617Z"
   },
   {
    "duration": -268,
    "start_time": "2021-07-27T21:41:12.621Z"
   },
   {
    "duration": -271,
    "start_time": "2021-07-27T21:41:12.626Z"
   },
   {
    "duration": -274,
    "start_time": "2021-07-27T21:41:12.630Z"
   },
   {
    "duration": -277,
    "start_time": "2021-07-27T21:41:12.634Z"
   },
   {
    "duration": -280,
    "start_time": "2021-07-27T21:41:12.638Z"
   },
   {
    "duration": -282,
    "start_time": "2021-07-27T21:41:12.642Z"
   },
   {
    "duration": -290,
    "start_time": "2021-07-27T21:41:12.651Z"
   },
   {
    "duration": 269,
    "start_time": "2021-07-27T21:41:35.125Z"
   },
   {
    "duration": 280,
    "start_time": "2021-07-27T21:43:08.747Z"
   },
   {
    "duration": 298,
    "start_time": "2021-07-27T21:43:33.722Z"
   },
   {
    "duration": 105,
    "start_time": "2021-07-27T21:44:01.059Z"
   },
   {
    "duration": 6,
    "start_time": "2021-07-27T21:44:06.997Z"
   },
   {
    "duration": 8,
    "start_time": "2021-07-27T21:44:07.010Z"
   },
   {
    "duration": 1046,
    "start_time": "2021-07-27T21:44:07.022Z"
   },
   {
    "duration": -173,
    "start_time": "2021-07-27T21:44:08.244Z"
   },
   {
    "duration": -176,
    "start_time": "2021-07-27T21:44:08.249Z"
   },
   {
    "duration": -178,
    "start_time": "2021-07-27T21:44:08.252Z"
   },
   {
    "duration": -179,
    "start_time": "2021-07-27T21:44:08.255Z"
   },
   {
    "duration": -180,
    "start_time": "2021-07-27T21:44:08.257Z"
   },
   {
    "duration": -182,
    "start_time": "2021-07-27T21:44:08.260Z"
   },
   {
    "duration": -183,
    "start_time": "2021-07-27T21:44:08.262Z"
   },
   {
    "duration": -184,
    "start_time": "2021-07-27T21:44:08.264Z"
   },
   {
    "duration": -184,
    "start_time": "2021-07-27T21:44:08.266Z"
   },
   {
    "duration": -184,
    "start_time": "2021-07-27T21:44:08.268Z"
   },
   {
    "duration": -191,
    "start_time": "2021-07-27T21:44:08.276Z"
   },
   {
    "duration": 269,
    "start_time": "2021-07-27T21:44:44.451Z"
   },
   {
    "duration": 832,
    "start_time": "2021-07-27T21:45:22.258Z"
   },
   {
    "duration": 296,
    "start_time": "2021-07-27T21:46:10.034Z"
   },
   {
    "duration": 293,
    "start_time": "2021-07-27T21:46:18.731Z"
   },
   {
    "duration": 743,
    "start_time": "2021-07-27T21:47:52.644Z"
   },
   {
    "duration": 296,
    "start_time": "2021-07-27T21:48:21.047Z"
   },
   {
    "duration": 2093,
    "start_time": "2021-07-27T21:50:22.406Z"
   },
   {
    "duration": 813,
    "start_time": "2021-07-27T21:50:24.502Z"
   },
   {
    "duration": 5,
    "start_time": "2021-07-27T21:50:25.318Z"
   },
   {
    "duration": 5,
    "start_time": "2021-07-27T21:50:25.325Z"
   },
   {
    "duration": 28,
    "start_time": "2021-07-27T21:50:25.333Z"
   },
   {
    "duration": 244,
    "start_time": "2021-07-27T21:50:25.364Z"
   },
   {
    "duration": 2131,
    "start_time": "2021-07-28T03:48:28.625Z"
   },
   {
    "duration": 743,
    "start_time": "2021-07-28T03:48:30.759Z"
   },
   {
    "duration": 6,
    "start_time": "2021-07-28T03:48:31.505Z"
   },
   {
    "duration": 7,
    "start_time": "2021-07-28T03:48:31.514Z"
   },
   {
    "duration": 4,
    "start_time": "2021-07-28T03:48:31.523Z"
   },
   {
    "duration": 1315,
    "start_time": "2021-07-28T03:48:31.556Z"
   },
   {
    "duration": 2021636,
    "start_time": "2021-07-28T03:48:32.874Z"
   },
   {
    "duration": 105,
    "start_time": "2021-07-28T04:22:14.514Z"
   },
   {
    "duration": 5,
    "start_time": "2021-07-28T04:22:14.623Z"
   },
   {
    "duration": 26,
    "start_time": "2021-07-28T04:22:14.631Z"
   },
   {
    "duration": 572,
    "start_time": "2021-07-28T04:22:14.659Z"
   },
   {
    "duration": 181,
    "start_time": "2021-07-28T04:22:15.053Z"
   },
   {
    "duration": 181,
    "start_time": "2021-07-28T04:22:15.056Z"
   },
   {
    "duration": 178,
    "start_time": "2021-07-28T04:22:15.061Z"
   },
   {
    "duration": 177,
    "start_time": "2021-07-28T04:22:15.064Z"
   },
   {
    "duration": 178,
    "start_time": "2021-07-28T04:22:15.065Z"
   },
   {
    "duration": 178,
    "start_time": "2021-07-28T04:22:15.067Z"
   },
   {
    "duration": 179,
    "start_time": "2021-07-28T04:22:15.068Z"
   },
   {
    "duration": 180,
    "start_time": "2021-07-28T04:22:15.070Z"
   },
   {
    "duration": 178,
    "start_time": "2021-07-28T04:22:15.074Z"
   },
   {
    "duration": 178,
    "start_time": "2021-07-28T04:22:15.076Z"
   },
   {
    "duration": 178,
    "start_time": "2021-07-28T04:22:15.078Z"
   },
   {
    "duration": 131,
    "start_time": "2021-07-28T04:25:40.502Z"
   },
   {
    "duration": 359,
    "start_time": "2021-07-28T04:25:44.277Z"
   },
   {
    "duration": 377,
    "start_time": "2021-07-28T04:48:24.291Z"
   },
   {
    "duration": 377,
    "start_time": "2021-07-28T04:48:34.529Z"
   },
   {
    "duration": 19,
    "start_time": "2021-07-28T04:55:32.865Z"
   },
   {
    "duration": 351,
    "start_time": "2021-07-28T04:58:22.202Z"
   },
   {
    "duration": 6,
    "start_time": "2021-07-28T04:58:42.398Z"
   },
   {
    "duration": 370,
    "start_time": "2021-07-28T04:58:49.293Z"
   },
   {
    "duration": 6,
    "start_time": "2021-07-28T04:59:17.459Z"
   },
   {
    "duration": 390,
    "start_time": "2021-07-28T04:59:23.427Z"
   },
   {
    "duration": 8109,
    "start_time": "2021-07-28T05:32:12.363Z"
   },
   {
    "duration": 2496,
    "start_time": "2021-07-28T05:32:30.503Z"
   },
   {
    "duration": 5,
    "start_time": "2021-07-28T05:32:55.406Z"
   },
   {
    "duration": 9,
    "start_time": "2021-07-28T05:32:55.413Z"
   },
   {
    "duration": 68,
    "start_time": "2021-07-28T05:32:55.425Z"
   },
   {
    "duration": 391091,
    "start_time": "2021-07-28T05:32:55.496Z"
   },
   {
    "duration": 7,
    "start_time": "2021-07-28T05:39:26.589Z"
   },
   {
    "duration": 5780,
    "start_time": "2021-07-28T05:39:26.599Z"
   },
   {
    "duration": 6,
    "start_time": "2021-07-28T05:39:32.382Z"
   },
   {
    "duration": 4424000,
    "start_time": "2021-07-28T05:39:32.392Z"
   },
   {
    "duration": 6,
    "start_time": "2021-07-28T06:53:16.395Z"
   },
   {
    "duration": 54,
    "start_time": "2021-07-28T06:53:16.403Z"
   },
   {
    "duration": 2101,
    "start_time": "2021-07-28T06:56:50.475Z"
   },
   {
    "duration": 750,
    "start_time": "2021-07-28T06:56:52.578Z"
   },
   {
    "duration": 5,
    "start_time": "2021-07-28T06:56:53.331Z"
   },
   {
    "duration": 19,
    "start_time": "2021-07-28T06:56:53.339Z"
   },
   {
    "duration": 11,
    "start_time": "2021-07-28T06:56:53.360Z"
   },
   {
    "duration": 518,
    "start_time": "2021-07-28T06:56:53.373Z"
   },
   {
    "duration": 2097849,
    "start_time": "2021-07-28T06:56:53.893Z"
   },
   {
    "duration": 118,
    "start_time": "2021-07-28T07:31:51.745Z"
   },
   {
    "duration": 6,
    "start_time": "2021-07-28T07:31:51.866Z"
   },
   {
    "duration": 29,
    "start_time": "2021-07-28T07:31:51.879Z"
   },
   {
    "duration": 9554,
    "start_time": "2021-07-28T07:31:51.911Z"
   },
   {
    "duration": 3034,
    "start_time": "2021-07-28T07:32:01.467Z"
   },
   {
    "duration": 5,
    "start_time": "2021-07-28T07:32:04.504Z"
   },
   {
    "duration": 9,
    "start_time": "2021-07-28T07:32:04.512Z"
   },
   {
    "duration": 94,
    "start_time": "2021-07-28T07:32:04.523Z"
   },
   {
    "duration": 318549,
    "start_time": "2021-07-28T07:32:04.620Z"
   },
   {
    "duration": 7,
    "start_time": "2021-07-28T07:37:23.171Z"
   },
   {
    "duration": 5756,
    "start_time": "2021-07-28T07:37:23.180Z"
   },
   {
    "duration": 7,
    "start_time": "2021-07-28T07:37:28.939Z"
   },
   {
    "duration": 12084344,
    "start_time": "2021-07-28T07:37:28.959Z"
   },
   {
    "duration": 50,
    "start_time": "2021-07-28T10:58:53.305Z"
   },
   {
    "duration": 12,
    "start_time": "2021-07-28T10:58:53.357Z"
   },
   {
    "duration": 724,
    "start_time": "2021-07-28T11:24:08.463Z"
   },
   {
    "duration": 121,
    "start_time": "2021-07-28T11:25:24.392Z"
   },
   {
    "duration": 127,
    "start_time": "2021-07-28T11:26:49.875Z"
   },
   {
    "duration": 5433,
    "start_time": "2021-07-28T11:27:06.179Z"
   },
   {
    "duration": 74,
    "start_time": "2021-07-28T11:27:16.648Z"
   },
   {
    "duration": 4,
    "start_time": "2021-07-28T11:30:39.734Z"
   },
   {
    "duration": 734,
    "start_time": "2021-07-28T11:33:56.587Z"
   },
   {
    "duration": 42918,
    "start_time": "2021-07-28T11:34:05.205Z"
   },
   {
    "duration": 43383,
    "start_time": "2021-07-28T11:35:24.476Z"
   },
   {
    "duration": 4458,
    "start_time": "2021-07-28T11:36:44.457Z"
   }
  ],
  "kernelspec": {
   "display_name": "Python 3",
   "language": "python",
   "name": "python3"
  },
  "language_info": {
   "codemirror_mode": {
    "name": "ipython",
    "version": 3
   },
   "file_extension": ".py",
   "mimetype": "text/x-python",
   "name": "python",
   "nbconvert_exporter": "python",
   "pygments_lexer": "ipython3",
   "version": "3.9.5"
  },
  "toc": {
   "base_numbering": 1,
   "nav_menu": {},
   "number_sections": true,
   "sideBar": true,
   "skip_h1_title": true,
   "title_cell": "Содержание",
   "title_sidebar": "Contents",
   "toc_cell": true,
   "toc_position": {
    "height": "calc(100% - 180px)",
    "left": "10px",
    "top": "150px",
    "width": "216.387px"
   },
   "toc_section_display": true,
   "toc_window_display": true
  }
 },
 "nbformat": 4,
 "nbformat_minor": 2
}
