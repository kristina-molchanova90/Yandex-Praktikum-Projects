{
 "cells": [
  {
   "cell_type": "markdown",
   "metadata": {},
   "source": [
    "# Защита персональных данных клиентов"
   ]
  },
  {
   "cell_type": "markdown",
   "metadata": {},
   "source": [
    "Необходимо разработать такой метод преобразования данных, чтобы по ним было сложно восстановить персональную информацию и обосновать корректность его работы.При преобразовании качество моделей машинного обучения не ухудшилось (простая модель линейной регрессии без подбора гиперпараметров)"
   ]
  },
  {
   "cell_type": "markdown",
   "metadata": {},
   "source": [
    "## Загрузка данных"
   ]
  },
  {
   "cell_type": "markdown",
   "metadata": {},
   "source": [
    "Сделаем все необходимые импорты"
   ]
  },
  {
   "cell_type": "code",
   "execution_count": 1,
   "metadata": {},
   "outputs": [],
   "source": [
    "import pandas as pd\n",
    "import numpy as np\n",
    "from sklearn.linear_model import LinearRegression\n",
    "from sklearn.metrics import r2_score\n",
    "import random"
   ]
  },
  {
   "cell_type": "markdown",
   "metadata": {},
   "source": [
    "Откроем файл и изучим его"
   ]
  },
  {
   "cell_type": "code",
   "execution_count": 3,
   "metadata": {},
   "outputs": [
    {
     "data": {
      "text/html": [
       "<div>\n",
       "<style scoped>\n",
       "    .dataframe tbody tr th:only-of-type {\n",
       "        vertical-align: middle;\n",
       "    }\n",
       "\n",
       "    .dataframe tbody tr th {\n",
       "        vertical-align: top;\n",
       "    }\n",
       "\n",
       "    .dataframe thead th {\n",
       "        text-align: right;\n",
       "    }\n",
       "</style>\n",
       "<table border=\"1\" class=\"dataframe\">\n",
       "  <thead>\n",
       "    <tr style=\"text-align: right;\">\n",
       "      <th></th>\n",
       "      <th>Пол</th>\n",
       "      <th>Возраст</th>\n",
       "      <th>Зарплата</th>\n",
       "      <th>Члены семьи</th>\n",
       "      <th>Страховые выплаты</th>\n",
       "    </tr>\n",
       "  </thead>\n",
       "  <tbody>\n",
       "    <tr>\n",
       "      <td>0</td>\n",
       "      <td>1</td>\n",
       "      <td>41.0</td>\n",
       "      <td>49600.0</td>\n",
       "      <td>1</td>\n",
       "      <td>0</td>\n",
       "    </tr>\n",
       "    <tr>\n",
       "      <td>1</td>\n",
       "      <td>0</td>\n",
       "      <td>46.0</td>\n",
       "      <td>38000.0</td>\n",
       "      <td>1</td>\n",
       "      <td>1</td>\n",
       "    </tr>\n",
       "    <tr>\n",
       "      <td>2</td>\n",
       "      <td>0</td>\n",
       "      <td>29.0</td>\n",
       "      <td>21000.0</td>\n",
       "      <td>0</td>\n",
       "      <td>0</td>\n",
       "    </tr>\n",
       "    <tr>\n",
       "      <td>3</td>\n",
       "      <td>0</td>\n",
       "      <td>21.0</td>\n",
       "      <td>41700.0</td>\n",
       "      <td>2</td>\n",
       "      <td>0</td>\n",
       "    </tr>\n",
       "    <tr>\n",
       "      <td>4</td>\n",
       "      <td>1</td>\n",
       "      <td>28.0</td>\n",
       "      <td>26100.0</td>\n",
       "      <td>0</td>\n",
       "      <td>0</td>\n",
       "    </tr>\n",
       "  </tbody>\n",
       "</table>\n",
       "</div>"
      ],
      "text/plain": [
       "   Пол  Возраст  Зарплата  Члены семьи  Страховые выплаты\n",
       "0    1     41.0   49600.0            1                  0\n",
       "1    0     46.0   38000.0            1                  1\n",
       "2    0     29.0   21000.0            0                  0\n",
       "3    0     21.0   41700.0            2                  0\n",
       "4    1     28.0   26100.0            0                  0"
      ]
     },
     "metadata": {},
     "output_type": "display_data"
    },
    {
     "name": "stdout",
     "output_type": "stream",
     "text": [
      "<class 'pandas.core.frame.DataFrame'>\n",
      "RangeIndex: 5000 entries, 0 to 4999\n",
      "Data columns (total 5 columns):\n",
      "Пол                  5000 non-null int64\n",
      "Возраст              5000 non-null float64\n",
      "Зарплата             5000 non-null float64\n",
      "Члены семьи          5000 non-null int64\n",
      "Страховые выплаты    5000 non-null int64\n",
      "dtypes: float64(2), int64(3)\n",
      "memory usage: 195.4 KB\n",
      "None\n"
     ]
    }
   ],
   "source": [
    "insurance = pd.read_csv('/datasets/insurance.csv')\n",
    "display(insurance.head(5))\n",
    "print(insurance.info())"
   ]
  },
  {
   "cell_type": "markdown",
   "metadata": {},
   "source": [
    "Данные все числовые и не содержат пропусков. Проверим, есть ли в датасете заведомо некорректные данные (слишком маленький или отрицательный возраст, например, или количество членов семьи). Для этого выведем минимальное и максимальное значение в каждом столбце:"
   ]
  },
  {
   "cell_type": "code",
   "execution_count": 4,
   "metadata": {},
   "outputs": [
    {
     "name": "stdout",
     "output_type": "stream",
     "text": [
      "Минимальные значения в каждом столбце\n",
      "Пол                     0.0\n",
      "Возраст                18.0\n",
      "Зарплата             5300.0\n",
      "Члены семьи             0.0\n",
      "Страховые выплаты       0.0\n",
      "dtype: float64\n",
      "\n",
      "Максимальные значения в каждом столбце\n",
      "Пол                      1.0\n",
      "Возраст                 65.0\n",
      "Зарплата             79000.0\n",
      "Члены семьи              6.0\n",
      "Страховые выплаты        5.0\n",
      "dtype: float64\n"
     ]
    }
   ],
   "source": [
    "print('Минимальные значения в каждом столбце')\n",
    "print(insurance.min())\n",
    "print()\n",
    "print('Максимальные значения в каждом столбце')\n",
    "print(insurance.max())"
   ]
  },
  {
   "cell_type": "markdown",
   "metadata": {},
   "source": [
    "Можно видеть, что значения каждого признака находятся в допустимом диапазоне. Для удобства работы переименуем колонки"
   ]
  },
  {
   "cell_type": "code",
   "execution_count": 5,
   "metadata": {},
   "outputs": [
    {
     "name": "stdout",
     "output_type": "stream",
     "text": [
      "Index(['gender', 'age', 'salary', 'family_members', 'payments'], dtype='object')\n"
     ]
    }
   ],
   "source": [
    "insurance.columns = ['gender', 'age', 'salary', 'family_members', 'payments']\n",
    "print(insurance.columns)"
   ]
  },
  {
   "cell_type": "markdown",
   "metadata": {},
   "source": [
    "Данные готовы к дальнейшей работе"
   ]
  },
  {
   "cell_type": "markdown",
   "metadata": {},
   "source": [
    "## Умножение матриц"
   ]
  },
  {
   "cell_type": "markdown",
   "metadata": {},
   "source": [
    "<h3>Построение модели линейной регрессии</h3>"
   ]
  },
  {
   "cell_type": "markdown",
   "metadata": {},
   "source": [
    "Напишем функцию построения модели линейной регрессии и получения предсказаний, оценки функции минимизации потерь"
   ]
  },
  {
   "cell_type": "code",
   "execution_count": 6,
   "metadata": {},
   "outputs": [],
   "source": [
    "def make_linear_regression(features, target):\n",
    "    model = LinearRegression()\n",
    "    model.fit(features, target)\n",
    "    prediction = model.predict(features)\n",
    "    r2 = r2_score(target,prediction)\n",
    "    return model,r2"
   ]
  },
  {
   "cell_type": "markdown",
   "metadata": {},
   "source": [
    "Напишем функцию для разбиения датасета на features и target:"
   ]
  },
  {
   "cell_type": "code",
   "execution_count": 7,
   "metadata": {},
   "outputs": [],
   "source": [
    "def split_data(data,column):\n",
    "    target = data[column]\n",
    "    features = data.drop(column,axis = 1)\n",
    "    return target, features"
   ]
  },
  {
   "cell_type": "markdown",
   "metadata": {},
   "source": [
    "<h3>Оценка влияния на качество линейной регрессии умножения признаков на обратимую матрицу</h3>"
   ]
  },
  {
   "cell_type": "markdown",
   "metadata": {},
   "source": [
    "Выясним, изменится ли качество линейной регрессии при умножении признаков на обратимую матрицу"
   ]
  },
  {
   "cell_type": "markdown",
   "metadata": {},
   "source": [
    "Выделим отдельно обучающие и целевой признак, обучим на них модель линейной регрессии и получим признак r2:"
   ]
  },
  {
   "cell_type": "code",
   "execution_count": 8,
   "metadata": {},
   "outputs": [
    {
     "name": "stdout",
     "output_type": "stream",
     "text": [
      "r2 =  0.42494550286668\n"
     ]
    }
   ],
   "source": [
    "ins_target, ins_features = split_data(insurance,'payments')\n",
    "b_model,b_r2 = make_linear_regression(ins_features, ins_target)\n",
    "print('r2 = ',b_r2)"
   ]
  },
  {
   "cell_type": "markdown",
   "metadata": {},
   "source": [
    "Зададим случайную матрицу, и умножим на нее матрицу признаков. Обучим модель и посчитаем r2. Повторим экперимент 10000 раз. Выведем минимальное, максмимальное и среднее значение r2."
   ]
  },
  {
   "cell_type": "code",
   "execution_count": 10,
   "metadata": {},
   "outputs": [
    {
     "name": "stdout",
     "output_type": "stream",
     "text": [
      "min =  0.4249455027539569\n",
      "max =  0.4249455028897814\n",
      "mean =  0.42494550286667326\n"
     ]
    }
   ],
   "source": [
    "r2s = []\n",
    "for i in range(10000):\n",
    "    matrix = np.random.normal(size = (4,4))\n",
    "    if np.linalg.det(matrix) !=0: #если матрица обратима\n",
    "        ch_features = ins_features @ matrix \n",
    "        model, r2 = make_linear_regression(ch_features, ins_target)\n",
    "        r2s.append(r2)\n",
    "r2s = np.array(r2s)\n",
    "print('min = ',np.min(r2s))\n",
    "print('max = ',np.max(r2s))\n",
    "print('mean = ',np.mean(r2s))"
   ]
  },
  {
   "cell_type": "markdown",
   "metadata": {},
   "source": [
    "**Ответ:** Как можно видеть, значения r2 практически неизменны. Среднее значение r2 максимально близко к значению r2 на изначальных данных. То есть, можно сказать, что умножение признаков на обратимую матрицу не меняет качество линейной регрессии. Посмотрим, как так получилось."
   ]
  },
  {
   "cell_type": "markdown",
   "metadata": {},
   "source": [
    "**Обоснование:** Известно, что модель линейной регрессии в кратком виде записывается следующим образом:\n",
    "$$a = Xw$$\n",
    "Также известно, оптимальные значения вектора w для модели линейной регрессии находятся по формуле:\n",
    "$$w = (X^TX)^{-1}X^Ty$$\n",
    "Если матрицу признаков умножить на обратимую (а, значит, квадратную) матрицу M, то данное выражение примет следующий вид:\n",
    "$$w_m = ((XM)^T(XM))^{-1}(XM)^Ty$$\n",
    "Преобразуем данное выражение:<br>\n",
    "Для начала воспользуемся свойством транспонированного произведения матриц:\n",
    "$$w_m = (M^TX^T(XM))^{-1}M^TX^Ty$$\n",
    "А теперь воспользуемся сочетательным свойством умножения матриц:\n",
    "$$w_m = ((M^TX^TX)M)^{-1}M^TX^Ty$$\n",
    "Заметим, что матрица $X^TX$ - квадратная матрица той же размерности, что и матрица <b>M</b>, поэтому матрица $M^TX^TX$ - также квадратная матрица, поэтому можем воспользоваться свойством обратной матрицы:\n",
    "$$w_m = M^{-1}(M^TX^TX)^{-1}M^TX^Ty$$\n",
    "или\n",
    "$$w_m = M^{-1}(X^TX)^{-1}(M^T)^{-1}M^TX^Ty$$\n",
    "Известно, что $(M^T)^{-1}M^T$ - единичная матрица (из определения обратной матрицы). Тогда:\n",
    "$$w_m = M^{-1}(X^TX)^{-1}EX^Ty$$\n",
    "Применив сочетательное свойство умножения матриц и свойства единичной матрицы, получаем:\n",
    "$$w_m = M^{-1}(X^TX)^{-1}X^Ty$$\n",
    "Соответственно\n",
    "$$w_m = M^{-1}w$$\n",
    "Тогда, подставив значения в формулу линейной регрессии, получим:\n",
    "$$a_m = (XM)( M^{-1}w)$$\n",
    "или\n",
    "$$a_m = XMM^{-1}w$$\n",
    "или\n",
    "$$a_m = XEw$$\n",
    "или\n",
    "$$a_m = Xw$$\n",
    "или\n",
    "$$a_m = a$$\n",
    "\n",
    "Таким образом можем видеть, что вектор предсказаний при умножении матрицы признаков на обратимую матрицу не меняется. <br>\n",
    "Проверим полученное значение:\n",
    "$$w_m = M^{-1}w$$"
   ]
  },
  {
   "cell_type": "code",
   "execution_count": 11,
   "metadata": {},
   "outputs": [
    {
     "name": "stdout",
     "output_type": "stream",
     "text": [
      "Матрица коэффициентов исходной модели\n",
      "[ 7.92580543e-03  3.57083050e-02 -1.70080492e-07 -1.35676623e-02]\n",
      "\n",
      "Матрица коэффициентов модели, полученной путем умножения матрицы признаков на обратимую\n",
      "[ 0.02971531  0.01893548 -0.00796993  0.0344522 ]\n",
      "\n",
      "Обратимая матрица, на которую умножали матрицу признаков:\n",
      "[[ 0.32313763  0.24485021  0.52992848 -0.06064033]\n",
      " [ 0.22743842  1.92260967  0.76936364 -0.03842593]\n",
      " [-1.31982233 -0.11124363  0.06873612  1.21539523]\n",
      " [-1.10355278  0.3287019   0.80199797  0.56288125]]\n",
      "\n",
      "Произведение обратной матрицы на матрицу коэффициентов исходной модели\n",
      "[ 0.02971531  0.01893548 -0.00796993  0.0344522 ]\n"
     ]
    }
   ],
   "source": [
    "print('Матрица коэффициентов исходной модели')\n",
    "print(b_model.coef_)\n",
    "print()\n",
    "print('Матрица коэффициентов модели, полученной путем умножения матрицы признаков на обратимую')\n",
    "print(model.coef_)\n",
    "print()\n",
    "print('Обратимая матрица, на которую умножали матрицу признаков:')\n",
    "print(matrix)\n",
    "print()\n",
    "print('Произведение обратной матрицы на матрицу коэффициентов исходной модели')\n",
    "print(np.linalg.inv(matrix).dot(b_model.coef_))"
   ]
  },
  {
   "cell_type": "markdown",
   "metadata": {},
   "source": [
    "<b>Вывод</b><br>\n",
    "Как можно видеть, матрица коэффициентов модели, полученной пцтем умножения матрицы признаков на обратимую матрицу, равна произведению обратной матрицы на матрицу коэффициентов исходной модели. Поэтому, как можно видеть, умножение матрицы признаков на обратимую, не приводит к изменению предсказаний и, соответственно, качества модели. Это можно использовать для создания алгоритма преобразования данных."
   ]
  },
  {
   "cell_type": "markdown",
   "metadata": {},
   "source": [
    "## Алгоритм преобразования"
   ]
  },
  {
   "cell_type": "markdown",
   "metadata": {},
   "source": [
    "<h3>Алгоритм</h3>"
   ]
  },
  {
   "cell_type": "markdown",
   "metadata": {},
   "source": [
    "В предыдущем пункте мы выяснили, что умножение признаков на обратимую матрицу не приводит к изменению результатов линейной регрессии. Однако, если мы преобразуем только признаки, то столбец 'payments' остается неизменным. Нам необходимо внести изменения и в этот столбец тоже. <br>\n",
    "Для этого, прежде чем умножать признаки на обратимую матрицу, необходимо произвести некоторые изменения в полном датасете.\n",
    "<br>\n",
    "<br>\n",
    "Таким образом, можно предложить следующий алгоритм для системы кодирования:\n",
    "\n",
    "1. Сгенерировать случайную обратимую матрицу, вычсилить ее определитель</li>\n",
    "2. Преобразовать исходные данные (вместе с целевым признаком) следующим способом: Сначала поэлементно прибавить случайное число, потом поэлементно умножить на другое случайное число. Эти случайные числа не должны быть легко вычисляемыми. ИХ нужно сделать еще более сложными для понимания. Например, следующим способом:<br>\n",
    "        2.1. Сгенерировать случайное число в заданном диапазоне, случайным образом сделав его положительным или отрицательным. Данное число умножить на определитель матрицы. Таким образом получим случайное число, которое будем поэлементно прибавлять.\n",
    "        2.2. Сгенерировать случайное число в другом диапазоне, случайным образом сделав его положительным или отрицательным. Умножить его на определитель матрицы. Возвести все в куб. Таким образом получим число, на которое будем поэлементно умножать\n",
    "3. Умножить признаки на сгенерированную обратимую матрицу\n",
    "\n",
    "<br>\n",
    "Проверим и обоснуем этот алгоритм."
   ]
  },
  {
   "cell_type": "markdown",
   "metadata": {},
   "source": [
    "<h3>Обоснование алгоритма</h3>"
   ]
  },
  {
   "cell_type": "markdown",
   "metadata": {},
   "source": [
    "Для начала необходимо убедиться, что при поэлементном умножении или прибавлении какого-либо отличного от нуля числа исходной матрицы (признаков вместе с целевым) качество модели не меняется: "
   ]
  },
  {
   "cell_type": "markdown",
   "metadata": {},
   "source": [
    "Чтобы было проще сравнивать значения коэффициентов и r2, создадим специальный датасет для этого"
   ]
  },
  {
   "cell_type": "code",
   "execution_count": 12,
   "metadata": {},
   "outputs": [],
   "source": [
    "#функция для добавления строки с коэффициентами в датасет\n",
    "def add_coeff(mod,r2,name,coeff_data):\n",
    "    new_row = {'_name':name,'_r2':r2,'_w1':mod.coef_[0],'_w2':mod.coef_[1],'_w3':mod.coef_[2],'_w4':mod.coef_[3],'w0 - free':mod.intercept_}\n",
    "    coeff_data = coeff_data.append(new_row,ignore_index = True)\n",
    "    display(coeff_data)\n",
    "    return coeff_data"
   ]
  },
  {
   "cell_type": "code",
   "execution_count": 13,
   "metadata": {},
   "outputs": [
    {
     "data": {
      "text/html": [
       "<div>\n",
       "<style scoped>\n",
       "    .dataframe tbody tr th:only-of-type {\n",
       "        vertical-align: middle;\n",
       "    }\n",
       "\n",
       "    .dataframe tbody tr th {\n",
       "        vertical-align: top;\n",
       "    }\n",
       "\n",
       "    .dataframe thead th {\n",
       "        text-align: right;\n",
       "    }\n",
       "</style>\n",
       "<table border=\"1\" class=\"dataframe\">\n",
       "  <thead>\n",
       "    <tr style=\"text-align: right;\">\n",
       "      <th></th>\n",
       "      <th>_name</th>\n",
       "      <th>_r2</th>\n",
       "      <th>_w1</th>\n",
       "      <th>_w2</th>\n",
       "      <th>_w3</th>\n",
       "      <th>_w4</th>\n",
       "      <th>w0 - free</th>\n",
       "    </tr>\n",
       "  </thead>\n",
       "  <tbody>\n",
       "    <tr>\n",
       "      <td>0</td>\n",
       "      <td>модель на исходных данных</td>\n",
       "      <td>0.424946</td>\n",
       "      <td>0.007926</td>\n",
       "      <td>0.035708</td>\n",
       "      <td>-1.700805e-07</td>\n",
       "      <td>-0.013568</td>\n",
       "      <td>-0.938236</td>\n",
       "    </tr>\n",
       "  </tbody>\n",
       "</table>\n",
       "</div>"
      ],
      "text/plain": [
       "                       _name       _r2       _w1       _w2           _w3  \\\n",
       "0  модель на исходных данных  0.424946  0.007926  0.035708 -1.700805e-07   \n",
       "\n",
       "        _w4  w0 - free  \n",
       "0 -0.013568  -0.938236  "
      ]
     },
     "metadata": {},
     "output_type": "display_data"
    }
   ],
   "source": [
    "coeff_data = pd.DataFrame()\n",
    "coeff_data = add_coeff(b_model,b_r2,'модель на исходных данных',coeff_data)"
   ]
  },
  {
   "cell_type": "markdown",
   "metadata": {},
   "source": [
    "Напишем функцию обработки значения датасета, построения модели линейной регрессии на новых данных и вывода значений коэффициентов:"
   ]
  },
  {
   "cell_type": "code",
   "execution_count": 14,
   "metadata": {},
   "outputs": [],
   "source": [
    "def find_characteristics(data, target_column, model_name,coeff_data):\n",
    "    print('Первые 3 строки измененного датасета')\n",
    "    display(data.head(3))\n",
    "    ins_ch_target,ins_ch_features = split_data(data,'payments')\n",
    "    b2_model,b2_r2 = make_linear_regression(ins_ch_features, ins_ch_target)\n",
    "    print('Значения коэффициентов:')\n",
    "    coeff_data = add_coeff(b2_model,b2_r2,model_name,coeff_data)\n",
    "    return coeff_data"
   ]
  },
  {
   "cell_type": "markdown",
   "metadata": {},
   "source": [
    "**Убедимся, что, если мы поэлементно прибавим какое-то число, то значение r2 у нас не изменится:**"
   ]
  },
  {
   "cell_type": "code",
   "execution_count": 15,
   "metadata": {},
   "outputs": [
    {
     "name": "stdout",
     "output_type": "stream",
     "text": [
      "Первые 3 строки измененного датасета\n"
     ]
    },
    {
     "data": {
      "text/html": [
       "<div>\n",
       "<style scoped>\n",
       "    .dataframe tbody tr th:only-of-type {\n",
       "        vertical-align: middle;\n",
       "    }\n",
       "\n",
       "    .dataframe tbody tr th {\n",
       "        vertical-align: top;\n",
       "    }\n",
       "\n",
       "    .dataframe thead th {\n",
       "        text-align: right;\n",
       "    }\n",
       "</style>\n",
       "<table border=\"1\" class=\"dataframe\">\n",
       "  <thead>\n",
       "    <tr style=\"text-align: right;\">\n",
       "      <th></th>\n",
       "      <th>gender</th>\n",
       "      <th>age</th>\n",
       "      <th>salary</th>\n",
       "      <th>family_members</th>\n",
       "      <th>payments</th>\n",
       "    </tr>\n",
       "  </thead>\n",
       "  <tbody>\n",
       "    <tr>\n",
       "      <td>0</td>\n",
       "      <td>4.0</td>\n",
       "      <td>44.0</td>\n",
       "      <td>49603.0</td>\n",
       "      <td>4.0</td>\n",
       "      <td>3.0</td>\n",
       "    </tr>\n",
       "    <tr>\n",
       "      <td>1</td>\n",
       "      <td>3.0</td>\n",
       "      <td>49.0</td>\n",
       "      <td>38003.0</td>\n",
       "      <td>4.0</td>\n",
       "      <td>4.0</td>\n",
       "    </tr>\n",
       "    <tr>\n",
       "      <td>2</td>\n",
       "      <td>3.0</td>\n",
       "      <td>32.0</td>\n",
       "      <td>21003.0</td>\n",
       "      <td>3.0</td>\n",
       "      <td>3.0</td>\n",
       "    </tr>\n",
       "  </tbody>\n",
       "</table>\n",
       "</div>"
      ],
      "text/plain": [
       "   gender   age   salary  family_members  payments\n",
       "0     4.0  44.0  49603.0             4.0       3.0\n",
       "1     3.0  49.0  38003.0             4.0       4.0\n",
       "2     3.0  32.0  21003.0             3.0       3.0"
      ]
     },
     "metadata": {},
     "output_type": "display_data"
    },
    {
     "name": "stdout",
     "output_type": "stream",
     "text": [
      "Значения коэффициентов:\n"
     ]
    },
    {
     "data": {
      "text/html": [
       "<div>\n",
       "<style scoped>\n",
       "    .dataframe tbody tr th:only-of-type {\n",
       "        vertical-align: middle;\n",
       "    }\n",
       "\n",
       "    .dataframe tbody tr th {\n",
       "        vertical-align: top;\n",
       "    }\n",
       "\n",
       "    .dataframe thead th {\n",
       "        text-align: right;\n",
       "    }\n",
       "</style>\n",
       "<table border=\"1\" class=\"dataframe\">\n",
       "  <thead>\n",
       "    <tr style=\"text-align: right;\">\n",
       "      <th></th>\n",
       "      <th>_name</th>\n",
       "      <th>_r2</th>\n",
       "      <th>_w1</th>\n",
       "      <th>_w2</th>\n",
       "      <th>_w3</th>\n",
       "      <th>_w4</th>\n",
       "      <th>w0 - free</th>\n",
       "    </tr>\n",
       "  </thead>\n",
       "  <tbody>\n",
       "    <tr>\n",
       "      <td>0</td>\n",
       "      <td>модель на исходных данных</td>\n",
       "      <td>0.424946</td>\n",
       "      <td>0.007926</td>\n",
       "      <td>0.035708</td>\n",
       "      <td>-1.700805e-07</td>\n",
       "      <td>-0.013568</td>\n",
       "      <td>-0.938236</td>\n",
       "    </tr>\n",
       "    <tr>\n",
       "      <td>1</td>\n",
       "      <td>модель на данных плюс число 3 поэлементно</td>\n",
       "      <td>0.424946</td>\n",
       "      <td>0.007926</td>\n",
       "      <td>0.035708</td>\n",
       "      <td>-1.700805e-07</td>\n",
       "      <td>-0.013568</td>\n",
       "      <td>1.971566</td>\n",
       "    </tr>\n",
       "  </tbody>\n",
       "</table>\n",
       "</div>"
      ],
      "text/plain": [
       "                                       _name       _r2       _w1       _w2  \\\n",
       "0                  модель на исходных данных  0.424946  0.007926  0.035708   \n",
       "1  модель на данных плюс число 3 поэлементно  0.424946  0.007926  0.035708   \n",
       "\n",
       "            _w3       _w4  w0 - free  \n",
       "0 -1.700805e-07 -0.013568  -0.938236  \n",
       "1 -1.700805e-07 -0.013568   1.971566  "
      ]
     },
     "metadata": {},
     "output_type": "display_data"
    }
   ],
   "source": [
    "#в нашем примере прибавим число 3:\n",
    "ins_chd = pd.DataFrame((np.array(insurance)+3),columns = insurance.columns, index = insurance.index)\n",
    "\n",
    "coeff_data = find_characteristics(ins_chd, 'payment', 'модель на данных плюс число 3 поэлементно',coeff_data)"
   ]
  },
  {
   "cell_type": "markdown",
   "metadata": {},
   "source": [
    "Можно видеть, что если к исходному датасету поэлементно прибавить некоторое число, то значение r2 не меняется.Также остаются неизменными коэффициенты w, меняется только w0, влияющий непосредственно на сдвиг (что естественно: все значения в датасете как бы сдивнулись по оси Y).Посмотрим, как это получилось: <br>\n",
    "При прибавлении некоторого числа k к элементу $x_{ij}$ получаем новое значение: $x_{ij}+k$. Таким образом, для i-ой строки получаем:\n",
    "$$ w_1*(x_{i1}+k) + w_2*(x_{i2}+k) +...+w_n*(x_{in}+k) + w_0 = y_i+k $$\n",
    "или\n",
    "$$ w_1*x_{i1}+w_1*k + w_2*x_{i2}+w_2*k +...+w_n*x_{in}+w_n*k +w_0 = y_i+k $$\n",
    "или \n",
    "$$ w_1*x_{i1} + w_2*x_{i2} +...+w_n*x_{in} + \\underbrace{(w_0+w_1*k+w_2*k+...+w_n*k)}_{изменение} = y_i+k $$\n",
    "\n",
    "Можно видеть, что при прибавлении к эпоэлементно какого-либо числа в модели изменится только w0. Таким образом, получаем, что прибавление произвольного числа ко всем элементам матрицы приведет к изменению коэффициента w0 в модели линейной регрессии. Все остальные коэффициенты остаются неизменными, как и r2"
   ]
  },
  {
   "cell_type": "markdown",
   "metadata": {},
   "source": [
    "**Убедимся, что, если мы умножим исходные данные на какое-то число поэлементно, то r2 от этого не изменится:**"
   ]
  },
  {
   "cell_type": "code",
   "execution_count": 16,
   "metadata": {},
   "outputs": [
    {
     "name": "stdout",
     "output_type": "stream",
     "text": [
      "Первые 3 строки измененного датасета\n"
     ]
    },
    {
     "data": {
      "text/html": [
       "<div>\n",
       "<style scoped>\n",
       "    .dataframe tbody tr th:only-of-type {\n",
       "        vertical-align: middle;\n",
       "    }\n",
       "\n",
       "    .dataframe tbody tr th {\n",
       "        vertical-align: top;\n",
       "    }\n",
       "\n",
       "    .dataframe thead th {\n",
       "        text-align: right;\n",
       "    }\n",
       "</style>\n",
       "<table border=\"1\" class=\"dataframe\">\n",
       "  <thead>\n",
       "    <tr style=\"text-align: right;\">\n",
       "      <th></th>\n",
       "      <th>gender</th>\n",
       "      <th>age</th>\n",
       "      <th>salary</th>\n",
       "      <th>family_members</th>\n",
       "      <th>payments</th>\n",
       "    </tr>\n",
       "  </thead>\n",
       "  <tbody>\n",
       "    <tr>\n",
       "      <td>0</td>\n",
       "      <td>5.0</td>\n",
       "      <td>205.0</td>\n",
       "      <td>248000.0</td>\n",
       "      <td>5.0</td>\n",
       "      <td>0.0</td>\n",
       "    </tr>\n",
       "    <tr>\n",
       "      <td>1</td>\n",
       "      <td>0.0</td>\n",
       "      <td>230.0</td>\n",
       "      <td>190000.0</td>\n",
       "      <td>5.0</td>\n",
       "      <td>5.0</td>\n",
       "    </tr>\n",
       "    <tr>\n",
       "      <td>2</td>\n",
       "      <td>0.0</td>\n",
       "      <td>145.0</td>\n",
       "      <td>105000.0</td>\n",
       "      <td>0.0</td>\n",
       "      <td>0.0</td>\n",
       "    </tr>\n",
       "  </tbody>\n",
       "</table>\n",
       "</div>"
      ],
      "text/plain": [
       "   gender    age    salary  family_members  payments\n",
       "0     5.0  205.0  248000.0             5.0       0.0\n",
       "1     0.0  230.0  190000.0             5.0       5.0\n",
       "2     0.0  145.0  105000.0             0.0       0.0"
      ]
     },
     "metadata": {},
     "output_type": "display_data"
    },
    {
     "name": "stdout",
     "output_type": "stream",
     "text": [
      "Значения коэффициентов:\n"
     ]
    },
    {
     "data": {
      "text/html": [
       "<div>\n",
       "<style scoped>\n",
       "    .dataframe tbody tr th:only-of-type {\n",
       "        vertical-align: middle;\n",
       "    }\n",
       "\n",
       "    .dataframe tbody tr th {\n",
       "        vertical-align: top;\n",
       "    }\n",
       "\n",
       "    .dataframe thead th {\n",
       "        text-align: right;\n",
       "    }\n",
       "</style>\n",
       "<table border=\"1\" class=\"dataframe\">\n",
       "  <thead>\n",
       "    <tr style=\"text-align: right;\">\n",
       "      <th></th>\n",
       "      <th>_name</th>\n",
       "      <th>_r2</th>\n",
       "      <th>_w1</th>\n",
       "      <th>_w2</th>\n",
       "      <th>_w3</th>\n",
       "      <th>_w4</th>\n",
       "      <th>w0 - free</th>\n",
       "    </tr>\n",
       "  </thead>\n",
       "  <tbody>\n",
       "    <tr>\n",
       "      <td>0</td>\n",
       "      <td>модель на исходных данных</td>\n",
       "      <td>0.424946</td>\n",
       "      <td>0.007926</td>\n",
       "      <td>0.035708</td>\n",
       "      <td>-1.700805e-07</td>\n",
       "      <td>-0.013568</td>\n",
       "      <td>-0.938236</td>\n",
       "    </tr>\n",
       "    <tr>\n",
       "      <td>1</td>\n",
       "      <td>модель на данных плюс число 3 поэлементно</td>\n",
       "      <td>0.424946</td>\n",
       "      <td>0.007926</td>\n",
       "      <td>0.035708</td>\n",
       "      <td>-1.700805e-07</td>\n",
       "      <td>-0.013568</td>\n",
       "      <td>1.971566</td>\n",
       "    </tr>\n",
       "    <tr>\n",
       "      <td>2</td>\n",
       "      <td>модель на данных умноженных на 5 поэлементно</td>\n",
       "      <td>0.424946</td>\n",
       "      <td>0.007926</td>\n",
       "      <td>0.035708</td>\n",
       "      <td>-1.700805e-07</td>\n",
       "      <td>-0.013568</td>\n",
       "      <td>-4.691178</td>\n",
       "    </tr>\n",
       "  </tbody>\n",
       "</table>\n",
       "</div>"
      ],
      "text/plain": [
       "                                          _name       _r2       _w1       _w2  \\\n",
       "0                     модель на исходных данных  0.424946  0.007926  0.035708   \n",
       "1     модель на данных плюс число 3 поэлементно  0.424946  0.007926  0.035708   \n",
       "2  модель на данных умноженных на 5 поэлементно  0.424946  0.007926  0.035708   \n",
       "\n",
       "            _w3       _w4  w0 - free  \n",
       "0 -1.700805e-07 -0.013568  -0.938236  \n",
       "1 -1.700805e-07 -0.013568   1.971566  \n",
       "2 -1.700805e-07 -0.013568  -4.691178  "
      ]
     },
     "metadata": {},
     "output_type": "display_data"
    }
   ],
   "source": [
    "#в нашем примере умножим число 5:\n",
    "ins_chd = pd.DataFrame((np.array(insurance)*5),columns = insurance.columns, index = insurance.index)\n",
    "coeff_data = find_characteristics(ins_chd, 'payment', 'модель на данных умноженных на 5 поэлементно',coeff_data)"
   ]
  },
  {
   "cell_type": "markdown",
   "metadata": {},
   "source": [
    "Можем видеть, что при умножении исходного датасета на число поэлементно, значения коэффициентов W и r2 остались неизменны,  изменился только коэффициент w0 и изменился он ровно в 5 раз (именно на это число мы умножали в примере). Действительно:\n",
    "$$ w_1*x_{i1}*k + w_2*x_{i2}*k +...+w_n*x_{in}*k + w_0 = y_i*k $$\n",
    "или\n",
    "$$ w_1*x_{i1} + w_2*x_{i2} +...+w_n*x_{in} + \\frac{w_0}{k} = y_i $$"
   ]
  },
  {
   "cell_type": "markdown",
   "metadata": {},
   "source": [
    "**Обоснуем, почему был выбран такой алгоритм формирования коэффициентов**"
   ]
  },
  {
   "cell_type": "markdown",
   "metadata": {},
   "source": [
    "Доя начала поймем, для чего нам 2 коэффициента: Если мы будем просто умножать на какой-то коэффициент, то восстановить по поучившимся значениям данные в колонке с целевым признаком будет очень легко: нули так и останутся нулями, а все остальные числа будут кратны множителю. Его найти не составит труда. <br>\n",
    "Если же мы будем просто прибавлять число, то опять же, совершенно не составит никакого труда подобрать число, которое можно вычесть отовсюду. Поэтому мы сначала прибавляем, а потом умножаем. В данном случае подобрать числа будет гораздо сложнее, особенно, если коэффициенты дробные. "
   ]
  },
  {
   "cell_type": "markdown",
   "metadata": {},
   "source": [
    "Коэффициенты, которые мы добираем для поэлементного прибавления и умножения, не должны быть легко идентифицируемы. \n",
    "Для начала мы генерируем случайные числа. Числа генерируем из разных диапазонов, чтобы они больше друг от друга отличались: тогда их сложнее поодбрать. Далее. Чтобы было еще более непонятно, случайным образом делаем эти числа отрицательными или положительными.\n",
    "Также всем известно, что случайные числа генерируются генератором псевдослучайных чисел. Любое псевдослучайное число не может быть защищено от взлома (всегда найдется тот, кто знает, как работает этот генератор). Поэтому я решила усложнить немного создание этих коэффициентов:\n",
    "1. коэффициент k1 умножить на еще одно псевдослучайное вещественное число. например, на определитель матрицы случайных чисел, которую мы сгенерировали ранее.\n",
    "2. коэффициент k2 также умножить на этот определитель и полученное значение возвести в куб (чтобы сохранить знак)"
   ]
  },
  {
   "cell_type": "markdown",
   "metadata": {},
   "source": [
    "**Обоснуем, для чего нам необходимо умножать признаки на случайную обратимую матрицу**"
   ]
  },
  {
   "cell_type": "markdown",
   "metadata": {},
   "source": [
    "При использовании алгориотма \"просто прибавить число и все умножить на другое число\" на всем датасете остается проблема: одинаковые значения будут кодироваться одинаковым образом. Например, в поле gender всего 2 значения: 0 и 1, то есть и в закодированном виде их будет только 2, хоть и выглядеть они будут иначе. Уже зная это, можно восстановить большую часть информации. Поэтому, чтобы этого избежать, умножим признаки на обратимую матрицу. Так даже изначально одинаковые значения будут выглядеть по-разному. А когда необходимо будет раскодировать, просто умножим на обратную матрицу. "
   ]
  },
  {
   "cell_type": "markdown",
   "metadata": {},
   "source": [
    "При умножении признаков вместе с целевым признаком на обратимую матрицу столбец целевого признака меняется непропорционально - значение в каждой строке будет меняться совершенно по-разному, в этом случае мы получаем совсем другую матрицу, для которой будет строиться совершенно другая модель, поэтому и значение r2 будет другим. Поэтому мы не можем умножать на обратимую матрицу все признаки вместе с целевым"
   ]
  },
  {
   "cell_type": "markdown",
   "metadata": {},
   "source": [
    "Реализуем и проверим алгоритм"
   ]
  },
  {
   "cell_type": "markdown",
   "metadata": {},
   "source": [
    "## Проверка алгоритма"
   ]
  },
  {
   "cell_type": "markdown",
   "metadata": {},
   "source": [
    "Напишем функцию для получения случайной матрицы и ее определителя"
   ]
  },
  {
   "cell_type": "code",
   "execution_count": 17,
   "metadata": {},
   "outputs": [],
   "source": [
    "def get_matrix_and_det(size_xy):\n",
    "    matrix = np.random.normal(size = (size_xy,size_xy))\n",
    "    if np.linalg.det(matrix)!=0:\n",
    "        return matrix, np.linalg.det(matrix)\n",
    "    else:\n",
    "        get_matrix_and_det(size_xy)"
   ]
  },
  {
   "cell_type": "markdown",
   "metadata": {},
   "source": [
    "Напишем функцию для шифрования данных:"
   ]
  },
  {
   "cell_type": "code",
   "execution_count": 21,
   "metadata": {},
   "outputs": [],
   "source": [
    "def encode_data(data, target_column):\n",
    "    size_xy = data.shape[1] - 1\n",
    "    matrix, det = get_matrix_and_det(size_xy)\n",
    "    k1 = (-1)**random.randint(1,2)*(random.uniform(50,300))\n",
    "    k2 = (-1)**random.randint(1,2)*(random.uniform(0.001,70))\n",
    "    data_new = (data + k1*det) * (k2*det)**3    \n",
    "    data_target, data_features = split_data(data_new,target_column)\n",
    "    data_encoded = pd.DataFrame(np.array(data_features).dot(matrix),columns = data_features.columns,index = data_features.index)\n",
    "    data_encoded[target_column] = data_target\n",
    "    return data_encoded, matrix, k1, k2"
   ]
  },
  {
   "cell_type": "markdown",
   "metadata": {},
   "source": [
    "Закодируем данные и проверим результат"
   ]
  },
  {
   "cell_type": "code",
   "execution_count": 22,
   "metadata": {},
   "outputs": [
    {
     "name": "stdout",
     "output_type": "stream",
     "text": [
      "Первые 3 строки измененного датасета\n"
     ]
    },
    {
     "data": {
      "text/html": [
       "<div>\n",
       "<style scoped>\n",
       "    .dataframe tbody tr th:only-of-type {\n",
       "        vertical-align: middle;\n",
       "    }\n",
       "\n",
       "    .dataframe tbody tr th {\n",
       "        vertical-align: top;\n",
       "    }\n",
       "\n",
       "    .dataframe thead th {\n",
       "        text-align: right;\n",
       "    }\n",
       "</style>\n",
       "<table border=\"1\" class=\"dataframe\">\n",
       "  <thead>\n",
       "    <tr style=\"text-align: right;\">\n",
       "      <th></th>\n",
       "      <th>gender</th>\n",
       "      <th>age</th>\n",
       "      <th>salary</th>\n",
       "      <th>family_members</th>\n",
       "      <th>payments</th>\n",
       "    </tr>\n",
       "  </thead>\n",
       "  <tbody>\n",
       "    <tr>\n",
       "      <td>0</td>\n",
       "      <td>-2.308882e+11</td>\n",
       "      <td>-2.493306e+11</td>\n",
       "      <td>5.325423e+11</td>\n",
       "      <td>-3.797792e+11</td>\n",
       "      <td>-3.414315e+09</td>\n",
       "    </tr>\n",
       "    <tr>\n",
       "      <td>1</td>\n",
       "      <td>-1.784086e+11</td>\n",
       "      <td>-1.935413e+11</td>\n",
       "      <td>4.067009e+11</td>\n",
       "      <td>-2.896218e+11</td>\n",
       "      <td>-3.408877e+09</td>\n",
       "    </tr>\n",
       "    <tr>\n",
       "      <td>2</td>\n",
       "      <td>-1.016269e+11</td>\n",
       "      <td>-1.118908e+11</td>\n",
       "      <td>2.220568e+11</td>\n",
       "      <td>-1.574742e+11</td>\n",
       "      <td>-3.414315e+09</td>\n",
       "    </tr>\n",
       "  </tbody>\n",
       "</table>\n",
       "</div>"
      ],
      "text/plain": [
       "         gender           age        salary  family_members      payments\n",
       "0 -2.308882e+11 -2.493306e+11  5.325423e+11   -3.797792e+11 -3.414315e+09\n",
       "1 -1.784086e+11 -1.935413e+11  4.067009e+11   -2.896218e+11 -3.408877e+09\n",
       "2 -1.016269e+11 -1.118908e+11  2.220568e+11   -1.574742e+11 -3.414315e+09"
      ]
     },
     "metadata": {},
     "output_type": "display_data"
    },
    {
     "name": "stdout",
     "output_type": "stream",
     "text": [
      "Значения коэффициентов:\n"
     ]
    },
    {
     "data": {
      "text/html": [
       "<div>\n",
       "<style scoped>\n",
       "    .dataframe tbody tr th:only-of-type {\n",
       "        vertical-align: middle;\n",
       "    }\n",
       "\n",
       "    .dataframe tbody tr th {\n",
       "        vertical-align: top;\n",
       "    }\n",
       "\n",
       "    .dataframe thead th {\n",
       "        text-align: right;\n",
       "    }\n",
       "</style>\n",
       "<table border=\"1\" class=\"dataframe\">\n",
       "  <thead>\n",
       "    <tr style=\"text-align: right;\">\n",
       "      <th></th>\n",
       "      <th>_name</th>\n",
       "      <th>_r2</th>\n",
       "      <th>_w1</th>\n",
       "      <th>_w2</th>\n",
       "      <th>_w3</th>\n",
       "      <th>_w4</th>\n",
       "      <th>w0 - free</th>\n",
       "    </tr>\n",
       "  </thead>\n",
       "  <tbody>\n",
       "    <tr>\n",
       "      <td>0</td>\n",
       "      <td>модель на исходных данных</td>\n",
       "      <td>0.424946</td>\n",
       "      <td>0.007926</td>\n",
       "      <td>0.035708</td>\n",
       "      <td>-1.700805e-07</td>\n",
       "      <td>-0.013568</td>\n",
       "      <td>-9.382355e-01</td>\n",
       "    </tr>\n",
       "    <tr>\n",
       "      <td>1</td>\n",
       "      <td>модель на данных плюс число 3 поэлементно</td>\n",
       "      <td>0.424946</td>\n",
       "      <td>0.007926</td>\n",
       "      <td>0.035708</td>\n",
       "      <td>-1.700805e-07</td>\n",
       "      <td>-0.013568</td>\n",
       "      <td>1.971566e+00</td>\n",
       "    </tr>\n",
       "    <tr>\n",
       "      <td>2</td>\n",
       "      <td>модель на данных умноженных на 5 поэлементно</td>\n",
       "      <td>0.424946</td>\n",
       "      <td>0.007926</td>\n",
       "      <td>0.035708</td>\n",
       "      <td>-1.700805e-07</td>\n",
       "      <td>-0.013568</td>\n",
       "      <td>-4.691178e+00</td>\n",
       "    </tr>\n",
       "    <tr>\n",
       "      <td>3</td>\n",
       "      <td>модель на зашифрованных данных</td>\n",
       "      <td>0.424946</td>\n",
       "      <td>-0.083997</td>\n",
       "      <td>0.070748</td>\n",
       "      <td>3.981049e-02</td>\n",
       "      <td>0.060693</td>\n",
       "      <td>-3.316761e+09</td>\n",
       "    </tr>\n",
       "  </tbody>\n",
       "</table>\n",
       "</div>"
      ],
      "text/plain": [
       "                                          _name       _r2       _w1       _w2  \\\n",
       "0                     модель на исходных данных  0.424946  0.007926  0.035708   \n",
       "1     модель на данных плюс число 3 поэлементно  0.424946  0.007926  0.035708   \n",
       "2  модель на данных умноженных на 5 поэлементно  0.424946  0.007926  0.035708   \n",
       "3                модель на зашифрованных данных  0.424946 -0.083997  0.070748   \n",
       "\n",
       "            _w3       _w4     w0 - free  \n",
       "0 -1.700805e-07 -0.013568 -9.382355e-01  \n",
       "1 -1.700805e-07 -0.013568  1.971566e+00  \n",
       "2 -1.700805e-07 -0.013568 -4.691178e+00  \n",
       "3  3.981049e-02  0.060693 -3.316761e+09  "
      ]
     },
     "metadata": {},
     "output_type": "display_data"
    }
   ],
   "source": [
    "ins_encoded,matrix,k1,k2 = encode_data(insurance,'payments')\n",
    "coeff_data = find_characteristics(ins_encoded, 'payment', 'модель на зашифрованных данных',coeff_data)"
   ]
  },
  {
   "cell_type": "markdown",
   "metadata": {},
   "source": [
    "<b>Вывод</b><br>\n",
    "Можем видеть, что у модели на зашифрованных данных значение r2 совпадает со всеми предыдущими значениями этой функции минимизации потерь. Все коэффициенты отличаются, но они и должны отличаться, как мы это выяснили ранее.\n",
    "<br>\n",
    "Алгоритм может быть применим для шифрования без потери качества модели линейной регрессии"
   ]
  }
 ],
 "metadata": {
  "ExecuteTimeLog": [
   {
    "duration": 1452,
    "start_time": "2021-06-18T07:13:52.673Z"
   },
   {
    "duration": 2639,
    "start_time": "2021-06-18T07:14:33.051Z"
   },
   {
    "duration": 44,
    "start_time": "2021-06-18T07:14:55.221Z"
   },
   {
    "duration": 11,
    "start_time": "2021-06-18T07:15:26.057Z"
   },
   {
    "duration": 5,
    "start_time": "2021-06-18T07:17:54.640Z"
   },
   {
    "duration": 5,
    "start_time": "2021-06-18T07:19:58.297Z"
   },
   {
    "duration": 4,
    "start_time": "2021-06-18T07:20:30.606Z"
   },
   {
    "duration": 12,
    "start_time": "2021-06-18T07:22:12.775Z"
   },
   {
    "duration": 160,
    "start_time": "2021-06-18T07:22:31.348Z"
   },
   {
    "duration": 494496,
    "start_time": "2021-06-18T07:22:59.512Z"
   },
   {
    "duration": 22,
    "start_time": "2021-06-18T07:33:53.194Z"
   },
   {
    "duration": 5,
    "start_time": "2021-06-18T07:43:27.837Z"
   },
   {
    "duration": 22,
    "start_time": "2021-06-18T07:43:44.149Z"
   },
   {
    "duration": 5,
    "start_time": "2021-06-18T07:44:41.042Z"
   },
   {
    "duration": 164,
    "start_time": "2021-06-18T07:46:12.352Z"
   },
   {
    "duration": 129,
    "start_time": "2021-06-18T07:48:20.584Z"
   },
   {
    "duration": 4,
    "start_time": "2021-06-18T08:15:26.906Z"
   },
   {
    "duration": 6,
    "start_time": "2021-06-18T08:16:01.667Z"
   },
   {
    "duration": 113,
    "start_time": "2021-06-18T08:17:10.466Z"
   },
   {
    "duration": 6,
    "start_time": "2021-06-18T08:17:23.907Z"
   },
   {
    "duration": 6,
    "start_time": "2021-06-18T08:18:39.429Z"
   },
   {
    "duration": 252,
    "start_time": "2021-06-18T08:19:02.276Z"
   }
  ],
  "kernelspec": {
   "display_name": "Python 3",
   "language": "python",
   "name": "python3"
  },
  "language_info": {
   "codemirror_mode": {
    "name": "ipython",
    "version": 3
   },
   "file_extension": ".py",
   "mimetype": "text/x-python",
   "name": "python",
   "nbconvert_exporter": "python",
   "pygments_lexer": "ipython3",
   "version": "3.9.5"
  },
  "toc": {
   "base_numbering": 1,
   "nav_menu": {},
   "number_sections": true,
   "sideBar": true,
   "skip_h1_title": true,
   "title_cell": "Содержание",
   "title_sidebar": "Contents",
   "toc_cell": true,
   "toc_position": {},
   "toc_section_display": true,
   "toc_window_display": false
  }
 },
 "nbformat": 4,
 "nbformat_minor": 2
}
