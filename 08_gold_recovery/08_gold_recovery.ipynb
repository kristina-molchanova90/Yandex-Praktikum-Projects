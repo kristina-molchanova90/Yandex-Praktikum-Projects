{
 "cells": [
  {
   "cell_type": "markdown",
   "metadata": {},
   "source": [
    "# Восстановление золота из руды"
   ]
  },
  {
   "cell_type": "markdown",
   "metadata": {},
   "source": [
    "Необходимо построить модель, предсказывающую коэффициент восстановления золота из руды. Анализ и построение модели производится на основании данных о содержании золота и других металлов в исходной руде и \"полуфабрикатах\" каждого этапа производства, а также данных с параметрами очистки на каждом этапе"
   ]
  },
  {
   "cell_type": "markdown",
   "metadata": {},
   "source": [
    "## Подготовка данных"
   ]
  },
  {
   "cell_type": "markdown",
   "metadata": {},
   "source": [
    "Сделаем все необходимые импорты"
   ]
  },
  {
   "cell_type": "code",
   "execution_count": 383,
   "metadata": {},
   "outputs": [],
   "source": [
    "import pandas as pd\n",
    "import numpy as np\n",
    "import matplotlib.pyplot as plt\n",
    "import seaborn as sns\n",
    "import warnings\n",
    "warnings.filterwarnings(\"ignore\")\n",
    "from sklearn.metrics import mean_absolute_error, make_scorer\n",
    "from sklearn.linear_model import LinearRegression, Ridge, Lasso\n",
    "from sklearn.ensemble import RandomForestRegressor\n",
    "from sklearn.tree import DecisionTreeRegressor\n",
    "from sklearn.model_selection import train_test_split, cross_val_predict\n",
    "from sklearn.preprocessing import StandardScaler\n",
    "RANDOM_STATE = 1234"
   ]
  },
  {
   "cell_type": "markdown",
   "metadata": {},
   "source": [
    "<h3>Открытие файлов и предварительный анализ данных</h3>"
   ]
  },
  {
   "cell_type": "code",
   "execution_count": 384,
   "metadata": {},
   "outputs": [
    {
     "name": "stdout",
     "output_type": "stream",
     "text": [
      "Данные о файле:  /datasets/gold_recovery_train.csv\n"
     ]
    },
    {
     "data": {
      "text/html": [
       "<div>\n",
       "<style scoped>\n",
       "    .dataframe tbody tr th:only-of-type {\n",
       "        vertical-align: middle;\n",
       "    }\n",
       "\n",
       "    .dataframe tbody tr th {\n",
       "        vertical-align: top;\n",
       "    }\n",
       "\n",
       "    .dataframe thead th {\n",
       "        text-align: right;\n",
       "    }\n",
       "</style>\n",
       "<table border=\"1\" class=\"dataframe\">\n",
       "  <thead>\n",
       "    <tr style=\"text-align: right;\">\n",
       "      <th></th>\n",
       "      <th>date</th>\n",
       "      <th>final.output.concentrate_ag</th>\n",
       "      <th>final.output.concentrate_pb</th>\n",
       "      <th>final.output.concentrate_sol</th>\n",
       "      <th>final.output.concentrate_au</th>\n",
       "      <th>final.output.recovery</th>\n",
       "      <th>final.output.tail_ag</th>\n",
       "      <th>final.output.tail_pb</th>\n",
       "      <th>final.output.tail_sol</th>\n",
       "      <th>final.output.tail_au</th>\n",
       "      <th>...</th>\n",
       "      <th>secondary_cleaner.state.floatbank4_a_air</th>\n",
       "      <th>secondary_cleaner.state.floatbank4_a_level</th>\n",
       "      <th>secondary_cleaner.state.floatbank4_b_air</th>\n",
       "      <th>secondary_cleaner.state.floatbank4_b_level</th>\n",
       "      <th>secondary_cleaner.state.floatbank5_a_air</th>\n",
       "      <th>secondary_cleaner.state.floatbank5_a_level</th>\n",
       "      <th>secondary_cleaner.state.floatbank5_b_air</th>\n",
       "      <th>secondary_cleaner.state.floatbank5_b_level</th>\n",
       "      <th>secondary_cleaner.state.floatbank6_a_air</th>\n",
       "      <th>secondary_cleaner.state.floatbank6_a_level</th>\n",
       "    </tr>\n",
       "  </thead>\n",
       "  <tbody>\n",
       "    <tr>\n",
       "      <td>0</td>\n",
       "      <td>2016-01-15 00:00:00</td>\n",
       "      <td>6.055403</td>\n",
       "      <td>9.889648</td>\n",
       "      <td>5.507324</td>\n",
       "      <td>42.192020</td>\n",
       "      <td>70.541216</td>\n",
       "      <td>10.411962</td>\n",
       "      <td>0.895447</td>\n",
       "      <td>16.904297</td>\n",
       "      <td>2.143149</td>\n",
       "      <td>...</td>\n",
       "      <td>14.016835</td>\n",
       "      <td>-502.488007</td>\n",
       "      <td>12.099931</td>\n",
       "      <td>-504.715942</td>\n",
       "      <td>9.925633</td>\n",
       "      <td>-498.310211</td>\n",
       "      <td>8.079666</td>\n",
       "      <td>-500.470978</td>\n",
       "      <td>14.151341</td>\n",
       "      <td>-605.841980</td>\n",
       "    </tr>\n",
       "    <tr>\n",
       "      <td>1</td>\n",
       "      <td>2016-01-15 01:00:00</td>\n",
       "      <td>6.029369</td>\n",
       "      <td>9.968944</td>\n",
       "      <td>5.257781</td>\n",
       "      <td>42.701629</td>\n",
       "      <td>69.266198</td>\n",
       "      <td>10.462676</td>\n",
       "      <td>0.927452</td>\n",
       "      <td>16.634514</td>\n",
       "      <td>2.224930</td>\n",
       "      <td>...</td>\n",
       "      <td>13.992281</td>\n",
       "      <td>-505.503262</td>\n",
       "      <td>11.950531</td>\n",
       "      <td>-501.331529</td>\n",
       "      <td>10.039245</td>\n",
       "      <td>-500.169983</td>\n",
       "      <td>7.984757</td>\n",
       "      <td>-500.582168</td>\n",
       "      <td>13.998353</td>\n",
       "      <td>-599.787184</td>\n",
       "    </tr>\n",
       "    <tr>\n",
       "      <td>2</td>\n",
       "      <td>2016-01-15 02:00:00</td>\n",
       "      <td>6.055926</td>\n",
       "      <td>10.213995</td>\n",
       "      <td>5.383759</td>\n",
       "      <td>42.657501</td>\n",
       "      <td>68.116445</td>\n",
       "      <td>10.507046</td>\n",
       "      <td>0.953716</td>\n",
       "      <td>16.208849</td>\n",
       "      <td>2.257889</td>\n",
       "      <td>...</td>\n",
       "      <td>14.015015</td>\n",
       "      <td>-502.520901</td>\n",
       "      <td>11.912783</td>\n",
       "      <td>-501.133383</td>\n",
       "      <td>10.070913</td>\n",
       "      <td>-500.129135</td>\n",
       "      <td>8.013877</td>\n",
       "      <td>-500.517572</td>\n",
       "      <td>14.028663</td>\n",
       "      <td>-601.427363</td>\n",
       "    </tr>\n",
       "    <tr>\n",
       "      <td>3</td>\n",
       "      <td>2016-01-15 03:00:00</td>\n",
       "      <td>6.047977</td>\n",
       "      <td>9.977019</td>\n",
       "      <td>4.858634</td>\n",
       "      <td>42.689819</td>\n",
       "      <td>68.347543</td>\n",
       "      <td>10.422762</td>\n",
       "      <td>0.883763</td>\n",
       "      <td>16.532835</td>\n",
       "      <td>2.146849</td>\n",
       "      <td>...</td>\n",
       "      <td>14.036510</td>\n",
       "      <td>-500.857308</td>\n",
       "      <td>11.999550</td>\n",
       "      <td>-501.193686</td>\n",
       "      <td>9.970366</td>\n",
       "      <td>-499.201640</td>\n",
       "      <td>7.977324</td>\n",
       "      <td>-500.255908</td>\n",
       "      <td>14.005551</td>\n",
       "      <td>-599.996129</td>\n",
       "    </tr>\n",
       "    <tr>\n",
       "      <td>4</td>\n",
       "      <td>2016-01-15 04:00:00</td>\n",
       "      <td>6.148599</td>\n",
       "      <td>10.142511</td>\n",
       "      <td>4.939416</td>\n",
       "      <td>42.774141</td>\n",
       "      <td>66.927016</td>\n",
       "      <td>10.360302</td>\n",
       "      <td>0.792826</td>\n",
       "      <td>16.525686</td>\n",
       "      <td>2.055292</td>\n",
       "      <td>...</td>\n",
       "      <td>14.027298</td>\n",
       "      <td>-499.838632</td>\n",
       "      <td>11.953070</td>\n",
       "      <td>-501.053894</td>\n",
       "      <td>9.925709</td>\n",
       "      <td>-501.686727</td>\n",
       "      <td>7.894242</td>\n",
       "      <td>-500.356035</td>\n",
       "      <td>13.996647</td>\n",
       "      <td>-601.496691</td>\n",
       "    </tr>\n",
       "  </tbody>\n",
       "</table>\n",
       "<p>5 rows × 87 columns</p>\n",
       "</div>"
      ],
      "text/plain": [
       "                  date  final.output.concentrate_ag  \\\n",
       "0  2016-01-15 00:00:00                     6.055403   \n",
       "1  2016-01-15 01:00:00                     6.029369   \n",
       "2  2016-01-15 02:00:00                     6.055926   \n",
       "3  2016-01-15 03:00:00                     6.047977   \n",
       "4  2016-01-15 04:00:00                     6.148599   \n",
       "\n",
       "   final.output.concentrate_pb  final.output.concentrate_sol  \\\n",
       "0                     9.889648                      5.507324   \n",
       "1                     9.968944                      5.257781   \n",
       "2                    10.213995                      5.383759   \n",
       "3                     9.977019                      4.858634   \n",
       "4                    10.142511                      4.939416   \n",
       "\n",
       "   final.output.concentrate_au  final.output.recovery  final.output.tail_ag  \\\n",
       "0                    42.192020              70.541216             10.411962   \n",
       "1                    42.701629              69.266198             10.462676   \n",
       "2                    42.657501              68.116445             10.507046   \n",
       "3                    42.689819              68.347543             10.422762   \n",
       "4                    42.774141              66.927016             10.360302   \n",
       "\n",
       "   final.output.tail_pb  final.output.tail_sol  final.output.tail_au  ...  \\\n",
       "0              0.895447              16.904297              2.143149  ...   \n",
       "1              0.927452              16.634514              2.224930  ...   \n",
       "2              0.953716              16.208849              2.257889  ...   \n",
       "3              0.883763              16.532835              2.146849  ...   \n",
       "4              0.792826              16.525686              2.055292  ...   \n",
       "\n",
       "   secondary_cleaner.state.floatbank4_a_air  \\\n",
       "0                                 14.016835   \n",
       "1                                 13.992281   \n",
       "2                                 14.015015   \n",
       "3                                 14.036510   \n",
       "4                                 14.027298   \n",
       "\n",
       "   secondary_cleaner.state.floatbank4_a_level  \\\n",
       "0                                 -502.488007   \n",
       "1                                 -505.503262   \n",
       "2                                 -502.520901   \n",
       "3                                 -500.857308   \n",
       "4                                 -499.838632   \n",
       "\n",
       "   secondary_cleaner.state.floatbank4_b_air  \\\n",
       "0                                 12.099931   \n",
       "1                                 11.950531   \n",
       "2                                 11.912783   \n",
       "3                                 11.999550   \n",
       "4                                 11.953070   \n",
       "\n",
       "   secondary_cleaner.state.floatbank4_b_level  \\\n",
       "0                                 -504.715942   \n",
       "1                                 -501.331529   \n",
       "2                                 -501.133383   \n",
       "3                                 -501.193686   \n",
       "4                                 -501.053894   \n",
       "\n",
       "   secondary_cleaner.state.floatbank5_a_air  \\\n",
       "0                                  9.925633   \n",
       "1                                 10.039245   \n",
       "2                                 10.070913   \n",
       "3                                  9.970366   \n",
       "4                                  9.925709   \n",
       "\n",
       "   secondary_cleaner.state.floatbank5_a_level  \\\n",
       "0                                 -498.310211   \n",
       "1                                 -500.169983   \n",
       "2                                 -500.129135   \n",
       "3                                 -499.201640   \n",
       "4                                 -501.686727   \n",
       "\n",
       "   secondary_cleaner.state.floatbank5_b_air  \\\n",
       "0                                  8.079666   \n",
       "1                                  7.984757   \n",
       "2                                  8.013877   \n",
       "3                                  7.977324   \n",
       "4                                  7.894242   \n",
       "\n",
       "   secondary_cleaner.state.floatbank5_b_level  \\\n",
       "0                                 -500.470978   \n",
       "1                                 -500.582168   \n",
       "2                                 -500.517572   \n",
       "3                                 -500.255908   \n",
       "4                                 -500.356035   \n",
       "\n",
       "   secondary_cleaner.state.floatbank6_a_air  \\\n",
       "0                                 14.151341   \n",
       "1                                 13.998353   \n",
       "2                                 14.028663   \n",
       "3                                 14.005551   \n",
       "4                                 13.996647   \n",
       "\n",
       "   secondary_cleaner.state.floatbank6_a_level  \n",
       "0                                 -605.841980  \n",
       "1                                 -599.787184  \n",
       "2                                 -601.427363  \n",
       "3                                 -599.996129  \n",
       "4                                 -601.496691  \n",
       "\n",
       "[5 rows x 87 columns]"
      ]
     },
     "metadata": {},
     "output_type": "display_data"
    },
    {
     "name": "stdout",
     "output_type": "stream",
     "text": [
      "Общая информация: \n",
      "<class 'pandas.core.frame.DataFrame'>\n",
      "RangeIndex: 16860 entries, 0 to 16859\n",
      "Data columns (total 87 columns):\n",
      "date                                                  16860 non-null object\n",
      "final.output.concentrate_ag                           16788 non-null float64\n",
      "final.output.concentrate_pb                           16788 non-null float64\n",
      "final.output.concentrate_sol                          16490 non-null float64\n",
      "final.output.concentrate_au                           16789 non-null float64\n",
      "final.output.recovery                                 15339 non-null float64\n",
      "final.output.tail_ag                                  16794 non-null float64\n",
      "final.output.tail_pb                                  16677 non-null float64\n",
      "final.output.tail_sol                                 16715 non-null float64\n",
      "final.output.tail_au                                  16794 non-null float64\n",
      "primary_cleaner.input.sulfate                         15553 non-null float64\n",
      "primary_cleaner.input.depressant                      15598 non-null float64\n",
      "primary_cleaner.input.feed_size                       16860 non-null float64\n",
      "primary_cleaner.input.xanthate                        15875 non-null float64\n",
      "primary_cleaner.output.concentrate_ag                 16778 non-null float64\n",
      "primary_cleaner.output.concentrate_pb                 16502 non-null float64\n",
      "primary_cleaner.output.concentrate_sol                16224 non-null float64\n",
      "primary_cleaner.output.concentrate_au                 16778 non-null float64\n",
      "primary_cleaner.output.tail_ag                        16777 non-null float64\n",
      "primary_cleaner.output.tail_pb                        16761 non-null float64\n",
      "primary_cleaner.output.tail_sol                       16579 non-null float64\n",
      "primary_cleaner.output.tail_au                        16777 non-null float64\n",
      "primary_cleaner.state.floatbank8_a_air                16820 non-null float64\n",
      "primary_cleaner.state.floatbank8_a_level              16827 non-null float64\n",
      "primary_cleaner.state.floatbank8_b_air                16820 non-null float64\n",
      "primary_cleaner.state.floatbank8_b_level              16833 non-null float64\n",
      "primary_cleaner.state.floatbank8_c_air                16822 non-null float64\n",
      "primary_cleaner.state.floatbank8_c_level              16833 non-null float64\n",
      "primary_cleaner.state.floatbank8_d_air                16821 non-null float64\n",
      "primary_cleaner.state.floatbank8_d_level              16833 non-null float64\n",
      "rougher.calculation.sulfate_to_au_concentrate         16833 non-null float64\n",
      "rougher.calculation.floatbank10_sulfate_to_au_feed    16833 non-null float64\n",
      "rougher.calculation.floatbank11_sulfate_to_au_feed    16833 non-null float64\n",
      "rougher.calculation.au_pb_ratio                       15618 non-null float64\n",
      "rougher.input.feed_ag                                 16778 non-null float64\n",
      "rougher.input.feed_pb                                 16632 non-null float64\n",
      "rougher.input.feed_rate                               16347 non-null float64\n",
      "rougher.input.feed_size                               16443 non-null float64\n",
      "rougher.input.feed_sol                                16568 non-null float64\n",
      "rougher.input.feed_au                                 16777 non-null float64\n",
      "rougher.input.floatbank10_sulfate                     15816 non-null float64\n",
      "rougher.input.floatbank10_xanthate                    16514 non-null float64\n",
      "rougher.input.floatbank11_sulfate                     16237 non-null float64\n",
      "rougher.input.floatbank11_xanthate                    14956 non-null float64\n",
      "rougher.output.concentrate_ag                         16778 non-null float64\n",
      "rougher.output.concentrate_pb                         16778 non-null float64\n",
      "rougher.output.concentrate_sol                        16698 non-null float64\n",
      "rougher.output.concentrate_au                         16778 non-null float64\n",
      "rougher.output.recovery                               14287 non-null float64\n",
      "rougher.output.tail_ag                                14610 non-null float64\n",
      "rougher.output.tail_pb                                16778 non-null float64\n",
      "rougher.output.tail_sol                               14611 non-null float64\n",
      "rougher.output.tail_au                                14611 non-null float64\n",
      "rougher.state.floatbank10_a_air                       16807 non-null float64\n",
      "rougher.state.floatbank10_a_level                     16807 non-null float64\n",
      "rougher.state.floatbank10_b_air                       16807 non-null float64\n",
      "rougher.state.floatbank10_b_level                     16807 non-null float64\n",
      "rougher.state.floatbank10_c_air                       16807 non-null float64\n",
      "rougher.state.floatbank10_c_level                     16814 non-null float64\n",
      "rougher.state.floatbank10_d_air                       16802 non-null float64\n",
      "rougher.state.floatbank10_d_level                     16809 non-null float64\n",
      "rougher.state.floatbank10_e_air                       16257 non-null float64\n",
      "rougher.state.floatbank10_e_level                     16809 non-null float64\n",
      "rougher.state.floatbank10_f_air                       16802 non-null float64\n",
      "rougher.state.floatbank10_f_level                     16802 non-null float64\n",
      "secondary_cleaner.output.tail_ag                      16776 non-null float64\n",
      "secondary_cleaner.output.tail_pb                      16764 non-null float64\n",
      "secondary_cleaner.output.tail_sol                     14874 non-null float64\n",
      "secondary_cleaner.output.tail_au                      16778 non-null float64\n",
      "secondary_cleaner.state.floatbank2_a_air              16497 non-null float64\n",
      "secondary_cleaner.state.floatbank2_a_level            16751 non-null float64\n",
      "secondary_cleaner.state.floatbank2_b_air              16705 non-null float64\n",
      "secondary_cleaner.state.floatbank2_b_level            16748 non-null float64\n",
      "secondary_cleaner.state.floatbank3_a_air              16763 non-null float64\n",
      "secondary_cleaner.state.floatbank3_a_level            16747 non-null float64\n",
      "secondary_cleaner.state.floatbank3_b_air              16752 non-null float64\n",
      "secondary_cleaner.state.floatbank3_b_level            16750 non-null float64\n",
      "secondary_cleaner.state.floatbank4_a_air              16731 non-null float64\n",
      "secondary_cleaner.state.floatbank4_a_level            16747 non-null float64\n",
      "secondary_cleaner.state.floatbank4_b_air              16768 non-null float64\n",
      "secondary_cleaner.state.floatbank4_b_level            16767 non-null float64\n",
      "secondary_cleaner.state.floatbank5_a_air              16775 non-null float64\n",
      "secondary_cleaner.state.floatbank5_a_level            16775 non-null float64\n",
      "secondary_cleaner.state.floatbank5_b_air              16775 non-null float64\n",
      "secondary_cleaner.state.floatbank5_b_level            16776 non-null float64\n",
      "secondary_cleaner.state.floatbank6_a_air              16757 non-null float64\n",
      "secondary_cleaner.state.floatbank6_a_level            16775 non-null float64\n",
      "dtypes: float64(86), object(1)\n",
      "memory usage: 11.2+ MB\n",
      "None\n"
     ]
    }
   ],
   "source": [
    "def open_file_print_info(filename):\n",
    "    print('Данные о файле: ',filename)\n",
    "    data = pd.read_csv(filename)\n",
    "    display(data.head(5))\n",
    "    print('Общая информация: ')\n",
    "    print(data.info())\n",
    "    return data\n",
    "\n",
    "gold_recovery_train = open_file_print_info('/datasets/gold_recovery_train.csv')    "
   ]
  },
  {
   "cell_type": "markdown",
   "metadata": {},
   "source": [
    "Можно видеть, что в данных достаточно большое количество пропусков, в разных столбцах количество пропусков очень сильно отличается. Однако, из условия задачи известен тот факт, что соседние по времени параметры часто похожи. Этот факт можно использовать для заполнения пропусков. Заполнение пропусков осуществим немного позднее.\n",
    "Осуществим расчет признака rougher.output.recovery по имеющейся формуле"
   ]
  },
  {
   "cell_type": "markdown",
   "metadata": {},
   "source": [
    "Проверим, насколько правильно расчитана метрика recovery. Посчитаем ее для данных без пропусков:"
   ]
  },
  {
   "cell_type": "code",
   "execution_count": 385,
   "metadata": {},
   "outputs": [
    {
     "name": "stdout",
     "output_type": "stream",
     "text": [
      "Размер таблицы без пропусков в столбцах 'rougher.output.concentrate_au','rougher.input.feed_au','rougher.output.tail_au','rougher.output.recovery': 14287\n"
     ]
    },
    {
     "data": {
      "text/html": [
       "<div>\n",
       "<style scoped>\n",
       "    .dataframe tbody tr th:only-of-type {\n",
       "        vertical-align: middle;\n",
       "    }\n",
       "\n",
       "    .dataframe tbody tr th {\n",
       "        vertical-align: top;\n",
       "    }\n",
       "\n",
       "    .dataframe thead th {\n",
       "        text-align: right;\n",
       "    }\n",
       "</style>\n",
       "<table border=\"1\" class=\"dataframe\">\n",
       "  <thead>\n",
       "    <tr style=\"text-align: right;\">\n",
       "      <th></th>\n",
       "      <th>rougher.output.concentrate_au</th>\n",
       "      <th>rougher.input.feed_au</th>\n",
       "      <th>rougher.output.tail_au</th>\n",
       "      <th>rougher.output.recovery</th>\n",
       "      <th>rougher.output.recovery_counted</th>\n",
       "    </tr>\n",
       "  </thead>\n",
       "  <tbody>\n",
       "    <tr>\n",
       "      <td>0</td>\n",
       "      <td>19.793808</td>\n",
       "      <td>6.486150</td>\n",
       "      <td>1.170244</td>\n",
       "      <td>87.107763</td>\n",
       "      <td>87.107763</td>\n",
       "    </tr>\n",
       "    <tr>\n",
       "      <td>1</td>\n",
       "      <td>20.050975</td>\n",
       "      <td>6.478583</td>\n",
       "      <td>1.184827</td>\n",
       "      <td>86.843261</td>\n",
       "      <td>86.843261</td>\n",
       "    </tr>\n",
       "    <tr>\n",
       "      <td>2</td>\n",
       "      <td>19.737170</td>\n",
       "      <td>6.362222</td>\n",
       "      <td>1.162562</td>\n",
       "      <td>86.842308</td>\n",
       "      <td>86.842308</td>\n",
       "    </tr>\n",
       "  </tbody>\n",
       "</table>\n",
       "</div>"
      ],
      "text/plain": [
       "   rougher.output.concentrate_au  rougher.input.feed_au  \\\n",
       "0                      19.793808               6.486150   \n",
       "1                      20.050975               6.478583   \n",
       "2                      19.737170               6.362222   \n",
       "\n",
       "   rougher.output.tail_au  rougher.output.recovery  \\\n",
       "0                1.170244                87.107763   \n",
       "1                1.184827                86.843261   \n",
       "2                1.162562                86.842308   \n",
       "\n",
       "   rougher.output.recovery_counted  \n",
       "0                        87.107763  \n",
       "1                        86.843261  \n",
       "2                        86.842308  "
      ]
     },
     "metadata": {},
     "output_type": "display_data"
    },
    {
     "name": "stdout",
     "output_type": "stream",
     "text": [
      "\n",
      "\u001b[1m MAE для исходных и расчетных данных:\u001b[0m  9.444891926100695e-15\n"
     ]
    }
   ],
   "source": [
    "def count_recovery(data): #функция для расчета reccovery \n",
    "    try:\n",
    "        recovery = ((data['rougher.output.concentrate_au'] * \n",
    "                (data['rougher.input.feed_au'] - data['rougher.output.tail_au'])) / (data['rougher.input.feed_au'] * (data['rougher.output.concentrate_au'] - data['rougher.output.tail_au']))) * 100\n",
    "    except:\n",
    "        recovery = np.nan\n",
    "    return recovery\n",
    "\n",
    "#создадим вспомогательный датафрейм, в котором расчитаем recovery по непропущенным в соответствующих столбцах данным\n",
    "gold_recovery_train_clean = gold_recovery_train[['rougher.output.concentrate_au','rougher.input.feed_au','rougher.output.tail_au','rougher.output.recovery']].dropna()\n",
    "gold_recovery_train_clean['rougher.output.recovery_counted'] = gold_recovery_train_clean.apply(lambda x:count_recovery(x),axis =1)\n",
    "print(\"Размер таблицы без пропусков в столбцах 'rougher.output.concentrate_au','rougher.input.feed_au','rougher.output.tail_au','rougher.output.recovery':\", gold_recovery_train_clean.shape[0])\n",
    "display(gold_recovery_train_clean.head(3))\n",
    "print()\n",
    "print('\\033[1m' , 'MAE для исходных и расчетных данных:' +'\\033[0m' +' ', mean_absolute_error(gold_recovery_train_clean['rougher.output.recovery'],gold_recovery_train_clean['rougher.output.recovery_counted']))"
   ]
  },
  {
   "cell_type": "markdown",
   "metadata": {},
   "source": [
    "Расчетные значения столбца rougher.output.recovery_counted крайне мало отличаются от табличных значений в столбце rougher.output.recovery (значение MAE очень близко к нулю). Это значит, что значения в столбце rougher.output.recovery можно использовать в построении модели."
   ]
  },
  {
   "cell_type": "markdown",
   "metadata": {},
   "source": [
    "Откроем файл с тестовыми данными:"
   ]
  },
  {
   "cell_type": "code",
   "execution_count": 386,
   "metadata": {},
   "outputs": [
    {
     "name": "stdout",
     "output_type": "stream",
     "text": [
      "Данные о файле:  /datasets/gold_recovery_test.csv\n"
     ]
    },
    {
     "data": {
      "text/html": [
       "<div>\n",
       "<style scoped>\n",
       "    .dataframe tbody tr th:only-of-type {\n",
       "        vertical-align: middle;\n",
       "    }\n",
       "\n",
       "    .dataframe tbody tr th {\n",
       "        vertical-align: top;\n",
       "    }\n",
       "\n",
       "    .dataframe thead th {\n",
       "        text-align: right;\n",
       "    }\n",
       "</style>\n",
       "<table border=\"1\" class=\"dataframe\">\n",
       "  <thead>\n",
       "    <tr style=\"text-align: right;\">\n",
       "      <th></th>\n",
       "      <th>date</th>\n",
       "      <th>primary_cleaner.input.sulfate</th>\n",
       "      <th>primary_cleaner.input.depressant</th>\n",
       "      <th>primary_cleaner.input.feed_size</th>\n",
       "      <th>primary_cleaner.input.xanthate</th>\n",
       "      <th>primary_cleaner.state.floatbank8_a_air</th>\n",
       "      <th>primary_cleaner.state.floatbank8_a_level</th>\n",
       "      <th>primary_cleaner.state.floatbank8_b_air</th>\n",
       "      <th>primary_cleaner.state.floatbank8_b_level</th>\n",
       "      <th>primary_cleaner.state.floatbank8_c_air</th>\n",
       "      <th>...</th>\n",
       "      <th>secondary_cleaner.state.floatbank4_a_air</th>\n",
       "      <th>secondary_cleaner.state.floatbank4_a_level</th>\n",
       "      <th>secondary_cleaner.state.floatbank4_b_air</th>\n",
       "      <th>secondary_cleaner.state.floatbank4_b_level</th>\n",
       "      <th>secondary_cleaner.state.floatbank5_a_air</th>\n",
       "      <th>secondary_cleaner.state.floatbank5_a_level</th>\n",
       "      <th>secondary_cleaner.state.floatbank5_b_air</th>\n",
       "      <th>secondary_cleaner.state.floatbank5_b_level</th>\n",
       "      <th>secondary_cleaner.state.floatbank6_a_air</th>\n",
       "      <th>secondary_cleaner.state.floatbank6_a_level</th>\n",
       "    </tr>\n",
       "  </thead>\n",
       "  <tbody>\n",
       "    <tr>\n",
       "      <td>0</td>\n",
       "      <td>2016-09-01 00:59:59</td>\n",
       "      <td>210.800909</td>\n",
       "      <td>14.993118</td>\n",
       "      <td>8.080000</td>\n",
       "      <td>1.005021</td>\n",
       "      <td>1398.981301</td>\n",
       "      <td>-500.225577</td>\n",
       "      <td>1399.144926</td>\n",
       "      <td>-499.919735</td>\n",
       "      <td>1400.102998</td>\n",
       "      <td>...</td>\n",
       "      <td>12.023554</td>\n",
       "      <td>-497.795834</td>\n",
       "      <td>8.016656</td>\n",
       "      <td>-501.289139</td>\n",
       "      <td>7.946562</td>\n",
       "      <td>-432.317850</td>\n",
       "      <td>4.872511</td>\n",
       "      <td>-500.037437</td>\n",
       "      <td>26.705889</td>\n",
       "      <td>-499.709414</td>\n",
       "    </tr>\n",
       "    <tr>\n",
       "      <td>1</td>\n",
       "      <td>2016-09-01 01:59:59</td>\n",
       "      <td>215.392455</td>\n",
       "      <td>14.987471</td>\n",
       "      <td>8.080000</td>\n",
       "      <td>0.990469</td>\n",
       "      <td>1398.777912</td>\n",
       "      <td>-500.057435</td>\n",
       "      <td>1398.055362</td>\n",
       "      <td>-499.778182</td>\n",
       "      <td>1396.151033</td>\n",
       "      <td>...</td>\n",
       "      <td>12.058140</td>\n",
       "      <td>-498.695773</td>\n",
       "      <td>8.130979</td>\n",
       "      <td>-499.634209</td>\n",
       "      <td>7.958270</td>\n",
       "      <td>-525.839648</td>\n",
       "      <td>4.878850</td>\n",
       "      <td>-500.162375</td>\n",
       "      <td>25.019940</td>\n",
       "      <td>-499.819438</td>\n",
       "    </tr>\n",
       "    <tr>\n",
       "      <td>2</td>\n",
       "      <td>2016-09-01 02:59:59</td>\n",
       "      <td>215.259946</td>\n",
       "      <td>12.884934</td>\n",
       "      <td>7.786667</td>\n",
       "      <td>0.996043</td>\n",
       "      <td>1398.493666</td>\n",
       "      <td>-500.868360</td>\n",
       "      <td>1398.860436</td>\n",
       "      <td>-499.764529</td>\n",
       "      <td>1398.075709</td>\n",
       "      <td>...</td>\n",
       "      <td>11.962366</td>\n",
       "      <td>-498.767484</td>\n",
       "      <td>8.096893</td>\n",
       "      <td>-500.827423</td>\n",
       "      <td>8.071056</td>\n",
       "      <td>-500.801673</td>\n",
       "      <td>4.905125</td>\n",
       "      <td>-499.828510</td>\n",
       "      <td>24.994862</td>\n",
       "      <td>-500.622559</td>\n",
       "    </tr>\n",
       "    <tr>\n",
       "      <td>3</td>\n",
       "      <td>2016-09-01 03:59:59</td>\n",
       "      <td>215.336236</td>\n",
       "      <td>12.006805</td>\n",
       "      <td>7.640000</td>\n",
       "      <td>0.863514</td>\n",
       "      <td>1399.618111</td>\n",
       "      <td>-498.863574</td>\n",
       "      <td>1397.440120</td>\n",
       "      <td>-499.211024</td>\n",
       "      <td>1400.129303</td>\n",
       "      <td>...</td>\n",
       "      <td>12.033091</td>\n",
       "      <td>-498.350935</td>\n",
       "      <td>8.074946</td>\n",
       "      <td>-499.474407</td>\n",
       "      <td>7.897085</td>\n",
       "      <td>-500.868509</td>\n",
       "      <td>4.931400</td>\n",
       "      <td>-499.963623</td>\n",
       "      <td>24.948919</td>\n",
       "      <td>-498.709987</td>\n",
       "    </tr>\n",
       "    <tr>\n",
       "      <td>4</td>\n",
       "      <td>2016-09-01 04:59:59</td>\n",
       "      <td>199.099327</td>\n",
       "      <td>10.682530</td>\n",
       "      <td>7.530000</td>\n",
       "      <td>0.805575</td>\n",
       "      <td>1401.268123</td>\n",
       "      <td>-500.808305</td>\n",
       "      <td>1398.128818</td>\n",
       "      <td>-499.504543</td>\n",
       "      <td>1402.172226</td>\n",
       "      <td>...</td>\n",
       "      <td>12.025367</td>\n",
       "      <td>-500.786497</td>\n",
       "      <td>8.054678</td>\n",
       "      <td>-500.397500</td>\n",
       "      <td>8.107890</td>\n",
       "      <td>-509.526725</td>\n",
       "      <td>4.957674</td>\n",
       "      <td>-500.360026</td>\n",
       "      <td>25.003331</td>\n",
       "      <td>-500.856333</td>\n",
       "    </tr>\n",
       "  </tbody>\n",
       "</table>\n",
       "<p>5 rows × 53 columns</p>\n",
       "</div>"
      ],
      "text/plain": [
       "                  date  primary_cleaner.input.sulfate  \\\n",
       "0  2016-09-01 00:59:59                     210.800909   \n",
       "1  2016-09-01 01:59:59                     215.392455   \n",
       "2  2016-09-01 02:59:59                     215.259946   \n",
       "3  2016-09-01 03:59:59                     215.336236   \n",
       "4  2016-09-01 04:59:59                     199.099327   \n",
       "\n",
       "   primary_cleaner.input.depressant  primary_cleaner.input.feed_size  \\\n",
       "0                         14.993118                         8.080000   \n",
       "1                         14.987471                         8.080000   \n",
       "2                         12.884934                         7.786667   \n",
       "3                         12.006805                         7.640000   \n",
       "4                         10.682530                         7.530000   \n",
       "\n",
       "   primary_cleaner.input.xanthate  primary_cleaner.state.floatbank8_a_air  \\\n",
       "0                        1.005021                             1398.981301   \n",
       "1                        0.990469                             1398.777912   \n",
       "2                        0.996043                             1398.493666   \n",
       "3                        0.863514                             1399.618111   \n",
       "4                        0.805575                             1401.268123   \n",
       "\n",
       "   primary_cleaner.state.floatbank8_a_level  \\\n",
       "0                               -500.225577   \n",
       "1                               -500.057435   \n",
       "2                               -500.868360   \n",
       "3                               -498.863574   \n",
       "4                               -500.808305   \n",
       "\n",
       "   primary_cleaner.state.floatbank8_b_air  \\\n",
       "0                             1399.144926   \n",
       "1                             1398.055362   \n",
       "2                             1398.860436   \n",
       "3                             1397.440120   \n",
       "4                             1398.128818   \n",
       "\n",
       "   primary_cleaner.state.floatbank8_b_level  \\\n",
       "0                               -499.919735   \n",
       "1                               -499.778182   \n",
       "2                               -499.764529   \n",
       "3                               -499.211024   \n",
       "4                               -499.504543   \n",
       "\n",
       "   primary_cleaner.state.floatbank8_c_air  ...  \\\n",
       "0                             1400.102998  ...   \n",
       "1                             1396.151033  ...   \n",
       "2                             1398.075709  ...   \n",
       "3                             1400.129303  ...   \n",
       "4                             1402.172226  ...   \n",
       "\n",
       "   secondary_cleaner.state.floatbank4_a_air  \\\n",
       "0                                 12.023554   \n",
       "1                                 12.058140   \n",
       "2                                 11.962366   \n",
       "3                                 12.033091   \n",
       "4                                 12.025367   \n",
       "\n",
       "   secondary_cleaner.state.floatbank4_a_level  \\\n",
       "0                                 -497.795834   \n",
       "1                                 -498.695773   \n",
       "2                                 -498.767484   \n",
       "3                                 -498.350935   \n",
       "4                                 -500.786497   \n",
       "\n",
       "   secondary_cleaner.state.floatbank4_b_air  \\\n",
       "0                                  8.016656   \n",
       "1                                  8.130979   \n",
       "2                                  8.096893   \n",
       "3                                  8.074946   \n",
       "4                                  8.054678   \n",
       "\n",
       "   secondary_cleaner.state.floatbank4_b_level  \\\n",
       "0                                 -501.289139   \n",
       "1                                 -499.634209   \n",
       "2                                 -500.827423   \n",
       "3                                 -499.474407   \n",
       "4                                 -500.397500   \n",
       "\n",
       "   secondary_cleaner.state.floatbank5_a_air  \\\n",
       "0                                  7.946562   \n",
       "1                                  7.958270   \n",
       "2                                  8.071056   \n",
       "3                                  7.897085   \n",
       "4                                  8.107890   \n",
       "\n",
       "   secondary_cleaner.state.floatbank5_a_level  \\\n",
       "0                                 -432.317850   \n",
       "1                                 -525.839648   \n",
       "2                                 -500.801673   \n",
       "3                                 -500.868509   \n",
       "4                                 -509.526725   \n",
       "\n",
       "   secondary_cleaner.state.floatbank5_b_air  \\\n",
       "0                                  4.872511   \n",
       "1                                  4.878850   \n",
       "2                                  4.905125   \n",
       "3                                  4.931400   \n",
       "4                                  4.957674   \n",
       "\n",
       "   secondary_cleaner.state.floatbank5_b_level  \\\n",
       "0                                 -500.037437   \n",
       "1                                 -500.162375   \n",
       "2                                 -499.828510   \n",
       "3                                 -499.963623   \n",
       "4                                 -500.360026   \n",
       "\n",
       "   secondary_cleaner.state.floatbank6_a_air  \\\n",
       "0                                 26.705889   \n",
       "1                                 25.019940   \n",
       "2                                 24.994862   \n",
       "3                                 24.948919   \n",
       "4                                 25.003331   \n",
       "\n",
       "   secondary_cleaner.state.floatbank6_a_level  \n",
       "0                                 -499.709414  \n",
       "1                                 -499.819438  \n",
       "2                                 -500.622559  \n",
       "3                                 -498.709987  \n",
       "4                                 -500.856333  \n",
       "\n",
       "[5 rows x 53 columns]"
      ]
     },
     "metadata": {},
     "output_type": "display_data"
    },
    {
     "name": "stdout",
     "output_type": "stream",
     "text": [
      "Общая информация: \n",
      "<class 'pandas.core.frame.DataFrame'>\n",
      "RangeIndex: 5856 entries, 0 to 5855\n",
      "Data columns (total 53 columns):\n",
      "date                                          5856 non-null object\n",
      "primary_cleaner.input.sulfate                 5554 non-null float64\n",
      "primary_cleaner.input.depressant              5572 non-null float64\n",
      "primary_cleaner.input.feed_size               5856 non-null float64\n",
      "primary_cleaner.input.xanthate                5690 non-null float64\n",
      "primary_cleaner.state.floatbank8_a_air        5840 non-null float64\n",
      "primary_cleaner.state.floatbank8_a_level      5840 non-null float64\n",
      "primary_cleaner.state.floatbank8_b_air        5840 non-null float64\n",
      "primary_cleaner.state.floatbank8_b_level      5840 non-null float64\n",
      "primary_cleaner.state.floatbank8_c_air        5840 non-null float64\n",
      "primary_cleaner.state.floatbank8_c_level      5840 non-null float64\n",
      "primary_cleaner.state.floatbank8_d_air        5840 non-null float64\n",
      "primary_cleaner.state.floatbank8_d_level      5840 non-null float64\n",
      "rougher.input.feed_ag                         5840 non-null float64\n",
      "rougher.input.feed_pb                         5840 non-null float64\n",
      "rougher.input.feed_rate                       5816 non-null float64\n",
      "rougher.input.feed_size                       5834 non-null float64\n",
      "rougher.input.feed_sol                        5789 non-null float64\n",
      "rougher.input.feed_au                         5840 non-null float64\n",
      "rougher.input.floatbank10_sulfate             5599 non-null float64\n",
      "rougher.input.floatbank10_xanthate            5733 non-null float64\n",
      "rougher.input.floatbank11_sulfate             5801 non-null float64\n",
      "rougher.input.floatbank11_xanthate            5503 non-null float64\n",
      "rougher.state.floatbank10_a_air               5839 non-null float64\n",
      "rougher.state.floatbank10_a_level             5840 non-null float64\n",
      "rougher.state.floatbank10_b_air               5839 non-null float64\n",
      "rougher.state.floatbank10_b_level             5840 non-null float64\n",
      "rougher.state.floatbank10_c_air               5839 non-null float64\n",
      "rougher.state.floatbank10_c_level             5840 non-null float64\n",
      "rougher.state.floatbank10_d_air               5839 non-null float64\n",
      "rougher.state.floatbank10_d_level             5840 non-null float64\n",
      "rougher.state.floatbank10_e_air               5839 non-null float64\n",
      "rougher.state.floatbank10_e_level             5840 non-null float64\n",
      "rougher.state.floatbank10_f_air               5839 non-null float64\n",
      "rougher.state.floatbank10_f_level             5840 non-null float64\n",
      "secondary_cleaner.state.floatbank2_a_air      5836 non-null float64\n",
      "secondary_cleaner.state.floatbank2_a_level    5840 non-null float64\n",
      "secondary_cleaner.state.floatbank2_b_air      5833 non-null float64\n",
      "secondary_cleaner.state.floatbank2_b_level    5840 non-null float64\n",
      "secondary_cleaner.state.floatbank3_a_air      5822 non-null float64\n",
      "secondary_cleaner.state.floatbank3_a_level    5840 non-null float64\n",
      "secondary_cleaner.state.floatbank3_b_air      5840 non-null float64\n",
      "secondary_cleaner.state.floatbank3_b_level    5840 non-null float64\n",
      "secondary_cleaner.state.floatbank4_a_air      5840 non-null float64\n",
      "secondary_cleaner.state.floatbank4_a_level    5840 non-null float64\n",
      "secondary_cleaner.state.floatbank4_b_air      5840 non-null float64\n",
      "secondary_cleaner.state.floatbank4_b_level    5840 non-null float64\n",
      "secondary_cleaner.state.floatbank5_a_air      5840 non-null float64\n",
      "secondary_cleaner.state.floatbank5_a_level    5840 non-null float64\n",
      "secondary_cleaner.state.floatbank5_b_air      5840 non-null float64\n",
      "secondary_cleaner.state.floatbank5_b_level    5840 non-null float64\n",
      "secondary_cleaner.state.floatbank6_a_air      5840 non-null float64\n",
      "secondary_cleaner.state.floatbank6_a_level    5840 non-null float64\n",
      "dtypes: float64(52), object(1)\n",
      "memory usage: 2.4+ MB\n",
      "None\n"
     ]
    }
   ],
   "source": [
    "gold_recovery_test = open_file_print_info('/datasets/gold_recovery_test.csv')"
   ]
  },
  {
   "cell_type": "markdown",
   "metadata": {},
   "source": [
    "В тестовых данных отсутсвует информация о выходных данных каждого этапа: коцентрат веществ (ag, au, sol, pb), а также отвальные хвосты. Имеется только информация о входных концентрациях, а также параметры каждого этапа. Модель должна расчитывать recovery, основывась на этих данных"
   ]
  },
  {
   "cell_type": "code",
   "execution_count": 387,
   "metadata": {},
   "outputs": [
    {
     "name": "stdout",
     "output_type": "stream",
     "text": [
      "Данные о файле:  /datasets/gold_recovery_full.csv\n"
     ]
    },
    {
     "data": {
      "text/html": [
       "<div>\n",
       "<style scoped>\n",
       "    .dataframe tbody tr th:only-of-type {\n",
       "        vertical-align: middle;\n",
       "    }\n",
       "\n",
       "    .dataframe tbody tr th {\n",
       "        vertical-align: top;\n",
       "    }\n",
       "\n",
       "    .dataframe thead th {\n",
       "        text-align: right;\n",
       "    }\n",
       "</style>\n",
       "<table border=\"1\" class=\"dataframe\">\n",
       "  <thead>\n",
       "    <tr style=\"text-align: right;\">\n",
       "      <th></th>\n",
       "      <th>date</th>\n",
       "      <th>final.output.concentrate_ag</th>\n",
       "      <th>final.output.concentrate_pb</th>\n",
       "      <th>final.output.concentrate_sol</th>\n",
       "      <th>final.output.concentrate_au</th>\n",
       "      <th>final.output.recovery</th>\n",
       "      <th>final.output.tail_ag</th>\n",
       "      <th>final.output.tail_pb</th>\n",
       "      <th>final.output.tail_sol</th>\n",
       "      <th>final.output.tail_au</th>\n",
       "      <th>...</th>\n",
       "      <th>secondary_cleaner.state.floatbank4_a_air</th>\n",
       "      <th>secondary_cleaner.state.floatbank4_a_level</th>\n",
       "      <th>secondary_cleaner.state.floatbank4_b_air</th>\n",
       "      <th>secondary_cleaner.state.floatbank4_b_level</th>\n",
       "      <th>secondary_cleaner.state.floatbank5_a_air</th>\n",
       "      <th>secondary_cleaner.state.floatbank5_a_level</th>\n",
       "      <th>secondary_cleaner.state.floatbank5_b_air</th>\n",
       "      <th>secondary_cleaner.state.floatbank5_b_level</th>\n",
       "      <th>secondary_cleaner.state.floatbank6_a_air</th>\n",
       "      <th>secondary_cleaner.state.floatbank6_a_level</th>\n",
       "    </tr>\n",
       "  </thead>\n",
       "  <tbody>\n",
       "    <tr>\n",
       "      <td>0</td>\n",
       "      <td>2016-01-15 00:00:00</td>\n",
       "      <td>6.055403</td>\n",
       "      <td>9.889648</td>\n",
       "      <td>5.507324</td>\n",
       "      <td>42.192020</td>\n",
       "      <td>70.541216</td>\n",
       "      <td>10.411962</td>\n",
       "      <td>0.895447</td>\n",
       "      <td>16.904297</td>\n",
       "      <td>2.143149</td>\n",
       "      <td>...</td>\n",
       "      <td>14.016835</td>\n",
       "      <td>-502.488007</td>\n",
       "      <td>12.099931</td>\n",
       "      <td>-504.715942</td>\n",
       "      <td>9.925633</td>\n",
       "      <td>-498.310211</td>\n",
       "      <td>8.079666</td>\n",
       "      <td>-500.470978</td>\n",
       "      <td>14.151341</td>\n",
       "      <td>-605.841980</td>\n",
       "    </tr>\n",
       "    <tr>\n",
       "      <td>1</td>\n",
       "      <td>2016-01-15 01:00:00</td>\n",
       "      <td>6.029369</td>\n",
       "      <td>9.968944</td>\n",
       "      <td>5.257781</td>\n",
       "      <td>42.701629</td>\n",
       "      <td>69.266198</td>\n",
       "      <td>10.462676</td>\n",
       "      <td>0.927452</td>\n",
       "      <td>16.634514</td>\n",
       "      <td>2.224930</td>\n",
       "      <td>...</td>\n",
       "      <td>13.992281</td>\n",
       "      <td>-505.503262</td>\n",
       "      <td>11.950531</td>\n",
       "      <td>-501.331529</td>\n",
       "      <td>10.039245</td>\n",
       "      <td>-500.169983</td>\n",
       "      <td>7.984757</td>\n",
       "      <td>-500.582168</td>\n",
       "      <td>13.998353</td>\n",
       "      <td>-599.787184</td>\n",
       "    </tr>\n",
       "    <tr>\n",
       "      <td>2</td>\n",
       "      <td>2016-01-15 02:00:00</td>\n",
       "      <td>6.055926</td>\n",
       "      <td>10.213995</td>\n",
       "      <td>5.383759</td>\n",
       "      <td>42.657501</td>\n",
       "      <td>68.116445</td>\n",
       "      <td>10.507046</td>\n",
       "      <td>0.953716</td>\n",
       "      <td>16.208849</td>\n",
       "      <td>2.257889</td>\n",
       "      <td>...</td>\n",
       "      <td>14.015015</td>\n",
       "      <td>-502.520901</td>\n",
       "      <td>11.912783</td>\n",
       "      <td>-501.133383</td>\n",
       "      <td>10.070913</td>\n",
       "      <td>-500.129135</td>\n",
       "      <td>8.013877</td>\n",
       "      <td>-500.517572</td>\n",
       "      <td>14.028663</td>\n",
       "      <td>-601.427363</td>\n",
       "    </tr>\n",
       "    <tr>\n",
       "      <td>3</td>\n",
       "      <td>2016-01-15 03:00:00</td>\n",
       "      <td>6.047977</td>\n",
       "      <td>9.977019</td>\n",
       "      <td>4.858634</td>\n",
       "      <td>42.689819</td>\n",
       "      <td>68.347543</td>\n",
       "      <td>10.422762</td>\n",
       "      <td>0.883763</td>\n",
       "      <td>16.532835</td>\n",
       "      <td>2.146849</td>\n",
       "      <td>...</td>\n",
       "      <td>14.036510</td>\n",
       "      <td>-500.857308</td>\n",
       "      <td>11.999550</td>\n",
       "      <td>-501.193686</td>\n",
       "      <td>9.970366</td>\n",
       "      <td>-499.201640</td>\n",
       "      <td>7.977324</td>\n",
       "      <td>-500.255908</td>\n",
       "      <td>14.005551</td>\n",
       "      <td>-599.996129</td>\n",
       "    </tr>\n",
       "    <tr>\n",
       "      <td>4</td>\n",
       "      <td>2016-01-15 04:00:00</td>\n",
       "      <td>6.148599</td>\n",
       "      <td>10.142511</td>\n",
       "      <td>4.939416</td>\n",
       "      <td>42.774141</td>\n",
       "      <td>66.927016</td>\n",
       "      <td>10.360302</td>\n",
       "      <td>0.792826</td>\n",
       "      <td>16.525686</td>\n",
       "      <td>2.055292</td>\n",
       "      <td>...</td>\n",
       "      <td>14.027298</td>\n",
       "      <td>-499.838632</td>\n",
       "      <td>11.953070</td>\n",
       "      <td>-501.053894</td>\n",
       "      <td>9.925709</td>\n",
       "      <td>-501.686727</td>\n",
       "      <td>7.894242</td>\n",
       "      <td>-500.356035</td>\n",
       "      <td>13.996647</td>\n",
       "      <td>-601.496691</td>\n",
       "    </tr>\n",
       "  </tbody>\n",
       "</table>\n",
       "<p>5 rows × 87 columns</p>\n",
       "</div>"
      ],
      "text/plain": [
       "                  date  final.output.concentrate_ag  \\\n",
       "0  2016-01-15 00:00:00                     6.055403   \n",
       "1  2016-01-15 01:00:00                     6.029369   \n",
       "2  2016-01-15 02:00:00                     6.055926   \n",
       "3  2016-01-15 03:00:00                     6.047977   \n",
       "4  2016-01-15 04:00:00                     6.148599   \n",
       "\n",
       "   final.output.concentrate_pb  final.output.concentrate_sol  \\\n",
       "0                     9.889648                      5.507324   \n",
       "1                     9.968944                      5.257781   \n",
       "2                    10.213995                      5.383759   \n",
       "3                     9.977019                      4.858634   \n",
       "4                    10.142511                      4.939416   \n",
       "\n",
       "   final.output.concentrate_au  final.output.recovery  final.output.tail_ag  \\\n",
       "0                    42.192020              70.541216             10.411962   \n",
       "1                    42.701629              69.266198             10.462676   \n",
       "2                    42.657501              68.116445             10.507046   \n",
       "3                    42.689819              68.347543             10.422762   \n",
       "4                    42.774141              66.927016             10.360302   \n",
       "\n",
       "   final.output.tail_pb  final.output.tail_sol  final.output.tail_au  ...  \\\n",
       "0              0.895447              16.904297              2.143149  ...   \n",
       "1              0.927452              16.634514              2.224930  ...   \n",
       "2              0.953716              16.208849              2.257889  ...   \n",
       "3              0.883763              16.532835              2.146849  ...   \n",
       "4              0.792826              16.525686              2.055292  ...   \n",
       "\n",
       "   secondary_cleaner.state.floatbank4_a_air  \\\n",
       "0                                 14.016835   \n",
       "1                                 13.992281   \n",
       "2                                 14.015015   \n",
       "3                                 14.036510   \n",
       "4                                 14.027298   \n",
       "\n",
       "   secondary_cleaner.state.floatbank4_a_level  \\\n",
       "0                                 -502.488007   \n",
       "1                                 -505.503262   \n",
       "2                                 -502.520901   \n",
       "3                                 -500.857308   \n",
       "4                                 -499.838632   \n",
       "\n",
       "   secondary_cleaner.state.floatbank4_b_air  \\\n",
       "0                                 12.099931   \n",
       "1                                 11.950531   \n",
       "2                                 11.912783   \n",
       "3                                 11.999550   \n",
       "4                                 11.953070   \n",
       "\n",
       "   secondary_cleaner.state.floatbank4_b_level  \\\n",
       "0                                 -504.715942   \n",
       "1                                 -501.331529   \n",
       "2                                 -501.133383   \n",
       "3                                 -501.193686   \n",
       "4                                 -501.053894   \n",
       "\n",
       "   secondary_cleaner.state.floatbank5_a_air  \\\n",
       "0                                  9.925633   \n",
       "1                                 10.039245   \n",
       "2                                 10.070913   \n",
       "3                                  9.970366   \n",
       "4                                  9.925709   \n",
       "\n",
       "   secondary_cleaner.state.floatbank5_a_level  \\\n",
       "0                                 -498.310211   \n",
       "1                                 -500.169983   \n",
       "2                                 -500.129135   \n",
       "3                                 -499.201640   \n",
       "4                                 -501.686727   \n",
       "\n",
       "   secondary_cleaner.state.floatbank5_b_air  \\\n",
       "0                                  8.079666   \n",
       "1                                  7.984757   \n",
       "2                                  8.013877   \n",
       "3                                  7.977324   \n",
       "4                                  7.894242   \n",
       "\n",
       "   secondary_cleaner.state.floatbank5_b_level  \\\n",
       "0                                 -500.470978   \n",
       "1                                 -500.582168   \n",
       "2                                 -500.517572   \n",
       "3                                 -500.255908   \n",
       "4                                 -500.356035   \n",
       "\n",
       "   secondary_cleaner.state.floatbank6_a_air  \\\n",
       "0                                 14.151341   \n",
       "1                                 13.998353   \n",
       "2                                 14.028663   \n",
       "3                                 14.005551   \n",
       "4                                 13.996647   \n",
       "\n",
       "   secondary_cleaner.state.floatbank6_a_level  \n",
       "0                                 -605.841980  \n",
       "1                                 -599.787184  \n",
       "2                                 -601.427363  \n",
       "3                                 -599.996129  \n",
       "4                                 -601.496691  \n",
       "\n",
       "[5 rows x 87 columns]"
      ]
     },
     "metadata": {},
     "output_type": "display_data"
    },
    {
     "name": "stdout",
     "output_type": "stream",
     "text": [
      "Общая информация: \n",
      "<class 'pandas.core.frame.DataFrame'>\n",
      "RangeIndex: 22716 entries, 0 to 22715\n",
      "Data columns (total 87 columns):\n",
      "date                                                  22716 non-null object\n",
      "final.output.concentrate_ag                           22627 non-null float64\n",
      "final.output.concentrate_pb                           22629 non-null float64\n",
      "final.output.concentrate_sol                          22331 non-null float64\n",
      "final.output.concentrate_au                           22630 non-null float64\n",
      "final.output.recovery                                 20753 non-null float64\n",
      "final.output.tail_ag                                  22633 non-null float64\n",
      "final.output.tail_pb                                  22516 non-null float64\n",
      "final.output.tail_sol                                 22445 non-null float64\n",
      "final.output.tail_au                                  22635 non-null float64\n",
      "primary_cleaner.input.sulfate                         21107 non-null float64\n",
      "primary_cleaner.input.depressant                      21170 non-null float64\n",
      "primary_cleaner.input.feed_size                       22716 non-null float64\n",
      "primary_cleaner.input.xanthate                        21565 non-null float64\n",
      "primary_cleaner.output.concentrate_ag                 22618 non-null float64\n",
      "primary_cleaner.output.concentrate_pb                 22268 non-null float64\n",
      "primary_cleaner.output.concentrate_sol                21918 non-null float64\n",
      "primary_cleaner.output.concentrate_au                 22618 non-null float64\n",
      "primary_cleaner.output.tail_ag                        22614 non-null float64\n",
      "primary_cleaner.output.tail_pb                        22594 non-null float64\n",
      "primary_cleaner.output.tail_sol                       22365 non-null float64\n",
      "primary_cleaner.output.tail_au                        22617 non-null float64\n",
      "primary_cleaner.state.floatbank8_a_air                22660 non-null float64\n",
      "primary_cleaner.state.floatbank8_a_level              22667 non-null float64\n",
      "primary_cleaner.state.floatbank8_b_air                22660 non-null float64\n",
      "primary_cleaner.state.floatbank8_b_level              22673 non-null float64\n",
      "primary_cleaner.state.floatbank8_c_air                22662 non-null float64\n",
      "primary_cleaner.state.floatbank8_c_level              22673 non-null float64\n",
      "primary_cleaner.state.floatbank8_d_air                22661 non-null float64\n",
      "primary_cleaner.state.floatbank8_d_level              22673 non-null float64\n",
      "rougher.calculation.sulfate_to_au_concentrate         22672 non-null float64\n",
      "rougher.calculation.floatbank10_sulfate_to_au_feed    22672 non-null float64\n",
      "rougher.calculation.floatbank11_sulfate_to_au_feed    22672 non-null float64\n",
      "rougher.calculation.au_pb_ratio                       21089 non-null float64\n",
      "rougher.input.feed_ag                                 22618 non-null float64\n",
      "rougher.input.feed_pb                                 22472 non-null float64\n",
      "rougher.input.feed_rate                               22163 non-null float64\n",
      "rougher.input.feed_size                               22277 non-null float64\n",
      "rougher.input.feed_sol                                22357 non-null float64\n",
      "rougher.input.feed_au                                 22617 non-null float64\n",
      "rougher.input.floatbank10_sulfate                     21415 non-null float64\n",
      "rougher.input.floatbank10_xanthate                    22247 non-null float64\n",
      "rougher.input.floatbank11_sulfate                     22038 non-null float64\n",
      "rougher.input.floatbank11_xanthate                    20459 non-null float64\n",
      "rougher.output.concentrate_ag                         22618 non-null float64\n",
      "rougher.output.concentrate_pb                         22618 non-null float64\n",
      "rougher.output.concentrate_sol                        22526 non-null float64\n",
      "rougher.output.concentrate_au                         22618 non-null float64\n",
      "rougher.output.recovery                               19597 non-null float64\n",
      "rougher.output.tail_ag                                19979 non-null float64\n",
      "rougher.output.tail_pb                                22618 non-null float64\n",
      "rougher.output.tail_sol                               19980 non-null float64\n",
      "rougher.output.tail_au                                19980 non-null float64\n",
      "rougher.state.floatbank10_a_air                       22646 non-null float64\n",
      "rougher.state.floatbank10_a_level                     22647 non-null float64\n",
      "rougher.state.floatbank10_b_air                       22646 non-null float64\n",
      "rougher.state.floatbank10_b_level                     22647 non-null float64\n",
      "rougher.state.floatbank10_c_air                       22646 non-null float64\n",
      "rougher.state.floatbank10_c_level                     22654 non-null float64\n",
      "rougher.state.floatbank10_d_air                       22641 non-null float64\n",
      "rougher.state.floatbank10_d_level                     22649 non-null float64\n",
      "rougher.state.floatbank10_e_air                       22096 non-null float64\n",
      "rougher.state.floatbank10_e_level                     22649 non-null float64\n",
      "rougher.state.floatbank10_f_air                       22641 non-null float64\n",
      "rougher.state.floatbank10_f_level                     22642 non-null float64\n",
      "secondary_cleaner.output.tail_ag                      22616 non-null float64\n",
      "secondary_cleaner.output.tail_pb                      22600 non-null float64\n",
      "secondary_cleaner.output.tail_sol                     20501 non-null float64\n",
      "secondary_cleaner.output.tail_au                      22618 non-null float64\n",
      "secondary_cleaner.state.floatbank2_a_air              22333 non-null float64\n",
      "secondary_cleaner.state.floatbank2_a_level            22591 non-null float64\n",
      "secondary_cleaner.state.floatbank2_b_air              22538 non-null float64\n",
      "secondary_cleaner.state.floatbank2_b_level            22588 non-null float64\n",
      "secondary_cleaner.state.floatbank3_a_air              22585 non-null float64\n",
      "secondary_cleaner.state.floatbank3_a_level            22587 non-null float64\n",
      "secondary_cleaner.state.floatbank3_b_air              22592 non-null float64\n",
      "secondary_cleaner.state.floatbank3_b_level            22590 non-null float64\n",
      "secondary_cleaner.state.floatbank4_a_air              22571 non-null float64\n",
      "secondary_cleaner.state.floatbank4_a_level            22587 non-null float64\n",
      "secondary_cleaner.state.floatbank4_b_air              22608 non-null float64\n",
      "secondary_cleaner.state.floatbank4_b_level            22607 non-null float64\n",
      "secondary_cleaner.state.floatbank5_a_air              22615 non-null float64\n",
      "secondary_cleaner.state.floatbank5_a_level            22615 non-null float64\n",
      "secondary_cleaner.state.floatbank5_b_air              22615 non-null float64\n",
      "secondary_cleaner.state.floatbank5_b_level            22616 non-null float64\n",
      "secondary_cleaner.state.floatbank6_a_air              22597 non-null float64\n",
      "secondary_cleaner.state.floatbank6_a_level            22615 non-null float64\n",
      "dtypes: float64(86), object(1)\n",
      "memory usage: 15.1+ MB\n",
      "None\n",
      "\n",
      "Количество пропущенных значений в стодлбце final.output.recovery в FULL датафрейме:  1963\n",
      "Количество пропущенных значений в стодлбце rouger.output.recovery в FULL датафрейме:  3119\n",
      "Количество пропущенных значений в стодлбце final.output.recovery в TRAIN датафрейме:  1521\n",
      "Количество пропущенных значений в стодлбце rouger.output.recovery в TRAIN датафрейме:  2573\n"
     ]
    }
   ],
   "source": [
    "gold_recovery_full = open_file_print_info('/datasets/gold_recovery_full.csv')\n",
    "print()\n",
    "print('Количество пропущенных значений в стодлбце final.output.recovery в FULL датафрейме: ', gold_recovery_full['final.output.recovery'].isnull().sum())\n",
    "print('Количество пропущенных значений в стодлбце rouger.output.recovery в FULL датафрейме: ', gold_recovery_full['rougher.output.recovery'].isna().sum())\n",
    "print('Количество пропущенных значений в стодлбце final.output.recovery в TRAIN датафрейме: ', gold_recovery_train['final.output.recovery'].isna().sum())\n",
    "print('Количество пропущенных значений в стодлбце rouger.output.recovery в TRAIN датафрейме: ', gold_recovery_train['rougher.output.recovery'].isna().sum())"
   ]
  },
  {
   "cell_type": "markdown",
   "metadata": {},
   "source": [
    "В общей таблице также пропущено достаточно большое количество значений, в том числе в столбцах recovery. Однако, можно видеть, что количество пропущенных значений в этих столбцах больше, чем количество пропущенных значений в аналогичных столбцах в TRAIN датафрейме. Это говорит о том, что, скорее всего, пропущены и те значения, которые должны послужить для проверки модели (значения из test). <br>\n",
    "Ввиду того, что расчетные значения recovery совпадают со значениями датафрейма, то можно применить формулу для заполнения пропущенных значений. <br>\n",
    "Пропуски в остальных столбцах можно заполнить на основании того факта, что соседние по времени парамеры часто похожи: пропуск можно заполнять как среднее значение парметра в предшествующей и последующей строке.<br>\n",
    "Проведем предобработку данных"
   ]
  },
  {
   "cell_type": "markdown",
   "metadata": {},
   "source": [
    "<h3>Предобработка данных</h3>"
   ]
  },
  {
   "cell_type": "markdown",
   "metadata": {},
   "source": [
    "\n",
    "Заполним пропущенные значения в датасетах _train и _test на основе данных из full. Напишем функцию для замены:"
   ]
  },
  {
   "cell_type": "code",
   "execution_count": 388,
   "metadata": {},
   "outputs": [],
   "source": [
    "def fill_nulls_from_full(data,data_full,index_column):   \n",
    "    data = data.set_index(index_column)\n",
    "    data_full = data_full.set_index(index_column)\n",
    "    total_sum = 0\n",
    "    for column in data:\n",
    "        null_count_before = data[column].isna().sum().sum()\n",
    "        data[column] = data[column].fillna(data_full[column])\n",
    "        null_count_after = data[column].isna().sum().sum()\n",
    "        diff = null_count_before - null_count_after\n",
    "        total_sum += diff\n",
    "    data = data.reset_index()\n",
    "    data_full = data_full.reset_index()\n",
    "    print('Всего заменено пропусков  на основе данных из _full датасета: ',total_sum)\n",
    "    return data"
   ]
  },
  {
   "cell_type": "markdown",
   "metadata": {},
   "source": [
    "Напишем функцию, которая будет заполнять пропущенное значение в столбце методом интерполяции"
   ]
  },
  {
   "cell_type": "code",
   "execution_count": 389,
   "metadata": {},
   "outputs": [],
   "source": [
    "def fill_nulls_by_columns(data): \n",
    "    column_list = []\n",
    "    for column in data:\n",
    "        if (column != 'final.output.recovery') and (column != 'rougher.output.recovery'):\n",
    "            column_list.append(column)\n",
    "    data = data.set_index(pd.DatetimeIndex(data['date']))\n",
    "    data[column_list] = data[column_list].interpolate(method = 'time')\n",
    "    #data = data.drop('date',axis = 1)\n",
    "   # data = data.reset_index()\n",
    "    return data    "
   ]
  },
  {
   "cell_type": "markdown",
   "metadata": {},
   "source": [
    "Напишем функцкцию, которая для каждой колонки считает минимальное и максимальное значение"
   ]
  },
  {
   "cell_type": "raw",
   "metadata": {},
   "source": [
    "def print_column_metrics(data):\n",
    "    important_column = ['rougher.output.concentrate_au','rougher.input.feed_au','rougher.output.tail_au','final.output.concentrate_au','final.output.concentrate_au','final.output.tail_au']\n",
    "    for column in data:\n",
    "        if column != 'date':\n",
    "            if column in important_column:\n",
    "                print('\\033[1m','Column = ',column,'min = ',data[column].min(), 'max = ',data[column].max(),'\\033[0m')\n",
    "            else:\n",
    "                print('Column = ',column,'min = ',data[column].min(), 'max = ',data[column].max(), 'mean = ',data[column].mean())\n"
   ]
  },
  {
   "cell_type": "markdown",
   "metadata": {},
   "source": [
    "Проверим количество строк в датафреймах full, train и test, а также количество пропусков в них:"
   ]
  },
  {
   "cell_type": "code",
   "execution_count": 390,
   "metadata": {},
   "outputs": [
    {
     "name": "stdout",
     "output_type": "stream",
     "text": [
      "Все ли строки из train и test есть в full: 0\n",
      "Количество пропусков в full в строках, соответсвтующих train 30320\n",
      "Количество пропусков в train 30320\n",
      "Количество пропусков в full в строках, соответсвтующих test 6267\n",
      "Количество пропусков в test 2360\n"
     ]
    }
   ],
   "source": [
    "print('Все ли строки из train и test есть в full:',gold_recovery_full.shape[0] - gold_recovery_train.shape[0] - gold_recovery_test.shape[0] )\n",
    "dates_train = gold_recovery_train['date']\n",
    "dates_test = gold_recovery_test['date']\n",
    "print('Количество пропусков в full в строках, соответсвтующих train',gold_recovery_full.query('date in @dates_train').isna().sum().sum())\n",
    "print('Количество пропусков в train',gold_recovery_train.isna().sum().sum())\n",
    "print('Количество пропусков в full в строках, соответсвтующих test',gold_recovery_full.query('date in @dates_test').isna().sum().sum())\n",
    "print('Количество пропусков в test',gold_recovery_test.isna().sum().sum())\n",
    "gold_recovery_full_test = gold_recovery_full.query('date in @dates_test')"
   ]
  },
  {
   "cell_type": "markdown",
   "metadata": {},
   "source": [
    "Можно видеть, что full датасет состоит из строк, соответствующих train и test. Количество пропусков в full в строках, соответствующих train, точно такое же, как и в строках train датасета. А в строках, соответствующих test датасету их почти в 3 раза больше, чем в самом test датасете (скорее всего, потому что в full датасете больше столбцов). Вероятнее всего, зменить пропуски на основе данных из full датасета не получится. Однако, попробуем применить функцию заполнения пропусков на основе full датасета."
   ]
  },
  {
   "cell_type": "markdown",
   "metadata": {},
   "source": [
    "<h4>Предобработка датафрейма gold_recovery_train</h4>"
   ]
  },
  {
   "cell_type": "code",
   "execution_count": 391,
   "metadata": {},
   "outputs": [
    {
     "name": "stdout",
     "output_type": "stream",
     "text": [
      "Всего заменено пропусков  на основе данных из _full датасета:  0\n",
      "Общая информация о датафрейме после замены пропусков\n",
      "<class 'pandas.core.frame.DataFrame'>\n",
      "DatetimeIndex: 16860 entries, 2016-01-15 00:00:00 to 2018-08-18 10:59:59\n",
      "Data columns (total 87 columns):\n",
      "date                                                  16860 non-null object\n",
      "final.output.concentrate_ag                           16860 non-null float64\n",
      "final.output.concentrate_pb                           16860 non-null float64\n",
      "final.output.concentrate_sol                          16860 non-null float64\n",
      "final.output.concentrate_au                           16860 non-null float64\n",
      "final.output.recovery                                 15513 non-null float64\n",
      "final.output.tail_ag                                  16860 non-null float64\n",
      "final.output.tail_pb                                  16860 non-null float64\n",
      "final.output.tail_sol                                 16860 non-null float64\n",
      "final.output.tail_au                                  16860 non-null float64\n",
      "primary_cleaner.input.sulfate                         16860 non-null float64\n",
      "primary_cleaner.input.depressant                      16860 non-null float64\n",
      "primary_cleaner.input.feed_size                       16860 non-null float64\n",
      "primary_cleaner.input.xanthate                        16860 non-null float64\n",
      "primary_cleaner.output.concentrate_ag                 16860 non-null float64\n",
      "primary_cleaner.output.concentrate_pb                 16860 non-null float64\n",
      "primary_cleaner.output.concentrate_sol                16860 non-null float64\n",
      "primary_cleaner.output.concentrate_au                 16860 non-null float64\n",
      "primary_cleaner.output.tail_ag                        16860 non-null float64\n",
      "primary_cleaner.output.tail_pb                        16860 non-null float64\n",
      "primary_cleaner.output.tail_sol                       16860 non-null float64\n",
      "primary_cleaner.output.tail_au                        16860 non-null float64\n",
      "primary_cleaner.state.floatbank8_a_air                16860 non-null float64\n",
      "primary_cleaner.state.floatbank8_a_level              16860 non-null float64\n",
      "primary_cleaner.state.floatbank8_b_air                16860 non-null float64\n",
      "primary_cleaner.state.floatbank8_b_level              16860 non-null float64\n",
      "primary_cleaner.state.floatbank8_c_air                16860 non-null float64\n",
      "primary_cleaner.state.floatbank8_c_level              16860 non-null float64\n",
      "primary_cleaner.state.floatbank8_d_air                16860 non-null float64\n",
      "primary_cleaner.state.floatbank8_d_level              16860 non-null float64\n",
      "rougher.calculation.sulfate_to_au_concentrate         16860 non-null float64\n",
      "rougher.calculation.floatbank10_sulfate_to_au_feed    16860 non-null float64\n",
      "rougher.calculation.floatbank11_sulfate_to_au_feed    16860 non-null float64\n",
      "rougher.calculation.au_pb_ratio                       16860 non-null float64\n",
      "rougher.input.feed_ag                                 16860 non-null float64\n",
      "rougher.input.feed_pb                                 16860 non-null float64\n",
      "rougher.input.feed_rate                               16860 non-null float64\n",
      "rougher.input.feed_size                               16860 non-null float64\n",
      "rougher.input.feed_sol                                16860 non-null float64\n",
      "rougher.input.feed_au                                 16860 non-null float64\n",
      "rougher.input.floatbank10_sulfate                     16860 non-null float64\n",
      "rougher.input.floatbank10_xanthate                    16860 non-null float64\n",
      "rougher.input.floatbank11_sulfate                     16860 non-null float64\n",
      "rougher.input.floatbank11_xanthate                    16860 non-null float64\n",
      "rougher.output.concentrate_ag                         16860 non-null float64\n",
      "rougher.output.concentrate_pb                         16860 non-null float64\n",
      "rougher.output.concentrate_sol                        16860 non-null float64\n",
      "rougher.output.concentrate_au                         16860 non-null float64\n",
      "rougher.output.recovery                               14547 non-null float64\n",
      "rougher.output.tail_ag                                16860 non-null float64\n",
      "rougher.output.tail_pb                                16860 non-null float64\n",
      "rougher.output.tail_sol                               16860 non-null float64\n",
      "rougher.output.tail_au                                16860 non-null float64\n",
      "rougher.state.floatbank10_a_air                       16860 non-null float64\n",
      "rougher.state.floatbank10_a_level                     16860 non-null float64\n",
      "rougher.state.floatbank10_b_air                       16860 non-null float64\n",
      "rougher.state.floatbank10_b_level                     16860 non-null float64\n",
      "rougher.state.floatbank10_c_air                       16860 non-null float64\n",
      "rougher.state.floatbank10_c_level                     16860 non-null float64\n",
      "rougher.state.floatbank10_d_air                       16860 non-null float64\n",
      "rougher.state.floatbank10_d_level                     16860 non-null float64\n",
      "rougher.state.floatbank10_e_air                       16860 non-null float64\n",
      "rougher.state.floatbank10_e_level                     16860 non-null float64\n",
      "rougher.state.floatbank10_f_air                       16860 non-null float64\n",
      "rougher.state.floatbank10_f_level                     16860 non-null float64\n",
      "secondary_cleaner.output.tail_ag                      16860 non-null float64\n",
      "secondary_cleaner.output.tail_pb                      16860 non-null float64\n",
      "secondary_cleaner.output.tail_sol                     16860 non-null float64\n",
      "secondary_cleaner.output.tail_au                      16860 non-null float64\n",
      "secondary_cleaner.state.floatbank2_a_air              16860 non-null float64\n",
      "secondary_cleaner.state.floatbank2_a_level            16860 non-null float64\n",
      "secondary_cleaner.state.floatbank2_b_air              16860 non-null float64\n",
      "secondary_cleaner.state.floatbank2_b_level            16860 non-null float64\n",
      "secondary_cleaner.state.floatbank3_a_air              16860 non-null float64\n",
      "secondary_cleaner.state.floatbank3_a_level            16860 non-null float64\n",
      "secondary_cleaner.state.floatbank3_b_air              16860 non-null float64\n",
      "secondary_cleaner.state.floatbank3_b_level            16860 non-null float64\n",
      "secondary_cleaner.state.floatbank4_a_air              16860 non-null float64\n",
      "secondary_cleaner.state.floatbank4_a_level            16860 non-null float64\n",
      "secondary_cleaner.state.floatbank4_b_air              16860 non-null float64\n",
      "secondary_cleaner.state.floatbank4_b_level            16860 non-null float64\n",
      "secondary_cleaner.state.floatbank5_a_air              16860 non-null float64\n",
      "secondary_cleaner.state.floatbank5_a_level            16860 non-null float64\n",
      "secondary_cleaner.state.floatbank5_b_air              16860 non-null float64\n",
      "secondary_cleaner.state.floatbank5_b_level            16860 non-null float64\n",
      "secondary_cleaner.state.floatbank6_a_air              16860 non-null float64\n",
      "secondary_cleaner.state.floatbank6_a_level            16860 non-null float64\n",
      "dtypes: float64(86), object(1)\n",
      "memory usage: 11.3+ MB\n"
     ]
    }
   ],
   "source": [
    "#проверим, можно ли заменить пропущенные значения значениями из gold_recovery_full\n",
    "gold_recovery_train = fill_nulls_from_full(gold_recovery_train,gold_recovery_full,'date')\n",
    "#чтобы точно быть уверенным, что подряд идут близкие по времени измерения, отсортируем датафрейм по дате-времени:\n",
    "gold_recovery_train = gold_recovery_train.sort_values(by='date')  \n",
    "#заполняем пропуски в целевых колонках\n",
    "gold_recovery_train['rougher.output.recovery'] = np.where(np.isnan(gold_recovery_train['rougher.output.recovery']) == True,gold_recovery_train.apply(lambda x:count_recovery(x),axis =1),gold_recovery_train['rougher.output.recovery'])\n",
    "gold_recovery_train['final.output.recovery'] = np.where(np.isnan(gold_recovery_train['final.output.recovery']) == True,gold_recovery_train.apply(lambda x:count_recovery(x),axis =1),gold_recovery_train['final.output.recovery'])\n",
    "#заполняем пропуски во всех колонках, кроме целевых\n",
    "gold_recovery_train = fill_nulls_by_columns(gold_recovery_train)\n",
    "print('Общая информация о датафрейме после замены пропусков')\n",
    "gold_recovery_train.info()"
   ]
  },
  {
   "cell_type": "markdown",
   "metadata": {},
   "source": [
    "Можно видеть, что в целевых признаках остались пропущенные значения, так как их корректировать мы никак не можем,  просто удалим строки с пропущенными значениями"
   ]
  },
  {
   "cell_type": "code",
   "execution_count": 392,
   "metadata": {},
   "outputs": [
    {
     "data": {
      "text/plain": [
       "(14547, 87)"
      ]
     },
     "execution_count": 392,
     "metadata": {},
     "output_type": "execute_result"
    }
   ],
   "source": [
    "#удалим пропущенные значения в тренировочной таблице и выведем общую информацию о таблице после преобразований\n",
    "gold_recovery_train = gold_recovery_train.dropna()\n",
    "gold_recovery_train.shape"
   ]
  },
  {
   "cell_type": "markdown",
   "metadata": {},
   "source": [
    "Убедимся, что в столбцах, содержащих информацию о концентрации веществ, нет отрицательных значений:\n"
   ]
  },
  {
   "cell_type": "code",
   "execution_count": 393,
   "metadata": {},
   "outputs": [
    {
     "name": "stdout",
     "output_type": "stream",
     "text": [
      "Минимальные значения для столбцов, содержащих сведения о концентрации металлов, для au\n"
     ]
    },
    {
     "data": {
      "text/plain": [
       "final.output.concentrate_au              0.000000\n",
       "final.output.tail_au                     0.000000\n",
       "primary_cleaner.output.concentrate_au    0.000000\n",
       "primary_cleaner.output.tail_au           0.000000\n",
       "rougher.output.concentrate_au            0.000000\n",
       "rougher.output.tail_au                   0.020676\n",
       "rougher.input.feed_au                    0.010000\n",
       "dtype: float64"
      ]
     },
     "metadata": {},
     "output_type": "display_data"
    },
    {
     "name": "stdout",
     "output_type": "stream",
     "text": [
      "\n",
      "Минимальные значения для столбцов, содержащих сведения о концентрации металлов, для ag\n"
     ]
    },
    {
     "data": {
      "text/plain": [
       "final.output.concentrate_ag              0.000000\n",
       "final.output.tail_ag                     0.000000\n",
       "primary_cleaner.output.concentrate_ag    0.000000\n",
       "primary_cleaner.output.tail_ag           0.000000\n",
       "rougher.output.concentrate_ag            0.000000\n",
       "rougher.output.tail_ag                   0.594562\n",
       "rougher.input.feed_ag                    0.010000\n",
       "dtype: float64"
      ]
     },
     "metadata": {},
     "output_type": "display_data"
    },
    {
     "name": "stdout",
     "output_type": "stream",
     "text": [
      "\n",
      "Минимальные значения для столбцов, содержащих сведения о концентрации металлов, для pb\n"
     ]
    },
    {
     "data": {
      "text/plain": [
       "final.output.concentrate_pb              0.000000\n",
       "final.output.tail_pb                     0.000000\n",
       "primary_cleaner.output.concentrate_pb    0.000000\n",
       "primary_cleaner.output.tail_pb           0.000000\n",
       "rougher.output.concentrate_pb            0.000000\n",
       "rougher.output.tail_pb                   0.007566\n",
       "rougher.input.feed_pb                    0.008001\n",
       "dtype: float64"
      ]
     },
     "metadata": {},
     "output_type": "display_data"
    },
    {
     "name": "stdout",
     "output_type": "stream",
     "text": [
      "\n",
      "Минимальные значения для столбцов, содержащих сведения о концентрации металлов, для sol\n"
     ]
    },
    {
     "data": {
      "text/plain": [
       "final.output.concentrate_sol               0.000000\n",
       "final.output.tail_sol                      0.000000\n",
       "primary_cleaner.output.concentrate_sol     0.000000\n",
       "primary_cleaner.output.tail_sol            0.000000\n",
       "rougher.output.concentrate_sol             0.000000\n",
       "rougher.output.tail_sol                   10.014648\n",
       "rougher.input.feed_sol                     0.000000\n",
       "dtype: float64"
      ]
     },
     "metadata": {},
     "output_type": "display_data"
    },
    {
     "name": "stdout",
     "output_type": "stream",
     "text": [
      "\n"
     ]
    }
   ],
   "source": [
    "def print_describe(data,metal):\n",
    "    columns = ['final.output.concentrate_'+metal,'final.output.tail_'+metal,'primary_cleaner.output.concentrate_'+metal,'primary_cleaner.output.tail_'+metal,'rougher.output.concentrate_'+metal,'rougher.output.tail_'+metal,'rougher.input.feed_'+metal]\n",
    "    print('Минимальные значения для столбцов, содержащих сведения о концентрации металлов, для '+metal)\n",
    "    display(data[columns].min())\n",
    "    print()\n",
    "\n",
    "metals = ['au','ag','pb','sol']\n",
    "for metal in metals:\n",
    "    print_describe(gold_recovery_train, metal) "
   ]
  },
  {
   "cell_type": "markdown",
   "metadata": {},
   "source": [
    "как можно видеть, отрицательных минимальных значений в этих столбцах нет"
   ]
  },
  {
   "cell_type": "markdown",
   "metadata": {},
   "source": [
    "<b>Вывод:</b><br>\n",
    "Осуществлена замена пропущенных значений: в _full датасете не оказалось строк, на основании которых можно было бы осуществить замену. Пропуски в столбцах (за исключением столбцов recovery) заполнены на основании на основании данных ближайших соседей (методом интерполяции). Все строки, где recovery пропущены, были удалены. <br>\n",
    "Проверены значения в столбцах .concentrate. на отсутствие отрицательных значений."
   ]
  },
  {
   "cell_type": "markdown",
   "metadata": {},
   "source": [
    "<h4>Преобработка датафрейма gold_recovery_test</h4>"
   ]
  },
  {
   "cell_type": "code",
   "execution_count": 394,
   "metadata": {},
   "outputs": [
    {
     "name": "stdout",
     "output_type": "stream",
     "text": [
      "Всего заменено пропусков  на основе данных из _full датасета:  0\n",
      "<class 'pandas.core.frame.DataFrame'>\n",
      "DatetimeIndex: 5856 entries, 2016-09-01 00:59:59 to 2017-12-31 23:59:59\n",
      "Data columns (total 53 columns):\n",
      "date                                          5856 non-null object\n",
      "primary_cleaner.input.sulfate                 5856 non-null float64\n",
      "primary_cleaner.input.depressant              5856 non-null float64\n",
      "primary_cleaner.input.feed_size               5856 non-null float64\n",
      "primary_cleaner.input.xanthate                5856 non-null float64\n",
      "primary_cleaner.state.floatbank8_a_air        5856 non-null float64\n",
      "primary_cleaner.state.floatbank8_a_level      5856 non-null float64\n",
      "primary_cleaner.state.floatbank8_b_air        5856 non-null float64\n",
      "primary_cleaner.state.floatbank8_b_level      5856 non-null float64\n",
      "primary_cleaner.state.floatbank8_c_air        5856 non-null float64\n",
      "primary_cleaner.state.floatbank8_c_level      5856 non-null float64\n",
      "primary_cleaner.state.floatbank8_d_air        5856 non-null float64\n",
      "primary_cleaner.state.floatbank8_d_level      5856 non-null float64\n",
      "rougher.input.feed_ag                         5856 non-null float64\n",
      "rougher.input.feed_pb                         5856 non-null float64\n",
      "rougher.input.feed_rate                       5856 non-null float64\n",
      "rougher.input.feed_size                       5856 non-null float64\n",
      "rougher.input.feed_sol                        5856 non-null float64\n",
      "rougher.input.feed_au                         5856 non-null float64\n",
      "rougher.input.floatbank10_sulfate             5856 non-null float64\n",
      "rougher.input.floatbank10_xanthate            5856 non-null float64\n",
      "rougher.input.floatbank11_sulfate             5856 non-null float64\n",
      "rougher.input.floatbank11_xanthate            5856 non-null float64\n",
      "rougher.state.floatbank10_a_air               5856 non-null float64\n",
      "rougher.state.floatbank10_a_level             5856 non-null float64\n",
      "rougher.state.floatbank10_b_air               5856 non-null float64\n",
      "rougher.state.floatbank10_b_level             5856 non-null float64\n",
      "rougher.state.floatbank10_c_air               5856 non-null float64\n",
      "rougher.state.floatbank10_c_level             5856 non-null float64\n",
      "rougher.state.floatbank10_d_air               5856 non-null float64\n",
      "rougher.state.floatbank10_d_level             5856 non-null float64\n",
      "rougher.state.floatbank10_e_air               5856 non-null float64\n",
      "rougher.state.floatbank10_e_level             5856 non-null float64\n",
      "rougher.state.floatbank10_f_air               5856 non-null float64\n",
      "rougher.state.floatbank10_f_level             5856 non-null float64\n",
      "secondary_cleaner.state.floatbank2_a_air      5856 non-null float64\n",
      "secondary_cleaner.state.floatbank2_a_level    5856 non-null float64\n",
      "secondary_cleaner.state.floatbank2_b_air      5856 non-null float64\n",
      "secondary_cleaner.state.floatbank2_b_level    5856 non-null float64\n",
      "secondary_cleaner.state.floatbank3_a_air      5856 non-null float64\n",
      "secondary_cleaner.state.floatbank3_a_level    5856 non-null float64\n",
      "secondary_cleaner.state.floatbank3_b_air      5856 non-null float64\n",
      "secondary_cleaner.state.floatbank3_b_level    5856 non-null float64\n",
      "secondary_cleaner.state.floatbank4_a_air      5856 non-null float64\n",
      "secondary_cleaner.state.floatbank4_a_level    5856 non-null float64\n",
      "secondary_cleaner.state.floatbank4_b_air      5856 non-null float64\n",
      "secondary_cleaner.state.floatbank4_b_level    5856 non-null float64\n",
      "secondary_cleaner.state.floatbank5_a_air      5856 non-null float64\n",
      "secondary_cleaner.state.floatbank5_a_level    5856 non-null float64\n",
      "secondary_cleaner.state.floatbank5_b_air      5856 non-null float64\n",
      "secondary_cleaner.state.floatbank5_b_level    5856 non-null float64\n",
      "secondary_cleaner.state.floatbank6_a_air      5856 non-null float64\n",
      "secondary_cleaner.state.floatbank6_a_level    5856 non-null float64\n",
      "dtypes: float64(52), object(1)\n",
      "memory usage: 2.4+ MB\n",
      "None\n"
     ]
    }
   ],
   "source": [
    "gold_recovery_test = fill_nulls_from_full(gold_recovery_test,gold_recovery_full,'date')\n",
    "#чтобы точно быть уверенным, что подряд идут близкие по времени измерения, отсортируем датафрейм по дате-времени:\n",
    "gold_recovery_test = gold_recovery_test.sort_values(by='date')                \n",
    "#заполняем пропуски во всех колонках, кроме целевых\n",
    "gold_recovery_test = fill_nulls_by_columns(gold_recovery_test)\n",
    "print(gold_recovery_test.info())"
   ]
  },
  {
   "cell_type": "markdown",
   "metadata": {},
   "source": [
    "<b>Вывод</b><br>\n",
    "Все пропуски заполнены на основании данных из _full датасета (как оказалось, пропущенных значений, которые можно было бы заполнить на основании full датасета, нет) и значений ближайших соседей (методом интерполяции)."
   ]
  },
  {
   "cell_type": "markdown",
   "metadata": {},
   "source": [
    "<h4>Подготовка датафрейма gold_recovery_full_test на основе gold_recovery_full, содержащего только строки из gold_recovery_test</h4>"
   ]
  },
  {
   "cell_type": "code",
   "execution_count": 395,
   "metadata": {},
   "outputs": [
    {
     "name": "stdout",
     "output_type": "stream",
     "text": [
      "<class 'pandas.core.frame.DataFrame'>\n",
      "Int64Index: 5856 entries, 5521 to 17208\n",
      "Data columns (total 87 columns):\n",
      "date                                                  5856 non-null object\n",
      "final.output.concentrate_ag                           5839 non-null float64\n",
      "final.output.concentrate_pb                           5841 non-null float64\n",
      "final.output.concentrate_sol                          5841 non-null float64\n",
      "final.output.concentrate_au                           5841 non-null float64\n",
      "final.output.recovery                                 5414 non-null float64\n",
      "final.output.tail_ag                                  5839 non-null float64\n",
      "final.output.tail_pb                                  5839 non-null float64\n",
      "final.output.tail_sol                                 5730 non-null float64\n",
      "final.output.tail_au                                  5841 non-null float64\n",
      "primary_cleaner.input.sulfate                         5554 non-null float64\n",
      "primary_cleaner.input.depressant                      5572 non-null float64\n",
      "primary_cleaner.input.feed_size                       5856 non-null float64\n",
      "primary_cleaner.input.xanthate                        5690 non-null float64\n",
      "primary_cleaner.output.concentrate_ag                 5840 non-null float64\n",
      "primary_cleaner.output.concentrate_pb                 5766 non-null float64\n",
      "primary_cleaner.output.concentrate_sol                5694 non-null float64\n",
      "primary_cleaner.output.concentrate_au                 5840 non-null float64\n",
      "primary_cleaner.output.tail_ag                        5837 non-null float64\n",
      "primary_cleaner.output.tail_pb                        5833 non-null float64\n",
      "primary_cleaner.output.tail_sol                       5786 non-null float64\n",
      "primary_cleaner.output.tail_au                        5840 non-null float64\n",
      "primary_cleaner.state.floatbank8_a_air                5840 non-null float64\n",
      "primary_cleaner.state.floatbank8_a_level              5840 non-null float64\n",
      "primary_cleaner.state.floatbank8_b_air                5840 non-null float64\n",
      "primary_cleaner.state.floatbank8_b_level              5840 non-null float64\n",
      "primary_cleaner.state.floatbank8_c_air                5840 non-null float64\n",
      "primary_cleaner.state.floatbank8_c_level              5840 non-null float64\n",
      "primary_cleaner.state.floatbank8_d_air                5840 non-null float64\n",
      "primary_cleaner.state.floatbank8_d_level              5840 non-null float64\n",
      "rougher.calculation.sulfate_to_au_concentrate         5839 non-null float64\n",
      "rougher.calculation.floatbank10_sulfate_to_au_feed    5839 non-null float64\n",
      "rougher.calculation.floatbank11_sulfate_to_au_feed    5839 non-null float64\n",
      "rougher.calculation.au_pb_ratio                       5471 non-null float64\n",
      "rougher.input.feed_ag                                 5840 non-null float64\n",
      "rougher.input.feed_pb                                 5840 non-null float64\n",
      "rougher.input.feed_rate                               5816 non-null float64\n",
      "rougher.input.feed_size                               5834 non-null float64\n",
      "rougher.input.feed_sol                                5789 non-null float64\n",
      "rougher.input.feed_au                                 5840 non-null float64\n",
      "rougher.input.floatbank10_sulfate                     5599 non-null float64\n",
      "rougher.input.floatbank10_xanthate                    5733 non-null float64\n",
      "rougher.input.floatbank11_sulfate                     5801 non-null float64\n",
      "rougher.input.floatbank11_xanthate                    5503 non-null float64\n",
      "rougher.output.concentrate_ag                         5840 non-null float64\n",
      "rougher.output.concentrate_pb                         5840 non-null float64\n",
      "rougher.output.concentrate_sol                        5828 non-null float64\n",
      "rougher.output.concentrate_au                         5840 non-null float64\n",
      "rougher.output.recovery                               5310 non-null float64\n",
      "rougher.output.tail_ag                                5369 non-null float64\n",
      "rougher.output.tail_pb                                5840 non-null float64\n",
      "rougher.output.tail_sol                               5369 non-null float64\n",
      "rougher.output.tail_au                                5369 non-null float64\n",
      "rougher.state.floatbank10_a_air                       5839 non-null float64\n",
      "rougher.state.floatbank10_a_level                     5840 non-null float64\n",
      "rougher.state.floatbank10_b_air                       5839 non-null float64\n",
      "rougher.state.floatbank10_b_level                     5840 non-null float64\n",
      "rougher.state.floatbank10_c_air                       5839 non-null float64\n",
      "rougher.state.floatbank10_c_level                     5840 non-null float64\n",
      "rougher.state.floatbank10_d_air                       5839 non-null float64\n",
      "rougher.state.floatbank10_d_level                     5840 non-null float64\n",
      "rougher.state.floatbank10_e_air                       5839 non-null float64\n",
      "rougher.state.floatbank10_e_level                     5840 non-null float64\n",
      "rougher.state.floatbank10_f_air                       5839 non-null float64\n",
      "rougher.state.floatbank10_f_level                     5840 non-null float64\n",
      "secondary_cleaner.output.tail_ag                      5840 non-null float64\n",
      "secondary_cleaner.output.tail_pb                      5836 non-null float64\n",
      "secondary_cleaner.output.tail_sol                     5627 non-null float64\n",
      "secondary_cleaner.output.tail_au                      5840 non-null float64\n",
      "secondary_cleaner.state.floatbank2_a_air              5836 non-null float64\n",
      "secondary_cleaner.state.floatbank2_a_level            5840 non-null float64\n",
      "secondary_cleaner.state.floatbank2_b_air              5833 non-null float64\n",
      "secondary_cleaner.state.floatbank2_b_level            5840 non-null float64\n",
      "secondary_cleaner.state.floatbank3_a_air              5822 non-null float64\n",
      "secondary_cleaner.state.floatbank3_a_level            5840 non-null float64\n",
      "secondary_cleaner.state.floatbank3_b_air              5840 non-null float64\n",
      "secondary_cleaner.state.floatbank3_b_level            5840 non-null float64\n",
      "secondary_cleaner.state.floatbank4_a_air              5840 non-null float64\n",
      "secondary_cleaner.state.floatbank4_a_level            5840 non-null float64\n",
      "secondary_cleaner.state.floatbank4_b_air              5840 non-null float64\n",
      "secondary_cleaner.state.floatbank4_b_level            5840 non-null float64\n",
      "secondary_cleaner.state.floatbank5_a_air              5840 non-null float64\n",
      "secondary_cleaner.state.floatbank5_a_level            5840 non-null float64\n",
      "secondary_cleaner.state.floatbank5_b_air              5840 non-null float64\n",
      "secondary_cleaner.state.floatbank5_b_level            5840 non-null float64\n",
      "secondary_cleaner.state.floatbank6_a_air              5840 non-null float64\n",
      "secondary_cleaner.state.floatbank6_a_level            5840 non-null float64\n",
      "dtypes: float64(86), object(1)\n",
      "memory usage: 3.9+ MB\n",
      "None\n"
     ]
    }
   ],
   "source": [
    "dates = gold_recovery_test['date']\n",
    "gold_recovery_full = gold_recovery_full.sort_values(by='date')                \n",
    "#заполняем пропуски во всех колонках, кроме целевых\n",
    "gold_recovery_full_test = gold_recovery_full.query('date in @dates')\n",
    "print(gold_recovery_full_test.info())"
   ]
  },
  {
   "cell_type": "markdown",
   "metadata": {},
   "source": [
    "В строках, соответствующих тестовой выборке, также есть пропущенные значния в целевых метриках. Проверим их. "
   ]
  },
  {
   "cell_type": "markdown",
   "metadata": {},
   "source": [
    "Как можно видеть, в таблице исходных данных также есть отсутствующие данные в целевых метриках там, где <b>rougher.input.feed_au =0</b>. При тестировании модели сложно будет сравнить полученный результат с NAN, так что удлим эти строки, а заодно и соответсвтующие строки из тестового датафрейма"
   ]
  },
  {
   "cell_type": "code",
   "execution_count": 396,
   "metadata": {},
   "outputs": [
    {
     "name": "stdout",
     "output_type": "stream",
     "text": [
      "количество строк с нулевыми входными данными:  369\n",
      "Размер gold_recovery_full_test =  5077\n",
      "Размер gold_recovery_test =  5077\n"
     ]
    }
   ],
   "source": [
    "#убедмся, что пропущенные значения есть только там, где rougher.input.feed_au = 0\n",
    "print('количество строк с нулевыми входными данными: ',len(gold_recovery_full_test[gold_recovery_full_test[\"rougher.input.feed_au\"] == 0]))\n",
    "#количество строк соответсвует количеству пропущенных значений\n",
    "gold_recovery_full_test = gold_recovery_full_test.dropna()\n",
    "dates_to_check = gold_recovery_full_test['date']\n",
    "gold_recovery_test = gold_recovery_test.query('date in @dates_to_check')\n",
    "print('Размер gold_recovery_full_test = ',gold_recovery_full_test.shape[0])\n",
    "print('Размер gold_recovery_test = ',gold_recovery_test.shape[0])"
   ]
  },
  {
   "cell_type": "markdown",
   "metadata": {},
   "source": [
    "Убедимся, что в столбцах, содержащих информацию о концентрации веществ, нет отрицательных значений:"
   ]
  },
  {
   "cell_type": "code",
   "execution_count": 397,
   "metadata": {},
   "outputs": [
    {
     "name": "stdout",
     "output_type": "stream",
     "text": [
      "Минимальные значения для столбцов, содержащих сведения о концентрации металлов, для au\n"
     ]
    },
    {
     "data": {
      "text/plain": [
       "final.output.concentrate_au              0.000000\n",
       "final.output.tail_au                     0.000000\n",
       "primary_cleaner.output.concentrate_au    0.000000\n",
       "primary_cleaner.output.tail_au           0.000000\n",
       "rougher.output.concentrate_au            0.000000\n",
       "rougher.output.tail_au                   0.020676\n",
       "rougher.input.feed_au                    0.000000\n",
       "dtype: float64"
      ]
     },
     "metadata": {},
     "output_type": "display_data"
    },
    {
     "name": "stdout",
     "output_type": "stream",
     "text": [
      "\n",
      "Минимальные значения для столбцов, содержащих сведения о концентрации металлов, для ag\n"
     ]
    },
    {
     "data": {
      "text/plain": [
       "final.output.concentrate_ag              0.000000\n",
       "final.output.tail_ag                     0.000000\n",
       "primary_cleaner.output.concentrate_ag    0.000000\n",
       "primary_cleaner.output.tail_ag           0.000000\n",
       "rougher.output.concentrate_ag            0.000000\n",
       "rougher.output.tail_ag                   0.594562\n",
       "rougher.input.feed_ag                    0.000000\n",
       "dtype: float64"
      ]
     },
     "metadata": {},
     "output_type": "display_data"
    },
    {
     "name": "stdout",
     "output_type": "stream",
     "text": [
      "\n",
      "Минимальные значения для столбцов, содержащих сведения о концентрации металлов, для pb\n"
     ]
    },
    {
     "data": {
      "text/plain": [
       "final.output.concentrate_pb              0.0\n",
       "final.output.tail_pb                     0.0\n",
       "primary_cleaner.output.concentrate_pb    0.0\n",
       "primary_cleaner.output.tail_pb           0.0\n",
       "rougher.output.concentrate_pb            0.0\n",
       "rougher.output.tail_pb                   0.0\n",
       "rougher.input.feed_pb                    0.0\n",
       "dtype: float64"
      ]
     },
     "metadata": {},
     "output_type": "display_data"
    },
    {
     "name": "stdout",
     "output_type": "stream",
     "text": [
      "\n",
      "Минимальные значения для столбцов, содержащих сведения о концентрации металлов, для sol\n"
     ]
    },
    {
     "data": {
      "text/plain": [
       "final.output.concentrate_sol               0.000000\n",
       "final.output.tail_sol                      0.000000\n",
       "primary_cleaner.output.concentrate_sol     0.000000\n",
       "primary_cleaner.output.tail_sol            0.000000\n",
       "rougher.output.concentrate_sol             0.000000\n",
       "rougher.output.tail_sol                   10.014648\n",
       "rougher.input.feed_sol                     0.000000\n",
       "dtype: float64"
      ]
     },
     "metadata": {},
     "output_type": "display_data"
    },
    {
     "name": "stdout",
     "output_type": "stream",
     "text": [
      "\n"
     ]
    }
   ],
   "source": [
    "def print_describe(data,metal):\n",
    "    columns = ['final.output.concentrate_'+metal,'final.output.tail_'+metal,'primary_cleaner.output.concentrate_'+metal,'primary_cleaner.output.tail_'+metal,'rougher.output.concentrate_'+metal,'rougher.output.tail_'+metal,'rougher.input.feed_'+metal]\n",
    "    print('Минимальные значения для столбцов, содержащих сведения о концентрации металлов, для '+metal)\n",
    "    display(data[columns].min())\n",
    "    print()\n",
    "\n",
    "metals = ['au','ag','pb','sol']\n",
    "for metal in metals:\n",
    "    print_describe(gold_recovery_full, metal) "
   ]
  },
  {
   "cell_type": "markdown",
   "metadata": {},
   "source": [
    "<b>Вывод:</b>\n",
    "Подготовлен датасет gold_recovery_full_test, в котором содержатся целевые признаки для тестового датасета. Из него удалены проущенные значения, также соответствующие строки удалены и из тестового датасета.<br>\n",
    "Данные готовы к анализу"
   ]
  },
  {
   "cell_type": "markdown",
   "metadata": {},
   "source": [
    "## Анализ данных"
   ]
  },
  {
   "cell_type": "markdown",
   "metadata": {},
   "source": [
    "<h3>Анализ изменения концентрации металлов на каждом этапе</h3>"
   ]
  },
  {
   "cell_type": "code",
   "execution_count": 398,
   "metadata": {},
   "outputs": [],
   "source": [
    "def print_step_diagr(data,metal): #функция для вывода ступенчатой диаграммы изменения концентрации металлов на разных этапах очстки\n",
    "    columns = ['rougher.input','rougher.output','primary_cleaner.output','final.output']\n",
    "    data_means_conc = [data['rougher.input.feed_'+metal].mean(),data['rougher.output.concentrate_'+metal].mean(),data['primary_cleaner.output.concentrate_'+metal].mean(),data['final.output.concentrate_'+metal].mean()]\n",
    "    tail_conc = ' (чистый концентрат)'\n",
    "    data_means_tail = [data['rougher.input.feed_'+metal].mean(),data['rougher.output.tail_'+metal].mean(),data['primary_cleaner.output.tail_'+metal].mean(),data['final.output.tail_'+metal].mean()]\n",
    "    tail_tail = ' (отвальные хвосты)'\n",
    "    #Выводим специльно на разных диаграммах: так нагляднее\n",
    "    plot_data = pd.DataFrame({'X_col':columns,'Y_col_conc':data_means_conc,'Y_col_tail':data_means_tail})\n",
    "    plt.step(x = plot_data['X_col'],y=plot_data['Y_col_conc'],where = 'mid',color = 'C0')\n",
    "    plt.title('Изменение концентрации '+metal+' на различных этапах очистки'+tail_conc)\n",
    "    plt.xticks(rotation = 45)\n",
    "    plt.xlabel('Этап')\n",
    "    plt.ylabel('Средняя концентрация веществ на этапе')\n",
    "    plt.show()\n",
    "    plt.step(x = plot_data['X_col'],y=plot_data['Y_col_tail'],where = 'mid',color = 'C1')\n",
    "    plt.title('Изменение концентрации '+metal+' на различных этапах очистки'+tail_tail)\n",
    "    plt.xticks(rotation = 45)\n",
    "    plt.xlabel('Этап')\n",
    "    plt.ylabel('Средняя концентрация веществ на этапе')\n",
    "    plt.show()\n",
    "    \n",
    "def print_metal_concentration_dynamic_print(data,metal):\n",
    "    columns = ['rougher.input.feed_'+metal,'rougher.output.concentrate_'+metal,'rougher.output.tail_'+metal,'primary_cleaner.output.concentrate_'+metal,'primary_cleaner.output.tail_'+metal,'secondary_cleaner.output.tail_'+metal,'final.output.concentrate_'+metal,'final.output.tail_'+metal]\n",
    "    #выведем несколько значений в столбцах с данных о концентрации металлов\n",
    "    print('Пример значения признаков')\n",
    "    display(data[columns].head(5))\n",
    "    #выведем описательную статистику для столбцов с данными о концентрации металлов\n",
    "    print('Описательные статистики для признаков, содержащих информацию о концентрации металлов на каждом этапе')\n",
    "    display(data[columns].describe())\n",
    "    #напечатаем ступенчатую диаграмму изменения среднего объема сырья\n",
    "    print_step_diagr(data,metal)\n",
    "    #напечатем тепловую диаграмму матрицы корреляции\n",
    "    print()\n",
    "    print('\\033[1m'+'Корреляция признаков, содержащих информацию о концентрации '+metal+' на каждом этапе'+'\\033[0m')\n",
    "    sns.heatmap(data[columns].corr(), cmap= sns.color_palette(palette=\"RdBu\"),linewidths=0.5,annot=True)\n"
   ]
  },
  {
   "cell_type": "markdown",
   "metadata": {},
   "source": [
    "<h4>Анализ изменения концентрации золота на разных этапах очистки</h4>"
   ]
  },
  {
   "cell_type": "code",
   "execution_count": 399,
   "metadata": {
    "scrolled": false
   },
   "outputs": [
    {
     "name": "stdout",
     "output_type": "stream",
     "text": [
      "Пример значения признаков\n"
     ]
    },
    {
     "data": {
      "text/html": [
       "<div>\n",
       "<style scoped>\n",
       "    .dataframe tbody tr th:only-of-type {\n",
       "        vertical-align: middle;\n",
       "    }\n",
       "\n",
       "    .dataframe tbody tr th {\n",
       "        vertical-align: top;\n",
       "    }\n",
       "\n",
       "    .dataframe thead th {\n",
       "        text-align: right;\n",
       "    }\n",
       "</style>\n",
       "<table border=\"1\" class=\"dataframe\">\n",
       "  <thead>\n",
       "    <tr style=\"text-align: right;\">\n",
       "      <th></th>\n",
       "      <th>rougher.input.feed_au</th>\n",
       "      <th>rougher.output.concentrate_au</th>\n",
       "      <th>rougher.output.tail_au</th>\n",
       "      <th>primary_cleaner.output.concentrate_au</th>\n",
       "      <th>primary_cleaner.output.tail_au</th>\n",
       "      <th>secondary_cleaner.output.tail_au</th>\n",
       "      <th>final.output.concentrate_au</th>\n",
       "      <th>final.output.tail_au</th>\n",
       "    </tr>\n",
       "    <tr>\n",
       "      <th>date</th>\n",
       "      <th></th>\n",
       "      <th></th>\n",
       "      <th></th>\n",
       "      <th></th>\n",
       "      <th></th>\n",
       "      <th></th>\n",
       "      <th></th>\n",
       "      <th></th>\n",
       "    </tr>\n",
       "  </thead>\n",
       "  <tbody>\n",
       "    <tr>\n",
       "      <td>2016-01-15 00:00:00</td>\n",
       "      <td>6.486150</td>\n",
       "      <td>19.793808</td>\n",
       "      <td>1.170244</td>\n",
       "      <td>34.174427</td>\n",
       "      <td>2.106679</td>\n",
       "      <td>2.606185</td>\n",
       "      <td>42.192020</td>\n",
       "      <td>2.143149</td>\n",
       "    </tr>\n",
       "    <tr>\n",
       "      <td>2016-01-15 01:00:00</td>\n",
       "      <td>6.478583</td>\n",
       "      <td>20.050975</td>\n",
       "      <td>1.184827</td>\n",
       "      <td>34.118526</td>\n",
       "      <td>2.353017</td>\n",
       "      <td>2.488248</td>\n",
       "      <td>42.701629</td>\n",
       "      <td>2.224930</td>\n",
       "    </tr>\n",
       "    <tr>\n",
       "      <td>2016-01-15 02:00:00</td>\n",
       "      <td>6.362222</td>\n",
       "      <td>19.737170</td>\n",
       "      <td>1.162562</td>\n",
       "      <td>33.969464</td>\n",
       "      <td>2.416800</td>\n",
       "      <td>2.458187</td>\n",
       "      <td>42.657501</td>\n",
       "      <td>2.257889</td>\n",
       "    </tr>\n",
       "    <tr>\n",
       "      <td>2016-01-15 03:00:00</td>\n",
       "      <td>6.118189</td>\n",
       "      <td>19.320810</td>\n",
       "      <td>1.079755</td>\n",
       "      <td>28.260743</td>\n",
       "      <td>2.262051</td>\n",
       "      <td>2.322062</td>\n",
       "      <td>42.689819</td>\n",
       "      <td>2.146849</td>\n",
       "    </tr>\n",
       "    <tr>\n",
       "      <td>2016-01-15 04:00:00</td>\n",
       "      <td>5.663707</td>\n",
       "      <td>19.216101</td>\n",
       "      <td>1.012642</td>\n",
       "      <td>33.044932</td>\n",
       "      <td>2.277073</td>\n",
       "      <td>2.330448</td>\n",
       "      <td>42.774141</td>\n",
       "      <td>2.055292</td>\n",
       "    </tr>\n",
       "  </tbody>\n",
       "</table>\n",
       "</div>"
      ],
      "text/plain": [
       "                     rougher.input.feed_au  rougher.output.concentrate_au  \\\n",
       "date                                                                        \n",
       "2016-01-15 00:00:00               6.486150                      19.793808   \n",
       "2016-01-15 01:00:00               6.478583                      20.050975   \n",
       "2016-01-15 02:00:00               6.362222                      19.737170   \n",
       "2016-01-15 03:00:00               6.118189                      19.320810   \n",
       "2016-01-15 04:00:00               5.663707                      19.216101   \n",
       "\n",
       "                     rougher.output.tail_au  \\\n",
       "date                                          \n",
       "2016-01-15 00:00:00                1.170244   \n",
       "2016-01-15 01:00:00                1.184827   \n",
       "2016-01-15 02:00:00                1.162562   \n",
       "2016-01-15 03:00:00                1.079755   \n",
       "2016-01-15 04:00:00                1.012642   \n",
       "\n",
       "                     primary_cleaner.output.concentrate_au  \\\n",
       "date                                                         \n",
       "2016-01-15 00:00:00                              34.174427   \n",
       "2016-01-15 01:00:00                              34.118526   \n",
       "2016-01-15 02:00:00                              33.969464   \n",
       "2016-01-15 03:00:00                              28.260743   \n",
       "2016-01-15 04:00:00                              33.044932   \n",
       "\n",
       "                     primary_cleaner.output.tail_au  \\\n",
       "date                                                  \n",
       "2016-01-15 00:00:00                        2.106679   \n",
       "2016-01-15 01:00:00                        2.353017   \n",
       "2016-01-15 02:00:00                        2.416800   \n",
       "2016-01-15 03:00:00                        2.262051   \n",
       "2016-01-15 04:00:00                        2.277073   \n",
       "\n",
       "                     secondary_cleaner.output.tail_au  \\\n",
       "date                                                    \n",
       "2016-01-15 00:00:00                          2.606185   \n",
       "2016-01-15 01:00:00                          2.488248   \n",
       "2016-01-15 02:00:00                          2.458187   \n",
       "2016-01-15 03:00:00                          2.322062   \n",
       "2016-01-15 04:00:00                          2.330448   \n",
       "\n",
       "                     final.output.concentrate_au  final.output.tail_au  \n",
       "date                                                                    \n",
       "2016-01-15 00:00:00                    42.192020              2.143149  \n",
       "2016-01-15 01:00:00                    42.701629              2.224930  \n",
       "2016-01-15 02:00:00                    42.657501              2.257889  \n",
       "2016-01-15 03:00:00                    42.689819              2.146849  \n",
       "2016-01-15 04:00:00                    42.774141              2.055292  "
      ]
     },
     "metadata": {},
     "output_type": "display_data"
    },
    {
     "name": "stdout",
     "output_type": "stream",
     "text": [
      "Описательные статистики для признаков, содержащих информацию о концентрации металлов на каждом этапе\n"
     ]
    },
    {
     "data": {
      "text/html": [
       "<div>\n",
       "<style scoped>\n",
       "    .dataframe tbody tr th:only-of-type {\n",
       "        vertical-align: middle;\n",
       "    }\n",
       "\n",
       "    .dataframe tbody tr th {\n",
       "        vertical-align: top;\n",
       "    }\n",
       "\n",
       "    .dataframe thead th {\n",
       "        text-align: right;\n",
       "    }\n",
       "</style>\n",
       "<table border=\"1\" class=\"dataframe\">\n",
       "  <thead>\n",
       "    <tr style=\"text-align: right;\">\n",
       "      <th></th>\n",
       "      <th>rougher.input.feed_au</th>\n",
       "      <th>rougher.output.concentrate_au</th>\n",
       "      <th>rougher.output.tail_au</th>\n",
       "      <th>primary_cleaner.output.concentrate_au</th>\n",
       "      <th>primary_cleaner.output.tail_au</th>\n",
       "      <th>secondary_cleaner.output.tail_au</th>\n",
       "      <th>final.output.concentrate_au</th>\n",
       "      <th>final.output.tail_au</th>\n",
       "    </tr>\n",
       "  </thead>\n",
       "  <tbody>\n",
       "    <tr>\n",
       "      <td>count</td>\n",
       "      <td>14547.000000</td>\n",
       "      <td>14547.000000</td>\n",
       "      <td>14547.000000</td>\n",
       "      <td>14547.000000</td>\n",
       "      <td>14547.000000</td>\n",
       "      <td>14547.000000</td>\n",
       "      <td>14547.000000</td>\n",
       "      <td>14547.000000</td>\n",
       "    </tr>\n",
       "    <tr>\n",
       "      <td>mean</td>\n",
       "      <td>7.835177</td>\n",
       "      <td>19.142840</td>\n",
       "      <td>1.761855</td>\n",
       "      <td>32.175635</td>\n",
       "      <td>3.865377</td>\n",
       "      <td>4.266524</td>\n",
       "      <td>43.671460</td>\n",
       "      <td>2.910151</td>\n",
       "    </tr>\n",
       "    <tr>\n",
       "      <td>std</td>\n",
       "      <td>1.990840</td>\n",
       "      <td>4.332117</td>\n",
       "      <td>0.730830</td>\n",
       "      <td>6.250871</td>\n",
       "      <td>1.680836</td>\n",
       "      <td>2.453742</td>\n",
       "      <td>6.092314</td>\n",
       "      <td>0.934798</td>\n",
       "    </tr>\n",
       "    <tr>\n",
       "      <td>min</td>\n",
       "      <td>0.010000</td>\n",
       "      <td>0.000000</td>\n",
       "      <td>0.020676</td>\n",
       "      <td>0.000000</td>\n",
       "      <td>0.000000</td>\n",
       "      <td>0.000000</td>\n",
       "      <td>0.000000</td>\n",
       "      <td>0.000000</td>\n",
       "    </tr>\n",
       "    <tr>\n",
       "      <td>25%</td>\n",
       "      <td>6.583792</td>\n",
       "      <td>18.286150</td>\n",
       "      <td>1.310091</td>\n",
       "      <td>30.773157</td>\n",
       "      <td>2.867003</td>\n",
       "      <td>3.148966</td>\n",
       "      <td>43.211658</td>\n",
       "      <td>2.360479</td>\n",
       "    </tr>\n",
       "    <tr>\n",
       "      <td>50%</td>\n",
       "      <td>7.650635</td>\n",
       "      <td>19.892199</td>\n",
       "      <td>1.744990</td>\n",
       "      <td>33.186986</td>\n",
       "      <td>3.519443</td>\n",
       "      <td>3.988382</td>\n",
       "      <td>44.852638</td>\n",
       "      <td>2.849572</td>\n",
       "    </tr>\n",
       "    <tr>\n",
       "      <td>75%</td>\n",
       "      <td>9.073149</td>\n",
       "      <td>21.356620</td>\n",
       "      <td>2.188485</td>\n",
       "      <td>35.292122</td>\n",
       "      <td>4.512585</td>\n",
       "      <td>4.903597</td>\n",
       "      <td>46.160649</td>\n",
       "      <td>3.438466</td>\n",
       "    </tr>\n",
       "    <tr>\n",
       "      <td>max</td>\n",
       "      <td>13.126043</td>\n",
       "      <td>28.522811</td>\n",
       "      <td>9.688980</td>\n",
       "      <td>45.933934</td>\n",
       "      <td>18.528821</td>\n",
       "      <td>26.811643</td>\n",
       "      <td>53.611374</td>\n",
       "      <td>8.197408</td>\n",
       "    </tr>\n",
       "  </tbody>\n",
       "</table>\n",
       "</div>"
      ],
      "text/plain": [
       "       rougher.input.feed_au  rougher.output.concentrate_au  \\\n",
       "count           14547.000000                   14547.000000   \n",
       "mean                7.835177                      19.142840   \n",
       "std                 1.990840                       4.332117   \n",
       "min                 0.010000                       0.000000   \n",
       "25%                 6.583792                      18.286150   \n",
       "50%                 7.650635                      19.892199   \n",
       "75%                 9.073149                      21.356620   \n",
       "max                13.126043                      28.522811   \n",
       "\n",
       "       rougher.output.tail_au  primary_cleaner.output.concentrate_au  \\\n",
       "count            14547.000000                           14547.000000   \n",
       "mean                 1.761855                              32.175635   \n",
       "std                  0.730830                               6.250871   \n",
       "min                  0.020676                               0.000000   \n",
       "25%                  1.310091                              30.773157   \n",
       "50%                  1.744990                              33.186986   \n",
       "75%                  2.188485                              35.292122   \n",
       "max                  9.688980                              45.933934   \n",
       "\n",
       "       primary_cleaner.output.tail_au  secondary_cleaner.output.tail_au  \\\n",
       "count                    14547.000000                      14547.000000   \n",
       "mean                         3.865377                          4.266524   \n",
       "std                          1.680836                          2.453742   \n",
       "min                          0.000000                          0.000000   \n",
       "25%                          2.867003                          3.148966   \n",
       "50%                          3.519443                          3.988382   \n",
       "75%                          4.512585                          4.903597   \n",
       "max                         18.528821                         26.811643   \n",
       "\n",
       "       final.output.concentrate_au  final.output.tail_au  \n",
       "count                 14547.000000          14547.000000  \n",
       "mean                     43.671460              2.910151  \n",
       "std                       6.092314              0.934798  \n",
       "min                       0.000000              0.000000  \n",
       "25%                      43.211658              2.360479  \n",
       "50%                      44.852638              2.849572  \n",
       "75%                      46.160649              3.438466  \n",
       "max                      53.611374              8.197408  "
      ]
     },
     "metadata": {},
     "output_type": "display_data"
    },
    {
     "data": {
      "image/png": "[encoded data removed]",
      "text/plain": [
       "<Figure size 432x288 with 1 Axes>"
      ]
     },
     "metadata": {
      "needs_background": "light"
     },
     "output_type": "display_data"
    },
    {
     "data": {
      "image/png": "[encoded data removed]",
      "text/plain": [
       "<Figure size 432x288 with 1 Axes>"
      ]
     },
     "metadata": {
      "needs_background": "light"
     },
     "output_type": "display_data"
    },
    {
     "name": "stdout",
     "output_type": "stream",
     "text": [
      "\n",
      "\u001b[1mКорреляция признаков, содержащих информацию о концентрации au на каждом этапе\u001b[0m\n"
     ]
    },
    {
     "data": {
      "image/png": "[encoded data removed]",
      "text/plain": [
       "<Figure size 432x288 with 2 Axes>"
      ]
     },
     "metadata": {
      "needs_background": "light"
     },
     "output_type": "display_data"
    }
   ],
   "source": [
    "#выведем аналитические данные для золота:    \n",
    "print_metal_concentration_dynamic_print(gold_recovery_train,'au')"
   ]
  },
  {
   "cell_type": "markdown",
   "metadata": {},
   "source": [
    "Можно видеть, что концентрация золота в чистом концентрате заметно возрастает на каждом этапе очистки, тогда как в отвальных хвостах наименьшая его концентрация наблюдается только после этапа флотации, в отвальнных хвостах после первичной очистки его доля сильно возрастает. Это значит, что на данном этапе возрастают потери золота, после вторичной очистки концентрация в отвальных хвостах чуть ниже, но все-таки выше, чем после флотации. То есть флотация - наиболее эффективный с точки зрения минимизации потерь этап.<br>\n",
    "Примечательно, что для всех признаков среднее значение и медиана очень близки. То есть можно предположить, что для данных величин характерно нормальное распределение. Можно видеть, что у различных признаков разное стандартное отклонение (например, у primary_cleaner.output.tail_au стандртное отклонение достаточно большое по сравнению со средним и медианным значением, также максимальное значение данного признака очень высокое, вполне возможно, что это аномалия; у признака primary_cleaner.output.concentrate_au, наборот, значение стандартного отклонения по отношению к среднему и медианному невысоко, то есть у данного признака не такой большой разброс, и максимальное значение не такое высокое, чтобы считать его аномалией). Таким образом можно сказать, что значения признаков распреелены по-разному. Но точно можно видеть, что в признаках, характеризующих чистый концентрат, значение стандартного отклонения не слишком высоко по сравнению со средним и медианным значением,а также максимальные значения не слишком велики, их нельзя назвать аномалиями, в то время как у признков, характеризующих концентрацию металла в отвальных хвостах, достаточно большое значение стандартного отклонения и максимальные значения очень большие. Это говорит о том, что формирование отвальных хвостов очень неравномерно, и здесь могут быть большие потери, а также что концентрация металла в хвостах зависит от каких-то дополнительных факторов.<br>\n",
    "Можно заметить, что максимальная корреляция наблюдается между признаками rougher.input.feed_au и final.output.tail_au, причем корреляция между этими признаками умеренная, но близкая к сильной. В то время как корреляция между rougher.input.feed_au и final.output.concentrate_au очень слабая. Также можно видеть, что на каждом этапе значения .tail_au и concentrate_au между собой коррелируют довольно слабо, а вот значения все .tail_au на всех этапах коррелируют между собой уже сильнее (свыше 50%). Также можно видеть, что коэффициент корреляции между всеми .concentrate_au также близок к 50%. То есть между всеми \"однонаправленными\" признаками (всеми .concentrate и всеми .tail) обнаруживается довольно слабая корреляция. Это говорит о том, что здесь достаточно велико влияние еще других факторов (предположительно фактовров .state), при этом концентрация в .concentrate доволно слабо коррелирует с .tail, что говорит об очень большом влиянии других признаков.<br>\n",
    "Причиной такой слабой корреляции могут быть аномальные значения. Удалив их, можем получить более точный результат.\n"
   ]
  },
  {
   "cell_type": "markdown",
   "metadata": {},
   "source": [
    "<h4>Анализ изменения концентрации серебра на разных этапах очистки</h4>"
   ]
  },
  {
   "cell_type": "code",
   "execution_count": 400,
   "metadata": {
    "scrolled": false
   },
   "outputs": [
    {
     "name": "stdout",
     "output_type": "stream",
     "text": [
      "Пример значения признаков\n"
     ]
    },
    {
     "data": {
      "text/html": [
       "<div>\n",
       "<style scoped>\n",
       "    .dataframe tbody tr th:only-of-type {\n",
       "        vertical-align: middle;\n",
       "    }\n",
       "\n",
       "    .dataframe tbody tr th {\n",
       "        vertical-align: top;\n",
       "    }\n",
       "\n",
       "    .dataframe thead th {\n",
       "        text-align: right;\n",
       "    }\n",
       "</style>\n",
       "<table border=\"1\" class=\"dataframe\">\n",
       "  <thead>\n",
       "    <tr style=\"text-align: right;\">\n",
       "      <th></th>\n",
       "      <th>rougher.input.feed_ag</th>\n",
       "      <th>rougher.output.concentrate_ag</th>\n",
       "      <th>rougher.output.tail_ag</th>\n",
       "      <th>primary_cleaner.output.concentrate_ag</th>\n",
       "      <th>primary_cleaner.output.tail_ag</th>\n",
       "      <th>secondary_cleaner.output.tail_ag</th>\n",
       "      <th>final.output.concentrate_ag</th>\n",
       "      <th>final.output.tail_ag</th>\n",
       "    </tr>\n",
       "    <tr>\n",
       "      <th>date</th>\n",
       "      <th></th>\n",
       "      <th></th>\n",
       "      <th></th>\n",
       "      <th></th>\n",
       "      <th></th>\n",
       "      <th></th>\n",
       "      <th></th>\n",
       "      <th></th>\n",
       "    </tr>\n",
       "  </thead>\n",
       "  <tbody>\n",
       "    <tr>\n",
       "      <td>2016-01-15 00:00:00</td>\n",
       "      <td>6.100378</td>\n",
       "      <td>11.500771</td>\n",
       "      <td>5.008018</td>\n",
       "      <td>8.547551</td>\n",
       "      <td>14.936526</td>\n",
       "      <td>14.500184</td>\n",
       "      <td>6.055403</td>\n",
       "      <td>10.411962</td>\n",
       "    </tr>\n",
       "    <tr>\n",
       "      <td>2016-01-15 01:00:00</td>\n",
       "      <td>6.161113</td>\n",
       "      <td>11.615865</td>\n",
       "      <td>4.955378</td>\n",
       "      <td>8.558743</td>\n",
       "      <td>16.250511</td>\n",
       "      <td>14.265474</td>\n",
       "      <td>6.029369</td>\n",
       "      <td>10.462676</td>\n",
       "    </tr>\n",
       "    <tr>\n",
       "      <td>2016-01-15 02:00:00</td>\n",
       "      <td>6.116455</td>\n",
       "      <td>11.695753</td>\n",
       "      <td>4.843460</td>\n",
       "      <td>8.603505</td>\n",
       "      <td>16.491823</td>\n",
       "      <td>14.115662</td>\n",
       "      <td>6.055926</td>\n",
       "      <td>10.507046</td>\n",
       "    </tr>\n",
       "    <tr>\n",
       "      <td>2016-01-15 03:00:00</td>\n",
       "      <td>6.043309</td>\n",
       "      <td>11.915047</td>\n",
       "      <td>4.655288</td>\n",
       "      <td>7.221879</td>\n",
       "      <td>16.024359</td>\n",
       "      <td>13.732071</td>\n",
       "      <td>6.047977</td>\n",
       "      <td>10.422762</td>\n",
       "    </tr>\n",
       "    <tr>\n",
       "      <td>2016-01-15 04:00:00</td>\n",
       "      <td>6.060915</td>\n",
       "      <td>12.411054</td>\n",
       "      <td>4.552800</td>\n",
       "      <td>9.089428</td>\n",
       "      <td>16.480185</td>\n",
       "      <td>14.079996</td>\n",
       "      <td>6.148599</td>\n",
       "      <td>10.360302</td>\n",
       "    </tr>\n",
       "  </tbody>\n",
       "</table>\n",
       "</div>"
      ],
      "text/plain": [
       "                     rougher.input.feed_ag  rougher.output.concentrate_ag  \\\n",
       "date                                                                        \n",
       "2016-01-15 00:00:00               6.100378                      11.500771   \n",
       "2016-01-15 01:00:00               6.161113                      11.615865   \n",
       "2016-01-15 02:00:00               6.116455                      11.695753   \n",
       "2016-01-15 03:00:00               6.043309                      11.915047   \n",
       "2016-01-15 04:00:00               6.060915                      12.411054   \n",
       "\n",
       "                     rougher.output.tail_ag  \\\n",
       "date                                          \n",
       "2016-01-15 00:00:00                5.008018   \n",
       "2016-01-15 01:00:00                4.955378   \n",
       "2016-01-15 02:00:00                4.843460   \n",
       "2016-01-15 03:00:00                4.655288   \n",
       "2016-01-15 04:00:00                4.552800   \n",
       "\n",
       "                     primary_cleaner.output.concentrate_ag  \\\n",
       "date                                                         \n",
       "2016-01-15 00:00:00                               8.547551   \n",
       "2016-01-15 01:00:00                               8.558743   \n",
       "2016-01-15 02:00:00                               8.603505   \n",
       "2016-01-15 03:00:00                               7.221879   \n",
       "2016-01-15 04:00:00                               9.089428   \n",
       "\n",
       "                     primary_cleaner.output.tail_ag  \\\n",
       "date                                                  \n",
       "2016-01-15 00:00:00                       14.936526   \n",
       "2016-01-15 01:00:00                       16.250511   \n",
       "2016-01-15 02:00:00                       16.491823   \n",
       "2016-01-15 03:00:00                       16.024359   \n",
       "2016-01-15 04:00:00                       16.480185   \n",
       "\n",
       "                     secondary_cleaner.output.tail_ag  \\\n",
       "date                                                    \n",
       "2016-01-15 00:00:00                         14.500184   \n",
       "2016-01-15 01:00:00                         14.265474   \n",
       "2016-01-15 02:00:00                         14.115662   \n",
       "2016-01-15 03:00:00                         13.732071   \n",
       "2016-01-15 04:00:00                         14.079996   \n",
       "\n",
       "                     final.output.concentrate_ag  final.output.tail_ag  \n",
       "date                                                                    \n",
       "2016-01-15 00:00:00                     6.055403             10.411962  \n",
       "2016-01-15 01:00:00                     6.029369             10.462676  \n",
       "2016-01-15 02:00:00                     6.055926             10.507046  \n",
       "2016-01-15 03:00:00                     6.047977             10.422762  \n",
       "2016-01-15 04:00:00                     6.148599             10.360302  "
      ]
     },
     "metadata": {},
     "output_type": "display_data"
    },
    {
     "name": "stdout",
     "output_type": "stream",
     "text": [
      "Описательные статистики для признаков, содержащих информацию о концентрации металлов на каждом этапе\n"
     ]
    },
    {
     "data": {
      "text/html": [
       "<div>\n",
       "<style scoped>\n",
       "    .dataframe tbody tr th:only-of-type {\n",
       "        vertical-align: middle;\n",
       "    }\n",
       "\n",
       "    .dataframe tbody tr th {\n",
       "        vertical-align: top;\n",
       "    }\n",
       "\n",
       "    .dataframe thead th {\n",
       "        text-align: right;\n",
       "    }\n",
       "</style>\n",
       "<table border=\"1\" class=\"dataframe\">\n",
       "  <thead>\n",
       "    <tr style=\"text-align: right;\">\n",
       "      <th></th>\n",
       "      <th>rougher.input.feed_ag</th>\n",
       "      <th>rougher.output.concentrate_ag</th>\n",
       "      <th>rougher.output.tail_ag</th>\n",
       "      <th>primary_cleaner.output.concentrate_ag</th>\n",
       "      <th>primary_cleaner.output.tail_ag</th>\n",
       "      <th>secondary_cleaner.output.tail_ag</th>\n",
       "      <th>final.output.concentrate_ag</th>\n",
       "      <th>final.output.tail_ag</th>\n",
       "    </tr>\n",
       "  </thead>\n",
       "  <tbody>\n",
       "    <tr>\n",
       "      <td>count</td>\n",
       "      <td>14547.000000</td>\n",
       "      <td>14547.000000</td>\n",
       "      <td>14547.000000</td>\n",
       "      <td>14547.000000</td>\n",
       "      <td>14547.000000</td>\n",
       "      <td>14547.000000</td>\n",
       "      <td>14547.000000</td>\n",
       "      <td>14547.000000</td>\n",
       "    </tr>\n",
       "    <tr>\n",
       "      <td>mean</td>\n",
       "      <td>8.556959</td>\n",
       "      <td>11.606346</td>\n",
       "      <td>5.565966</td>\n",
       "      <td>8.155741</td>\n",
       "      <td>16.312455</td>\n",
       "      <td>14.247927</td>\n",
       "      <td>5.119430</td>\n",
       "      <td>9.576352</td>\n",
       "    </tr>\n",
       "    <tr>\n",
       "      <td>std</td>\n",
       "      <td>1.957201</td>\n",
       "      <td>3.026604</td>\n",
       "      <td>1.046725</td>\n",
       "      <td>2.093882</td>\n",
       "      <td>3.838974</td>\n",
       "      <td>4.565075</td>\n",
       "      <td>1.432127</td>\n",
       "      <td>2.416923</td>\n",
       "    </tr>\n",
       "    <tr>\n",
       "      <td>min</td>\n",
       "      <td>0.010000</td>\n",
       "      <td>0.000000</td>\n",
       "      <td>0.594562</td>\n",
       "      <td>0.000000</td>\n",
       "      <td>0.000000</td>\n",
       "      <td>0.000000</td>\n",
       "      <td>0.000000</td>\n",
       "      <td>0.000000</td>\n",
       "    </tr>\n",
       "    <tr>\n",
       "      <td>25%</td>\n",
       "      <td>7.122570</td>\n",
       "      <td>10.402217</td>\n",
       "      <td>4.916852</td>\n",
       "      <td>7.074816</td>\n",
       "      <td>13.875317</td>\n",
       "      <td>12.154820</td>\n",
       "      <td>4.199613</td>\n",
       "      <td>7.987846</td>\n",
       "    </tr>\n",
       "    <tr>\n",
       "      <td>50%</td>\n",
       "      <td>8.152606</td>\n",
       "      <td>11.697192</td>\n",
       "      <td>5.718036</td>\n",
       "      <td>8.215451</td>\n",
       "      <td>15.817611</td>\n",
       "      <td>15.377938</td>\n",
       "      <td>4.991868</td>\n",
       "      <td>9.478438</td>\n",
       "    </tr>\n",
       "    <tr>\n",
       "      <td>75%</td>\n",
       "      <td>9.918472</td>\n",
       "      <td>13.397514</td>\n",
       "      <td>6.309766</td>\n",
       "      <td>9.503753</td>\n",
       "      <td>18.531336</td>\n",
       "      <td>17.270935</td>\n",
       "      <td>5.861720</td>\n",
       "      <td>11.009077</td>\n",
       "    </tr>\n",
       "    <tr>\n",
       "      <td>max</td>\n",
       "      <td>14.596026</td>\n",
       "      <td>24.480271</td>\n",
       "      <td>12.719177</td>\n",
       "      <td>16.081632</td>\n",
       "      <td>29.459575</td>\n",
       "      <td>23.264738</td>\n",
       "      <td>16.001945</td>\n",
       "      <td>19.552149</td>\n",
       "    </tr>\n",
       "  </tbody>\n",
       "</table>\n",
       "</div>"
      ],
      "text/plain": [
       "       rougher.input.feed_ag  rougher.output.concentrate_ag  \\\n",
       "count           14547.000000                   14547.000000   \n",
       "mean                8.556959                      11.606346   \n",
       "std                 1.957201                       3.026604   \n",
       "min                 0.010000                       0.000000   \n",
       "25%                 7.122570                      10.402217   \n",
       "50%                 8.152606                      11.697192   \n",
       "75%                 9.918472                      13.397514   \n",
       "max                14.596026                      24.480271   \n",
       "\n",
       "       rougher.output.tail_ag  primary_cleaner.output.concentrate_ag  \\\n",
       "count            14547.000000                           14547.000000   \n",
       "mean                 5.565966                               8.155741   \n",
       "std                  1.046725                               2.093882   \n",
       "min                  0.594562                               0.000000   \n",
       "25%                  4.916852                               7.074816   \n",
       "50%                  5.718036                               8.215451   \n",
       "75%                  6.309766                               9.503753   \n",
       "max                 12.719177                              16.081632   \n",
       "\n",
       "       primary_cleaner.output.tail_ag  secondary_cleaner.output.tail_ag  \\\n",
       "count                    14547.000000                      14547.000000   \n",
       "mean                        16.312455                         14.247927   \n",
       "std                          3.838974                          4.565075   \n",
       "min                          0.000000                          0.000000   \n",
       "25%                         13.875317                         12.154820   \n",
       "50%                         15.817611                         15.377938   \n",
       "75%                         18.531336                         17.270935   \n",
       "max                         29.459575                         23.264738   \n",
       "\n",
       "       final.output.concentrate_ag  final.output.tail_ag  \n",
       "count                 14547.000000          14547.000000  \n",
       "mean                      5.119430              9.576352  \n",
       "std                       1.432127              2.416923  \n",
       "min                       0.000000              0.000000  \n",
       "25%                       4.199613              7.987846  \n",
       "50%                       4.991868              9.478438  \n",
       "75%                       5.861720             11.009077  \n",
       "max                      16.001945             19.552149  "
      ]
     },
     "metadata": {},
     "output_type": "display_data"
    },
    {
     "data": {
      "image/png": "[encoded data removed]",
      "text/plain": [
       "<Figure size 432x288 with 1 Axes>"
      ]
     },
     "metadata": {
      "needs_background": "light"
     },
     "output_type": "display_data"
    },
    {
     "data": {
      "image/png": "[encoded data removed]",
      "text/plain": [
       "<Figure size 432x288 with 1 Axes>"
      ]
     },
     "metadata": {
      "needs_background": "light"
     },
     "output_type": "display_data"
    },
    {
     "name": "stdout",
     "output_type": "stream",
     "text": [
      "\n",
      "\u001b[1mКорреляция признаков, содержащих информацию о концентрации ag на каждом этапе\u001b[0m\n"
     ]
    },
    {
     "data": {
      "image/png": "[encoded data removed]",
      "text/plain": [
       "<Figure size 432x288 with 2 Axes>"
      ]
     },
     "metadata": {
      "needs_background": "light"
     },
     "output_type": "display_data"
    }
   ],
   "source": [
    "#выведем аналитические данные для серебра:    \n",
    "print_metal_concentration_dynamic_print(gold_recovery_train,'ag')"
   ]
  },
  {
   "cell_type": "markdown",
   "metadata": {},
   "source": [
    "Можно видеть, что концентрация серебра в чистом концентрате резко возрастает после этапа флотации, а затем довольно резко падает, и в финальном концентрате концентрация серебра очень низкая. В отвальных хвостах максимальная концентрация достигается после этапа первичной фильтрации, а после этапа окончательной фильтрации его доля чуть ниже. Это говорит о том, что разные этапы очень сильно влияют на концентрацию серебра. Для всех признаков среднее и медианное значение довольно близки. У всех признаков стандартное отклонение достаточно небольшое, и максимальные значения не похожи на аномальные<br>\n",
    "Как и в случае с золотом, можем наблюдать сильную положительную связь между rougher.input.feed_ag и final.output.tail_ag. Связь rougher.input.feed с колонками с колонками concentrate выше, чем для золота. Здесь также наблюдается более сильная положительная связь между колонками .concentrate. Между колонками .tail здесь наблюдается довольно слабая связь. Связь между колонками .tail абсолютно разная: есть как близкая к сильной (primary_cleaner.output.tail_ag и final.output.tail_ag), так и слабая отрицательная связь(rougher.output.tail_ag и primary_cleaner.output.tail_ag). Это все говорит о том, что результаты для чистого концентрата более предсказуемы, а на то, что попадает в отвальные хвосты, воздействует большее количество факторов."
   ]
  },
  {
   "cell_type": "markdown",
   "metadata": {},
   "source": [
    "<h4>Анализ изменения концентрации свинца</h4>"
   ]
  },
  {
   "cell_type": "code",
   "execution_count": 401,
   "metadata": {
    "scrolled": false
   },
   "outputs": [
    {
     "name": "stdout",
     "output_type": "stream",
     "text": [
      "Пример значения признаков\n"
     ]
    },
    {
     "data": {
      "text/html": [
       "<div>\n",
       "<style scoped>\n",
       "    .dataframe tbody tr th:only-of-type {\n",
       "        vertical-align: middle;\n",
       "    }\n",
       "\n",
       "    .dataframe tbody tr th {\n",
       "        vertical-align: top;\n",
       "    }\n",
       "\n",
       "    .dataframe thead th {\n",
       "        text-align: right;\n",
       "    }\n",
       "</style>\n",
       "<table border=\"1\" class=\"dataframe\">\n",
       "  <thead>\n",
       "    <tr style=\"text-align: right;\">\n",
       "      <th></th>\n",
       "      <th>rougher.input.feed_pb</th>\n",
       "      <th>rougher.output.concentrate_pb</th>\n",
       "      <th>rougher.output.tail_pb</th>\n",
       "      <th>primary_cleaner.output.concentrate_pb</th>\n",
       "      <th>primary_cleaner.output.tail_pb</th>\n",
       "      <th>secondary_cleaner.output.tail_pb</th>\n",
       "      <th>final.output.concentrate_pb</th>\n",
       "      <th>final.output.tail_pb</th>\n",
       "    </tr>\n",
       "    <tr>\n",
       "      <th>date</th>\n",
       "      <th></th>\n",
       "      <th></th>\n",
       "      <th></th>\n",
       "      <th></th>\n",
       "      <th></th>\n",
       "      <th></th>\n",
       "      <th></th>\n",
       "      <th></th>\n",
       "    </tr>\n",
       "  </thead>\n",
       "  <tbody>\n",
       "    <tr>\n",
       "      <td>2016-01-15 00:00:00</td>\n",
       "      <td>2.284912</td>\n",
       "      <td>7.101074</td>\n",
       "      <td>0.508728</td>\n",
       "      <td>10.389648</td>\n",
       "      <td>2.534912</td>\n",
       "      <td>4.694824</td>\n",
       "      <td>9.889648</td>\n",
       "      <td>0.895447</td>\n",
       "    </tr>\n",
       "    <tr>\n",
       "      <td>2016-01-15 01:00:00</td>\n",
       "      <td>2.266033</td>\n",
       "      <td>7.278807</td>\n",
       "      <td>0.536689</td>\n",
       "      <td>10.497069</td>\n",
       "      <td>3.049646</td>\n",
       "      <td>4.592547</td>\n",
       "      <td>9.968944</td>\n",
       "      <td>0.927452</td>\n",
       "    </tr>\n",
       "    <tr>\n",
       "      <td>2016-01-15 02:00:00</td>\n",
       "      <td>2.159622</td>\n",
       "      <td>7.216833</td>\n",
       "      <td>0.546416</td>\n",
       "      <td>10.354494</td>\n",
       "      <td>3.124664</td>\n",
       "      <td>4.624775</td>\n",
       "      <td>10.213995</td>\n",
       "      <td>0.953716</td>\n",
       "    </tr>\n",
       "    <tr>\n",
       "      <td>2016-01-15 03:00:00</td>\n",
       "      <td>2.037807</td>\n",
       "      <td>7.175616</td>\n",
       "      <td>0.542525</td>\n",
       "      <td>8.496563</td>\n",
       "      <td>2.960362</td>\n",
       "      <td>4.482453</td>\n",
       "      <td>9.977019</td>\n",
       "      <td>0.883763</td>\n",
       "    </tr>\n",
       "    <tr>\n",
       "      <td>2016-01-15 04:00:00</td>\n",
       "      <td>1.786875</td>\n",
       "      <td>7.240205</td>\n",
       "      <td>0.515438</td>\n",
       "      <td>9.986786</td>\n",
       "      <td>3.112100</td>\n",
       "      <td>4.470737</td>\n",
       "      <td>10.142511</td>\n",
       "      <td>0.792826</td>\n",
       "    </tr>\n",
       "  </tbody>\n",
       "</table>\n",
       "</div>"
      ],
      "text/plain": [
       "                     rougher.input.feed_pb  rougher.output.concentrate_pb  \\\n",
       "date                                                                        \n",
       "2016-01-15 00:00:00               2.284912                       7.101074   \n",
       "2016-01-15 01:00:00               2.266033                       7.278807   \n",
       "2016-01-15 02:00:00               2.159622                       7.216833   \n",
       "2016-01-15 03:00:00               2.037807                       7.175616   \n",
       "2016-01-15 04:00:00               1.786875                       7.240205   \n",
       "\n",
       "                     rougher.output.tail_pb  \\\n",
       "date                                          \n",
       "2016-01-15 00:00:00                0.508728   \n",
       "2016-01-15 01:00:00                0.536689   \n",
       "2016-01-15 02:00:00                0.546416   \n",
       "2016-01-15 03:00:00                0.542525   \n",
       "2016-01-15 04:00:00                0.515438   \n",
       "\n",
       "                     primary_cleaner.output.concentrate_pb  \\\n",
       "date                                                         \n",
       "2016-01-15 00:00:00                              10.389648   \n",
       "2016-01-15 01:00:00                              10.497069   \n",
       "2016-01-15 02:00:00                              10.354494   \n",
       "2016-01-15 03:00:00                               8.496563   \n",
       "2016-01-15 04:00:00                               9.986786   \n",
       "\n",
       "                     primary_cleaner.output.tail_pb  \\\n",
       "date                                                  \n",
       "2016-01-15 00:00:00                        2.534912   \n",
       "2016-01-15 01:00:00                        3.049646   \n",
       "2016-01-15 02:00:00                        3.124664   \n",
       "2016-01-15 03:00:00                        2.960362   \n",
       "2016-01-15 04:00:00                        3.112100   \n",
       "\n",
       "                     secondary_cleaner.output.tail_pb  \\\n",
       "date                                                    \n",
       "2016-01-15 00:00:00                          4.694824   \n",
       "2016-01-15 01:00:00                          4.592547   \n",
       "2016-01-15 02:00:00                          4.624775   \n",
       "2016-01-15 03:00:00                          4.482453   \n",
       "2016-01-15 04:00:00                          4.470737   \n",
       "\n",
       "                     final.output.concentrate_pb  final.output.tail_pb  \n",
       "date                                                                    \n",
       "2016-01-15 00:00:00                     9.889648              0.895447  \n",
       "2016-01-15 01:00:00                     9.968944              0.927452  \n",
       "2016-01-15 02:00:00                    10.213995              0.953716  \n",
       "2016-01-15 03:00:00                     9.977019              0.883763  \n",
       "2016-01-15 04:00:00                    10.142511              0.792826  "
      ]
     },
     "metadata": {},
     "output_type": "display_data"
    },
    {
     "name": "stdout",
     "output_type": "stream",
     "text": [
      "Описательные статистики для признаков, содержащих информацию о концентрации металлов на каждом этапе\n"
     ]
    },
    {
     "data": {
      "text/html": [
       "<div>\n",
       "<style scoped>\n",
       "    .dataframe tbody tr th:only-of-type {\n",
       "        vertical-align: middle;\n",
       "    }\n",
       "\n",
       "    .dataframe tbody tr th {\n",
       "        vertical-align: top;\n",
       "    }\n",
       "\n",
       "    .dataframe thead th {\n",
       "        text-align: right;\n",
       "    }\n",
       "</style>\n",
       "<table border=\"1\" class=\"dataframe\">\n",
       "  <thead>\n",
       "    <tr style=\"text-align: right;\">\n",
       "      <th></th>\n",
       "      <th>rougher.input.feed_pb</th>\n",
       "      <th>rougher.output.concentrate_pb</th>\n",
       "      <th>rougher.output.tail_pb</th>\n",
       "      <th>primary_cleaner.output.concentrate_pb</th>\n",
       "      <th>primary_cleaner.output.tail_pb</th>\n",
       "      <th>secondary_cleaner.output.tail_pb</th>\n",
       "      <th>final.output.concentrate_pb</th>\n",
       "      <th>final.output.tail_pb</th>\n",
       "    </tr>\n",
       "  </thead>\n",
       "  <tbody>\n",
       "    <tr>\n",
       "      <td>count</td>\n",
       "      <td>14547.000000</td>\n",
       "      <td>14547.000000</td>\n",
       "      <td>14547.000000</td>\n",
       "      <td>14547.000000</td>\n",
       "      <td>14547.000000</td>\n",
       "      <td>14547.000000</td>\n",
       "      <td>14547.000000</td>\n",
       "      <td>14547.000000</td>\n",
       "    </tr>\n",
       "    <tr>\n",
       "      <td>mean</td>\n",
       "      <td>3.493617</td>\n",
       "      <td>7.555537</td>\n",
       "      <td>0.654437</td>\n",
       "      <td>9.491745</td>\n",
       "      <td>3.450584</td>\n",
       "      <td>5.842486</td>\n",
       "      <td>10.052854</td>\n",
       "      <td>2.567528</td>\n",
       "    </tr>\n",
       "    <tr>\n",
       "      <td>std</td>\n",
       "      <td>1.111770</td>\n",
       "      <td>2.035432</td>\n",
       "      <td>0.272058</td>\n",
       "      <td>2.807967</td>\n",
       "      <td>1.509756</td>\n",
       "      <td>2.880250</td>\n",
       "      <td>1.836390</td>\n",
       "      <td>1.003334</td>\n",
       "    </tr>\n",
       "    <tr>\n",
       "      <td>min</td>\n",
       "      <td>0.008001</td>\n",
       "      <td>0.000000</td>\n",
       "      <td>0.007566</td>\n",
       "      <td>0.000000</td>\n",
       "      <td>0.000000</td>\n",
       "      <td>0.000000</td>\n",
       "      <td>0.000000</td>\n",
       "      <td>0.000000</td>\n",
       "    </tr>\n",
       "    <tr>\n",
       "      <td>25%</td>\n",
       "      <td>2.755062</td>\n",
       "      <td>6.767857</td>\n",
       "      <td>0.473198</td>\n",
       "      <td>8.243721</td>\n",
       "      <td>2.418902</td>\n",
       "      <td>3.975241</td>\n",
       "      <td>9.255991</td>\n",
       "      <td>1.872348</td>\n",
       "    </tr>\n",
       "    <tr>\n",
       "      <td>50%</td>\n",
       "      <td>3.405857</td>\n",
       "      <td>7.732853</td>\n",
       "      <td>0.625805</td>\n",
       "      <td>9.895425</td>\n",
       "      <td>3.225258</td>\n",
       "      <td>5.453296</td>\n",
       "      <td>10.269525</td>\n",
       "      <td>2.570471</td>\n",
       "    </tr>\n",
       "    <tr>\n",
       "      <td>75%</td>\n",
       "      <td>4.219946</td>\n",
       "      <td>8.587013</td>\n",
       "      <td>0.795594</td>\n",
       "      <td>11.284545</td>\n",
       "      <td>4.270766</td>\n",
       "      <td>7.809636</td>\n",
       "      <td>11.159128</td>\n",
       "      <td>3.235255</td>\n",
       "    </tr>\n",
       "    <tr>\n",
       "      <td>max</td>\n",
       "      <td>7.142594</td>\n",
       "      <td>18.394042</td>\n",
       "      <td>3.778064</td>\n",
       "      <td>17.081278</td>\n",
       "      <td>9.634565</td>\n",
       "      <td>17.042505</td>\n",
       "      <td>17.031899</td>\n",
       "      <td>5.639565</td>\n",
       "    </tr>\n",
       "  </tbody>\n",
       "</table>\n",
       "</div>"
      ],
      "text/plain": [
       "       rougher.input.feed_pb  rougher.output.concentrate_pb  \\\n",
       "count           14547.000000                   14547.000000   \n",
       "mean                3.493617                       7.555537   \n",
       "std                 1.111770                       2.035432   \n",
       "min                 0.008001                       0.000000   \n",
       "25%                 2.755062                       6.767857   \n",
       "50%                 3.405857                       7.732853   \n",
       "75%                 4.219946                       8.587013   \n",
       "max                 7.142594                      18.394042   \n",
       "\n",
       "       rougher.output.tail_pb  primary_cleaner.output.concentrate_pb  \\\n",
       "count            14547.000000                           14547.000000   \n",
       "mean                 0.654437                               9.491745   \n",
       "std                  0.272058                               2.807967   \n",
       "min                  0.007566                               0.000000   \n",
       "25%                  0.473198                               8.243721   \n",
       "50%                  0.625805                               9.895425   \n",
       "75%                  0.795594                              11.284545   \n",
       "max                  3.778064                              17.081278   \n",
       "\n",
       "       primary_cleaner.output.tail_pb  secondary_cleaner.output.tail_pb  \\\n",
       "count                    14547.000000                      14547.000000   \n",
       "mean                         3.450584                          5.842486   \n",
       "std                          1.509756                          2.880250   \n",
       "min                          0.000000                          0.000000   \n",
       "25%                          2.418902                          3.975241   \n",
       "50%                          3.225258                          5.453296   \n",
       "75%                          4.270766                          7.809636   \n",
       "max                          9.634565                         17.042505   \n",
       "\n",
       "       final.output.concentrate_pb  final.output.tail_pb  \n",
       "count                 14547.000000          14547.000000  \n",
       "mean                     10.052854              2.567528  \n",
       "std                       1.836390              1.003334  \n",
       "min                       0.000000              0.000000  \n",
       "25%                       9.255991              1.872348  \n",
       "50%                      10.269525              2.570471  \n",
       "75%                      11.159128              3.235255  \n",
       "max                      17.031899              5.639565  "
      ]
     },
     "metadata": {},
     "output_type": "display_data"
    },
    {
     "data": {
      "image/png": "[encoded data removed]",
      "text/plain": [
       "<Figure size 432x288 with 1 Axes>"
      ]
     },
     "metadata": {
      "needs_background": "light"
     },
     "output_type": "display_data"
    },
    {
     "data": {
      "image/png": "[encoded data removed]",
      "text/plain": [
       "<Figure size 432x288 with 1 Axes>"
      ]
     },
     "metadata": {
      "needs_background": "light"
     },
     "output_type": "display_data"
    },
    {
     "name": "stdout",
     "output_type": "stream",
     "text": [
      "\n",
      "\u001b[1mКорреляция признаков, содержащих информацию о концентрации pb на каждом этапе\u001b[0m\n"
     ]
    },
    {
     "data": {
      "image/png": "[encoded data removed]",
      "text/plain": [
       "<Figure size 432x288 with 2 Axes>"
      ]
     },
     "metadata": {
      "needs_background": "light"
     },
     "output_type": "display_data"
    }
   ],
   "source": [
    "#выведем аналитические данные для серебра:    \n",
    "print_metal_concentration_dynamic_print(gold_recovery_train,'pb')"
   ]
  },
  {
   "cell_type": "markdown",
   "metadata": {},
   "source": [
    "Концентрация свинца на каждом этапе очистки в концентрате возрастает, однако с каждым этапом прирост этой концентрации уменьшается. В отвальных хвостах минимальная концентрация после процедуры флотации, после первичной очистки она резко возрастает и потом немного падает после вторичной очистки. Для всех признаков среднее и медианное значение очень близки, стандартные отклонения также достаточно низкие. <br>\n",
    "Здесь также максимально высокая корреляция наблюдается для признаков rougher.input.feed_pb и final_output.tail_pb, при этом корреляция с признаком final_output.concentrate_pb почти в 2 раза ниже. Корреляция между rougher.input.feed_pb и признаками .concentrate 32-49%. Корреляция признаков .concentrate между собой 37-44%. корреляции признаков .tail между собой абсолютно разные: от очень слабой отрицательной связи до 61%. Это говорит о влиянии большего количества факторов на концентрацию свинца в отвальных хвостах."
   ]
  },
  {
   "cell_type": "markdown",
   "metadata": {},
   "source": [
    "<h4>Анализ долей содержания металлов на каждом этапе</h4>"
   ]
  },
  {
   "cell_type": "code",
   "execution_count": 402,
   "metadata": {},
   "outputs": [
    {
     "name": "stdout",
     "output_type": "stream",
     "text": [
      "\n",
      "\u001b[1mСтолбчатая диаграмма содержания металлов на каждом этапе в чистом концентрате\u001b[0m\n",
      "\n"
     ]
    },
    {
     "data": {
      "image/png": "[encoded data removed]",
      "text/plain": [
       "<Figure size 432x288 with 1 Axes>"
      ]
     },
     "metadata": {
      "needs_background": "light"
     },
     "output_type": "display_data"
    },
    {
     "name": "stdout",
     "output_type": "stream",
     "text": [
      "\n",
      "\u001b[1mСтолбчатая диаграмма содержания металлов на каждом этапе в отвальных хвостах\u001b[0m\n",
      "\n"
     ]
    },
    {
     "data": {
      "image/png": "[encoded data removed]",
      "text/plain": [
       "<Figure size 432x288 with 1 Axes>"
      ]
     },
     "metadata": {
      "needs_background": "light"
     },
     "output_type": "display_data"
    }
   ],
   "source": [
    "#Здесь вывести столбчатую диаграмму среднего количетсва металлов на каждом этапе\n",
    "def print_plot(df,title):\n",
    "    print()\n",
    "    print('\\033[1m'+'Столбчатая диаграмма содержания металлов на каждом этапе в '+title+'\\033[0m')\n",
    "    print()\n",
    "    df.plot(kind = 'bar')\n",
    "    \n",
    "    plt.title('Среднее содержание металла на каждом этапе (в '+title+')')\n",
    "    plt.xlabel('Этап обработки')\n",
    "    plt.ylabel('средняя концентрация металла')\n",
    "    plt.xticks(np.arange(4), df['steps'])\n",
    "    plt.show()\n",
    "def print_bar_metal(data):\n",
    "    metals = ['au','ag','pb']\n",
    "    step_columns = ['rougher.input','rougher.output','primary_cleaner.output','final.output']\n",
    "    df_conc = pd.DataFrame({'steps':step_columns})\n",
    "    df_tail = pd.DataFrame({'steps':step_columns})\n",
    "    for metal in metals:\n",
    "        data_means_conc = [data['rougher.input.feed_'+metal].mean(),data['rougher.output.concentrate_'+metal].mean(),data['primary_cleaner.output.concentrate_'+metal].mean(),data['final.output.concentrate_'+metal].mean()] \n",
    "        data_means_tail = [data['rougher.input.feed_'+metal].mean(),data['rougher.output.tail_'+metal].mean(),data['primary_cleaner.output.tail_'+metal].mean(),data['final.output.tail_'+metal].mean()]\n",
    "        df_conc[metal] = data_means_conc\n",
    "        df_tail[metal] = data_means_tail\n",
    "    print_plot(df_conc,'чистом концентрате')\n",
    "    print_plot(df_tail,'отвальных хвостах')\n",
    "    \n",
    "print_bar_metal(gold_recovery_train)        "
   ]
  },
  {
   "cell_type": "markdown",
   "metadata": {},
   "source": [
    "На каждом этапе обработки доля золота в чистом концентрате заметно увеличивается, в то время как доля серебра постепенно снижается, концентрация свинца растет, но его доля заметно уменьшается, потому что значительно увелчивается концентрация золота.<br>\n",
    "В отвальных хвостах ситуация обстоит немного иначе: после первичной очистки резко возрастает концентрация всех металлов(по сравнению с отвальными хвостами после флотации), после вторичной очистки их концентрация снова падает, однако, на всех этапах в отвальных хвостах самая высокая концентрация серебра по сравнению с остальными металлами; самая низкая - у свинца."
   ]
  },
  {
   "cell_type": "markdown",
   "metadata": {},
   "source": [
    "<h3>Анализ распределения гранул сырья на обучающей и тестовой выборке</h3>"
   ]
  },
  {
   "cell_type": "code",
   "execution_count": 403,
   "metadata": {},
   "outputs": [
    {
     "name": "stdout",
     "output_type": "stream",
     "text": [
      "Описательные статистики для датафреймов train и test\n"
     ]
    },
    {
     "data": {
      "text/html": [
       "<div>\n",
       "<style scoped>\n",
       "    .dataframe tbody tr th:only-of-type {\n",
       "        vertical-align: middle;\n",
       "    }\n",
       "\n",
       "    .dataframe tbody tr th {\n",
       "        vertical-align: top;\n",
       "    }\n",
       "\n",
       "    .dataframe thead th {\n",
       "        text-align: right;\n",
       "    }\n",
       "</style>\n",
       "<table border=\"1\" class=\"dataframe\">\n",
       "  <thead>\n",
       "    <tr style=\"text-align: right;\">\n",
       "      <th></th>\n",
       "      <th>train</th>\n",
       "      <th>test</th>\n",
       "    </tr>\n",
       "  </thead>\n",
       "  <tbody>\n",
       "    <tr>\n",
       "      <td>count</td>\n",
       "      <td>14547.000000</td>\n",
       "      <td>5077.000000</td>\n",
       "    </tr>\n",
       "    <tr>\n",
       "      <td>mean</td>\n",
       "      <td>60.315544</td>\n",
       "      <td>55.024715</td>\n",
       "    </tr>\n",
       "    <tr>\n",
       "      <td>std</td>\n",
       "      <td>23.039030</td>\n",
       "      <td>14.761314</td>\n",
       "    </tr>\n",
       "    <tr>\n",
       "      <td>min</td>\n",
       "      <td>9.659576</td>\n",
       "      <td>0.046369</td>\n",
       "    </tr>\n",
       "    <tr>\n",
       "      <td>25%</td>\n",
       "      <td>48.961986</td>\n",
       "      <td>43.850534</td>\n",
       "    </tr>\n",
       "    <tr>\n",
       "      <td>50%</td>\n",
       "      <td>55.413104</td>\n",
       "      <td>50.277786</td>\n",
       "    </tr>\n",
       "    <tr>\n",
       "      <td>75%</td>\n",
       "      <td>66.417230</td>\n",
       "      <td>61.805597</td>\n",
       "    </tr>\n",
       "    <tr>\n",
       "      <td>max</td>\n",
       "      <td>484.967466</td>\n",
       "      <td>190.837404</td>\n",
       "    </tr>\n",
       "  </tbody>\n",
       "</table>\n",
       "</div>"
      ],
      "text/plain": [
       "              train         test\n",
       "count  14547.000000  5077.000000\n",
       "mean      60.315544    55.024715\n",
       "std       23.039030    14.761314\n",
       "min        9.659576     0.046369\n",
       "25%       48.961986    43.850534\n",
       "50%       55.413104    50.277786\n",
       "75%       66.417230    61.805597\n",
       "max      484.967466   190.837404"
      ]
     },
     "metadata": {},
     "output_type": "display_data"
    },
    {
     "name": "stdout",
     "output_type": "stream",
     "text": [
      "Графики распределения  rougher.input.feed_size  для датафреймов train и test\n"
     ]
    },
    {
     "data": {
      "image/png": "[encoded data removed]",
      "text/plain": [
       "<Figure size 432x288 with 1 Axes>"
      ]
     },
     "metadata": {
      "needs_background": "light"
     },
     "output_type": "display_data"
    },
    {
     "name": "stdout",
     "output_type": "stream",
     "text": [
      "Диаграммы размаха для  rougher.input.feed_size  для датафреймов train и test\n"
     ]
    },
    {
     "data": {
      "image/png": "[encoded data removed]",
      "text/plain": [
       "<Figure size 432x288 with 1 Axes>"
      ]
     },
     "metadata": {
      "needs_background": "light"
     },
     "output_type": "display_data"
    },
    {
     "data": {
      "image/png": "[encoded data removed]",
      "text/plain": [
       "<Figure size 432x288 with 1 Axes>"
      ]
     },
     "metadata": {
      "needs_background": "light"
     },
     "output_type": "display_data"
    }
   ],
   "source": [
    "def print_boxplot(data1,data2, column,data1_name,data2_name,showflier):\n",
    "    if showflier == True:\n",
    "        tail = ' с выбросами'\n",
    "    else:\n",
    "        tail = ' без выбросов'    \n",
    "    plt.boxplot([data1[column], data2[column]], showfliers = showflier)\n",
    "    plt.title('Диаграмма размаха для '+column+tail)\n",
    "    plt.legend([data1_name,data2_name])\n",
    "    plt.xticks(np.arange(3),[0,data1_name,data2_name])\n",
    "    plt.ylabel(column)\n",
    "    plt.show()\n",
    "def create_describes(data1,data2, column,data1_name,data2_name):\n",
    "    describe1 = data1[column].describe()\n",
    "    describe2 = data2[column].describe()\n",
    "    decribes = pd.DataFrame({data1_name:describe1,data2_name:describe2})\n",
    "    print('Описательные статистики для датафреймов '+data1_name+' и '+data2_name)\n",
    "    display(decribes)\n",
    "\n",
    "    \n",
    "def print_distr(data1,data2, column,data1_name,data2_name):\n",
    "    create_describes(data1,data2, column,data1_name,data2_name)\n",
    "    print('Графики распределения ',column,' для датафреймов '+data1_name+' и '+data2_name)\n",
    "    sns.distplot(data1[column], label = data1_name)\n",
    "    sns.distplot(data2[column], label = data2_name)\n",
    "    plt.title('Распределения для '+column+' для датафреймов '+data1_name+' и '+data2_name)\n",
    "    plt.legend()\n",
    "    plt.show()\n",
    "    print('Диаграммы размаха для ',column,' для датафреймов '+data1_name+' и '+data2_name)\n",
    "    print_boxplot(data1,data2, column,data1_name,data2_name,True)\n",
    "    print_boxplot(data1,data2, column,data1_name,data2_name,False)\n",
    "    \n",
    "print_distr(gold_recovery_train,gold_recovery_test,'rougher.input.feed_size','train','test')\n",
    "\n",
    "#print_distr(gold_recovery_test,'rougher.input.feed_size')"
   ]
  },
  {
   "cell_type": "markdown",
   "metadata": {},
   "source": [
    "Как можно видеть, распределения гранул сырья на обучющей и тестовой выборке очень похожи. Все основные показатели очень близки по значению, погрешность может быть таже обусловлена разным размером выборок. Графики распределений практически накладываются друг на друга.Судя по графикам, а также досаточной близости среднего и медианного значений, распределения похожи на нормальное. Также на диаграммах размаха видно, что значения всех квартилей достаточно близки, также близки границы статистически значимой выборки. Погрешность все также может быть вызвана, в том числе, большой разницей в размерах выборки. <br>\n",
    "Так как распределени не сильно отличаются друг от друга, то на этих данных можно проводить оценку модели"
   ]
  },
  {
   "cell_type": "markdown",
   "metadata": {},
   "source": [
    "<h3>Исследование суммарной концентрации веществ на каждой стадии</h3>"
   ]
  },
  {
   "cell_type": "code",
   "execution_count": 404,
   "metadata": {},
   "outputs": [],
   "source": [
    "def print_distplot_and_boxplot(data,data_name,stage_name):\n",
    "    print('Диаграммы распределения для стадии '+stage_name+' на выборке '+data_name)\n",
    "    plt.subplot(1,2,1)\n",
    "    plt.hist(data)\n",
    "    plt.xlabel('Общая концентрация металлов')\n",
    "    plt.ylabel('Количество значений')\n",
    "    plt.title('Гистограмма')\n",
    "    plt.subplot(1,2,2)\n",
    "    plt.boxplot(data, showfliers = True)\n",
    "    plt.title('Диаграмма размаха')\n",
    "    plt.tight_layout()\n",
    "    plt.show()\n",
    "    quantile_1 = data.quantile(q=0.25)\n",
    "    quantile_2 = data.quantile(q=0.75)\n",
    "    print('Границы статистически значимой выборки: ',quantile_1 - 1.5*(quantile_2 - quantile_1),' - ',quantile_2 + 1.5*(quantile_2 - quantile_1))\n",
    "    \n",
    "def count_sum_concentrate(data1,data2, stage,data1_name,data2_name,stage_name):\n",
    "    au_conc_col = stage+'au'\n",
    "    ag_conc_col = stage+'ag'\n",
    "    pb_conc_col = stage+'pb'\n",
    "    total_conc_col = 'total_'+stage+'_conc'\n",
    "    if not (data2 is None):\n",
    "        data1[total_conc_col] = data1[au_conc_col] + data1[ag_conc_col] +data1[pb_conc_col]\n",
    "        data2[total_conc_col] = data2[au_conc_col] + data2[ag_conc_col] +data2[pb_conc_col]\n",
    "        create_describes(data1,data2, total_conc_col,data1_name,data2_name)\n",
    "        print()\n",
    "        print('\\033[1m'+'Диаграммы распределения на выборке '+data1_name+'\\033[0m')\n",
    "        print_distplot_and_boxplot(data1[total_conc_col],data1_name,stage_name)\n",
    "        print()\n",
    "        print('\\033[1m'+'Диаграммы распределения на выборке '+data2_name+'\\033[0m')\n",
    "        print_distplot_and_boxplot(data2[total_conc_col],data2_name,stage_name)\n",
    "    else:\n",
    "        data1[total_conc_col] = data1[au_conc_col] + data1[ag_conc_col] +data1[pb_conc_col]\n",
    "        print('Описательная статистика для ',data1_name,' на этапе ',stage_name)\n",
    "        display(data1[total_conc_col].describe())\n",
    "        print()\n",
    "        print('\\033[1m'+'Диаграммы распределения на выборке '+data1_name+'\\033[0m')\n",
    "        print_distplot_and_boxplot(data1[total_conc_col],data1_name,stage_name)\n"
   ]
  },
  {
   "cell_type": "markdown",
   "metadata": {},
   "source": [
    "<h4>Исследование суммарной концентрации металлов в исходном сырье</h4>"
   ]
  },
  {
   "cell_type": "code",
   "execution_count": 405,
   "metadata": {},
   "outputs": [
    {
     "name": "stdout",
     "output_type": "stream",
     "text": [
      "Описательные статистики для датафреймов train и test\n"
     ]
    },
    {
     "data": {
      "text/html": [
       "<div>\n",
       "<style scoped>\n",
       "    .dataframe tbody tr th:only-of-type {\n",
       "        vertical-align: middle;\n",
       "    }\n",
       "\n",
       "    .dataframe tbody tr th {\n",
       "        vertical-align: top;\n",
       "    }\n",
       "\n",
       "    .dataframe thead th {\n",
       "        text-align: right;\n",
       "    }\n",
       "</style>\n",
       "<table border=\"1\" class=\"dataframe\">\n",
       "  <thead>\n",
       "    <tr style=\"text-align: right;\">\n",
       "      <th></th>\n",
       "      <th>train</th>\n",
       "      <th>test</th>\n",
       "    </tr>\n",
       "  </thead>\n",
       "  <tbody>\n",
       "    <tr>\n",
       "      <td>count</td>\n",
       "      <td>14547.000000</td>\n",
       "      <td>5077.000000</td>\n",
       "    </tr>\n",
       "    <tr>\n",
       "      <td>mean</td>\n",
       "      <td>19.885753</td>\n",
       "      <td>22.665066</td>\n",
       "    </tr>\n",
       "    <tr>\n",
       "      <td>std</td>\n",
       "      <td>4.594155</td>\n",
       "      <td>3.976209</td>\n",
       "    </tr>\n",
       "    <tr>\n",
       "      <td>min</td>\n",
       "      <td>0.030000</td>\n",
       "      <td>5.503477</td>\n",
       "    </tr>\n",
       "    <tr>\n",
       "      <td>25%</td>\n",
       "      <td>16.824003</td>\n",
       "      <td>20.184532</td>\n",
       "    </tr>\n",
       "    <tr>\n",
       "      <td>50%</td>\n",
       "      <td>19.181502</td>\n",
       "      <td>23.123084</td>\n",
       "    </tr>\n",
       "    <tr>\n",
       "      <td>75%</td>\n",
       "      <td>22.564247</td>\n",
       "      <td>25.193813</td>\n",
       "    </tr>\n",
       "    <tr>\n",
       "      <td>max</td>\n",
       "      <td>32.847158</td>\n",
       "      <td>33.498784</td>\n",
       "    </tr>\n",
       "  </tbody>\n",
       "</table>\n",
       "</div>"
      ],
      "text/plain": [
       "              train         test\n",
       "count  14547.000000  5077.000000\n",
       "mean      19.885753    22.665066\n",
       "std        4.594155     3.976209\n",
       "min        0.030000     5.503477\n",
       "25%       16.824003    20.184532\n",
       "50%       19.181502    23.123084\n",
       "75%       22.564247    25.193813\n",
       "max       32.847158    33.498784"
      ]
     },
     "metadata": {},
     "output_type": "display_data"
    },
    {
     "name": "stdout",
     "output_type": "stream",
     "text": [
      "\n",
      "\u001b[1mДиаграммы распределения на выборке train\u001b[0m\n",
      "Диаграммы распределения для стадии исходное сырье на выборке train\n"
     ]
    },
    {
     "data": {
      "image/png": "[encoded data removed]",
      "text/plain": [
       "<Figure size 432x288 with 2 Axes>"
      ]
     },
     "metadata": {
      "needs_background": "light"
     },
     "output_type": "display_data"
    },
    {
     "name": "stdout",
     "output_type": "stream",
     "text": [
      "Границы статистически значимой выборки:  8.213638030867333  -  31.17461233188671\n",
      "\n",
      "\u001b[1mДиаграммы распределения на выборке test\u001b[0m\n",
      "Диаграммы распределения для стадии исходное сырье на выборке test\n"
     ]
    },
    {
     "data": {
      "image/png": "[encoded data removed]",
      "text/plain": [
       "<Figure size 432x288 with 2 Axes>"
      ]
     },
     "metadata": {
      "needs_background": "light"
     },
     "output_type": "display_data"
    },
    {
     "name": "stdout",
     "output_type": "stream",
     "text": [
      "Границы статистически значимой выборки:  12.670610748490299  -  32.707734938714516\n"
     ]
    }
   ],
   "source": [
    "#рассмотрим распределение общей концентрации на стадии исходного сырья    \n",
    "count_sum_concentrate(gold_recovery_train,gold_recovery_test,'rougher.input.feed_','train','test','исходное сырье')"
   ]
  },
  {
   "cell_type": "markdown",
   "metadata": {},
   "source": [
    "<b>Вывод</b><br>\n",
    "Судя по гистограммам, распределения очень похожи на нормальные. Однако, в тренировочной выборке заметен небольшой всплеск около нулевых значений. Эти значения не входят в границы статитистически значимой выборки, и, скорее всего, при таких значениях исходных данных значения на всех остальных этапах также будут близки к нулю. Полагаю, необходимо исключить такие аномальные данные, потому что они не несут особой ценности(как правило, на вход подается все-таки более качественное сырье), а также могут быть причиной переобучения модели.\n",
    "На тестовой выборке таких аномальных всплесков нет"
   ]
  },
  {
   "cell_type": "markdown",
   "metadata": {},
   "source": [
    "<h4>Исследование суммарной концентрации металлов после флотации</h4>"
   ]
  },
  {
   "cell_type": "code",
   "execution_count": 406,
   "metadata": {},
   "outputs": [
    {
     "name": "stdout",
     "output_type": "stream",
     "text": [
      "Описательная статистика для  train  на этапе  после флотации\n"
     ]
    },
    {
     "data": {
      "text/plain": [
       "count    14547.000000\n",
       "mean        38.304723\n",
       "std          8.132903\n",
       "min          0.000000\n",
       "25%         37.773345\n",
       "50%         39.780916\n",
       "75%         41.761143\n",
       "max         55.568687\n",
       "Name: total_rougher.output.concentrate__conc, dtype: float64"
      ]
     },
     "metadata": {},
     "output_type": "display_data"
    },
    {
     "name": "stdout",
     "output_type": "stream",
     "text": [
      "\n",
      "\u001b[1mДиаграммы распределения на выборке train\u001b[0m\n",
      "Диаграммы распределения для стадии после флотации на выборке train\n"
     ]
    },
    {
     "data": {
      "image/png": "[encoded data removed]",
      "text/plain": [
       "<Figure size 432x288 with 2 Axes>"
      ]
     },
     "metadata": {
      "needs_background": "light"
     },
     "output_type": "display_data"
    },
    {
     "name": "stdout",
     "output_type": "stream",
     "text": [
      "Границы статистически значимой выборки:  31.79164864276617  -  47.74283928828873\n"
     ]
    }
   ],
   "source": [
    "#рассмотрим распределение общей концентрации после флотации    \n",
    "count_sum_concentrate(gold_recovery_train,None,'rougher.output.concentrate_','train','test','после флотации')"
   ]
  },
  {
   "cell_type": "markdown",
   "metadata": {},
   "source": [
    "<b>Вывод</b><br>\n",
    "Здесь также обнаруживается заметный всплеск около нулевых значений (потому что такие значения были обнаружены в исходном сырье). Эти значения не входят в границы статистической значимости, но могут приводить модель к переобучению."
   ]
  },
  {
   "cell_type": "markdown",
   "metadata": {},
   "source": [
    "<h4>Исследование суммарной концентрации металла в черновом концентрате</h4>"
   ]
  },
  {
   "cell_type": "code",
   "execution_count": 407,
   "metadata": {},
   "outputs": [
    {
     "name": "stdout",
     "output_type": "stream",
     "text": [
      "Описательная статистика для  train  на этапе  черновой концентрат\n"
     ]
    },
    {
     "data": {
      "text/plain": [
       "count    14547.000000\n",
       "mean        49.823121\n",
       "std          8.739859\n",
       "min          0.000000\n",
       "25%         49.542687\n",
       "50%         51.741382\n",
       "75%         53.416165\n",
       "max         60.269003\n",
       "Name: total_primary_cleaner.output.concentrate__conc, dtype: float64"
      ]
     },
     "metadata": {},
     "output_type": "display_data"
    },
    {
     "name": "stdout",
     "output_type": "stream",
     "text": [
      "\n",
      "\u001b[1mДиаграммы распределения на выборке train\u001b[0m\n",
      "Диаграммы распределения для стадии черновой концентрат на выборке train\n"
     ]
    },
    {
     "data": {
      "image/png": "[encoded data removed]",
      "text/plain": [
       "<Figure size 432x288 with 2 Axes>"
      ]
     },
     "metadata": {
      "needs_background": "light"
     },
     "output_type": "display_data"
    },
    {
     "name": "stdout",
     "output_type": "stream",
     "text": [
      "Границы статистически значимой выборки:  43.73246989844147  -  59.22638184970719\n"
     ]
    }
   ],
   "source": [
    "#рассмотрим распределение общей концентрации в черновом концентрате   \n",
    "count_sum_concentrate(gold_recovery_train,None,'primary_cleaner.output.concentrate_','train','test','черновой концентрат')"
   ]
  },
  {
   "cell_type": "markdown",
   "metadata": {},
   "source": [
    "<b>Вывод</b><br>\n",
    "Здесь также обнаруживается заметный всплеск около нулевых значений (потому что такие значения были обнаружены в исходном сырье), а также довольно длинный \"хвост\" ниже нижней границы статистической значимости (что также может являться следствием низких входных значений). Эти значения не входят в границы статистической значимости, но могут приводить модель к переобучению."
   ]
  },
  {
   "cell_type": "markdown",
   "metadata": {},
   "source": [
    "<h4>Исследование суммарной концентрации металлов в финальном концентрате</h4>"
   ]
  },
  {
   "cell_type": "code",
   "execution_count": 408,
   "metadata": {},
   "outputs": [
    {
     "name": "stdout",
     "output_type": "stream",
     "text": [
      "Описательная статистика для  train  на этапе  финальный концентрат\n"
     ]
    },
    {
     "data": {
      "text/plain": [
       "count    14547.000000\n",
       "mean        58.843744\n",
       "std          7.445616\n",
       "min          0.000000\n",
       "25%         59.158820\n",
       "50%         60.240525\n",
       "75%         61.050918\n",
       "max         64.968881\n",
       "Name: total_final.output.concentrate__conc, dtype: float64"
      ]
     },
     "metadata": {},
     "output_type": "display_data"
    },
    {
     "name": "stdout",
     "output_type": "stream",
     "text": [
      "\n",
      "\u001b[1mДиаграммы распределения на выборке train\u001b[0m\n",
      "Диаграммы распределения для стадии финальный концентрат на выборке train\n"
     ]
    },
    {
     "data": {
      "image/png": "[encoded data removed]",
      "text/plain": [
       "<Figure size 432x288 with 2 Axes>"
      ]
     },
     "metadata": {
      "needs_background": "light"
     },
     "output_type": "display_data"
    },
    {
     "name": "stdout",
     "output_type": "stream",
     "text": [
      "Границы статистически значимой выборки:  56.32067252422167  -  63.889065929928684\n"
     ]
    }
   ],
   "source": [
    "#рассмотрим распределение общей концентрации в черновом концентрате   \n",
    "count_sum_concentrate(gold_recovery_train,None,'final.output.concentrate_','train','test','финальный концентрат')"
   ]
  },
  {
   "cell_type": "markdown",
   "metadata": {},
   "source": [
    "<b>Вывод</b><br>\n",
    "Здесь также обнаруживается заметный всплеск около нулевых значений (потому что такие значения были обнаружены в исходном сырье), а также довольно длинный \"хвост\" ниже нижней границы статистической значимости (что также может являться следствием низких входных значений). Эти значения не входят в границы статистической значимости, но могут приводить модель к переобучению.<br>\n",
    "В целом можно видеть, что небольшой всплеск около нулевых значений в исходном сырье(то есть сырье с нулевой (или близкой к нулевой) концентрцией) приводит к тому, что такой всплеск аномальных значений тянется на всех этапах. <br>\n",
    "Мы можем видеть, что \"хвост\" низких значений концентрации с каждым этапом все длиннее. То есть лишь небольшое количество экспериментов привело к тому, что в финальном концентрате действительно выская концентрация сырья. <br>\n",
    "Ввиду того, что при нулевых или очень низких входных данных мы в любом случае получим нулевые или же очень низкие результирующие данные, поэтому их можно удалить. Они не несут в себе никакой информации, и могут лишь приводить модель к переобучению. "
   ]
  },
  {
   "cell_type": "markdown",
   "metadata": {},
   "source": [
    "<h4>Удаление аномалий</h4>"
   ]
  },
  {
   "cell_type": "markdown",
   "metadata": {},
   "source": [
    "Удалим из _train выборки все строки, где суммарная концентрация металлов в исходном сырье < 0.05% , а также те строки, где просто исходная концентрация золота - нулевая. Как можно видеть, нижняя граница статистической значимости у данных по исходному сырью проходит у свыше 8%, однако,так или иначе туда попадает довольно большое количество значений, которые могут быть важны при построении модели. "
   ]
  },
  {
   "cell_type": "code",
   "execution_count": 409,
   "metadata": {
    "scrolled": true
   },
   "outputs": [
    {
     "name": "stdout",
     "output_type": "stream",
     "text": [
      "Размер датафрейма после удаления:  (14059, 91)\n"
     ]
    }
   ],
   "source": [
    "stages = ['rougher.input.feed_','rougher.output.concentrate_','primary_cleaner.output.concentrate_','final.output.concentrate_']\n",
    "for stage in stages:\n",
    "    #выделим строки, которые будем удалять\n",
    "    gold_recovery_train['to_delete'] = np.where((gold_recovery_train[stage+'au'] + gold_recovery_train[stage+'ag'] + gold_recovery_train[stage+'pb']) < 0.5,1,0)\n",
    "    gold_recovery_train['to_delete'] = np.where((gold_recovery_train[stage+'au']) == 0,1,0)\n",
    "    #удалим ненужные строки\n",
    "    gold_recovery_train = gold_recovery_train[gold_recovery_train['to_delete'] == 0]\n",
    "#удалим вспомогательные столбец\n",
    "gold_recovery_train = gold_recovery_train.drop('to_delete',axis = 1)\n",
    "print('Размер датафрейма после удаления: ',gold_recovery_train.shape)"
   ]
  },
  {
   "cell_type": "markdown",
   "metadata": {},
   "source": [
    "Проверим распределения после удаления столбцов:"
   ]
  },
  {
   "cell_type": "code",
   "execution_count": 410,
   "metadata": {},
   "outputs": [
    {
     "name": "stdout",
     "output_type": "stream",
     "text": [
      "Диаграммы распределения для стадии rougher.input.feed_ на выборке train\n"
     ]
    },
    {
     "data": {
      "image/png": "[encoded data removed]",
      "text/plain": [
       "<Figure size 432x288 with 2 Axes>"
      ]
     },
     "metadata": {
      "needs_background": "light"
     },
     "output_type": "display_data"
    },
    {
     "name": "stdout",
     "output_type": "stream",
     "text": [
      "Границы статистически значимой выборки:  8.109421047632642  -  31.298767785347742\n",
      "\n",
      "Диаграммы распределения для стадии rougher.output.concentrate_ на выборке train\n"
     ]
    },
    {
     "data": {
      "image/png": "[encoded data removed]",
      "text/plain": [
       "<Figure size 432x288 with 2 Axes>"
      ]
     },
     "metadata": {
      "needs_background": "light"
     },
     "output_type": "display_data"
    },
    {
     "name": "stdout",
     "output_type": "stream",
     "text": [
      "Границы статистически значимой выборки:  32.19212200584574  -  47.56430287833363\n",
      "\n",
      "Диаграммы распределения для стадии primary_cleaner.output.concentrate_ на выборке train\n"
     ]
    },
    {
     "data": {
      "image/png": "[encoded data removed]",
      "text/plain": [
       "<Figure size 432x288 with 2 Axes>"
      ]
     },
     "metadata": {
      "needs_background": "light"
     },
     "output_type": "display_data"
    },
    {
     "name": "stdout",
     "output_type": "stream",
     "text": [
      "Границы статистически значимой выборки:  43.90445341930323  -  59.079225962899706\n",
      "\n",
      "Диаграммы распределения для стадии final.output.concentrate_ на выборке train\n"
     ]
    },
    {
     "data": {
      "image/png": "[encoded data removed]",
      "text/plain": [
       "<Figure size 432x288 with 2 Axes>"
      ]
     },
     "metadata": {
      "needs_background": "light"
     },
     "output_type": "display_data"
    },
    {
     "name": "stdout",
     "output_type": "stream",
     "text": [
      "Границы статистически значимой выборки:  56.385787134793205  -  63.83372142658105\n",
      "\n",
      "Размер датафрейма после удаления:  (14059, 87)\n"
     ]
    }
   ],
   "source": [
    "stages = ['rougher.input.feed_','rougher.output.concentrate_','primary_cleaner.output.concentrate_','final.output.concentrate_']\n",
    "for stage in stages:\n",
    "    total_conc_col = 'total_'+stage+'_conc'\n",
    "    stage_au =stage+'au'\n",
    "    gold_recovery_train[total_conc_col] = gold_recovery_train[stage+'au'] + gold_recovery_train[stage+'ag'] + gold_recovery_train[stage+'pb']\n",
    "    print_distplot_and_boxplot(gold_recovery_train[total_conc_col],'train',stage)\n",
    "    #удлим вспомогательные столбцы\n",
    "    gold_recovery_train = gold_recovery_train.drop(total_conc_col,axis = 1)\n",
    "    print()\n",
    "print('Размер датафрейма после удаления: ',gold_recovery_train.shape)"
   ]
  },
  {
   "cell_type": "markdown",
   "metadata": {},
   "source": [
    "<b>Вывод</b><br>\n",
    "Удалены все всплески около нуля, однако можно видеть, что остались еще довольно большие \"хвосты\" у всех распределений на различных этапах переработки. Удалять их не нужно, так как они являются результатом переработки сырья с нормальной концентрацией металлов. <br>\n",
    "Данные готовы к построению модели"
   ]
  },
  {
   "cell_type": "markdown",
   "metadata": {},
   "source": [
    "## Модель"
   ]
  },
  {
   "cell_type": "markdown",
   "metadata": {},
   "source": [
    "<h3>Функция для расчета итогового sMAPE</h3>"
   ]
  },
  {
   "cell_type": "code",
   "execution_count": 411,
   "metadata": {},
   "outputs": [],
   "source": [
    "def smape(target,predictions): #функция для расчета smape\n",
    "    smape_sum = 0\n",
    "    predictions = pd.Series(predictions,index=target.index)\n",
    "    for i in target.index.values:\n",
    "        middle_result = np.abs(target[i] - predictions[i]) / (2*(np.abs(target[i]) + np.abs(predictions[i])))\n",
    "        smape_sum += middle_result\n",
    "    smape = (smape_sum / len(target))\n",
    "    return smape * 100\n",
    "def total_smape(target_rougher,predictions_rougher,target_final,predictions_final): #функция для расчета итогового smape\n",
    "    smape_rougher = smape(target_rougher,predictions_rougher)\n",
    "    smape_final = smape(target_final,predictions_final)\n",
    "    total_smape = 0.25 * smape_rougher + 0.75 * smape_final\n",
    "    return total_smape \n",
    "    "
   ]
  },
  {
   "cell_type": "markdown",
   "metadata": {},
   "source": [
    "<h3>Построение моделей</h3>"
   ]
  },
  {
   "cell_type": "markdown",
   "metadata": {},
   "source": [
    "<h4>Функции для построения моделей</h4>"
   ]
  },
  {
   "cell_type": "markdown",
   "metadata": {},
   "source": [
    "<b>Функция для создания и обучения модели, получения предсказания:</b>"
   ]
  },
  {
   "cell_type": "code",
   "execution_count": 412,
   "metadata": {},
   "outputs": [],
   "source": [
    "def make_model(features_train,target_train,features_valid,target_valid, depth, estimators,model_type):\n",
    "    if model_type == 'LR':\n",
    "        model = LinearRegression()\n",
    "    elif model_type == 'DT':\n",
    "        model = DecisionTreeRegressor(random_state = RANDOM_STATE, max_depth = depth)\n",
    "    elif model_type == 'RF':\n",
    "        model = RandomForestRegressor(random_state = RANDOM_STATE, max_depth = depth, n_estimators = estimators)\n",
    "    model.fit(features_train,target_train)\n",
    "    predictions = model.predict(features_valid)\n",
    "    return model,predictions    \n"
   ]
  },
  {
   "cell_type": "markdown",
   "metadata": {},
   "source": [
    "<b>Функции для построения моделей с оптимальными гиперпараметрами:</b>"
   ]
  },
  {
   "cell_type": "markdown",
   "metadata": {},
   "source": [
    "функция для построения модели линейной регрессии и расчета score (total sMAPE)"
   ]
  },
  {
   "cell_type": "code",
   "execution_count": 413,
   "metadata": {},
   "outputs": [],
   "source": [
    "def find_LinearModel_score(features_rougher_train,target_rougher_train, \n",
    "                           features_rougher_valid,target_rougher_valid,\n",
    "                           features_full_train,target_full_train,\n",
    "                           features_full_valid,target_full_valid):\n",
    "\n",
    "    model_rougher, predictions_rougher = make_model(features_rougher_train,target_rougher_train,features_rougher_valid,target_rougher_valid, None, None, 'LR')\n",
    "    model_full, predictions_full = make_model(features_full_train,target_full_train,features_full_valid,target_full_valid, None, None, 'LR')\n",
    "    score = total_smape(target_rougher_valid,predictions_rougher,target_full_valid,predictions_full)\n",
    "    return score, model_full, predictions_full, model_rougher, predictions_rougher"
   ]
  },
  {
   "cell_type": "markdown",
   "metadata": {},
   "source": [
    "Функция для построения модели дерева решений с оптимальным значением depth"
   ]
  },
  {
   "cell_type": "code",
   "execution_count": 414,
   "metadata": {},
   "outputs": [],
   "source": [
    "def find_DecisionTree_score(features_rougher_train,target_rougher_train,\n",
    "                           features_rougher_valid,target_rougher_valid,\n",
    "                           features_full_train,target_full_train,\n",
    "                           features_full_valid,target_full_valid):\n",
    "    best_score = 100   \n",
    "    for depth in range(1,100):\n",
    "        model_rougher, predictions_rougher = make_model(features_rougher_train,target_rougher_train,features_rougher_valid,target_rougher_valid,depth,None,'DT')\n",
    "        model_full, predictions_full = make_model(features_full_train,target_full_train,features_full_valid,target_full_valid,depth,None,'DT')\n",
    "        score = total_smape(target_rougher_valid,predictions_rougher,target_full_valid,predictions_full)\n",
    "        if score < best_score:\n",
    "            best_score = score\n",
    "            best_model_full = model_full\n",
    "            best_predictions_full = predictions_full\n",
    "            best_model_rougher = model_rougher\n",
    "            best_predictions_rougher = predictions_rougher\n",
    "    return best_score, best_model_full, best_predictions_full, best_model_rougher, best_predictions_rougher"
   ]
  },
  {
   "cell_type": "markdown",
   "metadata": {},
   "source": [
    "Функция для построения модели леса решений с оптимальными гиперпараметрами max_depth и e_estimators"
   ]
  },
  {
   "cell_type": "code",
   "execution_count": 415,
   "metadata": {},
   "outputs": [],
   "source": [
    "def find_RandomForest_score(features_rougher_train,target_rougher_train,\n",
    "                           features_rougher_valid,target_rougher_valid,\n",
    "                           features_full_train,target_full_train,\n",
    "                           features_full_valid,target_full_valid):\n",
    "    best_score = 100\n",
    "    #найдем ниалучшую глубину на малом количестве деревьев\n",
    "    for depth in range(1,100):\n",
    "        model_rougher, predictions_rougher = make_model(features_rougher_train,target_rougher_train,features_rougher_valid,target_rougher_valid,depth,10,'RF')\n",
    "        model_full, predictions_full = make_model(features_full_train,target_full_train,features_full_valid,target_full_valid,depth,10,'RF')\n",
    "        score = total_smape(target_rougher_valid,predictions_rougher,target_full_valid,predictions_full)\n",
    "        if score < best_score:\n",
    "            best_score = score\n",
    "            best_depth = depth\n",
    "    #найдем наилучшее количество деревьев\n",
    "    best_score = 100\n",
    "    for estim in range(10,100,10):\n",
    "        model_rougher, predictions_rougher = make_model(features_rougher_train,target_rougher_train,features_rougher_valid,target_rougher_valid,best_depth,estim,'RF')\n",
    "        model_full, predictions_full = make_model(features_full_train,target_full_train,features_full_valid,target_full_valid,best_depth,estim,'RF')\n",
    "        score = total_smape(target_rougher_valid,predictions_rougher,target_full_valid,predictions_full)\n",
    "        if score < best_score:\n",
    "            best_score = score\n",
    "            best_model_full = model_full\n",
    "            best_predictions_full = predictions_full\n",
    "            best_model_rougher = model_rougher\n",
    "            best_predictions_rougher = predictions_rougher\n",
    "    return best_score, best_model_full, best_predictions_full, best_model_rougher, best_predictions_rougher"
   ]
  },
  {
   "cell_type": "markdown",
   "metadata": {},
   "source": [
    "<h4>Построение моделей и проверка их качества кросс-валидацией</h4>"
   ]
  },
  {
   "cell_type": "markdown",
   "metadata": {},
   "source": [
    "Переиндексируем датафреймы"
   ]
  },
  {
   "cell_type": "code",
   "execution_count": 416,
   "metadata": {},
   "outputs": [
    {
     "name": "stdout",
     "output_type": "stream",
     "text": [
      "<class 'pandas.core.frame.DataFrame'>\n",
      "RangeIndex: 14059 entries, 0 to 14058\n",
      "Data columns (total 87 columns):\n",
      "date                                                  14059 non-null datetime64[ns]\n",
      "final.output.concentrate_ag                           14059 non-null float64\n",
      "final.output.concentrate_pb                           14059 non-null float64\n",
      "final.output.concentrate_sol                          14059 non-null float64\n",
      "final.output.concentrate_au                           14059 non-null float64\n",
      "final.output.recovery                                 14059 non-null float64\n",
      "final.output.tail_ag                                  14059 non-null float64\n",
      "final.output.tail_pb                                  14059 non-null float64\n",
      "final.output.tail_sol                                 14059 non-null float64\n",
      "final.output.tail_au                                  14059 non-null float64\n",
      "primary_cleaner.input.sulfate                         14059 non-null float64\n",
      "primary_cleaner.input.depressant                      14059 non-null float64\n",
      "primary_cleaner.input.feed_size                       14059 non-null float64\n",
      "primary_cleaner.input.xanthate                        14059 non-null float64\n",
      "primary_cleaner.output.concentrate_ag                 14059 non-null float64\n",
      "primary_cleaner.output.concentrate_pb                 14059 non-null float64\n",
      "primary_cleaner.output.concentrate_sol                14059 non-null float64\n",
      "primary_cleaner.output.concentrate_au                 14059 non-null float64\n",
      "primary_cleaner.output.tail_ag                        14059 non-null float64\n",
      "primary_cleaner.output.tail_pb                        14059 non-null float64\n",
      "primary_cleaner.output.tail_sol                       14059 non-null float64\n",
      "primary_cleaner.output.tail_au                        14059 non-null float64\n",
      "primary_cleaner.state.floatbank8_a_air                14059 non-null float64\n",
      "primary_cleaner.state.floatbank8_a_level              14059 non-null float64\n",
      "primary_cleaner.state.floatbank8_b_air                14059 non-null float64\n",
      "primary_cleaner.state.floatbank8_b_level              14059 non-null float64\n",
      "primary_cleaner.state.floatbank8_c_air                14059 non-null float64\n",
      "primary_cleaner.state.floatbank8_c_level              14059 non-null float64\n",
      "primary_cleaner.state.floatbank8_d_air                14059 non-null float64\n",
      "primary_cleaner.state.floatbank8_d_level              14059 non-null float64\n",
      "rougher.calculation.sulfate_to_au_concentrate         14059 non-null float64\n",
      "rougher.calculation.floatbank10_sulfate_to_au_feed    14059 non-null float64\n",
      "rougher.calculation.floatbank11_sulfate_to_au_feed    14059 non-null float64\n",
      "rougher.calculation.au_pb_ratio                       14059 non-null float64\n",
      "rougher.input.feed_ag                                 14059 non-null float64\n",
      "rougher.input.feed_pb                                 14059 non-null float64\n",
      "rougher.input.feed_rate                               14059 non-null float64\n",
      "rougher.input.feed_size                               14059 non-null float64\n",
      "rougher.input.feed_sol                                14059 non-null float64\n",
      "rougher.input.feed_au                                 14059 non-null float64\n",
      "rougher.input.floatbank10_sulfate                     14059 non-null float64\n",
      "rougher.input.floatbank10_xanthate                    14059 non-null float64\n",
      "rougher.input.floatbank11_sulfate                     14059 non-null float64\n",
      "rougher.input.floatbank11_xanthate                    14059 non-null float64\n",
      "rougher.output.concentrate_ag                         14059 non-null float64\n",
      "rougher.output.concentrate_pb                         14059 non-null float64\n",
      "rougher.output.concentrate_sol                        14059 non-null float64\n",
      "rougher.output.concentrate_au                         14059 non-null float64\n",
      "rougher.output.recovery                               14059 non-null float64\n",
      "rougher.output.tail_ag                                14059 non-null float64\n",
      "rougher.output.tail_pb                                14059 non-null float64\n",
      "rougher.output.tail_sol                               14059 non-null float64\n",
      "rougher.output.tail_au                                14059 non-null float64\n",
      "rougher.state.floatbank10_a_air                       14059 non-null float64\n",
      "rougher.state.floatbank10_a_level                     14059 non-null float64\n",
      "rougher.state.floatbank10_b_air                       14059 non-null float64\n",
      "rougher.state.floatbank10_b_level                     14059 non-null float64\n",
      "rougher.state.floatbank10_c_air                       14059 non-null float64\n",
      "rougher.state.floatbank10_c_level                     14059 non-null float64\n",
      "rougher.state.floatbank10_d_air                       14059 non-null float64\n",
      "rougher.state.floatbank10_d_level                     14059 non-null float64\n",
      "rougher.state.floatbank10_e_air                       14059 non-null float64\n",
      "rougher.state.floatbank10_e_level                     14059 non-null float64\n",
      "rougher.state.floatbank10_f_air                       14059 non-null float64\n",
      "rougher.state.floatbank10_f_level                     14059 non-null float64\n",
      "secondary_cleaner.output.tail_ag                      14059 non-null float64\n",
      "secondary_cleaner.output.tail_pb                      14059 non-null float64\n",
      "secondary_cleaner.output.tail_sol                     14059 non-null float64\n",
      "secondary_cleaner.output.tail_au                      14059 non-null float64\n",
      "secondary_cleaner.state.floatbank2_a_air              14059 non-null float64\n",
      "secondary_cleaner.state.floatbank2_a_level            14059 non-null float64\n",
      "secondary_cleaner.state.floatbank2_b_air              14059 non-null float64\n",
      "secondary_cleaner.state.floatbank2_b_level            14059 non-null float64\n",
      "secondary_cleaner.state.floatbank3_a_air              14059 non-null float64\n",
      "secondary_cleaner.state.floatbank3_a_level            14059 non-null float64\n",
      "secondary_cleaner.state.floatbank3_b_air              14059 non-null float64\n",
      "secondary_cleaner.state.floatbank3_b_level            14059 non-null float64\n",
      "secondary_cleaner.state.floatbank4_a_air              14059 non-null float64\n",
      "secondary_cleaner.state.floatbank4_a_level            14059 non-null float64\n",
      "secondary_cleaner.state.floatbank4_b_air              14059 non-null float64\n",
      "secondary_cleaner.state.floatbank4_b_level            14059 non-null float64\n",
      "secondary_cleaner.state.floatbank5_a_air              14059 non-null float64\n",
      "secondary_cleaner.state.floatbank5_a_level            14059 non-null float64\n",
      "secondary_cleaner.state.floatbank5_b_air              14059 non-null float64\n",
      "secondary_cleaner.state.floatbank5_b_level            14059 non-null float64\n",
      "secondary_cleaner.state.floatbank6_a_air              14059 non-null float64\n",
      "secondary_cleaner.state.floatbank6_a_level            14059 non-null float64\n",
      "dtypes: datetime64[ns](1), float64(86)\n",
      "memory usage: 9.3 MB\n",
      "None\n"
     ]
    }
   ],
   "source": [
    "def df_reindex(data):\n",
    "    data = data.drop('date',axis = 1)\n",
    "    data = data.reset_index()\n",
    "    data.rename({'index':'date'},axis = 'columns',inplace = True)\n",
    "    print(data.info())\n",
    "    return data\n",
    "gold_recovery_train = df_reindex(gold_recovery_train)   "
   ]
  },
  {
   "cell_type": "markdown",
   "metadata": {},
   "source": [
    "По условию нам необходимо предсказать эффективность на двух этапах: после флотации и после вторичной очистки. Для того, чтобы отдельно предсказать эффективность после флотации, небходимо выделить соответсвующие колонки в отдельный датасет и для них отдельно делать предсказание. <br>\n",
    "Напишем функции создания нового датафрема из части признаков старого.\n"
   ]
  },
  {
   "cell_type": "code",
   "execution_count": 417,
   "metadata": {},
   "outputs": [
    {
     "name": "stdout",
     "output_type": "stream",
     "text": [
      "(14059, 35)\n"
     ]
    }
   ],
   "source": [
    "def change_columns_list(data,part_column_name, target):\n",
    "    columns_part = []\n",
    "    columns_excl = []\n",
    "    for column in data:\n",
    "        if column.find(part_column_name) >=0:\n",
    "            columns_part.append(column)\n",
    "        else:\n",
    "            columns_excl.append(column)\n",
    "    if target == 'part':\n",
    "        res_data = data[columns_part]\n",
    "    elif target == 'excl':\n",
    "        res_data = data[columns_excl]\n",
    "        \n",
    "    return res_data\n",
    "\n",
    "rougher_columns = change_columns_list(gold_recovery_train,'rougher','part')\n",
    "#выведем общую информацию о полученном датафрейме:\n",
    "print(rougher_columns.shape)"
   ]
  },
  {
   "cell_type": "markdown",
   "metadata": {},
   "source": [
    "Выделим в датафреймах целевые признаки. Известно, что в тестовом датфрейме отсутствуют все колонки output и calculation. Уберем их их из построения модели. "
   ]
  },
  {
   "cell_type": "code",
   "execution_count": 418,
   "metadata": {},
   "outputs": [],
   "source": [
    "#выделим целевой признак и обучающие признаки для rougher.output.recovery\n",
    "target_rougher = rougher_columns['rougher.output.recovery']\n",
    "features_rougher = rougher_columns.drop(['rougher.output.recovery'],axis = 1)\n",
    "\n",
    "features_rougher_like_test = change_columns_list(features_rougher,'output','excl')\n",
    "features_rougher_like_test = change_columns_list(features_rougher_like_test,'calculation','excl')\n",
    "\n",
    "#выделим целевой признак и обучающие признаки для final.output.recovery\n",
    "target_full = gold_recovery_train['final.output.recovery']\n",
    "features_full = gold_recovery_train.drop(['date','rougher.output.recovery','final.output.recovery'],axis = 1)\n",
    "features_full_like_test = change_columns_list(features_full,'output','excl')\n",
    "features_full_like_test = change_columns_list(features_full_like_test,'calculation','excl')\n"
   ]
  },
  {
   "cell_type": "markdown",
   "metadata": {},
   "source": [
    "Напишем функции нахождения оптимальной модели:"
   ]
  },
  {
   "cell_type": "code",
   "execution_count": 419,
   "metadata": {},
   "outputs": [],
   "source": [
    "def get_valid_train(features,target,train_indexes,valid_indexes):#разделяем на тренировочную и валиационную выборки\n",
    "    features_train = features.loc[features.index.isin(train_indexes)]\n",
    "    features_valid = features.loc[features.index.isin(valid_indexes)]\n",
    "    target_train = target.loc[target.index.isin(train_indexes)]\n",
    "    target_valid = target.loc[target.index.isin(valid_indexes)]\n",
    "    return features_train,features_valid,target_train,target_valid\n",
    "\n",
    "#функция для применения кровсс-валидации для оценки качества заданной модели\n",
    "def cross_val_LinearRegression(data, target_rougher, features_rougher, target_full, features_full,model_type):\n",
    "    scores = []\n",
    "    sample_size = int(len(data)/5)\n",
    "    step_nmb = 0\n",
    "    index_arr = data.index.values \n",
    "    for i in range(0, len(data), sample_size):\n",
    "        valid_indexes = index_arr[i:i+sample_size]\n",
    "        train_indexes = np.delete(index_arr,valid_indexes)\n",
    "        \n",
    "        features_rougher_train,features_rougher_valid,target_rougher_train,target_rougher_valid = get_valid_train(features_rougher,target_rougher,train_indexes,valid_indexes)\n",
    "        features_full_train,features_full_valid,target_full_train,target_full_valid = get_valid_train(features_full,target_full,train_indexes,valid_indexes)\n",
    "        \n",
    "        if step_nmb == 0:\n",
    "            if model_type == 'LR':\n",
    "                score, model_full, predictions_full, model_rougher, predictions_rougher = find_LinearModel_score(features_rougher_train,target_rougher_train,features_rougher_valid,target_rougher_valid,features_full_train,target_full_train,features_full_valid,target_full_valid)  \n",
    "            elif model_type == 'DT':\n",
    "                score, model_full, predictions_full, model_rougher, predictions_rougher = find_DecisionTree_score(features_rougher_train,target_rougher_train,features_rougher_valid,target_rougher_valid,features_full_train,target_full_train,features_full_valid,target_full_valid)  \n",
    "            elif model_type == 'RF':\n",
    "                score, model_full, predictions_full, model_rougher, predictions_rougher = find_RandomForest_score(features_rougher_train,target_rougher_train,features_rougher_valid,target_rougher_valid,features_full_train,target_full_train,features_full_valid,target_full_valid)            \n",
    "            step_nmb += 1\n",
    "        else:\n",
    "            rougher_predictions = model_rougher.predict(features_rougher_valid)\n",
    "            full_predictions = model_full.predict(features_full_valid)\n",
    "            score = total_smape(target_rougher_valid,rougher_predictions,target_full_valid,full_predictions)\n",
    "    scores.append(score)\n",
    "    final_score = np.mean(scores)\n",
    "    print('Оценка качества модели: {:2f}%'.format(final_score))\n",
    "    return model_rougher, model_full\n",
    "     \n",
    "        \n",
    "    "
   ]
  },
  {
   "cell_type": "markdown",
   "metadata": {},
   "source": [
    "<h4>Стандартизация данных</h4>"
   ]
  },
  {
   "cell_type": "markdown",
   "metadata": {},
   "source": [
    "напишем функцию стандартизации"
   ]
  },
  {
   "cell_type": "code",
   "execution_count": 420,
   "metadata": {},
   "outputs": [],
   "source": [
    "def standartize(data_train):\n",
    "    indexes = data_train.index\n",
    "    data_train2 = data_train\n",
    "    scaler = StandardScaler()\n",
    "    scaler.fit(data_train2)\n",
    "    data_train_standatrized = pd.DataFrame(scaler.transform(data_train2),index= indexes)\n",
    "    return data_train_standatrized,scaler"
   ]
  },
  {
   "cell_type": "markdown",
   "metadata": {},
   "source": [
    "стандартизируем признаки"
   ]
  },
  {
   "cell_type": "code",
   "execution_count": 421,
   "metadata": {},
   "outputs": [],
   "source": [
    "features_rougher_like_test, scaler_rougher = standartize(features_rougher_like_test)\n",
    "features_full_like_test, scaler_full = standartize(features_full_like_test)"
   ]
  },
  {
   "cell_type": "markdown",
   "metadata": {},
   "source": [
    "<h4>Оценка различых моделей</h4>"
   ]
  },
  {
   "cell_type": "markdown",
   "metadata": {},
   "source": [
    "Оценим модели линейной регрессии"
   ]
  },
  {
   "cell_type": "code",
   "execution_count": 423,
   "metadata": {},
   "outputs": [
    {
     "name": "stdout",
     "output_type": "stream",
     "text": [
      "Оценка модели линейной регрессии на данных без output столбцов\n",
      "Оценка качества модели: 44.780051%\n"
     ]
    }
   ],
   "source": [
    "print('Оценка модели линейной регрессии на данных без output столбцов')\n",
    "LR_LT_model_rougher, LR_LT_model_full =cross_val_LinearRegression(gold_recovery_train, target_rougher, features_rougher_like_test, target_full, features_full_like_test,'LR')"
   ]
  },
  {
   "cell_type": "markdown",
   "metadata": {},
   "source": [
    "Оценим модели дерева решений"
   ]
  },
  {
   "cell_type": "code",
   "execution_count": 424,
   "metadata": {},
   "outputs": [
    {
     "name": "stdout",
     "output_type": "stream",
     "text": [
      "Оценка модели дерева решений на данных без output столбцов\n",
      "Оценка качества модели: 0.762104%\n"
     ]
    }
   ],
   "source": [
    "print('Оценка модели дерева решений на данных без output столбцов')\n",
    "DT_LT_model_rougher, DT_LT_model_full =cross_val_LinearRegression(gold_recovery_train, target_rougher, features_rougher_like_test, target_full, features_full_like_test,'DT')"
   ]
  },
  {
   "cell_type": "markdown",
   "metadata": {},
   "source": [
    "Оценим модели лес решений"
   ]
  },
  {
   "cell_type": "code",
   "execution_count": 425,
   "metadata": {},
   "outputs": [
    {
     "name": "stdout",
     "output_type": "stream",
     "text": [
      "Оценка модели лес решений на данных без output столбцов\n",
      "Оценка качества модели: 0.472589%\n"
     ]
    }
   ],
   "source": [
    "print('Оценка модели лес решений на данных без output столбцов')\n",
    "FR_LT_model_rougher, FR_LT_model_full = cross_val_LinearRegression(gold_recovery_train, target_rougher, features_rougher_like_test, target_full, features_full_like_test,'RF')"
   ]
  },
  {
   "cell_type": "markdown",
   "metadata": {},
   "source": [
    "Наилучшая модель - модель с самым низким значением итогового sMAPE - это модель лес решений. Проверим ее на тестовой выборке"
   ]
  },
  {
   "cell_type": "markdown",
   "metadata": {},
   "source": [
    "<h4>Проверка лучшей модели на тестовой выборке</h4>"
   ]
  },
  {
   "cell_type": "markdown",
   "metadata": {},
   "source": [
    "Для оценки качества предсказания получим значения целевого признака из полной выборки и подготовим признаки из тестовой выборки:"
   ]
  },
  {
   "cell_type": "code",
   "execution_count": 426,
   "metadata": {},
   "outputs": [
    {
     "name": "stdout",
     "output_type": "stream",
     "text": [
      "Информация о features_rougher\n",
      "(5077, 22)\n",
      "\n",
      "Информация о features_final\n",
      "(5077, 52)\n"
     ]
    }
   ],
   "source": [
    "#выделяем целевые признаки\n",
    "target_rougher = gold_recovery_full_test['rougher.output.recovery']\n",
    "target_full = gold_recovery_full_test['final.output.recovery']\n",
    "try:\n",
    "    gold_recovery_test = gold_recovery_test.drop(['date','total_rougher.input.feed__conc'],axis = 1)\n",
    "except:\n",
    "    print('Ненужные столбцы уже удалены')\n",
    "#выделим features:\n",
    "#gold_recovery_test = gold_recovery_test.drop(['date'],axis = 1)\n",
    "features_rougher = change_columns_list(gold_recovery_test,'rougher','part')\n",
    "print('Информация о features_rougher')\n",
    "print(features_rougher.shape)\n",
    "print()\n",
    "print('Информация о features_final')\n",
    "features_final = gold_recovery_test\n",
    "print(gold_recovery_test.shape) \n",
    "\n",
    "#стандартизируем\n",
    "rougher_index = features_rougher.index\n",
    "features_rougher2 = features_rougher\n",
    "features_rougher = pd.DataFrame(scaler_rougher.transform(features_rougher2),index = rougher_index)\n",
    "\n",
    "\n",
    "full_index = features_final.index\n",
    "features_final2 = features_final\n",
    "features_final = pd.DataFrame(scaler_full.transform(features_final2),index = full_index)"
   ]
  },
  {
   "cell_type": "markdown",
   "metadata": {},
   "source": [
    "Проверим лучшую модель на тестовой выборке:"
   ]
  },
  {
   "cell_type": "code",
   "execution_count": 427,
   "metadata": {},
   "outputs": [
    {
     "name": "stdout",
     "output_type": "stream",
     "text": [
      "Оценка качества: 16.839396%\n"
     ]
    }
   ],
   "source": [
    "predictions_rougher = FR_LT_model_rougher.predict(features_rougher)\n",
    "predictions_full =  FR_LT_model_full.predict(features_final)\n",
    "print('Оценка качества: {:2f}%'.format(total_smape(target_rougher,predictions_rougher,target_full,predictions_full)))"
   ]
  },
  {
   "cell_type": "markdown",
   "metadata": {},
   "source": [
    "Качество лучшей модели на тестовой выборке ниже, чем на обучающей выборке. Это говорит о преобучении модели.  "
   ]
  }
 ],
 "metadata": {
  "kernelspec": {
   "display_name": "Python 3",
   "language": "python",
   "name": "python3"
  },
  "language_info": {
   "codemirror_mode": {
    "name": "ipython",
    "version": 3
   },
   "file_extension": ".py",
   "mimetype": "text/x-python",
   "name": "python",
   "nbconvert_exporter": "python",
   "pygments_lexer": "ipython3",
   "version": "3.9.5"
  },
  "toc": {
   "base_numbering": 1,
   "nav_menu": {},
   "number_sections": true,
   "sideBar": true,
   "skip_h1_title": true,
   "title_cell": "Содержание",
   "title_sidebar": "Contents",
   "toc_cell": true,
   "toc_position": {
    "height": "calc(100% - 180px)",
    "left": "10px",
    "top": "150px",
    "width": "304px"
   },
   "toc_section_display": true,
   "toc_window_display": false
  }
 },
 "nbformat": 4,
 "nbformat_minor": 2
}
