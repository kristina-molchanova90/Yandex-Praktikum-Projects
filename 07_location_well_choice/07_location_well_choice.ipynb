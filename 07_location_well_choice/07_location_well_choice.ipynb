{
 "cells": [
  {
   "cell_type": "markdown",
   "metadata": {},
   "source": [
    "# Выбор локации для скважины"
   ]
  },
  {
   "cell_type": "markdown",
   "metadata": {},
   "source": [
    "<b>Краткое описание проекта</b><br>\n",
    "Необходимо определить, локацию для новой скважины для добывающей компании на основании проб нефти в 3 регионах: в каждом 10 000 месторождений, известны данные о качестве нефти и объёме её запасов. \n",
    "Необходимо построить модель машинного обучения, которая поможет определить регион, где добыча принесёт наибольшую прибыль, а также проанализировать возможную прибыль и риски техникой *Bootstrap.*\n",
    "\n",
    "<br>\n",
    "<br>\n",
    "<b>Цель проекта: </b>Определить регион, где добыча принесет максимальную прибыль и где будет минимальный риск убытков<br><br>\n",
    "<b>Задачи проекта:</b><br>\n",
    "<li>Открыть и проанализировать данные. Подгоиовить их к построению модели и анализу</li>\n",
    "<li>Построить модели линейной регрессии для каждого региона, оценить целевые метрики</li>\n",
    "<li>Найти точку безубыточности и посчитать прибыль на построенной модели</li>\n",
    "<li>Провести процедуру бутстрепинга, оценить доверительный интервал и риски убытков</li>\n",
    "<li>Предложить наилучший регион для разработки</li>\n"
   ]
  },
  {
   "cell_type": "markdown",
   "metadata": {},
   "source": [
    "## Загрузка и подготовка данных"
   ]
  },
  {
   "cell_type": "markdown",
   "metadata": {},
   "source": [
    "Сделаем все необходимые имопрты:"
   ]
  },
  {
   "cell_type": "code",
   "execution_count": 1,
   "metadata": {},
   "outputs": [],
   "source": [
    "import pandas as pd\n",
    "import numpy as np\n",
    "from sklearn.linear_model import LinearRegression\n",
    "from sklearn.model_selection import train_test_split\n",
    "from sklearn.metrics import mean_squared_error\n",
    "RANDOM_STATE = 12345\n",
    "WELLS_CHECK_COUNT = 500\n",
    "WELLS_COUNT = 200"
   ]
  },
  {
   "cell_type": "markdown",
   "metadata": {},
   "source": [
    "Откроем и изучим файлы с даннными:"
   ]
  },
  {
   "cell_type": "code",
   "execution_count": 2,
   "metadata": {},
   "outputs": [
    {
     "name": "stdout",
     "output_type": "stream",
     "text": [
      "Информация о файле  geo_data_0\n",
      "\n",
      "Первые  3 строк: \n"
     ]
    },
    {
     "data": {
      "text/html": [
       "<div>\n",
       "<style scoped>\n",
       "    .dataframe tbody tr th:only-of-type {\n",
       "        vertical-align: middle;\n",
       "    }\n",
       "\n",
       "    .dataframe tbody tr th {\n",
       "        vertical-align: top;\n",
       "    }\n",
       "\n",
       "    .dataframe thead th {\n",
       "        text-align: right;\n",
       "    }\n",
       "</style>\n",
       "<table border=\"1\" class=\"dataframe\">\n",
       "  <thead>\n",
       "    <tr style=\"text-align: right;\">\n",
       "      <th></th>\n",
       "      <th>id</th>\n",
       "      <th>f0</th>\n",
       "      <th>f1</th>\n",
       "      <th>f2</th>\n",
       "      <th>product</th>\n",
       "    </tr>\n",
       "  </thead>\n",
       "  <tbody>\n",
       "    <tr>\n",
       "      <td>0</td>\n",
       "      <td>txEyH</td>\n",
       "      <td>0.705745</td>\n",
       "      <td>-0.497823</td>\n",
       "      <td>1.221170</td>\n",
       "      <td>105.280062</td>\n",
       "    </tr>\n",
       "    <tr>\n",
       "      <td>1</td>\n",
       "      <td>2acmU</td>\n",
       "      <td>1.334711</td>\n",
       "      <td>-0.340164</td>\n",
       "      <td>4.365080</td>\n",
       "      <td>73.037750</td>\n",
       "    </tr>\n",
       "    <tr>\n",
       "      <td>2</td>\n",
       "      <td>409Wp</td>\n",
       "      <td>1.022732</td>\n",
       "      <td>0.151990</td>\n",
       "      <td>1.419926</td>\n",
       "      <td>85.265647</td>\n",
       "    </tr>\n",
       "  </tbody>\n",
       "</table>\n",
       "</div>"
      ],
      "text/plain": [
       "      id        f0        f1        f2     product\n",
       "0  txEyH  0.705745 -0.497823  1.221170  105.280062\n",
       "1  2acmU  1.334711 -0.340164  4.365080   73.037750\n",
       "2  409Wp  1.022732  0.151990  1.419926   85.265647"
      ]
     },
     "metadata": {},
     "output_type": "display_data"
    },
    {
     "name": "stdout",
     "output_type": "stream",
     "text": [
      "\n",
      "Общая информация: \n",
      "<class 'pandas.core.frame.DataFrame'>\n",
      "RangeIndex: 100000 entries, 0 to 99999\n",
      "Data columns (total 5 columns):\n",
      "id         100000 non-null object\n",
      "f0         100000 non-null float64\n",
      "f1         100000 non-null float64\n",
      "f2         100000 non-null float64\n",
      "product    100000 non-null float64\n",
      "dtypes: float64(4), object(1)\n",
      "memory usage: 3.8+ MB\n",
      "None\n",
      "\n",
      "Количество дублирующихся строк:  0\n",
      "Количество дублирующихся значений в столбце id 10\n",
      "\n",
      "Строки с дублирующимися значениями в столбце id:\n"
     ]
    },
    {
     "data": {
      "text/html": [
       "<div>\n",
       "<style scoped>\n",
       "    .dataframe tbody tr th:only-of-type {\n",
       "        vertical-align: middle;\n",
       "    }\n",
       "\n",
       "    .dataframe tbody tr th {\n",
       "        vertical-align: top;\n",
       "    }\n",
       "\n",
       "    .dataframe thead th {\n",
       "        text-align: right;\n",
       "    }\n",
       "</style>\n",
       "<table border=\"1\" class=\"dataframe\">\n",
       "  <thead>\n",
       "    <tr style=\"text-align: right;\">\n",
       "      <th></th>\n",
       "      <th>id</th>\n",
       "      <th>f0</th>\n",
       "      <th>f1</th>\n",
       "      <th>f2</th>\n",
       "      <th>product</th>\n",
       "    </tr>\n",
       "  </thead>\n",
       "  <tbody>\n",
       "    <tr>\n",
       "      <td>66136</td>\n",
       "      <td>74z30</td>\n",
       "      <td>1.084962</td>\n",
       "      <td>-0.312358</td>\n",
       "      <td>6.990771</td>\n",
       "      <td>127.643327</td>\n",
       "    </tr>\n",
       "    <tr>\n",
       "      <td>51970</td>\n",
       "      <td>A5aEY</td>\n",
       "      <td>-0.180335</td>\n",
       "      <td>0.935548</td>\n",
       "      <td>-2.094773</td>\n",
       "      <td>33.020205</td>\n",
       "    </tr>\n",
       "    <tr>\n",
       "      <td>69163</td>\n",
       "      <td>AGS9W</td>\n",
       "      <td>-0.933795</td>\n",
       "      <td>0.116194</td>\n",
       "      <td>-3.655896</td>\n",
       "      <td>19.230453</td>\n",
       "    </tr>\n",
       "  </tbody>\n",
       "</table>\n",
       "</div>"
      ],
      "text/plain": [
       "          id        f0        f1        f2     product\n",
       "66136  74z30  1.084962 -0.312358  6.990771  127.643327\n",
       "51970  A5aEY -0.180335  0.935548 -2.094773   33.020205\n",
       "69163  AGS9W -0.933795  0.116194 -3.655896   19.230453"
      ]
     },
     "metadata": {},
     "output_type": "display_data"
    },
    {
     "name": "stdout",
     "output_type": "stream",
     "text": [
      "Матрица корреляции: \n",
      "               f0        f1        f2   product\n",
      "f0       1.000000 -0.440723 -0.003153  0.143536\n",
      "f1      -0.440723  1.000000  0.001724 -0.192356\n",
      "f2      -0.003153  0.001724  1.000000  0.483663\n",
      "product  0.143536 -0.192356  0.483663  1.000000\n"
     ]
    }
   ],
   "source": [
    "def open_file_print_info(filepath,heads,fname): #функция для открытия файлов и вывода общей информации\n",
    "    file = pd.read_csv(filepath)\n",
    "    print('Информация о файле ',fname)\n",
    "    print()\n",
    "    print('Первые ',heads,'строк: ')\n",
    "    display(file.head(heads))\n",
    "    print()\n",
    "    print('Общая информация: ')\n",
    "    print(file.info())\n",
    "    #Проверим, есть ли дублирующиеся значения в  датасете:\n",
    "    print()\n",
    "    print('Количество дублирующихся строк: ',file.duplicated().sum())\n",
    "    print('Количество дублирующихся значений в столбце id',len(file) - len(file['id'].unique()))\n",
    "    print()\n",
    "    print('Строки с дублирующимися значениями в столбце id:')\n",
    "    display(file[file['id'].duplicated() == True].sort_values(by = 'id',ascending = True).head(3))\n",
    "    print('Матрица корреляции: ')\n",
    "    print(file.drop('id',axis=1).corr())\n",
    "    return file\n",
    "geo_data_0 = open_file_print_info('/datasets/geo_data_0.csv',3,'geo_data_0')"
   ]
  },
  {
   "cell_type": "code",
   "execution_count": 3,
   "metadata": {},
   "outputs": [
    {
     "name": "stdout",
     "output_type": "stream",
     "text": [
      "Информация о файле  geo_data_1\n",
      "\n",
      "Первые  3 строк: \n"
     ]
    },
    {
     "data": {
      "text/html": [
       "<div>\n",
       "<style scoped>\n",
       "    .dataframe tbody tr th:only-of-type {\n",
       "        vertical-align: middle;\n",
       "    }\n",
       "\n",
       "    .dataframe tbody tr th {\n",
       "        vertical-align: top;\n",
       "    }\n",
       "\n",
       "    .dataframe thead th {\n",
       "        text-align: right;\n",
       "    }\n",
       "</style>\n",
       "<table border=\"1\" class=\"dataframe\">\n",
       "  <thead>\n",
       "    <tr style=\"text-align: right;\">\n",
       "      <th></th>\n",
       "      <th>id</th>\n",
       "      <th>f0</th>\n",
       "      <th>f1</th>\n",
       "      <th>f2</th>\n",
       "      <th>product</th>\n",
       "    </tr>\n",
       "  </thead>\n",
       "  <tbody>\n",
       "    <tr>\n",
       "      <td>0</td>\n",
       "      <td>kBEdx</td>\n",
       "      <td>-15.001348</td>\n",
       "      <td>-8.276000</td>\n",
       "      <td>-0.005876</td>\n",
       "      <td>3.179103</td>\n",
       "    </tr>\n",
       "    <tr>\n",
       "      <td>1</td>\n",
       "      <td>62mP7</td>\n",
       "      <td>14.272088</td>\n",
       "      <td>-3.475083</td>\n",
       "      <td>0.999183</td>\n",
       "      <td>26.953261</td>\n",
       "    </tr>\n",
       "    <tr>\n",
       "      <td>2</td>\n",
       "      <td>vyE1P</td>\n",
       "      <td>6.263187</td>\n",
       "      <td>-5.948386</td>\n",
       "      <td>5.001160</td>\n",
       "      <td>134.766305</td>\n",
       "    </tr>\n",
       "  </tbody>\n",
       "</table>\n",
       "</div>"
      ],
      "text/plain": [
       "      id         f0        f1        f2     product\n",
       "0  kBEdx -15.001348 -8.276000 -0.005876    3.179103\n",
       "1  62mP7  14.272088 -3.475083  0.999183   26.953261\n",
       "2  vyE1P   6.263187 -5.948386  5.001160  134.766305"
      ]
     },
     "metadata": {},
     "output_type": "display_data"
    },
    {
     "name": "stdout",
     "output_type": "stream",
     "text": [
      "\n",
      "Общая информация: \n",
      "<class 'pandas.core.frame.DataFrame'>\n",
      "RangeIndex: 100000 entries, 0 to 99999\n",
      "Data columns (total 5 columns):\n",
      "id         100000 non-null object\n",
      "f0         100000 non-null float64\n",
      "f1         100000 non-null float64\n",
      "f2         100000 non-null float64\n",
      "product    100000 non-null float64\n",
      "dtypes: float64(4), object(1)\n",
      "memory usage: 3.8+ MB\n",
      "None\n",
      "\n",
      "Количество дублирующихся строк:  0\n",
      "Количество дублирующихся значений в столбце id 4\n",
      "\n",
      "Строки с дублирующимися значениями в столбце id:\n"
     ]
    },
    {
     "data": {
      "text/html": [
       "<div>\n",
       "<style scoped>\n",
       "    .dataframe tbody tr th:only-of-type {\n",
       "        vertical-align: middle;\n",
       "    }\n",
       "\n",
       "    .dataframe tbody tr th {\n",
       "        vertical-align: top;\n",
       "    }\n",
       "\n",
       "    .dataframe thead th {\n",
       "        text-align: right;\n",
       "    }\n",
       "</style>\n",
       "<table border=\"1\" class=\"dataframe\">\n",
       "  <thead>\n",
       "    <tr style=\"text-align: right;\">\n",
       "      <th></th>\n",
       "      <th>id</th>\n",
       "      <th>f0</th>\n",
       "      <th>f1</th>\n",
       "      <th>f2</th>\n",
       "      <th>product</th>\n",
       "    </tr>\n",
       "  </thead>\n",
       "  <tbody>\n",
       "    <tr>\n",
       "      <td>84461</td>\n",
       "      <td>5ltQ6</td>\n",
       "      <td>18.213839</td>\n",
       "      <td>2.191999</td>\n",
       "      <td>3.993869</td>\n",
       "      <td>107.813044</td>\n",
       "    </tr>\n",
       "    <tr>\n",
       "      <td>41906</td>\n",
       "      <td>LHZR0</td>\n",
       "      <td>-8.989672</td>\n",
       "      <td>-4.286607</td>\n",
       "      <td>2.009139</td>\n",
       "      <td>57.085625</td>\n",
       "    </tr>\n",
       "    <tr>\n",
       "      <td>82178</td>\n",
       "      <td>bfPNe</td>\n",
       "      <td>-6.202799</td>\n",
       "      <td>-4.820045</td>\n",
       "      <td>2.995107</td>\n",
       "      <td>84.038886</td>\n",
       "    </tr>\n",
       "  </tbody>\n",
       "</table>\n",
       "</div>"
      ],
      "text/plain": [
       "          id         f0        f1        f2     product\n",
       "84461  5ltQ6  18.213839  2.191999  3.993869  107.813044\n",
       "41906  LHZR0  -8.989672 -4.286607  2.009139   57.085625\n",
       "82178  bfPNe  -6.202799 -4.820045  2.995107   84.038886"
      ]
     },
     "metadata": {},
     "output_type": "display_data"
    },
    {
     "name": "stdout",
     "output_type": "stream",
     "text": [
      "Матрица корреляции: \n",
      "               f0        f1        f2   product\n",
      "f0       1.000000  0.182287 -0.001777 -0.030491\n",
      "f1       0.182287  1.000000 -0.002595 -0.010155\n",
      "f2      -0.001777 -0.002595  1.000000  0.999397\n",
      "product -0.030491 -0.010155  0.999397  1.000000\n"
     ]
    }
   ],
   "source": [
    "geo_data_1 = open_file_print_info('/datasets/geo_data_1.csv',3,'geo_data_1')"
   ]
  },
  {
   "cell_type": "code",
   "execution_count": 4,
   "metadata": {},
   "outputs": [
    {
     "name": "stdout",
     "output_type": "stream",
     "text": [
      "Информация о файле  geo_data_2\n",
      "\n",
      "Первые  3 строк: \n"
     ]
    },
    {
     "data": {
      "text/html": [
       "<div>\n",
       "<style scoped>\n",
       "    .dataframe tbody tr th:only-of-type {\n",
       "        vertical-align: middle;\n",
       "    }\n",
       "\n",
       "    .dataframe tbody tr th {\n",
       "        vertical-align: top;\n",
       "    }\n",
       "\n",
       "    .dataframe thead th {\n",
       "        text-align: right;\n",
       "    }\n",
       "</style>\n",
       "<table border=\"1\" class=\"dataframe\">\n",
       "  <thead>\n",
       "    <tr style=\"text-align: right;\">\n",
       "      <th></th>\n",
       "      <th>id</th>\n",
       "      <th>f0</th>\n",
       "      <th>f1</th>\n",
       "      <th>f2</th>\n",
       "      <th>product</th>\n",
       "    </tr>\n",
       "  </thead>\n",
       "  <tbody>\n",
       "    <tr>\n",
       "      <td>0</td>\n",
       "      <td>fwXo0</td>\n",
       "      <td>-1.146987</td>\n",
       "      <td>0.963328</td>\n",
       "      <td>-0.828965</td>\n",
       "      <td>27.758673</td>\n",
       "    </tr>\n",
       "    <tr>\n",
       "      <td>1</td>\n",
       "      <td>WJtFt</td>\n",
       "      <td>0.262778</td>\n",
       "      <td>0.269839</td>\n",
       "      <td>-2.530187</td>\n",
       "      <td>56.069697</td>\n",
       "    </tr>\n",
       "    <tr>\n",
       "      <td>2</td>\n",
       "      <td>ovLUW</td>\n",
       "      <td>0.194587</td>\n",
       "      <td>0.289035</td>\n",
       "      <td>-5.586433</td>\n",
       "      <td>62.871910</td>\n",
       "    </tr>\n",
       "  </tbody>\n",
       "</table>\n",
       "</div>"
      ],
      "text/plain": [
       "      id        f0        f1        f2    product\n",
       "0  fwXo0 -1.146987  0.963328 -0.828965  27.758673\n",
       "1  WJtFt  0.262778  0.269839 -2.530187  56.069697\n",
       "2  ovLUW  0.194587  0.289035 -5.586433  62.871910"
      ]
     },
     "metadata": {},
     "output_type": "display_data"
    },
    {
     "name": "stdout",
     "output_type": "stream",
     "text": [
      "\n",
      "Общая информация: \n",
      "<class 'pandas.core.frame.DataFrame'>\n",
      "RangeIndex: 100000 entries, 0 to 99999\n",
      "Data columns (total 5 columns):\n",
      "id         100000 non-null object\n",
      "f0         100000 non-null float64\n",
      "f1         100000 non-null float64\n",
      "f2         100000 non-null float64\n",
      "product    100000 non-null float64\n",
      "dtypes: float64(4), object(1)\n",
      "memory usage: 3.8+ MB\n",
      "None\n",
      "\n",
      "Количество дублирующихся строк:  0\n",
      "Количество дублирующихся значений в столбце id 4\n",
      "\n",
      "Строки с дублирующимися значениями в столбце id:\n"
     ]
    },
    {
     "data": {
      "text/html": [
       "<div>\n",
       "<style scoped>\n",
       "    .dataframe tbody tr th:only-of-type {\n",
       "        vertical-align: middle;\n",
       "    }\n",
       "\n",
       "    .dataframe tbody tr th {\n",
       "        vertical-align: top;\n",
       "    }\n",
       "\n",
       "    .dataframe thead th {\n",
       "        text-align: right;\n",
       "    }\n",
       "</style>\n",
       "<table border=\"1\" class=\"dataframe\">\n",
       "  <thead>\n",
       "    <tr style=\"text-align: right;\">\n",
       "      <th></th>\n",
       "      <th>id</th>\n",
       "      <th>f0</th>\n",
       "      <th>f1</th>\n",
       "      <th>f2</th>\n",
       "      <th>product</th>\n",
       "    </tr>\n",
       "  </thead>\n",
       "  <tbody>\n",
       "    <tr>\n",
       "      <td>55967</td>\n",
       "      <td>KUPhW</td>\n",
       "      <td>1.211150</td>\n",
       "      <td>3.176408</td>\n",
       "      <td>5.543540</td>\n",
       "      <td>132.831802</td>\n",
       "    </tr>\n",
       "    <tr>\n",
       "      <td>49564</td>\n",
       "      <td>VF7Jo</td>\n",
       "      <td>-0.883115</td>\n",
       "      <td>0.560537</td>\n",
       "      <td>0.723601</td>\n",
       "      <td>136.233420</td>\n",
       "    </tr>\n",
       "    <tr>\n",
       "      <td>95090</td>\n",
       "      <td>Vcm5J</td>\n",
       "      <td>2.587702</td>\n",
       "      <td>1.986875</td>\n",
       "      <td>2.482245</td>\n",
       "      <td>92.327572</td>\n",
       "    </tr>\n",
       "  </tbody>\n",
       "</table>\n",
       "</div>"
      ],
      "text/plain": [
       "          id        f0        f1        f2     product\n",
       "55967  KUPhW  1.211150  3.176408  5.543540  132.831802\n",
       "49564  VF7Jo -0.883115  0.560537  0.723601  136.233420\n",
       "95090  Vcm5J  2.587702  1.986875  2.482245   92.327572"
      ]
     },
     "metadata": {},
     "output_type": "display_data"
    },
    {
     "name": "stdout",
     "output_type": "stream",
     "text": [
      "Матрица корреляции: \n",
      "               f0        f1        f2   product\n",
      "f0       1.000000  0.000528 -0.000448 -0.001987\n",
      "f1       0.000528  1.000000  0.000779 -0.001012\n",
      "f2      -0.000448  0.000779  1.000000  0.445871\n",
      "product -0.001987 -0.001012  0.445871  1.000000\n"
     ]
    }
   ],
   "source": [
    "geo_data_2 = open_file_print_info('/datasets/geo_data_2.csv',3,'geo_data_2')"
   ]
  },
  {
   "cell_type": "markdown",
   "metadata": {},
   "source": [
    "Все файлы с данными содержат информацию одинаковой структуры: данные по скважинам. Все данные (за исключеним id) - числовые, типы данных совпадают во всех трех файлах, пропусков нет. Можно видеть, что в каждом регионе есть несколько повторяющихся идентификаторов: вероятнее всего, данные по этим скважинам были внесены в несколько строк (однако, возможно, и ошибка в присвоении идентификаторов). Ввиду того, что совершенно неизвестно, что означают признаки f1, f2, f3, производить какие-либо математические операции над ними не стоит (вероятнее всего, конечно, сумма, но утверждать этого однозначно мы не можем). Поэтому оставим данные как есть.\n",
    "<br>\n",
    "можно видеть, что в регионе 1 наблюдается очень высокая корреляция признака f2 с целевым параметром. В остальных регионах корреляция с этим признаком намного ниже (чуть меньше 0.5), также можно видеть,что в регионах 1 и 2 корреляция признаков f0 и f1 отрицтельна по отношению к целевому и низка по модулю, но в регионе 0 корееляция признака f0 с целевым положительная и значительно выше по модулю. Можно точно сказать, что влияние признаков в указанных трех регионах различно. Значит и модели получатся разными. Признак f2 во всех трех регионах самый \"весомый\".\n",
    "<br>\n",
    "Теперь данные готовы к обучению"
   ]
  },
  {
   "cell_type": "markdown",
   "metadata": {},
   "source": [
    "## Обучение и проверка модели"
   ]
  },
  {
   "cell_type": "markdown",
   "metadata": {},
   "source": [
    "Разделим выборку на тренировочную и валидационную. Целевой признак для модели - product"
   ]
  },
  {
   "cell_type": "code",
   "execution_count": 5,
   "metadata": {},
   "outputs": [
    {
     "name": "stdout",
     "output_type": "stream",
     "text": [
      "Результаты разделения выборки на тренировочную и валидационную для датасета:  geo_data_0\n",
      "Размер тренировочной выборки:  75000\n",
      "Размер тестовой выборки:  25000\n",
      "Размер тренировочной выборки по отношению ко всей выборке:  0.75\n",
      "Размер тестовой выборки по отношению ко всей выборке:  0.25\n",
      "\n",
      "Метрики по результатам работы модели\n",
      "R2:  0.27994321524487786\n",
      "Средний запас сырья на валидационной выборке: 92.07859674082927\n",
      "Средний  запас предсказанного сырья: 92.59256778438038\n",
      "RMSE =  37.5794217150813\n"
     ]
    }
   ],
   "source": [
    "def train_test_split_func(geo_data,filename): #функция разделения выборки на обучающую и валидационную\n",
    "    geo_features = geo_data.drop(['product','id'], axis = 1)\n",
    "    geo_target = geo_data['product']\n",
    "    geo_features_train, geo_features_valid, geo_target_train, geo_target_valid = train_test_split(geo_features, geo_target, test_size = 0.25, random_state = RANDOM_STATE)\n",
    "    print('Результаты разделения выборки на тренировочную и валидационную для датасета: ',filename)\n",
    "    print('Размер тренировочной выборки: ', geo_features_train.shape[0])\n",
    "    print('Размер тестовой выборки: ', geo_features_valid.shape[0])\n",
    "    print('Размер тренировочной выборки по отношению ко всей выборке: ', geo_features_train.shape[0] / geo_features.shape[0])\n",
    "    print('Размер тестовой выборки по отношению ко всей выборке: ', geo_features_valid.shape[0] / geo_features.shape[0])\n",
    "    return geo_features_train, geo_features_valid, geo_target_train, geo_target_valid\n",
    "\n",
    "def make_linear_model(geo_data,filename):\n",
    "    #разделим выборки на обучающую и валидационную\n",
    "    geo_features_train, geo_features_valid, geo_target_train, geo_target_valid = train_test_split_func(geo_data,filename)\n",
    "    #создадим и обучим модель, посчитаем предсказания\n",
    "    model = LinearRegression()\n",
    "    model.fit(geo_features_train, geo_target_train)\n",
    "    geo_prediction = model.predict(geo_features_valid)\n",
    "    #Посчитаем и выведем метрики\n",
    "    RMSE = np.sqrt(mean_squared_error(geo_target_valid, geo_prediction))\n",
    "    print()\n",
    "    print('Метрики по результатам работы модели')\n",
    "    print('R2: ',model.score(geo_features_valid, geo_target_valid))\n",
    "    print('Средний запас сырья на валидационной выборке:', geo_target_valid.mean())\n",
    "    print('Средний  запас предсказанного сырья:', geo_prediction.mean())\n",
    "    print('RMSE = ', RMSE)\n",
    "    geo_prediction = pd.Series(geo_prediction,index = geo_target_valid.index)\n",
    "    return model, geo_prediction, geo_target_valid\n",
    "\n",
    "#создадим модель для geo_data_0\n",
    "geo_linear_model_0, geo_prediction_0, geo_target_valid_0 = make_linear_model(geo_data_0,'geo_data_0')"
   ]
  },
  {
   "cell_type": "code",
   "execution_count": 6,
   "metadata": {},
   "outputs": [
    {
     "name": "stdout",
     "output_type": "stream",
     "text": [
      "Результаты разделения выборки на тренировочную и валидационную для датасета:  geo_data_1\n",
      "Размер тренировочной выборки:  75000\n",
      "Размер тестовой выборки:  25000\n",
      "Размер тренировочной выборки по отношению ко всей выборке:  0.75\n",
      "Размер тестовой выборки по отношению ко всей выборке:  0.25\n",
      "\n",
      "Метрики по результатам работы модели\n",
      "R2:  0.9996233978805126\n",
      "Средний запас сырья на валидационной выборке: 68.72313602435997\n",
      "Средний  запас предсказанного сырья: 68.728546895446\n",
      "RMSE =  0.893099286775616\n"
     ]
    }
   ],
   "source": [
    "#создадим модель для geo_data_1\n",
    "geo_linear_model_1, geo_prediction_1, geo_target_valid_1 = make_linear_model(geo_data_1,'geo_data_1')"
   ]
  },
  {
   "cell_type": "markdown",
   "metadata": {},
   "source": [
    "Обучим модель, посчитаем RMSE и средний заппас предсказанного сырья"
   ]
  },
  {
   "cell_type": "code",
   "execution_count": 7,
   "metadata": {},
   "outputs": [
    {
     "name": "stdout",
     "output_type": "stream",
     "text": [
      "Результаты разделения выборки на тренировочную и валидационную для датасета:  geo_data_2\n",
      "Размер тренировочной выборки:  75000\n",
      "Размер тестовой выборки:  25000\n",
      "Размер тренировочной выборки по отношению ко всей выборке:  0.75\n",
      "Размер тестовой выборки по отношению ко всей выборке:  0.25\n",
      "\n",
      "Метрики по результатам работы модели\n",
      "R2:  0.20524758386040443\n",
      "Средний запас сырья на валидационной выборке: 94.88423280885438\n",
      "Средний  запас предсказанного сырья: 94.96504596800489\n",
      "RMSE =  40.02970873393434\n"
     ]
    }
   ],
   "source": [
    "#создадим модель для geo_data_2\n",
    "geo_linear_model_2, geo_prediction_2, geo_target_valid_2 = make_linear_model(geo_data_2,'geo_data_2')"
   ]
  },
  {
   "cell_type": "markdown",
   "metadata": {},
   "source": [
    "<b>Вывод</b><br>\n",
    "Средний запас предсказанного сырья практически равен среднему запасу сырья на валидационной выборке, это верно для всех моделей. <br>\n",
    "Можно видеть, что в регионах geo_data_0 и geo_data_2 довольно высокие (по сравнению с geo_data_1) значения среднего запаса сырья, при этом здесь же и разброс гораздо выше. То есть именно в этих регионах должны быть самые прибыльные шахты. В goe_data_1 средний запас горздо ниже и разброс меньше. <br> \n",
    "При этом качество модели гораздо выше и для geo_data_0, и для geo_data_0, чем для geo_data_1. Однако все модели лучше средних.\n",
    "<br>\n",
    "Перейдем к расчету прибыли"
   ]
  },
  {
   "cell_type": "markdown",
   "metadata": {},
   "source": [
    "## Подготовка к расчёту прибыли"
   ]
  },
  {
   "cell_type": "markdown",
   "metadata": {},
   "source": [
    "Посчитем необходимые для расчета прибыли переменные:"
   ]
  },
  {
   "cell_type": "code",
   "execution_count": 8,
   "metadata": {},
   "outputs": [
    {
     "name": "stdout",
     "output_type": "stream",
     "text": [
      "Затраты на разработку одной скважины, руб:  50000000.0\n",
      "Доход от тысячи баррелей, руб:  450000\n",
      "Точка безубыточности: минимальный объем, тыс баррелей:  111.11111111111111\n",
      "Отношение среднего объема добываемой нефти (по региону geo_data_0) ко значению в точке безубыточности:  0.8325000000000001\n",
      "Отношение среднего объема добываемой нефти (по региону geo_data_1) ко значению в точке безубыточности:  0.6194250000000001\n",
      "Отношение среднего объема добываемой нефти (по региону geo_data_2) ко значению в точке безубыточности:  0.8550000000000003\n"
     ]
    }
   ],
   "source": [
    "#расчитаем затраты на бурение одной скважины. Известно, что общий бюджет на разработку скважин - 10 млр.руб, \n",
    "#а разрабатывают 200 скважин. Тогда затраты на разработку одной скважины (используем константу WELLS_COUNT):\n",
    "drilling_costs = 10000000000 / WELLS_COUNT\n",
    "#по условию задачи известно, что доход от тысячи баррелей- 450000 рублей. Объявим в переменной\n",
    "barrel_income = 450000\n",
    "#Посчитаем точку безубыточности: минимальный объем в скважине, при котором компания не несет убытки (т.е. прибыль равна нулю). \n",
    "min_vol = drilling_costs / barrel_income\n",
    "\n",
    "#выведем на экран полученные значения:\n",
    "print('Затраты на разработку одной скважины, руб: ', drilling_costs)\n",
    "print('Доход от тысячи баррелей, руб: ', barrel_income)\n",
    "print('Точка безубыточности: минимальный объем, тыс баррелей: ', min_vol)\n",
    "print('Отношение среднего объема добываемой нефти (по региону geo_data_0) ко значению в точке безубыточности: ', geo_data_0['product'].mean() / min_vol)\n",
    "print('Отношение среднего объема добываемой нефти (по региону geo_data_1) ко значению в точке безубыточности: ', geo_data_1['product'].mean() / min_vol)\n",
    "print('Отношение среднего объема добываемой нефти (по региону geo_data_2) ко значению в точке безубыточности: ', geo_data_2['product'].mean() / min_vol)\n"
   ]
  },
  {
   "cell_type": "markdown",
   "metadata": {},
   "source": [
    "<b>Вывод</b><br>\n",
    "Как можно видеть, во всех регионах средний объем добываемой нефти ниже значения в точке безубыточности. Особенно низкое значение в регионе geo_data_1, там же и достаточно маленький разброс значений, то есть, вероятнее всего, этот регион убыточный. Самый высокий средний объем добываемой нефти в регионе geo_data_2, в регионе geo_data_0 значения не намного ниже. В обоих регионах достаточно большой разброс значений, то есть, вероятнее всего, в одном из жтих регионов будут максимально прибыльные скважины.<br>\n",
    "Расчитаем прибыль и убытки"
   ]
  },
  {
   "cell_type": "markdown",
   "metadata": {},
   "source": [
    "## Расчёт прибыли и рисков "
   ]
  },
  {
   "cell_type": "markdown",
   "metadata": {},
   "source": [
    "<h3>Расчет прибыли по выбранным скважинам по предсказаниям моделей</h3>"
   ]
  },
  {
   "cell_type": "code",
   "execution_count": 9,
   "metadata": {},
   "outputs": [],
   "source": [
    "def income_count_func(predictions, target): #функция для расчета прибыли\n",
    "    #выбираем шахты с наилучшим предсказанием:\n",
    "    best_wells = predictions.sort_values(ascending = False)\n",
    "    target_wells = target[best_wells.index][:WELLS_COUNT]\n",
    "    income = 0\n",
    "    damages_count = 0\n",
    "    for well in target_wells:\n",
    "        ic = barrel_income * well - drilling_costs #прибыль в отдельной шахте\n",
    "        income = income + ic #общая прибыль\n",
    "        if ic < 0:\n",
    "            damages_count += 1 #считаем общее количество убточных шахт\n",
    "    return income, damages_count\n",
    "def print_income(predictions, target,header): #вывод прибыли на экран\n",
    "    income, damages_count = np.round(income_count_func(predictions, target))\n",
    "    print('Прибыль для региона ',header)\n",
    "    print('прибыль = ', income)\n",
    "    print('Доля убыточных шахт: ', damages_count / WELLS_COUNT)\n",
    "    return income"
   ]
  },
  {
   "cell_type": "code",
   "execution_count": 10,
   "metadata": {},
   "outputs": [
    {
     "name": "stdout",
     "output_type": "stream",
     "text": [
      "Прибыль для региона  geo_data_0\n",
      "прибыль =  3320826043.0\n",
      "Доля убыточных шахт:  0.095\n"
     ]
    }
   ],
   "source": [
    "#посчитаем прибыль для региона geo_data_0\n",
    "income_0 = print_income(geo_prediction_0, geo_target_valid_0, 'geo_data_0')"
   ]
  },
  {
   "cell_type": "code",
   "execution_count": 11,
   "metadata": {},
   "outputs": [
    {
     "name": "stdout",
     "output_type": "stream",
     "text": [
      "Прибыль для региона  geo_data_1\n",
      "прибыль =  2415086697.0\n",
      "Доля убыточных шахт:  0.0\n"
     ]
    }
   ],
   "source": [
    "#посчитаем прибыль для региона geo_data_1\n",
    "income_1 = print_income(geo_prediction_1, geo_target_valid_1, 'geo_data_1')"
   ]
  },
  {
   "cell_type": "code",
   "execution_count": 12,
   "metadata": {},
   "outputs": [
    {
     "name": "stdout",
     "output_type": "stream",
     "text": [
      "Прибыль для региона  geo_data_2\n",
      "прибыль =  2710349964.0\n",
      "Доля убыточных шахт:  0.14\n"
     ]
    }
   ],
   "source": [
    "#посчитаем прибыль для региона geo_data_2\n",
    "income_2 = print_income(geo_prediction_2, geo_target_valid_2, 'geo_data_2')"
   ]
  },
  {
   "cell_type": "markdown",
   "metadata": {},
   "source": [
    "<b>Вывод</b><br>\n",
    "Наибольшее значение прибыли по полученной модели - в регионе geo_data_0. Наименьшее - geo_data_1. Однко в регионах geo_data_0 и geo_data_2 доля убыточных шахт намного выше, чем в регионе geo_data_1.<br>\n",
    "Рассчитаем риски и и распределение прибыли для каждого региона:"
   ]
  },
  {
   "cell_type": "markdown",
   "metadata": {},
   "source": [
    "<h3>Расчет рисков и прибыли для каждого региона</h3><br>"
   ]
  },
  {
   "cell_type": "markdown",
   "metadata": {},
   "source": [
    "Найдем распределение прибыли:"
   ]
  },
  {
   "cell_type": "code",
   "execution_count": 13,
   "metadata": {},
   "outputs": [],
   "source": [
    "def bootstrap_func(state,target,probs,count): #функция для бутстрепинга\n",
    "    incomes = []\n",
    "    damages = []\n",
    "    losses = 0\n",
    "    for i in range(count):\n",
    "        #выделяем в target_valid блоки по 500 шахт (по условию задачи из 500 выбирается 200 лучших)\n",
    "        target_subs = target.sample(n=WELLS_CHECK_COUNT,replace = True, random_state = state)\n",
    "        probs_subs = probs[probs.index.isin(target_subs.index)]\n",
    "        inc, damages_count = income_count_func(probs_subs,target_subs)\n",
    "        incomes.append(inc)#считаем распределение прибыли\n",
    "        damages.append(damages_count) #распределение убыточных шахт\n",
    "        if inc < 0: #считаем убыточные случаи\n",
    "            losses = losses + 1\n",
    "    return pd.Series(incomes), losses, pd.Series(damages)\n",
    "\n",
    "def count_metrics(state,target,probs,count,header):#расчет и вывод показателей\n",
    "    incomes, losses, damages = bootstrap_func(state,target,probs,count)\n",
    "    lower = incomes.quantile(0.05)\n",
    "    print()\n",
    "    print('\\033[1mРасчет прибыли и доверительного интервала для ', header, '\\033[0m')\n",
    "    print('Средняя прибыль ',np.round(incomes.mean()))\n",
    "    print('5% квантиль ',np.round(lower))\n",
    "    print('Вероятность убытков: ', losses / count)\n",
    "    #print('Средняя доля убыточных шахт: ', damages.mean())\n",
    "    \n",
    "state = np.random.RandomState(RANDOM_STATE)\n",
    "repeat_count = 1000"
   ]
  },
  {
   "cell_type": "code",
   "execution_count": 14,
   "metadata": {},
   "outputs": [
    {
     "name": "stdout",
     "output_type": "stream",
     "text": [
      "\n",
      "\u001b[1mРасчет прибыли и доверительного интервала для  geo_data_0 \u001b[0m\n",
      "Средняя прибыль  396164985.0\n",
      "5% квантиль  -37181596.0\n",
      "Вероятность убытков:  0.069\n"
     ]
    }
   ],
   "source": [
    "count_metrics(state,geo_target_valid_0,geo_prediction_0,repeat_count,'geo_data_0')"
   ]
  },
  {
   "cell_type": "code",
   "execution_count": 15,
   "metadata": {},
   "outputs": [
    {
     "name": "stdout",
     "output_type": "stream",
     "text": [
      "\n",
      "\u001b[1mРасчет прибыли и доверительного интервала для  geo_data_1 \u001b[0m\n",
      "Средняя прибыль  461155817.0\n",
      "5% квантиль  140214879.0\n",
      "Вероятность убытков:  0.007\n"
     ]
    }
   ],
   "source": [
    "count_metrics(state,geo_target_valid_1,geo_prediction_1,repeat_count,'geo_data_1')"
   ]
  },
  {
   "cell_type": "code",
   "execution_count": 16,
   "metadata": {},
   "outputs": [
    {
     "name": "stdout",
     "output_type": "stream",
     "text": [
      "\n",
      "\u001b[1mРасчет прибыли и доверительного интервала для  geo_data_0 \u001b[0m\n",
      "Средняя прибыль  392950475.0\n",
      "5% квантиль  -27722051.0\n",
      "Вероятность убытков:  0.065\n"
     ]
    }
   ],
   "source": [
    "count_metrics(state,geo_target_valid_2,geo_prediction_2,repeat_count,'geo_data_0')"
   ]
  },
  {
   "cell_type": "markdown",
   "metadata": {},
   "source": [
    "<b>Вывод</b><br>\n",
    "Согласно поставленному условию, вероятность убытков должна быть не более 2,5%. Этому условию соответсвтует только регион geo_data_1. Помимо всего прочего, в данном регоине, по результатам работы процедуры bootstrap самая высокая средняя прибыль, а также только в этом регионе с вероятностью 95% возможна прибыль (свыше 155 млн.руб.), а не убыток, как во всех остальных регионах. <br>\n",
    "Таким образом, для разработки предлагается регион geo_data_1"
   ]
  }
 ],
 "metadata": {
  "kernelspec": {
   "display_name": "Python 3",
   "language": "python",
   "name": "python3"
  },
  "language_info": {
   "codemirror_mode": {
    "name": "ipython",
    "version": 3
   },
   "file_extension": ".py",
   "mimetype": "text/x-python",
   "name": "python",
   "nbconvert_exporter": "python",
   "pygments_lexer": "ipython3",
   "version": "3.9.5"
  },
  "toc": {
   "base_numbering": 1,
   "nav_menu": {},
   "number_sections": true,
   "sideBar": true,
   "skip_h1_title": true,
   "title_cell": "Table of Contents",
   "title_sidebar": "Contents",
   "toc_cell": false,
   "toc_position": {},
   "toc_section_display": true,
   "toc_window_display": true
  }
 },
 "nbformat": 4,
 "nbformat_minor": 2
}
