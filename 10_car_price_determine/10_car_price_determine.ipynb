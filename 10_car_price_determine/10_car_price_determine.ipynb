{
 "cells": [
  {
   "cell_type": "markdown",
   "metadata": {},
   "source": [
    "# Определение стоимости автомобилей"
   ]
  },
  {
   "cell_type": "markdown",
   "metadata": {},
   "source": [
    "На основании исторических данных: технические характеристики, комплектации и цены автомобилей - необходимо построить модель для определения стоимости автомобилей. Важные критерии: качество предсказания, скорость предсказания, время обучения"
   ]
  },
  {
   "cell_type": "markdown",
   "metadata": {},
   "source": [
    "## Подготовка данных"
   ]
  },
  {
   "cell_type": "code",
   "execution_count": 1,
   "metadata": {},
   "outputs": [],
   "source": [
    "import pandas as pd\n",
    "import numpy as np\n",
    "import matplotlib.pyplot as plt\n",
    "import seaborn as sns\n",
    "from datetime import datetime \n",
    "from sklearn.preprocessing import OneHotEncoder,StandardScaler\n",
    "from sklearn.model_selection import train_test_split, GridSearchCV\n",
    "from sklearn.tree import DecisionTreeRegressor\n",
    "from sklearn.ensemble import RandomForestRegressor, GradientBoostingRegressor\n",
    "from sklearn.linear_model import LinearRegression\n",
    "import lightgbm as lgbm\n",
    "from lightgbm import LGBMRegressor\n",
    "from catboost import CatBoostRegressor\n",
    "from sklearn import metrics\n",
    "from sklearn.metrics import mean_squared_error\n",
    "RANDOM_STATE = 12345"
   ]
  },
  {
   "cell_type": "markdown",
   "metadata": {},
   "source": [
    "<h3>Открытие файла и обработка пропусков</h3>"
   ]
  },
  {
   "cell_type": "markdown",
   "metadata": {},
   "source": [
    "Откроем файл и изучим общую информацию о нем"
   ]
  },
  {
   "cell_type": "code",
   "execution_count": 2,
   "metadata": {},
   "outputs": [
    {
     "data": {
      "text/html": [
       "<div>\n",
       "<style scoped>\n",
       "    .dataframe tbody tr th:only-of-type {\n",
       "        vertical-align: middle;\n",
       "    }\n",
       "\n",
       "    .dataframe tbody tr th {\n",
       "        vertical-align: top;\n",
       "    }\n",
       "\n",
       "    .dataframe thead th {\n",
       "        text-align: right;\n",
       "    }\n",
       "</style>\n",
       "<table border=\"1\" class=\"dataframe\">\n",
       "  <thead>\n",
       "    <tr style=\"text-align: right;\">\n",
       "      <th></th>\n",
       "      <th>DateCrawled</th>\n",
       "      <th>Price</th>\n",
       "      <th>VehicleType</th>\n",
       "      <th>RegistrationYear</th>\n",
       "      <th>Gearbox</th>\n",
       "      <th>Power</th>\n",
       "      <th>Model</th>\n",
       "      <th>Kilometer</th>\n",
       "      <th>RegistrationMonth</th>\n",
       "      <th>FuelType</th>\n",
       "      <th>Brand</th>\n",
       "      <th>NotRepaired</th>\n",
       "      <th>DateCreated</th>\n",
       "      <th>NumberOfPictures</th>\n",
       "      <th>PostalCode</th>\n",
       "      <th>LastSeen</th>\n",
       "    </tr>\n",
       "  </thead>\n",
       "  <tbody>\n",
       "    <tr>\n",
       "      <td>0</td>\n",
       "      <td>2016-03-24 11:52:17</td>\n",
       "      <td>480</td>\n",
       "      <td>NaN</td>\n",
       "      <td>1993</td>\n",
       "      <td>manual</td>\n",
       "      <td>0</td>\n",
       "      <td>golf</td>\n",
       "      <td>150000</td>\n",
       "      <td>0</td>\n",
       "      <td>petrol</td>\n",
       "      <td>volkswagen</td>\n",
       "      <td>NaN</td>\n",
       "      <td>2016-03-24 00:00:00</td>\n",
       "      <td>0</td>\n",
       "      <td>70435</td>\n",
       "      <td>2016-04-07 03:16:57</td>\n",
       "    </tr>\n",
       "    <tr>\n",
       "      <td>1</td>\n",
       "      <td>2016-03-24 10:58:45</td>\n",
       "      <td>18300</td>\n",
       "      <td>coupe</td>\n",
       "      <td>2011</td>\n",
       "      <td>manual</td>\n",
       "      <td>190</td>\n",
       "      <td>NaN</td>\n",
       "      <td>125000</td>\n",
       "      <td>5</td>\n",
       "      <td>gasoline</td>\n",
       "      <td>audi</td>\n",
       "      <td>yes</td>\n",
       "      <td>2016-03-24 00:00:00</td>\n",
       "      <td>0</td>\n",
       "      <td>66954</td>\n",
       "      <td>2016-04-07 01:46:50</td>\n",
       "    </tr>\n",
       "    <tr>\n",
       "      <td>2</td>\n",
       "      <td>2016-03-14 12:52:21</td>\n",
       "      <td>9800</td>\n",
       "      <td>suv</td>\n",
       "      <td>2004</td>\n",
       "      <td>auto</td>\n",
       "      <td>163</td>\n",
       "      <td>grand</td>\n",
       "      <td>125000</td>\n",
       "      <td>8</td>\n",
       "      <td>gasoline</td>\n",
       "      <td>jeep</td>\n",
       "      <td>NaN</td>\n",
       "      <td>2016-03-14 00:00:00</td>\n",
       "      <td>0</td>\n",
       "      <td>90480</td>\n",
       "      <td>2016-04-05 12:47:46</td>\n",
       "    </tr>\n",
       "    <tr>\n",
       "      <td>3</td>\n",
       "      <td>2016-03-17 16:54:04</td>\n",
       "      <td>1500</td>\n",
       "      <td>small</td>\n",
       "      <td>2001</td>\n",
       "      <td>manual</td>\n",
       "      <td>75</td>\n",
       "      <td>golf</td>\n",
       "      <td>150000</td>\n",
       "      <td>6</td>\n",
       "      <td>petrol</td>\n",
       "      <td>volkswagen</td>\n",
       "      <td>no</td>\n",
       "      <td>2016-03-17 00:00:00</td>\n",
       "      <td>0</td>\n",
       "      <td>91074</td>\n",
       "      <td>2016-03-17 17:40:17</td>\n",
       "    </tr>\n",
       "    <tr>\n",
       "      <td>4</td>\n",
       "      <td>2016-03-31 17:25:20</td>\n",
       "      <td>3600</td>\n",
       "      <td>small</td>\n",
       "      <td>2008</td>\n",
       "      <td>manual</td>\n",
       "      <td>69</td>\n",
       "      <td>fabia</td>\n",
       "      <td>90000</td>\n",
       "      <td>7</td>\n",
       "      <td>gasoline</td>\n",
       "      <td>skoda</td>\n",
       "      <td>no</td>\n",
       "      <td>2016-03-31 00:00:00</td>\n",
       "      <td>0</td>\n",
       "      <td>60437</td>\n",
       "      <td>2016-04-06 10:17:21</td>\n",
       "    </tr>\n",
       "  </tbody>\n",
       "</table>\n",
       "</div>"
      ],
      "text/plain": [
       "           DateCrawled  Price VehicleType  RegistrationYear Gearbox  Power  \\\n",
       "0  2016-03-24 11:52:17    480         NaN              1993  manual      0   \n",
       "1  2016-03-24 10:58:45  18300       coupe              2011  manual    190   \n",
       "2  2016-03-14 12:52:21   9800         suv              2004    auto    163   \n",
       "3  2016-03-17 16:54:04   1500       small              2001  manual     75   \n",
       "4  2016-03-31 17:25:20   3600       small              2008  manual     69   \n",
       "\n",
       "   Model  Kilometer  RegistrationMonth  FuelType       Brand NotRepaired  \\\n",
       "0   golf     150000                  0    petrol  volkswagen         NaN   \n",
       "1    NaN     125000                  5  gasoline        audi         yes   \n",
       "2  grand     125000                  8  gasoline        jeep         NaN   \n",
       "3   golf     150000                  6    petrol  volkswagen          no   \n",
       "4  fabia      90000                  7  gasoline       skoda          no   \n",
       "\n",
       "           DateCreated  NumberOfPictures  PostalCode             LastSeen  \n",
       "0  2016-03-24 00:00:00                 0       70435  2016-04-07 03:16:57  \n",
       "1  2016-03-24 00:00:00                 0       66954  2016-04-07 01:46:50  \n",
       "2  2016-03-14 00:00:00                 0       90480  2016-04-05 12:47:46  \n",
       "3  2016-03-17 00:00:00                 0       91074  2016-03-17 17:40:17  \n",
       "4  2016-03-31 00:00:00                 0       60437  2016-04-06 10:17:21  "
      ]
     },
     "metadata": {},
     "output_type": "display_data"
    },
    {
     "name": "stdout",
     "output_type": "stream",
     "text": [
      "<class 'pandas.core.frame.DataFrame'>\n",
      "RangeIndex: 354369 entries, 0 to 354368\n",
      "Data columns (total 16 columns):\n",
      "DateCrawled          354369 non-null object\n",
      "Price                354369 non-null int64\n",
      "VehicleType          316879 non-null object\n",
      "RegistrationYear     354369 non-null int64\n",
      "Gearbox              334536 non-null object\n",
      "Power                354369 non-null int64\n",
      "Model                334664 non-null object\n",
      "Kilometer            354369 non-null int64\n",
      "RegistrationMonth    354369 non-null int64\n",
      "FuelType             321474 non-null object\n",
      "Brand                354369 non-null object\n",
      "NotRepaired          283215 non-null object\n",
      "DateCreated          354369 non-null object\n",
      "NumberOfPictures     354369 non-null int64\n",
      "PostalCode           354369 non-null int64\n",
      "LastSeen             354369 non-null object\n",
      "dtypes: int64(7), object(9)\n",
      "memory usage: 43.3+ MB\n",
      "None\n"
     ]
    }
   ],
   "source": [
    "autos = pd.read_csv('/datasets/autos.csv')\n",
    "display(autos.head(5))\n",
    "print(autos.info())"
   ]
  },
  {
   "cell_type": "markdown",
   "metadata": {},
   "source": [
    "Посмотрим, какие типы кузова есть у volkswagen golf 1993 года регистрации:"
   ]
  },
  {
   "cell_type": "code",
   "execution_count": 3,
   "metadata": {},
   "outputs": [
    {
     "data": {
      "text/plain": [
       "array([nan, 'sedan', 'small', 'convertible', 'coupe', 'wagon', 'bus',\n",
       "       'other'], dtype=object)"
      ]
     },
     "metadata": {},
     "output_type": "display_data"
    }
   ],
   "source": [
    "display(autos.query('Brand == \"volkswagen\" and Model == \"golf\" and RegistrationYear == 1993')['VehicleType'].unique())"
   ]
  },
  {
   "cell_type": "markdown",
   "metadata": {},
   "source": [
    "<b>Вывод:</b><br>\n",
    "В данных присутствуют пропуски в следующих столбцах:\n",
    "<li>VehicleType - тип кузова</li>\n",
    "<li>Gearbox - коробка передач</li>\n",
    "<li>Model - модель автомобиля</li>\n",
    "<li>FuelType - тип топлива</li>\n",
    "<li>NotRepaired - была машина в ремонте или нет</li>\n",
    "Все эти данные категориальные. У одной и той же модели автомобиля может быть указана разный тип кузова (это можно видеть выше, где для всех volkswagen golf 1993 выведены все типы кузова), тем более что всегда может отличаться и коробка передач,и тип топлива, и уж тем более невозможно никак угадать, была ли машина в ремонте, не зная этого достоверно. <br>\n",
    "чтобы не потерять достоверность данных и не снизить качество модели, удалим все пропуски"
   ]
  },
  {
   "cell_type": "markdown",
   "metadata": {},
   "source": [
    "Посмотрим, какой процент составляют пропущенные значения:"
   ]
  },
  {
   "cell_type": "code",
   "execution_count": 4,
   "metadata": {},
   "outputs": [
    {
     "name": "stdout",
     "output_type": "stream",
     "text": [
      "Доля пропущенных значения в каждой колонке:\n",
      "DateCrawled          0.000000\n",
      "Price                0.000000\n",
      "VehicleType          0.105794\n",
      "RegistrationYear     0.000000\n",
      "Gearbox              0.055967\n",
      "Power                0.000000\n",
      "Model                0.055606\n",
      "Kilometer            0.000000\n",
      "RegistrationMonth    0.000000\n",
      "FuelType             0.092827\n",
      "Brand                0.000000\n",
      "NotRepaired          0.200791\n",
      "DateCreated          0.000000\n",
      "NumberOfPictures     0.000000\n",
      "PostalCode           0.000000\n",
      "LastSeen             0.000000\n",
      "dtype: float64\n",
      "\n",
      "Доля строк с пропущенными значениями:  0.30633322892239445\n"
     ]
    }
   ],
   "source": [
    "print('Доля пропущенных значения в каждой колонке:')\n",
    "print(autos.isna().sum()/autos.shape[0])\n",
    "print()\n",
    "print('Доля строк с пропущенными значениями: ',sum(autos.apply(lambda x: sum(x.isnull().values), axis = 1)>0)/autos.shape[0])"
   ]
  },
  {
   "cell_type": "markdown",
   "metadata": {},
   "source": [
    "Как можно видеть, доля строк с пропущенными значениями составляет 30% всего датасета, в основном, за счет довольно больших пропусков в колонках NotRepaired, VehicleType, FuelType, GearBox, Model. Это очень большая доля пропусков, что говорит о том, что можно улучшить методы сбора и хранения информации. Заполнить эти категориальные данные мы не можем, и все они важны в определении стоимости автомобиля, поэтому их все равно придется удалить. После удаления останется еще 245000 строк, на таком объеме данных еще можно проводить анализ."
   ]
  },
  {
   "cell_type": "code",
   "execution_count": 5,
   "metadata": {},
   "outputs": [
    {
     "name": "stdout",
     "output_type": "stream",
     "text": [
      "<class 'pandas.core.frame.DataFrame'>\n",
      "Int64Index: 245814 entries, 3 to 354367\n",
      "Data columns (total 16 columns):\n",
      "DateCrawled          245814 non-null object\n",
      "Price                245814 non-null int64\n",
      "VehicleType          245814 non-null object\n",
      "RegistrationYear     245814 non-null int64\n",
      "Gearbox              245814 non-null object\n",
      "Power                245814 non-null int64\n",
      "Model                245814 non-null object\n",
      "Kilometer            245814 non-null int64\n",
      "RegistrationMonth    245814 non-null int64\n",
      "FuelType             245814 non-null object\n",
      "Brand                245814 non-null object\n",
      "NotRepaired          245814 non-null object\n",
      "DateCreated          245814 non-null object\n",
      "NumberOfPictures     245814 non-null int64\n",
      "PostalCode           245814 non-null int64\n",
      "LastSeen             245814 non-null object\n",
      "dtypes: int64(7), object(9)\n",
      "memory usage: 31.9+ MB\n",
      "None\n"
     ]
    }
   ],
   "source": [
    "autos = autos.dropna()\n",
    "print(autos.info())"
   ]
  },
  {
   "cell_type": "markdown",
   "metadata": {},
   "source": [
    "Пропуски удалены"
   ]
  },
  {
   "cell_type": "markdown",
   "metadata": {},
   "source": [
    "<h3>Проверка на наличие в колонках заведомо некорректных значений и скрытых дубликатов</h3>"
   ]
  },
  {
   "cell_type": "markdown",
   "metadata": {},
   "source": [
    "<h4>Проверка в колонках категориальных данных</h4>"
   ]
  },
  {
   "cell_type": "markdown",
   "metadata": {},
   "source": [
    "Проверим на наличие в колонках заведомо некорректных значений или скрытых дубликатов:"
   ]
  },
  {
   "cell_type": "code",
   "execution_count": 6,
   "metadata": {},
   "outputs": [
    {
     "name": "stdout",
     "output_type": "stream",
     "text": [
      "Колонка:  VehicleType :  ['bus' 'convertible' 'coupe' 'other' 'sedan' 'small' 'suv' 'wagon']\n",
      "Колонка:  Gearbox :  ['auto' 'manual']\n",
      "Колонка:  Model :  ['100' '145' '147' '156' '159' '1_reihe' '1er' '200' '2_reihe' '300c'\n",
      " '3_reihe' '3er' '4_reihe' '500' '5_reihe' '5er' '601' '6_reihe' '6er'\n",
      " '7er' '80' '850' '90' '900' '9000' '911' 'a1' 'a2' 'a3' 'a4' 'a5' 'a6'\n",
      " 'a8' 'a_klasse' 'accord' 'agila' 'alhambra' 'almera' 'altea' 'amarok'\n",
      " 'antara' 'arosa' 'astra' 'auris' 'avensis' 'aveo' 'aygo' 'b_klasse'\n",
      " 'b_max' 'beetle' 'berlingo' 'bora' 'boxster' 'bravo' 'c1' 'c2' 'c3' 'c4'\n",
      " 'c5' 'c_klasse' 'c_max' 'c_reihe' 'caddy' 'calibra' 'captiva' 'carisma'\n",
      " 'carnival' 'cayenne' 'cc' 'ceed' 'charade' 'cherokee' 'citigo' 'civic'\n",
      " 'cl' 'clio' 'clk' 'clubman' 'colt' 'combo' 'cooper' 'cordoba' 'corolla'\n",
      " 'corsa' 'cr_reihe' 'croma' 'crossfire' 'cuore' 'cx_reihe' 'defender'\n",
      " 'delta' 'discovery' 'doblo' 'ducato' 'duster' 'e_klasse' 'elefantino'\n",
      " 'eos' 'escort' 'espace' 'exeo' 'fabia' 'fiesta' 'focus' 'forester'\n",
      " 'forfour' 'fortwo' 'fox' 'freelander' 'fusion' 'g_klasse' 'galant'\n",
      " 'galaxy' 'getz' 'gl' 'glk' 'golf' 'grand' 'i3' 'i_reihe' 'ibiza'\n",
      " 'impreza' 'insignia' 'jazz' 'jetta' 'jimny' 'juke' 'justy' 'ka' 'kadett'\n",
      " 'kaefer' 'kalina' 'kalos' 'kangoo' 'kappa' 'kuga' 'laguna' 'lancer'\n",
      " 'lanos' 'legacy' 'leon' 'lodgy' 'logan' 'lupo' 'lybra' 'm_klasse'\n",
      " 'm_reihe' 'materia' 'matiz' 'megane' 'meriva' 'micra' 'mii' 'modus'\n",
      " 'mondeo' 'move' 'musa' 'mustang' 'mx_reihe' 'navara' 'niva' 'note'\n",
      " 'nubira' 'octavia' 'omega' 'one' 'other' 'outlander' 'pajero' 'panda'\n",
      " 'passat' 'phaeton' 'picanto' 'polo' 'primera' 'ptcruiser' 'punto' 'q3'\n",
      " 'q5' 'q7' 'qashqai' 'r19' 'range_rover' 'range_rover_evoque'\n",
      " 'range_rover_sport' 'rangerover' 'rav' 'rio' 'roadster' 'roomster'\n",
      " 'rx_reihe' 's60' 's_klasse' 's_max' 's_type' 'samara' 'sandero' 'santa'\n",
      " 'scenic' 'scirocco' 'seicento' 'serie_2' 'serie_3' 'sharan' 'signum'\n",
      " 'sirion' 'sl' 'slk' 'sorento' 'spark' 'spider' 'sportage' 'sprinter'\n",
      " 'stilo' 'superb' 'swift' 'terios' 'tigra' 'tiguan' 'toledo' 'touareg'\n",
      " 'touran' 'transit' 'transporter' 'tt' 'tucson' 'twingo' 'up' 'v40' 'v50'\n",
      " 'v60' 'v70' 'v_klasse' 'vectra' 'verso' 'viano' 'vito' 'vivaro' 'voyager'\n",
      " 'wrangler' 'x_reihe' 'x_trail' 'x_type' 'xc_reihe' 'yaris' 'yeti'\n",
      " 'ypsilon' 'z_reihe' 'zafira']\n",
      "Колонка:  FuelType :  ['cng' 'electric' 'gasoline' 'hybrid' 'lpg' 'other' 'petrol']\n",
      "Колонка:  Brand :  ['alfa_romeo' 'audi' 'bmw' 'chevrolet' 'chrysler' 'citroen' 'dacia'\n",
      " 'daewoo' 'daihatsu' 'fiat' 'ford' 'honda' 'hyundai' 'jaguar' 'jeep' 'kia'\n",
      " 'lada' 'lancia' 'land_rover' 'mazda' 'mercedes_benz' 'mini' 'mitsubishi'\n",
      " 'nissan' 'opel' 'peugeot' 'porsche' 'renault' 'rover' 'saab' 'seat'\n",
      " 'skoda' 'smart' 'subaru' 'suzuki' 'toyota' 'trabant' 'volkswagen' 'volvo']\n",
      "Колонка:  NotRepaired :  ['no' 'yes']\n",
      "Колонка:  NumberOfPictures :  [0]\n",
      "Колонка:  PostalCode :  [ 1067  1068  1069 ... 99994 99996 99998]\n"
     ]
    }
   ],
   "source": [
    "for column in autos: \n",
    "    if column not in ['DateCreated', 'DateCrawled', 'Price','Kilometer','LastSeen','Power','RegistrationYear','RegistrationMonth']:\n",
    "        print('Колонка: ',column,': ',autos[column].sort_values().unique())"
   ]
  },
  {
   "cell_type": "markdown",
   "metadata": {},
   "source": [
    "<b>Вывод:</b><br>\n",
    "Среди имеющихся значений выявлена странность: В колонке NumberOfPictures все значения - нули. Маловероятно, что данная колонка сможет оказать хоть какое-то значимое влияние на обучение модели. Ее можно удалить.\n",
    "<br>\n",
    "Также можно заметить, что в колонке PostalCode содержится большое количество значений, которые, по сути, на цену автомобиля влияния никакого не оказывают. Полагаю, данную колонку из дальнейшей работы можно также исключить\n",
    "<br>\n",
    "Все остальные проверенные колонки не содержат заведомо некорректных данных и скрытых дубликатов"
   ]
  },
  {
   "cell_type": "code",
   "execution_count": 7,
   "metadata": {},
   "outputs": [
    {
     "name": "stdout",
     "output_type": "stream",
     "text": [
      "Колонка NumberOfPictures удалена\n"
     ]
    }
   ],
   "source": [
    "autos = autos.drop('NumberOfPictures',axis = 1)\n",
    "print('Колонка NumberOfPictures удалена')"
   ]
  },
  {
   "cell_type": "code",
   "execution_count": 8,
   "metadata": {},
   "outputs": [
    {
     "name": "stdout",
     "output_type": "stream",
     "text": [
      "Колонка PostalCode удалена\n"
     ]
    }
   ],
   "source": [
    "autos = autos.drop('PostalCode',axis = 1)\n",
    "print('Колонка PostalCode удалена')"
   ]
  },
  {
   "cell_type": "markdown",
   "metadata": {},
   "source": [
    "<b>Вывод</b><br>\n",
    "Вполне возможно, что нулями здесь заполнены просто отсутствующие значения. Данные в колонке категориальные, и строк довольно много. Полагаю, эти значения можно оставить"
   ]
  },
  {
   "cell_type": "markdown",
   "metadata": {},
   "source": [
    "<h4>Анализ значений в колонках 'Price','Kilometer','Power'</h4>"
   ]
  },
  {
   "cell_type": "markdown",
   "metadata": {},
   "source": [
    "Проверим на наличие заведомо некорректных данных значения в колонках: 'Price','Kilometer','Power'"
   ]
  },
  {
   "cell_type": "code",
   "execution_count": 9,
   "metadata": {},
   "outputs": [],
   "source": [
    "def print_hist(data,column,head,bins):\n",
    "    if bins<=0:\n",
    "        data[column].hist()\n",
    "    else:\n",
    "        data[column].hist(bins = bins)\n",
    "    plt.title('Hist for column '+head)\n",
    "    plt.ylabel('number of values')\n",
    "    plt.xlabel(column)\n",
    "    plt.show()\n",
    "\n",
    "def print_boxplot(data,column,capture):\n",
    "    sns.boxplot(y=column,data = data)\n",
    "    plt.title('Boxplot for '+capture)\n",
    "    plt.show()"
   ]
  },
  {
   "cell_type": "code",
   "execution_count": 10,
   "metadata": {
    "scrolled": false
   },
   "outputs": [
    {
     "name": "stdout",
     "output_type": "stream",
     "text": [
      "Колонка:  Price\n",
      "count    245814.000000\n",
      "mean       5125.346717\n",
      "std        4717.948673\n",
      "min           0.000000\n",
      "25%        1499.000000\n",
      "50%        3500.000000\n",
      "75%        7500.000000\n",
      "max       20000.000000\n",
      "Name: Price, dtype: float64\n"
     ]
    },
    {
     "data": {
      "image/png": "[encoded data removed]",
      "text/plain": [
       "<Figure size 432x288 with 1 Axes>"
      ]
     },
     "metadata": {
      "needs_background": "light"
     },
     "output_type": "display_data"
    },
    {
     "data": {
      "image/png": "[encoded data removed]",
      "text/plain": [
       "<Figure size 432x288 with 1 Axes>"
      ]
     },
     "metadata": {
      "needs_background": "light"
     },
     "output_type": "display_data"
    },
    {
     "name": "stdout",
     "output_type": "stream",
     "text": [
      "----------------------------------------------------------------------------------------------------------------\n",
      "\n",
      "Колонка:  Kilometer\n",
      "count    245814.000000\n",
      "mean     127296.716216\n",
      "std       37078.820368\n",
      "min        5000.000000\n",
      "25%      125000.000000\n",
      "50%      150000.000000\n",
      "75%      150000.000000\n",
      "max      150000.000000\n",
      "Name: Kilometer, dtype: float64\n"
     ]
    },
    {
     "data": {
      "image/png": "[encoded data removed]",
      "text/plain": [
       "<Figure size 432x288 with 1 Axes>"
      ]
     },
     "metadata": {
      "needs_background": "light"
     },
     "output_type": "display_data"
    },
    {
     "data": {
      "image/png": "[encoded data removed]",
      "text/plain": [
       "<Figure size 432x288 with 1 Axes>"
      ]
     },
     "metadata": {
      "needs_background": "light"
     },
     "output_type": "display_data"
    },
    {
     "name": "stdout",
     "output_type": "stream",
     "text": [
      "----------------------------------------------------------------------------------------------------------------\n",
      "\n",
      "Колонка:  Power\n",
      "count    245814.000000\n",
      "mean        119.970884\n",
      "std         139.387116\n",
      "min           0.000000\n",
      "25%          75.000000\n",
      "50%         110.000000\n",
      "75%         150.000000\n",
      "max       20000.000000\n",
      "Name: Power, dtype: float64\n"
     ]
    },
    {
     "data": {
      "image/png": "[encoded data removed]",
      "text/plain": [
       "<Figure size 432x288 with 1 Axes>"
      ]
     },
     "metadata": {
      "needs_background": "light"
     },
     "output_type": "display_data"
    },
    {
     "data": {
      "image/png": "[encoded data removed]",
      "text/plain": [
       "<Figure size 432x288 with 1 Axes>"
      ]
     },
     "metadata": {
      "needs_background": "light"
     },
     "output_type": "display_data"
    },
    {
     "name": "stdout",
     "output_type": "stream",
     "text": [
      "----------------------------------------------------------------------------------------------------------------\n",
      "\n",
      "Колонка:  RegistrationYear\n",
      "count    245814.000000\n",
      "mean       2002.918699\n",
      "std           6.163765\n",
      "min        1910.000000\n",
      "25%        1999.000000\n",
      "50%        2003.000000\n",
      "75%        2007.000000\n",
      "max        2018.000000\n",
      "Name: RegistrationYear, dtype: float64\n"
     ]
    },
    {
     "data": {
      "image/png": "[encoded data removed]",
      "text/plain": [
       "<Figure size 432x288 with 1 Axes>"
      ]
     },
     "metadata": {
      "needs_background": "light"
     },
     "output_type": "display_data"
    },
    {
     "data": {
      "image/png": "[encoded data removed]",
      "text/plain": [
       "<Figure size 432x288 with 1 Axes>"
      ]
     },
     "metadata": {
      "needs_background": "light"
     },
     "output_type": "display_data"
    },
    {
     "name": "stdout",
     "output_type": "stream",
     "text": [
      "----------------------------------------------------------------------------------------------------------------\n",
      "\n",
      "Колонка:  RegistrationMonth\n",
      "count    245814.000000\n",
      "mean          6.179701\n",
      "std           3.479519\n",
      "min           0.000000\n",
      "25%           3.000000\n",
      "50%           6.000000\n",
      "75%           9.000000\n",
      "max          12.000000\n",
      "Name: RegistrationMonth, dtype: float64\n"
     ]
    },
    {
     "data": {
      "image/png": "[encoded data removed]",
      "text/plain": [
       "<Figure size 432x288 with 1 Axes>"
      ]
     },
     "metadata": {
      "needs_background": "light"
     },
     "output_type": "display_data"
    },
    {
     "data": {
      "image/png": "[encoded data removed]",
      "text/plain": [
       "<Figure size 432x288 with 1 Axes>"
      ]
     },
     "metadata": {
      "needs_background": "light"
     },
     "output_type": "display_data"
    },
    {
     "name": "stdout",
     "output_type": "stream",
     "text": [
      "----------------------------------------------------------------------------------------------------------------\n",
      "\n"
     ]
    }
   ],
   "source": [
    "for column in ['Price','Kilometer','Power','RegistrationYear','RegistrationMonth']:\n",
    "    print('Колонка: ',column)\n",
    "    print(autos[column].describe())\n",
    "    print_hist(autos,column,column,0)\n",
    "    print_boxplot(autos,column,column)\n",
    "    print('--------------'*8)\n",
    "    print()"
   ]
  },
  {
   "cell_type": "markdown",
   "metadata": {},
   "source": [
    "<b>Вывод</b><br>\n",
    "В колонке <b>Price</b> найдены нулевые значения. В целом данные в этой колонке распределены следующим образом: чем ниже цена, тем больше предложений.Также есть аномально большие значения сыше 17000 евро. Средняя цена составляет 5200 евро, медианная - 3500. Стандартное отклонение также говорит о достаточно большом разбросе данных <br>\n",
    "В колонке <b>Kilometer</b> достаточно большое количество данных о машинах с большим пробегом. Только 25% машин с пробегом менее 125000 км. Все значения ниже 90000 км выходят за границы \"усов\" диаграммы размаха, то есть статистически они могут быть определены как выбросы<br>\n",
    "В колонке <b>Power</b> большое количество \"выбросов\"-единичных значений. Все основные значения сконцентрированы в интервале (0,2500). Однако, в данной колонке также найдены нулевые значения, что вряд-ли соответсвтует <br>\n",
    "В колонке <b>RegistrationYear</b> видно, что большинство автомобилей - 1999-2008 годов регистрации, также довольно много машин более поздних лет регистрации. Однако довольно много единичных экзмепляров младше 1990 года регистрации  <br>\n",
    "В колонке <b>RegistrationMonth</b> видно, что чаще всего автомобили регистрируют в июне-июле и ноябре-декабре. Можно также видеть, что в данной колонке присутствуют значения месяцев 0-12. То есть 13 значений. Рассмотрим их ниже<br> \n",
    "В колонках price и power найдены строки с нулевым значением, вероятно также есть значения, близкие к 0. Рассмотрим подробнее эти колонки с низкими значениями."
   ]
  },
  {
   "cell_type": "markdown",
   "metadata": {},
   "source": [
    "<h5>Анализ значений в колонках Price</h5>"
   ]
  },
  {
   "cell_type": "code",
   "execution_count": 11,
   "metadata": {},
   "outputs": [
    {
     "data": {
      "text/html": [
       "<div>\n",
       "<style scoped>\n",
       "    .dataframe tbody tr th:only-of-type {\n",
       "        vertical-align: middle;\n",
       "    }\n",
       "\n",
       "    .dataframe tbody tr th {\n",
       "        vertical-align: top;\n",
       "    }\n",
       "\n",
       "    .dataframe thead th {\n",
       "        text-align: right;\n",
       "    }\n",
       "</style>\n",
       "<table border=\"1\" class=\"dataframe\">\n",
       "  <thead>\n",
       "    <tr style=\"text-align: right;\">\n",
       "      <th></th>\n",
       "      <th>DateCrawled</th>\n",
       "      <th>Price</th>\n",
       "      <th>VehicleType</th>\n",
       "      <th>RegistrationYear</th>\n",
       "      <th>Gearbox</th>\n",
       "      <th>Power</th>\n",
       "      <th>Model</th>\n",
       "      <th>Kilometer</th>\n",
       "      <th>RegistrationMonth</th>\n",
       "      <th>FuelType</th>\n",
       "      <th>Brand</th>\n",
       "      <th>NotRepaired</th>\n",
       "      <th>DateCreated</th>\n",
       "      <th>LastSeen</th>\n",
       "    </tr>\n",
       "  </thead>\n",
       "  <tbody>\n",
       "    <tr>\n",
       "      <td>7</td>\n",
       "      <td>2016-03-21 18:54:38</td>\n",
       "      <td>0</td>\n",
       "      <td>sedan</td>\n",
       "      <td>1980</td>\n",
       "      <td>manual</td>\n",
       "      <td>50</td>\n",
       "      <td>other</td>\n",
       "      <td>40000</td>\n",
       "      <td>7</td>\n",
       "      <td>petrol</td>\n",
       "      <td>volkswagen</td>\n",
       "      <td>no</td>\n",
       "      <td>2016-03-21 00:00:00</td>\n",
       "      <td>2016-03-25 16:47:58</td>\n",
       "    </tr>\n",
       "    <tr>\n",
       "      <td>152</td>\n",
       "      <td>2016-03-11 18:55:53</td>\n",
       "      <td>0</td>\n",
       "      <td>bus</td>\n",
       "      <td>2004</td>\n",
       "      <td>manual</td>\n",
       "      <td>101</td>\n",
       "      <td>meriva</td>\n",
       "      <td>150000</td>\n",
       "      <td>10</td>\n",
       "      <td>lpg</td>\n",
       "      <td>opel</td>\n",
       "      <td>yes</td>\n",
       "      <td>2016-03-11 00:00:00</td>\n",
       "      <td>2016-03-12 23:47:10</td>\n",
       "    </tr>\n",
       "    <tr>\n",
       "      <td>579</td>\n",
       "      <td>2016-03-27 11:37:43</td>\n",
       "      <td>0</td>\n",
       "      <td>sedan</td>\n",
       "      <td>1996</td>\n",
       "      <td>manual</td>\n",
       "      <td>170</td>\n",
       "      <td>5er</td>\n",
       "      <td>150000</td>\n",
       "      <td>0</td>\n",
       "      <td>petrol</td>\n",
       "      <td>bmw</td>\n",
       "      <td>no</td>\n",
       "      <td>2016-03-27 00:00:00</td>\n",
       "      <td>2016-03-27 11:37:43</td>\n",
       "    </tr>\n",
       "    <tr>\n",
       "      <td>615</td>\n",
       "      <td>2016-04-05 06:36:35</td>\n",
       "      <td>0</td>\n",
       "      <td>sedan</td>\n",
       "      <td>1998</td>\n",
       "      <td>manual</td>\n",
       "      <td>75</td>\n",
       "      <td>polo</td>\n",
       "      <td>150000</td>\n",
       "      <td>0</td>\n",
       "      <td>petrol</td>\n",
       "      <td>volkswagen</td>\n",
       "      <td>yes</td>\n",
       "      <td>2016-04-05 00:00:00</td>\n",
       "      <td>2016-04-07 10:44:39</td>\n",
       "    </tr>\n",
       "    <tr>\n",
       "      <td>859</td>\n",
       "      <td>2016-03-09 08:53:31</td>\n",
       "      <td>0</td>\n",
       "      <td>wagon</td>\n",
       "      <td>2009</td>\n",
       "      <td>manual</td>\n",
       "      <td>170</td>\n",
       "      <td>a6</td>\n",
       "      <td>150000</td>\n",
       "      <td>1</td>\n",
       "      <td>gasoline</td>\n",
       "      <td>audi</td>\n",
       "      <td>yes</td>\n",
       "      <td>2016-03-09 00:00:00</td>\n",
       "      <td>2016-03-09 10:40:29</td>\n",
       "    </tr>\n",
       "  </tbody>\n",
       "</table>\n",
       "</div>"
      ],
      "text/plain": [
       "             DateCrawled  Price VehicleType  RegistrationYear Gearbox  Power  \\\n",
       "7    2016-03-21 18:54:38      0       sedan              1980  manual     50   \n",
       "152  2016-03-11 18:55:53      0         bus              2004  manual    101   \n",
       "579  2016-03-27 11:37:43      0       sedan              1996  manual    170   \n",
       "615  2016-04-05 06:36:35      0       sedan              1998  manual     75   \n",
       "859  2016-03-09 08:53:31      0       wagon              2009  manual    170   \n",
       "\n",
       "      Model  Kilometer  RegistrationMonth  FuelType       Brand NotRepaired  \\\n",
       "7     other      40000                  7    petrol  volkswagen          no   \n",
       "152  meriva     150000                 10       lpg        opel         yes   \n",
       "579     5er     150000                  0    petrol         bmw          no   \n",
       "615    polo     150000                  0    petrol  volkswagen         yes   \n",
       "859      a6     150000                  1  gasoline        audi         yes   \n",
       "\n",
       "             DateCreated             LastSeen  \n",
       "7    2016-03-21 00:00:00  2016-03-25 16:47:58  \n",
       "152  2016-03-11 00:00:00  2016-03-12 23:47:10  \n",
       "579  2016-03-27 00:00:00  2016-03-27 11:37:43  \n",
       "615  2016-04-05 00:00:00  2016-04-07 10:44:39  \n",
       "859  2016-03-09 00:00:00  2016-03-09 10:40:29  "
      ]
     },
     "metadata": {},
     "output_type": "display_data"
    },
    {
     "name": "stdout",
     "output_type": "stream",
     "text": [
      "Количество строк с нулевым значением Price:  3386\n"
     ]
    }
   ],
   "source": [
    "display(autos.query('Price == 0').head(5))\n",
    "print('Количество строк с нулевым значением Price: ',autos.query('Price == 0').shape[0])"
   ]
  },
  {
   "cell_type": "markdown",
   "metadata": {},
   "source": [
    "<b>Вывод</b><br>\n",
    "Строки с нулевой ценой - это строки, которые могут только приводить к переобучению модели и ухудшению ее качества. Совершенно неважно, были ли эти машины подарены или просто отсутствует информация об их ценах, в обучении модели такие строки участвовать не должны. Поэтому их лучше удалить. Проверим также есть ли еще заведомо очень низкие значения цены:"
   ]
  },
  {
   "cell_type": "code",
   "execution_count": 12,
   "metadata": {},
   "outputs": [
    {
     "name": "stdout",
     "output_type": "stream",
     "text": [
      "Price < 500\n"
     ]
    },
    {
     "data": {
      "image/png": "[encoded data removed]",
      "text/plain": [
       "<Figure size 432x288 with 1 Axes>"
      ]
     },
     "metadata": {
      "needs_background": "light"
     },
     "output_type": "display_data"
    },
    {
     "name": "stdout",
     "output_type": "stream",
     "text": [
      "--------------------------------------------------------------------------------------------------------\n",
      "Price < 100\n"
     ]
    },
    {
     "data": {
      "image/png": "[encoded data removed]",
      "text/plain": [
       "<Figure size 432x288 with 1 Axes>"
      ]
     },
     "metadata": {
      "needs_background": "light"
     },
     "output_type": "display_data"
    }
   ],
   "source": [
    "print('Price < 500')\n",
    "print_hist(autos.query('Price < 500'),'Price','Price < 500',0)\n",
    "print('-------------'*8)\n",
    "print('Price < 100')\n",
    "print_hist(autos.query('Price < 100'),'Price','Price < 100',0)"
   ]
  },
  {
   "cell_type": "markdown",
   "metadata": {},
   "source": [
    "<b>Вывод</b><br>\n",
    "Можно видеть, что присутствует достаточно большое количество автомобилей с ценой ниже 10 евро. В принципе цена на автомобиль ниже 10 евро кажется крайне маловероятной. Будет разумным удалить все строки, где цена автомобиля не превышает 10 евро. Также рассмотрим строки, где цена автомобиля не превышает 100 долларов. Такая цена также кажется маловероятной, но все-же стоит их проанализировать"
   ]
  },
  {
   "cell_type": "markdown",
   "metadata": {},
   "source": [
    "Проверим, какое количество значений предстоит удалить:"
   ]
  },
  {
   "cell_type": "code",
   "execution_count": 13,
   "metadata": {},
   "outputs": [
    {
     "name": "stdout",
     "output_type": "stream",
     "text": [
      "Доля нулевых значениий в колонке Price:  0.013774642615961662\n",
      "Доля значениий в колонке Price <= 10:  0.015267641387390465\n"
     ]
    }
   ],
   "source": [
    "print('Доля нулевых значениий в колонке Price: ',autos.query('Price == 0').shape[0]/autos.shape[0])\n",
    "print('Доля значениий в колонке Price <= 10: ',autos.query('Price <= 10').shape[0]/autos.shape[0])"
   ]
  },
  {
   "cell_type": "markdown",
   "metadata": {},
   "source": [
    "Можно видеть, что удалению подлежит 1,5% данных, то есть около 3700 строк. Возможно, стоит рассмотреть идею о контроле вводимых значений в поле \"Цена\""
   ]
  },
  {
   "cell_type": "code",
   "execution_count": 14,
   "metadata": {},
   "outputs": [
    {
     "name": "stdout",
     "output_type": "stream",
     "text": [
      "266\n"
     ]
    },
    {
     "data": {
      "image/png": "[encoded data removed]",
      "text/plain": [
       "<Figure size 432x288 with 1 Axes>"
      ]
     },
     "metadata": {
      "needs_background": "light"
     },
     "output_type": "display_data"
    },
    {
     "data": {
      "text/html": [
       "<div>\n",
       "<style scoped>\n",
       "    .dataframe tbody tr th:only-of-type {\n",
       "        vertical-align: middle;\n",
       "    }\n",
       "\n",
       "    .dataframe tbody tr th {\n",
       "        vertical-align: top;\n",
       "    }\n",
       "\n",
       "    .dataframe thead th {\n",
       "        text-align: right;\n",
       "    }\n",
       "</style>\n",
       "<table border=\"1\" class=\"dataframe\">\n",
       "  <thead>\n",
       "    <tr style=\"text-align: right;\">\n",
       "      <th></th>\n",
       "      <th>DateCrawled</th>\n",
       "      <th>Price</th>\n",
       "      <th>VehicleType</th>\n",
       "      <th>RegistrationYear</th>\n",
       "      <th>Gearbox</th>\n",
       "      <th>Power</th>\n",
       "      <th>Model</th>\n",
       "      <th>Kilometer</th>\n",
       "      <th>RegistrationMonth</th>\n",
       "      <th>FuelType</th>\n",
       "      <th>Brand</th>\n",
       "      <th>NotRepaired</th>\n",
       "      <th>DateCreated</th>\n",
       "      <th>LastSeen</th>\n",
       "    </tr>\n",
       "  </thead>\n",
       "  <tbody>\n",
       "    <tr>\n",
       "      <td>943</td>\n",
       "      <td>2016-04-03 14:39:43</td>\n",
       "      <td>98</td>\n",
       "      <td>small</td>\n",
       "      <td>1997</td>\n",
       "      <td>manual</td>\n",
       "      <td>53</td>\n",
       "      <td>swift</td>\n",
       "      <td>150000</td>\n",
       "      <td>7</td>\n",
       "      <td>petrol</td>\n",
       "      <td>suzuki</td>\n",
       "      <td>no</td>\n",
       "      <td>2016-04-03 00:00:00</td>\n",
       "      <td>2016-04-05 13:18:15</td>\n",
       "    </tr>\n",
       "    <tr>\n",
       "      <td>2687</td>\n",
       "      <td>2016-03-20 13:59:15</td>\n",
       "      <td>90</td>\n",
       "      <td>small</td>\n",
       "      <td>2001</td>\n",
       "      <td>manual</td>\n",
       "      <td>0</td>\n",
       "      <td>twingo</td>\n",
       "      <td>150000</td>\n",
       "      <td>0</td>\n",
       "      <td>petrol</td>\n",
       "      <td>renault</td>\n",
       "      <td>yes</td>\n",
       "      <td>2016-03-20 00:00:00</td>\n",
       "      <td>2016-03-20 14:40:35</td>\n",
       "    </tr>\n",
       "    <tr>\n",
       "      <td>3071</td>\n",
       "      <td>2016-03-24 19:57:53</td>\n",
       "      <td>30</td>\n",
       "      <td>sedan</td>\n",
       "      <td>1995</td>\n",
       "      <td>manual</td>\n",
       "      <td>75</td>\n",
       "      <td>polo</td>\n",
       "      <td>150000</td>\n",
       "      <td>0</td>\n",
       "      <td>petrol</td>\n",
       "      <td>volkswagen</td>\n",
       "      <td>no</td>\n",
       "      <td>2016-03-24 00:00:00</td>\n",
       "      <td>2016-04-05 13:16:29</td>\n",
       "    </tr>\n",
       "    <tr>\n",
       "      <td>5091</td>\n",
       "      <td>2016-03-21 11:37:01</td>\n",
       "      <td>60</td>\n",
       "      <td>small</td>\n",
       "      <td>1994</td>\n",
       "      <td>manual</td>\n",
       "      <td>0</td>\n",
       "      <td>micra</td>\n",
       "      <td>150000</td>\n",
       "      <td>3</td>\n",
       "      <td>petrol</td>\n",
       "      <td>nissan</td>\n",
       "      <td>yes</td>\n",
       "      <td>2016-03-21 00:00:00</td>\n",
       "      <td>2016-03-29 20:46:19</td>\n",
       "    </tr>\n",
       "    <tr>\n",
       "      <td>5289</td>\n",
       "      <td>2016-03-09 11:53:59</td>\n",
       "      <td>75</td>\n",
       "      <td>sedan</td>\n",
       "      <td>1998</td>\n",
       "      <td>manual</td>\n",
       "      <td>75</td>\n",
       "      <td>escort</td>\n",
       "      <td>150000</td>\n",
       "      <td>1</td>\n",
       "      <td>petrol</td>\n",
       "      <td>ford</td>\n",
       "      <td>yes</td>\n",
       "      <td>2016-03-09 00:00:00</td>\n",
       "      <td>2016-03-10 18:16:09</td>\n",
       "    </tr>\n",
       "  </tbody>\n",
       "</table>\n",
       "</div>"
      ],
      "text/plain": [
       "              DateCrawled  Price VehicleType  RegistrationYear Gearbox  Power  \\\n",
       "943   2016-04-03 14:39:43     98       small              1997  manual     53   \n",
       "2687  2016-03-20 13:59:15     90       small              2001  manual      0   \n",
       "3071  2016-03-24 19:57:53     30       sedan              1995  manual     75   \n",
       "5091  2016-03-21 11:37:01     60       small              1994  manual      0   \n",
       "5289  2016-03-09 11:53:59     75       sedan              1998  manual     75   \n",
       "\n",
       "       Model  Kilometer  RegistrationMonth FuelType       Brand NotRepaired  \\\n",
       "943    swift     150000                  7   petrol      suzuki          no   \n",
       "2687  twingo     150000                  0   petrol     renault         yes   \n",
       "3071    polo     150000                  0   petrol  volkswagen          no   \n",
       "5091   micra     150000                  3   petrol      nissan         yes   \n",
       "5289  escort     150000                  1   petrol        ford         yes   \n",
       "\n",
       "              DateCreated             LastSeen  \n",
       "943   2016-04-03 00:00:00  2016-04-05 13:18:15  \n",
       "2687  2016-03-20 00:00:00  2016-03-20 14:40:35  \n",
       "3071  2016-03-24 00:00:00  2016-04-05 13:16:29  \n",
       "5091  2016-03-21 00:00:00  2016-03-29 20:46:19  \n",
       "5289  2016-03-09 00:00:00  2016-03-10 18:16:09  "
      ]
     },
     "metadata": {},
     "output_type": "display_data"
    }
   ],
   "source": [
    "autos = autos.query('Price > 10')\n",
    "print(autos.query('Price < 100').shape[0])\n",
    "print_hist(autos.query('Price < 100'),'Price','Price < 100',0)\n",
    "display(autos.query('Price < 100').head(5))"
   ]
  },
  {
   "cell_type": "markdown",
   "metadata": {},
   "source": [
    "<b>Вывод</b><br>\n",
    "Можно видеть, что в датасете по-прежнему есть 266 строк, где цена автомобиля не превышает 100 евро. Совершенно безболезненно можно удалить строки, где цена за автомобиль не превышает 45 евро. Такая цена кажется практически нереальной для цены на автомобиль, и таких строк немного"
   ]
  },
  {
   "cell_type": "code",
   "execution_count": 15,
   "metadata": {},
   "outputs": [
    {
     "name": "stdout",
     "output_type": "stream",
     "text": [
      "Строки со значением Price <=45 удалены\n"
     ]
    }
   ],
   "source": [
    "autos = autos.query('Price > 45')\n",
    "print('Строки со значением Price <=45 удалены')"
   ]
  },
  {
   "cell_type": "markdown",
   "metadata": {},
   "source": [
    "<h5>Анализ значений в колонке Power</h5>"
   ]
  },
  {
   "cell_type": "markdown",
   "metadata": {},
   "source": [
    "В колонке Power достаточно большое количество аномальных значений. Выведем более подробные диаграммы:"
   ]
  },
  {
   "cell_type": "code",
   "execution_count": 16,
   "metadata": {},
   "outputs": [
    {
     "data": {
      "image/png": "[encoded data removed]",
      "text/plain": [
       "<Figure size 432x288 with 1 Axes>"
      ]
     },
     "metadata": {
      "needs_background": "light"
     },
     "output_type": "display_data"
    },
    {
     "data": {
      "image/png": "[encoded data removed]",
      "text/plain": [
       "<Figure size 432x288 with 1 Axes>"
      ]
     },
     "metadata": {
      "needs_background": "light"
     },
     "output_type": "display_data"
    },
    {
     "data": {
      "image/png": "[encoded data removed]",
      "text/plain": [
       "<Figure size 432x288 with 1 Axes>"
      ]
     },
     "metadata": {
      "needs_background": "light"
     },
     "output_type": "display_data"
    },
    {
     "data": {
      "image/png": "[encoded data removed]",
      "text/plain": [
       "<Figure size 432x288 with 1 Axes>"
      ]
     },
     "metadata": {
      "needs_background": "light"
     },
     "output_type": "display_data"
    }
   ],
   "source": [
    "print_boxplot(autos.query('Power<500'),'Power','Power < 500')\n",
    "print_hist(autos.query('Power<300'),'Power','Power <300',50)\n",
    "print_hist(autos.query('Power<100'),'Power','Power <100',50)\n",
    "print_hist(autos.query('Power<20'),'Power','Power <20',20)"
   ]
  },
  {
   "cell_type": "markdown",
   "metadata": {},
   "source": [
    "В колонке Power около 9000 строк со значением 0. Посмотрим, что это за строки и что с ними можно сделать"
   ]
  },
  {
   "cell_type": "code",
   "execution_count": 17,
   "metadata": {},
   "outputs": [
    {
     "data": {
      "text/html": [
       "<div>\n",
       "<style scoped>\n",
       "    .dataframe tbody tr th:only-of-type {\n",
       "        vertical-align: middle;\n",
       "    }\n",
       "\n",
       "    .dataframe tbody tr th {\n",
       "        vertical-align: top;\n",
       "    }\n",
       "\n",
       "    .dataframe thead th {\n",
       "        text-align: right;\n",
       "    }\n",
       "</style>\n",
       "<table border=\"1\" class=\"dataframe\">\n",
       "  <thead>\n",
       "    <tr style=\"text-align: right;\">\n",
       "      <th></th>\n",
       "      <th>DateCrawled</th>\n",
       "      <th>Price</th>\n",
       "      <th>VehicleType</th>\n",
       "      <th>RegistrationYear</th>\n",
       "      <th>Gearbox</th>\n",
       "      <th>Power</th>\n",
       "      <th>Model</th>\n",
       "      <th>Kilometer</th>\n",
       "      <th>RegistrationMonth</th>\n",
       "      <th>FuelType</th>\n",
       "      <th>Brand</th>\n",
       "      <th>NotRepaired</th>\n",
       "      <th>DateCreated</th>\n",
       "      <th>LastSeen</th>\n",
       "    </tr>\n",
       "  </thead>\n",
       "  <tbody>\n",
       "    <tr>\n",
       "      <td>55</td>\n",
       "      <td>2016-03-26 10:39:35</td>\n",
       "      <td>550</td>\n",
       "      <td>wagon</td>\n",
       "      <td>1999</td>\n",
       "      <td>manual</td>\n",
       "      <td>0</td>\n",
       "      <td>astra</td>\n",
       "      <td>150000</td>\n",
       "      <td>8</td>\n",
       "      <td>gasoline</td>\n",
       "      <td>opel</td>\n",
       "      <td>yes</td>\n",
       "      <td>2016-03-26 00:00:00</td>\n",
       "      <td>2016-04-01 23:17:27</td>\n",
       "    </tr>\n",
       "    <tr>\n",
       "      <td>70</td>\n",
       "      <td>2016-03-08 01:36:42</td>\n",
       "      <td>800</td>\n",
       "      <td>small</td>\n",
       "      <td>1993</td>\n",
       "      <td>manual</td>\n",
       "      <td>0</td>\n",
       "      <td>polo</td>\n",
       "      <td>150000</td>\n",
       "      <td>3</td>\n",
       "      <td>petrol</td>\n",
       "      <td>volkswagen</td>\n",
       "      <td>no</td>\n",
       "      <td>2016-03-08 00:00:00</td>\n",
       "      <td>2016-04-05 23:46:00</td>\n",
       "    </tr>\n",
       "    <tr>\n",
       "      <td>98</td>\n",
       "      <td>2016-03-11 19:00:25</td>\n",
       "      <td>4290</td>\n",
       "      <td>bus</td>\n",
       "      <td>2008</td>\n",
       "      <td>manual</td>\n",
       "      <td>0</td>\n",
       "      <td>combo</td>\n",
       "      <td>150000</td>\n",
       "      <td>2</td>\n",
       "      <td>gasoline</td>\n",
       "      <td>opel</td>\n",
       "      <td>no</td>\n",
       "      <td>2016-03-11 00:00:00</td>\n",
       "      <td>2016-04-05 22:45:32</td>\n",
       "    </tr>\n",
       "    <tr>\n",
       "      <td>158</td>\n",
       "      <td>2016-04-01 16:06:24</td>\n",
       "      <td>800</td>\n",
       "      <td>sedan</td>\n",
       "      <td>1993</td>\n",
       "      <td>manual</td>\n",
       "      <td>0</td>\n",
       "      <td>golf</td>\n",
       "      <td>10000</td>\n",
       "      <td>9</td>\n",
       "      <td>petrol</td>\n",
       "      <td>volkswagen</td>\n",
       "      <td>yes</td>\n",
       "      <td>2016-04-01 00:00:00</td>\n",
       "      <td>2016-04-07 11:17:07</td>\n",
       "    </tr>\n",
       "    <tr>\n",
       "      <td>166</td>\n",
       "      <td>2016-03-16 12:53:29</td>\n",
       "      <td>300</td>\n",
       "      <td>wagon</td>\n",
       "      <td>1998</td>\n",
       "      <td>manual</td>\n",
       "      <td>0</td>\n",
       "      <td>v40</td>\n",
       "      <td>150000</td>\n",
       "      <td>6</td>\n",
       "      <td>petrol</td>\n",
       "      <td>volvo</td>\n",
       "      <td>no</td>\n",
       "      <td>2016-03-16 00:00:00</td>\n",
       "      <td>2016-03-25 10:18:16</td>\n",
       "    </tr>\n",
       "  </tbody>\n",
       "</table>\n",
       "</div>"
      ],
      "text/plain": [
       "             DateCrawled  Price VehicleType  RegistrationYear Gearbox  Power  \\\n",
       "55   2016-03-26 10:39:35    550       wagon              1999  manual      0   \n",
       "70   2016-03-08 01:36:42    800       small              1993  manual      0   \n",
       "98   2016-03-11 19:00:25   4290         bus              2008  manual      0   \n",
       "158  2016-04-01 16:06:24    800       sedan              1993  manual      0   \n",
       "166  2016-03-16 12:53:29    300       wagon              1998  manual      0   \n",
       "\n",
       "     Model  Kilometer  RegistrationMonth  FuelType       Brand NotRepaired  \\\n",
       "55   astra     150000                  8  gasoline        opel         yes   \n",
       "70    polo     150000                  3    petrol  volkswagen          no   \n",
       "98   combo     150000                  2  gasoline        opel          no   \n",
       "158   golf      10000                  9    petrol  volkswagen         yes   \n",
       "166    v40     150000                  6    petrol       volvo          no   \n",
       "\n",
       "             DateCreated             LastSeen  \n",
       "55   2016-03-26 00:00:00  2016-04-01 23:17:27  \n",
       "70   2016-03-08 00:00:00  2016-04-05 23:46:00  \n",
       "98   2016-03-11 00:00:00  2016-04-05 22:45:32  \n",
       "158  2016-04-01 00:00:00  2016-04-07 11:17:07  \n",
       "166  2016-03-16 00:00:00  2016-03-25 10:18:16  "
      ]
     },
     "metadata": {},
     "output_type": "display_data"
    },
    {
     "name": "stdout",
     "output_type": "stream",
     "text": [
      "Количество нулевых значений:  9094\n"
     ]
    }
   ],
   "source": [
    "display(autos.query('Power == 0').head(5))\n",
    "print('Количество нулевых значений: ',autos.query('Power == 0').shape[0])"
   ]
  },
  {
   "cell_type": "markdown",
   "metadata": {},
   "source": [
    "Проверим, отличаются ли значения в колонке Power для автомобилей одной и той же марки и бренда"
   ]
  },
  {
   "cell_type": "code",
   "execution_count": 18,
   "metadata": {},
   "outputs": [
    {
     "data": {
      "text/html": [
       "<div>\n",
       "<style scoped>\n",
       "    .dataframe tbody tr th:only-of-type {\n",
       "        vertical-align: middle;\n",
       "    }\n",
       "\n",
       "    .dataframe tbody tr th {\n",
       "        vertical-align: top;\n",
       "    }\n",
       "\n",
       "    .dataframe thead th {\n",
       "        text-align: right;\n",
       "    }\n",
       "</style>\n",
       "<table border=\"1\" class=\"dataframe\">\n",
       "  <thead>\n",
       "    <tr style=\"text-align: right;\">\n",
       "      <th></th>\n",
       "      <th>DateCrawled</th>\n",
       "      <th>Price</th>\n",
       "      <th>VehicleType</th>\n",
       "      <th>RegistrationYear</th>\n",
       "      <th>Gearbox</th>\n",
       "      <th>Power</th>\n",
       "      <th>Model</th>\n",
       "      <th>Kilometer</th>\n",
       "      <th>RegistrationMonth</th>\n",
       "      <th>FuelType</th>\n",
       "      <th>Brand</th>\n",
       "      <th>NotRepaired</th>\n",
       "      <th>DateCreated</th>\n",
       "      <th>LastSeen</th>\n",
       "    </tr>\n",
       "  </thead>\n",
       "  <tbody>\n",
       "    <tr>\n",
       "      <td>98</td>\n",
       "      <td>2016-03-11 19:00:25</td>\n",
       "      <td>4290</td>\n",
       "      <td>bus</td>\n",
       "      <td>2008</td>\n",
       "      <td>manual</td>\n",
       "      <td>0</td>\n",
       "      <td>combo</td>\n",
       "      <td>150000</td>\n",
       "      <td>2</td>\n",
       "      <td>gasoline</td>\n",
       "      <td>opel</td>\n",
       "      <td>no</td>\n",
       "      <td>2016-03-11 00:00:00</td>\n",
       "      <td>2016-04-05 22:45:32</td>\n",
       "    </tr>\n",
       "    <tr>\n",
       "      <td>127</td>\n",
       "      <td>2016-03-16 18:37:43</td>\n",
       "      <td>1100</td>\n",
       "      <td>bus</td>\n",
       "      <td>2003</td>\n",
       "      <td>manual</td>\n",
       "      <td>75</td>\n",
       "      <td>combo</td>\n",
       "      <td>150000</td>\n",
       "      <td>3</td>\n",
       "      <td>gasoline</td>\n",
       "      <td>opel</td>\n",
       "      <td>no</td>\n",
       "      <td>2016-03-16 00:00:00</td>\n",
       "      <td>2016-03-24 11:46:38</td>\n",
       "    </tr>\n",
       "    <tr>\n",
       "      <td>1093</td>\n",
       "      <td>2016-04-04 13:25:44</td>\n",
       "      <td>4500</td>\n",
       "      <td>other</td>\n",
       "      <td>2012</td>\n",
       "      <td>manual</td>\n",
       "      <td>90</td>\n",
       "      <td>combo</td>\n",
       "      <td>150000</td>\n",
       "      <td>1</td>\n",
       "      <td>gasoline</td>\n",
       "      <td>opel</td>\n",
       "      <td>yes</td>\n",
       "      <td>2016-04-04 00:00:00</td>\n",
       "      <td>2016-04-05 12:16:01</td>\n",
       "    </tr>\n",
       "    <tr>\n",
       "      <td>2533</td>\n",
       "      <td>2016-03-13 00:25:21</td>\n",
       "      <td>1995</td>\n",
       "      <td>bus</td>\n",
       "      <td>2003</td>\n",
       "      <td>manual</td>\n",
       "      <td>95</td>\n",
       "      <td>combo</td>\n",
       "      <td>150000</td>\n",
       "      <td>1</td>\n",
       "      <td>petrol</td>\n",
       "      <td>opel</td>\n",
       "      <td>no</td>\n",
       "      <td>2016-03-12 00:00:00</td>\n",
       "      <td>2016-03-14 14:12:10</td>\n",
       "    </tr>\n",
       "    <tr>\n",
       "      <td>2591</td>\n",
       "      <td>2016-03-14 12:36:24</td>\n",
       "      <td>1650</td>\n",
       "      <td>wagon</td>\n",
       "      <td>2003</td>\n",
       "      <td>manual</td>\n",
       "      <td>65</td>\n",
       "      <td>combo</td>\n",
       "      <td>30000</td>\n",
       "      <td>10</td>\n",
       "      <td>gasoline</td>\n",
       "      <td>opel</td>\n",
       "      <td>no</td>\n",
       "      <td>2016-03-14 00:00:00</td>\n",
       "      <td>2016-03-23 12:46:06</td>\n",
       "    </tr>\n",
       "  </tbody>\n",
       "</table>\n",
       "</div>"
      ],
      "text/plain": [
       "              DateCrawled  Price VehicleType  RegistrationYear Gearbox  Power  \\\n",
       "98    2016-03-11 19:00:25   4290         bus              2008  manual      0   \n",
       "127   2016-03-16 18:37:43   1100         bus              2003  manual     75   \n",
       "1093  2016-04-04 13:25:44   4500       other              2012  manual     90   \n",
       "2533  2016-03-13 00:25:21   1995         bus              2003  manual     95   \n",
       "2591  2016-03-14 12:36:24   1650       wagon              2003  manual     65   \n",
       "\n",
       "      Model  Kilometer  RegistrationMonth  FuelType Brand NotRepaired  \\\n",
       "98    combo     150000                  2  gasoline  opel          no   \n",
       "127   combo     150000                  3  gasoline  opel          no   \n",
       "1093  combo     150000                  1  gasoline  opel         yes   \n",
       "2533  combo     150000                  1    petrol  opel          no   \n",
       "2591  combo      30000                 10  gasoline  opel          no   \n",
       "\n",
       "              DateCreated             LastSeen  \n",
       "98    2016-03-11 00:00:00  2016-04-05 22:45:32  \n",
       "127   2016-03-16 00:00:00  2016-03-24 11:46:38  \n",
       "1093  2016-04-04 00:00:00  2016-04-05 12:16:01  \n",
       "2533  2016-03-12 00:00:00  2016-03-14 14:12:10  \n",
       "2591  2016-03-14 00:00:00  2016-03-23 12:46:06  "
      ]
     },
     "metadata": {},
     "output_type": "display_data"
    }
   ],
   "source": [
    "display(autos.query('Brand == \"opel\" and Model == \"combo\"').head(5))"
   ]
  },
  {
   "cell_type": "markdown",
   "metadata": {},
   "source": [
    "<b>Вывод</b><br>\n",
    "Значения в колонке Power - категориальные, и для разных автомобилей одного и того же бренда и марки (даже одного и того же года) могут отличаться, поэтому заполнить их какими-либо значениями нельзя. А нулевые значения - заведомо некорректные, они могут приводить к переобучению и ухудшению качества модели (тем более в таких количествах). Так что их лучше удалить"
   ]
  },
  {
   "cell_type": "code",
   "execution_count": 19,
   "metadata": {},
   "outputs": [
    {
     "name": "stdout",
     "output_type": "stream",
     "text": [
      "Строки со значением Power == 0 удалены\n"
     ]
    },
    {
     "data": {
      "image/png": "[encoded data removed]",
      "text/plain": [
       "<Figure size 432x288 with 1 Axes>"
      ]
     },
     "metadata": {
      "needs_background": "light"
     },
     "output_type": "display_data"
    }
   ],
   "source": [
    "autos = autos.query('Power > 0')\n",
    "print('Строки со значением Power == 0 удалены')\n",
    "print_hist(autos.query('Power<20'),'Power','Power <20',20)"
   ]
  },
  {
   "cell_type": "markdown",
   "metadata": {},
   "source": [
    "Можно видеть, что в колонке все еще содержатся очень низкие значения мощности двигателя. Особенно интересны значения ниже 10 л.с.: такие значения были свойственны первым автомомбилям и некоторым автомобилям начала 20 века. Значения 10-20 лс еще также могли встречаться в начале 20 века, а также немного позже в автомобилях с мотоциклетным двигателем."
   ]
  },
  {
   "cell_type": "code",
   "execution_count": 20,
   "metadata": {},
   "outputs": [
    {
     "data": {
      "text/html": [
       "<div>\n",
       "<style scoped>\n",
       "    .dataframe tbody tr th:only-of-type {\n",
       "        vertical-align: middle;\n",
       "    }\n",
       "\n",
       "    .dataframe tbody tr th {\n",
       "        vertical-align: top;\n",
       "    }\n",
       "\n",
       "    .dataframe thead th {\n",
       "        text-align: right;\n",
       "    }\n",
       "</style>\n",
       "<table border=\"1\" class=\"dataframe\">\n",
       "  <thead>\n",
       "    <tr style=\"text-align: right;\">\n",
       "      <th></th>\n",
       "      <th>DateCrawled</th>\n",
       "      <th>Price</th>\n",
       "      <th>VehicleType</th>\n",
       "      <th>RegistrationYear</th>\n",
       "      <th>Gearbox</th>\n",
       "      <th>Power</th>\n",
       "      <th>Model</th>\n",
       "      <th>Kilometer</th>\n",
       "      <th>RegistrationMonth</th>\n",
       "      <th>FuelType</th>\n",
       "      <th>Brand</th>\n",
       "      <th>NotRepaired</th>\n",
       "      <th>DateCreated</th>\n",
       "      <th>LastSeen</th>\n",
       "    </tr>\n",
       "  </thead>\n",
       "  <tbody>\n",
       "    <tr>\n",
       "      <td>324049</td>\n",
       "      <td>2016-03-16 17:57:29</td>\n",
       "      <td>8750</td>\n",
       "      <td>convertible</td>\n",
       "      <td>1923</td>\n",
       "      <td>manual</td>\n",
       "      <td>8</td>\n",
       "      <td>c3</td>\n",
       "      <td>5000</td>\n",
       "      <td>1</td>\n",
       "      <td>petrol</td>\n",
       "      <td>citroen</td>\n",
       "      <td>no</td>\n",
       "      <td>2016-03-16 00:00:00</td>\n",
       "      <td>2016-04-04 22:16:07</td>\n",
       "    </tr>\n",
       "    <tr>\n",
       "      <td>52952</td>\n",
       "      <td>2016-03-07 19:53:06</td>\n",
       "      <td>990</td>\n",
       "      <td>coupe</td>\n",
       "      <td>1974</td>\n",
       "      <td>manual</td>\n",
       "      <td>1</td>\n",
       "      <td>kadett</td>\n",
       "      <td>5000</td>\n",
       "      <td>3</td>\n",
       "      <td>petrol</td>\n",
       "      <td>opel</td>\n",
       "      <td>yes</td>\n",
       "      <td>2016-03-07 00:00:00</td>\n",
       "      <td>2016-03-10 04:44:22</td>\n",
       "    </tr>\n",
       "    <tr>\n",
       "      <td>196897</td>\n",
       "      <td>2016-04-05 11:37:54</td>\n",
       "      <td>500</td>\n",
       "      <td>small</td>\n",
       "      <td>1975</td>\n",
       "      <td>manual</td>\n",
       "      <td>1</td>\n",
       "      <td>polo</td>\n",
       "      <td>150000</td>\n",
       "      <td>8</td>\n",
       "      <td>petrol</td>\n",
       "      <td>volkswagen</td>\n",
       "      <td>no</td>\n",
       "      <td>2016-04-05 00:00:00</td>\n",
       "      <td>2016-04-05 11:37:54</td>\n",
       "    </tr>\n",
       "    <tr>\n",
       "      <td>274968</td>\n",
       "      <td>2016-03-08 11:38:54</td>\n",
       "      <td>200</td>\n",
       "      <td>sedan</td>\n",
       "      <td>1992</td>\n",
       "      <td>manual</td>\n",
       "      <td>1</td>\n",
       "      <td>golf</td>\n",
       "      <td>100000</td>\n",
       "      <td>12</td>\n",
       "      <td>petrol</td>\n",
       "      <td>volkswagen</td>\n",
       "      <td>yes</td>\n",
       "      <td>2016-03-08 00:00:00</td>\n",
       "      <td>2016-03-10 02:46:26</td>\n",
       "    </tr>\n",
       "    <tr>\n",
       "      <td>59478</td>\n",
       "      <td>2016-03-28 18:40:10</td>\n",
       "      <td>999</td>\n",
       "      <td>convertible</td>\n",
       "      <td>1995</td>\n",
       "      <td>manual</td>\n",
       "      <td>5</td>\n",
       "      <td>punto</td>\n",
       "      <td>125000</td>\n",
       "      <td>0</td>\n",
       "      <td>petrol</td>\n",
       "      <td>fiat</td>\n",
       "      <td>no</td>\n",
       "      <td>2016-03-28 00:00:00</td>\n",
       "      <td>2016-04-01 03:18:18</td>\n",
       "    </tr>\n",
       "    <tr>\n",
       "      <td>166634</td>\n",
       "      <td>2016-03-29 14:46:45</td>\n",
       "      <td>850</td>\n",
       "      <td>small</td>\n",
       "      <td>1996</td>\n",
       "      <td>manual</td>\n",
       "      <td>6</td>\n",
       "      <td>polo</td>\n",
       "      <td>150000</td>\n",
       "      <td>5</td>\n",
       "      <td>petrol</td>\n",
       "      <td>volkswagen</td>\n",
       "      <td>no</td>\n",
       "      <td>2016-03-29 00:00:00</td>\n",
       "      <td>2016-04-03 23:16:28</td>\n",
       "    </tr>\n",
       "    <tr>\n",
       "      <td>94319</td>\n",
       "      <td>2016-03-22 13:38:51</td>\n",
       "      <td>300</td>\n",
       "      <td>convertible</td>\n",
       "      <td>1997</td>\n",
       "      <td>manual</td>\n",
       "      <td>1</td>\n",
       "      <td>golf</td>\n",
       "      <td>5000</td>\n",
       "      <td>4</td>\n",
       "      <td>gasoline</td>\n",
       "      <td>volkswagen</td>\n",
       "      <td>yes</td>\n",
       "      <td>2016-03-22 00:00:00</td>\n",
       "      <td>2016-04-04 01:15:36</td>\n",
       "    </tr>\n",
       "    <tr>\n",
       "      <td>146998</td>\n",
       "      <td>2016-03-30 12:54:27</td>\n",
       "      <td>650</td>\n",
       "      <td>bus</td>\n",
       "      <td>1998</td>\n",
       "      <td>manual</td>\n",
       "      <td>5</td>\n",
       "      <td>kangoo</td>\n",
       "      <td>150000</td>\n",
       "      <td>6</td>\n",
       "      <td>petrol</td>\n",
       "      <td>renault</td>\n",
       "      <td>no</td>\n",
       "      <td>2016-03-30 00:00:00</td>\n",
       "      <td>2016-03-30 12:54:27</td>\n",
       "    </tr>\n",
       "    <tr>\n",
       "      <td>44179</td>\n",
       "      <td>2016-04-02 17:52:18</td>\n",
       "      <td>500</td>\n",
       "      <td>small</td>\n",
       "      <td>1998</td>\n",
       "      <td>auto</td>\n",
       "      <td>7</td>\n",
       "      <td>1_reihe</td>\n",
       "      <td>100000</td>\n",
       "      <td>11</td>\n",
       "      <td>petrol</td>\n",
       "      <td>peugeot</td>\n",
       "      <td>no</td>\n",
       "      <td>2016-04-02 00:00:00</td>\n",
       "      <td>2016-04-02 17:52:18</td>\n",
       "    </tr>\n",
       "    <tr>\n",
       "      <td>161438</td>\n",
       "      <td>2016-03-23 21:06:33</td>\n",
       "      <td>900</td>\n",
       "      <td>wagon</td>\n",
       "      <td>1998</td>\n",
       "      <td>manual</td>\n",
       "      <td>1</td>\n",
       "      <td>other</td>\n",
       "      <td>5000</td>\n",
       "      <td>5</td>\n",
       "      <td>other</td>\n",
       "      <td>fiat</td>\n",
       "      <td>no</td>\n",
       "      <td>2016-03-23 00:00:00</td>\n",
       "      <td>2016-04-07 00:15:56</td>\n",
       "    </tr>\n",
       "  </tbody>\n",
       "</table>\n",
       "</div>"
      ],
      "text/plain": [
       "                DateCrawled  Price  VehicleType  RegistrationYear Gearbox  \\\n",
       "324049  2016-03-16 17:57:29   8750  convertible              1923  manual   \n",
       "52952   2016-03-07 19:53:06    990        coupe              1974  manual   \n",
       "196897  2016-04-05 11:37:54    500        small              1975  manual   \n",
       "274968  2016-03-08 11:38:54    200        sedan              1992  manual   \n",
       "59478   2016-03-28 18:40:10    999  convertible              1995  manual   \n",
       "166634  2016-03-29 14:46:45    850        small              1996  manual   \n",
       "94319   2016-03-22 13:38:51    300  convertible              1997  manual   \n",
       "146998  2016-03-30 12:54:27    650          bus              1998  manual   \n",
       "44179   2016-04-02 17:52:18    500        small              1998    auto   \n",
       "161438  2016-03-23 21:06:33    900        wagon              1998  manual   \n",
       "\n",
       "        Power    Model  Kilometer  RegistrationMonth  FuelType       Brand  \\\n",
       "324049      8       c3       5000                  1    petrol     citroen   \n",
       "52952       1   kadett       5000                  3    petrol        opel   \n",
       "196897      1     polo     150000                  8    petrol  volkswagen   \n",
       "274968      1     golf     100000                 12    petrol  volkswagen   \n",
       "59478       5    punto     125000                  0    petrol        fiat   \n",
       "166634      6     polo     150000                  5    petrol  volkswagen   \n",
       "94319       1     golf       5000                  4  gasoline  volkswagen   \n",
       "146998      5   kangoo     150000                  6    petrol     renault   \n",
       "44179       7  1_reihe     100000                 11    petrol     peugeot   \n",
       "161438      1    other       5000                  5     other        fiat   \n",
       "\n",
       "       NotRepaired          DateCreated             LastSeen  \n",
       "324049          no  2016-03-16 00:00:00  2016-04-04 22:16:07  \n",
       "52952          yes  2016-03-07 00:00:00  2016-03-10 04:44:22  \n",
       "196897          no  2016-04-05 00:00:00  2016-04-05 11:37:54  \n",
       "274968         yes  2016-03-08 00:00:00  2016-03-10 02:46:26  \n",
       "59478           no  2016-03-28 00:00:00  2016-04-01 03:18:18  \n",
       "166634          no  2016-03-29 00:00:00  2016-04-03 23:16:28  \n",
       "94319          yes  2016-03-22 00:00:00  2016-04-04 01:15:36  \n",
       "146998          no  2016-03-30 00:00:00  2016-03-30 12:54:27  \n",
       "44179           no  2016-04-02 00:00:00  2016-04-02 17:52:18  \n",
       "161438          no  2016-03-23 00:00:00  2016-04-07 00:15:56  "
      ]
     },
     "metadata": {},
     "output_type": "display_data"
    },
    {
     "name": "stdout",
     "output_type": "stream",
     "text": [
      "Количество колонок с Power < 10: 32\n"
     ]
    }
   ],
   "source": [
    "display(autos.query('Power < 10').sort_values(by = 'RegistrationYear').head(10))\n",
    "print('Количество колонок с Power < 10:',autos.query('Power < 10').shape[0])"
   ]
  },
  {
   "cell_type": "markdown",
   "metadata": {},
   "source": [
    "В этих данных можно сразу увидеть некоторые ошибки. Во-первых, автомобиль opel kadett 1974 имел мощность двигателя не менее 45 л.с., да и в принципе такие маленькие значения мощности (1,5,6) двигателя для автомобилей второй половины 20 века - как минимум странно, автомобили были гораздо более мощными. Очевидно, что это данные с ошибкой. \n",
    "Проверим, для автомобилей каких лет указана столь низкая мощность двигателя"
   ]
  },
  {
   "cell_type": "code",
   "execution_count": 21,
   "metadata": {},
   "outputs": [
    {
     "data": {
      "text/html": [
       "<div>\n",
       "<style scoped>\n",
       "    .dataframe tbody tr th:only-of-type {\n",
       "        vertical-align: middle;\n",
       "    }\n",
       "\n",
       "    .dataframe tbody tr th {\n",
       "        vertical-align: top;\n",
       "    }\n",
       "\n",
       "    .dataframe thead tr th {\n",
       "        text-align: left;\n",
       "    }\n",
       "\n",
       "    .dataframe thead tr:last-of-type th {\n",
       "        text-align: right;\n",
       "    }\n",
       "</style>\n",
       "<table border=\"1\" class=\"dataframe\">\n",
       "  <thead>\n",
       "    <tr>\n",
       "      <th></th>\n",
       "      <th colspan=\"10\" halign=\"left\">Price</th>\n",
       "    </tr>\n",
       "    <tr>\n",
       "      <th>Power</th>\n",
       "      <th>1</th>\n",
       "      <th>2</th>\n",
       "      <th>3</th>\n",
       "      <th>4</th>\n",
       "      <th>5</th>\n",
       "      <th>6</th>\n",
       "      <th>7</th>\n",
       "      <th>8</th>\n",
       "      <th>9</th>\n",
       "      <th>10</th>\n",
       "    </tr>\n",
       "    <tr>\n",
       "      <th>RegistrationYear</th>\n",
       "      <th></th>\n",
       "      <th></th>\n",
       "      <th></th>\n",
       "      <th></th>\n",
       "      <th></th>\n",
       "      <th></th>\n",
       "      <th></th>\n",
       "      <th></th>\n",
       "      <th></th>\n",
       "      <th></th>\n",
       "    </tr>\n",
       "  </thead>\n",
       "  <tbody>\n",
       "    <tr>\n",
       "      <td>1923</td>\n",
       "      <td>-</td>\n",
       "      <td>-</td>\n",
       "      <td>-</td>\n",
       "      <td>-</td>\n",
       "      <td>-</td>\n",
       "      <td>-</td>\n",
       "      <td>-</td>\n",
       "      <td>1</td>\n",
       "      <td>-</td>\n",
       "      <td>-</td>\n",
       "    </tr>\n",
       "    <tr>\n",
       "      <td>1974</td>\n",
       "      <td>1</td>\n",
       "      <td>-</td>\n",
       "      <td>-</td>\n",
       "      <td>-</td>\n",
       "      <td>-</td>\n",
       "      <td>-</td>\n",
       "      <td>-</td>\n",
       "      <td>-</td>\n",
       "      <td>-</td>\n",
       "      <td>-</td>\n",
       "    </tr>\n",
       "    <tr>\n",
       "      <td>1975</td>\n",
       "      <td>1</td>\n",
       "      <td>-</td>\n",
       "      <td>-</td>\n",
       "      <td>-</td>\n",
       "      <td>-</td>\n",
       "      <td>-</td>\n",
       "      <td>-</td>\n",
       "      <td>-</td>\n",
       "      <td>-</td>\n",
       "      <td>-</td>\n",
       "    </tr>\n",
       "    <tr>\n",
       "      <td>1992</td>\n",
       "      <td>1</td>\n",
       "      <td>-</td>\n",
       "      <td>-</td>\n",
       "      <td>-</td>\n",
       "      <td>-</td>\n",
       "      <td>-</td>\n",
       "      <td>-</td>\n",
       "      <td>-</td>\n",
       "      <td>-</td>\n",
       "      <td>-</td>\n",
       "    </tr>\n",
       "    <tr>\n",
       "      <td>1995</td>\n",
       "      <td>-</td>\n",
       "      <td>-</td>\n",
       "      <td>-</td>\n",
       "      <td>-</td>\n",
       "      <td>1</td>\n",
       "      <td>-</td>\n",
       "      <td>-</td>\n",
       "      <td>-</td>\n",
       "      <td>-</td>\n",
       "      <td>1</td>\n",
       "    </tr>\n",
       "    <tr>\n",
       "      <td>1996</td>\n",
       "      <td>-</td>\n",
       "      <td>-</td>\n",
       "      <td>-</td>\n",
       "      <td>-</td>\n",
       "      <td>-</td>\n",
       "      <td>1</td>\n",
       "      <td>-</td>\n",
       "      <td>-</td>\n",
       "      <td>-</td>\n",
       "      <td>-</td>\n",
       "    </tr>\n",
       "    <tr>\n",
       "      <td>1997</td>\n",
       "      <td>1</td>\n",
       "      <td>-</td>\n",
       "      <td>-</td>\n",
       "      <td>-</td>\n",
       "      <td>-</td>\n",
       "      <td>-</td>\n",
       "      <td>-</td>\n",
       "      <td>-</td>\n",
       "      <td>-</td>\n",
       "      <td>-</td>\n",
       "    </tr>\n",
       "    <tr>\n",
       "      <td>1998</td>\n",
       "      <td>2</td>\n",
       "      <td>-</td>\n",
       "      <td>-</td>\n",
       "      <td>-</td>\n",
       "      <td>1</td>\n",
       "      <td>-</td>\n",
       "      <td>1</td>\n",
       "      <td>-</td>\n",
       "      <td>-</td>\n",
       "      <td>-</td>\n",
       "    </tr>\n",
       "    <tr>\n",
       "      <td>1999</td>\n",
       "      <td>-</td>\n",
       "      <td>-</td>\n",
       "      <td>-</td>\n",
       "      <td>-</td>\n",
       "      <td>-</td>\n",
       "      <td>1</td>\n",
       "      <td>-</td>\n",
       "      <td>1</td>\n",
       "      <td>1</td>\n",
       "      <td>-</td>\n",
       "    </tr>\n",
       "    <tr>\n",
       "      <td>2000</td>\n",
       "      <td>-</td>\n",
       "      <td>-</td>\n",
       "      <td>-</td>\n",
       "      <td>-</td>\n",
       "      <td>-</td>\n",
       "      <td>-</td>\n",
       "      <td>1</td>\n",
       "      <td>-</td>\n",
       "      <td>-</td>\n",
       "      <td>1</td>\n",
       "    </tr>\n",
       "    <tr>\n",
       "      <td>2001</td>\n",
       "      <td>-</td>\n",
       "      <td>-</td>\n",
       "      <td>-</td>\n",
       "      <td>-</td>\n",
       "      <td>2</td>\n",
       "      <td>-</td>\n",
       "      <td>-</td>\n",
       "      <td>-</td>\n",
       "      <td>-</td>\n",
       "      <td>-</td>\n",
       "    </tr>\n",
       "    <tr>\n",
       "      <td>2002</td>\n",
       "      <td>1</td>\n",
       "      <td>-</td>\n",
       "      <td>-</td>\n",
       "      <td>-</td>\n",
       "      <td>1</td>\n",
       "      <td>-</td>\n",
       "      <td>-</td>\n",
       "      <td>-</td>\n",
       "      <td>-</td>\n",
       "      <td>-</td>\n",
       "    </tr>\n",
       "    <tr>\n",
       "      <td>2003</td>\n",
       "      <td>-</td>\n",
       "      <td>-</td>\n",
       "      <td>-</td>\n",
       "      <td>1</td>\n",
       "      <td>-</td>\n",
       "      <td>-</td>\n",
       "      <td>-</td>\n",
       "      <td>-</td>\n",
       "      <td>-</td>\n",
       "      <td>-</td>\n",
       "    </tr>\n",
       "    <tr>\n",
       "      <td>2004</td>\n",
       "      <td>1</td>\n",
       "      <td>2</td>\n",
       "      <td>-</td>\n",
       "      <td>1</td>\n",
       "      <td>1</td>\n",
       "      <td>-</td>\n",
       "      <td>-</td>\n",
       "      <td>-</td>\n",
       "      <td>-</td>\n",
       "      <td>-</td>\n",
       "    </tr>\n",
       "    <tr>\n",
       "      <td>2005</td>\n",
       "      <td>1</td>\n",
       "      <td>-</td>\n",
       "      <td>1</td>\n",
       "      <td>-</td>\n",
       "      <td>-</td>\n",
       "      <td>-</td>\n",
       "      <td>-</td>\n",
       "      <td>-</td>\n",
       "      <td>-</td>\n",
       "      <td>1</td>\n",
       "    </tr>\n",
       "    <tr>\n",
       "      <td>2006</td>\n",
       "      <td>-</td>\n",
       "      <td>-</td>\n",
       "      <td>-</td>\n",
       "      <td>-</td>\n",
       "      <td>1</td>\n",
       "      <td>-</td>\n",
       "      <td>-</td>\n",
       "      <td>-</td>\n",
       "      <td>-</td>\n",
       "      <td>-</td>\n",
       "    </tr>\n",
       "    <tr>\n",
       "      <td>2011</td>\n",
       "      <td>-</td>\n",
       "      <td>-</td>\n",
       "      <td>-</td>\n",
       "      <td>-</td>\n",
       "      <td>-</td>\n",
       "      <td>1</td>\n",
       "      <td>-</td>\n",
       "      <td>1</td>\n",
       "      <td>-</td>\n",
       "      <td>-</td>\n",
       "    </tr>\n",
       "    <tr>\n",
       "      <td>2012</td>\n",
       "      <td>-</td>\n",
       "      <td>-</td>\n",
       "      <td>-</td>\n",
       "      <td>-</td>\n",
       "      <td>1</td>\n",
       "      <td>-</td>\n",
       "      <td>-</td>\n",
       "      <td>1</td>\n",
       "      <td>-</td>\n",
       "      <td>-</td>\n",
       "    </tr>\n",
       "  </tbody>\n",
       "</table>\n",
       "</div>"
      ],
      "text/plain": [
       "                 Price                           \n",
       "Power               1  2  3  4  5  6  7  8  9  10\n",
       "RegistrationYear                                 \n",
       "1923                 -  -  -  -  -  -  -  1  -  -\n",
       "1974                 1  -  -  -  -  -  -  -  -  -\n",
       "1975                 1  -  -  -  -  -  -  -  -  -\n",
       "1992                 1  -  -  -  -  -  -  -  -  -\n",
       "1995                 -  -  -  -  1  -  -  -  -  1\n",
       "1996                 -  -  -  -  -  1  -  -  -  -\n",
       "1997                 1  -  -  -  -  -  -  -  -  -\n",
       "1998                 2  -  -  -  1  -  1  -  -  -\n",
       "1999                 -  -  -  -  -  1  -  1  1  -\n",
       "2000                 -  -  -  -  -  -  1  -  -  1\n",
       "2001                 -  -  -  -  2  -  -  -  -  -\n",
       "2002                 1  -  -  -  1  -  -  -  -  -\n",
       "2003                 -  -  -  1  -  -  -  -  -  -\n",
       "2004                 1  2  -  1  1  -  -  -  -  -\n",
       "2005                 1  -  1  -  -  -  -  -  -  1\n",
       "2006                 -  -  -  -  1  -  -  -  -  -\n",
       "2011                 -  -  -  -  -  1  -  1  -  -\n",
       "2012                 -  -  -  -  1  -  -  1  -  -"
      ]
     },
     "execution_count": 21,
     "metadata": {},
     "output_type": "execute_result"
    }
   ],
   "source": [
    "pd.pivot_table(data = autos.query('Power <= 10')[['Power','RegistrationYear','Price']], index = 'RegistrationYear', columns = 'Power', aggfunc = 'count',fill_value ='-')"
   ]
  },
  {
   "cell_type": "markdown",
   "metadata": {},
   "source": [
    "<b>Вывод</b><br>\n",
    "Можно видеть, что для автомобилей с годом регистрации не ранее 1974 года встречаются автомомбили с очень низкой мощностью мотора. Для автомобиля citroen c3 1923 года мощность в 8 лс еще может быть правдоподобной, но для автомобиля 2005 года мощность в 1 лс - нет. Полагаю, будет верным удалить данные об автомоблиях, зарегистрированных после 1923 года с мощностью мотора менее 10 лс"
   ]
  },
  {
   "cell_type": "code",
   "execution_count": 22,
   "metadata": {},
   "outputs": [
    {
     "name": "stdout",
     "output_type": "stream",
     "text": [
      "Строки со значением Power < 10 and RegistrationYear > 1923 == 0 удалены\n"
     ]
    },
    {
     "data": {
      "image/png": "[encoded data removed]",
      "text/plain": [
       "<Figure size 432x288 with 1 Axes>"
      ]
     },
     "metadata": {
      "needs_background": "light"
     },
     "output_type": "display_data"
    }
   ],
   "source": [
    "autos = autos.query('not (Power < 10 and RegistrationYear > 1923)')\n",
    "print('Строки со значением Power < 10 and RegistrationYear > 1923 == 0 удалены')\n",
    "print_hist(autos.query('Power<20'),'Power','Power <20',20)"
   ]
  },
  {
   "cell_type": "markdown",
   "metadata": {},
   "source": [
    "<h5>Анализ значений в колонке RegistrationMonth</h5>"
   ]
  },
  {
   "cell_type": "markdown",
   "metadata": {},
   "source": [
    "Ранее было видно, что в колонке RegistrationMonth указаны значения от 0 до 12 включительно. Посмотрим, что за нулевые значения и сколько их"
   ]
  },
  {
   "cell_type": "code",
   "execution_count": 23,
   "metadata": {},
   "outputs": [
    {
     "data": {
      "text/html": [
       "<div>\n",
       "<style scoped>\n",
       "    .dataframe tbody tr th:only-of-type {\n",
       "        vertical-align: middle;\n",
       "    }\n",
       "\n",
       "    .dataframe tbody tr th {\n",
       "        vertical-align: top;\n",
       "    }\n",
       "\n",
       "    .dataframe thead th {\n",
       "        text-align: right;\n",
       "    }\n",
       "</style>\n",
       "<table border=\"1\" class=\"dataframe\">\n",
       "  <thead>\n",
       "    <tr style=\"text-align: right;\">\n",
       "      <th></th>\n",
       "      <th>DateCrawled</th>\n",
       "      <th>Price</th>\n",
       "      <th>VehicleType</th>\n",
       "      <th>RegistrationYear</th>\n",
       "      <th>Gearbox</th>\n",
       "      <th>Power</th>\n",
       "      <th>Model</th>\n",
       "      <th>Kilometer</th>\n",
       "      <th>RegistrationMonth</th>\n",
       "      <th>FuelType</th>\n",
       "      <th>Brand</th>\n",
       "      <th>NotRepaired</th>\n",
       "      <th>DateCreated</th>\n",
       "      <th>LastSeen</th>\n",
       "    </tr>\n",
       "  </thead>\n",
       "  <tbody>\n",
       "    <tr>\n",
       "      <td>80</td>\n",
       "      <td>2016-04-01 22:39:35</td>\n",
       "      <td>250</td>\n",
       "      <td>wagon</td>\n",
       "      <td>2000</td>\n",
       "      <td>manual</td>\n",
       "      <td>155</td>\n",
       "      <td>156</td>\n",
       "      <td>150000</td>\n",
       "      <td>0</td>\n",
       "      <td>petrol</td>\n",
       "      <td>alfa_romeo</td>\n",
       "      <td>yes</td>\n",
       "      <td>2016-04-01 00:00:00</td>\n",
       "      <td>2016-04-05 20:18:14</td>\n",
       "    </tr>\n",
       "    <tr>\n",
       "      <td>303</td>\n",
       "      <td>2016-03-24 14:56:28</td>\n",
       "      <td>800</td>\n",
       "      <td>coupe</td>\n",
       "      <td>1997</td>\n",
       "      <td>manual</td>\n",
       "      <td>125</td>\n",
       "      <td>a3</td>\n",
       "      <td>150000</td>\n",
       "      <td>0</td>\n",
       "      <td>petrol</td>\n",
       "      <td>audi</td>\n",
       "      <td>yes</td>\n",
       "      <td>2016-03-24 00:00:00</td>\n",
       "      <td>2016-03-29 00:44:57</td>\n",
       "    </tr>\n",
       "    <tr>\n",
       "      <td>559</td>\n",
       "      <td>2016-03-19 14:36:21</td>\n",
       "      <td>2150</td>\n",
       "      <td>small</td>\n",
       "      <td>2008</td>\n",
       "      <td>manual</td>\n",
       "      <td>64</td>\n",
       "      <td>getz</td>\n",
       "      <td>100000</td>\n",
       "      <td>0</td>\n",
       "      <td>petrol</td>\n",
       "      <td>hyundai</td>\n",
       "      <td>no</td>\n",
       "      <td>2016-03-19 00:00:00</td>\n",
       "      <td>2016-03-21 08:59:43</td>\n",
       "    </tr>\n",
       "    <tr>\n",
       "      <td>578</td>\n",
       "      <td>2016-03-20 16:44:16</td>\n",
       "      <td>4000</td>\n",
       "      <td>bus</td>\n",
       "      <td>2001</td>\n",
       "      <td>manual</td>\n",
       "      <td>115</td>\n",
       "      <td>sharan</td>\n",
       "      <td>150000</td>\n",
       "      <td>0</td>\n",
       "      <td>gasoline</td>\n",
       "      <td>volkswagen</td>\n",
       "      <td>no</td>\n",
       "      <td>2016-03-20 00:00:00</td>\n",
       "      <td>2016-03-27 04:44:28</td>\n",
       "    </tr>\n",
       "    <tr>\n",
       "      <td>636</td>\n",
       "      <td>2016-04-02 22:48:13</td>\n",
       "      <td>1480</td>\n",
       "      <td>small</td>\n",
       "      <td>2003</td>\n",
       "      <td>manual</td>\n",
       "      <td>58</td>\n",
       "      <td>twingo</td>\n",
       "      <td>150000</td>\n",
       "      <td>0</td>\n",
       "      <td>petrol</td>\n",
       "      <td>renault</td>\n",
       "      <td>no</td>\n",
       "      <td>2016-04-02 00:00:00</td>\n",
       "      <td>2016-04-02 22:48:13</td>\n",
       "    </tr>\n",
       "  </tbody>\n",
       "</table>\n",
       "</div>"
      ],
      "text/plain": [
       "             DateCrawled  Price VehicleType  RegistrationYear Gearbox  Power  \\\n",
       "80   2016-04-01 22:39:35    250       wagon              2000  manual    155   \n",
       "303  2016-03-24 14:56:28    800       coupe              1997  manual    125   \n",
       "559  2016-03-19 14:36:21   2150       small              2008  manual     64   \n",
       "578  2016-03-20 16:44:16   4000         bus              2001  manual    115   \n",
       "636  2016-04-02 22:48:13   1480       small              2003  manual     58   \n",
       "\n",
       "      Model  Kilometer  RegistrationMonth  FuelType       Brand NotRepaired  \\\n",
       "80      156     150000                  0    petrol  alfa_romeo         yes   \n",
       "303      a3     150000                  0    petrol        audi         yes   \n",
       "559    getz     100000                  0    petrol     hyundai          no   \n",
       "578  sharan     150000                  0  gasoline  volkswagen          no   \n",
       "636  twingo     150000                  0    petrol     renault          no   \n",
       "\n",
       "             DateCreated             LastSeen  \n",
       "80   2016-04-01 00:00:00  2016-04-05 20:18:14  \n",
       "303  2016-03-24 00:00:00  2016-03-29 00:44:57  \n",
       "559  2016-03-19 00:00:00  2016-03-21 08:59:43  \n",
       "578  2016-03-20 00:00:00  2016-03-27 04:44:28  \n",
       "636  2016-04-02 00:00:00  2016-04-02 22:48:13  "
      ]
     },
     "metadata": {},
     "output_type": "display_data"
    },
    {
     "name": "stdout",
     "output_type": "stream",
     "text": [
      "Количество строк:  5549\n"
     ]
    },
    {
     "data": {
      "image/png": "[encoded data removed]",
      "text/plain": [
       "<Figure size 432x432 with 1 Axes>"
      ]
     },
     "metadata": {},
     "output_type": "display_data"
    }
   ],
   "source": [
    "display(autos.query('RegistrationMonth == 0').head(5))\n",
    "print('Количество строк: ',autos.query('RegistrationMonth == 0').shape[0])\n",
    "\n",
    "#Построим круговую диаграмму\n",
    "autos.groupby('RegistrationMonth').size().plot(kind='pie', subplots=True, figsize=(6,6), autopct='%1.1f%%')\n",
    "plt.title(\"Доли строк по месяцам\")\n",
    "plt.ylabel(\"\")\n",
    "plt.show()"
   ]
  },
  {
   "cell_type": "markdown",
   "metadata": {},
   "source": [
    "<b>Вывод</b><br>\n",
    "2,4% строк содержат значение колонки RegistrationMonth = 0. Вероятнее всего, нули здесь указаны для заполнения пропущенных значений. RegistrationMonth - категориальный признак, наибольшая концентрация  - с марта по июнь. В остальные месяцы количество регистраций примерно одинаковое. Да и в марте-июне не слишком большие отличия. Обычно месяц регистрации очень мало влияет на цену автомобиля, так что вряд-ли этот признак можно назвать существенным. Однако эти 5,5 тыс строк могут содержать другие важные для модели данные. Так что оставим эту колонку без изменений"
   ]
  },
  {
   "cell_type": "markdown",
   "metadata": {},
   "source": [
    "<h4>Анализ значений в колонках даты-времени</h4>"
   ]
  },
  {
   "cell_type": "markdown",
   "metadata": {},
   "source": [
    "Датасет содержит следующие признаки в формате даты-времени:<br> \n",
    "<li>DateCrawled - дата скачивания анкеты из базы, </li>\n",
    "<li>DateCreated - дата создания анкеты, </li>\n",
    "<li>LastSeen - дата последней активности пользователя</li>\n",
    "Сами по себе эти признаки вряд-ли оказывают какое-либо существенное влияние на стоимость автомобиля. Однако на стоимость автомобиля может повлиять год продажи автомобиля: во-первых, из-за \"возраста\" автомомбиля, во-вторых, из-за меняющейся ситуации на рынке. Можно из имеющихся данных получить предполагаемый год продажи автомобиля, а сами эти колонки исключить из построения моделей"
   ]
  },
  {
   "cell_type": "code",
   "execution_count": 24,
   "metadata": {},
   "outputs": [],
   "source": [
    "def make_dt_print_mm(data,column):\n",
    "    data[column] = pd.to_datetime(autos[column]).dt.year\n",
    "    print(column,': min - ',data[column].min(),'; max - ',data[column].max())\n",
    "    return data"
   ]
  },
  {
   "cell_type": "code",
   "execution_count": 25,
   "metadata": {},
   "outputs": [
    {
     "name": "stdout",
     "output_type": "stream",
     "text": [
      "DateCreated : min -  2015 ; max -  2016\n",
      "DateCrawled : min -  2016 ; max -  2016\n",
      "LastSeen : min -  2016 ; max -  2016\n",
      "SalesYear: min -  2016 ; max -  2016\n"
     ]
    },
    {
     "data": {
      "text/html": [
       "<div>\n",
       "<style scoped>\n",
       "    .dataframe tbody tr th:only-of-type {\n",
       "        vertical-align: middle;\n",
       "    }\n",
       "\n",
       "    .dataframe tbody tr th {\n",
       "        vertical-align: top;\n",
       "    }\n",
       "\n",
       "    .dataframe thead th {\n",
       "        text-align: right;\n",
       "    }\n",
       "</style>\n",
       "<table border=\"1\" class=\"dataframe\">\n",
       "  <thead>\n",
       "    <tr style=\"text-align: right;\">\n",
       "      <th></th>\n",
       "      <th>Price</th>\n",
       "      <th>VehicleType</th>\n",
       "      <th>RegistrationYear</th>\n",
       "      <th>Gearbox</th>\n",
       "      <th>Power</th>\n",
       "      <th>Model</th>\n",
       "      <th>Kilometer</th>\n",
       "      <th>RegistrationMonth</th>\n",
       "      <th>FuelType</th>\n",
       "      <th>Brand</th>\n",
       "      <th>NotRepaired</th>\n",
       "      <th>SalesYear</th>\n",
       "    </tr>\n",
       "  </thead>\n",
       "  <tbody>\n",
       "    <tr>\n",
       "      <td>3</td>\n",
       "      <td>1500</td>\n",
       "      <td>small</td>\n",
       "      <td>2001</td>\n",
       "      <td>manual</td>\n",
       "      <td>75</td>\n",
       "      <td>golf</td>\n",
       "      <td>150000</td>\n",
       "      <td>6</td>\n",
       "      <td>petrol</td>\n",
       "      <td>volkswagen</td>\n",
       "      <td>no</td>\n",
       "      <td>2016</td>\n",
       "    </tr>\n",
       "    <tr>\n",
       "      <td>4</td>\n",
       "      <td>3600</td>\n",
       "      <td>small</td>\n",
       "      <td>2008</td>\n",
       "      <td>manual</td>\n",
       "      <td>69</td>\n",
       "      <td>fabia</td>\n",
       "      <td>90000</td>\n",
       "      <td>7</td>\n",
       "      <td>gasoline</td>\n",
       "      <td>skoda</td>\n",
       "      <td>no</td>\n",
       "      <td>2016</td>\n",
       "    </tr>\n",
       "    <tr>\n",
       "      <td>5</td>\n",
       "      <td>650</td>\n",
       "      <td>sedan</td>\n",
       "      <td>1995</td>\n",
       "      <td>manual</td>\n",
       "      <td>102</td>\n",
       "      <td>3er</td>\n",
       "      <td>150000</td>\n",
       "      <td>10</td>\n",
       "      <td>petrol</td>\n",
       "      <td>bmw</td>\n",
       "      <td>yes</td>\n",
       "      <td>2016</td>\n",
       "    </tr>\n",
       "    <tr>\n",
       "      <td>6</td>\n",
       "      <td>2200</td>\n",
       "      <td>convertible</td>\n",
       "      <td>2004</td>\n",
       "      <td>manual</td>\n",
       "      <td>109</td>\n",
       "      <td>2_reihe</td>\n",
       "      <td>150000</td>\n",
       "      <td>8</td>\n",
       "      <td>petrol</td>\n",
       "      <td>peugeot</td>\n",
       "      <td>no</td>\n",
       "      <td>2016</td>\n",
       "    </tr>\n",
       "    <tr>\n",
       "      <td>10</td>\n",
       "      <td>2000</td>\n",
       "      <td>sedan</td>\n",
       "      <td>2004</td>\n",
       "      <td>manual</td>\n",
       "      <td>105</td>\n",
       "      <td>3_reihe</td>\n",
       "      <td>150000</td>\n",
       "      <td>12</td>\n",
       "      <td>petrol</td>\n",
       "      <td>mazda</td>\n",
       "      <td>no</td>\n",
       "      <td>2016</td>\n",
       "    </tr>\n",
       "  </tbody>\n",
       "</table>\n",
       "</div>"
      ],
      "text/plain": [
       "    Price  VehicleType  RegistrationYear Gearbox  Power    Model  Kilometer  \\\n",
       "3    1500        small              2001  manual     75     golf     150000   \n",
       "4    3600        small              2008  manual     69    fabia      90000   \n",
       "5     650        sedan              1995  manual    102      3er     150000   \n",
       "6    2200  convertible              2004  manual    109  2_reihe     150000   \n",
       "10   2000        sedan              2004  manual    105  3_reihe     150000   \n",
       "\n",
       "    RegistrationMonth  FuelType       Brand NotRepaired  SalesYear  \n",
       "3                   6    petrol  volkswagen          no       2016  \n",
       "4                   7  gasoline       skoda          no       2016  \n",
       "5                  10    petrol         bmw         yes       2016  \n",
       "6                   8    petrol     peugeot          no       2016  \n",
       "10                 12    petrol       mazda          no       2016  "
      ]
     },
     "metadata": {},
     "output_type": "display_data"
    }
   ],
   "source": [
    "date_cols = ['DateCreated','DateCrawled','LastSeen']\n",
    "for column in date_cols:\n",
    "    autos = make_dt_print_mm(autos,column)\n",
    "autos['SalesYear'] = autos[['DateCreated','DateCrawled','LastSeen']].max(axis = 1)\n",
    "print('SalesYear: min - ',autos['SalesYear'].min(),'; max - ',autos['SalesYear'].max())\n",
    "autos = autos.drop(['DateCreated','DateCrawled','LastSeen'], axis = 1)\n",
    "display(autos.head(5))"
   ]
  },
  {
   "cell_type": "markdown",
   "metadata": {},
   "source": [
    "<b>Вывод</b><br>\n",
    "Как можно видеть, год продаж получился одинаковым для всех строк. Это не очень информативно для построения модели. Можно попробовать вывести признак \"возраст автомобиля\" = SalesYear - RegistrationYear. Тогда SalesYear можно будет убрать."
   ]
  },
  {
   "cell_type": "code",
   "execution_count": 26,
   "metadata": {},
   "outputs": [
    {
     "data": {
      "text/html": [
       "<div>\n",
       "<style scoped>\n",
       "    .dataframe tbody tr th:only-of-type {\n",
       "        vertical-align: middle;\n",
       "    }\n",
       "\n",
       "    .dataframe tbody tr th {\n",
       "        vertical-align: top;\n",
       "    }\n",
       "\n",
       "    .dataframe thead th {\n",
       "        text-align: right;\n",
       "    }\n",
       "</style>\n",
       "<table border=\"1\" class=\"dataframe\">\n",
       "  <thead>\n",
       "    <tr style=\"text-align: right;\">\n",
       "      <th></th>\n",
       "      <th>Price</th>\n",
       "      <th>VehicleType</th>\n",
       "      <th>RegistrationYear</th>\n",
       "      <th>Gearbox</th>\n",
       "      <th>Power</th>\n",
       "      <th>Model</th>\n",
       "      <th>Kilometer</th>\n",
       "      <th>RegistrationMonth</th>\n",
       "      <th>FuelType</th>\n",
       "      <th>Brand</th>\n",
       "      <th>NotRepaired</th>\n",
       "      <th>AutoAge</th>\n",
       "    </tr>\n",
       "  </thead>\n",
       "  <tbody>\n",
       "    <tr>\n",
       "      <td>3</td>\n",
       "      <td>1500</td>\n",
       "      <td>small</td>\n",
       "      <td>2001</td>\n",
       "      <td>manual</td>\n",
       "      <td>75</td>\n",
       "      <td>golf</td>\n",
       "      <td>150000</td>\n",
       "      <td>6</td>\n",
       "      <td>petrol</td>\n",
       "      <td>volkswagen</td>\n",
       "      <td>no</td>\n",
       "      <td>15</td>\n",
       "    </tr>\n",
       "    <tr>\n",
       "      <td>4</td>\n",
       "      <td>3600</td>\n",
       "      <td>small</td>\n",
       "      <td>2008</td>\n",
       "      <td>manual</td>\n",
       "      <td>69</td>\n",
       "      <td>fabia</td>\n",
       "      <td>90000</td>\n",
       "      <td>7</td>\n",
       "      <td>gasoline</td>\n",
       "      <td>skoda</td>\n",
       "      <td>no</td>\n",
       "      <td>8</td>\n",
       "    </tr>\n",
       "    <tr>\n",
       "      <td>5</td>\n",
       "      <td>650</td>\n",
       "      <td>sedan</td>\n",
       "      <td>1995</td>\n",
       "      <td>manual</td>\n",
       "      <td>102</td>\n",
       "      <td>3er</td>\n",
       "      <td>150000</td>\n",
       "      <td>10</td>\n",
       "      <td>petrol</td>\n",
       "      <td>bmw</td>\n",
       "      <td>yes</td>\n",
       "      <td>21</td>\n",
       "    </tr>\n",
       "    <tr>\n",
       "      <td>6</td>\n",
       "      <td>2200</td>\n",
       "      <td>convertible</td>\n",
       "      <td>2004</td>\n",
       "      <td>manual</td>\n",
       "      <td>109</td>\n",
       "      <td>2_reihe</td>\n",
       "      <td>150000</td>\n",
       "      <td>8</td>\n",
       "      <td>petrol</td>\n",
       "      <td>peugeot</td>\n",
       "      <td>no</td>\n",
       "      <td>12</td>\n",
       "    </tr>\n",
       "    <tr>\n",
       "      <td>10</td>\n",
       "      <td>2000</td>\n",
       "      <td>sedan</td>\n",
       "      <td>2004</td>\n",
       "      <td>manual</td>\n",
       "      <td>105</td>\n",
       "      <td>3_reihe</td>\n",
       "      <td>150000</td>\n",
       "      <td>12</td>\n",
       "      <td>petrol</td>\n",
       "      <td>mazda</td>\n",
       "      <td>no</td>\n",
       "      <td>12</td>\n",
       "    </tr>\n",
       "  </tbody>\n",
       "</table>\n",
       "</div>"
      ],
      "text/plain": [
       "    Price  VehicleType  RegistrationYear Gearbox  Power    Model  Kilometer  \\\n",
       "3    1500        small              2001  manual     75     golf     150000   \n",
       "4    3600        small              2008  manual     69    fabia      90000   \n",
       "5     650        sedan              1995  manual    102      3er     150000   \n",
       "6    2200  convertible              2004  manual    109  2_reihe     150000   \n",
       "10   2000        sedan              2004  manual    105  3_reihe     150000   \n",
       "\n",
       "    RegistrationMonth  FuelType       Brand NotRepaired  AutoAge  \n",
       "3                   6    petrol  volkswagen          no       15  \n",
       "4                   7  gasoline       skoda          no        8  \n",
       "5                  10    petrol         bmw         yes       21  \n",
       "6                   8    petrol     peugeot          no       12  \n",
       "10                 12    petrol       mazda          no       12  "
      ]
     },
     "metadata": {},
     "output_type": "display_data"
    }
   ],
   "source": [
    "autos['AutoAge'] = autos['SalesYear'] -  autos['RegistrationYear']\n",
    "autos = autos.drop(['SalesYear'], axis = 1)\n",
    "display(autos.head(5))"
   ]
  },
  {
   "cell_type": "markdown",
   "metadata": {},
   "source": [
    "Данные готовы к построению моделей"
   ]
  },
  {
   "cell_type": "markdown",
   "metadata": {},
   "source": [
    "<h3>Преобразование данных и разделение на выборки</h3>"
   ]
  },
  {
   "cell_type": "markdown",
   "metadata": {},
   "source": [
    "Стандартизируем данные:"
   ]
  },
  {
   "cell_type": "code",
   "execution_count": 27,
   "metadata": {},
   "outputs": [
    {
     "data": {
      "text/html": [
       "<div>\n",
       "<style scoped>\n",
       "    .dataframe tbody tr th:only-of-type {\n",
       "        vertical-align: middle;\n",
       "    }\n",
       "\n",
       "    .dataframe tbody tr th {\n",
       "        vertical-align: top;\n",
       "    }\n",
       "\n",
       "    .dataframe thead th {\n",
       "        text-align: right;\n",
       "    }\n",
       "</style>\n",
       "<table border=\"1\" class=\"dataframe\">\n",
       "  <thead>\n",
       "    <tr style=\"text-align: right;\">\n",
       "      <th></th>\n",
       "      <th>Price</th>\n",
       "      <th>VehicleType</th>\n",
       "      <th>RegistrationYear</th>\n",
       "      <th>Gearbox</th>\n",
       "      <th>Power</th>\n",
       "      <th>Model</th>\n",
       "      <th>Kilometer</th>\n",
       "      <th>RegistrationMonth</th>\n",
       "      <th>FuelType</th>\n",
       "      <th>Brand</th>\n",
       "      <th>NotRepaired</th>\n",
       "      <th>AutoAge</th>\n",
       "    </tr>\n",
       "  </thead>\n",
       "  <tbody>\n",
       "    <tr>\n",
       "      <td>3</td>\n",
       "      <td>1500</td>\n",
       "      <td>small</td>\n",
       "      <td>-0.344851</td>\n",
       "      <td>manual</td>\n",
       "      <td>-0.362281</td>\n",
       "      <td>golf</td>\n",
       "      <td>0.620073</td>\n",
       "      <td>-0.064146</td>\n",
       "      <td>petrol</td>\n",
       "      <td>volkswagen</td>\n",
       "      <td>no</td>\n",
       "      <td>0.344851</td>\n",
       "    </tr>\n",
       "    <tr>\n",
       "      <td>4</td>\n",
       "      <td>3600</td>\n",
       "      <td>small</td>\n",
       "      <td>0.807272</td>\n",
       "      <td>manual</td>\n",
       "      <td>-0.405891</td>\n",
       "      <td>fabia</td>\n",
       "      <td>-0.998573</td>\n",
       "      <td>0.225507</td>\n",
       "      <td>gasoline</td>\n",
       "      <td>skoda</td>\n",
       "      <td>no</td>\n",
       "      <td>-0.807272</td>\n",
       "    </tr>\n",
       "    <tr>\n",
       "      <td>5</td>\n",
       "      <td>650</td>\n",
       "      <td>sedan</td>\n",
       "      <td>-1.332385</td>\n",
       "      <td>manual</td>\n",
       "      <td>-0.166032</td>\n",
       "      <td>3er</td>\n",
       "      <td>0.620073</td>\n",
       "      <td>1.094465</td>\n",
       "      <td>petrol</td>\n",
       "      <td>bmw</td>\n",
       "      <td>yes</td>\n",
       "      <td>1.332385</td>\n",
       "    </tr>\n",
       "    <tr>\n",
       "      <td>6</td>\n",
       "      <td>2200</td>\n",
       "      <td>convertible</td>\n",
       "      <td>0.148916</td>\n",
       "      <td>manual</td>\n",
       "      <td>-0.115152</td>\n",
       "      <td>2_reihe</td>\n",
       "      <td>0.620073</td>\n",
       "      <td>0.515159</td>\n",
       "      <td>petrol</td>\n",
       "      <td>peugeot</td>\n",
       "      <td>no</td>\n",
       "      <td>-0.148916</td>\n",
       "    </tr>\n",
       "    <tr>\n",
       "      <td>10</td>\n",
       "      <td>2000</td>\n",
       "      <td>sedan</td>\n",
       "      <td>0.148916</td>\n",
       "      <td>manual</td>\n",
       "      <td>-0.144226</td>\n",
       "      <td>3_reihe</td>\n",
       "      <td>0.620073</td>\n",
       "      <td>1.673770</td>\n",
       "      <td>petrol</td>\n",
       "      <td>mazda</td>\n",
       "      <td>no</td>\n",
       "      <td>-0.148916</td>\n",
       "    </tr>\n",
       "  </tbody>\n",
       "</table>\n",
       "</div>"
      ],
      "text/plain": [
       "    Price  VehicleType  RegistrationYear Gearbox     Power    Model  \\\n",
       "3    1500        small         -0.344851  manual -0.362281     golf   \n",
       "4    3600        small          0.807272  manual -0.405891    fabia   \n",
       "5     650        sedan         -1.332385  manual -0.166032      3er   \n",
       "6    2200  convertible          0.148916  manual -0.115152  2_reihe   \n",
       "10   2000        sedan          0.148916  manual -0.144226  3_reihe   \n",
       "\n",
       "    Kilometer  RegistrationMonth  FuelType       Brand NotRepaired   AutoAge  \n",
       "3    0.620073          -0.064146    petrol  volkswagen          no  0.344851  \n",
       "4   -0.998573           0.225507  gasoline       skoda          no -0.807272  \n",
       "5    0.620073           1.094465    petrol         bmw         yes  1.332385  \n",
       "6    0.620073           0.515159    petrol     peugeot          no -0.148916  \n",
       "10   0.620073           1.673770    petrol       mazda          no -0.148916  "
      ]
     },
     "metadata": {},
     "output_type": "display_data"
    }
   ],
   "source": [
    "#зададим перечень категориальных признаков:\n",
    "cat_features = ['VehicleType','Gearbox','Model','FuelType','Brand','NotRepaired']\n",
    "num_features = ['RegistrationYear','Power','Kilometer','RegistrationMonth','AutoAge']\n",
    "\n",
    "scaler = StandardScaler()\n",
    "autos[num_features] = scaler.fit_transform(autos[num_features])\n",
    "display(autos.head(5))"
   ]
  },
  {
   "cell_type": "markdown",
   "metadata": {},
   "source": [
    "Преобразуем категориальные данные методом OHE для ряда моделей:"
   ]
  },
  {
   "cell_type": "code",
   "execution_count": 28,
   "metadata": {},
   "outputs": [
    {
     "data": {
      "text/html": [
       "<div>\n",
       "<style scoped>\n",
       "    .dataframe tbody tr th:only-of-type {\n",
       "        vertical-align: middle;\n",
       "    }\n",
       "\n",
       "    .dataframe tbody tr th {\n",
       "        vertical-align: top;\n",
       "    }\n",
       "\n",
       "    .dataframe thead th {\n",
       "        text-align: right;\n",
       "    }\n",
       "</style>\n",
       "<table border=\"1\" class=\"dataframe\">\n",
       "  <thead>\n",
       "    <tr style=\"text-align: right;\">\n",
       "      <th></th>\n",
       "      <th>Price</th>\n",
       "      <th>RegistrationYear</th>\n",
       "      <th>Power</th>\n",
       "      <th>Kilometer</th>\n",
       "      <th>RegistrationMonth</th>\n",
       "      <th>AutoAge</th>\n",
       "      <th>VehicleType_convertible</th>\n",
       "      <th>VehicleType_coupe</th>\n",
       "      <th>VehicleType_other</th>\n",
       "      <th>VehicleType_sedan</th>\n",
       "      <th>...</th>\n",
       "      <th>Brand_seat</th>\n",
       "      <th>Brand_skoda</th>\n",
       "      <th>Brand_smart</th>\n",
       "      <th>Brand_subaru</th>\n",
       "      <th>Brand_suzuki</th>\n",
       "      <th>Brand_toyota</th>\n",
       "      <th>Brand_trabant</th>\n",
       "      <th>Brand_volkswagen</th>\n",
       "      <th>Brand_volvo</th>\n",
       "      <th>NotRepaired_yes</th>\n",
       "    </tr>\n",
       "  </thead>\n",
       "  <tbody>\n",
       "    <tr>\n",
       "      <td>3</td>\n",
       "      <td>1500</td>\n",
       "      <td>-0.344851</td>\n",
       "      <td>-0.362281</td>\n",
       "      <td>0.620073</td>\n",
       "      <td>-0.064146</td>\n",
       "      <td>0.344851</td>\n",
       "      <td>0</td>\n",
       "      <td>0</td>\n",
       "      <td>0</td>\n",
       "      <td>0</td>\n",
       "      <td>...</td>\n",
       "      <td>0</td>\n",
       "      <td>0</td>\n",
       "      <td>0</td>\n",
       "      <td>0</td>\n",
       "      <td>0</td>\n",
       "      <td>0</td>\n",
       "      <td>0</td>\n",
       "      <td>1</td>\n",
       "      <td>0</td>\n",
       "      <td>0</td>\n",
       "    </tr>\n",
       "    <tr>\n",
       "      <td>4</td>\n",
       "      <td>3600</td>\n",
       "      <td>0.807272</td>\n",
       "      <td>-0.405891</td>\n",
       "      <td>-0.998573</td>\n",
       "      <td>0.225507</td>\n",
       "      <td>-0.807272</td>\n",
       "      <td>0</td>\n",
       "      <td>0</td>\n",
       "      <td>0</td>\n",
       "      <td>0</td>\n",
       "      <td>...</td>\n",
       "      <td>0</td>\n",
       "      <td>1</td>\n",
       "      <td>0</td>\n",
       "      <td>0</td>\n",
       "      <td>0</td>\n",
       "      <td>0</td>\n",
       "      <td>0</td>\n",
       "      <td>0</td>\n",
       "      <td>0</td>\n",
       "      <td>0</td>\n",
       "    </tr>\n",
       "    <tr>\n",
       "      <td>5</td>\n",
       "      <td>650</td>\n",
       "      <td>-1.332385</td>\n",
       "      <td>-0.166032</td>\n",
       "      <td>0.620073</td>\n",
       "      <td>1.094465</td>\n",
       "      <td>1.332385</td>\n",
       "      <td>0</td>\n",
       "      <td>0</td>\n",
       "      <td>0</td>\n",
       "      <td>1</td>\n",
       "      <td>...</td>\n",
       "      <td>0</td>\n",
       "      <td>0</td>\n",
       "      <td>0</td>\n",
       "      <td>0</td>\n",
       "      <td>0</td>\n",
       "      <td>0</td>\n",
       "      <td>0</td>\n",
       "      <td>0</td>\n",
       "      <td>0</td>\n",
       "      <td>1</td>\n",
       "    </tr>\n",
       "    <tr>\n",
       "      <td>6</td>\n",
       "      <td>2200</td>\n",
       "      <td>0.148916</td>\n",
       "      <td>-0.115152</td>\n",
       "      <td>0.620073</td>\n",
       "      <td>0.515159</td>\n",
       "      <td>-0.148916</td>\n",
       "      <td>1</td>\n",
       "      <td>0</td>\n",
       "      <td>0</td>\n",
       "      <td>0</td>\n",
       "      <td>...</td>\n",
       "      <td>0</td>\n",
       "      <td>0</td>\n",
       "      <td>0</td>\n",
       "      <td>0</td>\n",
       "      <td>0</td>\n",
       "      <td>0</td>\n",
       "      <td>0</td>\n",
       "      <td>0</td>\n",
       "      <td>0</td>\n",
       "      <td>0</td>\n",
       "    </tr>\n",
       "    <tr>\n",
       "      <td>10</td>\n",
       "      <td>2000</td>\n",
       "      <td>0.148916</td>\n",
       "      <td>-0.144226</td>\n",
       "      <td>0.620073</td>\n",
       "      <td>1.673770</td>\n",
       "      <td>-0.148916</td>\n",
       "      <td>0</td>\n",
       "      <td>0</td>\n",
       "      <td>0</td>\n",
       "      <td>1</td>\n",
       "      <td>...</td>\n",
       "      <td>0</td>\n",
       "      <td>0</td>\n",
       "      <td>0</td>\n",
       "      <td>0</td>\n",
       "      <td>0</td>\n",
       "      <td>0</td>\n",
       "      <td>0</td>\n",
       "      <td>0</td>\n",
       "      <td>0</td>\n",
       "      <td>0</td>\n",
       "    </tr>\n",
       "  </tbody>\n",
       "</table>\n",
       "<p>5 rows × 307 columns</p>\n",
       "</div>"
      ],
      "text/plain": [
       "    Price  RegistrationYear     Power  Kilometer  RegistrationMonth   AutoAge  \\\n",
       "3    1500         -0.344851 -0.362281   0.620073          -0.064146  0.344851   \n",
       "4    3600          0.807272 -0.405891  -0.998573           0.225507 -0.807272   \n",
       "5     650         -1.332385 -0.166032   0.620073           1.094465  1.332385   \n",
       "6    2200          0.148916 -0.115152   0.620073           0.515159 -0.148916   \n",
       "10   2000          0.148916 -0.144226   0.620073           1.673770 -0.148916   \n",
       "\n",
       "    VehicleType_convertible  VehicleType_coupe  VehicleType_other  \\\n",
       "3                         0                  0                  0   \n",
       "4                         0                  0                  0   \n",
       "5                         0                  0                  0   \n",
       "6                         1                  0                  0   \n",
       "10                        0                  0                  0   \n",
       "\n",
       "    VehicleType_sedan  ...  Brand_seat  Brand_skoda  Brand_smart  \\\n",
       "3                   0  ...           0            0            0   \n",
       "4                   0  ...           0            1            0   \n",
       "5                   1  ...           0            0            0   \n",
       "6                   0  ...           0            0            0   \n",
       "10                  1  ...           0            0            0   \n",
       "\n",
       "    Brand_subaru  Brand_suzuki  Brand_toyota  Brand_trabant  Brand_volkswagen  \\\n",
       "3              0             0             0              0                 1   \n",
       "4              0             0             0              0                 0   \n",
       "5              0             0             0              0                 0   \n",
       "6              0             0             0              0                 0   \n",
       "10             0             0             0              0                 0   \n",
       "\n",
       "    Brand_volvo  NotRepaired_yes  \n",
       "3             0                0  \n",
       "4             0                0  \n",
       "5             0                1  \n",
       "6             0                0  \n",
       "10            0                0  \n",
       "\n",
       "[5 rows x 307 columns]"
      ]
     },
     "metadata": {},
     "output_type": "display_data"
    },
    {
     "name": "stdout",
     "output_type": "stream",
     "text": [
      "Размер датафрейма после применения техники OHE: (232911, 307)\n"
     ]
    }
   ],
   "source": [
    "autos_ohe = pd.get_dummies(autos,drop_first=True)\n",
    "display(autos_ohe.head(5))\n",
    "print('Размер датафрейма после применения техники OHE:',autos_ohe.shape)"
   ]
  },
  {
   "cell_type": "markdown",
   "metadata": {},
   "source": [
    "Разделим выборку на обучающую и тестовую:"
   ]
  },
  {
   "cell_type": "code",
   "execution_count": 29,
   "metadata": {},
   "outputs": [
    {
     "name": "stdout",
     "output_type": "stream",
     "text": [
      "Данные успешно разделены на обучающую и тестовую выборки.\n"
     ]
    }
   ],
   "source": [
    "def make_train_test(data,target_col):\n",
    "    #print(data.info())\n",
    "    #print(target_col)\n",
    "    features = data.drop(target_col,axis=1)\n",
    "    target = data[target_col]\n",
    "    features_train,features_test,target_train, target_test = train_test_split(features,target,test_size=0.2,random_state = RANDOM_STATE)\n",
    "    return features_train,features_test,target_train, target_test\n",
    "\n",
    "autos_features_train, autos_features_test, autos_target_train, autos_target_test  = make_train_test(autos,'Price')\n",
    "autos_features_train_ohe, autos_features_test_ohe, autos_target_train_ohe, autos_target_test_ohe  = make_train_test(autos_ohe,'Price')\n",
    "print('Данные успешно разделены на обучающую и тестовую выборки.')"
   ]
  },
  {
   "cell_type": "markdown",
   "metadata": {},
   "source": [
    "## Обучение моделей"
   ]
  },
  {
   "cell_type": "markdown",
   "metadata": {},
   "source": [
    "<h3>Создание моделей</h3>"
   ]
  },
  {
   "cell_type": "markdown",
   "metadata": {},
   "source": [
    "Создадим датасет для сравнения результатов работы разных моделей:"
   ]
  },
  {
   "cell_type": "code",
   "execution_count": 30,
   "metadata": {},
   "outputs": [
    {
     "name": "stdout",
     "output_type": "stream",
     "text": [
      "Датасет для сравнения моделей успешно создан\n"
     ]
    }
   ],
   "source": [
    "def add_to_model_types_compare(mtc,mod_name,best_params,best_scores,test_score,time):\n",
    "    mtc = mtc.append({'model_name':mod_name,'best_params':best_params,'best Train score ':best_scores,'RMSE Test Data':test_score,'fit time':time},ignore_index = True)\n",
    "    display(mtc)\n",
    "    return mtc\n",
    "model_types_compare = pd.DataFrame()\n",
    "print('Датасет для сравнения моделей успешно создан')"
   ]
  },
  {
   "cell_type": "markdown",
   "metadata": {},
   "source": [
    "Создадим функцию для подбора гиперпараметров и выбора наилучшей модели"
   ]
  },
  {
   "cell_type": "code",
   "execution_count": 31,
   "metadata": {},
   "outputs": [],
   "source": [
    "def find_best_model(model,params,features_train,target_train,features_test,target_test,mtc,mod_name,mod_lib,cat_features):\n",
    "    grd = GridSearchCV(estimator = model, param_grid = params, \n",
    "                               cv = 3, n_jobs = -1, scoring = 'neg_mean_squared_error')\n",
    "    if mod_lib == 'CB':\n",
    "        grd.fit(features_train, target_train,cat_features = cat_features)\n",
    "    elif mod_lib == 'SL':\n",
    "        grd.fit(features_train, target_train)\n",
    "    elif mod_lib == 'LGBM':\n",
    "        grd.fit(features_train, target_train,categorical_feature = 'auto')\n",
    "    bs = np.sqrt((-1)*grd.best_score_)\n",
    "    bp = grd.best_params_\n",
    "    est = grd.best_estimator_\n",
    "    pred = est.predict(features_test)\n",
    "    rmse = np.sqrt(mean_squared_error(target_test,pred))\n",
    "    time = grd.refit_time_\n",
    "    mtc = add_to_model_types_compare(mtc,mod_name,bp,bs,rmse,time)\n",
    "    return mtc,est,bp"
   ]
  },
  {
   "cell_type": "markdown",
   "metadata": {},
   "source": [
    "<h4>Обучение моделей дерева решений, лес решений и линейной регрессии</h4>"
   ]
  },
  {
   "cell_type": "markdown",
   "metadata": {},
   "source": [
    "<b>DecisionTreeRegressor</b>"
   ]
  },
  {
   "cell_type": "code",
   "execution_count": 32,
   "metadata": {},
   "outputs": [
    {
     "data": {
      "text/html": [
       "<div>\n",
       "<style scoped>\n",
       "    .dataframe tbody tr th:only-of-type {\n",
       "        vertical-align: middle;\n",
       "    }\n",
       "\n",
       "    .dataframe tbody tr th {\n",
       "        vertical-align: top;\n",
       "    }\n",
       "\n",
       "    .dataframe thead th {\n",
       "        text-align: right;\n",
       "    }\n",
       "</style>\n",
       "<table border=\"1\" class=\"dataframe\">\n",
       "  <thead>\n",
       "    <tr style=\"text-align: right;\">\n",
       "      <th></th>\n",
       "      <th>RMSE Test Data</th>\n",
       "      <th>best Train score</th>\n",
       "      <th>best_params</th>\n",
       "      <th>fit time</th>\n",
       "      <th>model_name</th>\n",
       "    </tr>\n",
       "  </thead>\n",
       "  <tbody>\n",
       "    <tr>\n",
       "      <td>0</td>\n",
       "      <td>1828.976681</td>\n",
       "      <td>1871.997096</td>\n",
       "      <td>{'criterion': 'mse', 'max_depth': 16, 'random_...</td>\n",
       "      <td>4.127833</td>\n",
       "      <td>DecisionTree</td>\n",
       "    </tr>\n",
       "  </tbody>\n",
       "</table>\n",
       "</div>"
      ],
      "text/plain": [
       "   RMSE Test Data  best Train score   \\\n",
       "0     1828.976681        1871.997096   \n",
       "\n",
       "                                         best_params  fit time    model_name  \n",
       "0  {'criterion': 'mse', 'max_depth': 16, 'random_...  4.127833  DecisionTree  "
      ]
     },
     "metadata": {},
     "output_type": "display_data"
    }
   ],
   "source": [
    "dec_tree = DecisionTreeRegressor()\n",
    "depth_list = [i for i in range(1,30)]\n",
    "params = {'max_depth':depth_list,'criterion':['mse'],'random_state':[RANDOM_STATE]}\n",
    "model_types_compare ,best_DT,best_DT_BP= find_best_model(dec_tree,params,autos_features_train_ohe, autos_target_train_ohe, autos_features_test_ohe, autos_target_test_ohe,model_types_compare,'DecisionTree','SL',[])\n"
   ]
  },
  {
   "cell_type": "code",
   "execution_count": 33,
   "metadata": {},
   "outputs": [
    {
     "name": "stdout",
     "output_type": "stream",
     "text": [
      "Параметры полученной модели\n"
     ]
    },
    {
     "data": {
      "text/plain": [
       "{'criterion': 'mse',\n",
       " 'max_depth': 16,\n",
       " 'max_features': None,\n",
       " 'max_leaf_nodes': None,\n",
       " 'min_impurity_decrease': 0.0,\n",
       " 'min_impurity_split': None,\n",
       " 'min_samples_leaf': 1,\n",
       " 'min_samples_split': 2,\n",
       " 'min_weight_fraction_leaf': 0.0,\n",
       " 'presort': False,\n",
       " 'random_state': 12345,\n",
       " 'splitter': 'best'}"
      ]
     },
     "execution_count": 33,
     "metadata": {},
     "output_type": "execute_result"
    }
   ],
   "source": [
    "print('Параметры полученной модели')\n",
    "best_DT.get_params()"
   ]
  },
  {
   "cell_type": "markdown",
   "metadata": {},
   "source": [
    "Полученная модель дерева решений достигает наилучшего значения функции потрерь при значении параметра max_depth = 16. Можно видеть, что значение RMSE на тестовых данных лучше, чем на обучающих. Время обучения модели - достаточно относительно небольшое. Посмотрим, каких значений удастся добиться на других моделях"
   ]
  },
  {
   "cell_type": "markdown",
   "metadata": {},
   "source": [
    "<b>RandomForestRegressor</b>"
   ]
  },
  {
   "cell_type": "code",
   "execution_count": 34,
   "metadata": {},
   "outputs": [
    {
     "data": {
      "text/html": [
       "<div>\n",
       "<style scoped>\n",
       "    .dataframe tbody tr th:only-of-type {\n",
       "        vertical-align: middle;\n",
       "    }\n",
       "\n",
       "    .dataframe tbody tr th {\n",
       "        vertical-align: top;\n",
       "    }\n",
       "\n",
       "    .dataframe thead th {\n",
       "        text-align: right;\n",
       "    }\n",
       "</style>\n",
       "<table border=\"1\" class=\"dataframe\">\n",
       "  <thead>\n",
       "    <tr style=\"text-align: right;\">\n",
       "      <th></th>\n",
       "      <th>RMSE Test Data</th>\n",
       "      <th>best Train score</th>\n",
       "      <th>best_params</th>\n",
       "      <th>fit time</th>\n",
       "      <th>model_name</th>\n",
       "    </tr>\n",
       "  </thead>\n",
       "  <tbody>\n",
       "    <tr>\n",
       "      <td>0</td>\n",
       "      <td>1828.976681</td>\n",
       "      <td>1871.997096</td>\n",
       "      <td>{'criterion': 'mse', 'max_depth': 16, 'random_...</td>\n",
       "      <td>4.127833</td>\n",
       "      <td>DecisionTree</td>\n",
       "    </tr>\n",
       "    <tr>\n",
       "      <td>1</td>\n",
       "      <td>1696.588363</td>\n",
       "      <td>1691.338903</td>\n",
       "      <td>{'criterion': 'mse', 'max_depth': 14, 'n_estim...</td>\n",
       "      <td>38.663172</td>\n",
       "      <td>RandomForest</td>\n",
       "    </tr>\n",
       "  </tbody>\n",
       "</table>\n",
       "</div>"
      ],
      "text/plain": [
       "   RMSE Test Data  best Train score   \\\n",
       "0     1828.976681        1871.997096   \n",
       "1     1696.588363        1691.338903   \n",
       "\n",
       "                                         best_params   fit time    model_name  \n",
       "0  {'criterion': 'mse', 'max_depth': 16, 'random_...   4.127833  DecisionTree  \n",
       "1  {'criterion': 'mse', 'max_depth': 14, 'n_estim...  38.663172  RandomForest  "
      ]
     },
     "metadata": {},
     "output_type": "display_data"
    }
   ],
   "source": [
    "estim_list = [i for i in range(1,20,5)]\n",
    "depth_list = [i for i in range(1,15)]\n",
    "params = {'n_estimators':estim_list, 'max_depth':depth_list,'criterion':['mse'],'random_state':[RANDOM_STATE]}\n",
    "rfc = RandomForestRegressor()    \n",
    "model_types_compare, best_RF,best_RF_BP = find_best_model(rfc,params,autos_features_train_ohe, autos_target_train_ohe, autos_features_test_ohe, autos_target_test_ohe,model_types_compare,'RandomForest','SL',[])\n"
   ]
  },
  {
   "cell_type": "code",
   "execution_count": 35,
   "metadata": {},
   "outputs": [
    {
     "name": "stdout",
     "output_type": "stream",
     "text": [
      "Параметры полученной модели\n"
     ]
    },
    {
     "data": {
      "text/plain": [
       "{'bootstrap': True,\n",
       " 'criterion': 'mse',\n",
       " 'max_depth': 14,\n",
       " 'max_features': 'auto',\n",
       " 'max_leaf_nodes': None,\n",
       " 'min_impurity_decrease': 0.0,\n",
       " 'min_impurity_split': None,\n",
       " 'min_samples_leaf': 1,\n",
       " 'min_samples_split': 2,\n",
       " 'min_weight_fraction_leaf': 0.0,\n",
       " 'n_estimators': 16,\n",
       " 'n_jobs': None,\n",
       " 'oob_score': False,\n",
       " 'random_state': 12345,\n",
       " 'verbose': 0,\n",
       " 'warm_start': False}"
      ]
     },
     "execution_count": 35,
     "metadata": {},
     "output_type": "execute_result"
    }
   ],
   "source": [
    "print('Параметры полученной модели')\n",
    "best_RF.get_params()"
   ]
  },
  {
   "cell_type": "markdown",
   "metadata": {},
   "source": [
    "Можно видеть, что значение функции потерь у модели случайного леса значительно ниже, чем у модели дерева решений. Значение функции RMSE на тестовых данных датсаточно близко к достигнутому минимальному значению на обучающих данных. Однако время обучения многократно выше, чем у модели дерева решений. Наилучшее значение функции потерь достигается при значении гиперпараметров max_depth = 14 и n_estimators = 16 "
   ]
  },
  {
   "cell_type": "markdown",
   "metadata": {},
   "source": [
    "<b>LinearRegression</b>"
   ]
  },
  {
   "cell_type": "code",
   "execution_count": 36,
   "metadata": {},
   "outputs": [
    {
     "data": {
      "text/html": [
       "<div>\n",
       "<style scoped>\n",
       "    .dataframe tbody tr th:only-of-type {\n",
       "        vertical-align: middle;\n",
       "    }\n",
       "\n",
       "    .dataframe tbody tr th {\n",
       "        vertical-align: top;\n",
       "    }\n",
       "\n",
       "    .dataframe thead th {\n",
       "        text-align: right;\n",
       "    }\n",
       "</style>\n",
       "<table border=\"1\" class=\"dataframe\">\n",
       "  <thead>\n",
       "    <tr style=\"text-align: right;\">\n",
       "      <th></th>\n",
       "      <th>RMSE Test Data</th>\n",
       "      <th>best Train score</th>\n",
       "      <th>best_params</th>\n",
       "      <th>fit time</th>\n",
       "      <th>model_name</th>\n",
       "    </tr>\n",
       "  </thead>\n",
       "  <tbody>\n",
       "    <tr>\n",
       "      <td>0</td>\n",
       "      <td>1828.976681</td>\n",
       "      <td>1.871997e+03</td>\n",
       "      <td>{'criterion': 'mse', 'max_depth': 16, 'random_...</td>\n",
       "      <td>4.127833</td>\n",
       "      <td>DecisionTree</td>\n",
       "    </tr>\n",
       "    <tr>\n",
       "      <td>1</td>\n",
       "      <td>1696.588363</td>\n",
       "      <td>1.691339e+03</td>\n",
       "      <td>{'criterion': 'mse', 'max_depth': 14, 'n_estim...</td>\n",
       "      <td>38.663172</td>\n",
       "      <td>RandomForest</td>\n",
       "    </tr>\n",
       "    <tr>\n",
       "      <td>2</td>\n",
       "      <td>2708.958052</td>\n",
       "      <td>1.134442e+12</td>\n",
       "      <td>{'normalize': False}</td>\n",
       "      <td>14.100979</td>\n",
       "      <td>Linear Regression</td>\n",
       "    </tr>\n",
       "  </tbody>\n",
       "</table>\n",
       "</div>"
      ],
      "text/plain": [
       "   RMSE Test Data  best Train score   \\\n",
       "0     1828.976681       1.871997e+03   \n",
       "1     1696.588363       1.691339e+03   \n",
       "2     2708.958052       1.134442e+12   \n",
       "\n",
       "                                         best_params   fit time  \\\n",
       "0  {'criterion': 'mse', 'max_depth': 16, 'random_...   4.127833   \n",
       "1  {'criterion': 'mse', 'max_depth': 14, 'n_estim...  38.663172   \n",
       "2                               {'normalize': False}  14.100979   \n",
       "\n",
       "          model_name  \n",
       "0       DecisionTree  \n",
       "1       RandomForest  \n",
       "2  Linear Regression  "
      ]
     },
     "metadata": {},
     "output_type": "display_data"
    }
   ],
   "source": [
    "params = {'normalize':[True,False]}\n",
    "lr = LinearRegression() \n",
    "model_types_compare, best_LR,best_LR_BP = find_best_model(lr,params,autos_features_train_ohe, autos_target_train_ohe, autos_features_test_ohe, autos_target_test_ohe,model_types_compare,'Linear Regression','SL',[])\n"
   ]
  },
  {
   "cell_type": "code",
   "execution_count": 37,
   "metadata": {},
   "outputs": [
    {
     "name": "stdout",
     "output_type": "stream",
     "text": [
      "Параметры полученной модели\n"
     ]
    },
    {
     "data": {
      "text/plain": [
       "{'copy_X': True, 'fit_intercept': True, 'n_jobs': None, 'normalize': False}"
      ]
     },
     "execution_count": 37,
     "metadata": {},
     "output_type": "execute_result"
    }
   ],
   "source": [
    "print('Параметры полученной модели')\n",
    "best_LR.get_params()"
   ]
  },
  {
   "cell_type": "markdown",
   "metadata": {},
   "source": [
    "Значение RMSE на модели линейной регрессии значительно выше, чем у предшествующих двух значений. Время обучения также достаточно большое. Наилучшее значение функции потрерь достигается при значении гиперпараметра normalize = False. Вполне возможно, потому что данные уже были стандартизированы. Для ускорения работы модели можно было использовать параметр n_jobs = -1, однако на качество модели это не повлияло бы, а оно значительно хуже, чем у предыдущих моделей. "
   ]
  },
  {
   "cell_type": "markdown",
   "metadata": {},
   "source": [
    "<h4>Обучение бустинговых моделей</h4>"
   ]
  },
  {
   "cell_type": "markdown",
   "metadata": {},
   "source": [
    "<b>CatBoostRegressor</b>"
   ]
  },
  {
   "cell_type": "code",
   "execution_count": 38,
   "metadata": {},
   "outputs": [
    {
     "name": "stdout",
     "output_type": "stream",
     "text": [
      "0:\tlearn: 4492.1895791\ttotal: 105ms\tremaining: 946ms\n",
      "9:\tlearn: 3141.8136892\ttotal: 1.2s\tremaining: 0us\n",
      "0:\tlearn: 4513.8601144\ttotal: 52.8ms\tremaining: 476ms\n",
      "9:\tlearn: 3160.4969317\ttotal: 1.15s\tremaining: 0us\n",
      "0:\tlearn: 4493.8888955\ttotal: 31.2ms\tremaining: 281ms\n",
      "9:\tlearn: 3131.6723522\ttotal: 1.13s\tremaining: 0us\n",
      "0:\tlearn: 4492.1895791\ttotal: 93.3ms\tremaining: 1.31s\n",
      "14:\tlearn: 2742.1253714\ttotal: 1.78s\tremaining: 0us\n",
      "0:\tlearn: 4513.8601144\ttotal: 24.1ms\tremaining: 338ms\n",
      "14:\tlearn: 2756.5502293\ttotal: 1.62s\tremaining: 0us\n",
      "0:\tlearn: 4493.8888955\ttotal: 85.4ms\tremaining: 1.2s\n",
      "14:\tlearn: 2733.5577509\ttotal: 1.78s\tremaining: 0us\n",
      "0:\tlearn: 4492.1895791\ttotal: 59.9ms\tremaining: 1.74s\n",
      "29:\tlearn: 2150.4337281\ttotal: 3.44s\tremaining: 0us\n",
      "0:\tlearn: 4513.8601144\ttotal: 65.5ms\tremaining: 1.9s\n",
      "29:\tlearn: 2166.3754681\ttotal: 3.46s\tremaining: 0us\n",
      "0:\tlearn: 4493.8888955\ttotal: 78ms\tremaining: 2.26s\n",
      "29:\tlearn: 2156.7226036\ttotal: 3.76s\tremaining: 0us\n",
      "0:\tlearn: 3776.6781107\ttotal: 49.2ms\tremaining: 443ms\n",
      "9:\tlearn: 1950.3537564\ttotal: 1.23s\tremaining: 0us\n",
      "0:\tlearn: 3818.2704491\ttotal: 47.5ms\tremaining: 427ms\n",
      "9:\tlearn: 1975.1998490\ttotal: 1.24s\tremaining: 0us\n",
      "0:\tlearn: 3799.1110422\ttotal: 96.9ms\tremaining: 872ms\n",
      "9:\tlearn: 1964.1162143\ttotal: 1.2s\tremaining: 0us\n",
      "0:\tlearn: 3776.6781107\ttotal: 14.6ms\tremaining: 204ms\n",
      "14:\tlearn: 1864.4664110\ttotal: 1.61s\tremaining: 0us\n",
      "0:\tlearn: 3818.2704491\ttotal: 58.1ms\tremaining: 813ms\n",
      "14:\tlearn: 1877.4114539\ttotal: 1.75s\tremaining: 0us\n",
      "0:\tlearn: 3799.1110422\ttotal: 48.5ms\tremaining: 678ms\n",
      "14:\tlearn: 1877.5212962\ttotal: 1.74s\tremaining: 0us\n",
      "0:\tlearn: 3776.6781107\ttotal: 56.3ms\tremaining: 1.63s\n",
      "29:\tlearn: 1755.5752758\ttotal: 3.45s\tremaining: 0us\n",
      "0:\tlearn: 3818.2704491\ttotal: 49ms\tremaining: 1.42s\n",
      "29:\tlearn: 1781.6343877\ttotal: 3.44s\tremaining: 0us\n",
      "0:\tlearn: 3799.1110422\ttotal: 47.5ms\tremaining: 1.38s\n",
      "29:\tlearn: 1767.1513781\ttotal: 3.63s\tremaining: 0us\n",
      "0:\tlearn: 3801.8614910\ttotal: 129ms\tremaining: 3.73s\n",
      "29:\tlearn: 1758.4077524\ttotal: 4.72s\tremaining: 0us\n"
     ]
    },
    {
     "data": {
      "text/html": [
       "<div>\n",
       "<style scoped>\n",
       "    .dataframe tbody tr th:only-of-type {\n",
       "        vertical-align: middle;\n",
       "    }\n",
       "\n",
       "    .dataframe tbody tr th {\n",
       "        vertical-align: top;\n",
       "    }\n",
       "\n",
       "    .dataframe thead th {\n",
       "        text-align: right;\n",
       "    }\n",
       "</style>\n",
       "<table border=\"1\" class=\"dataframe\">\n",
       "  <thead>\n",
       "    <tr style=\"text-align: right;\">\n",
       "      <th></th>\n",
       "      <th>RMSE Test Data</th>\n",
       "      <th>best Train score</th>\n",
       "      <th>best_params</th>\n",
       "      <th>fit time</th>\n",
       "      <th>model_name</th>\n",
       "    </tr>\n",
       "  </thead>\n",
       "  <tbody>\n",
       "    <tr>\n",
       "      <td>0</td>\n",
       "      <td>1828.976681</td>\n",
       "      <td>1.871997e+03</td>\n",
       "      <td>{'criterion': 'mse', 'max_depth': 16, 'random_...</td>\n",
       "      <td>4.127833</td>\n",
       "      <td>DecisionTree</td>\n",
       "    </tr>\n",
       "    <tr>\n",
       "      <td>1</td>\n",
       "      <td>1696.588363</td>\n",
       "      <td>1.691339e+03</td>\n",
       "      <td>{'criterion': 'mse', 'max_depth': 14, 'n_estim...</td>\n",
       "      <td>38.663172</td>\n",
       "      <td>RandomForest</td>\n",
       "    </tr>\n",
       "    <tr>\n",
       "      <td>2</td>\n",
       "      <td>2708.958052</td>\n",
       "      <td>1.134442e+12</td>\n",
       "      <td>{'normalize': False}</td>\n",
       "      <td>14.100979</td>\n",
       "      <td>Linear Regression</td>\n",
       "    </tr>\n",
       "    <tr>\n",
       "      <td>3</td>\n",
       "      <td>1797.701019</td>\n",
       "      <td>1.776480e+03</td>\n",
       "      <td>{'learning_rate': 0.3, 'loss_function': 'RMSE'...</td>\n",
       "      <td>6.385439</td>\n",
       "      <td>CatBoostRegressor</td>\n",
       "    </tr>\n",
       "  </tbody>\n",
       "</table>\n",
       "</div>"
      ],
      "text/plain": [
       "   RMSE Test Data  best Train score   \\\n",
       "0     1828.976681       1.871997e+03   \n",
       "1     1696.588363       1.691339e+03   \n",
       "2     2708.958052       1.134442e+12   \n",
       "3     1797.701019       1.776480e+03   \n",
       "\n",
       "                                         best_params   fit time  \\\n",
       "0  {'criterion': 'mse', 'max_depth': 16, 'random_...   4.127833   \n",
       "1  {'criterion': 'mse', 'max_depth': 14, 'n_estim...  38.663172   \n",
       "2                               {'normalize': False}  14.100979   \n",
       "3  {'learning_rate': 0.3, 'loss_function': 'RMSE'...   6.385439   \n",
       "\n",
       "          model_name  \n",
       "0       DecisionTree  \n",
       "1       RandomForest  \n",
       "2  Linear Regression  \n",
       "3  CatBoostRegressor  "
      ]
     },
     "metadata": {},
     "output_type": "display_data"
    }
   ],
   "source": [
    "params = {'loss_function':['RMSE'],'learning_rate':[0.07,0.3],'n_estimators':[10,15,30],'random_seed':[RANDOM_STATE],'verbose':[1000]}\n",
    "cbc = CatBoostRegressor()\n",
    "\n",
    "model_types_compare, best_CBC,best_CBC_BP = find_best_model(cbc,params,autos_features_train, autos_target_train,autos_features_test, autos_target_test,model_types_compare,'CatBoostRegressor','CB',cat_features)\n"
   ]
  },
  {
   "cell_type": "code",
   "execution_count": 39,
   "metadata": {},
   "outputs": [
    {
     "name": "stdout",
     "output_type": "stream",
     "text": [
      "Параметры полученной модели\n"
     ]
    },
    {
     "data": {
      "text/plain": [
       "{'loss_function': 'RMSE',\n",
       " 'learning_rate': 0.3,\n",
       " 'n_estimators': 30,\n",
       " 'random_seed': 12345,\n",
       " 'verbose': 1000}"
      ]
     },
     "execution_count": 39,
     "metadata": {},
     "output_type": "execute_result"
    }
   ],
   "source": [
    "print('Параметры полученной модели')\n",
    "best_CBC.get_params()"
   ]
  },
  {
   "cell_type": "markdown",
   "metadata": {},
   "source": [
    "Наилучшее значение функции потерь в в модели CatBoostRegressor достигается при learning_rate = 0.3, n_estinators = 30 и depth = None (по умолчанию для данной модели). Значение RMSE на обучающих данных очень близко к значению RMSE на тестовых, что говорит о высокой точности модели. В целом значение RMSE несколько ниже, чем у RandomForestRegressor,  но скорость обучения выше почти в 7 раз"
   ]
  },
  {
   "cell_type": "markdown",
   "metadata": {},
   "source": [
    "<b>LGBMRegressor</b>"
   ]
  },
  {
   "cell_type": "code",
   "execution_count": 40,
   "metadata": {},
   "outputs": [
    {
     "data": {
      "text/html": [
       "<div>\n",
       "<style scoped>\n",
       "    .dataframe tbody tr th:only-of-type {\n",
       "        vertical-align: middle;\n",
       "    }\n",
       "\n",
       "    .dataframe tbody tr th {\n",
       "        vertical-align: top;\n",
       "    }\n",
       "\n",
       "    .dataframe thead th {\n",
       "        text-align: right;\n",
       "    }\n",
       "</style>\n",
       "<table border=\"1\" class=\"dataframe\">\n",
       "  <thead>\n",
       "    <tr style=\"text-align: right;\">\n",
       "      <th></th>\n",
       "      <th>RMSE Test Data</th>\n",
       "      <th>best Train score</th>\n",
       "      <th>best_params</th>\n",
       "      <th>fit time</th>\n",
       "      <th>model_name</th>\n",
       "    </tr>\n",
       "  </thead>\n",
       "  <tbody>\n",
       "    <tr>\n",
       "      <td>0</td>\n",
       "      <td>1828.976681</td>\n",
       "      <td>1.871997e+03</td>\n",
       "      <td>{'criterion': 'mse', 'max_depth': 16, 'random_...</td>\n",
       "      <td>4.127833</td>\n",
       "      <td>DecisionTree</td>\n",
       "    </tr>\n",
       "    <tr>\n",
       "      <td>1</td>\n",
       "      <td>1696.588363</td>\n",
       "      <td>1.691339e+03</td>\n",
       "      <td>{'criterion': 'mse', 'max_depth': 14, 'n_estim...</td>\n",
       "      <td>38.663172</td>\n",
       "      <td>RandomForest</td>\n",
       "    </tr>\n",
       "    <tr>\n",
       "      <td>2</td>\n",
       "      <td>2708.958052</td>\n",
       "      <td>1.134442e+12</td>\n",
       "      <td>{'normalize': False}</td>\n",
       "      <td>14.100979</td>\n",
       "      <td>Linear Regression</td>\n",
       "    </tr>\n",
       "    <tr>\n",
       "      <td>3</td>\n",
       "      <td>1797.701019</td>\n",
       "      <td>1.776480e+03</td>\n",
       "      <td>{'learning_rate': 0.3, 'loss_function': 'RMSE'...</td>\n",
       "      <td>6.385439</td>\n",
       "      <td>CatBoostRegressor</td>\n",
       "    </tr>\n",
       "    <tr>\n",
       "      <td>4</td>\n",
       "      <td>1620.279601</td>\n",
       "      <td>1.614889e+03</td>\n",
       "      <td>{'learning_rate': 0.3, 'metric': 'rmse', 'n_es...</td>\n",
       "      <td>4.396710</td>\n",
       "      <td>LGBMRegressor</td>\n",
       "    </tr>\n",
       "  </tbody>\n",
       "</table>\n",
       "</div>"
      ],
      "text/plain": [
       "   RMSE Test Data  best Train score   \\\n",
       "0     1828.976681       1.871997e+03   \n",
       "1     1696.588363       1.691339e+03   \n",
       "2     2708.958052       1.134442e+12   \n",
       "3     1797.701019       1.776480e+03   \n",
       "4     1620.279601       1.614889e+03   \n",
       "\n",
       "                                         best_params   fit time  \\\n",
       "0  {'criterion': 'mse', 'max_depth': 16, 'random_...   4.127833   \n",
       "1  {'criterion': 'mse', 'max_depth': 14, 'n_estim...  38.663172   \n",
       "2                               {'normalize': False}  14.100979   \n",
       "3  {'learning_rate': 0.3, 'loss_function': 'RMSE'...   6.385439   \n",
       "4  {'learning_rate': 0.3, 'metric': 'rmse', 'n_es...   4.396710   \n",
       "\n",
       "          model_name  \n",
       "0       DecisionTree  \n",
       "1       RandomForest  \n",
       "2  Linear Regression  \n",
       "3  CatBoostRegressor  \n",
       "4      LGBMRegressor  "
      ]
     },
     "metadata": {},
     "output_type": "display_data"
    }
   ],
   "source": [
    "autos_features_train[cat_features] = autos_features_train[cat_features].astype('category')\n",
    "autos_features_test[cat_features] = autos_features_test[cat_features].astype('category')\n",
    "params = {'learning_rate':[0.05,0.1,0.3],'n_estimators':[10,20,30],'random_state':[RANDOM_STATE],'regression':['root_mean_squared_error'],'metric':['rmse']}\n",
    "lgbm = LGBMRegressor()\n",
    "model_types_compare, best_LGBM,best_CBC_LGBM = find_best_model(lgbm,params,autos_features_train, autos_target_train,autos_features_test, autos_target_test,model_types_compare,'LGBMRegressor','LGBM',cat_features)\n"
   ]
  },
  {
   "cell_type": "code",
   "execution_count": 41,
   "metadata": {},
   "outputs": [
    {
     "name": "stdout",
     "output_type": "stream",
     "text": [
      "Параметры полученной модели\n"
     ]
    },
    {
     "data": {
      "text/plain": [
       "{'boosting_type': 'gbdt',\n",
       " 'class_weight': None,\n",
       " 'colsample_bytree': 1.0,\n",
       " 'importance_type': 'split',\n",
       " 'learning_rate': 0.3,\n",
       " 'max_depth': -1,\n",
       " 'min_child_samples': 20,\n",
       " 'min_child_weight': 0.001,\n",
       " 'min_split_gain': 0.0,\n",
       " 'n_estimators': 30,\n",
       " 'n_jobs': -1,\n",
       " 'num_leaves': 31,\n",
       " 'objective': None,\n",
       " 'random_state': 12345,\n",
       " 'reg_alpha': 0.0,\n",
       " 'reg_lambda': 0.0,\n",
       " 'silent': True,\n",
       " 'subsample': 1.0,\n",
       " 'subsample_for_bin': 200000,\n",
       " 'subsample_freq': 0,\n",
       " 'metric': 'rmse',\n",
       " 'regression': 'root_mean_squared_error'}"
      ]
     },
     "execution_count": 41,
     "metadata": {},
     "output_type": "execute_result"
    }
   ],
   "source": [
    "print('Параметры полученной модели')\n",
    "best_LGBM.get_params()"
   ]
  },
  {
   "cell_type": "markdown",
   "metadata": {},
   "source": [
    "Наилучшее значение модели достигается при значении гиперпараметров: learning_rate = 0.3, max_depth = -1(по умолчанию), n_estimators = 30. У модели LGBMRegressor значения RMSE на обучающей и тестовой выборке очень близки, что говорит о точности модели. Значение метрики RMSE  и скорость обучения у данной модели - самые лучшие."
   ]
  },
  {
   "cell_type": "markdown",
   "metadata": {},
   "source": [
    "Модели обучены, проанализируем результаты"
   ]
  },
  {
   "cell_type": "markdown",
   "metadata": {},
   "source": [
    "## Анализ моделей"
   ]
  },
  {
   "cell_type": "markdown",
   "metadata": {},
   "source": [
    "Мы собрали сведея о следующих моделях:\n",
    "<li>CatBoostRegressor</li>\n",
    "<li>LGBMRegressor</li>\n",
    "<li>LinearRegression</li>\n",
    "<li>DecisionTreeRegressor</li>\n",
    "<li>RandomForestRegressor</li>\n",
    "Посмотрим, какую модель можно использовать для определения стоимости автомобилей. "
   ]
  },
  {
   "cell_type": "code",
   "execution_count": 42,
   "metadata": {},
   "outputs": [
    {
     "data": {
      "text/html": [
       "<div>\n",
       "<style scoped>\n",
       "    .dataframe tbody tr th:only-of-type {\n",
       "        vertical-align: middle;\n",
       "    }\n",
       "\n",
       "    .dataframe tbody tr th {\n",
       "        vertical-align: top;\n",
       "    }\n",
       "\n",
       "    .dataframe thead th {\n",
       "        text-align: right;\n",
       "    }\n",
       "</style>\n",
       "<table border=\"1\" class=\"dataframe\">\n",
       "  <thead>\n",
       "    <tr style=\"text-align: right;\">\n",
       "      <th></th>\n",
       "      <th>RMSE Test Data</th>\n",
       "      <th>best Train score</th>\n",
       "      <th>best_params</th>\n",
       "      <th>fit time</th>\n",
       "      <th>model_name</th>\n",
       "    </tr>\n",
       "  </thead>\n",
       "  <tbody>\n",
       "    <tr>\n",
       "      <td>0</td>\n",
       "      <td>1828.976681</td>\n",
       "      <td>1.871997e+03</td>\n",
       "      <td>{'criterion': 'mse', 'max_depth': 16, 'random_...</td>\n",
       "      <td>4.127833</td>\n",
       "      <td>DecisionTree</td>\n",
       "    </tr>\n",
       "    <tr>\n",
       "      <td>1</td>\n",
       "      <td>1696.588363</td>\n",
       "      <td>1.691339e+03</td>\n",
       "      <td>{'criterion': 'mse', 'max_depth': 14, 'n_estim...</td>\n",
       "      <td>38.663172</td>\n",
       "      <td>RandomForest</td>\n",
       "    </tr>\n",
       "    <tr>\n",
       "      <td>2</td>\n",
       "      <td>2708.958052</td>\n",
       "      <td>1.134442e+12</td>\n",
       "      <td>{'normalize': False}</td>\n",
       "      <td>14.100979</td>\n",
       "      <td>Linear Regression</td>\n",
       "    </tr>\n",
       "    <tr>\n",
       "      <td>3</td>\n",
       "      <td>1797.701019</td>\n",
       "      <td>1.776480e+03</td>\n",
       "      <td>{'learning_rate': 0.3, 'loss_function': 'RMSE'...</td>\n",
       "      <td>6.385439</td>\n",
       "      <td>CatBoostRegressor</td>\n",
       "    </tr>\n",
       "    <tr>\n",
       "      <td>4</td>\n",
       "      <td>1620.279601</td>\n",
       "      <td>1.614889e+03</td>\n",
       "      <td>{'learning_rate': 0.3, 'metric': 'rmse', 'n_es...</td>\n",
       "      <td>4.396710</td>\n",
       "      <td>LGBMRegressor</td>\n",
       "    </tr>\n",
       "  </tbody>\n",
       "</table>\n",
       "</div>"
      ],
      "text/plain": [
       "   RMSE Test Data  best Train score   \\\n",
       "0     1828.976681       1.871997e+03   \n",
       "1     1696.588363       1.691339e+03   \n",
       "2     2708.958052       1.134442e+12   \n",
       "3     1797.701019       1.776480e+03   \n",
       "4     1620.279601       1.614889e+03   \n",
       "\n",
       "                                         best_params   fit time  \\\n",
       "0  {'criterion': 'mse', 'max_depth': 16, 'random_...   4.127833   \n",
       "1  {'criterion': 'mse', 'max_depth': 14, 'n_estim...  38.663172   \n",
       "2                               {'normalize': False}  14.100979   \n",
       "3  {'learning_rate': 0.3, 'loss_function': 'RMSE'...   6.385439   \n",
       "4  {'learning_rate': 0.3, 'metric': 'rmse', 'n_es...   4.396710   \n",
       "\n",
       "          model_name  \n",
       "0       DecisionTree  \n",
       "1       RandomForest  \n",
       "2  Linear Regression  \n",
       "3  CatBoostRegressor  \n",
       "4      LGBMRegressor  "
      ]
     },
     "metadata": {},
     "output_type": "display_data"
    }
   ],
   "source": [
    "display(model_types_compare)"
   ]
  },
  {
   "cell_type": "markdown",
   "metadata": {},
   "source": [
    "<b>Вывод</b><br>\n",
    "Как можно видеть, наилучшее качество предсказания и время обучения  - у модели LGBMRegressor, модель RandomForestRegressor показала результат немного хуже, однако скорость обучения модели очень низкая - эту модель мы рекомендовать не будем. CatBoostRegressor показала качество модели ниже, чем у LGBMRegressor, однако скорость обучения значительно лучше, чем у RandomForestRegressor. Можно посчитать время предсказания и для этой модели тоже. Модель DecisionTreeRegressor показала довольнго неплохое время обучения модели, однако качество модели довольно низкое, поэтому ее мы также дальше рассматривать не будем. Модель LinearRegression показала самое низкое качество предсказания и очень низкую скорость обучения, ее мы также рассматривать дальше не будем.<br>\n",
    "Проанализируем скорость предсказания для моделей:\n",
    "<li>CatBoostRegressor</li>\n",
    "<li>LGBMRegressor</li>"
   ]
  },
  {
   "cell_type": "markdown",
   "metadata": {},
   "source": [
    "<b>CatBoostRegressor</b>"
   ]
  },
  {
   "cell_type": "code",
   "execution_count": 43,
   "metadata": {},
   "outputs": [
    {
     "name": "stdout",
     "output_type": "stream",
     "text": [
      "CPU times: user 46.7 ms, sys: 700 µs, total: 47.4 ms\n",
      "Wall time: 65.9 ms\n"
     ]
    },
    {
     "data": {
      "text/plain": [
       "array([12241.38265606,  9694.91264277,  5739.60941964, ...,\n",
       "        5509.87908496,  9176.14191709,  2173.33676756])"
      ]
     },
     "execution_count": 43,
     "metadata": {},
     "output_type": "execute_result"
    }
   ],
   "source": [
    "%%time\n",
    "best_CBC.predict(autos_features_test)"
   ]
  },
  {
   "cell_type": "markdown",
   "metadata": {},
   "source": [
    "<b>LGBMRegressor</b>"
   ]
  },
  {
   "cell_type": "code",
   "execution_count": 44,
   "metadata": {},
   "outputs": [
    {
     "name": "stdout",
     "output_type": "stream",
     "text": [
      "CPU times: user 141 ms, sys: 0 ns, total: 141 ms\n",
      "Wall time: 101 ms\n"
     ]
    },
    {
     "data": {
      "text/plain": [
       "array([11436.46869128,  9675.16367299,  5848.03263678, ...,\n",
       "        5281.19622399,  7720.1774931 ,  2381.88022251])"
      ]
     },
     "execution_count": 44,
     "metadata": {},
     "output_type": "execute_result"
    }
   ],
   "source": [
    "%%time\n",
    "best_LGBM.predict(autos_features_test)"
   ]
  },
  {
   "cell_type": "markdown",
   "metadata": {},
   "source": [
    "Получим полные параметры модели LGBMRegressor"
   ]
  },
  {
   "cell_type": "code",
   "execution_count": 45,
   "metadata": {},
   "outputs": [
    {
     "data": {
      "text/plain": [
       "<bound method LGBMModel.get_params of LGBMRegressor(boosting_type='gbdt', class_weight=None, colsample_bytree=1.0,\n",
       "              importance_type='split', learning_rate=0.3, max_depth=-1,\n",
       "              metric='rmse', min_child_samples=20, min_child_weight=0.001,\n",
       "              min_split_gain=0.0, n_estimators=30, n_jobs=-1, num_leaves=31,\n",
       "              objective=None, random_state=12345, reg_alpha=0.0, reg_lambda=0.0,\n",
       "              regression='root_mean_squared_error', silent=True, subsample=1.0,\n",
       "              subsample_for_bin=200000, subsample_freq=0)>"
      ]
     },
     "execution_count": 45,
     "metadata": {},
     "output_type": "execute_result"
    }
   ],
   "source": [
    "best_LGBM.get_params"
   ]
  },
  {
   "cell_type": "markdown",
   "metadata": {},
   "source": [
    "<b>Вывод</b><br>\n",
    "Как можно видеть, скорость предсказания у модели CatBoostRegressor выше, чем у модели LGBMRegressor, однако у модели LGBMRegressor заметно выше качество и скорость обучения. Поэтому можем рекомендовать ее для определения стоимости автомобилей"
   ]
  }
 ],
 "metadata": {
  "ExecuteTimeLog": [
   {
    "duration": 1521,
    "start_time": "2021-06-30T09:20:26.029Z"
   },
   {
    "duration": 1133,
    "start_time": "2021-06-30T09:21:19.165Z"
   },
   {
    "duration": 1622,
    "start_time": "2021-06-30T09:23:29.017Z"
   },
   {
    "duration": 1265,
    "start_time": "2021-06-30T09:24:02.519Z"
   },
   {
    "duration": 82,
    "start_time": "2021-06-30T09:39:28.280Z"
   },
   {
    "duration": 66,
    "start_time": "2021-06-30T09:41:11.911Z"
   },
   {
    "duration": 40,
    "start_time": "2021-06-30T09:42:56.617Z"
   },
   {
    "duration": 38,
    "start_time": "2021-06-30T09:45:05.989Z"
   },
   {
    "duration": 41,
    "start_time": "2021-06-30T09:46:44.727Z"
   },
   {
    "duration": 370,
    "start_time": "2021-06-30T09:49:27.119Z"
   },
   {
    "duration": 330,
    "start_time": "2021-06-30T09:49:38.070Z"
   },
   {
    "duration": 359,
    "start_time": "2021-06-30T09:53:37.761Z"
   },
   {
    "duration": 180,
    "start_time": "2021-06-30T09:53:50.023Z"
   },
   {
    "duration": 133,
    "start_time": "2021-06-30T09:54:56.234Z"
   },
   {
    "duration": 312,
    "start_time": "2021-06-30T09:55:01.571Z"
   },
   {
    "duration": 663,
    "start_time": "2021-06-30T09:55:12.000Z"
   },
   {
    "duration": 2561,
    "start_time": "2021-06-30T09:55:27.831Z"
   },
   {
    "duration": 1680,
    "start_time": "2021-06-30T11:26:09.714Z"
   },
   {
    "duration": 1655,
    "start_time": "2021-06-30T11:26:40.026Z"
   },
   {
    "duration": 30,
    "start_time": "2021-06-30T11:34:03.555Z"
   },
   {
    "duration": 1751,
    "start_time": "2021-06-30T11:34:22.302Z"
   },
   {
    "duration": 54,
    "start_time": "2021-06-30T11:44:24.638Z"
   },
   {
    "duration": 50,
    "start_time": "2021-06-30T11:45:47.176Z"
   },
   {
    "duration": 45,
    "start_time": "2021-06-30T11:46:45.207Z"
   },
   {
    "duration": 31,
    "start_time": "2021-06-30T11:49:55.094Z"
   },
   {
    "duration": 58,
    "start_time": "2021-06-30T11:53:11.356Z"
   },
   {
    "duration": 12,
    "start_time": "2021-06-30T11:59:44.688Z"
   },
   {
    "duration": 12,
    "start_time": "2021-06-30T12:00:11.121Z"
   },
   {
    "duration": 12,
    "start_time": "2021-06-30T12:00:16.245Z"
   },
   {
    "duration": 12,
    "start_time": "2021-06-30T12:00:21.071Z"
   },
   {
    "duration": 61,
    "start_time": "2021-06-30T12:03:04.416Z"
   },
   {
    "duration": 11,
    "start_time": "2021-06-30T12:04:29.786Z"
   },
   {
    "duration": 42,
    "start_time": "2021-06-30T12:05:30.663Z"
   },
   {
    "duration": 72,
    "start_time": "2021-06-30T12:10:20.964Z"
   },
   {
    "duration": 41,
    "start_time": "2021-06-30T12:11:11.408Z"
   },
   {
    "duration": 1032,
    "start_time": "2021-06-30T12:14:14.600Z"
   },
   {
    "duration": 1550,
    "start_time": "2021-06-30T12:15:15.538Z"
   },
   {
    "duration": 1325,
    "start_time": "2021-06-30T12:15:17.091Z"
   },
   {
    "duration": 52,
    "start_time": "2021-06-30T12:15:18.419Z"
   },
   {
    "duration": 364,
    "start_time": "2021-06-30T12:15:18.473Z"
   },
   {
    "duration": 1672,
    "start_time": "2021-06-30T12:15:18.840Z"
   },
   {
    "duration": 65,
    "start_time": "2021-06-30T12:15:20.514Z"
   },
   {
    "duration": 1057,
    "start_time": "2021-06-30T12:15:29.644Z"
   },
   {
    "duration": 77,
    "start_time": "2021-06-30T12:25:48.458Z"
   },
   {
    "duration": 76,
    "start_time": "2021-06-30T12:25:57.385Z"
   },
   {
    "duration": 66,
    "start_time": "2021-06-30T12:26:32.399Z"
   },
   {
    "duration": 52,
    "start_time": "2021-06-30T12:28:33.961Z"
   },
   {
    "duration": 1617,
    "start_time": "2021-06-30T12:29:07.050Z"
   },
   {
    "duration": 500,
    "start_time": "2021-06-30T12:29:22.363Z"
   },
   {
    "duration": 311,
    "start_time": "2021-06-30T12:29:29.997Z"
   },
   {
    "duration": 321,
    "start_time": "2021-06-30T12:30:15.606Z"
   },
   {
    "duration": 29,
    "start_time": "2021-06-30T12:34:18.676Z"
   },
   {
    "duration": 5,
    "start_time": "2021-06-30T12:34:50.099Z"
   },
   {
    "duration": 1317,
    "start_time": "2021-06-30T12:34:50.107Z"
   },
   {
    "duration": 48,
    "start_time": "2021-06-30T12:34:51.428Z"
   },
   {
    "duration": 352,
    "start_time": "2021-06-30T12:34:51.480Z"
   },
   {
    "duration": 1675,
    "start_time": "2021-06-30T12:34:51.835Z"
   },
   {
    "duration": 62,
    "start_time": "2021-06-30T12:34:53.513Z"
   },
   {
    "duration": 1606,
    "start_time": "2021-06-30T12:34:53.579Z"
   },
   {
    "duration": 45,
    "start_time": "2021-06-30T12:34:55.189Z"
   },
   {
    "duration": 334,
    "start_time": "2021-06-30T12:34:55.236Z"
   },
   {
    "duration": 320,
    "start_time": "2021-06-30T12:37:25.881Z"
   },
   {
    "duration": 5,
    "start_time": "2021-06-30T12:37:30.723Z"
   },
   {
    "duration": 1388,
    "start_time": "2021-06-30T12:37:33.654Z"
   },
   {
    "duration": 329,
    "start_time": "2021-06-30T12:38:20.898Z"
   },
   {
    "duration": 93,
    "start_time": "2021-06-30T12:38:59.340Z"
   },
   {
    "duration": 741,
    "start_time": "2021-06-30T12:39:04.714Z"
   },
   {
    "duration": 630,
    "start_time": "2021-06-30T12:39:47.879Z"
   },
   {
    "duration": 642,
    "start_time": "2021-06-30T12:40:01.338Z"
   },
   {
    "duration": 1357,
    "start_time": "2021-06-30T12:40:57.588Z"
   },
   {
    "duration": 6,
    "start_time": "2021-06-30T12:41:02.483Z"
   },
   {
    "duration": 1032,
    "start_time": "2021-06-30T12:41:04.092Z"
   },
   {
    "duration": 648,
    "start_time": "2021-06-30T12:41:30.576Z"
   },
   {
    "duration": 452,
    "start_time": "2021-06-30T12:47:22.066Z"
   },
   {
    "duration": 570,
    "start_time": "2021-06-30T12:47:32.153Z"
   },
   {
    "duration": 573,
    "start_time": "2021-06-30T12:47:41.271Z"
   },
   {
    "duration": 388,
    "start_time": "2021-06-30T12:48:21.966Z"
   },
   {
    "duration": 61,
    "start_time": "2021-06-30T14:14:57.095Z"
   },
   {
    "duration": 87,
    "start_time": "2021-06-30T14:26:58.203Z"
   },
   {
    "duration": 66,
    "start_time": "2021-06-30T14:27:52.198Z"
   },
   {
    "duration": 5,
    "start_time": "2021-06-30T14:32:20.423Z"
   },
   {
    "duration": 5,
    "start_time": "2021-06-30T14:32:46.774Z"
   },
   {
    "duration": 378,
    "start_time": "2021-06-30T14:33:26.537Z"
   },
   {
    "duration": 318,
    "start_time": "2021-06-30T14:33:33.815Z"
   },
   {
    "duration": 311,
    "start_time": "2021-06-30T14:33:38.238Z"
   },
   {
    "duration": 319,
    "start_time": "2021-06-30T14:37:35.500Z"
   },
   {
    "duration": 444,
    "start_time": "2021-06-30T14:38:21.444Z"
   },
   {
    "duration": 531,
    "start_time": "2021-06-30T14:38:50.626Z"
   },
   {
    "duration": 509,
    "start_time": "2021-06-30T14:39:08.196Z"
   },
   {
    "duration": 616,
    "start_time": "2021-06-30T14:39:14.271Z"
   },
   {
    "duration": 439,
    "start_time": "2021-06-30T14:39:53.213Z"
   },
   {
    "duration": 448,
    "start_time": "2021-06-30T14:40:08.602Z"
   },
   {
    "duration": 532,
    "start_time": "2021-06-30T14:40:29.071Z"
   },
   {
    "duration": 703,
    "start_time": "2021-06-30T14:43:15.178Z"
   },
   {
    "duration": 681,
    "start_time": "2021-06-30T14:43:32.486Z"
   },
   {
    "duration": 6,
    "start_time": "2021-06-30T14:44:38.047Z"
   },
   {
    "duration": 1281,
    "start_time": "2021-06-30T14:45:43.836Z"
   },
   {
    "duration": 1605,
    "start_time": "2021-06-30T14:46:05.706Z"
   },
   {
    "duration": 757,
    "start_time": "2021-06-30T14:47:18.764Z"
   },
   {
    "duration": 5,
    "start_time": "2021-06-30T14:47:23.194Z"
   },
   {
    "duration": 1014,
    "start_time": "2021-06-30T14:47:25.073Z"
   },
   {
    "duration": 1144,
    "start_time": "2021-06-30T14:48:35.580Z"
   },
   {
    "duration": 354,
    "start_time": "2021-06-30T15:04:02.349Z"
   },
   {
    "duration": 6,
    "start_time": "2021-06-30T15:04:04.726Z"
   },
   {
    "duration": 1666,
    "start_time": "2021-06-30T15:04:06.509Z"
   },
   {
    "duration": 949,
    "start_time": "2021-06-30T15:04:27.467Z"
   },
   {
    "duration": 558,
    "start_time": "2021-06-30T15:04:38.357Z"
   },
   {
    "duration": 1482,
    "start_time": "2021-06-30T15:05:07.619Z"
   },
   {
    "duration": 6,
    "start_time": "2021-06-30T15:05:26.701Z"
   },
   {
    "duration": 1044,
    "start_time": "2021-06-30T15:06:05.185Z"
   },
   {
    "duration": 6,
    "start_time": "2021-06-30T15:06:52.225Z"
   },
   {
    "duration": 1252,
    "start_time": "2021-06-30T15:06:54.675Z"
   },
   {
    "duration": 2336,
    "start_time": "2021-06-30T15:07:44.211Z"
   },
   {
    "duration": 895,
    "start_time": "2021-06-30T15:09:19.236Z"
   },
   {
    "duration": 1804,
    "start_time": "2021-06-30T15:10:59.881Z"
   },
   {
    "duration": 3317,
    "start_time": "2021-06-30T15:26:16.172Z"
   },
   {
    "duration": 1531,
    "start_time": "2021-06-30T15:26:34.202Z"
   },
   {
    "duration": 3310,
    "start_time": "2021-06-30T15:28:01.696Z"
   },
   {
    "duration": 5,
    "start_time": "2021-06-30T15:35:23.796Z"
   },
   {
    "duration": 1426,
    "start_time": "2021-06-30T15:35:23.804Z"
   },
   {
    "duration": 63,
    "start_time": "2021-06-30T15:35:25.233Z"
   },
   {
    "duration": 489,
    "start_time": "2021-06-30T15:35:25.299Z"
   },
   {
    "duration": 1961,
    "start_time": "2021-06-30T15:35:25.791Z"
   },
   {
    "duration": 113,
    "start_time": "2021-06-30T15:35:27.754Z"
   },
   {
    "duration": 111,
    "start_time": "2021-06-30T15:35:27.870Z"
   },
   {
    "duration": 3424,
    "start_time": "2021-06-30T15:35:27.985Z"
   },
   {
    "duration": 55,
    "start_time": "2021-06-30T15:35:31.413Z"
   },
   {
    "duration": 889,
    "start_time": "2021-06-30T15:35:31.473Z"
   },
   {
    "duration": 412,
    "start_time": "2021-06-30T15:35:32.365Z"
   },
   {
    "duration": 65,
    "start_time": "2021-06-30T15:35:32.783Z"
   },
   {
    "duration": 1317,
    "start_time": "2021-06-30T15:35:32.850Z"
   },
   {
    "duration": 2225,
    "start_time": "2021-06-30T15:50:32.832Z"
   },
   {
    "duration": 62,
    "start_time": "2021-06-30T18:46:38.096Z"
   },
   {
    "duration": 58,
    "start_time": "2021-06-30T18:46:46.253Z"
   },
   {
    "duration": 57,
    "start_time": "2021-06-30T18:53:13.942Z"
   },
   {
    "duration": 347,
    "start_time": "2021-06-30T19:01:35.461Z"
   },
   {
    "duration": 5,
    "start_time": "2021-06-30T19:02:10.183Z"
   },
   {
    "duration": 1404,
    "start_time": "2021-06-30T19:02:10.191Z"
   },
   {
    "duration": 40,
    "start_time": "2021-06-30T19:02:11.600Z"
   },
   {
    "duration": 448,
    "start_time": "2021-06-30T19:02:11.643Z"
   },
   {
    "duration": 1895,
    "start_time": "2021-06-30T19:02:12.095Z"
   },
   {
    "duration": 62,
    "start_time": "2021-06-30T19:02:13.995Z"
   },
   {
    "duration": 13,
    "start_time": "2021-06-30T19:02:14.060Z"
   },
   {
    "duration": 3611,
    "start_time": "2021-06-30T19:02:14.076Z"
   },
   {
    "duration": 41,
    "start_time": "2021-06-30T19:02:17.693Z"
   },
   {
    "duration": 754,
    "start_time": "2021-06-30T19:02:17.737Z"
   },
   {
    "duration": 396,
    "start_time": "2021-06-30T19:02:18.495Z"
   },
   {
    "duration": 86,
    "start_time": "2021-06-30T19:02:18.895Z"
   },
   {
    "duration": 1970,
    "start_time": "2021-06-30T19:02:18.986Z"
   },
   {
    "duration": 61,
    "start_time": "2021-06-30T19:02:20.958Z"
   },
   {
    "duration": 76,
    "start_time": "2021-06-30T19:02:21.021Z"
   },
   {
    "duration": 44,
    "start_time": "2021-06-30T19:02:21.100Z"
   },
   {
    "duration": 34,
    "start_time": "2021-06-30T19:04:54.899Z"
   },
   {
    "duration": 56,
    "start_time": "2021-06-30T19:05:04.970Z"
   },
   {
    "duration": 83,
    "start_time": "2021-06-30T19:09:13.948Z"
   },
   {
    "duration": 443,
    "start_time": "2021-06-30T19:09:55.317Z"
   },
   {
    "duration": 43,
    "start_time": "2021-06-30T19:10:11.318Z"
   },
   {
    "duration": 42,
    "start_time": "2021-06-30T19:13:53.676Z"
   },
   {
    "duration": 31,
    "start_time": "2021-06-30T19:14:33.864Z"
   },
   {
    "duration": 23,
    "start_time": "2021-06-30T19:14:48.226Z"
   },
   {
    "duration": 50,
    "start_time": "2021-06-30T19:15:34.489Z"
   },
   {
    "duration": 1338,
    "start_time": "2021-07-01T09:09:54.208Z"
   },
   {
    "duration": 1257,
    "start_time": "2021-07-01T09:09:55.548Z"
   },
   {
    "duration": 37,
    "start_time": "2021-07-01T09:09:56.808Z"
   },
   {
    "duration": 342,
    "start_time": "2021-07-01T09:09:56.848Z"
   },
   {
    "duration": 1555,
    "start_time": "2021-07-01T09:09:57.192Z"
   },
   {
    "duration": 71,
    "start_time": "2021-07-01T09:09:58.749Z"
   },
   {
    "duration": 5,
    "start_time": "2021-07-01T09:09:58.822Z"
   },
   {
    "duration": 2989,
    "start_time": "2021-07-01T09:09:58.831Z"
   },
   {
    "duration": 60,
    "start_time": "2021-07-01T09:10:01.823Z"
   },
   {
    "duration": 671,
    "start_time": "2021-07-01T09:10:01.887Z"
   },
   {
    "duration": 396,
    "start_time": "2021-07-01T09:10:02.561Z"
   },
   {
    "duration": 73,
    "start_time": "2021-07-01T09:10:02.960Z"
   },
   {
    "duration": 1482,
    "start_time": "2021-07-01T09:10:03.035Z"
   },
   {
    "duration": 63,
    "start_time": "2021-07-01T09:10:04.520Z"
   },
   {
    "duration": 37,
    "start_time": "2021-07-01T09:10:04.586Z"
   },
   {
    "duration": 498,
    "start_time": "2021-07-01T09:10:04.625Z"
   },
   {
    "duration": 22,
    "start_time": "2021-07-01T09:10:05.125Z"
   },
   {
    "duration": 68,
    "start_time": "2021-07-01T09:10:05.150Z"
   },
   {
    "duration": 40,
    "start_time": "2021-07-01T09:10:05.221Z"
   },
   {
    "duration": 24,
    "start_time": "2021-07-01T09:22:49.036Z"
   },
   {
    "duration": 22,
    "start_time": "2021-07-01T09:24:04.153Z"
   },
   {
    "duration": 23,
    "start_time": "2021-07-01T09:25:46.523Z"
   },
   {
    "duration": 25,
    "start_time": "2021-07-01T09:25:58.588Z"
   },
   {
    "duration": 22,
    "start_time": "2021-07-01T09:26:10.437Z"
   },
   {
    "duration": 34,
    "start_time": "2021-07-01T09:26:24.772Z"
   },
   {
    "duration": 25,
    "start_time": "2021-07-01T11:04:18.249Z"
   },
   {
    "duration": 23,
    "start_time": "2021-07-01T11:07:19.553Z"
   },
   {
    "duration": 31,
    "start_time": "2021-07-01T11:08:31.040Z"
   },
   {
    "duration": 29,
    "start_time": "2021-07-01T11:08:49.430Z"
   },
   {
    "duration": 32,
    "start_time": "2021-07-01T11:09:09.772Z"
   },
   {
    "duration": 31,
    "start_time": "2021-07-01T11:12:50.285Z"
   },
   {
    "duration": 47,
    "start_time": "2021-07-01T11:27:23.219Z"
   },
   {
    "duration": 58,
    "start_time": "2021-07-01T11:27:57.079Z"
   },
   {
    "duration": 66,
    "start_time": "2021-07-01T11:35:11.589Z"
   },
   {
    "duration": 397,
    "start_time": "2021-07-01T11:35:29.921Z"
   },
   {
    "duration": 21,
    "start_time": "2021-07-01T11:35:37.417Z"
   },
   {
    "duration": 270,
    "start_time": "2021-07-01T11:35:54.783Z"
   },
   {
    "duration": 64,
    "start_time": "2021-07-01T11:36:08.450Z"
   },
   {
    "duration": 60,
    "start_time": "2021-07-01T11:36:52.334Z"
   },
   {
    "duration": 6856,
    "start_time": "2021-07-01T11:37:26.036Z"
   },
   {
    "duration": 86,
    "start_time": "2021-07-01T11:37:56.991Z"
   },
   {
    "duration": 6368,
    "start_time": "2021-07-01T11:38:03.589Z"
   },
   {
    "duration": 24,
    "start_time": "2021-07-01T11:38:13.469Z"
   },
   {
    "duration": 663,
    "start_time": "2021-07-01T11:38:24.895Z"
   },
   {
    "duration": 642,
    "start_time": "2021-07-01T11:39:05.312Z"
   },
   {
    "duration": 20,
    "start_time": "2021-07-01T11:39:16.714Z"
   },
   {
    "duration": 303,
    "start_time": "2021-07-01T11:39:34.482Z"
   },
   {
    "duration": 69,
    "start_time": "2021-07-01T11:39:44.556Z"
   },
   {
    "duration": 36,
    "start_time": "2021-07-01T11:46:38.532Z"
   },
   {
    "duration": 6388,
    "start_time": "2021-07-01T11:47:27.849Z"
   },
   {
    "duration": 6601,
    "start_time": "2021-07-01T11:47:48.255Z"
   },
   {
    "duration": 17,
    "start_time": "2021-07-01T11:48:09.842Z"
   },
   {
    "duration": 22,
    "start_time": "2021-07-01T11:48:46.056Z"
   },
   {
    "duration": 40,
    "start_time": "2021-07-01T11:49:07.636Z"
   },
   {
    "duration": 41,
    "start_time": "2021-07-01T11:50:15.999Z"
   },
   {
    "duration": 534,
    "start_time": "2021-07-01T11:51:22.626Z"
   },
   {
    "duration": 40,
    "start_time": "2021-07-01T11:51:44.885Z"
   },
   {
    "duration": 50,
    "start_time": "2021-07-01T11:51:58.215Z"
   },
   {
    "duration": 46,
    "start_time": "2021-07-01T11:52:50.305Z"
   },
   {
    "duration": 49,
    "start_time": "2021-07-01T11:53:18.440Z"
   },
   {
    "duration": 58,
    "start_time": "2021-07-01T11:54:07.807Z"
   },
   {
    "duration": 60,
    "start_time": "2021-07-01T11:57:38.777Z"
   },
   {
    "duration": 68,
    "start_time": "2021-07-01T11:58:01.171Z"
   },
   {
    "duration": 50,
    "start_time": "2021-07-01T11:59:50.160Z"
   },
   {
    "duration": 45,
    "start_time": "2021-07-01T11:59:57.898Z"
   },
   {
    "duration": 31,
    "start_time": "2021-07-01T12:05:28.212Z"
   },
   {
    "duration": 81,
    "start_time": "2021-07-01T12:05:38.656Z"
   },
   {
    "duration": 53,
    "start_time": "2021-07-01T12:06:21.360Z"
   },
   {
    "duration": 37,
    "start_time": "2021-07-01T12:06:25.766Z"
   },
   {
    "duration": 1742,
    "start_time": "2021-07-01T12:30:42.352Z"
   },
   {
    "duration": 266,
    "start_time": "2021-07-01T12:30:57.583Z"
   },
   {
    "duration": 53,
    "start_time": "2021-07-01T12:33:40.161Z"
   },
   {
    "duration": 540,
    "start_time": "2021-07-01T12:34:28.809Z"
   },
   {
    "duration": 65,
    "start_time": "2021-07-01T12:36:01.543Z"
   },
   {
    "duration": 36,
    "start_time": "2021-07-01T12:36:30.355Z"
   },
   {
    "duration": 40,
    "start_time": "2021-07-01T12:44:02.504Z"
   },
   {
    "duration": 786,
    "start_time": "2021-07-01T12:48:45.622Z"
   },
   {
    "duration": 280,
    "start_time": "2021-07-01T12:48:59.372Z"
   },
   {
    "duration": 2928,
    "start_time": "2021-07-01T12:49:30.209Z"
   },
   {
    "duration": 339,
    "start_time": "2021-07-01T12:50:02.294Z"
   },
   {
    "duration": 280,
    "start_time": "2021-07-01T12:50:12.132Z"
   },
   {
    "duration": 94,
    "start_time": "2021-07-01T12:55:42.179Z"
   },
   {
    "duration": 361,
    "start_time": "2021-07-01T12:55:48.766Z"
   },
   {
    "duration": 317,
    "start_time": "2021-07-01T12:56:06.442Z"
   },
   {
    "duration": 337,
    "start_time": "2021-07-01T12:56:23.115Z"
   },
   {
    "duration": 340,
    "start_time": "2021-07-01T13:09:19.464Z"
   },
   {
    "duration": 328,
    "start_time": "2021-07-01T13:09:26.655Z"
   },
   {
    "duration": 333,
    "start_time": "2021-07-01T13:09:48.976Z"
   },
   {
    "duration": 352,
    "start_time": "2021-07-01T13:09:56.771Z"
   },
   {
    "duration": 285,
    "start_time": "2021-07-01T13:10:04.464Z"
   },
   {
    "duration": 307,
    "start_time": "2021-07-01T13:10:14.752Z"
   },
   {
    "duration": 310,
    "start_time": "2021-07-01T13:13:20.471Z"
   },
   {
    "duration": 337,
    "start_time": "2021-07-01T13:13:28.420Z"
   },
   {
    "duration": 450,
    "start_time": "2021-07-01T13:15:45.195Z"
   },
   {
    "duration": 293,
    "start_time": "2021-07-01T13:18:06.565Z"
   },
   {
    "duration": 119,
    "start_time": "2021-07-01T13:19:02.529Z"
   },
   {
    "duration": 236,
    "start_time": "2021-07-01T13:19:11.803Z"
   },
   {
    "duration": 245,
    "start_time": "2021-07-01T13:19:34.149Z"
   },
   {
    "duration": 249,
    "start_time": "2021-07-01T13:28:19.936Z"
   },
   {
    "duration": 4,
    "start_time": "2021-07-01T13:44:58.463Z"
   },
   {
    "duration": 4,
    "start_time": "2021-07-01T13:45:20.526Z"
   },
   {
    "duration": 274,
    "start_time": "2021-07-01T13:47:03.814Z"
   },
   {
    "duration": 268,
    "start_time": "2021-07-01T13:47:29.545Z"
   },
   {
    "duration": 4,
    "start_time": "2021-07-01T13:48:22.852Z"
   },
   {
    "duration": 296,
    "start_time": "2021-07-01T13:48:30.209Z"
   },
   {
    "duration": 347,
    "start_time": "2021-07-01T13:51:45.389Z"
   },
   {
    "duration": 59,
    "start_time": "2021-07-01T13:51:53.079Z"
   },
   {
    "duration": 742,
    "start_time": "2021-07-01T13:54:18.150Z"
   },
   {
    "duration": 415,
    "start_time": "2021-07-01T13:54:53.941Z"
   },
   {
    "duration": 154,
    "start_time": "2021-07-01T13:56:20.454Z"
   },
   {
    "duration": 5,
    "start_time": "2021-07-01T13:57:12.446Z"
   },
   {
    "duration": 1295,
    "start_time": "2021-07-01T13:57:12.456Z"
   },
   {
    "duration": 47,
    "start_time": "2021-07-01T13:57:13.754Z"
   },
   {
    "duration": 363,
    "start_time": "2021-07-01T13:57:13.805Z"
   },
   {
    "duration": 1600,
    "start_time": "2021-07-01T13:57:14.170Z"
   },
   {
    "duration": 71,
    "start_time": "2021-07-01T13:57:15.772Z"
   },
   {
    "duration": 6,
    "start_time": "2021-07-01T13:57:15.845Z"
   },
   {
    "duration": 3176,
    "start_time": "2021-07-01T13:57:15.853Z"
   },
   {
    "duration": 61,
    "start_time": "2021-07-01T13:57:19.033Z"
   },
   {
    "duration": 626,
    "start_time": "2021-07-01T13:57:19.097Z"
   },
   {
    "duration": 388,
    "start_time": "2021-07-01T13:57:19.726Z"
   },
   {
    "duration": 75,
    "start_time": "2021-07-01T13:57:20.117Z"
   },
   {
    "duration": 1525,
    "start_time": "2021-07-01T13:57:20.194Z"
   },
   {
    "duration": 70,
    "start_time": "2021-07-01T13:57:21.721Z"
   },
   {
    "duration": 37,
    "start_time": "2021-07-01T13:57:21.795Z"
   },
   {
    "duration": 508,
    "start_time": "2021-07-01T13:57:21.834Z"
   },
   {
    "duration": 46,
    "start_time": "2021-07-01T13:57:22.345Z"
   },
   {
    "duration": 44,
    "start_time": "2021-07-01T13:57:22.394Z"
   },
   {
    "duration": 425,
    "start_time": "2021-07-01T13:57:22.441Z"
   },
   {
    "duration": 265,
    "start_time": "2021-07-01T13:57:22.868Z"
   },
   {
    "duration": 720,
    "start_time": "2021-07-01T13:57:23.136Z"
   },
   {
    "duration": 262,
    "start_time": "2021-07-01T14:00:03.462Z"
   },
   {
    "duration": 5,
    "start_time": "2021-07-01T14:00:38.150Z"
   },
   {
    "duration": 1294,
    "start_time": "2021-07-01T14:00:38.157Z"
   },
   {
    "duration": 54,
    "start_time": "2021-07-01T14:00:39.455Z"
   },
   {
    "duration": 403,
    "start_time": "2021-07-01T14:00:39.513Z"
   },
   {
    "duration": 1818,
    "start_time": "2021-07-01T14:00:39.919Z"
   },
   {
    "duration": 72,
    "start_time": "2021-07-01T14:00:41.740Z"
   },
   {
    "duration": 6,
    "start_time": "2021-07-01T14:00:41.815Z"
   },
   {
    "duration": 3434,
    "start_time": "2021-07-01T14:00:41.825Z"
   },
   {
    "duration": 57,
    "start_time": "2021-07-01T14:00:45.262Z"
   },
   {
    "duration": 672,
    "start_time": "2021-07-01T14:00:45.322Z"
   },
   {
    "duration": 411,
    "start_time": "2021-07-01T14:00:45.998Z"
   },
   {
    "duration": 81,
    "start_time": "2021-07-01T14:00:46.412Z"
   },
   {
    "duration": 1576,
    "start_time": "2021-07-01T14:00:46.496Z"
   },
   {
    "duration": 56,
    "start_time": "2021-07-01T14:00:48.074Z"
   },
   {
    "duration": 76,
    "start_time": "2021-07-01T14:00:48.133Z"
   },
   {
    "duration": 427,
    "start_time": "2021-07-01T14:00:48.212Z"
   },
   {
    "duration": 48,
    "start_time": "2021-07-01T14:00:48.642Z"
   },
   {
    "duration": 53,
    "start_time": "2021-07-01T14:00:48.692Z"
   },
   {
    "duration": 431,
    "start_time": "2021-07-01T14:00:48.748Z"
   },
   {
    "duration": 383,
    "start_time": "2021-07-01T14:00:49.184Z"
   },
   {
    "duration": 398,
    "start_time": "2021-07-01T14:00:49.569Z"
   },
   {
    "duration": 52,
    "start_time": "2021-07-01T14:01:50.904Z"
   },
   {
    "duration": 343,
    "start_time": "2021-07-01T14:03:29.705Z"
   },
   {
    "duration": 247,
    "start_time": "2021-07-01T14:03:41.710Z"
   },
   {
    "duration": 12,
    "start_time": "2021-07-01T14:03:50.203Z"
   },
   {
    "duration": 7687,
    "start_time": "2021-07-01T14:07:13.286Z"
   },
   {
    "duration": 4,
    "start_time": "2021-07-01T14:07:32.064Z"
   },
   {
    "duration": 1320,
    "start_time": "2021-07-01T14:07:32.071Z"
   },
   {
    "duration": 38,
    "start_time": "2021-07-01T14:07:33.395Z"
   },
   {
    "duration": 408,
    "start_time": "2021-07-01T14:07:33.436Z"
   },
   {
    "duration": 1672,
    "start_time": "2021-07-01T14:07:33.846Z"
   },
   {
    "duration": 63,
    "start_time": "2021-07-01T14:07:35.520Z"
   },
   {
    "duration": 9,
    "start_time": "2021-07-01T14:07:35.586Z"
   },
   {
    "duration": 3174,
    "start_time": "2021-07-01T14:07:35.601Z"
   },
   {
    "duration": 41,
    "start_time": "2021-07-01T14:07:38.783Z"
   },
   {
    "duration": 950,
    "start_time": "2021-07-01T14:07:38.827Z"
   },
   {
    "duration": 444,
    "start_time": "2021-07-01T14:07:39.782Z"
   },
   {
    "duration": 84,
    "start_time": "2021-07-01T14:07:40.228Z"
   },
   {
    "duration": 1628,
    "start_time": "2021-07-01T14:07:40.314Z"
   },
   {
    "duration": 62,
    "start_time": "2021-07-01T14:07:41.944Z"
   },
   {
    "duration": 38,
    "start_time": "2021-07-01T14:07:42.009Z"
   },
   {
    "duration": 440,
    "start_time": "2021-07-01T14:07:42.049Z"
   },
   {
    "duration": 34,
    "start_time": "2021-07-01T14:07:42.493Z"
   },
   {
    "duration": 86,
    "start_time": "2021-07-01T14:07:42.529Z"
   },
   {
    "duration": 418,
    "start_time": "2021-07-01T14:07:42.618Z"
   },
   {
    "duration": 257,
    "start_time": "2021-07-01T14:07:43.038Z"
   },
   {
    "duration": 389,
    "start_time": "2021-07-01T14:07:43.299Z"
   },
   {
    "duration": 22,
    "start_time": "2021-07-01T14:07:43.691Z"
   },
   {
    "duration": 43,
    "start_time": "2021-07-01T14:08:48.682Z"
   },
   {
    "duration": 254,
    "start_time": "2021-07-01T14:14:30.770Z"
   },
   {
    "duration": 85,
    "start_time": "2021-07-01T14:14:35.914Z"
   },
   {
    "duration": 4,
    "start_time": "2021-07-01T14:14:43.408Z"
   },
   {
    "duration": 148,
    "start_time": "2021-07-01T14:14:45.453Z"
   },
   {
    "duration": 5,
    "start_time": "2021-07-01T14:15:21.420Z"
   },
   {
    "duration": 1290,
    "start_time": "2021-07-01T14:15:21.427Z"
   },
   {
    "duration": 32,
    "start_time": "2021-07-01T14:15:22.721Z"
   },
   {
    "duration": 402,
    "start_time": "2021-07-01T14:15:22.756Z"
   },
   {
    "duration": 2350,
    "start_time": "2021-07-01T14:15:23.161Z"
   },
   {
    "duration": 76,
    "start_time": "2021-07-01T14:15:25.514Z"
   },
   {
    "duration": 7,
    "start_time": "2021-07-01T14:15:25.593Z"
   },
   {
    "duration": 3305,
    "start_time": "2021-07-01T14:15:25.602Z"
   },
   {
    "duration": 35,
    "start_time": "2021-07-01T14:15:28.911Z"
   },
   {
    "duration": 709,
    "start_time": "2021-07-01T14:15:28.949Z"
   },
   {
    "duration": 398,
    "start_time": "2021-07-01T14:15:29.660Z"
   },
   {
    "duration": 87,
    "start_time": "2021-07-01T14:15:30.062Z"
   },
   {
    "duration": 1737,
    "start_time": "2021-07-01T14:15:30.152Z"
   },
   {
    "duration": 50,
    "start_time": "2021-07-01T14:15:31.892Z"
   },
   {
    "duration": 81,
    "start_time": "2021-07-01T14:15:31.944Z"
   },
   {
    "duration": 435,
    "start_time": "2021-07-01T14:15:32.027Z"
   },
   {
    "duration": 54,
    "start_time": "2021-07-01T14:15:32.464Z"
   },
   {
    "duration": 72,
    "start_time": "2021-07-01T14:15:32.520Z"
   },
   {
    "duration": 431,
    "start_time": "2021-07-01T14:15:32.595Z"
   },
   {
    "duration": 270,
    "start_time": "2021-07-01T14:15:33.029Z"
   },
   {
    "duration": 6,
    "start_time": "2021-07-01T14:15:33.302Z"
   },
   {
    "duration": 480,
    "start_time": "2021-07-01T14:15:33.312Z"
   },
   {
    "duration": 55,
    "start_time": "2021-07-01T14:39:36.459Z"
   },
   {
    "duration": 1518,
    "start_time": "2021-07-01T14:40:47.153Z"
   },
   {
    "duration": 1309,
    "start_time": "2021-07-01T14:40:48.674Z"
   },
   {
    "duration": 45,
    "start_time": "2021-07-01T14:40:49.986Z"
   },
   {
    "duration": 383,
    "start_time": "2021-07-01T14:40:50.034Z"
   },
   {
    "duration": 1626,
    "start_time": "2021-07-01T14:40:50.419Z"
   },
   {
    "duration": 67,
    "start_time": "2021-07-01T14:40:52.048Z"
   },
   {
    "duration": 8,
    "start_time": "2021-07-01T14:40:52.118Z"
   },
   {
    "duration": 3258,
    "start_time": "2021-07-01T14:40:52.131Z"
   },
   {
    "duration": 37,
    "start_time": "2021-07-01T14:40:55.396Z"
   },
   {
    "duration": 642,
    "start_time": "2021-07-01T14:40:55.435Z"
   },
   {
    "duration": 467,
    "start_time": "2021-07-01T14:40:56.084Z"
   },
   {
    "duration": 80,
    "start_time": "2021-07-01T14:40:56.554Z"
   },
   {
    "duration": 1527,
    "start_time": "2021-07-01T14:40:56.637Z"
   },
   {
    "duration": 60,
    "start_time": "2021-07-01T14:40:58.167Z"
   },
   {
    "duration": 54,
    "start_time": "2021-07-01T14:40:58.229Z"
   },
   {
    "duration": 504,
    "start_time": "2021-07-01T14:40:58.286Z"
   },
   {
    "duration": 32,
    "start_time": "2021-07-01T14:40:58.794Z"
   },
   {
    "duration": 75,
    "start_time": "2021-07-01T14:40:58.828Z"
   },
   {
    "duration": 397,
    "start_time": "2021-07-01T14:40:58.906Z"
   },
   {
    "duration": 277,
    "start_time": "2021-07-01T14:40:59.306Z"
   },
   {
    "duration": 7,
    "start_time": "2021-07-01T14:40:59.586Z"
   },
   {
    "duration": 437,
    "start_time": "2021-07-01T14:40:59.596Z"
   },
   {
    "duration": 79,
    "start_time": "2021-07-01T14:41:00.037Z"
   },
   {
    "duration": 17,
    "start_time": "2021-07-01T18:25:52.819Z"
   },
   {
    "duration": 71,
    "start_time": "2021-07-01T18:27:13.699Z"
   },
   {
    "duration": 6,
    "start_time": "2021-07-01T18:32:47.534Z"
   },
   {
    "duration": 137,
    "start_time": "2021-07-01T18:33:41.615Z"
   },
   {
    "duration": 5,
    "start_time": "2021-07-01T18:42:06.316Z"
   },
   {
    "duration": 6,
    "start_time": "2021-07-01T18:42:16.216Z"
   },
   {
    "duration": 164,
    "start_time": "2021-07-01T18:51:48.255Z"
   },
   {
    "duration": 6,
    "start_time": "2021-07-01T18:52:07.322Z"
   },
   {
    "duration": 106,
    "start_time": "2021-07-01T18:53:19.216Z"
   },
   {
    "duration": 38,
    "start_time": "2021-07-01T19:06:32.174Z"
   },
   {
    "duration": 166,
    "start_time": "2021-07-01T19:07:04.746Z"
   },
   {
    "duration": 144,
    "start_time": "2021-07-01T19:10:10.028Z"
   },
   {
    "duration": 6,
    "start_time": "2021-07-01T19:14:44.523Z"
   },
   {
    "duration": 436,
    "start_time": "2021-07-01T21:05:46.343Z"
   },
   {
    "duration": 249,
    "start_time": "2021-07-01T21:05:55.791Z"
   },
   {
    "duration": 277,
    "start_time": "2021-07-01T21:20:06.253Z"
   },
   {
    "duration": 389,
    "start_time": "2021-07-01T21:20:50.512Z"
   },
   {
    "duration": 607,
    "start_time": "2021-07-01T21:21:47.627Z"
   },
   {
    "duration": 501,
    "start_time": "2021-07-01T21:22:45.019Z"
   },
   {
    "duration": 770,
    "start_time": "2021-07-01T21:23:23.532Z"
   },
   {
    "duration": 766,
    "start_time": "2021-07-01T21:24:17.600Z"
   },
   {
    "duration": 489,
    "start_time": "2021-07-01T21:24:30.355Z"
   },
   {
    "duration": 84,
    "start_time": "2021-07-01T21:39:17.561Z"
   },
   {
    "duration": 7,
    "start_time": "2021-07-01T21:39:29.083Z"
   },
   {
    "duration": 1168,
    "start_time": "2021-07-01T21:40:59.791Z"
   },
   {
    "duration": 435,
    "start_time": "2021-07-01T21:41:18.495Z"
   },
   {
    "duration": 419,
    "start_time": "2021-07-01T21:42:04.872Z"
   },
   {
    "duration": 571,
    "start_time": "2021-07-01T21:42:38.014Z"
   },
   {
    "duration": 6,
    "start_time": "2021-07-01T21:42:54.353Z"
   },
   {
    "duration": 1325,
    "start_time": "2021-07-01T21:42:54.361Z"
   },
   {
    "duration": 44,
    "start_time": "2021-07-01T21:42:55.691Z"
   },
   {
    "duration": 345,
    "start_time": "2021-07-01T21:42:55.738Z"
   },
   {
    "duration": 1796,
    "start_time": "2021-07-01T21:42:56.087Z"
   },
   {
    "duration": 52,
    "start_time": "2021-07-01T21:42:57.886Z"
   },
   {
    "duration": 79,
    "start_time": "2021-07-01T21:42:57.941Z"
   },
   {
    "duration": 6,
    "start_time": "2021-07-01T21:42:58.026Z"
   },
   {
    "duration": 3192,
    "start_time": "2021-07-01T21:42:58.035Z"
   },
   {
    "duration": 63,
    "start_time": "2021-07-01T21:43:01.230Z"
   },
   {
    "duration": 697,
    "start_time": "2021-07-01T21:43:01.297Z"
   },
   {
    "duration": 387,
    "start_time": "2021-07-01T21:43:01.998Z"
   },
   {
    "duration": 62,
    "start_time": "2021-07-01T21:43:02.389Z"
   },
   {
    "duration": 1679,
    "start_time": "2021-07-01T21:43:02.453Z"
   },
   {
    "duration": 62,
    "start_time": "2021-07-01T21:43:04.135Z"
   },
   {
    "duration": 35,
    "start_time": "2021-07-01T21:43:04.200Z"
   },
   {
    "duration": 545,
    "start_time": "2021-07-01T21:43:04.238Z"
   },
   {
    "duration": 35,
    "start_time": "2021-07-01T21:43:04.787Z"
   },
   {
    "duration": 76,
    "start_time": "2021-07-01T21:43:04.825Z"
   },
   {
    "duration": 424,
    "start_time": "2021-07-01T21:43:04.904Z"
   },
   {
    "duration": 271,
    "start_time": "2021-07-01T21:43:05.331Z"
   },
   {
    "duration": 6,
    "start_time": "2021-07-01T21:43:05.605Z"
   },
   {
    "duration": 446,
    "start_time": "2021-07-01T21:43:05.616Z"
   },
   {
    "duration": 59,
    "start_time": "2021-07-01T21:43:06.065Z"
   },
   {
    "duration": 239,
    "start_time": "2021-07-01T21:43:06.127Z"
   },
   {
    "duration": 541,
    "start_time": "2021-07-01T21:43:06.369Z"
   },
   {
    "duration": 642,
    "start_time": "2021-07-01T21:43:06.913Z"
   },
   {
    "duration": 175,
    "start_time": "2021-07-01T21:43:07.383Z"
   },
   {
    "duration": 172,
    "start_time": "2021-07-01T21:43:07.387Z"
   },
   {
    "duration": 171,
    "start_time": "2021-07-01T21:43:07.390Z"
   },
   {
    "duration": 774,
    "start_time": "2021-07-01T21:44:22.741Z"
   },
   {
    "duration": 510,
    "start_time": "2021-07-01T21:44:45.801Z"
   },
   {
    "duration": 1901,
    "start_time": "2021-07-01T21:45:01.515Z"
   },
   {
    "duration": 1367,
    "start_time": "2021-07-01T21:45:03.419Z"
   },
   {
    "duration": 45,
    "start_time": "2021-07-01T21:45:04.790Z"
   },
   {
    "duration": 384,
    "start_time": "2021-07-01T21:45:04.838Z"
   },
   {
    "duration": 2022,
    "start_time": "2021-07-01T21:45:05.224Z"
   },
   {
    "duration": 77,
    "start_time": "2021-07-01T21:45:07.249Z"
   },
   {
    "duration": 70,
    "start_time": "2021-07-01T21:45:07.329Z"
   },
   {
    "duration": 7,
    "start_time": "2021-07-01T21:45:07.410Z"
   },
   {
    "duration": 3193,
    "start_time": "2021-07-01T21:45:07.420Z"
   },
   {
    "duration": 69,
    "start_time": "2021-07-01T21:45:10.616Z"
   },
   {
    "duration": 688,
    "start_time": "2021-07-01T21:45:10.689Z"
   },
   {
    "duration": 402,
    "start_time": "2021-07-01T21:45:11.383Z"
   },
   {
    "duration": 63,
    "start_time": "2021-07-01T21:45:11.788Z"
   },
   {
    "duration": 1771,
    "start_time": "2021-07-01T21:45:11.854Z"
   },
   {
    "duration": 65,
    "start_time": "2021-07-01T21:45:13.628Z"
   },
   {
    "duration": 37,
    "start_time": "2021-07-01T21:45:13.697Z"
   },
   {
    "duration": 462,
    "start_time": "2021-07-01T21:45:13.736Z"
   },
   {
    "duration": 33,
    "start_time": "2021-07-01T21:45:14.201Z"
   },
   {
    "duration": 86,
    "start_time": "2021-07-01T21:45:14.237Z"
   },
   {
    "duration": 539,
    "start_time": "2021-07-01T21:45:14.326Z"
   },
   {
    "duration": 279,
    "start_time": "2021-07-01T21:45:14.868Z"
   },
   {
    "duration": 5,
    "start_time": "2021-07-01T21:45:15.149Z"
   },
   {
    "duration": 436,
    "start_time": "2021-07-01T21:45:15.158Z"
   },
   {
    "duration": 50,
    "start_time": "2021-07-01T21:45:15.597Z"
   },
   {
    "duration": 254,
    "start_time": "2021-07-01T21:45:15.649Z"
   },
   {
    "duration": 523,
    "start_time": "2021-07-01T21:45:20.757Z"
   },
   {
    "duration": 703,
    "start_time": "2021-07-01T21:45:29.914Z"
   },
   {
    "duration": 682,
    "start_time": "2021-07-01T21:46:59.576Z"
   },
   {
    "duration": 649,
    "start_time": "2021-07-01T21:47:58.661Z"
   },
   {
    "duration": 636,
    "start_time": "2021-07-01T21:52:54.823Z"
   },
   {
    "duration": 771,
    "start_time": "2021-07-01T21:53:57.804Z"
   },
   {
    "duration": 11,
    "start_time": "2021-07-01T21:54:06.387Z"
   },
   {
    "duration": 1268,
    "start_time": "2021-07-01T21:54:06.400Z"
   },
   {
    "duration": 46,
    "start_time": "2021-07-01T21:54:07.671Z"
   },
   {
    "duration": 352,
    "start_time": "2021-07-01T21:54:07.720Z"
   },
   {
    "duration": 1693,
    "start_time": "2021-07-01T21:54:08.074Z"
   },
   {
    "duration": 69,
    "start_time": "2021-07-01T21:54:09.769Z"
   },
   {
    "duration": 72,
    "start_time": "2021-07-01T21:54:09.841Z"
   },
   {
    "duration": 5,
    "start_time": "2021-07-01T21:54:09.917Z"
   },
   {
    "duration": 3413,
    "start_time": "2021-07-01T21:54:09.925Z"
   },
   {
    "duration": 56,
    "start_time": "2021-07-01T21:54:13.341Z"
   },
   {
    "duration": 648,
    "start_time": "2021-07-01T21:54:13.399Z"
   },
   {
    "duration": 377,
    "start_time": "2021-07-01T21:54:14.050Z"
   },
   {
    "duration": 76,
    "start_time": "2021-07-01T21:54:14.429Z"
   },
   {
    "duration": 1550,
    "start_time": "2021-07-01T21:54:14.507Z"
   },
   {
    "duration": 58,
    "start_time": "2021-07-01T21:54:16.059Z"
   },
   {
    "duration": 33,
    "start_time": "2021-07-01T21:54:16.119Z"
   },
   {
    "duration": 515,
    "start_time": "2021-07-01T21:54:16.154Z"
   },
   {
    "duration": 44,
    "start_time": "2021-07-01T21:54:16.671Z"
   },
   {
    "duration": 73,
    "start_time": "2021-07-01T21:54:16.718Z"
   },
   {
    "duration": 402,
    "start_time": "2021-07-01T21:54:16.794Z"
   },
   {
    "duration": 259,
    "start_time": "2021-07-01T21:54:17.199Z"
   },
   {
    "duration": 5,
    "start_time": "2021-07-01T21:54:17.460Z"
   },
   {
    "duration": 438,
    "start_time": "2021-07-01T21:54:17.469Z"
   },
   {
    "duration": 49,
    "start_time": "2021-07-01T21:54:17.910Z"
   },
   {
    "duration": 254,
    "start_time": "2021-07-01T21:54:17.961Z"
   },
   {
    "duration": 765,
    "start_time": "2021-07-01T21:54:22.940Z"
   },
   {
    "duration": 261,
    "start_time": "2021-07-01T21:55:05.068Z"
   },
   {
    "duration": 755,
    "start_time": "2021-07-01T21:55:17.617Z"
   },
   {
    "duration": 299,
    "start_time": "2021-07-01T21:57:33.749Z"
   },
   {
    "duration": 311,
    "start_time": "2021-07-01T21:58:12.877Z"
   },
   {
    "duration": 1523,
    "start_time": "2021-07-02T09:25:32.389Z"
   },
   {
    "duration": 1251,
    "start_time": "2021-07-02T09:25:33.915Z"
   },
   {
    "duration": 40,
    "start_time": "2021-07-02T09:25:35.169Z"
   },
   {
    "duration": 351,
    "start_time": "2021-07-02T09:25:35.212Z"
   },
   {
    "duration": 1470,
    "start_time": "2021-07-02T09:25:35.566Z"
   },
   {
    "duration": 59,
    "start_time": "2021-07-02T09:25:37.038Z"
   },
   {
    "duration": 71,
    "start_time": "2021-07-02T09:25:37.100Z"
   },
   {
    "duration": 6,
    "start_time": "2021-07-02T09:25:37.174Z"
   },
   {
    "duration": 2938,
    "start_time": "2021-07-02T09:25:37.184Z"
   },
   {
    "duration": 46,
    "start_time": "2021-07-02T09:25:40.125Z"
   },
   {
    "duration": 646,
    "start_time": "2021-07-02T09:25:40.174Z"
   },
   {
    "duration": 365,
    "start_time": "2021-07-02T09:25:40.823Z"
   },
   {
    "duration": 75,
    "start_time": "2021-07-02T09:25:41.191Z"
   },
   {
    "duration": 1565,
    "start_time": "2021-07-02T09:25:41.269Z"
   },
   {
    "duration": 54,
    "start_time": "2021-07-02T09:25:42.837Z"
   },
   {
    "duration": 37,
    "start_time": "2021-07-02T09:25:42.894Z"
   },
   {
    "duration": 410,
    "start_time": "2021-07-02T09:25:42.934Z"
   },
   {
    "duration": 29,
    "start_time": "2021-07-02T09:25:43.355Z"
   },
   {
    "duration": 46,
    "start_time": "2021-07-02T09:25:43.386Z"
   },
   {
    "duration": 389,
    "start_time": "2021-07-02T09:25:43.455Z"
   },
   {
    "duration": 255,
    "start_time": "2021-07-02T09:25:43.847Z"
   },
   {
    "duration": 5,
    "start_time": "2021-07-02T09:25:44.105Z"
   },
   {
    "duration": 394,
    "start_time": "2021-07-02T09:25:44.114Z"
   },
   {
    "duration": 69,
    "start_time": "2021-07-02T09:25:44.511Z"
   },
   {
    "duration": 229,
    "start_time": "2021-07-02T09:25:44.583Z"
   },
   {
    "duration": 442,
    "start_time": "2021-07-02T09:25:44.814Z"
   },
   {
    "duration": 61,
    "start_time": "2021-07-02T09:25:45.198Z"
   },
   {
    "duration": 32,
    "start_time": "2021-07-02T09:25:45.228Z"
   },
   {
    "duration": 24,
    "start_time": "2021-07-02T09:25:45.237Z"
   },
   {
    "duration": 21,
    "start_time": "2021-07-02T09:25:45.242Z"
   },
   {
    "duration": 918,
    "start_time": "2021-07-02T09:34:17.558Z"
   },
   {
    "duration": 448,
    "start_time": "2021-07-02T10:54:58.932Z"
   },
   {
    "duration": 673,
    "start_time": "2021-07-02T10:55:59.453Z"
   },
   {
    "duration": 418,
    "start_time": "2021-07-02T10:56:10.156Z"
   },
   {
    "duration": 1033,
    "start_time": "2021-07-02T10:56:35.711Z"
   },
   {
    "duration": 912,
    "start_time": "2021-07-02T10:57:21.547Z"
   },
   {
    "duration": 7,
    "start_time": "2021-07-02T10:57:46.536Z"
   },
   {
    "duration": 204,
    "start_time": "2021-07-02T10:59:40.804Z"
   },
   {
    "duration": 217,
    "start_time": "2021-07-02T11:00:12.927Z"
   },
   {
    "duration": 128,
    "start_time": "2021-07-02T11:00:20.471Z"
   },
   {
    "duration": 443,
    "start_time": "2021-07-02T11:00:43.086Z"
   },
   {
    "duration": 966,
    "start_time": "2021-07-02T11:01:21.659Z"
   },
   {
    "duration": 6,
    "start_time": "2021-07-02T11:05:58.758Z"
   },
   {
    "duration": 6,
    "start_time": "2021-07-02T11:15:09.472Z"
   },
   {
    "duration": 1891,
    "start_time": "2021-07-02T11:20:12.406Z"
   },
   {
    "duration": 423,
    "start_time": "2021-07-02T11:20:38.452Z"
   },
   {
    "duration": 881,
    "start_time": "2021-07-02T11:21:21.495Z"
   },
   {
    "duration": 529,
    "start_time": "2021-07-02T11:21:53.696Z"
   },
   {
    "duration": 6,
    "start_time": "2021-07-02T11:22:30.356Z"
   },
   {
    "duration": 630,
    "start_time": "2021-07-02T11:22:32.682Z"
   },
   {
    "duration": 6,
    "start_time": "2021-07-02T11:23:21.068Z"
   },
   {
    "duration": 1222,
    "start_time": "2021-07-02T11:23:21.076Z"
   },
   {
    "duration": 37,
    "start_time": "2021-07-02T11:23:22.302Z"
   },
   {
    "duration": 320,
    "start_time": "2021-07-02T11:23:22.357Z"
   },
   {
    "duration": 1507,
    "start_time": "2021-07-02T11:23:22.679Z"
   },
   {
    "duration": 50,
    "start_time": "2021-07-02T11:23:24.188Z"
   },
   {
    "duration": 60,
    "start_time": "2021-07-02T11:23:24.240Z"
   },
   {
    "duration": 9,
    "start_time": "2021-07-02T11:23:24.302Z"
   },
   {
    "duration": 2995,
    "start_time": "2021-07-02T11:23:24.315Z"
   },
   {
    "duration": 55,
    "start_time": "2021-07-02T11:23:27.314Z"
   },
   {
    "duration": 644,
    "start_time": "2021-07-02T11:23:27.372Z"
   },
   {
    "duration": 362,
    "start_time": "2021-07-02T11:23:28.019Z"
   },
   {
    "duration": 80,
    "start_time": "2021-07-02T11:23:28.384Z"
   },
   {
    "duration": 1568,
    "start_time": "2021-07-02T11:23:28.468Z"
   },
   {
    "duration": 57,
    "start_time": "2021-07-02T11:23:30.039Z"
   },
   {
    "duration": 57,
    "start_time": "2021-07-02T11:23:30.099Z"
   },
   {
    "duration": 401,
    "start_time": "2021-07-02T11:23:30.158Z"
   },
   {
    "duration": 32,
    "start_time": "2021-07-02T11:23:30.562Z"
   },
   {
    "duration": 75,
    "start_time": "2021-07-02T11:23:30.597Z"
   },
   {
    "duration": 395,
    "start_time": "2021-07-02T11:23:30.675Z"
   },
   {
    "duration": 243,
    "start_time": "2021-07-02T11:23:31.073Z"
   },
   {
    "duration": 5,
    "start_time": "2021-07-02T11:23:31.318Z"
   },
   {
    "duration": 404,
    "start_time": "2021-07-02T11:23:31.326Z"
   },
   {
    "duration": 62,
    "start_time": "2021-07-02T11:23:31.733Z"
   },
   {
    "duration": 222,
    "start_time": "2021-07-02T11:23:31.797Z"
   },
   {
    "duration": 457,
    "start_time": "2021-07-02T11:23:32.022Z"
   },
   {
    "duration": 979,
    "start_time": "2021-07-02T11:23:32.484Z"
   },
   {
    "duration": 6,
    "start_time": "2021-07-02T11:23:38.510Z"
   },
   {
    "duration": 6,
    "start_time": "2021-07-02T11:23:42.048Z"
   },
   {
    "duration": 537,
    "start_time": "2021-07-02T11:23:45.853Z"
   },
   {
    "duration": 968,
    "start_time": "2021-07-02T11:25:38.239Z"
   },
   {
    "duration": 8,
    "start_time": "2021-07-02T11:25:42.130Z"
   },
   {
    "duration": 953410,
    "start_time": "2021-07-02T11:26:13.830Z"
   },
   {
    "duration": 5,
    "start_time": "2021-07-02T11:42:33.172Z"
   },
   {
    "duration": 1252,
    "start_time": "2021-07-02T11:42:33.180Z"
   },
   {
    "duration": 46,
    "start_time": "2021-07-02T11:42:34.435Z"
   },
   {
    "duration": 343,
    "start_time": "2021-07-02T11:42:34.483Z"
   },
   {
    "duration": 1551,
    "start_time": "2021-07-02T11:42:34.829Z"
   },
   {
    "duration": 58,
    "start_time": "2021-07-02T11:42:36.383Z"
   },
   {
    "duration": 50,
    "start_time": "2021-07-02T11:42:36.457Z"
   },
   {
    "duration": 6,
    "start_time": "2021-07-02T11:42:36.512Z"
   },
   {
    "duration": 3013,
    "start_time": "2021-07-02T11:42:36.556Z"
   },
   {
    "duration": 34,
    "start_time": "2021-07-02T11:42:39.572Z"
   },
   {
    "duration": 671,
    "start_time": "2021-07-02T11:42:39.608Z"
   },
   {
    "duration": 497,
    "start_time": "2021-07-02T11:42:40.283Z"
   },
   {
    "duration": 76,
    "start_time": "2021-07-02T11:42:40.783Z"
   },
   {
    "duration": 1460,
    "start_time": "2021-07-02T11:42:40.862Z"
   },
   {
    "duration": 56,
    "start_time": "2021-07-02T11:42:42.324Z"
   },
   {
    "duration": 38,
    "start_time": "2021-07-02T11:42:42.382Z"
   },
   {
    "duration": 482,
    "start_time": "2021-07-02T11:42:42.422Z"
   },
   {
    "duration": 28,
    "start_time": "2021-07-02T11:42:42.907Z"
   },
   {
    "duration": 46,
    "start_time": "2021-07-02T11:42:42.955Z"
   },
   {
    "duration": 405,
    "start_time": "2021-07-02T11:42:43.003Z"
   },
   {
    "duration": 250,
    "start_time": "2021-07-02T11:42:43.411Z"
   },
   {
    "duration": 4,
    "start_time": "2021-07-02T11:42:43.663Z"
   },
   {
    "duration": 402,
    "start_time": "2021-07-02T11:42:43.671Z"
   },
   {
    "duration": 46,
    "start_time": "2021-07-02T11:42:44.075Z"
   },
   {
    "duration": 241,
    "start_time": "2021-07-02T11:42:44.124Z"
   },
   {
    "duration": 448,
    "start_time": "2021-07-02T11:42:44.367Z"
   },
   {
    "duration": 976,
    "start_time": "2021-07-02T11:42:44.817Z"
   },
   {
    "duration": 6,
    "start_time": "2021-07-02T11:42:45.795Z"
   },
   {
    "duration": 6,
    "start_time": "2021-07-02T11:42:50.728Z"
   },
   {
    "duration": 111057,
    "start_time": "2021-07-02T11:42:53.839Z"
   },
   {
    "duration": 7,
    "start_time": "2021-07-02T11:46:46.859Z"
   },
   {
    "duration": 33413,
    "start_time": "2021-07-02T11:49:19.856Z"
   },
   {
    "duration": 6,
    "start_time": "2021-07-02T11:51:22.784Z"
   },
   {
    "duration": 9,
    "start_time": "2021-07-02T11:51:26.410Z"
   },
   {
    "duration": 34085,
    "start_time": "2021-07-02T11:51:30.977Z"
   },
   {
    "duration": 2472149,
    "start_time": "2021-07-02T11:53:03.116Z"
   },
   {
    "duration": 6,
    "start_time": "2021-07-02T12:34:22.481Z"
   },
   {
    "duration": 652225,
    "start_time": "2021-07-02T12:34:37.985Z"
   },
   {
    "duration": 7,
    "start_time": "2021-07-02T12:59:09.046Z"
   },
   {
    "duration": 1869,
    "start_time": "2021-07-02T12:59:09.059Z"
   },
   {
    "duration": 74,
    "start_time": "2021-07-02T12:59:10.931Z"
   },
   {
    "duration": 508,
    "start_time": "2021-07-02T12:59:11.009Z"
   },
   {
    "duration": 1981,
    "start_time": "2021-07-02T12:59:11.520Z"
   },
   {
    "duration": 77,
    "start_time": "2021-07-02T12:59:13.504Z"
   },
   {
    "duration": 49,
    "start_time": "2021-07-02T12:59:13.585Z"
   },
   {
    "duration": 34,
    "start_time": "2021-07-02T12:59:13.638Z"
   },
   {
    "duration": 3629,
    "start_time": "2021-07-02T12:59:13.677Z"
   },
   {
    "duration": 55,
    "start_time": "2021-07-02T12:59:17.309Z"
   },
   {
    "duration": 975,
    "start_time": "2021-07-02T12:59:17.367Z"
   },
   {
    "duration": 437,
    "start_time": "2021-07-02T12:59:18.345Z"
   },
   {
    "duration": 82,
    "start_time": "2021-07-02T12:59:18.786Z"
   },
   {
    "duration": 1801,
    "start_time": "2021-07-02T12:59:18.871Z"
   },
   {
    "duration": 51,
    "start_time": "2021-07-02T12:59:20.675Z"
   },
   {
    "duration": 78,
    "start_time": "2021-07-02T12:59:20.728Z"
   },
   {
    "duration": 591,
    "start_time": "2021-07-02T12:59:20.809Z"
   },
   {
    "duration": 30,
    "start_time": "2021-07-02T12:59:21.403Z"
   },
   {
    "duration": 87,
    "start_time": "2021-07-02T12:59:21.436Z"
   },
   {
    "duration": 478,
    "start_time": "2021-07-02T12:59:21.526Z"
   },
   {
    "duration": 286,
    "start_time": "2021-07-02T12:59:22.007Z"
   },
   {
    "duration": 6,
    "start_time": "2021-07-02T12:59:22.296Z"
   },
   {
    "duration": 475,
    "start_time": "2021-07-02T12:59:22.309Z"
   },
   {
    "duration": 48,
    "start_time": "2021-07-02T12:59:22.787Z"
   },
   {
    "duration": 282,
    "start_time": "2021-07-02T12:59:22.837Z"
   },
   {
    "duration": 561,
    "start_time": "2021-07-02T12:59:23.122Z"
   },
   {
    "duration": 1117,
    "start_time": "2021-07-02T12:59:23.686Z"
   },
   {
    "duration": 6,
    "start_time": "2021-07-02T12:59:24.805Z"
   },
   {
    "duration": 15,
    "start_time": "2021-07-02T12:59:24.813Z"
   },
   {
    "duration": 14,
    "start_time": "2021-07-02T12:59:24.831Z"
   },
   {
    "duration": 21305,
    "start_time": "2021-07-02T12:59:24.864Z"
   },
   {
    "duration": 102281,
    "start_time": "2021-07-02T12:59:46.176Z"
   },
   {
    "duration": 299623,
    "start_time": "2021-07-02T13:01:28.460Z"
   },
   {
    "duration": 145,
    "start_time": "2021-07-02T13:06:28.085Z"
   },
   {
    "duration": 119,
    "start_time": "2021-07-02T13:06:28.114Z"
   },
   {
    "duration": 116,
    "start_time": "2021-07-02T13:06:28.118Z"
   },
   {
    "duration": -41,
    "start_time": "2021-07-02T13:06:28.277Z"
   },
   {
    "duration": -46,
    "start_time": "2021-07-02T13:06:28.283Z"
   },
   {
    "duration": 196331,
    "start_time": "2021-07-02T13:06:49.442Z"
   },
   {
    "duration": 92,
    "start_time": "2021-07-02T13:10:05.777Z"
   },
   {
    "duration": 455,
    "start_time": "2021-07-02T13:10:05.417Z"
   },
   {
    "duration": 452,
    "start_time": "2021-07-02T13:10:05.421Z"
   },
   {
    "duration": 3828572,
    "start_time": "2021-07-02T13:16:20.619Z"
   },
   {
    "duration": 7,
    "start_time": "2021-07-02T14:51:09.256Z"
   },
   {
    "duration": 499,
    "start_time": "2021-07-02T14:51:19.984Z"
   },
   {
    "duration": 7,
    "start_time": "2021-07-02T14:51:44.095Z"
   },
   {
    "duration": 570,
    "start_time": "2021-07-02T14:51:49.432Z"
   },
   {
    "duration": 7,
    "start_time": "2021-07-02T14:53:07.036Z"
   },
   {
    "duration": 567,
    "start_time": "2021-07-02T14:53:12.715Z"
   },
   {
    "duration": 7,
    "start_time": "2021-07-02T14:54:45.520Z"
   },
   {
    "duration": 538,
    "start_time": "2021-07-02T14:54:54.144Z"
   },
   {
    "duration": 6,
    "start_time": "2021-07-02T14:57:07.865Z"
   },
   {
    "duration": 595,
    "start_time": "2021-07-02T14:57:14.783Z"
   },
   {
    "duration": 636,
    "start_time": "2021-07-02T15:29:12.563Z"
   },
   {
    "duration": 6,
    "start_time": "2021-07-02T15:32:13.270Z"
   },
   {
    "duration": 77718,
    "start_time": "2021-07-02T15:34:04.652Z"
   },
   {
    "duration": 98,
    "start_time": "2021-07-02T16:13:07.690Z"
   },
   {
    "duration": 99113,
    "start_time": "2021-07-02T16:13:20.361Z"
   },
   {
    "duration": 126368,
    "start_time": "2021-07-02T16:39:42.298Z"
   },
   {
    "duration": 7,
    "start_time": "2021-07-02T17:04:26.509Z"
   },
   {
    "duration": 7,
    "start_time": "2021-07-02T17:05:04.922Z"
   },
   {
    "duration": 7,
    "start_time": "2021-07-02T17:05:24.681Z"
   },
   {
    "duration": 6,
    "start_time": "2021-07-02T17:05:31.890Z"
   },
   {
    "duration": 585,
    "start_time": "2021-07-02T17:05:37.871Z"
   },
   {
    "duration": 249,
    "start_time": "2021-07-02T17:06:07.593Z"
   },
   {
    "duration": 250,
    "start_time": "2021-07-02T17:06:15.435Z"
   },
   {
    "duration": 5,
    "start_time": "2021-07-02T17:06:50.317Z"
   },
   {
    "duration": 7,
    "start_time": "2021-07-02T17:06:59.474Z"
   },
   {
    "duration": 5,
    "start_time": "2021-07-02T17:07:02.814Z"
   },
   {
    "duration": 6,
    "start_time": "2021-07-02T17:07:43.295Z"
   },
   {
    "duration": 19287,
    "start_time": "2021-07-02T17:07:48.744Z"
   },
   {
    "duration": 10718,
    "start_time": "2021-07-02T17:08:40.297Z"
   },
   {
    "duration": 94489,
    "start_time": "2021-07-02T17:08:52.959Z"
   },
   {
    "duration": 282289,
    "start_time": "2021-07-02T17:10:27.451Z"
   },
   {
    "duration": 96820,
    "start_time": "2021-07-02T17:15:09.744Z"
   },
   {
    "duration": 2616301,
    "start_time": "2021-07-02T17:16:46.566Z"
   },
   {
    "duration": 1890043,
    "start_time": "2021-07-02T18:00:22.870Z"
   },
   {
    "duration": 7,
    "start_time": "2021-07-02T19:20:46.567Z"
   },
   {
    "duration": 21210,
    "start_time": "2021-07-02T19:20:52.284Z"
   },
   {
    "duration": 6,
    "start_time": "2021-07-02T19:24:30.529Z"
   },
   {
    "duration": 9,
    "start_time": "2021-07-02T19:24:37.963Z"
   },
   {
    "duration": 19760,
    "start_time": "2021-07-02T19:24:41.738Z"
   },
   {
    "duration": 1984,
    "start_time": "2021-07-02T19:42:56.451Z"
   },
   {
    "duration": 1785,
    "start_time": "2021-07-02T19:42:58.439Z"
   },
   {
    "duration": 64,
    "start_time": "2021-07-02T19:43:00.229Z"
   },
   {
    "duration": 530,
    "start_time": "2021-07-02T19:43:00.297Z"
   },
   {
    "duration": 1573,
    "start_time": "2021-07-02T19:43:00.830Z"
   },
   {
    "duration": 72,
    "start_time": "2021-07-02T19:43:02.405Z"
   },
   {
    "duration": 59,
    "start_time": "2021-07-02T19:43:02.480Z"
   },
   {
    "duration": 14,
    "start_time": "2021-07-02T19:43:02.555Z"
   },
   {
    "duration": 3125,
    "start_time": "2021-07-02T19:43:02.573Z"
   },
   {
    "duration": 55,
    "start_time": "2021-07-02T19:43:05.701Z"
   },
   {
    "duration": 644,
    "start_time": "2021-07-02T19:43:05.758Z"
   },
   {
    "duration": 363,
    "start_time": "2021-07-02T19:43:06.404Z"
   },
   {
    "duration": 59,
    "start_time": "2021-07-02T19:43:06.769Z"
   },
   {
    "duration": 1615,
    "start_time": "2021-07-02T19:43:06.831Z"
   },
   {
    "duration": 61,
    "start_time": "2021-07-02T19:43:08.449Z"
   },
   {
    "duration": 60,
    "start_time": "2021-07-02T19:43:08.513Z"
   },
   {
    "duration": 415,
    "start_time": "2021-07-02T19:43:08.576Z"
   },
   {
    "duration": 37,
    "start_time": "2021-07-02T19:43:08.994Z"
   },
   {
    "duration": 89,
    "start_time": "2021-07-02T19:43:09.035Z"
   },
   {
    "duration": 647,
    "start_time": "2021-07-02T19:43:09.127Z"
   },
   {
    "duration": 267,
    "start_time": "2021-07-02T19:43:09.777Z"
   },
   {
    "duration": 10,
    "start_time": "2021-07-02T19:43:10.047Z"
   },
   {
    "duration": 449,
    "start_time": "2021-07-02T19:43:10.060Z"
   },
   {
    "duration": 71,
    "start_time": "2021-07-02T19:43:10.512Z"
   },
   {
    "duration": 291,
    "start_time": "2021-07-02T19:43:10.585Z"
   },
   {
    "duration": 477,
    "start_time": "2021-07-02T19:43:10.878Z"
   },
   {
    "duration": 996,
    "start_time": "2021-07-02T19:43:11.360Z"
   },
   {
    "duration": 6,
    "start_time": "2021-07-02T19:43:12.359Z"
   },
   {
    "duration": 8,
    "start_time": "2021-07-02T19:43:12.368Z"
   },
   {
    "duration": 11,
    "start_time": "2021-07-02T19:43:12.379Z"
   },
   {
    "duration": 17,
    "start_time": "2021-07-02T19:43:12.393Z"
   },
   {
    "duration": -136,
    "start_time": "2021-07-02T21:11:51.534Z"
   },
   {
    "duration": 19144,
    "start_time": "2021-07-02T21:12:15.876Z"
   },
   {
    "duration": 94845,
    "start_time": "2021-07-02T21:17:32.645Z"
   },
   {
    "duration": 116365,
    "start_time": "2021-07-02T21:29:36.000Z"
   },
   {
    "duration": -103,
    "start_time": "2021-07-02T22:50:04.488Z"
   },
   {
    "duration": -104,
    "start_time": "2021-07-02T22:50:04.493Z"
   },
   {
    "duration": -104,
    "start_time": "2021-07-02T22:50:04.497Z"
   },
   {
    "duration": -103,
    "start_time": "2021-07-02T22:50:04.499Z"
   },
   {
    "duration": -102,
    "start_time": "2021-07-02T22:50:04.502Z"
   },
   {
    "duration": -49,
    "start_time": "2021-07-02T22:50:04.505Z"
   },
   {
    "duration": -48,
    "start_time": "2021-07-02T22:50:04.508Z"
   },
   {
    "duration": -47,
    "start_time": "2021-07-02T22:50:04.511Z"
   },
   {
    "duration": -46,
    "start_time": "2021-07-02T22:50:04.514Z"
   },
   {
    "duration": -46,
    "start_time": "2021-07-02T22:50:04.517Z"
   },
   {
    "duration": -45,
    "start_time": "2021-07-02T22:50:04.520Z"
   },
   {
    "duration": -45,
    "start_time": "2021-07-02T22:50:04.523Z"
   },
   {
    "duration": -45,
    "start_time": "2021-07-02T22:50:04.527Z"
   },
   {
    "duration": -46,
    "start_time": "2021-07-02T22:50:04.531Z"
   },
   {
    "duration": -47,
    "start_time": "2021-07-02T22:50:04.536Z"
   },
   {
    "duration": -14,
    "start_time": "2021-07-02T22:50:04.571Z"
   },
   {
    "duration": -13,
    "start_time": "2021-07-02T22:50:04.575Z"
   },
   {
    "duration": -13,
    "start_time": "2021-07-02T22:50:04.579Z"
   },
   {
    "duration": -13,
    "start_time": "2021-07-02T22:50:04.582Z"
   },
   {
    "duration": -13,
    "start_time": "2021-07-02T22:50:04.586Z"
   },
   {
    "duration": -12,
    "start_time": "2021-07-02T22:50:04.589Z"
   },
   {
    "duration": -12,
    "start_time": "2021-07-02T22:50:04.593Z"
   },
   {
    "duration": -11,
    "start_time": "2021-07-02T22:50:04.596Z"
   },
   {
    "duration": -11,
    "start_time": "2021-07-02T22:50:04.599Z"
   },
   {
    "duration": -65,
    "start_time": "2021-07-02T22:50:04.657Z"
   },
   {
    "duration": -3,
    "start_time": "2021-07-02T22:50:04.662Z"
   },
   {
    "duration": -6,
    "start_time": "2021-07-02T22:50:04.669Z"
   },
   {
    "duration": -8,
    "start_time": "2021-07-02T22:50:04.673Z"
   },
   {
    "duration": -10,
    "start_time": "2021-07-02T22:50:04.678Z"
   },
   {
    "duration": -13,
    "start_time": "2021-07-02T22:50:04.683Z"
   },
   {
    "duration": -14,
    "start_time": "2021-07-02T22:50:04.686Z"
   },
   {
    "duration": 6,
    "start_time": "2021-07-02T22:59:04.646Z"
   },
   {
    "duration": 1267,
    "start_time": "2021-07-02T22:59:04.654Z"
   },
   {
    "duration": 48,
    "start_time": "2021-07-02T22:59:05.924Z"
   },
   {
    "duration": 328,
    "start_time": "2021-07-02T22:59:05.974Z"
   },
   {
    "duration": 1485,
    "start_time": "2021-07-02T22:59:06.305Z"
   },
   {
    "duration": 67,
    "start_time": "2021-07-02T22:59:07.792Z"
   },
   {
    "duration": 51,
    "start_time": "2021-07-02T22:59:07.862Z"
   },
   {
    "duration": 6,
    "start_time": "2021-07-02T22:59:07.916Z"
   },
   {
    "duration": 2995,
    "start_time": "2021-07-02T22:59:07.924Z"
   },
   {
    "duration": 49,
    "start_time": "2021-07-02T22:59:10.922Z"
   },
   {
    "duration": 627,
    "start_time": "2021-07-02T22:59:10.973Z"
   },
   {
    "duration": 361,
    "start_time": "2021-07-02T22:59:11.602Z"
   },
   {
    "duration": 58,
    "start_time": "2021-07-02T22:59:11.966Z"
   },
   {
    "duration": 1577,
    "start_time": "2021-07-02T22:59:12.026Z"
   },
   {
    "duration": 59,
    "start_time": "2021-07-02T22:59:13.605Z"
   },
   {
    "duration": 35,
    "start_time": "2021-07-02T22:59:13.666Z"
   },
   {
    "duration": 514,
    "start_time": "2021-07-02T22:59:13.703Z"
   },
   {
    "duration": 42,
    "start_time": "2021-07-02T22:59:14.220Z"
   },
   {
    "duration": 45,
    "start_time": "2021-07-02T22:59:14.266Z"
   },
   {
    "duration": 406,
    "start_time": "2021-07-02T22:59:14.314Z"
   },
   {
    "duration": 242,
    "start_time": "2021-07-02T22:59:14.723Z"
   },
   {
    "duration": 4,
    "start_time": "2021-07-02T22:59:14.967Z"
   },
   {
    "duration": 404,
    "start_time": "2021-07-02T22:59:14.973Z"
   },
   {
    "duration": 52,
    "start_time": "2021-07-02T22:59:15.379Z"
   },
   {
    "duration": 250,
    "start_time": "2021-07-02T22:59:15.433Z"
   },
   {
    "duration": 418,
    "start_time": "2021-07-02T22:59:15.685Z"
   },
   {
    "duration": 967,
    "start_time": "2021-07-02T22:59:16.105Z"
   },
   {
    "duration": 7,
    "start_time": "2021-07-02T22:59:17.075Z"
   },
   {
    "duration": 18,
    "start_time": "2021-07-02T22:59:17.085Z"
   },
   {
    "duration": 20,
    "start_time": "2021-07-02T22:59:17.106Z"
   },
   {
    "duration": 28,
    "start_time": "2021-07-02T22:59:17.129Z"
   },
   {
    "duration": 18152,
    "start_time": "2021-07-02T22:59:17.160Z"
   },
   {
    "duration": 92948,
    "start_time": "2021-07-02T22:59:35.315Z"
   },
   {
    "duration": 97504,
    "start_time": "2021-07-02T23:01:08.265Z"
   },
   {
    "duration": 2109,
    "start_time": "2021-07-03T05:49:07.352Z"
   },
   {
    "duration": 1338,
    "start_time": "2021-07-03T05:49:09.464Z"
   },
   {
    "duration": 57,
    "start_time": "2021-07-03T05:49:10.806Z"
   },
   {
    "duration": 398,
    "start_time": "2021-07-03T05:49:10.866Z"
   },
   {
    "duration": 1568,
    "start_time": "2021-07-03T05:49:11.267Z"
   },
   {
    "duration": 76,
    "start_time": "2021-07-03T05:49:12.837Z"
   },
   {
    "duration": 65,
    "start_time": "2021-07-03T05:49:12.915Z"
   },
   {
    "duration": 8,
    "start_time": "2021-07-03T05:49:12.984Z"
   },
   {
    "duration": 3118,
    "start_time": "2021-07-03T05:49:12.995Z"
   },
   {
    "duration": 54,
    "start_time": "2021-07-03T05:49:16.115Z"
   },
   {
    "duration": 661,
    "start_time": "2021-07-03T05:49:16.171Z"
   },
   {
    "duration": 364,
    "start_time": "2021-07-03T05:49:16.834Z"
   },
   {
    "duration": 88,
    "start_time": "2021-07-03T05:49:17.200Z"
   },
   {
    "duration": 1620,
    "start_time": "2021-07-03T05:49:17.291Z"
   },
   {
    "duration": 58,
    "start_time": "2021-07-03T05:49:18.913Z"
   },
   {
    "duration": 34,
    "start_time": "2021-07-03T05:49:18.974Z"
   },
   {
    "duration": 437,
    "start_time": "2021-07-03T05:49:19.010Z"
   },
   {
    "duration": 34,
    "start_time": "2021-07-03T05:49:19.449Z"
   },
   {
    "duration": 72,
    "start_time": "2021-07-03T05:49:19.485Z"
   },
   {
    "duration": 391,
    "start_time": "2021-07-03T05:49:19.559Z"
   },
   {
    "duration": 255,
    "start_time": "2021-07-03T05:49:19.956Z"
   },
   {
    "duration": 6,
    "start_time": "2021-07-03T05:49:20.215Z"
   },
   {
    "duration": 432,
    "start_time": "2021-07-03T05:49:20.225Z"
   },
   {
    "duration": 54,
    "start_time": "2021-07-03T05:49:20.660Z"
   },
   {
    "duration": 260,
    "start_time": "2021-07-03T05:49:20.716Z"
   },
   {
    "duration": 472,
    "start_time": "2021-07-03T05:49:20.979Z"
   },
   {
    "duration": 995,
    "start_time": "2021-07-03T05:49:21.456Z"
   },
   {
    "duration": 5,
    "start_time": "2021-07-03T05:49:22.456Z"
   },
   {
    "duration": 7,
    "start_time": "2021-07-03T05:49:22.464Z"
   },
   {
    "duration": 8,
    "start_time": "2021-07-03T05:49:22.474Z"
   },
   {
    "duration": 18,
    "start_time": "2021-07-03T05:49:22.485Z"
   },
   {
    "duration": 18402,
    "start_time": "2021-07-03T05:49:22.506Z"
   },
   {
    "duration": 94708,
    "start_time": "2021-07-03T05:49:40.910Z"
   },
   {
    "duration": 107447,
    "start_time": "2021-07-03T05:51:15.620Z"
   },
   {
    "duration": 1483,
    "start_time": "2021-07-03T06:42:22.799Z"
   },
   {
    "duration": 1224,
    "start_time": "2021-07-03T06:42:24.285Z"
   },
   {
    "duration": 53,
    "start_time": "2021-07-03T06:42:25.515Z"
   },
   {
    "duration": 356,
    "start_time": "2021-07-03T06:42:25.570Z"
   },
   {
    "duration": 1510,
    "start_time": "2021-07-03T06:42:25.928Z"
   },
   {
    "duration": 67,
    "start_time": "2021-07-03T06:42:27.440Z"
   },
   {
    "duration": 68,
    "start_time": "2021-07-03T06:42:27.509Z"
   },
   {
    "duration": 6,
    "start_time": "2021-07-03T06:42:27.581Z"
   },
   {
    "duration": 2986,
    "start_time": "2021-07-03T06:42:27.590Z"
   },
   {
    "duration": 39,
    "start_time": "2021-07-03T06:42:30.578Z"
   },
   {
    "duration": 645,
    "start_time": "2021-07-03T06:42:30.619Z"
   },
   {
    "duration": 359,
    "start_time": "2021-07-03T06:42:31.267Z"
   },
   {
    "duration": 80,
    "start_time": "2021-07-03T06:42:31.629Z"
   },
   {
    "duration": 1556,
    "start_time": "2021-07-03T06:42:31.711Z"
   },
   {
    "duration": 47,
    "start_time": "2021-07-03T06:42:33.270Z"
   },
   {
    "duration": 64,
    "start_time": "2021-07-03T06:42:33.319Z"
   },
   {
    "duration": 392,
    "start_time": "2021-07-03T06:42:33.385Z"
   },
   {
    "duration": 31,
    "start_time": "2021-07-03T06:42:33.779Z"
   },
   {
    "duration": 70,
    "start_time": "2021-07-03T06:42:33.813Z"
   },
   {
    "duration": 391,
    "start_time": "2021-07-03T06:42:33.885Z"
   },
   {
    "duration": 246,
    "start_time": "2021-07-03T06:42:34.278Z"
   },
   {
    "duration": 4,
    "start_time": "2021-07-03T06:42:34.526Z"
   },
   {
    "duration": 385,
    "start_time": "2021-07-03T06:42:34.533Z"
   },
   {
    "duration": 63,
    "start_time": "2021-07-03T06:42:34.921Z"
   },
   {
    "duration": 242,
    "start_time": "2021-07-03T06:42:34.987Z"
   },
   {
    "duration": 448,
    "start_time": "2021-07-03T06:42:35.234Z"
   },
   {
    "duration": 960,
    "start_time": "2021-07-03T06:42:35.685Z"
   },
   {
    "duration": 11,
    "start_time": "2021-07-03T06:42:36.648Z"
   },
   {
    "duration": 8,
    "start_time": "2021-07-03T06:42:36.661Z"
   },
   {
    "duration": 9,
    "start_time": "2021-07-03T06:42:36.672Z"
   },
   {
    "duration": 11,
    "start_time": "2021-07-03T06:42:36.684Z"
   },
   {
    "duration": 18513,
    "start_time": "2021-07-03T06:42:36.697Z"
   },
   {
    "duration": 93945,
    "start_time": "2021-07-03T06:42:55.213Z"
   },
   {
    "duration": 98803,
    "start_time": "2021-07-03T06:44:29.160Z"
   },
   {
    "duration": 279292,
    "start_time": "2021-07-03T06:46:07.966Z"
   },
   {
    "duration": 87,
    "start_time": "2021-07-03T06:54:41.349Z"
   },
   {
    "duration": 75709,
    "start_time": "2021-07-03T06:54:51.168Z"
   },
   {
    "duration": 723,
    "start_time": "2021-07-03T06:57:53.136Z"
   },
   {
    "duration": 122042,
    "start_time": "2021-07-03T06:58:30.028Z"
   },
   {
    "duration": 6,
    "start_time": "2021-07-03T07:21:19.818Z"
   },
   {
    "duration": 124600,
    "start_time": "2021-07-03T07:21:25.573Z"
   },
   {
    "duration": 6,
    "start_time": "2021-07-03T07:25:20.040Z"
   },
   {
    "duration": 193253,
    "start_time": "2021-07-03T07:25:26.920Z"
   },
   {
    "duration": 7,
    "start_time": "2021-07-03T07:29:32.908Z"
   },
   {
    "duration": 432889,
    "start_time": "2021-07-03T07:29:39.791Z"
   },
   {
    "duration": 6,
    "start_time": "2021-07-03T08:11:41.047Z"
   },
   {
    "duration": 263619,
    "start_time": "2021-07-03T08:11:48.748Z"
   },
   {
    "duration": 487855,
    "start_time": "2021-07-03T08:38:58.118Z"
   },
   {
    "duration": 129175,
    "start_time": "2021-07-03T10:08:59.509Z"
   },
   {
    "duration": 19,
    "start_time": "2021-07-03T10:56:41.165Z"
   },
   {
    "duration": 256,
    "start_time": "2021-07-03T10:56:44.337Z"
   },
   {
    "duration": 98,
    "start_time": "2021-07-03T10:57:04.373Z"
   },
   {
    "duration": 17,
    "start_time": "2021-07-03T10:57:20.630Z"
   },
   {
    "duration": 258,
    "start_time": "2021-07-03T10:57:23.059Z"
   },
   {
    "duration": 17,
    "start_time": "2021-07-03T10:58:42.386Z"
   },
   {
    "duration": 281,
    "start_time": "2021-07-03T10:58:44.823Z"
   },
   {
    "duration": 16,
    "start_time": "2021-07-03T10:58:54.270Z"
   },
   {
    "duration": 319,
    "start_time": "2021-07-03T10:58:56.832Z"
   },
   {
    "duration": 80,
    "start_time": "2021-07-03T10:59:27.337Z"
   },
   {
    "duration": 261,
    "start_time": "2021-07-03T10:59:43.193Z"
   },
   {
    "duration": 19,
    "start_time": "2021-07-03T11:00:35.896Z"
   },
   {
    "duration": 278,
    "start_time": "2021-07-03T11:00:37.029Z"
   },
   {
    "duration": 1550,
    "start_time": "2021-07-03T11:12:52.359Z"
   },
   {
    "duration": 1301,
    "start_time": "2021-07-03T11:12:53.912Z"
   },
   {
    "duration": 49,
    "start_time": "2021-07-03T11:12:55.216Z"
   },
   {
    "duration": 369,
    "start_time": "2021-07-03T11:12:55.269Z"
   },
   {
    "duration": 1651,
    "start_time": "2021-07-03T11:12:55.641Z"
   },
   {
    "duration": 71,
    "start_time": "2021-07-03T11:12:57.295Z"
   },
   {
    "duration": 59,
    "start_time": "2021-07-03T11:12:57.369Z"
   },
   {
    "duration": 5,
    "start_time": "2021-07-03T11:12:57.432Z"
   },
   {
    "duration": 3132,
    "start_time": "2021-07-03T11:12:57.458Z"
   },
   {
    "duration": 37,
    "start_time": "2021-07-03T11:13:00.593Z"
   },
   {
    "duration": 666,
    "start_time": "2021-07-03T11:13:00.632Z"
   },
   {
    "duration": 373,
    "start_time": "2021-07-03T11:13:01.301Z"
   },
   {
    "duration": 62,
    "start_time": "2021-07-03T11:13:01.676Z"
   },
   {
    "duration": 1686,
    "start_time": "2021-07-03T11:13:01.755Z"
   },
   {
    "duration": 57,
    "start_time": "2021-07-03T11:13:03.443Z"
   },
   {
    "duration": 66,
    "start_time": "2021-07-03T11:13:03.503Z"
   },
   {
    "duration": 417,
    "start_time": "2021-07-03T11:13:03.572Z"
   },
   {
    "duration": 29,
    "start_time": "2021-07-03T11:13:03.991Z"
   },
   {
    "duration": 75,
    "start_time": "2021-07-03T11:13:04.023Z"
   },
   {
    "duration": 415,
    "start_time": "2021-07-03T11:13:04.101Z"
   },
   {
    "duration": 267,
    "start_time": "2021-07-03T11:13:04.518Z"
   },
   {
    "duration": 4,
    "start_time": "2021-07-03T11:13:04.788Z"
   },
   {
    "duration": 433,
    "start_time": "2021-07-03T11:13:04.797Z"
   },
   {
    "duration": 74,
    "start_time": "2021-07-03T11:13:05.233Z"
   },
   {
    "duration": 266,
    "start_time": "2021-07-03T11:13:05.310Z"
   },
   {
    "duration": 510,
    "start_time": "2021-07-03T11:13:05.579Z"
   },
   {
    "duration": 1145,
    "start_time": "2021-07-03T11:13:06.092Z"
   },
   {
    "duration": 16,
    "start_time": "2021-07-03T11:13:07.240Z"
   },
   {
    "duration": 11,
    "start_time": "2021-07-03T11:13:07.259Z"
   },
   {
    "duration": 119221,
    "start_time": "2021-07-03T11:13:16.501Z"
   },
   {
    "duration": 1558,
    "start_time": "2021-07-03T11:17:25.966Z"
   },
   {
    "duration": 1292,
    "start_time": "2021-07-03T11:17:27.527Z"
   },
   {
    "duration": 57,
    "start_time": "2021-07-03T11:17:28.822Z"
   },
   {
    "duration": 455,
    "start_time": "2021-07-03T11:17:28.882Z"
   },
   {
    "duration": 1822,
    "start_time": "2021-07-03T11:17:29.340Z"
   },
   {
    "duration": 57,
    "start_time": "2021-07-03T11:17:31.165Z"
   },
   {
    "duration": 81,
    "start_time": "2021-07-03T11:17:31.225Z"
   },
   {
    "duration": 15,
    "start_time": "2021-07-03T11:17:31.309Z"
   },
   {
    "duration": 3281,
    "start_time": "2021-07-03T11:17:31.326Z"
   },
   {
    "duration": 56,
    "start_time": "2021-07-03T11:17:34.609Z"
   },
   {
    "duration": 645,
    "start_time": "2021-07-03T11:17:34.667Z"
   },
   {
    "duration": 382,
    "start_time": "2021-07-03T11:17:35.314Z"
   },
   {
    "duration": 73,
    "start_time": "2021-07-03T11:17:35.698Z"
   },
   {
    "duration": 1657,
    "start_time": "2021-07-03T11:17:35.773Z"
   },
   {
    "duration": 58,
    "start_time": "2021-07-03T11:17:37.433Z"
   },
   {
    "duration": 36,
    "start_time": "2021-07-03T11:17:37.493Z"
   },
   {
    "duration": 448,
    "start_time": "2021-07-03T11:17:37.532Z"
   },
   {
    "duration": 32,
    "start_time": "2021-07-03T11:17:37.983Z"
   },
   {
    "duration": 80,
    "start_time": "2021-07-03T11:17:38.018Z"
   },
   {
    "duration": 419,
    "start_time": "2021-07-03T11:17:38.101Z"
   },
   {
    "duration": 266,
    "start_time": "2021-07-03T11:17:38.522Z"
   },
   {
    "duration": 5,
    "start_time": "2021-07-03T11:17:38.791Z"
   },
   {
    "duration": 432,
    "start_time": "2021-07-03T11:17:38.803Z"
   },
   {
    "duration": 62,
    "start_time": "2021-07-03T11:17:39.239Z"
   },
   {
    "duration": 255,
    "start_time": "2021-07-03T11:17:39.304Z"
   },
   {
    "duration": 460,
    "start_time": "2021-07-03T11:17:39.562Z"
   },
   {
    "duration": 1075,
    "start_time": "2021-07-03T11:17:40.024Z"
   },
   {
    "duration": 6,
    "start_time": "2021-07-03T11:17:41.101Z"
   },
   {
    "duration": 17,
    "start_time": "2021-07-03T11:17:41.110Z"
   },
   {
    "duration": 331030,
    "start_time": "2021-07-03T11:17:41.129Z"
   },
   {
    "duration": 9103799,
    "start_time": "2021-07-03T11:25:48.707Z"
   },
   {
    "duration": 6,
    "start_time": "2021-07-03T13:58:53.379Z"
   },
   {
    "duration": 1282,
    "start_time": "2021-07-03T13:58:53.387Z"
   },
   {
    "duration": 36,
    "start_time": "2021-07-03T13:58:54.672Z"
   },
   {
    "duration": 368,
    "start_time": "2021-07-03T13:58:54.710Z"
   },
   {
    "duration": 1726,
    "start_time": "2021-07-03T13:58:55.080Z"
   },
   {
    "duration": 67,
    "start_time": "2021-07-03T13:58:56.808Z"
   },
   {
    "duration": 47,
    "start_time": "2021-07-03T13:58:56.879Z"
   },
   {
    "duration": 28,
    "start_time": "2021-07-03T13:58:56.930Z"
   },
   {
    "duration": 3170,
    "start_time": "2021-07-03T13:58:56.963Z"
   },
   {
    "duration": 53,
    "start_time": "2021-07-03T13:59:00.135Z"
   },
   {
    "duration": 680,
    "start_time": "2021-07-03T13:59:00.190Z"
   },
   {
    "duration": 389,
    "start_time": "2021-07-03T13:59:00.875Z"
   },
   {
    "duration": 63,
    "start_time": "2021-07-03T13:59:01.267Z"
   },
   {
    "duration": 1087,
    "start_time": "2021-07-03T13:59:01.333Z"
   },
   {
    "duration": -336,
    "start_time": "2021-07-03T13:59:02.759Z"
   },
   {
    "duration": -338,
    "start_time": "2021-07-03T13:59:02.763Z"
   },
   {
    "duration": -340,
    "start_time": "2021-07-03T13:59:02.766Z"
   },
   {
    "duration": -340,
    "start_time": "2021-07-03T13:59:02.768Z"
   },
   {
    "duration": -345,
    "start_time": "2021-07-03T13:59:02.774Z"
   },
   {
    "duration": -346,
    "start_time": "2021-07-03T13:59:02.776Z"
   },
   {
    "duration": -348,
    "start_time": "2021-07-03T13:59:02.780Z"
   },
   {
    "duration": -350,
    "start_time": "2021-07-03T13:59:02.783Z"
   },
   {
    "duration": -359,
    "start_time": "2021-07-03T13:59:02.794Z"
   },
   {
    "duration": -360,
    "start_time": "2021-07-03T13:59:02.796Z"
   },
   {
    "duration": -361,
    "start_time": "2021-07-03T13:59:02.799Z"
   },
   {
    "duration": -363,
    "start_time": "2021-07-03T13:59:02.802Z"
   },
   {
    "duration": -367,
    "start_time": "2021-07-03T13:59:02.808Z"
   },
   {
    "duration": -369,
    "start_time": "2021-07-03T13:59:02.811Z"
   },
   {
    "duration": -370,
    "start_time": "2021-07-03T13:59:02.814Z"
   },
   {
    "duration": -371,
    "start_time": "2021-07-03T13:59:02.816Z"
   },
   {
    "duration": -357,
    "start_time": "2021-07-03T13:59:02.819Z"
   },
   {
    "duration": -361,
    "start_time": "2021-07-03T13:59:02.824Z"
   },
   {
    "duration": -363,
    "start_time": "2021-07-03T13:59:02.827Z"
   },
   {
    "duration": -364,
    "start_time": "2021-07-03T13:59:02.829Z"
   },
   {
    "duration": -365,
    "start_time": "2021-07-03T13:59:02.832Z"
   },
   {
    "duration": -366,
    "start_time": "2021-07-03T13:59:02.834Z"
   },
   {
    "duration": -369,
    "start_time": "2021-07-03T13:59:02.838Z"
   },
   {
    "duration": 1473,
    "start_time": "2021-07-03T14:01:19.495Z"
   },
   {
    "duration": 1246,
    "start_time": "2021-07-03T14:01:20.970Z"
   },
   {
    "duration": 50,
    "start_time": "2021-07-03T14:01:22.220Z"
   },
   {
    "duration": 354,
    "start_time": "2021-07-03T14:01:22.273Z"
   },
   {
    "duration": 1597,
    "start_time": "2021-07-03T14:01:22.629Z"
   },
   {
    "duration": 72,
    "start_time": "2021-07-03T14:01:24.228Z"
   },
   {
    "duration": 63,
    "start_time": "2021-07-03T14:01:24.302Z"
   },
   {
    "duration": 15,
    "start_time": "2021-07-03T14:01:24.368Z"
   },
   {
    "duration": 3201,
    "start_time": "2021-07-03T14:01:24.387Z"
   },
   {
    "duration": 37,
    "start_time": "2021-07-03T14:01:27.592Z"
   },
   {
    "duration": 676,
    "start_time": "2021-07-03T14:01:27.631Z"
   },
   {
    "duration": 447,
    "start_time": "2021-07-03T14:01:28.310Z"
   },
   {
    "duration": 56,
    "start_time": "2021-07-03T14:01:28.765Z"
   },
   {
    "duration": 1652,
    "start_time": "2021-07-03T14:01:28.824Z"
   },
   {
    "duration": 47,
    "start_time": "2021-07-03T14:01:30.479Z"
   },
   {
    "duration": 69,
    "start_time": "2021-07-03T14:01:30.528Z"
   },
   {
    "duration": 415,
    "start_time": "2021-07-03T14:01:30.600Z"
   },
   {
    "duration": 49,
    "start_time": "2021-07-03T14:01:31.017Z"
   },
   {
    "duration": 48,
    "start_time": "2021-07-03T14:01:31.069Z"
   },
   {
    "duration": 394,
    "start_time": "2021-07-03T14:01:31.119Z"
   },
   {
    "duration": 265,
    "start_time": "2021-07-03T14:01:31.515Z"
   },
   {
    "duration": 5,
    "start_time": "2021-07-03T14:01:31.782Z"
   },
   {
    "duration": 450,
    "start_time": "2021-07-03T14:01:31.789Z"
   },
   {
    "duration": 68,
    "start_time": "2021-07-03T14:01:32.241Z"
   },
   {
    "duration": 262,
    "start_time": "2021-07-03T14:01:32.312Z"
   },
   {
    "duration": 447,
    "start_time": "2021-07-03T14:01:32.577Z"
   },
   {
    "duration": 1044,
    "start_time": "2021-07-03T14:01:33.028Z"
   },
   {
    "duration": 6,
    "start_time": "2021-07-03T14:01:34.074Z"
   },
   {
    "duration": 13,
    "start_time": "2021-07-03T14:01:34.083Z"
   },
   {
    "duration": 323031,
    "start_time": "2021-07-03T14:01:34.099Z"
   },
   {
    "duration": -540,
    "start_time": "2021-07-03T14:06:57.673Z"
   },
   {
    "duration": -556,
    "start_time": "2021-07-03T14:06:57.690Z"
   },
   {
    "duration": -558,
    "start_time": "2021-07-03T14:06:57.694Z"
   },
   {
    "duration": -561,
    "start_time": "2021-07-03T14:06:57.698Z"
   },
   {
    "duration": -562,
    "start_time": "2021-07-03T14:06:57.701Z"
   },
   {
    "duration": 7640345,
    "start_time": "2021-07-03T14:08:23.716Z"
   },
   {
    "duration": 178713,
    "start_time": "2021-07-03T16:15:44.065Z"
   },
   {
    "duration": 28584572,
    "start_time": "2021-07-03T16:18:42.781Z"
   },
   {
    "duration": -301,
    "start_time": "2021-07-04T00:15:07.657Z"
   },
   {
    "duration": -302,
    "start_time": "2021-07-04T00:15:07.659Z"
   },
   {
    "duration": 6,
    "start_time": "2021-07-04T00:16:26.289Z"
   },
   {
    "duration": 1239,
    "start_time": "2021-07-04T00:16:26.300Z"
   },
   {
    "duration": 43,
    "start_time": "2021-07-04T00:16:27.541Z"
   },
   {
    "duration": 341,
    "start_time": "2021-07-04T00:16:27.587Z"
   },
   {
    "duration": 1452,
    "start_time": "2021-07-04T00:16:27.931Z"
   },
   {
    "duration": 77,
    "start_time": "2021-07-04T00:16:29.385Z"
   },
   {
    "duration": 54,
    "start_time": "2021-07-04T00:16:29.464Z"
   },
   {
    "duration": 6,
    "start_time": "2021-07-04T00:16:29.520Z"
   },
   {
    "duration": 3020,
    "start_time": "2021-07-04T00:16:29.530Z"
   },
   {
    "duration": 37,
    "start_time": "2021-07-04T00:16:32.558Z"
   },
   {
    "duration": 637,
    "start_time": "2021-07-04T00:16:32.598Z"
   },
   {
    "duration": 361,
    "start_time": "2021-07-04T00:16:33.238Z"
   },
   {
    "duration": 75,
    "start_time": "2021-07-04T00:16:33.602Z"
   },
   {
    "duration": 1564,
    "start_time": "2021-07-04T00:16:33.680Z"
   },
   {
    "duration": 53,
    "start_time": "2021-07-04T00:16:35.246Z"
   },
   {
    "duration": 66,
    "start_time": "2021-07-04T00:16:35.302Z"
   },
   {
    "duration": 420,
    "start_time": "2021-07-04T00:16:35.371Z"
   },
   {
    "duration": 31,
    "start_time": "2021-07-04T00:16:35.794Z"
   },
   {
    "duration": 69,
    "start_time": "2021-07-04T00:16:35.828Z"
   },
   {
    "duration": 401,
    "start_time": "2021-07-04T00:16:35.900Z"
   },
   {
    "duration": 255,
    "start_time": "2021-07-04T00:16:36.304Z"
   },
   {
    "duration": 4,
    "start_time": "2021-07-04T00:16:36.562Z"
   },
   {
    "duration": 403,
    "start_time": "2021-07-04T00:16:36.569Z"
   },
   {
    "duration": 47,
    "start_time": "2021-07-04T00:16:36.977Z"
   },
   {
    "duration": 249,
    "start_time": "2021-07-04T00:16:37.027Z"
   },
   {
    "duration": 437,
    "start_time": "2021-07-04T00:16:37.279Z"
   },
   {
    "duration": 970,
    "start_time": "2021-07-04T00:16:37.719Z"
   },
   {
    "duration": 7,
    "start_time": "2021-07-04T00:16:38.691Z"
   },
   {
    "duration": 8,
    "start_time": "2021-07-04T00:16:38.700Z"
   },
   {
    "duration": 309453,
    "start_time": "2021-07-04T00:16:38.710Z"
   },
   {
    "duration": 84,
    "start_time": "2021-07-04T00:21:48.165Z"
   },
   {
    "duration": -163,
    "start_time": "2021-07-04T00:21:48.414Z"
   },
   {
    "duration": -163,
    "start_time": "2021-07-04T00:21:48.416Z"
   },
   {
    "duration": -162,
    "start_time": "2021-07-04T00:21:48.417Z"
   },
   {
    "duration": 5255127,
    "start_time": "2021-07-04T01:05:19.308Z"
   },
   {
    "duration": -271,
    "start_time": "2021-07-04T02:32:54.709Z"
   },
   {
    "duration": -272,
    "start_time": "2021-07-04T02:32:54.712Z"
   },
   {
    "duration": -273,
    "start_time": "2021-07-04T02:32:54.714Z"
   },
   {
    "duration": 1524,
    "start_time": "2021-07-04T02:34:03.242Z"
   },
   {
    "duration": 1263,
    "start_time": "2021-07-04T02:34:04.768Z"
   },
   {
    "duration": 48,
    "start_time": "2021-07-04T02:34:06.034Z"
   },
   {
    "duration": 338,
    "start_time": "2021-07-04T02:34:06.085Z"
   },
   {
    "duration": 1473,
    "start_time": "2021-07-04T02:34:06.425Z"
   },
   {
    "duration": 66,
    "start_time": "2021-07-04T02:34:07.900Z"
   },
   {
    "duration": 55,
    "start_time": "2021-07-04T02:34:07.968Z"
   },
   {
    "duration": 7,
    "start_time": "2021-07-04T02:34:08.026Z"
   },
   {
    "duration": 2938,
    "start_time": "2021-07-04T02:34:08.056Z"
   },
   {
    "duration": 36,
    "start_time": "2021-07-04T02:34:10.997Z"
   },
   {
    "duration": 606,
    "start_time": "2021-07-04T02:34:11.056Z"
   },
   {
    "duration": 448,
    "start_time": "2021-07-04T02:34:11.665Z"
   },
   {
    "duration": 76,
    "start_time": "2021-07-04T02:34:12.116Z"
   },
   {
    "duration": 1515,
    "start_time": "2021-07-04T02:34:12.194Z"
   },
   {
    "duration": 57,
    "start_time": "2021-07-04T02:34:13.711Z"
   },
   {
    "duration": 34,
    "start_time": "2021-07-04T02:34:13.770Z"
   },
   {
    "duration": 402,
    "start_time": "2021-07-04T02:34:13.806Z"
   },
   {
    "duration": 30,
    "start_time": "2021-07-04T02:34:14.210Z"
   },
   {
    "duration": 47,
    "start_time": "2021-07-04T02:34:14.256Z"
   },
   {
    "duration": 394,
    "start_time": "2021-07-04T02:34:14.306Z"
   },
   {
    "duration": 257,
    "start_time": "2021-07-04T02:34:14.702Z"
   },
   {
    "duration": 5,
    "start_time": "2021-07-04T02:34:14.961Z"
   },
   {
    "duration": 414,
    "start_time": "2021-07-04T02:34:14.970Z"
   },
   {
    "duration": 69,
    "start_time": "2021-07-04T02:34:15.387Z"
   },
   {
    "duration": 244,
    "start_time": "2021-07-04T02:34:15.458Z"
   },
   {
    "duration": 443,
    "start_time": "2021-07-04T02:34:15.706Z"
   },
   {
    "duration": 965,
    "start_time": "2021-07-04T02:34:16.151Z"
   },
   {
    "duration": 5,
    "start_time": "2021-07-04T02:34:17.119Z"
   },
   {
    "duration": 8,
    "start_time": "2021-07-04T02:34:17.127Z"
   },
   {
    "duration": 309903,
    "start_time": "2021-07-04T02:34:17.156Z"
   },
   {
    "duration": 1908518,
    "start_time": "2021-07-04T02:39:27.061Z"
   },
   {
    "duration": 97476,
    "start_time": "2021-07-04T03:11:15.582Z"
   },
   {
    "duration": 118276,
    "start_time": "2021-07-04T03:12:53.060Z"
   },
   {
    "duration": -214,
    "start_time": "2021-07-04T03:14:51.553Z"
   },
   {
    "duration": 107410,
    "start_time": "2021-07-04T07:17:27.791Z"
   },
   {
    "duration": 56265,
    "start_time": "2021-07-04T07:19:15.204Z"
   },
   {
    "duration": 57303,
    "start_time": "2021-07-04T07:25:30.570Z"
   },
   {
    "duration": 18,
    "start_time": "2021-07-04T11:04:27.156Z"
   },
   {
    "duration": 54,
    "start_time": "2021-07-04T11:14:04.199Z"
   },
   {
    "duration": 55,
    "start_time": "2021-07-04T11:15:25.934Z"
   },
   {
    "duration": 159,
    "start_time": "2021-07-04T11:16:21.211Z"
   },
   {
    "duration": 7,
    "start_time": "2021-07-04T11:19:44.174Z"
   },
   {
    "duration": 1445,
    "start_time": "2021-07-04T11:23:10.249Z"
   },
   {
    "duration": 1406,
    "start_time": "2021-07-04T11:23:11.697Z"
   },
   {
    "duration": 51,
    "start_time": "2021-07-04T11:23:13.106Z"
   },
   {
    "duration": 346,
    "start_time": "2021-07-04T11:23:13.161Z"
   },
   {
    "duration": 1494,
    "start_time": "2021-07-04T11:23:13.510Z"
   },
   {
    "duration": 79,
    "start_time": "2021-07-04T11:23:15.006Z"
   },
   {
    "duration": 57,
    "start_time": "2021-07-04T11:23:15.088Z"
   },
   {
    "duration": 7,
    "start_time": "2021-07-04T11:23:15.158Z"
   },
   {
    "duration": 3235,
    "start_time": "2021-07-04T11:23:15.168Z"
   },
   {
    "duration": 58,
    "start_time": "2021-07-04T11:23:18.405Z"
   },
   {
    "duration": 622,
    "start_time": "2021-07-04T11:23:18.466Z"
   },
   {
    "duration": 371,
    "start_time": "2021-07-04T11:23:19.090Z"
   },
   {
    "duration": 57,
    "start_time": "2021-07-04T11:23:19.464Z"
   },
   {
    "duration": 1726,
    "start_time": "2021-07-04T11:23:19.524Z"
   },
   {
    "duration": 46,
    "start_time": "2021-07-04T11:23:21.255Z"
   },
   {
    "duration": 187,
    "start_time": "2021-07-04T11:23:21.303Z"
   },
   {
    "duration": 446,
    "start_time": "2021-07-04T11:23:21.493Z"
   },
   {
    "duration": 36,
    "start_time": "2021-07-04T11:23:21.942Z"
   },
   {
    "duration": 88,
    "start_time": "2021-07-04T11:23:21.982Z"
   },
   {
    "duration": 393,
    "start_time": "2021-07-04T11:23:22.073Z"
   },
   {
    "duration": 245,
    "start_time": "2021-07-04T11:23:22.469Z"
   },
   {
    "duration": 4,
    "start_time": "2021-07-04T11:23:22.717Z"
   },
   {
    "duration": 395,
    "start_time": "2021-07-04T11:23:22.726Z"
   },
   {
    "duration": 69,
    "start_time": "2021-07-04T11:23:23.124Z"
   },
   {
    "duration": 261,
    "start_time": "2021-07-04T11:23:23.196Z"
   },
   {
    "duration": 430,
    "start_time": "2021-07-04T11:23:23.459Z"
   },
   {
    "duration": 1124,
    "start_time": "2021-07-04T11:23:23.892Z"
   },
   {
    "duration": 22,
    "start_time": "2021-07-04T11:23:25.028Z"
   },
   {
    "duration": 11,
    "start_time": "2021-07-04T11:23:25.068Z"
   },
   {
    "duration": 349218,
    "start_time": "2021-07-04T11:23:25.083Z"
   },
   {
    "duration": 2031207,
    "start_time": "2021-07-04T11:29:14.304Z"
   },
   {
    "duration": 121047,
    "start_time": "2021-07-04T12:03:05.514Z"
   },
   {
    "duration": 110109,
    "start_time": "2021-07-04T12:05:06.563Z"
   },
   {
    "duration": 57700,
    "start_time": "2021-07-04T12:06:56.675Z"
   },
   {
    "duration": 13,
    "start_time": "2021-07-04T12:07:54.378Z"
   },
   {
    "duration": 97,
    "start_time": "2021-07-04T12:07:54.395Z"
   },
   {
    "duration": 267,
    "start_time": "2021-07-04T12:07:54.495Z"
   },
   {
    "duration": 6,
    "start_time": "2021-07-04T12:07:54.765Z"
   },
   {
    "duration": 1590,
    "start_time": "2021-07-05T09:00:15.292Z"
   },
   {
    "duration": 1282,
    "start_time": "2021-07-05T09:00:16.884Z"
   },
   {
    "duration": 43,
    "start_time": "2021-07-05T09:00:18.172Z"
   },
   {
    "duration": 358,
    "start_time": "2021-07-05T09:00:18.217Z"
   },
   {
    "duration": 1609,
    "start_time": "2021-07-05T09:00:18.578Z"
   },
   {
    "duration": 58,
    "start_time": "2021-07-05T09:00:20.189Z"
   },
   {
    "duration": 65,
    "start_time": "2021-07-05T09:00:20.251Z"
   },
   {
    "duration": 6,
    "start_time": "2021-07-05T09:00:20.319Z"
   },
   {
    "duration": 3130,
    "start_time": "2021-07-05T09:00:20.328Z"
   },
   {
    "duration": 53,
    "start_time": "2021-07-05T09:00:23.468Z"
   },
   {
    "duration": 686,
    "start_time": "2021-07-05T09:00:23.524Z"
   },
   {
    "duration": 393,
    "start_time": "2021-07-05T09:00:24.213Z"
   },
   {
    "duration": 81,
    "start_time": "2021-07-05T09:00:24.609Z"
   },
   {
    "duration": 1612,
    "start_time": "2021-07-05T09:00:24.693Z"
   },
   {
    "duration": 67,
    "start_time": "2021-07-05T09:00:26.308Z"
   },
   {
    "duration": 35,
    "start_time": "2021-07-05T09:00:26.377Z"
   },
   {
    "duration": 436,
    "start_time": "2021-07-05T09:00:26.415Z"
   },
   {
    "duration": 35,
    "start_time": "2021-07-05T09:00:26.853Z"
   },
   {
    "duration": 79,
    "start_time": "2021-07-05T09:00:26.890Z"
   },
   {
    "duration": 397,
    "start_time": "2021-07-05T09:00:26.971Z"
   },
   {
    "duration": 266,
    "start_time": "2021-07-05T09:00:27.370Z"
   },
   {
    "duration": 5,
    "start_time": "2021-07-05T09:00:27.640Z"
   },
   {
    "duration": 653,
    "start_time": "2021-07-05T09:00:27.649Z"
   },
   {
    "duration": 84,
    "start_time": "2021-07-05T09:00:28.305Z"
   },
   {
    "duration": 417,
    "start_time": "2021-07-05T09:00:28.392Z"
   },
   {
    "duration": 750,
    "start_time": "2021-07-05T09:00:28.812Z"
   },
   {
    "duration": 1655,
    "start_time": "2021-07-05T09:00:29.568Z"
   },
   {
    "duration": 8,
    "start_time": "2021-07-05T09:00:31.226Z"
   },
   {
    "duration": 31,
    "start_time": "2021-07-05T09:00:31.237Z"
   },
   {
    "duration": 341805,
    "start_time": "2021-07-05T09:00:31.272Z"
   },
   {
    "duration": 1981429,
    "start_time": "2021-07-05T09:06:13.080Z"
   },
   {
    "duration": 128766,
    "start_time": "2021-07-05T09:39:14.512Z"
   },
   {
    "duration": 112321,
    "start_time": "2021-07-05T09:41:23.281Z"
   },
   {
    "duration": 260481,
    "start_time": "2021-07-05T09:43:15.604Z"
   },
   {
    "duration": 13,
    "start_time": "2021-07-05T09:47:36.088Z"
   },
   {
    "duration": 104,
    "start_time": "2021-07-05T09:47:36.104Z"
   },
   {
    "duration": 261,
    "start_time": "2021-07-05T09:47:36.211Z"
   },
   {
    "duration": 8,
    "start_time": "2021-07-05T09:47:36.475Z"
   },
   {
    "duration": 1116,
    "start_time": "2021-07-05T13:17:51.635Z"
   },
   {
    "duration": 906,
    "start_time": "2021-07-05T13:17:52.753Z"
   },
   {
    "duration": 38,
    "start_time": "2021-07-05T13:17:53.661Z"
   },
   {
    "duration": 120,
    "start_time": "2021-07-05T13:18:16.618Z"
   },
   {
    "duration": 120,
    "start_time": "2021-07-05T13:18:43.718Z"
   },
   {
    "duration": 122,
    "start_time": "2021-07-05T13:19:03.873Z"
   },
   {
    "duration": 388,
    "start_time": "2021-07-05T13:20:31.351Z"
   },
   {
    "duration": 121,
    "start_time": "2021-07-05T13:20:49.570Z"
   },
   {
    "duration": 121,
    "start_time": "2021-07-05T13:20:58.123Z"
   },
   {
    "duration": 239,
    "start_time": "2021-07-05T13:22:01.045Z"
   },
   {
    "duration": 250,
    "start_time": "2021-07-05T13:22:28.763Z"
   },
   {
    "duration": 296,
    "start_time": "2021-07-05T13:24:46.248Z"
   },
   {
    "duration": 36970,
    "start_time": "2021-07-05T13:25:01.255Z"
   },
   {
    "duration": 37012,
    "start_time": "2021-07-05T13:27:12.702Z"
   },
   {
    "duration": 4,
    "start_time": "2021-07-05T13:52:20.358Z"
   },
   {
    "duration": 890,
    "start_time": "2021-07-05T13:52:20.366Z"
   },
   {
    "duration": 39,
    "start_time": "2021-07-05T13:52:21.259Z"
   },
   {
    "duration": 38997,
    "start_time": "2021-07-05T13:52:21.301Z"
   },
   {
    "duration": 252,
    "start_time": "2021-07-05T13:53:00.300Z"
   },
   {
    "duration": 1137,
    "start_time": "2021-07-05T13:53:00.554Z"
   },
   {
    "duration": 39,
    "start_time": "2021-07-05T13:53:01.694Z"
   },
   {
    "duration": 51,
    "start_time": "2021-07-05T13:53:01.734Z"
   },
   {
    "duration": 6,
    "start_time": "2021-07-05T13:53:01.789Z"
   },
   {
    "duration": 2270,
    "start_time": "2021-07-05T13:53:01.797Z"
   },
   {
    "duration": 37,
    "start_time": "2021-07-05T13:53:04.068Z"
   },
   {
    "duration": 441,
    "start_time": "2021-07-05T13:53:04.106Z"
   },
   {
    "duration": 8,
    "start_time": "2021-07-05T13:53:16.525Z"
   },
   {
    "duration": 6,
    "start_time": "2021-07-05T13:53:32.253Z"
   },
   {
    "duration": 6,
    "start_time": "2021-07-05T13:53:50.731Z"
   },
   {
    "duration": 18,
    "start_time": "2021-07-05T13:55:09.646Z"
   },
   {
    "duration": 1159,
    "start_time": "2021-07-05T14:05:30.265Z"
   },
   {
    "duration": 929,
    "start_time": "2021-07-05T14:05:31.426Z"
   },
   {
    "duration": 41,
    "start_time": "2021-07-05T14:05:32.358Z"
   },
   {
    "duration": 37429,
    "start_time": "2021-07-05T14:05:32.402Z"
   },
   {
    "duration": 269,
    "start_time": "2021-07-05T14:06:09.833Z"
   },
   {
    "duration": 1104,
    "start_time": "2021-07-05T14:06:10.104Z"
   },
   {
    "duration": 31,
    "start_time": "2021-07-05T14:06:11.210Z"
   },
   {
    "duration": 45,
    "start_time": "2021-07-05T14:06:11.243Z"
   },
   {
    "duration": 6,
    "start_time": "2021-07-05T14:06:11.291Z"
   },
   {
    "duration": 2173,
    "start_time": "2021-07-05T14:06:11.300Z"
   },
   {
    "duration": 38,
    "start_time": "2021-07-05T14:06:13.474Z"
   },
   {
    "duration": 445,
    "start_time": "2021-07-05T14:06:13.514Z"
   },
   {
    "duration": 27,
    "start_time": "2021-07-05T14:06:13.960Z"
   },
   {
    "duration": 262,
    "start_time": "2021-07-05T14:06:13.989Z"
   },
   {
    "duration": 56,
    "start_time": "2021-07-05T14:06:14.253Z"
   },
   {
    "duration": 1164,
    "start_time": "2021-07-05T14:06:14.311Z"
   },
   {
    "duration": 36,
    "start_time": "2021-07-05T14:06:15.477Z"
   },
   {
    "duration": 25,
    "start_time": "2021-07-05T14:06:15.515Z"
   },
   {
    "duration": 295,
    "start_time": "2021-07-05T14:06:15.542Z"
   },
   {
    "duration": 22,
    "start_time": "2021-07-05T14:06:15.839Z"
   },
   {
    "duration": 52,
    "start_time": "2021-07-05T14:06:15.863Z"
   },
   {
    "duration": 289,
    "start_time": "2021-07-05T14:06:15.917Z"
   },
   {
    "duration": 181,
    "start_time": "2021-07-05T14:06:16.208Z"
   },
   {
    "duration": 5,
    "start_time": "2021-07-05T14:06:16.392Z"
   },
   {
    "duration": 304,
    "start_time": "2021-07-05T14:06:16.399Z"
   },
   {
    "duration": 35,
    "start_time": "2021-07-05T14:06:16.705Z"
   },
   {
    "duration": 189,
    "start_time": "2021-07-05T14:06:16.744Z"
   },
   {
    "duration": 468,
    "start_time": "2021-07-05T14:06:16.935Z"
   },
   {
    "duration": 716,
    "start_time": "2021-07-05T14:06:17.404Z"
   },
   {
    "duration": 5,
    "start_time": "2021-07-05T14:06:18.121Z"
   },
   {
    "duration": 6,
    "start_time": "2021-07-05T14:06:18.127Z"
   },
   {
    "duration": 280320,
    "start_time": "2021-07-05T14:06:18.134Z"
   },
   {
    "duration": 1724795,
    "start_time": "2021-07-05T14:10:58.456Z"
   },
   {
    "duration": 102038,
    "start_time": "2021-07-05T14:39:43.253Z"
   },
   {
    "duration": 75853,
    "start_time": "2021-07-05T14:41:25.294Z"
   },
   {
    "duration": 52452,
    "start_time": "2021-07-05T14:42:41.149Z"
   },
   {
    "duration": 9,
    "start_time": "2021-07-05T14:43:33.603Z"
   },
   {
    "duration": 92,
    "start_time": "2021-07-05T14:43:33.614Z"
   },
   {
    "duration": 185,
    "start_time": "2021-07-05T14:43:33.707Z"
   },
   {
    "duration": 4,
    "start_time": "2021-07-05T14:43:33.894Z"
   },
   {
    "duration": 4,
    "start_time": "2021-07-05T16:53:11.291Z"
   },
   {
    "duration": 5,
    "start_time": "2021-07-05T16:53:53.401Z"
   },
   {
    "duration": 7,
    "start_time": "2021-07-05T16:54:23.996Z"
   },
   {
    "duration": 5,
    "start_time": "2021-07-05T16:55:32.313Z"
   },
   {
    "duration": 5,
    "start_time": "2021-07-05T16:58:14.562Z"
   },
   {
    "duration": 5,
    "start_time": "2021-07-05T16:59:16.186Z"
   },
   {
    "duration": 5,
    "start_time": "2021-07-05T17:10:03.977Z"
   },
   {
    "duration": 6,
    "start_time": "2021-07-05T17:10:08.748Z"
   },
   {
    "duration": 4,
    "start_time": "2021-07-05T17:10:16.652Z"
   },
   {
    "duration": 5,
    "start_time": "2021-07-05T17:10:29.610Z"
   },
   {
    "duration": 6,
    "start_time": "2021-07-05T17:10:48.893Z"
   },
   {
    "duration": 1189,
    "start_time": "2021-07-06T17:00:53.827Z"
   },
   {
    "duration": 806,
    "start_time": "2021-07-06T17:00:55.017Z"
   },
   {
    "duration": 30,
    "start_time": "2021-07-06T17:00:55.826Z"
   },
   {
    "duration": 33688,
    "start_time": "2021-07-06T17:00:55.858Z"
   },
   {
    "duration": 226,
    "start_time": "2021-07-06T17:01:29.548Z"
   },
   {
    "duration": 997,
    "start_time": "2021-07-06T17:01:29.776Z"
   },
   {
    "duration": 32,
    "start_time": "2021-07-06T17:01:30.775Z"
   },
   {
    "duration": 49,
    "start_time": "2021-07-06T17:01:30.810Z"
   },
   {
    "duration": 4,
    "start_time": "2021-07-06T17:01:30.861Z"
   },
   {
    "duration": 1738,
    "start_time": "2021-07-06T17:01:30.867Z"
   },
   {
    "duration": 35,
    "start_time": "2021-07-06T17:01:32.606Z"
   },
   {
    "duration": 343,
    "start_time": "2021-07-06T17:01:32.642Z"
   },
   {
    "duration": 16,
    "start_time": "2021-07-06T17:01:32.986Z"
   },
   {
    "duration": 210,
    "start_time": "2021-07-06T17:01:33.003Z"
   },
   {
    "duration": 42,
    "start_time": "2021-07-06T17:01:33.215Z"
   },
   {
    "duration": 903,
    "start_time": "2021-07-06T17:01:33.258Z"
   },
   {
    "duration": 26,
    "start_time": "2021-07-06T17:01:34.163Z"
   },
   {
    "duration": 20,
    "start_time": "2021-07-06T17:01:34.190Z"
   },
   {
    "duration": 237,
    "start_time": "2021-07-06T17:01:34.211Z"
   },
   {
    "duration": 19,
    "start_time": "2021-07-06T17:01:34.449Z"
   },
   {
    "duration": 27,
    "start_time": "2021-07-06T17:01:34.469Z"
   },
   {
    "duration": 232,
    "start_time": "2021-07-06T17:01:34.498Z"
   },
   {
    "duration": 144,
    "start_time": "2021-07-06T17:01:34.734Z"
   },
   {
    "duration": 3,
    "start_time": "2021-07-06T17:01:34.880Z"
   },
   {
    "duration": 262,
    "start_time": "2021-07-06T17:01:34.885Z"
   },
   {
    "duration": 31,
    "start_time": "2021-07-06T17:01:35.148Z"
   },
   {
    "duration": 163,
    "start_time": "2021-07-06T17:01:35.180Z"
   },
   {
    "duration": 378,
    "start_time": "2021-07-06T17:01:35.344Z"
   },
   {
    "duration": 712,
    "start_time": "2021-07-06T17:01:35.723Z"
   },
   {
    "duration": 4,
    "start_time": "2021-07-06T17:01:36.436Z"
   },
   {
    "duration": 20,
    "start_time": "2021-07-06T17:01:36.442Z"
   },
   {
    "duration": 237569,
    "start_time": "2021-07-06T17:01:36.463Z"
   },
   {
    "duration": 9,
    "start_time": "2021-07-06T17:05:34.033Z"
   },
   {
    "duration": 1467186,
    "start_time": "2021-07-06T17:05:34.043Z"
   },
   {
    "duration": 10,
    "start_time": "2021-07-06T17:30:01.232Z"
   },
   {
    "duration": 76110,
    "start_time": "2021-07-06T17:30:01.243Z"
   },
   {
    "duration": 5,
    "start_time": "2021-07-06T17:31:17.355Z"
   },
   {
    "duration": 74496,
    "start_time": "2021-07-06T17:31:17.361Z"
   },
   {
    "duration": 3,
    "start_time": "2021-07-06T17:32:31.859Z"
   },
   {
    "duration": 40189,
    "start_time": "2021-07-06T17:32:31.864Z"
   },
   {
    "duration": 4,
    "start_time": "2021-07-06T17:33:12.054Z"
   },
   {
    "duration": 12,
    "start_time": "2021-07-06T17:33:12.060Z"
   },
   {
    "duration": 75,
    "start_time": "2021-07-06T17:33:12.073Z"
   },
   {
    "duration": 112,
    "start_time": "2021-07-06T17:33:12.149Z"
   },
   {
    "duration": 81,
    "start_time": "2021-07-06T17:33:12.262Z"
   }
  ],
  "kernelspec": {
   "display_name": "Python 3",
   "language": "python",
   "name": "python3"
  },
  "language_info": {
   "codemirror_mode": {
    "name": "ipython",
    "version": 3
   },
   "file_extension": ".py",
   "mimetype": "text/x-python",
   "name": "python",
   "nbconvert_exporter": "python",
   "pygments_lexer": "ipython3",
   "version": "3.9.5"
  },
  "toc": {
   "base_numbering": 1,
   "nav_menu": {},
   "number_sections": true,
   "sideBar": true,
   "skip_h1_title": true,
   "title_cell": "Table of Contents",
   "title_sidebar": "Contents",
   "toc_cell": false,
   "toc_position": {
    "height": "calc(100% - 180px)",
    "left": "10px",
    "top": "150px",
    "width": "289.6px"
   },
   "toc_section_display": true,
   "toc_window_display": true
  }
 },
 "nbformat": 4,
 "nbformat_minor": 2
}
