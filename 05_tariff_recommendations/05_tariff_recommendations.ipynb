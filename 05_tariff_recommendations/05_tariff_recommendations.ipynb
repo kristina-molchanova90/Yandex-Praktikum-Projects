{
 "cells": [
  {
   "cell_type": "markdown",
   "metadata": {},
   "source": [
    "# Краткое описание проекта"
   ]
  },
  {
   "cell_type": "markdown",
   "metadata": {},
   "source": [
    "<b>Постановка задачи: </b>На основании данных о поведении клиентов, которые уже перешли на имеющиеся тарифы, необходимо построить модель, которая выберет подходящий тариф. \n",
    "<br>\n",
    "<b>Цель проекта:</b> Найти модель с наибольшим значением accuracy на валидационой выборке, проверить ее на тестовой выборке и проверить ее на адекватность <br>\n",
    "<b>Задачи проекта: Найти модель с наибольшим значением accuracy, и проверить ее пригодность на тестовой выборке</b><br>\n",
    "    <li>Открыть датасет и изучить его</li>\n",
    "    <li>Разбить датасет на 3 части: тренировочные данные, валидационные данные, тестовые данные</li>\n",
    "    <li>Проверить 3 модели, меняя значения гиперпараметров, и найти модель с наибольшим значением accuracy</li>\n",
    "    <li>Проверить полученную модель на тестовой выборке</li>\n",
    "<b>Общая информация о данных:</b><br>\n",
    "    Каждый объект в наборе - информация о поведении одного пользователя в месяц. Известно, что:<br>\n",
    "    - сalls — количество звонков,<br>\n",
    "    - minutes — суммарная длительность звонков в минутах,<br>\n",
    "    - messages — количество sms-сообщений,<br>\n",
    "    - mb_used — израсходованный интернет-трафик в Мб,<br>\n",
    "    - is_ultra — каким тарифом пользовался в течение месяца («Ультра» — 1, «Смарт» — 0).<br>\n"
   ]
  },
  {
   "cell_type": "markdown",
   "metadata": {},
   "source": [
    "## Изучение файла и общей информаци о нем"
   ]
  },
  {
   "cell_type": "code",
   "execution_count": 1,
   "metadata": {},
   "outputs": [],
   "source": [
    "#импортируем все необходимые библиотеки\n",
    "import pandas as pd\n",
    "import numpy as np\n",
    "from sklearn.tree import DecisionTreeClassifier\n",
    "from sklearn.ensemble import RandomForestClassifier\n",
    "from sklearn.linear_model import LogisticRegression\n",
    "from sklearn.metrics import accuracy_score\n",
    "from sklearn.model_selection import train_test_split\n",
    "import warnings\n",
    "import random\n",
    "#Установим общее значение random_state для всех функций (создадим константу для передачи в качестве параметра функции)\n",
    "RANDOM_STATE = 12345"
   ]
  },
  {
   "cell_type": "code",
   "execution_count": 2,
   "metadata": {},
   "outputs": [
    {
     "name": "stdout",
     "output_type": "stream",
     "text": [
      "Первые 15 строк датасета: \n"
     ]
    },
    {
     "data": {
      "text/html": [
       "<div>\n",
       "<style scoped>\n",
       "    .dataframe tbody tr th:only-of-type {\n",
       "        vertical-align: middle;\n",
       "    }\n",
       "\n",
       "    .dataframe tbody tr th {\n",
       "        vertical-align: top;\n",
       "    }\n",
       "\n",
       "    .dataframe thead th {\n",
       "        text-align: right;\n",
       "    }\n",
       "</style>\n",
       "<table border=\"1\" class=\"dataframe\">\n",
       "  <thead>\n",
       "    <tr style=\"text-align: right;\">\n",
       "      <th></th>\n",
       "      <th>calls</th>\n",
       "      <th>minutes</th>\n",
       "      <th>messages</th>\n",
       "      <th>mb_used</th>\n",
       "      <th>is_ultra</th>\n",
       "    </tr>\n",
       "  </thead>\n",
       "  <tbody>\n",
       "    <tr>\n",
       "      <td>0</td>\n",
       "      <td>40.0</td>\n",
       "      <td>311.90</td>\n",
       "      <td>83.0</td>\n",
       "      <td>19915.42</td>\n",
       "      <td>0</td>\n",
       "    </tr>\n",
       "    <tr>\n",
       "      <td>1</td>\n",
       "      <td>85.0</td>\n",
       "      <td>516.75</td>\n",
       "      <td>56.0</td>\n",
       "      <td>22696.96</td>\n",
       "      <td>0</td>\n",
       "    </tr>\n",
       "    <tr>\n",
       "      <td>2</td>\n",
       "      <td>77.0</td>\n",
       "      <td>467.66</td>\n",
       "      <td>86.0</td>\n",
       "      <td>21060.45</td>\n",
       "      <td>0</td>\n",
       "    </tr>\n",
       "    <tr>\n",
       "      <td>3</td>\n",
       "      <td>106.0</td>\n",
       "      <td>745.53</td>\n",
       "      <td>81.0</td>\n",
       "      <td>8437.39</td>\n",
       "      <td>1</td>\n",
       "    </tr>\n",
       "    <tr>\n",
       "      <td>4</td>\n",
       "      <td>66.0</td>\n",
       "      <td>418.74</td>\n",
       "      <td>1.0</td>\n",
       "      <td>14502.75</td>\n",
       "      <td>0</td>\n",
       "    </tr>\n",
       "    <tr>\n",
       "      <td>5</td>\n",
       "      <td>58.0</td>\n",
       "      <td>344.56</td>\n",
       "      <td>21.0</td>\n",
       "      <td>15823.37</td>\n",
       "      <td>0</td>\n",
       "    </tr>\n",
       "    <tr>\n",
       "      <td>6</td>\n",
       "      <td>57.0</td>\n",
       "      <td>431.64</td>\n",
       "      <td>20.0</td>\n",
       "      <td>3738.90</td>\n",
       "      <td>1</td>\n",
       "    </tr>\n",
       "    <tr>\n",
       "      <td>7</td>\n",
       "      <td>15.0</td>\n",
       "      <td>132.40</td>\n",
       "      <td>6.0</td>\n",
       "      <td>21911.60</td>\n",
       "      <td>0</td>\n",
       "    </tr>\n",
       "    <tr>\n",
       "      <td>8</td>\n",
       "      <td>7.0</td>\n",
       "      <td>43.39</td>\n",
       "      <td>3.0</td>\n",
       "      <td>2538.67</td>\n",
       "      <td>1</td>\n",
       "    </tr>\n",
       "    <tr>\n",
       "      <td>9</td>\n",
       "      <td>90.0</td>\n",
       "      <td>665.41</td>\n",
       "      <td>38.0</td>\n",
       "      <td>17358.61</td>\n",
       "      <td>0</td>\n",
       "    </tr>\n",
       "  </tbody>\n",
       "</table>\n",
       "</div>"
      ],
      "text/plain": [
       "   calls  minutes  messages   mb_used  is_ultra\n",
       "0   40.0   311.90      83.0  19915.42         0\n",
       "1   85.0   516.75      56.0  22696.96         0\n",
       "2   77.0   467.66      86.0  21060.45         0\n",
       "3  106.0   745.53      81.0   8437.39         1\n",
       "4   66.0   418.74       1.0  14502.75         0\n",
       "5   58.0   344.56      21.0  15823.37         0\n",
       "6   57.0   431.64      20.0   3738.90         1\n",
       "7   15.0   132.40       6.0  21911.60         0\n",
       "8    7.0    43.39       3.0   2538.67         1\n",
       "9   90.0   665.41      38.0  17358.61         0"
      ]
     },
     "metadata": {},
     "output_type": "display_data"
    },
    {
     "name": "stdout",
     "output_type": "stream",
     "text": [
      "\n",
      "Общая информация о датасете:\n",
      "<class 'pandas.core.frame.DataFrame'>\n",
      "RangeIndex: 3214 entries, 0 to 3213\n",
      "Data columns (total 5 columns):\n",
      "calls       3214 non-null float64\n",
      "minutes     3214 non-null float64\n",
      "messages    3214 non-null float64\n",
      "mb_used     3214 non-null float64\n",
      "is_ultra    3214 non-null int64\n",
      "dtypes: float64(4), int64(1)\n",
      "memory usage: 125.7 KB\n",
      "None\n",
      "\n",
      "уникальные значения в столбце is_ultra::\n",
      "[0 1]\n"
     ]
    }
   ],
   "source": [
    "#откроем файл и посмотрим на него и общую информацию о нем\n",
    "users_beahaviour = pd.read_csv('/datasets/users_behavior.csv')\n",
    "print('Первые 15 строк датасета: ')\n",
    "display(users_beahaviour.head(10))\n",
    "print()\n",
    "print('Общая информация о датасете:')\n",
    "print(users_beahaviour.info())\n",
    "print()\n",
    "print('уникальные значения в столбце is_ultra::')\n",
    "print(users_beahaviour['is_ultra'].unique())"
   ]
  },
  {
   "cell_type": "markdown",
   "metadata": {},
   "source": [
    "<b>Вывод:</b><br>\n",
    "Согласно условию задачи,нам необходимо предложить пользователям один из двух тарифов: Smart или Ultra. В столбце is_ultra как раз содержится 2 уникальных значения: 0 - тариф Smart и 1 - тариф Ultra. Таким образом, можно говорить о том, что прогнозируемые данные - категориальные и нам предстроит задача классификации. В соответствии с этим в блок импортов выше впишем все необходимые библиотеки и классы:<br>\n",
    "<li>DecisionTreeClassifier</li>\n",
    "<li>RandomForestClassifier</li>\n",
    "<li>LogisticRegression</li>\n",
    "Таким образом, прогнозируемый параметр - is_ultra.<br>\n",
    "Все остальные столбцы в датасете - данные, на основании которых осуществляется прогноз. Согласно условию задачи, данные прошли предобработку, поэтому их можно использовать для построения моделей<br>\n",
    "Однако, возникает вопрос относительно необходимости столбца calls в анализе. Во-первых, само по себе количество вызовов не дает никакой картины по тому, сколько именно минут пользователь потратил в месяц (можно сделать 10 звонков длительностью по часу, а можно 30 звонков длительностью в одну минуту). А во-вторых, у нас действительно есть данные об общей продолительности звонков в течение месяца, что более информативно. Воплне возможно, наличие данного столбца может негативно повлиять на качество модели: как добавить продолжительности работы, так и привести к переобучению, например. В работе будем строить модели как со столбцом calls, так и без него, после чего сравним результат и веберем лучший.<br>\n",
    "Согласно полученной информации, разобьем данные на выборки.<br>"
   ]
  },
  {
   "cell_type": "markdown",
   "metadata": {},
   "source": [
    "## Разбиение данных на выборки"
   ]
  },
  {
   "cell_type": "code",
   "execution_count": 3,
   "metadata": {},
   "outputs": [
    {
     "name": "stdout",
     "output_type": "stream",
     "text": [
      "Размер тренировочной выборки:  (1928, 4) , доля от общей выборки: 60.0%\n",
      "Размер  валидационной выборки:  (643, 4) , доля от общей выборки: 20.0%\n",
      "Размер тестовой выборки:  (643, 4) , доля от общей выборки: 20.0%\n"
     ]
    }
   ],
   "source": [
    "#выделим отдельно features и target:\n",
    "users_behaviour_features = users_beahaviour.drop('is_ultra',axis = 1)\n",
    "users_behaviour_target = users_beahaviour['is_ultra']\n",
    "#разобьем данные на тренировочную и валидационную выборки (60% - обучающая, 20% - валидационная, 20%  - тестовая)\n",
    "users_beahaviour_features_train_valid, users_beahaviour_features_test, users_beahaviour_target_train_valid, users_beahaviour_target_test = train_test_split(users_behaviour_features, users_behaviour_target, test_size = 0.2, random_state = RANDOM_STATE)\n",
    "users_beahaviour_features_train, users_beahaviour_features_valid, users_beahaviour_target_train, users_beahaviour_target_valid = train_test_split(users_beahaviour_features_train_valid, users_beahaviour_target_train_valid, test_size = 0.25, random_state = RANDOM_STATE)\n",
    "#Выведем размеры полученных выборок:\n",
    "print('Размер тренировочной выборки: ',users_beahaviour_features_train.shape, ', доля от общей выборки: {:.1%}'.format(users_beahaviour_features_train.shape[0] / len(users_beahaviour)))\n",
    "print('Размер  валидационной выборки: ',users_beahaviour_features_valid.shape, ', доля от общей выборки: {:.1%}'.format(users_beahaviour_features_valid.shape[0] / len(users_beahaviour)))\n",
    "print('Размер тестовой выборки: ',users_beahaviour_features_test.shape, ', доля от общей выборки: {:.1%}'.format(users_beahaviour_features_test.shape[0] / len(users_beahaviour)))"
   ]
  },
  {
   "cell_type": "code",
   "execution_count": 4,
   "metadata": {},
   "outputs": [],
   "source": [
    "#создадим отдельно тренировочную, валидационную и тестовую выборки для данных без столбца calls\n",
    "users_beahaviour_features_train_wo_calls = users_beahaviour_features_train.drop('calls',axis = 1)\n",
    "users_beahaviour_features_valid_wo_calls = users_beahaviour_features_valid.drop('calls',axis = 1)\n",
    "users_beahaviour_features_test_wo_calls = users_beahaviour_features_test.drop('calls',axis = 1)"
   ]
  },
  {
   "cell_type": "markdown",
   "metadata": {},
   "source": [
    "<b>Вывод:</b><br>\n",
    "в связи с тем, что, по условию задачи, тестовая выборка должна быть выбрана из исходного датасета, все данные разделили согласно следующему сценарию: 60% - на обучающую выборку, 20% - на валидационную, 20% - на тестовую (обычно размеры тестовой и валидационной выборки равны, это наиболее часто используемый сценарий).<br>\n",
    "Таким образом, данные разделены на выборки, можно обучать и проверять модели."
   ]
  },
  {
   "cell_type": "markdown",
   "metadata": {},
   "source": [
    "## Исследуйте модели"
   ]
  },
  {
   "cell_type": "markdown",
   "metadata": {},
   "source": [
    "<b>Для начала рассмотрим модель дерева решений</b>. Для построения оптимальной модели дерева решений (чтобы снизить как склонность к переобучению, так и склонность к недообучению), проведем ряд экспериментов с решающим деревом: подберем оптимальную глубину max_depth и посчитаем accuracy для каждой. <br>\n",
    "Для начала посчитаем accuracy для модели без ограничений по глубине: в этом случае модель будет максимально медленной, а также максимально склонной к переобучению, однако мы будем иметь представление о максимально возможной глубине, что позволит ориентироваться при подборе проверяемых значений гиперпараметра max_depth\n",
    "Если дерево высокое, у модели склонность к переобучению; низкое — к недообучению."
   ]
  },
  {
   "cell_type": "code",
   "execution_count": 5,
   "metadata": {},
   "outputs": [
    {
     "name": "stdout",
     "output_type": "stream",
     "text": [
      "Результаты для модели на полных данных: \n",
      "Значение accuracy = 0.7122861586314152  при max_depth = None\n",
      "Глубина дерева решений, для которого параметр max_depth = None 28\n",
      "Наибольшее значение accuracy = 0.7573872472783826  при max_depth =  7\n",
      "\n",
      "Результаты для модели без столбца calls:\n",
      "Значение accuracy = 0.6982892690513219  при max_depth = None\n",
      "Глубина дерева решений, для которого параметр max_depth = None 27\n",
      "Наибольшее значение accuracy = 0.7371695178849145  при max_depth =  7\n"
     ]
    }
   ],
   "source": [
    "#функция создания модели DecisionTreeClassifier (учитывает как данные без max_depth, так и с ним. )\n",
    "def make_best_decision_tree_classifier(features_train, target_train, features_valid, target_valid, depth): \n",
    "    if depth != None: #если указано значение depth, до которого стоит провести проверку, чтобы найти значение с максимальным accuracy\n",
    "        best_model = None\n",
    "        best_depth = 0\n",
    "        best_accuracy = 0\n",
    "        for i in range(1,depth): #создаем модели до depth\n",
    "            model = DecisionTreeClassifier(random_state = RANDOM_STATE, max_depth = i)\n",
    "            model.fit(features_train, target_train)\n",
    "            accuracy = model.score(features_valid, target_valid)\n",
    "            if accuracy > best_accuracy:\n",
    "                best_accuracy = accuracy\n",
    "                best_model = model\n",
    "                best_depth = i\n",
    "        print('Наибольшее значение accuracy =',accuracy,' при max_depth = ', best_depth)\n",
    "        return best_model\n",
    "    else: #если не указано значение depth\n",
    "        model = DecisionTreeClassifier(random_state = RANDOM_STATE)\n",
    "        model.fit(features_train, target_train)\n",
    "        accuracy = model.score(features_valid, target_valid)\n",
    "        print('Значение accuracy =',accuracy,' при max_depth = None')\n",
    "        return model\n",
    "\n",
    "max_depth = 15\n",
    "#Проверим модели на полных данных:    \n",
    "print('Результаты для модели на полных данных: ')\n",
    "DecisionTreeClassifier_model_without_max_depth =  make_best_decision_tree_classifier(users_beahaviour_features_train, users_beahaviour_target_train, users_beahaviour_features_valid, users_beahaviour_target_valid, None)      \n",
    "print('Глубина дерева решений, для которого параметр max_depth = None', DecisionTreeClassifier_model_without_max_depth.get_depth())\n",
    "best_DecisionTreeClassifier_model_with_max_depth =  make_best_decision_tree_classifier(users_beahaviour_features_train, users_beahaviour_target_train, users_beahaviour_features_valid, users_beahaviour_target_valid, max_depth)  \n",
    "#Проверим модели на данных без столбца calls\n",
    "print()\n",
    "print('Результаты для модели без столбца calls:')\n",
    "DecisionTreeClassifier_model_wo_calls_without_max_depth =  make_best_decision_tree_classifier(users_beahaviour_features_train_wo_calls, users_beahaviour_target_train, users_beahaviour_features_valid_wo_calls, users_beahaviour_target_valid, None)      \n",
    "print('Глубина дерева решений, для которого параметр max_depth = None', DecisionTreeClassifier_model_wo_calls_without_max_depth.get_depth())\n",
    "best_DecisionTreeClassifier_model_wo_calls_with_max_depth =  make_best_decision_tree_classifier(users_beahaviour_features_train_wo_calls, users_beahaviour_target_train, users_beahaviour_features_valid_wo_calls, users_beahaviour_target_valid, max_depth)  \n",
    "\n"
   ]
  },
  {
   "cell_type": "markdown",
   "metadata": {},
   "source": [
    "Можно видеть, что accuracy выше для модели на полных данных, причем max_depth при наибольшем значении accuracy одинаков для обеих моделей и равен 7. Соответственно, примем это значение за оптимальное "
   ]
  },
  {
   "cell_type": "markdown",
   "metadata": {},
   "source": [
    "<b>Проверим модель RandomForestClassifier</b>. Проведем эксперименты с количеством деревьев от 1 до 10. Для каждого из них проведем эксперимент по поиску оптимальной глубины max_depth. Это позволит построить модель с наибольшим значением accuracy"
   ]
  },
  {
   "cell_type": "code",
   "execution_count": 6,
   "metadata": {},
   "outputs": [
    {
     "name": "stdout",
     "output_type": "stream",
     "text": [
      "Результаты для модели на полных данных: \n",
      "Наибольшее значение accuracy = 0.702954898911353  при depth =  None и n_estimators =  1\n",
      "None\n",
      "Наибольшее значение accuracy = 0.776049766718507  при max_depth =  7 и n_estimators =  1\n",
      "\n",
      "Результаты для модели на данных без calls: \n",
      "Наибольшее значение accuracy = 0.7356143079315708  при depth =  None и n_estimators =  1\n",
      "None\n",
      "Наибольшее значение accuracy = 0.7713841368584758  при max_depth =  9 и n_estimators =  1\n"
     ]
    }
   ],
   "source": [
    "# Функция для создания моделей RandomForestClassifier и определения лучшей\n",
    "def make_best_decision_forest_classifier(features_train, target_train, features_valid, target_valid, estimators, depth):\n",
    "    best_model = None\n",
    "    best_estimators = 0\n",
    "    best_depth = 0\n",
    "    best_accuracy = 0\n",
    "    for i in range(1,estimators):\n",
    "        if depth !=None:\n",
    "            for j in range(1,depth):\n",
    "                model = RandomForestClassifier(random_state = RANDOM_STATE, max_depth = j, n_estimators = i)\n",
    "                model.fit(features_train, target_train)\n",
    "                accuracy = model.score(features_valid, target_valid)\n",
    "                if accuracy > best_accuracy:\n",
    "                    best_accuracy = accuracy\n",
    "                    best_model = model\n",
    "                    best_depth = j\n",
    "                    best_estimators = i\n",
    "            print('Наибольшее значение accuracy =',accuracy,' при max_depth = ', best_depth, 'и n_estimators = ',best_estimators)\n",
    "            return best_model\n",
    "        else:\n",
    "            model = RandomForestClassifier(random_state = RANDOM_STATE, max_depth = depth, n_estimators = i)\n",
    "            model.fit(features_train, target_train)\n",
    "            accuracy = model.score(features_valid, target_valid)\n",
    "            if accuracy > best_accuracy:\n",
    "                best_accuracy = accuracy\n",
    "                best_model = model\n",
    "                best_estimators = i\n",
    "        print(print('Наибольшее значение accuracy =',accuracy,' при depth = ', depth, 'и n_estimators = ',best_estimators))\n",
    "        return best_model\n",
    "\n",
    "#зададим значения гиперпараметров:\n",
    "estimators = 11\n",
    "max_depth = 10\n",
    "#Проверим модели на полных данных:    \n",
    "print('Результаты для модели на полных данных: ')\n",
    "ForestClassifier_model_without_max_depth =  make_best_decision_forest_classifier(users_beahaviour_features_train, users_beahaviour_target_train, users_beahaviour_features_valid, users_beahaviour_target_valid, estimators,None)      \n",
    "best_ForestClassifier_model_with_max_depth =  make_best_decision_forest_classifier(users_beahaviour_features_train, users_beahaviour_target_train, users_beahaviour_features_valid, users_beahaviour_target_valid, estimators ,max_depth)  \n",
    "print()\n",
    "print('Результаты для модели на данных без calls: ')\n",
    "ForestClassifier_model_wo_calls_without_max_depth =  make_best_decision_forest_classifier(users_beahaviour_features_train_wo_calls, users_beahaviour_target_train, users_beahaviour_features_valid_wo_calls, users_beahaviour_target_valid, estimators,None)      \n",
    "best_ForestClassifier_model_wo_calls_with_max_depth =  make_best_decision_forest_classifier(users_beahaviour_features_train_wo_calls, users_beahaviour_target_train, users_beahaviour_features_valid_wo_calls, users_beahaviour_target_valid, estimators ,max_depth)  \n",
    "\n"
   ]
  },
  {
   "cell_type": "markdown",
   "metadata": {},
   "source": [
    "В данном случае также наибольшее значение accuracy достигается на модели для полных данных с n_estimators = 1 и max_depth = 7"
   ]
  },
  {
   "cell_type": "markdown",
   "metadata": {},
   "source": [
    "<b>Проверим модель логистической регрессии</b>"
   ]
  },
  {
   "cell_type": "code",
   "execution_count": 7,
   "metadata": {},
   "outputs": [
    {
     "name": "stdout",
     "output_type": "stream",
     "text": [
      "Результаты для модели на полных данных: \n",
      "Accuracy модели =  0.6967340590979783\n",
      "\n",
      "Результаты для модели на данных без calls: \n",
      "Accuracy модели =  0.7013996889580093\n"
     ]
    }
   ],
   "source": [
    "#функция для создания логистической регрессии\n",
    "def make_best_decision_logistic_regression(features_train, target_train, features_valid, target_valid):\n",
    "    model=LogisticRegression(random_state = RANDOM_STATE)\n",
    "    model.fit(features_train, target_train)\n",
    "    accuracy = model.score(features_valid, target_valid)\n",
    "    print('Accuracy модели = ', accuracy)\n",
    "    return model\n",
    "\n",
    "warnings.filterwarnings(\"ignore\")\n",
    "\n",
    "#Проверим модели на полных данных:    \n",
    "print('Результаты для модели на полных данных: ')\n",
    "LogisticRegression_model =  make_best_decision_logistic_regression(users_beahaviour_features_train, users_beahaviour_target_train, users_beahaviour_features_valid, users_beahaviour_target_valid)      \n",
    "print()\n",
    "print('Результаты для модели на данных без calls: ')\n",
    "LogisticRegression_model_wo_calls =  make_best_decision_logistic_regression(users_beahaviour_features_train_wo_calls, users_beahaviour_target_train, users_beahaviour_features_valid_wo_calls, users_beahaviour_target_valid)      \n",
    "\n",
    "\n"
   ]
  },
  {
   "cell_type": "markdown",
   "metadata": {},
   "source": [
    "Результаты для модели логистической регрессии значительно ниже, чем для моделей \"дерево решений\" и \"лес решений\""
   ]
  },
  {
   "cell_type": "markdown",
   "metadata": {},
   "source": [
    "<b>Вывод:</b><br>\n",
    "Сведем воедино все полученные значения accuracy:\n",
    "<p align = left>\n",
    "<table>\n",
    "    <tr><td><b>Наименование и параметры модели</b></td><td><b>Accuracy для модели на полных данных</b></td><td><b>Accuracy для модели на данных без calls</b></td></tr>\n",
    "    <tr><td>DecisionTreeClassifier max_depth = 7</td><td>0.7620528771384136</td><td>0.7573872472783826</td></tr>\n",
    "    <tr><td>ForestClassifier n_estimators = 1 max_depth = 7 (9 для данных без calls)</td><td bgcolor = ffaa00>0.776049766718507</td><td bgcolor = #ffaa00>0.7713841368584758</td></tr>\n",
    "    <tr><td>LogisticRegression</td><td>0.6967340590979783</td><td>0.7013996889580093</td></tr>\n",
    "</table>    \n",
    "</p>\n",
    "Мы видим, что наибольшее значение accuracy достигается на модели ForestClassifier со значениями гиперпараметров max_depth = 7 и n_estimators = 1 (для модели с полными данными) и со значениями гиперпараметров max_depth = 9 и n_estimators = 1 (для модели с данными без calls)<br>\n",
    "Ввиду того, что n_estimators = 1, скорость работы модели не будет замедлена слишком сильно, а полученные значения max_depth должны минимизировать риски переобучения. Accuracy для данных моделей максимально высокая. Поэтому для проверки на тестовой выборке используем именно эту модель<br>"
   ]
  },
  {
   "cell_type": "markdown",
   "metadata": {},
   "source": [
    "## Проверьте модель на тестовой выборке"
   ]
  },
  {
   "cell_type": "markdown",
   "metadata": {},
   "source": [
    "Проверим модель ForestClassifier со значениями гиперпараметров n_estimators = 1 max_depth = 7 на тестовой выборке для модели с полными данными"
   ]
  },
  {
   "cell_type": "code",
   "execution_count": 8,
   "metadata": {},
   "outputs": [
    {
     "name": "stdout",
     "output_type": "stream",
     "text": [
      "Значение accuracy для тестовых данных (для модели на полных данных):  0.7869362363919129\n"
     ]
    }
   ],
   "source": [
    "# best_ForestClassifier_model_with_max_depth - модель ForestClassifier со значениями гиперпараметров n_estimators = 1 max_depth = 7\n",
    "users_beahaviour_test_predict = best_ForestClassifier_model_with_max_depth.predict(users_beahaviour_features_test)\n",
    "accuracy_score = accuracy_score(users_beahaviour_target_test, users_beahaviour_test_predict)\n",
    "print('Значение accuracy для тестовых данных (для модели на полных данных): ',accuracy_score)"
   ]
  },
  {
   "cell_type": "markdown",
   "metadata": {},
   "source": [
    "Проверим модель ForestClassifier со значениями гиперпараметров n_estimators = 1 max_depth = 9 на тестовой выборке для модели с  данными без calls"
   ]
  },
  {
   "cell_type": "code",
   "execution_count": 9,
   "metadata": {},
   "outputs": [
    {
     "name": "stdout",
     "output_type": "stream",
     "text": [
      "Значение accuracy для тестовых данных (для модели на данных без calls):  0.7713841368584758\n"
     ]
    }
   ],
   "source": [
    "users_beahaviour_test_predict_wo_calls = best_DecisionTreeClassifier_model_wo_calls_with_max_depth.predict(users_beahaviour_features_test_wo_calls)\n",
    "accuracy_score = best_DecisionTreeClassifier_model_wo_calls_with_max_depth.score(users_beahaviour_features_test_wo_calls,users_beahaviour_target_test)\n",
    "print('Значение accuracy для тестовых данных (для модели на данных без calls): ',accuracy_score)"
   ]
  },
  {
   "cell_type": "markdown",
   "metadata": {},
   "source": [
    "<b>Вывод</b><br>\n",
    "Значение accuracy для тестовых данных осталость по-прежнему высоким, даже выше, чем для валидационных данных. Значение accuracy для модели на полных данных выше, чем для модели на данных без calls. По проведенным тестам модель на полных данных более точная. Осталось провести проверку модели на адекватность"
   ]
  },
  {
   "cell_type": "markdown",
   "metadata": {},
   "source": [
    "<h2>Общий вывод:</h2>"
   ]
  },
  {
   "cell_type": "markdown",
   "metadata": {},
   "source": [
    "Наиболее высокое значение accuracy покзала модель ForestClassifier на полных данных при max_depth = 7 и n_estimators = 1. Accuarcy данной модели на валидационной выбоке 77,6%, на тестовой - 78,69%.\n",
    "Все значения accuracy для модели данных без calls заметно ниже, чем для полных данных, что говорит о том, что модель на полных данных более точна. "
   ]
  }
 ],
 "metadata": {
  "kernelspec": {
   "display_name": "Python 3",
   "language": "python",
   "name": "python3"
  },
  "language_info": {
   "codemirror_mode": {
    "name": "ipython",
    "version": 3
   },
   "file_extension": ".py",
   "mimetype": "text/x-python",
   "name": "python",
   "nbconvert_exporter": "python",
   "pygments_lexer": "ipython3",
   "version": "3.9.5"
  },
  "toc": {
   "base_numbering": 1,
   "nav_menu": {},
   "number_sections": true,
   "sideBar": true,
   "skip_h1_title": true,
   "title_cell": "Table of Contents",
   "title_sidebar": "Contents",
   "toc_cell": false,
   "toc_position": {},
   "toc_section_display": true,
   "toc_window_display": false
  }
 },
 "nbformat": 4,
 "nbformat_minor": 2
}
