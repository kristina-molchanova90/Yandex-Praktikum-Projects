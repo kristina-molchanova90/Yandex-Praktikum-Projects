{
 "cells": [
  {
   "cell_type": "markdown",
   "metadata": {},
   "source": [
    "# Отток клиентов"
   ]
  },
  {
   "cell_type": "markdown",
   "metadata": {},
   "source": [
    "Необходимо спрогнозировать, уйдёт клиент из банка в ближайшее время или нет на основании исторических данные о поведении клиентов и расторжении договоров с банком. "
   ]
  },
  {
   "cell_type": "markdown",
   "metadata": {},
   "source": [
    "<b>Цель:</b> Обучить модель, которая сможет спрогнозировать уйдет ли клиент в ближайшее время или нет<br>\n",
    "<b>Задачи:</b><br>\n",
    "    1. Подготовить датасет к анализу<br>\n",
    "    2. Определить, есть ли дисбаланс классов<br>\n",
    "    3. Обучить модели дерево решений, лес решений, логистическая регрессия без учета дисбаланса классов<br>\n",
    "    4. обучить эти же модели, применяя различне методы борьбы с дисбалансом классов:<br>\n",
    "       - взвешивание классов<br>\n",
    "       - увеличение классов<br>\n",
    "       - уменьшение классов<br>\n",
    "    5. Найти лучшую модель с f1 не менее 0,59  и протестировать ее, сравнить с AUC-ROC"
   ]
  },
  {
   "cell_type": "markdown",
   "metadata": {},
   "source": [
    "## Подготовка данных"
   ]
  },
  {
   "cell_type": "markdown",
   "metadata": {},
   "source": [
    "Сделаем все необходимые импорты:"
   ]
  },
  {
   "cell_type": "code",
   "execution_count": 4,
   "metadata": {},
   "outputs": [],
   "source": [
    "import pandas as pd\n",
    "import numpy as np\n",
    "from sklearn.tree import DecisionTreeClassifier\n",
    "from sklearn.ensemble import RandomForestClassifier\n",
    "from sklearn.linear_model import LogisticRegression\n",
    "from sklearn.model_selection import train_test_split\n",
    "from sklearn.preprocessing import StandardScaler\n",
    "from sklearn.metrics import accuracy_score, confusion_matrix, recall_score, precision_score, roc_curve, f1_score, roc_auc_score\n",
    "from sklearn.utils import shuffle\n",
    "import warnings\n",
    "import matplotlib.pyplot as plt\n",
    "RANDOM_STATE = 12345"
   ]
  },
  {
   "cell_type": "markdown",
   "metadata": {},
   "source": [
    "Откроем файл и изучим его:"
   ]
  },
  {
   "cell_type": "code",
   "execution_count": 5,
   "metadata": {},
   "outputs": [
    {
     "name": "stdout",
     "output_type": "stream",
     "text": [
      "<class 'pandas.core.frame.DataFrame'>\n",
      "RangeIndex: 10000 entries, 0 to 9999\n",
      "Data columns (total 14 columns):\n",
      "RowNumber          10000 non-null int64\n",
      "CustomerId         10000 non-null int64\n",
      "Surname            10000 non-null object\n",
      "CreditScore        10000 non-null int64\n",
      "Geography          10000 non-null object\n",
      "Gender             10000 non-null object\n",
      "Age                10000 non-null int64\n",
      "Tenure             9091 non-null float64\n",
      "Balance            10000 non-null float64\n",
      "NumOfProducts      10000 non-null int64\n",
      "HasCrCard          10000 non-null int64\n",
      "IsActiveMember     10000 non-null int64\n",
      "EstimatedSalary    10000 non-null float64\n",
      "Exited             10000 non-null int64\n",
      "dtypes: float64(3), int64(8), object(3)\n",
      "memory usage: 1.1+ MB\n",
      "None\n"
     ]
    },
    {
     "data": {
      "text/html": [
       "<div>\n",
       "<style scoped>\n",
       "    .dataframe tbody tr th:only-of-type {\n",
       "        vertical-align: middle;\n",
       "    }\n",
       "\n",
       "    .dataframe tbody tr th {\n",
       "        vertical-align: top;\n",
       "    }\n",
       "\n",
       "    .dataframe thead th {\n",
       "        text-align: right;\n",
       "    }\n",
       "</style>\n",
       "<table border=\"1\" class=\"dataframe\">\n",
       "  <thead>\n",
       "    <tr style=\"text-align: right;\">\n",
       "      <th></th>\n",
       "      <th>RowNumber</th>\n",
       "      <th>CustomerId</th>\n",
       "      <th>Surname</th>\n",
       "      <th>CreditScore</th>\n",
       "      <th>Geography</th>\n",
       "      <th>Gender</th>\n",
       "      <th>Age</th>\n",
       "      <th>Tenure</th>\n",
       "      <th>Balance</th>\n",
       "      <th>NumOfProducts</th>\n",
       "      <th>HasCrCard</th>\n",
       "      <th>IsActiveMember</th>\n",
       "      <th>EstimatedSalary</th>\n",
       "      <th>Exited</th>\n",
       "    </tr>\n",
       "  </thead>\n",
       "  <tbody>\n",
       "    <tr>\n",
       "      <td>0</td>\n",
       "      <td>1</td>\n",
       "      <td>15634602</td>\n",
       "      <td>Hargrave</td>\n",
       "      <td>619</td>\n",
       "      <td>France</td>\n",
       "      <td>Female</td>\n",
       "      <td>42</td>\n",
       "      <td>2.0</td>\n",
       "      <td>0.00</td>\n",
       "      <td>1</td>\n",
       "      <td>1</td>\n",
       "      <td>1</td>\n",
       "      <td>101348.88</td>\n",
       "      <td>1</td>\n",
       "    </tr>\n",
       "    <tr>\n",
       "      <td>1</td>\n",
       "      <td>2</td>\n",
       "      <td>15647311</td>\n",
       "      <td>Hill</td>\n",
       "      <td>608</td>\n",
       "      <td>Spain</td>\n",
       "      <td>Female</td>\n",
       "      <td>41</td>\n",
       "      <td>1.0</td>\n",
       "      <td>83807.86</td>\n",
       "      <td>1</td>\n",
       "      <td>0</td>\n",
       "      <td>1</td>\n",
       "      <td>112542.58</td>\n",
       "      <td>0</td>\n",
       "    </tr>\n",
       "    <tr>\n",
       "      <td>2</td>\n",
       "      <td>3</td>\n",
       "      <td>15619304</td>\n",
       "      <td>Onio</td>\n",
       "      <td>502</td>\n",
       "      <td>France</td>\n",
       "      <td>Female</td>\n",
       "      <td>42</td>\n",
       "      <td>8.0</td>\n",
       "      <td>159660.80</td>\n",
       "      <td>3</td>\n",
       "      <td>1</td>\n",
       "      <td>0</td>\n",
       "      <td>113931.57</td>\n",
       "      <td>1</td>\n",
       "    </tr>\n",
       "    <tr>\n",
       "      <td>3</td>\n",
       "      <td>4</td>\n",
       "      <td>15701354</td>\n",
       "      <td>Boni</td>\n",
       "      <td>699</td>\n",
       "      <td>France</td>\n",
       "      <td>Female</td>\n",
       "      <td>39</td>\n",
       "      <td>1.0</td>\n",
       "      <td>0.00</td>\n",
       "      <td>2</td>\n",
       "      <td>0</td>\n",
       "      <td>0</td>\n",
       "      <td>93826.63</td>\n",
       "      <td>0</td>\n",
       "    </tr>\n",
       "    <tr>\n",
       "      <td>4</td>\n",
       "      <td>5</td>\n",
       "      <td>15737888</td>\n",
       "      <td>Mitchell</td>\n",
       "      <td>850</td>\n",
       "      <td>Spain</td>\n",
       "      <td>Female</td>\n",
       "      <td>43</td>\n",
       "      <td>2.0</td>\n",
       "      <td>125510.82</td>\n",
       "      <td>1</td>\n",
       "      <td>1</td>\n",
       "      <td>1</td>\n",
       "      <td>79084.10</td>\n",
       "      <td>0</td>\n",
       "    </tr>\n",
       "    <tr>\n",
       "      <td>5</td>\n",
       "      <td>6</td>\n",
       "      <td>15574012</td>\n",
       "      <td>Chu</td>\n",
       "      <td>645</td>\n",
       "      <td>Spain</td>\n",
       "      <td>Male</td>\n",
       "      <td>44</td>\n",
       "      <td>8.0</td>\n",
       "      <td>113755.78</td>\n",
       "      <td>2</td>\n",
       "      <td>1</td>\n",
       "      <td>0</td>\n",
       "      <td>149756.71</td>\n",
       "      <td>1</td>\n",
       "    </tr>\n",
       "    <tr>\n",
       "      <td>6</td>\n",
       "      <td>7</td>\n",
       "      <td>15592531</td>\n",
       "      <td>Bartlett</td>\n",
       "      <td>822</td>\n",
       "      <td>France</td>\n",
       "      <td>Male</td>\n",
       "      <td>50</td>\n",
       "      <td>7.0</td>\n",
       "      <td>0.00</td>\n",
       "      <td>2</td>\n",
       "      <td>1</td>\n",
       "      <td>1</td>\n",
       "      <td>10062.80</td>\n",
       "      <td>0</td>\n",
       "    </tr>\n",
       "    <tr>\n",
       "      <td>7</td>\n",
       "      <td>8</td>\n",
       "      <td>15656148</td>\n",
       "      <td>Obinna</td>\n",
       "      <td>376</td>\n",
       "      <td>Germany</td>\n",
       "      <td>Female</td>\n",
       "      <td>29</td>\n",
       "      <td>4.0</td>\n",
       "      <td>115046.74</td>\n",
       "      <td>4</td>\n",
       "      <td>1</td>\n",
       "      <td>0</td>\n",
       "      <td>119346.88</td>\n",
       "      <td>1</td>\n",
       "    </tr>\n",
       "    <tr>\n",
       "      <td>8</td>\n",
       "      <td>9</td>\n",
       "      <td>15792365</td>\n",
       "      <td>He</td>\n",
       "      <td>501</td>\n",
       "      <td>France</td>\n",
       "      <td>Male</td>\n",
       "      <td>44</td>\n",
       "      <td>4.0</td>\n",
       "      <td>142051.07</td>\n",
       "      <td>2</td>\n",
       "      <td>0</td>\n",
       "      <td>1</td>\n",
       "      <td>74940.50</td>\n",
       "      <td>0</td>\n",
       "    </tr>\n",
       "    <tr>\n",
       "      <td>9</td>\n",
       "      <td>10</td>\n",
       "      <td>15592389</td>\n",
       "      <td>H?</td>\n",
       "      <td>684</td>\n",
       "      <td>France</td>\n",
       "      <td>Male</td>\n",
       "      <td>27</td>\n",
       "      <td>2.0</td>\n",
       "      <td>134603.88</td>\n",
       "      <td>1</td>\n",
       "      <td>1</td>\n",
       "      <td>1</td>\n",
       "      <td>71725.73</td>\n",
       "      <td>0</td>\n",
       "    </tr>\n",
       "  </tbody>\n",
       "</table>\n",
       "</div>"
      ],
      "text/plain": [
       "   RowNumber  CustomerId   Surname  CreditScore Geography  Gender  Age  \\\n",
       "0          1    15634602  Hargrave          619    France  Female   42   \n",
       "1          2    15647311      Hill          608     Spain  Female   41   \n",
       "2          3    15619304      Onio          502    France  Female   42   \n",
       "3          4    15701354      Boni          699    France  Female   39   \n",
       "4          5    15737888  Mitchell          850     Spain  Female   43   \n",
       "5          6    15574012       Chu          645     Spain    Male   44   \n",
       "6          7    15592531  Bartlett          822    France    Male   50   \n",
       "7          8    15656148    Obinna          376   Germany  Female   29   \n",
       "8          9    15792365        He          501    France    Male   44   \n",
       "9         10    15592389        H?          684    France    Male   27   \n",
       "\n",
       "   Tenure    Balance  NumOfProducts  HasCrCard  IsActiveMember  \\\n",
       "0     2.0       0.00              1          1               1   \n",
       "1     1.0   83807.86              1          0               1   \n",
       "2     8.0  159660.80              3          1               0   \n",
       "3     1.0       0.00              2          0               0   \n",
       "4     2.0  125510.82              1          1               1   \n",
       "5     8.0  113755.78              2          1               0   \n",
       "6     7.0       0.00              2          1               1   \n",
       "7     4.0  115046.74              4          1               0   \n",
       "8     4.0  142051.07              2          0               1   \n",
       "9     2.0  134603.88              1          1               1   \n",
       "\n",
       "   EstimatedSalary  Exited  \n",
       "0        101348.88       1  \n",
       "1        112542.58       0  \n",
       "2        113931.57       1  \n",
       "3         93826.63       0  \n",
       "4         79084.10       0  \n",
       "5        149756.71       1  \n",
       "6         10062.80       0  \n",
       "7        119346.88       1  \n",
       "8         74940.50       0  \n",
       "9         71725.73       0  "
      ]
     },
     "execution_count": 5,
     "metadata": {},
     "output_type": "execute_result"
    }
   ],
   "source": [
    "churn = pd.read_csv('/datasets/Churn.csv') #открываем файл\n",
    "print(churn.info()) #выводим общую информацию\n",
    "churn.head(10)"
   ]
  },
  {
   "cell_type": "markdown",
   "metadata": {},
   "source": [
    "Можно заметить, что в датасете есть нечисловые (object) столбцы: Surname, Geography, Gender. Преобразуем их в числовые методом OHE, так как он подходит и для деревьев решений, и для логистической регрессии. <br>\n",
    "В исходном датасете есть также столбцы: RowNumber, CustomerId,Surname. Крайне сомнительно, что эти столбцы  могут оказать какое-то влияние на то, уйдет клиент или нет. По сути дела, они представляют собой просто уникальные идентификаторы и фамилии пользователей. А вот риски переобучения модели здесь могут повышаться<br>\n",
    "Таким образом, я бы хотела построить и сравнить модели на двух возможных датасетах:\n",
    "<li>полный датасет churn</li>\n",
    "<li>датасет churn_wo_RN_CI - churn без столбцов CustomerId,RowNumber </li>"
   ]
  },
  {
   "cell_type": "markdown",
   "metadata": {},
   "source": [
    "Можно также заметить, что в столбце Tenure (сколько лет человек является клиентом банка).  Рассмотрим, что это за пропущенные значения и есть ли необходмость каким-либо образом заполнять пропуски"
   ]
  },
  {
   "cell_type": "code",
   "execution_count": 6,
   "metadata": {},
   "outputs": [
    {
     "data": {
      "text/html": [
       "<div>\n",
       "<style scoped>\n",
       "    .dataframe tbody tr th:only-of-type {\n",
       "        vertical-align: middle;\n",
       "    }\n",
       "\n",
       "    .dataframe tbody tr th {\n",
       "        vertical-align: top;\n",
       "    }\n",
       "\n",
       "    .dataframe thead th {\n",
       "        text-align: right;\n",
       "    }\n",
       "</style>\n",
       "<table border=\"1\" class=\"dataframe\">\n",
       "  <thead>\n",
       "    <tr style=\"text-align: right;\">\n",
       "      <th></th>\n",
       "      <th>RowNumber</th>\n",
       "      <th>CustomerId</th>\n",
       "      <th>Surname</th>\n",
       "      <th>CreditScore</th>\n",
       "      <th>Geography</th>\n",
       "      <th>Gender</th>\n",
       "      <th>Age</th>\n",
       "      <th>Tenure</th>\n",
       "      <th>Balance</th>\n",
       "      <th>NumOfProducts</th>\n",
       "      <th>HasCrCard</th>\n",
       "      <th>IsActiveMember</th>\n",
       "      <th>EstimatedSalary</th>\n",
       "      <th>Exited</th>\n",
       "    </tr>\n",
       "  </thead>\n",
       "  <tbody>\n",
       "    <tr>\n",
       "      <td>30</td>\n",
       "      <td>31</td>\n",
       "      <td>15589475</td>\n",
       "      <td>Azikiwe</td>\n",
       "      <td>591</td>\n",
       "      <td>Spain</td>\n",
       "      <td>Female</td>\n",
       "      <td>39</td>\n",
       "      <td>NaN</td>\n",
       "      <td>0.00</td>\n",
       "      <td>3</td>\n",
       "      <td>1</td>\n",
       "      <td>0</td>\n",
       "      <td>140469.38</td>\n",
       "      <td>1</td>\n",
       "    </tr>\n",
       "    <tr>\n",
       "      <td>48</td>\n",
       "      <td>49</td>\n",
       "      <td>15766205</td>\n",
       "      <td>Yin</td>\n",
       "      <td>550</td>\n",
       "      <td>Germany</td>\n",
       "      <td>Male</td>\n",
       "      <td>38</td>\n",
       "      <td>NaN</td>\n",
       "      <td>103391.38</td>\n",
       "      <td>1</td>\n",
       "      <td>0</td>\n",
       "      <td>1</td>\n",
       "      <td>90878.13</td>\n",
       "      <td>0</td>\n",
       "    </tr>\n",
       "    <tr>\n",
       "      <td>51</td>\n",
       "      <td>52</td>\n",
       "      <td>15768193</td>\n",
       "      <td>Trevisani</td>\n",
       "      <td>585</td>\n",
       "      <td>Germany</td>\n",
       "      <td>Male</td>\n",
       "      <td>36</td>\n",
       "      <td>NaN</td>\n",
       "      <td>146050.97</td>\n",
       "      <td>2</td>\n",
       "      <td>0</td>\n",
       "      <td>0</td>\n",
       "      <td>86424.57</td>\n",
       "      <td>0</td>\n",
       "    </tr>\n",
       "    <tr>\n",
       "      <td>53</td>\n",
       "      <td>54</td>\n",
       "      <td>15702298</td>\n",
       "      <td>Parkhill</td>\n",
       "      <td>655</td>\n",
       "      <td>Germany</td>\n",
       "      <td>Male</td>\n",
       "      <td>41</td>\n",
       "      <td>NaN</td>\n",
       "      <td>125561.97</td>\n",
       "      <td>1</td>\n",
       "      <td>0</td>\n",
       "      <td>0</td>\n",
       "      <td>164040.94</td>\n",
       "      <td>1</td>\n",
       "    </tr>\n",
       "    <tr>\n",
       "      <td>60</td>\n",
       "      <td>61</td>\n",
       "      <td>15651280</td>\n",
       "      <td>Hunter</td>\n",
       "      <td>742</td>\n",
       "      <td>Germany</td>\n",
       "      <td>Male</td>\n",
       "      <td>35</td>\n",
       "      <td>NaN</td>\n",
       "      <td>136857.00</td>\n",
       "      <td>1</td>\n",
       "      <td>0</td>\n",
       "      <td>0</td>\n",
       "      <td>84509.57</td>\n",
       "      <td>0</td>\n",
       "    </tr>\n",
       "    <tr>\n",
       "      <td>82</td>\n",
       "      <td>83</td>\n",
       "      <td>15641732</td>\n",
       "      <td>Mills</td>\n",
       "      <td>543</td>\n",
       "      <td>France</td>\n",
       "      <td>Female</td>\n",
       "      <td>36</td>\n",
       "      <td>NaN</td>\n",
       "      <td>0.00</td>\n",
       "      <td>2</td>\n",
       "      <td>0</td>\n",
       "      <td>0</td>\n",
       "      <td>26019.59</td>\n",
       "      <td>0</td>\n",
       "    </tr>\n",
       "    <tr>\n",
       "      <td>85</td>\n",
       "      <td>86</td>\n",
       "      <td>15805254</td>\n",
       "      <td>Ndukaku</td>\n",
       "      <td>652</td>\n",
       "      <td>Spain</td>\n",
       "      <td>Female</td>\n",
       "      <td>75</td>\n",
       "      <td>NaN</td>\n",
       "      <td>0.00</td>\n",
       "      <td>2</td>\n",
       "      <td>1</td>\n",
       "      <td>1</td>\n",
       "      <td>114675.75</td>\n",
       "      <td>0</td>\n",
       "    </tr>\n",
       "    <tr>\n",
       "      <td>94</td>\n",
       "      <td>95</td>\n",
       "      <td>15676966</td>\n",
       "      <td>Capon</td>\n",
       "      <td>730</td>\n",
       "      <td>Spain</td>\n",
       "      <td>Male</td>\n",
       "      <td>42</td>\n",
       "      <td>NaN</td>\n",
       "      <td>0.00</td>\n",
       "      <td>2</td>\n",
       "      <td>0</td>\n",
       "      <td>1</td>\n",
       "      <td>85982.47</td>\n",
       "      <td>0</td>\n",
       "    </tr>\n",
       "    <tr>\n",
       "      <td>99</td>\n",
       "      <td>100</td>\n",
       "      <td>15633059</td>\n",
       "      <td>Fanucci</td>\n",
       "      <td>413</td>\n",
       "      <td>France</td>\n",
       "      <td>Male</td>\n",
       "      <td>34</td>\n",
       "      <td>NaN</td>\n",
       "      <td>0.00</td>\n",
       "      <td>2</td>\n",
       "      <td>0</td>\n",
       "      <td>0</td>\n",
       "      <td>6534.18</td>\n",
       "      <td>0</td>\n",
       "    </tr>\n",
       "    <tr>\n",
       "      <td>111</td>\n",
       "      <td>112</td>\n",
       "      <td>15665790</td>\n",
       "      <td>Rowntree</td>\n",
       "      <td>538</td>\n",
       "      <td>Germany</td>\n",
       "      <td>Male</td>\n",
       "      <td>39</td>\n",
       "      <td>NaN</td>\n",
       "      <td>108055.10</td>\n",
       "      <td>2</td>\n",
       "      <td>1</td>\n",
       "      <td>0</td>\n",
       "      <td>27231.26</td>\n",
       "      <td>0</td>\n",
       "    </tr>\n",
       "  </tbody>\n",
       "</table>\n",
       "</div>"
      ],
      "text/plain": [
       "     RowNumber  CustomerId    Surname  CreditScore Geography  Gender  Age  \\\n",
       "30          31    15589475    Azikiwe          591     Spain  Female   39   \n",
       "48          49    15766205        Yin          550   Germany    Male   38   \n",
       "51          52    15768193  Trevisani          585   Germany    Male   36   \n",
       "53          54    15702298   Parkhill          655   Germany    Male   41   \n",
       "60          61    15651280     Hunter          742   Germany    Male   35   \n",
       "82          83    15641732      Mills          543    France  Female   36   \n",
       "85          86    15805254    Ndukaku          652     Spain  Female   75   \n",
       "94          95    15676966      Capon          730     Spain    Male   42   \n",
       "99         100    15633059    Fanucci          413    France    Male   34   \n",
       "111        112    15665790   Rowntree          538   Germany    Male   39   \n",
       "\n",
       "     Tenure    Balance  NumOfProducts  HasCrCard  IsActiveMember  \\\n",
       "30      NaN       0.00              3          1               0   \n",
       "48      NaN  103391.38              1          0               1   \n",
       "51      NaN  146050.97              2          0               0   \n",
       "53      NaN  125561.97              1          0               0   \n",
       "60      NaN  136857.00              1          0               0   \n",
       "82      NaN       0.00              2          0               0   \n",
       "85      NaN       0.00              2          1               1   \n",
       "94      NaN       0.00              2          0               1   \n",
       "99      NaN       0.00              2          0               0   \n",
       "111     NaN  108055.10              2          1               0   \n",
       "\n",
       "     EstimatedSalary  Exited  \n",
       "30         140469.38       1  \n",
       "48          90878.13       0  \n",
       "51          86424.57       0  \n",
       "53         164040.94       1  \n",
       "60          84509.57       0  \n",
       "82          26019.59       0  \n",
       "85         114675.75       0  \n",
       "94          85982.47       0  \n",
       "99           6534.18       0  \n",
       "111         27231.26       0  "
      ]
     },
     "metadata": {},
     "output_type": "display_data"
    },
    {
     "name": "stdout",
     "output_type": "stream",
     "text": [
      "\n",
      "Уникальные значения в столбце Tenure:\n",
      "[ 2.  1.  8.  7.  4.  6.  3. 10.  5.  9.  0. nan]\n",
      "Уникальные значения в столбце Tenure после удаления:\n",
      "[ 2.  1.  8.  7.  4.  6.  3. 10.  5.  9.  0.]\n",
      "Общая информация о таблице после преобразования:\n",
      "<class 'pandas.core.frame.DataFrame'>\n",
      "Int64Index: 9091 entries, 0 to 9998\n",
      "Data columns (total 14 columns):\n",
      "RowNumber          9091 non-null int64\n",
      "CustomerId         9091 non-null int64\n",
      "Surname            9091 non-null object\n",
      "CreditScore        9091 non-null int64\n",
      "Geography          9091 non-null object\n",
      "Gender             9091 non-null object\n",
      "Age                9091 non-null int64\n",
      "Tenure             9091 non-null float64\n",
      "Balance            9091 non-null float64\n",
      "NumOfProducts      9091 non-null int64\n",
      "HasCrCard          9091 non-null int64\n",
      "IsActiveMember     9091 non-null int64\n",
      "EstimatedSalary    9091 non-null float64\n",
      "Exited             9091 non-null int64\n",
      "dtypes: float64(3), int64(8), object(3)\n",
      "memory usage: 1.0+ MB\n",
      "None\n"
     ]
    }
   ],
   "source": [
    "display(churn.query('Tenure.isna() == True').head(10))\n",
    "print()\n",
    "print('Уникальные значения в столбце Tenure:')\n",
    "print(churn['Tenure'].unique())\n",
    "#Удалим пропущенные значения\n",
    "churn = churn.dropna()\n",
    "print('Уникальные значения в столбце Tenure после удаления:')\n",
    "print(churn['Tenure'].unique())\n",
    "print('Общая информация о таблице после преобразования:')\n",
    "print(churn.info())"
   ]
  },
  {
   "cell_type": "markdown",
   "metadata": {},
   "source": [
    "Можно видеть, что пропуски в значениях достаточно случайны, сюда попали абсолютно разные клиенты банка, а также то, что в столбце Tenure содержатся уникальные значения от 0 до 10 лет. Для корректной работы модели нам необходимо, чтобы все значения были числовыми. Эти данные категориальные, их можно заменить только каким-то значением по умолчанию, и нулем оно быть уже не может, так как в списке уникальных значений уже есть 0. Любое числовое значение здесь может повлиять на результат, так что решено эти данные удалить. "
   ]
  },
  {
   "cell_type": "markdown",
   "metadata": {},
   "source": [
    "<b>Создадим дамми-признаки для столбцов с типом данных object</b>"
   ]
  },
  {
   "cell_type": "code",
   "execution_count": 7,
   "metadata": {},
   "outputs": [
    {
     "name": "stdout",
     "output_type": "stream",
     "text": [
      "\n",
      "Датасет с дамми-признаками:  Датасет на полных данных\n"
     ]
    },
    {
     "data": {
      "text/html": [
       "<div>\n",
       "<style scoped>\n",
       "    .dataframe tbody tr th:only-of-type {\n",
       "        vertical-align: middle;\n",
       "    }\n",
       "\n",
       "    .dataframe tbody tr th {\n",
       "        vertical-align: top;\n",
       "    }\n",
       "\n",
       "    .dataframe thead th {\n",
       "        text-align: right;\n",
       "    }\n",
       "</style>\n",
       "<table border=\"1\" class=\"dataframe\">\n",
       "  <thead>\n",
       "    <tr style=\"text-align: right;\">\n",
       "      <th></th>\n",
       "      <th>RowNumber</th>\n",
       "      <th>CustomerId</th>\n",
       "      <th>CreditScore</th>\n",
       "      <th>Age</th>\n",
       "      <th>Tenure</th>\n",
       "      <th>Balance</th>\n",
       "      <th>NumOfProducts</th>\n",
       "      <th>HasCrCard</th>\n",
       "      <th>IsActiveMember</th>\n",
       "      <th>EstimatedSalary</th>\n",
       "      <th>...</th>\n",
       "      <th>Surname_Zotova</th>\n",
       "      <th>Surname_Zox</th>\n",
       "      <th>Surname_Zubarev</th>\n",
       "      <th>Surname_Zubareva</th>\n",
       "      <th>Surname_Zuev</th>\n",
       "      <th>Surname_Zuyev</th>\n",
       "      <th>Surname_Zuyeva</th>\n",
       "      <th>Geography_Germany</th>\n",
       "      <th>Geography_Spain</th>\n",
       "      <th>Gender_Male</th>\n",
       "    </tr>\n",
       "  </thead>\n",
       "  <tbody>\n",
       "    <tr>\n",
       "      <td>0</td>\n",
       "      <td>1</td>\n",
       "      <td>15634602</td>\n",
       "      <td>619</td>\n",
       "      <td>42</td>\n",
       "      <td>2.0</td>\n",
       "      <td>0.00</td>\n",
       "      <td>1</td>\n",
       "      <td>1</td>\n",
       "      <td>1</td>\n",
       "      <td>101348.88</td>\n",
       "      <td>...</td>\n",
       "      <td>0</td>\n",
       "      <td>0</td>\n",
       "      <td>0</td>\n",
       "      <td>0</td>\n",
       "      <td>0</td>\n",
       "      <td>0</td>\n",
       "      <td>0</td>\n",
       "      <td>0</td>\n",
       "      <td>0</td>\n",
       "      <td>0</td>\n",
       "    </tr>\n",
       "    <tr>\n",
       "      <td>1</td>\n",
       "      <td>2</td>\n",
       "      <td>15647311</td>\n",
       "      <td>608</td>\n",
       "      <td>41</td>\n",
       "      <td>1.0</td>\n",
       "      <td>83807.86</td>\n",
       "      <td>1</td>\n",
       "      <td>0</td>\n",
       "      <td>1</td>\n",
       "      <td>112542.58</td>\n",
       "      <td>...</td>\n",
       "      <td>0</td>\n",
       "      <td>0</td>\n",
       "      <td>0</td>\n",
       "      <td>0</td>\n",
       "      <td>0</td>\n",
       "      <td>0</td>\n",
       "      <td>0</td>\n",
       "      <td>0</td>\n",
       "      <td>1</td>\n",
       "      <td>0</td>\n",
       "    </tr>\n",
       "    <tr>\n",
       "      <td>2</td>\n",
       "      <td>3</td>\n",
       "      <td>15619304</td>\n",
       "      <td>502</td>\n",
       "      <td>42</td>\n",
       "      <td>8.0</td>\n",
       "      <td>159660.80</td>\n",
       "      <td>3</td>\n",
       "      <td>1</td>\n",
       "      <td>0</td>\n",
       "      <td>113931.57</td>\n",
       "      <td>...</td>\n",
       "      <td>0</td>\n",
       "      <td>0</td>\n",
       "      <td>0</td>\n",
       "      <td>0</td>\n",
       "      <td>0</td>\n",
       "      <td>0</td>\n",
       "      <td>0</td>\n",
       "      <td>0</td>\n",
       "      <td>0</td>\n",
       "      <td>0</td>\n",
       "    </tr>\n",
       "  </tbody>\n",
       "</table>\n",
       "<p>3 rows × 2800 columns</p>\n",
       "</div>"
      ],
      "text/plain": [
       "   RowNumber  CustomerId  CreditScore  Age  Tenure    Balance  NumOfProducts  \\\n",
       "0          1    15634602          619   42     2.0       0.00              1   \n",
       "1          2    15647311          608   41     1.0   83807.86              1   \n",
       "2          3    15619304          502   42     8.0  159660.80              3   \n",
       "\n",
       "   HasCrCard  IsActiveMember  EstimatedSalary  ...  Surname_Zotova  \\\n",
       "0          1               1        101348.88  ...               0   \n",
       "1          0               1        112542.58  ...               0   \n",
       "2          1               0        113931.57  ...               0   \n",
       "\n",
       "   Surname_Zox  Surname_Zubarev  Surname_Zubareva  Surname_Zuev  \\\n",
       "0            0                0                 0             0   \n",
       "1            0                0                 0             0   \n",
       "2            0                0                 0             0   \n",
       "\n",
       "   Surname_Zuyev  Surname_Zuyeva  Geography_Germany  Geography_Spain  \\\n",
       "0              0               0                  0                0   \n",
       "1              0               0                  0                1   \n",
       "2              0               0                  0                0   \n",
       "\n",
       "   Gender_Male  \n",
       "0            0  \n",
       "1            0  \n",
       "2            0  \n",
       "\n",
       "[3 rows x 2800 columns]"
      ]
     },
     "metadata": {},
     "output_type": "display_data"
    },
    {
     "name": "stdout",
     "output_type": "stream",
     "text": [
      "Размер датасета: (9091, 2800)\n",
      "\n",
      "Датасет с дамми-признаками:  Датасет на данных без RowNumber, CustomerID, Surname, Surname\n"
     ]
    },
    {
     "data": {
      "text/html": [
       "<div>\n",
       "<style scoped>\n",
       "    .dataframe tbody tr th:only-of-type {\n",
       "        vertical-align: middle;\n",
       "    }\n",
       "\n",
       "    .dataframe tbody tr th {\n",
       "        vertical-align: top;\n",
       "    }\n",
       "\n",
       "    .dataframe thead th {\n",
       "        text-align: right;\n",
       "    }\n",
       "</style>\n",
       "<table border=\"1\" class=\"dataframe\">\n",
       "  <thead>\n",
       "    <tr style=\"text-align: right;\">\n",
       "      <th></th>\n",
       "      <th>CreditScore</th>\n",
       "      <th>Age</th>\n",
       "      <th>Tenure</th>\n",
       "      <th>Balance</th>\n",
       "      <th>NumOfProducts</th>\n",
       "      <th>HasCrCard</th>\n",
       "      <th>IsActiveMember</th>\n",
       "      <th>EstimatedSalary</th>\n",
       "      <th>Exited</th>\n",
       "      <th>Geography_Germany</th>\n",
       "      <th>Geography_Spain</th>\n",
       "      <th>Gender_Male</th>\n",
       "    </tr>\n",
       "  </thead>\n",
       "  <tbody>\n",
       "    <tr>\n",
       "      <td>0</td>\n",
       "      <td>619</td>\n",
       "      <td>42</td>\n",
       "      <td>2.0</td>\n",
       "      <td>0.00</td>\n",
       "      <td>1</td>\n",
       "      <td>1</td>\n",
       "      <td>1</td>\n",
       "      <td>101348.88</td>\n",
       "      <td>1</td>\n",
       "      <td>0</td>\n",
       "      <td>0</td>\n",
       "      <td>0</td>\n",
       "    </tr>\n",
       "    <tr>\n",
       "      <td>1</td>\n",
       "      <td>608</td>\n",
       "      <td>41</td>\n",
       "      <td>1.0</td>\n",
       "      <td>83807.86</td>\n",
       "      <td>1</td>\n",
       "      <td>0</td>\n",
       "      <td>1</td>\n",
       "      <td>112542.58</td>\n",
       "      <td>0</td>\n",
       "      <td>0</td>\n",
       "      <td>1</td>\n",
       "      <td>0</td>\n",
       "    </tr>\n",
       "    <tr>\n",
       "      <td>2</td>\n",
       "      <td>502</td>\n",
       "      <td>42</td>\n",
       "      <td>8.0</td>\n",
       "      <td>159660.80</td>\n",
       "      <td>3</td>\n",
       "      <td>1</td>\n",
       "      <td>0</td>\n",
       "      <td>113931.57</td>\n",
       "      <td>1</td>\n",
       "      <td>0</td>\n",
       "      <td>0</td>\n",
       "      <td>0</td>\n",
       "    </tr>\n",
       "  </tbody>\n",
       "</table>\n",
       "</div>"
      ],
      "text/plain": [
       "   CreditScore  Age  Tenure    Balance  NumOfProducts  HasCrCard  \\\n",
       "0          619   42     2.0       0.00              1          1   \n",
       "1          608   41     1.0   83807.86              1          0   \n",
       "2          502   42     8.0  159660.80              3          1   \n",
       "\n",
       "   IsActiveMember  EstimatedSalary  Exited  Geography_Germany  \\\n",
       "0               1        101348.88       1                  0   \n",
       "1               1        112542.58       0                  0   \n",
       "2               0        113931.57       1                  0   \n",
       "\n",
       "   Geography_Spain  Gender_Male  \n",
       "0                0            0  \n",
       "1                1            0  \n",
       "2                0            0  "
      ]
     },
     "metadata": {},
     "output_type": "display_data"
    },
    {
     "name": "stdout",
     "output_type": "stream",
     "text": [
      "Размер датасета: (9091, 12)\n",
      "\n",
      "Выведем уникальные значения в столбцах (для контроля корректности полученных дамми-признаков, а также определения необходимости стандартизации признаков):\n",
      "Уникальные значения в столбце Geography:  ['France' 'Spain' 'Germany']\n",
      "Уникальные значения в столбце NumOfProducts:  [1 3 2 4]\n",
      "Уникальные значения в столбце HasCrCard:  [1 0]\n",
      "Уникальные значения в столбце IsActiveMember:  [1 0]\n"
     ]
    }
   ],
   "source": [
    "def make_dummies_func(array, name): #Функция для создания дамми-признаков \n",
    "    dummy_array = pd.get_dummies(array, drop_first = True)\n",
    "    print()\n",
    "    print('Датасет с дамми-признаками: ',name)\n",
    "    display(dummy_array.head(3))\n",
    "    print('Размер датасета:', dummy_array.shape)\n",
    "    return dummy_array\n",
    "\n",
    "# Создадим дамми-признаки для датасета с полными даными:\n",
    "churn_ohe = make_dummies_func(churn, 'Датасет на полных данных')\n",
    "# Создадим дамми-признаки для датасета  без RowNumber, CustomerID, Surname, Surname:\n",
    "churn_wo_RN_CI = make_dummies_func(churn.drop(['RowNumber','CustomerId','Surname'],axis = 1), 'Датасет на данных без RowNumber, CustomerID, Surname, Surname')\n",
    "print()\n",
    "print('Выведем уникальные значения в столбцах (для контроля корректности полученных дамми-признаков, а также определения необходимости стандартизации признаков):')\n",
    "print('Уникальные значения в столбце Geography: ',churn['Geography'].unique())\n",
    "print('Уникальные значения в столбце NumOfProducts: ',churn['NumOfProducts'].unique())\n",
    "print('Уникальные значения в столбце HasCrCard: ',churn['HasCrCard'].unique())\n",
    "print('Уникальные значения в столбце IsActiveMember: ',churn['IsActiveMember'].unique())"
   ]
  },
  {
   "cell_type": "markdown",
   "metadata": {},
   "source": [
    "<b>Разделим датасеты на тренировочную, валидационную и тестовую выборки, стандартизируем признаки. </b><br>\n",
    "Разобьем датасеты на тестовую, валидационную и тренировочную выборки. Выделим целевой столбец и признаки.<br>\n",
    "Признаки имеют разный \"масштаб\".Для корректности работы модели (чтобы модель не считала некоторые признаки важнее остальных) проведем процедуру стандартизации этих признаков. "
   ]
  },
  {
   "cell_type": "code",
   "execution_count": 8,
   "metadata": {},
   "outputs": [
    {
     "name": "stdout",
     "output_type": "stream",
     "text": [
      "\n",
      "Размеры выборок для датасета:  Датасет на полных данных\n",
      "Размер тренировочной выборки: (5454, 2799)\n",
      "Размер валидационной выборки: (1818, 2799)\n",
      "Размер тестовой выборки: (1819, 2799)\n",
      "-------------------------------------------------\n",
      "\n",
      "Размеры выборок для датасета:  Датасет без RowNumber, CustomerID, Surname\n",
      "Размер тренировочной выборки: (5454, 11)\n",
      "Размер валидационной выборки: (1818, 11)\n",
      "Размер тестовой выборки: (1819, 11)\n",
      "-------------------------------------------------\n",
      "\n",
      "Пример churn_feat_train\n"
     ]
    },
    {
     "data": {
      "text/html": [
       "<div>\n",
       "<style scoped>\n",
       "    .dataframe tbody tr th:only-of-type {\n",
       "        vertical-align: middle;\n",
       "    }\n",
       "\n",
       "    .dataframe tbody tr th {\n",
       "        vertical-align: top;\n",
       "    }\n",
       "\n",
       "    .dataframe thead th {\n",
       "        text-align: right;\n",
       "    }\n",
       "</style>\n",
       "<table border=\"1\" class=\"dataframe\">\n",
       "  <thead>\n",
       "    <tr style=\"text-align: right;\">\n",
       "      <th></th>\n",
       "      <th>RowNumber</th>\n",
       "      <th>CustomerId</th>\n",
       "      <th>CreditScore</th>\n",
       "      <th>Age</th>\n",
       "      <th>Tenure</th>\n",
       "      <th>Balance</th>\n",
       "      <th>NumOfProducts</th>\n",
       "      <th>HasCrCard</th>\n",
       "      <th>IsActiveMember</th>\n",
       "      <th>EstimatedSalary</th>\n",
       "      <th>...</th>\n",
       "      <th>Surname_Zotova</th>\n",
       "      <th>Surname_Zox</th>\n",
       "      <th>Surname_Zubarev</th>\n",
       "      <th>Surname_Zubareva</th>\n",
       "      <th>Surname_Zuev</th>\n",
       "      <th>Surname_Zuyev</th>\n",
       "      <th>Surname_Zuyeva</th>\n",
       "      <th>Geography_Germany</th>\n",
       "      <th>Geography_Spain</th>\n",
       "      <th>Gender_Male</th>\n",
       "    </tr>\n",
       "  </thead>\n",
       "  <tbody>\n",
       "    <tr>\n",
       "      <td>3706</td>\n",
       "      <td>-0.443214</td>\n",
       "      <td>-0.471913</td>\n",
       "      <td>-0.203819</td>\n",
       "      <td>0.471273</td>\n",
       "      <td>0.352316</td>\n",
       "      <td>0.786022</td>\n",
       "      <td>0.782369</td>\n",
       "      <td>0</td>\n",
       "      <td>0</td>\n",
       "      <td>-0.357205</td>\n",
       "      <td>...</td>\n",
       "      <td>0</td>\n",
       "      <td>0</td>\n",
       "      <td>0</td>\n",
       "      <td>0</td>\n",
       "      <td>0</td>\n",
       "      <td>0</td>\n",
       "      <td>0</td>\n",
       "      <td>0</td>\n",
       "      <td>1</td>\n",
       "      <td>0</td>\n",
       "    </tr>\n",
       "    <tr>\n",
       "      <td>6805</td>\n",
       "      <td>0.630136</td>\n",
       "      <td>-1.588758</td>\n",
       "      <td>-0.357513</td>\n",
       "      <td>-0.384930</td>\n",
       "      <td>-1.373506</td>\n",
       "      <td>-1.230577</td>\n",
       "      <td>0.782369</td>\n",
       "      <td>1</td>\n",
       "      <td>1</td>\n",
       "      <td>-1.671048</td>\n",
       "      <td>...</td>\n",
       "      <td>0</td>\n",
       "      <td>0</td>\n",
       "      <td>0</td>\n",
       "      <td>0</td>\n",
       "      <td>0</td>\n",
       "      <td>0</td>\n",
       "      <td>0</td>\n",
       "      <td>0</td>\n",
       "      <td>0</td>\n",
       "      <td>0</td>\n",
       "    </tr>\n",
       "    <tr>\n",
       "      <td>4449</td>\n",
       "      <td>-0.185873</td>\n",
       "      <td>-1.709794</td>\n",
       "      <td>0.175290</td>\n",
       "      <td>-0.289797</td>\n",
       "      <td>-0.683177</td>\n",
       "      <td>-1.230577</td>\n",
       "      <td>0.782369</td>\n",
       "      <td>1</td>\n",
       "      <td>0</td>\n",
       "      <td>-1.119181</td>\n",
       "      <td>...</td>\n",
       "      <td>0</td>\n",
       "      <td>0</td>\n",
       "      <td>0</td>\n",
       "      <td>0</td>\n",
       "      <td>0</td>\n",
       "      <td>0</td>\n",
       "      <td>0</td>\n",
       "      <td>0</td>\n",
       "      <td>0</td>\n",
       "      <td>1</td>\n",
       "    </tr>\n",
       "  </tbody>\n",
       "</table>\n",
       "<p>3 rows × 2799 columns</p>\n",
       "</div>"
      ],
      "text/plain": [
       "      RowNumber  CustomerId  CreditScore       Age    Tenure   Balance  \\\n",
       "3706  -0.443214   -0.471913    -0.203819  0.471273  0.352316  0.786022   \n",
       "6805   0.630136   -1.588758    -0.357513 -0.384930 -1.373506 -1.230577   \n",
       "4449  -0.185873   -1.709794     0.175290 -0.289797 -0.683177 -1.230577   \n",
       "\n",
       "      NumOfProducts  HasCrCard  IsActiveMember  EstimatedSalary  ...  \\\n",
       "3706       0.782369          0               0        -0.357205  ...   \n",
       "6805       0.782369          1               1        -1.671048  ...   \n",
       "4449       0.782369          1               0        -1.119181  ...   \n",
       "\n",
       "      Surname_Zotova  Surname_Zox  Surname_Zubarev  Surname_Zubareva  \\\n",
       "3706               0            0                0                 0   \n",
       "6805               0            0                0                 0   \n",
       "4449               0            0                0                 0   \n",
       "\n",
       "      Surname_Zuev  Surname_Zuyev  Surname_Zuyeva  Geography_Germany  \\\n",
       "3706             0              0               0                  0   \n",
       "6805             0              0               0                  0   \n",
       "4449             0              0               0                  0   \n",
       "\n",
       "      Geography_Spain  Gender_Male  \n",
       "3706                1            0  \n",
       "6805                0            0  \n",
       "4449                0            1  \n",
       "\n",
       "[3 rows x 2799 columns]"
      ]
     },
     "execution_count": 8,
     "metadata": {},
     "output_type": "execute_result"
    }
   ],
   "source": [
    "# Функция для разбиения датасета на тренировочный, валидационный, тестовый и стандартизации признаков\n",
    "def create_Standartize_features_target(array,target_column,numeric_columns,dataset_name):\n",
    "    target = array[target_column]\n",
    "    features = array.drop(target_column,axis = 1)\n",
    "    #разбиваем на выборки: тренировочную, тестовую, валидационную\n",
    "    features_,features_test,target_,target_test = train_test_split(features,target,test_size = 0.2, random_state = RANDOM_STATE)\n",
    "    features_train,features_valid,target_train,target_valid = train_test_split(features_,target_,test_size = 0.25, random_state = RANDOM_STATE)\n",
    "    #стандартизируем\n",
    "    scaler = StandardScaler()\n",
    "    scaler.fit(features_train[numeric_columns])\n",
    "    features_train[numeric_columns] = scaler.transform(features_train[numeric_columns])\n",
    "    features_valid[numeric_columns] = scaler.transform(features_valid[numeric_columns])\n",
    "    features_test[numeric_columns] = scaler.transform(features_test[numeric_columns])\n",
    "    print()\n",
    "    print('Размеры выборок для датасета: ', dataset_name)\n",
    "    print('Размер тренировочной выборки:', features_train.shape)\n",
    "    print('Размер валидационной выборки:', features_valid.shape)\n",
    "    print('Размер тестовой выборки:', features_test.shape)\n",
    "    print('-------------------------------------------------')\n",
    "    return features_train, target_train, features_valid, target_valid, features_test, target_test\n",
    "\n",
    "\n",
    "warnings.simplefilter('ignore')\n",
    "#Разобьем на выборки датасет на полных данных\n",
    "churn_feat_train, churn_targ_train, churn_feat_valid, churn_targ_valid, churn_feat_test, churn_targ_test = create_Standartize_features_target(churn_ohe,'Exited',['RowNumber','CustomerId','CreditScore','Age','Tenure','Balance','EstimatedSalary', 'NumOfProducts'],'Датасет на полных данных')\n",
    "#Разобьем на выборки датасет без RowNumber, CustomerID, Surname\n",
    "churn_RnCi_feat_train, churn_RnCi_targ_train, churn_RnCi_feat_valid, churn_RnCi_targ_valid, churn_RnCi_feat_test, churn_RnCi_targ_test = create_Standartize_features_target(churn_wo_RN_CI,'Exited',['CreditScore','Age','Tenure','Balance','EstimatedSalary', 'NumOfProducts'],'Датасет без RowNumber, CustomerID, Surname')\n",
    "\n",
    "#Выведем для наглядности полученных значений три строки churn_feat_train\n",
    "print()\n",
    "print('Пример churn_feat_train')\n",
    "churn_feat_train.head(3)"
   ]
  },
  {
   "cell_type": "markdown",
   "metadata": {},
   "source": [
    "Данные разделены на выборки и стандртизированы: данные готовы к дальнейшему анализу. \n",
    "Произведем анализ по следующему алгоритму:\n",
    "1. Проверим, есть ли в данных дисбаланс классов и какой он.\n",
    "2. Исследуем следущие модели без учета дисбаланса классов: <br>\n",
    "2.1. Дерево решений <br>\n",
    "2.2. Лес решений <br>\n",
    "2.3. Логистическая регрессия\n",
    "3. Устраним дисбаланс классов методом взвешивания классов и исследуем эти же модели\n",
    "4. Усстраним дисбаланс классов методом увеличения выборки и исследуем эти же модели\n",
    "5. Устраним дисбаланс классов методом уменьшения выборки и исследуем эти же модели\n",
    "6. Выберем наилучшую модель и проверим ее на тестовой выборке.<br>\n",
    "Анализ проведем для обеих моделей."
   ]
  },
  {
   "cell_type": "markdown",
   "metadata": {},
   "source": [
    "## Исследование задачи"
   ]
  },
  {
   "cell_type": "markdown",
   "metadata": {},
   "source": [
    "<h3>Исследование дисбаланса классов</h3>"
   ]
  },
  {
   "cell_type": "markdown",
   "metadata": {},
   "source": [
    "Создадим функции для построения моделей"
   ]
  },
  {
   "cell_type": "code",
   "execution_count": 28,
   "metadata": {},
   "outputs": [],
   "source": [
    "#Функция расчета и печати основных метрик \n",
    "def print_basic_metrics(target_valid, predicted_valid, model, features_valid):\n",
    "    accuracy = accuracy_score(target_valid,predicted_valid)\n",
    "    recall = recall_score(target_valid,predicted_valid)\n",
    "    precision = precision_score(target_valid,predicted_valid)\n",
    "    f1 = f1_score(target_valid,predicted_valid)\n",
    "    conf_matrix = confusion_matrix(target_valid,predicted_valid)\n",
    "    roc_auc = roc_auc_score(target_valid,predicted_valid)\n",
    "    \n",
    "    #Выводим на экран метрики, если это необходимо\n",
    "    print('Значение меры accuracy = ',accuracy)\n",
    "    print('Значение меры recall = ',recall)\n",
    "    print('Значение меры precision = ',precision)\n",
    "    print('Значение меры f1 = ',f1)\n",
    "    print('Значение меры auc roc = ',roc_auc)\n",
    "    print('Значение меры confusion matrix: ')\n",
    "    print(conf_matrix)\n",
    "    #выводим roc-кривую\n",
    "    preds = model.predict_proba(features_valid)[::,1]\n",
    "    # = probs[:,1]\n",
    "    fpr, tpr, thresholds = roc_curve(target_valid,preds)\n",
    "    plt.plot(fpr, tpr,marker ='.' ,label = 'AUC = %0.2f' % roc_auc)\n",
    "    plt.legend(loc = 'lower right')\n",
    "    plt.plot([0,1],[0,1],linestyle = \"--\")\n",
    "    \n",
    "    plt.xlabel('FPR')\n",
    "    plt.ylabel('TPR')\n",
    "    plt.title('ROC-Кривая')\n",
    "    plt.show()\n",
    "    return accuracy, recall, precision, f1, conf_matrix, roc_auc\n",
    "\n",
    "#Функция для создания модели дерева решений и расчета метрик\n",
    "def make_DecisionTree_model(features_train,target_train,features_valid, target_valid, depth, metrics_print,cls_weight):\n",
    "    #Создаем модель Дерево решений\n",
    "    if depth == None:\n",
    "        model = DecisionTreeClassifier(random_state = RANDOM_STATE, class_weight = cls_weight)\n",
    "    else:\n",
    "        model = DecisionTreeClassifier(max_depth = depth, random_state = RANDOM_STATE, class_weight = cls_weight)\n",
    "    #Обучаем модель и делаем предсказание    \n",
    "    model.fit(features_train,target_train)\n",
    "    predicted_valid = model.predict(features_valid)\n",
    "    #Рассчитываем метрики\n",
    "    if metrics_print == True:\n",
    "        count_basic_metrics(target_valid, predicted_valid, metrics_print)\n",
    "    return model, predicted_valid\n",
    "\n",
    "def make_DecisionForest_model(features_train,target_train,features_valid, target_valid, estimators ,depth, metrics_print, cls_weight):\n",
    "    #Строим модель\n",
    "    model = RandomForestClassifier(n_estimators = estimators, max_depth = depth, random_state = RANDOM_STATE, class_weight = cls_weight)\n",
    "    model.fit(features_train, target_train)\n",
    "    predicted_valid = model.predict(features_valid)\n",
    "    #Рассчитываем метрики\n",
    "    if metrics_print == True:\n",
    "        count_basic_metrics(target_valid, predicted_valid, metrics_print)\n",
    "    return model, predicted_valid\n",
    "\n",
    "def make_LogisticRegression_model(features_train,target_train,features_valid, target_valid, metrics_print, cls_weight):\n",
    "    #Строим модель\n",
    "    model = LogisticRegression(random_state = RANDOM_STATE, solver = 'liblinear', class_weight = cls_weight)\n",
    "    model.fit(features_train, target_train)\n",
    "    predicted_valid = model.predict(features_valid)\n",
    "    #Рассчитываем метрики\n",
    "    if metrics_print == True:\n",
    "        count_basic_metrics(target_valid, predicted_valid, metrics_print)\n",
    "    return model, predicted_valid\n",
    "\n",
    "\n",
    "#Функция для расчета accuracy модели со 100% нулевым предсказанием \n",
    "def find_accuracy_zero_model(target, goal_const):\n",
    "    target_pred_const = pd.Series([goal_const] * len(target))\n",
    "    print('Значение accuracy со 100% предсказанием значения ',goal_const,' = ',accuracy_score(target,target_pred_const))\n",
    "    \n"
   ]
  },
  {
   "cell_type": "markdown",
   "metadata": {},
   "source": [
    "<b>Проверим, есть ли дисбаланс классов:</b>"
   ]
  },
  {
   "cell_type": "code",
   "execution_count": 10,
   "metadata": {},
   "outputs": [
    {
     "name": "stdout",
     "output_type": "stream",
     "text": [
      "Доля значений каждого класса в исходном датафрейме:\n",
      "0    0.796062\n",
      "1    0.203938\n",
      "Name: Exited, dtype: float64\n",
      "\n",
      "Доля значений каждого класса в обучающей выборке:\n",
      "0    0.794829\n",
      "1    0.205171\n",
      "Name: Exited, dtype: float64\n",
      "\n",
      "Доля значений каждого класса в тренировочной выборке:\n",
      "0    0.79868\n",
      "1    0.20132\n",
      "Name: Exited, dtype: float64\n",
      "\n",
      "Доля значений каждого класса в тестовой выборке:\n",
      "0    0.797141\n",
      "1    0.202859\n",
      "Name: Exited, dtype: float64\n"
     ]
    }
   ],
   "source": [
    "#Для начала посмотрим, насколько сильный дисбаланс классов наблюдается в исходном датасете:\n",
    "print('Доля значений каждого класса в исходном датафрейме:')\n",
    "print(churn['Exited'].value_counts(normalize = True))\n",
    "print()\n",
    "print('Доля значений каждого класса в обучающей выборке:')\n",
    "print(churn_targ_train.value_counts(normalize = True))\n",
    "print()\n",
    "print('Доля значений каждого класса в тренировочной выборке:')\n",
    "print(churn_targ_valid.value_counts(normalize = True))\n",
    "print()\n",
    "print('Доля значений каждого класса в тестовой выборке:')\n",
    "print(churn_targ_test.value_counts(normalize = True))"
   ]
  },
  {
   "cell_type": "markdown",
   "metadata": {},
   "source": [
    "Как можно видеть, наблюдается явный дисбаланс классов: доля нулевого класса около 80%, а единичного - 20%.<br>\n",
    "Исследуем модели без учета дисбаланса классов. Ввиду того, что для модели с таким большим дисбалансом классов будет характерно высокое значение accuracy даже при полностью \"нулевом\" прогнозе (значение этого прогноза выведено ниже), то данную метрику не стоит считать целевой. Для того, чтобы максимально полно оценить качество модели, возбмем в качестве целевой меру f1: она позволяет одновременно контролировать и полноту, и точность"
   ]
  },
  {
   "cell_type": "markdown",
   "metadata": {},
   "source": [
    "<h3>Построение моделей без учета дисбаланса классов</h3>"
   ]
  },
  {
   "cell_type": "markdown",
   "metadata": {},
   "source": [
    "<h4>Дерево решений:</h4>"
   ]
  },
  {
   "cell_type": "code",
   "execution_count": 29,
   "metadata": {},
   "outputs": [
    {
     "name": "stdout",
     "output_type": "stream",
     "text": [
      "-------------------------------------------------------\n",
      "Исследование модели Дерево решений на полных данных (без учета дисбаланса классов):\n",
      "\n",
      "Значение accuracy со 100% предсказанием значения  0  =  0.7986798679867987\n",
      "Значение меры accuracy =  0.8514851485148515\n",
      "Значение меры recall =  0.4918032786885246\n",
      "Значение меры precision =  0.6818181818181818\n",
      "Значение меры f1 =  0.5714285714285714\n",
      "Значение меры auc roc =  0.7169760195095516\n",
      "Значение меры confusion matrix: \n",
      "[[1368   84]\n",
      " [ 186  180]]\n"
     ]
    },
    {
     "data": {
      "image/png": "[encoded data removed]",
      "text/plain": [
       "<Figure size 432x288 with 1 Axes>"
      ]
     },
     "metadata": {
      "needs_background": "light"
     },
     "output_type": "display_data"
    },
    {
     "name": "stdout",
     "output_type": "stream",
     "text": [
      "\n",
      "\n",
      "-------------------------------------------------------\n",
      "Исследование модели Дерево решений на данных без RowNumber, CustomerID, Surname (без учета дисбаланса классов):\n",
      "\n",
      "Значение accuracy со 100% предсказанием значения  0  =  0.7986798679867987\n",
      "Значение меры accuracy =  0.841034103410341\n",
      "Значение меры recall =  0.4972677595628415\n",
      "Значение меры precision =  0.6341463414634146\n",
      "Значение меры f1 =  0.557427258805513\n",
      "Значение меры auc roc =  0.7124768549880323\n",
      "Значение меры confusion matrix: \n",
      "[[1347  105]\n",
      " [ 184  182]]\n"
     ]
    },
    {
     "data": {
      "image/png": "[encoded data removed]",
      "text/plain": [
       "<Figure size 432x288 with 1 Axes>"
      ]
     },
     "metadata": {
      "needs_background": "light"
     },
     "output_type": "display_data"
    },
    {
     "name": "stdout",
     "output_type": "stream",
     "text": [
      "\n",
      "\n"
     ]
    }
   ],
   "source": [
    "#Функция для нахождения наилучшего дерева решений\n",
    "def find_best_DecisionTree(features_train, target_train, features_valid, target_valid, cls_weight):\n",
    "    best_depth = 0\n",
    "    best_f1 = 0\n",
    "    #для поиска наилучшего решения найдем значние целевой метрики при max_depth = None\n",
    "    model_None, predict_None = make_DecisionTree_model(features_train, target_train, features_valid, target_valid, None, False, cls_weight)\n",
    "    f1_none = f1_score(target_valid,predict_None)\n",
    "    #Найдем наилучшую глубину для дерева решений, максимизируя целевую метрику\n",
    "    for depth in range (1,20):\n",
    "        model, predicted_values = make_DecisionTree_model(features_train, target_train, features_valid, target_valid, depth, False, cls_weight)\n",
    "        f1 = f1_score(churn_targ_valid,predicted_values)\n",
    "        if f1 > best_f1:\n",
    "            best_f1 = f1\n",
    "            best_depth = depth\n",
    "            best_model = model\n",
    "            best_predicted = predicted_values\n",
    "    #сравним полученную \"лучшую\" модель с моделью, где max_depth = None\n",
    "    if f1_none > best_f1:\n",
    "        best_f1 = f1_none\n",
    "        best_model = model_None\n",
    "        best_predicted = predicted_values\n",
    "    #выведим значения метрик для наилучшей модели    \n",
    "    print_basic_metrics(target_valid, best_predicted, best_model, features_valid)\n",
    "    return best_model, best_predicted\n",
    "    \n",
    "#Найдем наилучшее \"дерево решений\" для модели на полных данных и модели без RowNumber, CustomerID, Surname и \n",
    "#и выведем метрики для наилучших моделей\n",
    "    \n",
    "print('-------------------------------------------------------')\n",
    "print('Исследование модели Дерево решений на полных данных (без учета дисбаланса классов):')  \n",
    "print()\n",
    "find_accuracy_zero_model(churn_targ_valid,0)    \n",
    "DecTreeChurn_HO, predict_DecTree_HO = find_best_DecisionTree(churn_feat_train, churn_targ_train, churn_feat_valid, churn_targ_valid, None)\n",
    "print()\n",
    "print()\n",
    "\n",
    "print('-------------------------------------------------------')\n",
    "print('Исследование модели Дерево решений на данных без RowNumber, CustomerID, Surname (без учета дисбаланса классов):')    \n",
    "print()\n",
    "find_accuracy_zero_model(churn_targ_valid,0)    \n",
    "DecTreeChurn_RnCi_HO, predict_RnCi_HO = find_best_DecisionTree(churn_RnCi_feat_train, churn_RnCi_targ_train, churn_RnCi_feat_valid, churn_RnCi_targ_valid, None)\n",
    "print()\n",
    "print()\n"
   ]
  },
  {
   "cell_type": "markdown",
   "metadata": {},
   "source": [
    "На модели \"дерево решений\" удалось добиться значения меры f1 0.571 и 0.557 для модели на полных данных и моедли без RowNumber, CustomerID, Surname соответственно. Можно видеть, однако, что модель пропускает более 50% положительных ответов (значение меры recall ниже 0.5), что говорит все-таки о довольно низком качестве модели, хотя значение меры auc_roc значительно выше 0.5 то есть модель все-таки лучше случайной. Значения практически всех метрик для модели на полных данных выше, чем для модели без RowNumber, CustomerID, Surname"
   ]
  },
  {
   "cell_type": "markdown",
   "metadata": {},
   "source": [
    "<h4>Лес решений:</h4>"
   ]
  },
  {
   "cell_type": "code",
   "execution_count": 12,
   "metadata": {},
   "outputs": [
    {
     "name": "stdout",
     "output_type": "stream",
     "text": [
      "-------------------------------------------------------\n",
      "Исследование модели Лес решений на полных данных (без учета дисбаланса классов):\n",
      "\n",
      "Значение accuracy со 100% предсказанием значения  0  =  0.7986798679867987\n",
      "Наилучшее значение n_estimators =  18\n",
      "Наилучшее значение max_depth =  69\n",
      "Значение меры accuracy =  0.8476347634763476\n",
      "Значение меры recall =  0.3087431693989071\n",
      "Значение меры precision =  0.8248175182481752\n",
      "Значение меры f1 =  0.44930417495029823\n",
      "Значение меры auc roc =  0.6461071218895362\n",
      "Значение меры confusion matrix: \n",
      "[[1428   24]\n",
      " [ 253  113]]\n"
     ]
    },
    {
     "data": {
      "image/png": "[encoded data removed]",
      "text/plain": [
       "<Figure size 432x288 with 1 Axes>"
      ]
     },
     "metadata": {
      "needs_background": "light"
     },
     "output_type": "display_data"
    },
    {
     "name": "stdout",
     "output_type": "stream",
     "text": [
      "\n",
      "\n",
      "-------------------------------------------------------\n",
      "Исследование модели Лес решений на данных без RowNumber, CustomerID, Surname, Surname (без учета дисбаланса классов):\n",
      "\n",
      "Значение accuracy со 100% предсказанием значения  0  =  0.7986798679867987\n",
      "Наилучшее значение n_estimators =  37\n",
      "Наилучшее значение max_depth =  14\n",
      "Значение меры accuracy =  0.8624862486248625\n",
      "Значение меры recall =  0.43989071038251365\n",
      "Значение меры precision =  0.7815533980582524\n",
      "Значение меры f1 =  0.5629370629370629\n",
      "Значение меры auc roc =  0.7044494874226618\n",
      "Значение меры confusion matrix: \n",
      "[[1407   45]\n",
      " [ 205  161]]\n"
     ]
    },
    {
     "data": {
      "image/png": "[encoded data removed]",
      "text/plain": [
       "<Figure size 432x288 with 1 Axes>"
      ]
     },
     "metadata": {
      "needs_background": "light"
     },
     "output_type": "display_data"
    },
    {
     "name": "stdout",
     "output_type": "stream",
     "text": [
      "\n",
      "\n"
     ]
    }
   ],
   "source": [
    "#функция для нахождения наилучшего Леса решений\n",
    "def find_best_Forest(features_train, target_train, features_valid, target_valid, cls_weight):\n",
    "    best_depth = 0\n",
    "    best_metric = 0\n",
    "    #для начала найдем наилучшее значение max_depth при небольшом значении n_estimators\n",
    "    for depth in range(1,80):\n",
    "        model, predicted_values = make_DecisionForest_model(features_train,target_train,features_valid, target_valid, 20 ,depth, False, cls_weight)\n",
    "        metric = f1_score(target_valid,predicted_values)\n",
    "        if metric > best_metric:\n",
    "            best_metric = metric\n",
    "            best_depth = depth\n",
    "    best_estim = 0 \n",
    "    best_metric = 0\n",
    "    #найдем наилучшее n_estimators при найденном max_depth\n",
    "    for estim in range(10,170,1):\n",
    "        model, predicted_values = make_DecisionForest_model(features_train,target_train,features_valid, target_valid, estim ,best_depth, False, cls_weight)\n",
    "        metric = f1_score(target_valid,predicted_values)\n",
    "        if metric > best_metric:\n",
    "            best_metric = metric\n",
    "            best_estim = estim\n",
    "            best_model = model\n",
    "            best_predicted = predicted_values\n",
    "    #выводим полученные значения гиперпараметров и полученные значения метрик\n",
    "    print('Наилучшее значение n_estimators = ', best_estim)\n",
    "    print('Наилучшее значение max_depth = ', best_depth)\n",
    "    print_basic_metrics(target_valid, best_predicted, best_model, features_valid)\n",
    "    return best_model, best_predicted        \n",
    "\n",
    "print('-------------------------------------------------------')\n",
    "print('Исследование модели Лес решений на полных данных (без учета дисбаланса классов):')  \n",
    "print()\n",
    "find_accuracy_zero_model(churn_targ_valid,0)    \n",
    "ForestChurn_HO, predict_Forest_HO = find_best_Forest(churn_feat_train, churn_targ_train, churn_feat_valid, churn_targ_valid, None)\n",
    "print()\n",
    "print()\n",
    "print('-------------------------------------------------------')\n",
    "print('Исследование модели Лес решений на данных без RowNumber, CustomerID, Surname, Surname (без учета дисбаланса классов):')  \n",
    "print()\n",
    "find_accuracy_zero_model(churn_targ_valid,0)    \n",
    "ForestChurn_RnCi_HO, predict_RnCi_Forest_HO = find_best_Forest(churn_RnCi_feat_train, churn_RnCi_targ_train, churn_RnCi_feat_valid, churn_RnCi_targ_valid, None)\n",
    "print()\n",
    "print()        "
   ]
  },
  {
   "cell_type": "markdown",
   "metadata": {},
   "source": [
    "На модели \"лес решений\" удалось добиться значения меры f1 0.449 и 0.563 для модели на полных данных и модели без RowNumber, CustomerID, Surname. Значения практически всех метрик для модели без RowNumber, CustomerID, Surname немного выше, однако общая картина схожа:<br>\n",
    "Можно видеть , что значение метрики recall довольно низкое, то есть модель довольно плохо определяет единичный класс. Однако, учитывая, что auc_roc > 0.5, то данная модель все-же лучше случайной. <br>\n",
    "По полученным значениям метрик модели \"лес решений\" показали худший результат, чем модели дерева решений "
   ]
  },
  {
   "cell_type": "markdown",
   "metadata": {},
   "source": [
    "<h4>Логистическая регрессия</h4>"
   ]
  },
  {
   "cell_type": "code",
   "execution_count": 13,
   "metadata": {},
   "outputs": [
    {
     "name": "stdout",
     "output_type": "stream",
     "text": [
      "-------------------------------------------------------\n",
      "Исследование модели Логистической регрессии на полных данных (без учета дисбаланса классов):\n",
      "\n",
      "Значение accuracy со 100% предсказанием значения  0  =  0.7986798679867987\n",
      "Значение меры accuracy =  0.8074807480748075\n",
      "Значение меры recall =  0.20218579234972678\n",
      "Значение меры precision =  0.5606060606060606\n",
      "Значение меры f1 =  0.2971887550200803\n",
      "Значение меры auc roc =  0.5811204443842297\n",
      "Значение меры confusion matrix: \n",
      "[[1394   58]\n",
      " [ 292   74]]\n"
     ]
    },
    {
     "data": {
      "image/png": "[encoded data removed]",
      "text/plain": [
       "<Figure size 432x288 with 1 Axes>"
      ]
     },
     "metadata": {
      "needs_background": "light"
     },
     "output_type": "display_data"
    },
    {
     "name": "stdout",
     "output_type": "stream",
     "text": [
      "\n",
      "\n",
      "-------------------------------------------------------\n",
      "Исследование модели Логистической регрессии на данных без RowNumber, CustomerID, Surname (без учета дисбаланса классов):\n",
      "\n",
      "Значение accuracy со 100% предсказанием значения  0  =  0.7986798679867987\n",
      "Значение меры accuracy =  0.812981298129813\n",
      "Значение меры recall =  0.1994535519125683\n",
      "Значение меры precision =  0.6083333333333333\n",
      "Значение меры f1 =  0.3004115226337448\n",
      "Значение меры auc roc =  0.5835422029535292\n",
      "Значение меры confusion matrix: \n",
      "[[1405   47]\n",
      " [ 293   73]]\n"
     ]
    },
    {
     "data": {
      "image/png": "[encoded data removed]",
      "text/plain": [
       "<Figure size 432x288 with 1 Axes>"
      ]
     },
     "metadata": {
      "needs_background": "light"
     },
     "output_type": "display_data"
    },
    {
     "name": "stdout",
     "output_type": "stream",
     "text": [
      "\n",
      "\n"
     ]
    }
   ],
   "source": [
    "#функция создания модели логистической регрессии\n",
    "def find_best_LogicalRegression(features_train, target_train, features_valid, target_valid, cls_weight):\n",
    "    model, predicted_values = make_LogisticRegression_model(features_train,target_train,features_valid, target_valid, False, cls_weight)\n",
    "    print_basic_metrics(target_valid, predicted_values, model, features_valid)\n",
    "    return model, predicted_values        \n",
    "\n",
    "#Выведем полученные метрики для модели логистической регрессии\n",
    "print('-------------------------------------------------------')\n",
    "print('Исследование модели Логистической регрессии на полных данных (без учета дисбаланса классов):')  \n",
    "print()\n",
    "find_accuracy_zero_model(churn_targ_valid,0)    \n",
    "LogReg_HO, predict_LogReg_HO = find_best_LogicalRegression(churn_feat_train, churn_targ_train, churn_feat_valid, churn_targ_valid, None)\n",
    "print()\n",
    "print()\n",
    "\n",
    "print('-------------------------------------------------------')\n",
    "print('Исследование модели Логистической регрессии на данных без RowNumber, CustomerID, Surname (без учета дисбаланса классов):')    \n",
    "print()\n",
    "find_accuracy_zero_model(churn_targ_valid,0)    \n",
    "LogReg_RnCi_HO, predict_LogReg_RnCi_HO = find_best_LogicalRegression(churn_RnCi_feat_train, churn_RnCi_targ_train, churn_RnCi_feat_valid, churn_RnCi_targ_valid, None)\n",
    "print()\n",
    "print()\n",
    "    \n"
   ]
  },
  {
   "cell_type": "markdown",
   "metadata": {},
   "source": [
    "\n",
    "Как можно видеть, модель логистической регрессии без учета дисбаланса дает достаточно низкое значение меры f1 при высоком значении accuracy: что неудивительно, так как 80% значений Exited в исходном датасете - нули. У модели логистической регрессии в данном случае весьма низкие показатели как полноты, так и точности, то есть модель совершила довольно много ошибок. Значене меры auc_roc немного выше 0.5 (0.581 и 0.583), что говорит, что модель все-таки немного лучше случайной. \n",
    "Практически все метрики у модели на полных немного данных выше, чем у модели без RowNumber, CustomerID, Surname."
   ]
  },
  {
   "cell_type": "markdown",
   "metadata": {},
   "source": [
    "<b>Вывод</b><br>\n",
    "Как можно видеть, на моделях с учетом дисбаланса классов не удалось достичь высоких показателей метрик, особенно низким было значение метрики recall - то есть модели довольно часто принимали единичный класс за нулевой, потому и значение метрики f1 не было слишком высоким. Скорее всего, это также может являться следствием дисбаланса классов. Однако можно сказать, что значение меры auc_roc для всех моделей было выше 0.5, что говорит о том, что полученные модели все-таки лучше случайной. \n",
    "<br>\n",
    "Наиболее высокие показатели метрики f1 удалось достичь у модели \"дерево решений\", однако они все еще недостаточно высоки. Самые низкие показатели - у модели логистической регрессии<br>\n",
    "Значения мертрик для обеих моделей (на полных данных и без RowNumber, CustomerID, Surname) были достаточно близкими. В одних случаях они были выше у модели на полных данных, в других - у модели без RowNumber, CustomerID, Surname. Пока что особо значимой рзницы между моделями не видно.\n",
    "Уберем дисбаланс классов и построим модели на обновленных данных <br>"
   ]
  },
  {
   "cell_type": "markdown",
   "metadata": {},
   "source": [
    "## Борьба с дисбалансом"
   ]
  },
  {
   "cell_type": "markdown",
   "metadata": {},
   "source": [
    "<h3>Борьба с дисбалансом путем взвешивания классов</h3>"
   ]
  },
  {
   "cell_type": "markdown",
   "metadata": {},
   "source": [
    "<h4>Модель\"Дерево решений\"</h4>"
   ]
  },
  {
   "cell_type": "code",
   "execution_count": 14,
   "metadata": {},
   "outputs": [
    {
     "name": "stdout",
     "output_type": "stream",
     "text": [
      "-------------------------------------------------------\n",
      "Исследование модели \"Дерево решений\" на полных данных (class_weith = \"balanced\"):\n",
      "\n",
      "Значение меры accuracy =  0.812981298129813\n",
      "Значение меры recall =  0.6038251366120219\n",
      "Значение меры precision =  0.53125\n",
      "Значение меры f1 =  0.5652173913043479\n",
      "Значение меры auc roc =  0.7347638079754325\n",
      "Значение меры confusion matrix: \n",
      "[[1257  195]\n",
      " [ 145  221]]\n"
     ]
    },
    {
     "data": {
      "image/png": "[encoded data removed]",
      "text/plain": [
       "<Figure size 432x288 with 1 Axes>"
      ]
     },
     "metadata": {
      "needs_background": "light"
     },
     "output_type": "display_data"
    },
    {
     "name": "stdout",
     "output_type": "stream",
     "text": [
      "\n",
      "\n",
      "-------------------------------------------------------\n",
      "Исследование модели \"Дерево решений\" на данных без RowNumber, CustomerID, Surname (class_weith = \"balanced\"):\n",
      "\n",
      "Значение меры accuracy =  0.757975797579758\n",
      "Значение меры recall =  0.7513661202185792\n",
      "Значение меры precision =  0.4407051282051282\n",
      "Значение меры f1 =  0.5555555555555556\n",
      "Значение меры auc roc =  0.755503996748408\n",
      "Значение меры confusion matrix: \n",
      "[[1103  349]\n",
      " [  91  275]]\n"
     ]
    },
    {
     "data": {
      "image/png": "[encoded data removed]",
      "text/plain": [
       "<Figure size 432x288 with 1 Axes>"
      ]
     },
     "metadata": {
      "needs_background": "light"
     },
     "output_type": "display_data"
    },
    {
     "name": "stdout",
     "output_type": "stream",
     "text": [
      "\n",
      "\n"
     ]
    }
   ],
   "source": [
    "#Построим модели \"Дерево решений\" со взвешенными классами\n",
    "print('-------------------------------------------------------')\n",
    "print('Исследование модели \"Дерево решений\" на полных данных (class_weith = \"balanced\"):')  \n",
    "print()\n",
    "DecTreeChurn_HO_bal, predict_DecTree_HO = find_best_DecisionTree(churn_feat_train, churn_targ_train, churn_feat_valid, churn_targ_valid, 'balanced')\n",
    "print()\n",
    "print()\n",
    "\n",
    "print('-------------------------------------------------------')\n",
    "print('Исследование модели \"Дерево решений\" на данных без RowNumber, CustomerID, Surname (class_weith = \"balanced\"):')    \n",
    "print()\n",
    "DecTreeChurn_RnCi_HO, predict_RnCi_HO = find_best_DecisionTree(churn_RnCi_feat_train, churn_RnCi_targ_train, churn_RnCi_feat_valid, churn_RnCi_targ_valid, 'balanced')\n",
    "print()\n",
    "print()"
   ]
  },
  {
   "cell_type": "markdown",
   "metadata": {},
   "source": [
    "Рассмотрим, как изменились метрики после взвешивания классов: <br>\n",
    "<b>Модель на полных данных:</b>\n",
    "<table>\n",
    "    <tr><td>Метрика</td><td> без взвешивания классов</td><td> с учетом взвешивания классов</td></tr>\n",
    "    <tr><td>accuracy</td><td> 0.8514851485148515</td><td> 0.812981298129813</td></tr>\n",
    "    <tr><td>recall</td><td> 0.4918032786885246</td><td>  0.6038251366120219</td></tr>\n",
    "    <tr><td>precision</td><td> 0.6818181818181818</td><td> 0.53125</td></tr>\n",
    "    <tr><td>f1</td><td> 0.5714285714285714</td><td> 0.5652173913043479</td></tr>\n",
    "    <tr><td>auc roc</td><td> 0.7169760195095516</td><td> 0.7347638079754325</td></tr>\n",
    "</table>\n",
    "Можно видеть, что значение f1 после взвешивания классов немного уменьшилось, зато значение recall заметно выросло, однако значение precision симметрично уменьшилось: то есть модель стала более полной: правильно прогнозируется больше \"единичных\" классов, - но менее точной: увеличилось количество неверно предсказанных \"единичных\" классов\". Это также и отразилось на метрике accuracy: модель стала больше ошибаться в целом. Но при этом значение метрики auc roc выросло: то есть соотношение True Positive Answers к True Negative Answers увеличилось \n",
    "\n",
    "<b>Модель на данных без RowNumber, CustomerID, Surname:</b>\n",
    "<table>\n",
    "    <tr><td>Метрика</td><td> без взвешивания классов</td><td> с учетом взвешивания классов</td></tr>\n",
    "    <tr><td>accuracy</td><td> 0.841034103410341</td><td> 0.757975797579758 </td></tr>\n",
    "    <tr><td>recall</td><td> 0.4972677595628415 </td><td> 0.7513661202185792 </td></tr>\n",
    "    <tr><td>precision</td><td> 0.6341463414634146 </td><td> 0.4407051282051282 </td></tr>\n",
    "    <tr><td>f1</td><td> 0.557427258805513 </td><td> 0.5555555555555556 </td></tr>\n",
    "    <tr><td>auc roc</td><td> 0.7124768549880323 </td><td> 0.755503996748408 </td></tr>\n",
    "</table>\n",
    "Для модели без данных  RowNumber, CustomerId наблюдается та же тенденция, что и для модели для полных данных. И полученные значения метрик очень близки к значениям модели на полных данных: они лишь незначительно выше. То есть для на модели \"дерево решений\" особо большой разницы в моделях на полных данных и данных без RowNumber, CustomerID, Surname не видно. <br>\n",
    "Полученные значения метрик f1 для обеих моделей недостаточно высоки. Рассмотрим также другие модели."
   ]
  },
  {
   "cell_type": "markdown",
   "metadata": {},
   "source": [
    "<h4>Модель \"Лес Решений\"</h4>"
   ]
  },
  {
   "cell_type": "code",
   "execution_count": 15,
   "metadata": {},
   "outputs": [
    {
     "name": "stdout",
     "output_type": "stream",
     "text": [
      "-------------------------------------------------------\n",
      "Исследование модели \"Лес решений\" на взвешенных полных данных:\n",
      "\n",
      "Наилучшее значение n_estimators =  31\n",
      "Наилучшее значение max_depth =  43\n",
      "Значение меры accuracy =  0.8454345434543454\n",
      "Значение меры recall =  0.5191256830601093\n",
      "Значение меры precision =  0.6440677966101694\n",
      "Значение меры f1 =  0.5748865355521936\n",
      "Значение меры auc roc =  0.7234058167366662\n",
      "Значение меры confusion matrix: \n",
      "[[1347  105]\n",
      " [ 176  190]]\n"
     ]
    },
    {
     "data": {
      "image/png": "[encoded data removed]",
      "text/plain": [
       "<Figure size 432x288 with 1 Axes>"
      ]
     },
     "metadata": {
      "needs_background": "light"
     },
     "output_type": "display_data"
    },
    {
     "name": "stdout",
     "output_type": "stream",
     "text": [
      "\n",
      "\n",
      "-------------------------------------------------------\n",
      "Исследование модели \"Лес решений\" на взвешенных данных без RowNumber, CustomerID, Surname:\n",
      "\n",
      "Наилучшее значение n_estimators =  23\n",
      "Наилучшее значение max_depth =  8\n",
      "Значение меры accuracy =  0.8278327832783279\n",
      "Значение меры recall =  0.6557377049180327\n",
      "Значение меры precision =  0.5620608899297423\n",
      "Значение меры f1 =  0.6052963430012609\n",
      "Значение меры auc roc =  0.7634749130650769\n",
      "Значение меры confusion matrix: \n",
      "[[1265  187]\n",
      " [ 126  240]]\n"
     ]
    },
    {
     "data": {
      "image/png": "[encoded data removed]",
      "text/plain": [
       "<Figure size 432x288 with 1 Axes>"
      ]
     },
     "metadata": {
      "needs_background": "light"
     },
     "output_type": "display_data"
    },
    {
     "name": "stdout",
     "output_type": "stream",
     "text": [
      "\n",
      "\n"
     ]
    }
   ],
   "source": [
    "print('-------------------------------------------------------')\n",
    "print('Исследование модели \"Лес решений\" на взвешенных полных данных:')  \n",
    "print()\n",
    "ForestChurn_HO_bal, predict_Forest_HO_bal = find_best_Forest(churn_feat_train, churn_targ_train, churn_feat_valid, churn_targ_valid, 'balanced')\n",
    "print()\n",
    "print()\n",
    "print('-------------------------------------------------------')\n",
    "print('Исследование модели \"Лес решений\" на взвешенных данных без RowNumber, CustomerID, Surname:')  \n",
    "print() \n",
    "ForestChurn_RnCi_HO_bal, predict_RnCi_Forest_HO_bal = find_best_Forest(churn_RnCi_feat_train, churn_RnCi_targ_train, churn_RnCi_feat_valid, churn_RnCi_targ_valid, 'balanced')\n",
    "print()\n",
    "print()    "
   ]
  },
  {
   "cell_type": "markdown",
   "metadata": {},
   "source": [
    "Рассмотрим, как изменились метрики после взвешивания классов: <br>\n",
    "<b>Модель на полных данных:</b>\n",
    "<table>\n",
    "    <tr><td>Метрика</td><td> без взвешивания классов</td><td> с учетом взвешивания классов</td></tr>\n",
    "    <tr><td>accuracy</td><td>0.8476347634763476 </td><td> 0.8454345434543454</td></tr>\n",
    "    <tr><td>recall</td><td> 0.3087431693989071 </td><td> 0.5191256830601093</td></tr>\n",
    "    <tr><td>precision</td><td>0.8248175182481752</td><td>0.6440677966101694</td></tr>\n",
    "    <tr><td>f1</td><td>0.44930417495029823 </td><td> 0.5748865355521936</td></tr>\n",
    "    <tr><td>auc roc</td><td> 0.6461071218895362</td><td>0.7234058167366662</td></tr>\n",
    "</table>\n",
    "Взвешивание классов значительно улучшило модель \"Лес решений\" на полных данных: метрика accuarcy изменилась незначительно, зато метрика f1 и auc roc (соотношение TPR к FPR) выросли очень заметно, то есть модель стала более адекватно находить True Positive значения, стала меньше ошибаться, можно также видеть значительное увеличение метрики recall, что также говорит о том, что модель находит больше True Positive значений. Однако значение метрики precision уменьшилось: стало поялвяться больше False Positive значени. \n",
    "\n",
    "<b>Модель на данных без RowNumber, CustomerID, Surname:</b>\n",
    "<table>\n",
    "<tr>\n",
    "\t\t<td>метрика</td>\n",
    "\t\t<td>без учета дисбаланса</td>\n",
    "\t\t<td>взвешенные данные</td>\n",
    "\t</tr>\n",
    "\t<tr>\n",
    "\t\t<td>accuracy</td>\n",
    "\t\t<td>0.8624862486248625</td>\n",
    "\t\t<td>0.8278327832783279</td>\n",
    "\t</tr>\n",
    "\t<tr>\n",
    "\t\t<td>recall</td>\n",
    "\t\t<td>0.43989071038251365</td>\n",
    "\t\t<td>0.6557377049180327</td>\n",
    "\t</tr>\n",
    "\t<tr>\n",
    "\t\t<td>precision</td>\n",
    "\t\t<td>0.7815533980582524</td>\n",
    "\t\t<td>0.5620608899297423</td>\n",
    "\t</tr>\n",
    "\t<tr>\n",
    "\t\t<td>f1</td>\n",
    "\t\t<td>0.5629370629370629</td>\n",
    "\t\t<td>0.6052963430012609</td>\n",
    "\t</tr>\n",
    "\t<tr>\n",
    "\t\t<td>auc roc</td>\n",
    "\t\t<td>0.7044494874226618</td>\n",
    "\t\t<td>0.7634749130650769</td>\n",
    "\t</tr>\n",
    "\t</table>\n",
    "Общая картина на модели данных без RowNumber, CustomerID, Surname схожа с картиной на полных данных, однако значения практически всех метрик (за исключением precision и accuracy) у модели без RowNumber, CustomerID, Surname выше: то есть у этой модели количество False Positive значений больше.  "
   ]
  },
  {
   "cell_type": "markdown",
   "metadata": {},
   "source": [
    "<h4>Модель \"Логистическая регрессия\"</h4>"
   ]
  },
  {
   "cell_type": "code",
   "execution_count": 16,
   "metadata": {},
   "outputs": [
    {
     "name": "stdout",
     "output_type": "stream",
     "text": [
      "-------------------------------------------------------\n",
      "Исследование модели Логистической регрессии на взвешенных полных данных:\n",
      "\n",
      "Значение меры accuracy =  0.7293729372937293\n",
      "Значение меры recall =  0.587431693989071\n",
      "Значение меры precision =  0.38669064748201437\n",
      "Значение меры f1 =  0.4663774403470716\n",
      "Значение меры auc roc =  0.6762916045702931\n",
      "Значение меры confusion matrix: \n",
      "[[1111  341]\n",
      " [ 151  215]]\n"
     ]
    },
    {
     "data": {
      "image/png": "[encoded data removed]",
      "text/plain": [
       "<Figure size 432x288 with 1 Axes>"
      ]
     },
     "metadata": {
      "needs_background": "light"
     },
     "output_type": "display_data"
    },
    {
     "name": "stdout",
     "output_type": "stream",
     "text": [
      "\n",
      "\n",
      "-------------------------------------------------------\n",
      "Исследование модели Логистической регрессии на взвешенных данных без RowNumber, CustomerID, Surname:\n",
      "\n",
      "Значение меры accuracy =  0.7183718371837183\n",
      "Значение меры recall =  0.6857923497267759\n",
      "Значение меры precision =  0.3873456790123457\n",
      "Значение меры f1 =  0.49506903353057197\n",
      "Значение меры auc roc =  0.7061881858826717\n",
      "Значение меры confusion matrix: \n",
      "[[1055  397]\n",
      " [ 115  251]]\n"
     ]
    },
    {
     "data": {
      "image/png": "[encoded data removed]",
      "text/plain": [
       "<Figure size 432x288 with 1 Axes>"
      ]
     },
     "metadata": {
      "needs_background": "light"
     },
     "output_type": "display_data"
    },
    {
     "name": "stdout",
     "output_type": "stream",
     "text": [
      "\n",
      "\n"
     ]
    }
   ],
   "source": [
    "print('-------------------------------------------------------')\n",
    "print('Исследование модели Логистической регрессии на взвешенных полных данных:')  \n",
    "print()  \n",
    "LogReg_HO_bal, predict_LogReg_HO_bal = find_best_LogicalRegression(churn_feat_train, churn_targ_train, churn_feat_valid, churn_targ_valid, 'balanced')\n",
    "print()\n",
    "print()\n",
    "\n",
    "print('-------------------------------------------------------')\n",
    "print('Исследование модели Логистической регрессии на взвешенных данных без RowNumber, CustomerID, Surname:')    \n",
    "print()\n",
    "LogReg_RnCi_HO_bal, predict_LogReg_RnCi_HO_bal = find_best_LogicalRegression(churn_RnCi_feat_train, churn_RnCi_targ_train, churn_RnCi_feat_valid, churn_RnCi_targ_valid, 'balanced')\n",
    "print()\n",
    "print()"
   ]
  },
  {
   "cell_type": "markdown",
   "metadata": {},
   "source": [
    "Рассмотрим, как изменились метрики после взвешивания классов: <br>\n",
    "<b>Модель на полных данных:</b>\n",
    "<table>\n",
    "    <tr><td>Метрика</td><td> без взвешивания классов</td><td> с учетом взвешивания классов</td></tr>\n",
    "    <tr><td>accuracy</td><td>0.8074807480748075</td><td> 0.7293729372937293</td></tr>\n",
    "    <tr><td>recall</td><td> 0.20218579234972678  </td><td> 0.587431693989071 </td></tr>\n",
    "    <tr><td>precision</td><td>0.5606060606060606</td><td>0.38669064748201437 </td></tr>\n",
    "    <tr><td>f1</td><td> 0.2971887550200803  </td><td> 0.4663774403470716</td></tr>\n",
    "    <tr><td>auc roc</td><td> 0.5811204443842297 </td><td>0.6762916045702931 </td></tr>\n",
    "</table>\n",
    "Можоно видеть, что значения практически всех метрик (за исключением precision и accuracy) значительно выросили, однакко они все еще остаются слишком низкими, так что данную модель нельзя считать лучшей. Взвешивание классов привело к увеличению полноты, но снижению точности: модель стала больше попадать в positive класс, но в то же время увелчилось количество false positive предсказаний. В любом случае, модель хоть и лучше случайной (auc roc > 0.5), но все равно недостатоно соответствует требованиям.\n",
    "\n",
    "<b>Модель на данных без RowNumber, CustomerID, Surname:</b>\n",
    "<table>\n",
    "    <tr>\n",
    "\t\t<td>метрика</td>\n",
    "\t\t<td>без учета дисбаланса</td>\n",
    "\t\t<td>взвешенные данные</td>\n",
    "\t</tr>\n",
    "\t<tr>\n",
    "\t\t<td>accuracy</td>\n",
    "\t\t<td>0.812981298129813</td>\n",
    "\t\t<td>0.7183718371837183</td>\n",
    "\t</tr>\n",
    "\t<tr>\n",
    "\t\t<td>recall</td>\n",
    "\t\t<td>0.1994535519125683</td>\n",
    "\t\t<td>0.6857923497267759</td>\n",
    "\t</tr>\n",
    "\t<tr>\n",
    "\t\t<td>precision</td>\n",
    "\t\t<td>0.6083333333333333</td>\n",
    "\t\t<td>0.3873456790123457</td>\n",
    "\t</tr>\n",
    "\t<tr>\n",
    "\t\t<td>f1</td>\n",
    "\t\t<td>0.3004115226337448</td>\n",
    "\t\t<td>0.49506903353057197</td>\n",
    "\t</tr>\n",
    "\t<tr>\n",
    "\t\t<td>auc roc</td>\n",
    "\t\t<td>0.5835422029535292</td>\n",
    "\t\t<td>0.7061881858826717</td>\n",
    "\t</tr>\n",
    "</table>\n",
    "Общая картина для модели на данных без RowNumber, CustomerID, Surname схожа с картиной на полных данных, но значение всех метрик немного выше, хотя все еще остается недостаточно высоким. "
   ]
  },
  {
   "cell_type": "markdown",
   "metadata": {},
   "source": [
    "Модели на взвешенных данных дали лучшие результаты, чем модели на неизмененных данных. однако эти результаты остаются достаточно низкими. Рассмотрим другие способы борьбы с дисбалансом"
   ]
  },
  {
   "cell_type": "markdown",
   "metadata": {},
   "source": [
    "<h3>Борьба с дисбалансом путем увеличения выборки</h3>"
   ]
  },
  {
   "cell_type": "markdown",
   "metadata": {},
   "source": [
    "Для начала напишем функцию увеличения выборки"
   ]
  },
  {
   "cell_type": "code",
   "execution_count": 17,
   "metadata": {},
   "outputs": [
    {
     "name": "stdout",
     "output_type": "stream",
     "text": [
      "Доля значений каждого класса после преобразования\n",
      "1    0.508001\n",
      "0    0.491999\n",
      "Name: Exited, dtype: float64\n"
     ]
    }
   ],
   "source": [
    "def upsample(features,target,repeat):#функция для увеличения выборки\n",
    "    #выделим строки с нулевым и единичным значением target\n",
    "    features_zero = features[target == 0]\n",
    "    features_one = features[target == 1]\n",
    "    target_zero = target[target == 0]\n",
    "    target_one = target[target == 1]\n",
    "    #увеличиваем количество\n",
    "    features_upsampled = pd.concat([features_zero] + [features_one] * repeat)\n",
    "    target_upsampled = pd.concat([target_zero] + [target_one] * repeat)\n",
    "    #перемешиваем\n",
    "    features_upsampled, target_upsampled = shuffle(features_upsampled, target_upsampled, random_state = RANDOM_STATE)\n",
    "    return features_upsampled, target_upsampled\n",
    "\n",
    "#зададим значение repeat, чтобы уравнять значения нулей и единиц. Ранее мы видели, что нулевых\n",
    "#значений в Exited около 80%, тогда как единиц - 20%. Таким образом нужно увеличить выборку по\n",
    "#единичным значениям в 4 раза (80/20)\n",
    "repeat = 4\n",
    "churn_feat_train_ups, churn_targ_train_ups = upsample(churn_feat_train, churn_targ_train, repeat)\n",
    "churn_RnCi_feat_train_ups, churn_RnCi_targ_train_ups = upsample(churn_RnCi_feat_train, churn_RnCi_targ_train,repeat)\n",
    "\n",
    "print('Доля значений каждого класса после преобразования')\n",
    "print(churn_targ_train_ups.value_counts(normalize = True))"
   ]
  },
  {
   "cell_type": "markdown",
   "metadata": {},
   "source": [
    "<h4>Модель \"Дерево решений\" на upsampled выборке</h4>"
   ]
  },
  {
   "cell_type": "code",
   "execution_count": 18,
   "metadata": {},
   "outputs": [
    {
     "name": "stdout",
     "output_type": "stream",
     "text": [
      "-------------------------------------------------------\n",
      "Исследование модели Дерево решений на полных данных после увеличения выборки:\n",
      "\n",
      "Значение меры accuracy =  0.8151815181518152\n",
      "Значение меры recall =  0.6010928961748634\n",
      "Значение меры precision =  0.5365853658536586\n",
      "Значение меры f1 =  0.5670103092783505\n",
      "Значение меры auc roc =  0.7351194508422526\n",
      "Значение меры confusion matrix: \n",
      "[[1262  190]\n",
      " [ 146  220]]\n"
     ]
    },
    {
     "data": {
      "image/png": "[encoded data removed]",
      "text/plain": [
       "<Figure size 432x288 with 1 Axes>"
      ]
     },
     "metadata": {
      "needs_background": "light"
     },
     "output_type": "display_data"
    },
    {
     "name": "stdout",
     "output_type": "stream",
     "text": [
      "\n",
      "\n",
      "-------------------------------------------------------\n",
      "Исследование модели Дерево решений на данных без RowNumber, CustomerID, Surname после увеличения выборки:\n",
      "\n",
      "Значение меры accuracy =  0.757975797579758\n",
      "Значение меры recall =  0.7513661202185792\n",
      "Значение меры precision =  0.4407051282051282\n",
      "Значение меры f1 =  0.5555555555555556\n",
      "Значение меры auc roc =  0.755503996748408\n",
      "Значение меры confusion matrix: \n",
      "[[1103  349]\n",
      " [  91  275]]\n"
     ]
    },
    {
     "data": {
      "image/png": "[encoded data removed]",
      "text/plain": [
       "<Figure size 432x288 with 1 Axes>"
      ]
     },
     "metadata": {
      "needs_background": "light"
     },
     "output_type": "display_data"
    },
    {
     "name": "stdout",
     "output_type": "stream",
     "text": [
      "\n",
      "\n"
     ]
    }
   ],
   "source": [
    "print('-------------------------------------------------------')\n",
    "print('Исследование модели Дерево решений на полных данных после увеличения выборки:')  \n",
    "print()\n",
    " \n",
    "DecTreeChurn_HO_ups, predict_DecTree_HO_ups = find_best_DecisionTree(churn_feat_train_ups, churn_targ_train_ups, churn_feat_valid, churn_targ_valid, None)\n",
    "print()\n",
    "print()\n",
    "\n",
    "print('-------------------------------------------------------')\n",
    "print('Исследование модели Дерево решений на данных без RowNumber, CustomerID, Surname после увеличения выборки:')    \n",
    "print()\n",
    "   \n",
    "DecTreeChurn_RnCi_HO_ups, predict_RnCi_HO_ups = find_best_DecisionTree(churn_RnCi_feat_train_ups, churn_RnCi_targ_train_ups, churn_RnCi_feat_valid, churn_RnCi_targ_valid, None)\n",
    "print()\n",
    "print()"
   ]
  },
  {
   "cell_type": "markdown",
   "metadata": {},
   "source": [
    "Рассмотрим, как изменились метрики : <br>\n",
    "<b>Модель на полных данных:</b>\n",
    "<table>\n",
    "    <tr><td>Метрика</td><td>без учета дисбаланса</td><td>взвешивание классов</td><td>увеличение выборки</td></tr>\n",
    "    <tr><td>accuracy</td><td> 0.8514851485148515</td><td > 0.812981298129813</td><td>0.8151815181518152</td></tr>\n",
    "    <tr><td>recall</td><td> 0.4918032786885246</td><td>  0.6038251366120219</td><td> 0.6010928961748634</td></tr>\n",
    "    <tr><td>precision</td><td> 0.6818181818181818</td><td> 0.53125</td><td>0.5365853658536586</td></tr>\n",
    "    <tr><td>f1</td><td> 0.5714285714285714</td><td> 0.5652173913043479</td><td  bgcolor = #ffcc00>0.5670103092783505</td></tr>\n",
    "    <tr><td>auc roc</td><td> 0.7169760195095516</td><td> 0.7347638079754325</td><td > 0.7351194508422526</td></tr>\n",
    "</table>\n",
    "Значения метрик после увеличения выборки немного ниже, чем после взвешивания классов. Для модели \"дерево решений\" среди всех проверенных вариантов наилучший пока -  дерево решений после увеличения выборки\n",
    "\n",
    "<b>Модель на данных без RowNumber, CustomerID, Surname:</b>\n",
    "<table>\n",
    "   <tr>\n",
    "\t\t<td>метрика</td>\n",
    "\t\t<td>без учета дисбаланса</td>\n",
    "\t\t<td>взвешенные данные</td>\n",
    "\t\t<td>увеличение выборки</td>\n",
    "\t</tr>\n",
    "\t<tr>\n",
    "\t\t<td>accuracy</td>\n",
    "\t\t<td>0.841034103410341</td>\n",
    "\t\t<td>0.757975797579758</td>\n",
    "\t\t<td>0.757975797579758</td>\n",
    "\t</tr>\n",
    "\t<tr>\n",
    "\t\t<td>recall</td>\n",
    "\t\t<td>0.4972677595628415</td>\n",
    "\t\t<td>0.7513661202185792</td>\n",
    "\t\t<td>0.7513661202185792</td>\n",
    "\t</tr>\n",
    "\t<tr>\n",
    "\t\t<td>precision</td>\n",
    "\t\t<td>0.6341463414634146</td>\n",
    "\t\t<td>0.4407051282051282</td>\n",
    "\t\t<td>0.4407051282051282</td>\n",
    "\t</tr>\n",
    "\t<tr>\n",
    "\t\t<td>f1</td>\n",
    "\t\t<td  bgcolor = #ffcc00>0.557427258805513</td>\n",
    "\t\t<td>0.5555555555555556</td>\n",
    "\t\t<td>0.5555555555555556</td>\n",
    "\t</tr>\n",
    "\t<tr>\n",
    "\t\t<td>auc roc</td>\n",
    "\t\t<td>0.7124768549880323</td>\n",
    "\t\t<td>0.755503996748408</td>\n",
    "\t\t<td>0.755503996748408</td>\n",
    "\t</tr>\n",
    "</table>\n",
    "\n",
    "Для модели данных без  RowNumber, CustomerId картина не очень схожа с моделью на полных данных: для моделей на взвешенных данных и на увеличенной выборке значения практически одинаковы. Наиболее высокое значение f1 достигается на модели без учета дисбаланса"
   ]
  },
  {
   "cell_type": "markdown",
   "metadata": {},
   "source": [
    "<h4>Модель \"лес решений\" на upsampled данных</h4>"
   ]
  },
  {
   "cell_type": "code",
   "execution_count": 19,
   "metadata": {},
   "outputs": [
    {
     "name": "stdout",
     "output_type": "stream",
     "text": [
      "-------------------------------------------------------\n",
      "Исследование модели \"Лес решений\" на upsampled данных:\n",
      "\n",
      "Наилучшее значение n_estimators =  103\n",
      "Наилучшее значение max_depth =  49\n",
      "Значение меры accuracy =  0.8443344334433444\n",
      "Значение меры recall =  0.5655737704918032\n",
      "Значение меры precision =  0.6253776435045317\n",
      "Значение меры f1 =  0.593974175035868\n",
      "Значение меры auc roc =  0.7400871607279953\n",
      "Значение меры confusion matrix: \n",
      "[[1328  124]\n",
      " [ 159  207]]\n"
     ]
    },
    {
     "data": {
      "image/png": "[encoded data removed]",
      "text/plain": [
       "<Figure size 432x288 with 1 Axes>"
      ]
     },
     "metadata": {
      "needs_background": "light"
     },
     "output_type": "display_data"
    },
    {
     "name": "stdout",
     "output_type": "stream",
     "text": [
      "\n",
      "\n",
      "-------------------------------------------------------\n",
      "Исследование модели \"Лес решений\" на upsampled данных без RowNumber, CustomerID, Surname:\n",
      "\n",
      "Наилучшее значение n_estimators =  22\n",
      "Наилучшее значение max_depth =  8\n",
      "Значение меры accuracy =  0.8168316831683168\n",
      "Значение меры recall =  0.7021857923497268\n",
      "Значение меры precision =  0.5343035343035343\n",
      "Значение меры f1 =  0.6068476977567886\n",
      "Значение меры auc roc =  0.7739579099489681\n",
      "Значение меры confusion matrix: \n",
      "[[1228  224]\n",
      " [ 109  257]]\n"
     ]
    },
    {
     "data": {
      "image/png": "[encoded data removed]",
      "text/plain": [
       "<Figure size 432x288 with 1 Axes>"
      ]
     },
     "metadata": {
      "needs_background": "light"
     },
     "output_type": "display_data"
    },
    {
     "name": "stdout",
     "output_type": "stream",
     "text": [
      "\n",
      "\n"
     ]
    }
   ],
   "source": [
    "print('-------------------------------------------------------')\n",
    "print('Исследование модели \"Лес решений\" на upsampled данных:')  \n",
    "print()\n",
    "ForestChurn_HO_ups, predict_Forest_HO_ups = find_best_Forest(churn_feat_train_ups, churn_targ_train_ups, churn_feat_valid, churn_targ_valid, None)\n",
    "print()\n",
    "print()\n",
    "print('-------------------------------------------------------')\n",
    "print('Исследование модели \"Лес решений\" на upsampled данных без RowNumber, CustomerID, Surname:')  \n",
    "print() \n",
    "ForestChurn_RnCi_HO_ups, predict_RnCi_Forest_HO_ups = find_best_Forest(churn_RnCi_feat_train_ups, churn_RnCi_targ_train_ups, churn_RnCi_feat_valid, churn_RnCi_targ_valid, None)\n",
    "print()\n",
    "print() "
   ]
  },
  {
   "cell_type": "markdown",
   "metadata": {},
   "source": [
    "Рассмотрим, как изменились метрики: <br>\n",
    "<b>Модель на полных данных:</b>\n",
    "<table>\n",
    "    <tr><td>Метрика</td><td> без учета дисбаланса</td><td> взвешивание классов</td><td>увеличение выборки</td></tr>\n",
    "    <tr><td>accuracy</td><td>0.8476347634763476 </td><td> 0.8454345434543454</td><td >0.8443344334433444</td></tr>\n",
    "    <tr><td>recall</td><td> 0.3087431693989071 </td><td> 0.5191256830601093</td><td >0.5655737704918032</td></tr>\n",
    "    <tr><td>precision</td><td>0.8248175182481752</td><td>0.6440677966101694</td><td> 0.6253776435045317</td></tr>\n",
    "    <tr><td>f1</td><td>0.44930417495029823 </td><td> 0.5748865355521936</td><td bgcolor = #ffcc00> 0.593974175035868</td></tr>\n",
    "    <tr><td>auc roc</td><td> 0.6461071218895362</td><td>0.7234058167366662</td><td>0.7400871607279953</td></tr>\n",
    "</table>\n",
    "\n",
    "На модели \"Лес решений\" на полных данных после увеличения выборки значние метрики f1 выросло до 0.593, да и по всем остальным метрикам, за исключением precision и accuarcy наблюдается заметный рост. Очевидно, модель стала лучше определять единичный клас, но при этом количество False Positive результатов увеличилось. \n",
    "\n",
    "<b>Модель на данных без RowNumber, CustomerID, Surname:</b>\n",
    "<table>\n",
    "    <tr>\n",
    "\t\t<td>метрика</td>\n",
    "\t\t<td>без учета дисбаланса</td>\n",
    "\t\t<td>взвешенные данные</td>\n",
    "\t\t<td>увеличение выборки</td>\n",
    "\t</tr>\n",
    "\t<tr>\n",
    "\t\t<td>accuracy</td>\n",
    "\t\t<td>0.8624862486248625</td>\n",
    "\t\t<td>0.8278327832783279</td>\n",
    "\t\t<td>0.8168316831683168</td>\n",
    "\t</tr>\n",
    "\t<tr>\n",
    "\t\t<td>recall</td>\n",
    "\t\t<td>0.43989071038251365</td>\n",
    "\t\t<td>0.6557377049180327</td>\n",
    "\t\t<td>0.7021857923497268</td>\n",
    "\t</tr>\n",
    "\t<tr>\n",
    "\t\t<td>precision</td>\n",
    "\t\t<td>0.7815533980582524</td>\n",
    "\t\t<td>0.5620608899297423</td>\n",
    "\t\t<td>0.5343035343035343</td>\n",
    "\t</tr>\n",
    "\t<tr>\n",
    "\t\t<td>f1</td>\n",
    "\t\t<td>0.5629370629370629</td>\n",
    "\t\t<td>0.6052963430012609</td>\n",
    "\t\t<td bgcolor = #ffcc00>0.6068476977567886</td>\n",
    "\t</tr>\n",
    "\t<tr>\n",
    "\t\t<td>auc roc</td>\n",
    "\t\t<td>0.7044494874226618</td>\n",
    "\t\t<td>0.7634749130650769</td>\n",
    "\t\t<td>0.7739579099489681</td>\n",
    "\t</tr>\n",
    "</table>\n",
    "Общая картина на модели \"Лес решений\" на увеличенной выборке для данных без RowNumber, CustomerID, Surname очень схолжа с данными модели \"Лес решений\" на увеличенной выборке для полных данных, однако большинство параметров (в том числе f1, aucr roc, recall) заметно выше значений метрики на полных данных"
   ]
  },
  {
   "cell_type": "markdown",
   "metadata": {},
   "source": [
    "<h4>Построение модели логистической регрессии на upsampled данных</h4>"
   ]
  },
  {
   "cell_type": "code",
   "execution_count": 20,
   "metadata": {},
   "outputs": [
    {
     "name": "stdout",
     "output_type": "stream",
     "text": [
      "-------------------------------------------------------\n",
      "Исследование модели Логистической регрессии на взвешенных полных данных:\n",
      "\n",
      "Значение меры accuracy =  0.7288228822882288\n",
      "Значение меры recall =  0.5765027322404371\n",
      "Значение меры precision =  0.3843351548269581\n",
      "Значение меры f1 =  0.4612021857923498\n",
      "Значение меры auc roc =  0.6718601815472158\n",
      "Значение меры confusion matrix: \n",
      "[[1114  338]\n",
      " [ 155  211]]\n"
     ]
    },
    {
     "data": {
      "image/png": "[encoded data removed]",
      "text/plain": [
       "<Figure size 432x288 with 1 Axes>"
      ]
     },
     "metadata": {
      "needs_background": "light"
     },
     "output_type": "display_data"
    },
    {
     "name": "stdout",
     "output_type": "stream",
     "text": [
      "\n",
      "\n",
      "-------------------------------------------------------\n",
      "Исследование модели Логистической регрессии на взвешенных данных без RowNumber, CustomerID, Surname:\n",
      "\n",
      "Значение меры accuracy =  0.7123212321232123\n",
      "Значение меры recall =  0.7021857923497268\n",
      "Значение меры precision =  0.3830104321907601\n",
      "Значение меры f1 =  0.4956605593056895\n",
      "Значение меры auc roc =  0.708530912703789\n",
      "Значение меры confusion matrix: \n",
      "[[1038  414]\n",
      " [ 109  257]]\n"
     ]
    },
    {
     "data": {
      "image/png": "[encoded data removed]",
      "text/plain": [
       "<Figure size 432x288 with 1 Axes>"
      ]
     },
     "metadata": {
      "needs_background": "light"
     },
     "output_type": "display_data"
    },
    {
     "name": "stdout",
     "output_type": "stream",
     "text": [
      "\n",
      "\n"
     ]
    }
   ],
   "source": [
    "print('-------------------------------------------------------')\n",
    "print('Исследование модели Логистической регрессии на взвешенных полных данных:')  \n",
    "print()  \n",
    "LogReg_HO_ups, predict_LogReg_HO_ups = find_best_LogicalRegression(churn_feat_train_ups, churn_targ_train_ups, churn_feat_valid, churn_targ_valid, None)\n",
    "print()\n",
    "print()\n",
    "\n",
    "print('-------------------------------------------------------')\n",
    "print('Исследование модели Логистической регрессии на взвешенных данных без RowNumber, CustomerID, Surname:')    \n",
    "print()\n",
    "LogReg_RnCi_HO_ups, predict_LogReg_RnCi_HO_ups = find_best_LogicalRegression(churn_RnCi_feat_train_ups, churn_RnCi_targ_train_ups, churn_RnCi_feat_valid, churn_RnCi_targ_valid, None)\n",
    "print()\n",
    "print()"
   ]
  },
  {
   "cell_type": "markdown",
   "metadata": {},
   "source": [
    "Рассмотрим, как изменились метрики: <br>\n",
    "<b>Модель на полных данных:</b>\n",
    "<table>\n",
    "    <tr><td>Метрика</td><td> без учета дисбаланса</td><td> взвешивание классов</td><td>увеличение выборки</td></tr>\n",
    "    <tr><td>accuracy</td><td>0.8074807480748075</td><td> 0.7293729372937293</td><td> 0.7288228822882288</td></tr>\n",
    "    <tr><td>recall</td><td> 0.20218579234972678  </td><td> 0.587431693989071 </td><td>0.5765027322404371</td></tr>\n",
    "    <tr><td>precision</td><td>0.5606060606060606</td><td>0.38669064748201437 </td><td> 0.3843351548269581</td></tr>\n",
    "    <tr><td>f1</td><td> 0.2971887550200803  </td><td bgcolor = #ffcc00> 0.4663774403470716</td><td>0.4612021857923498</td></tr>\n",
    "    <tr><td>auc roc</td><td> 0.5811204443842297 </td><td>0.6762916045702931 </td><td>0.6718601815472158</td></tr>\n",
    "</table>\n",
    "Метрики для модели логистической регрессии не улучшились по сравнению с метриками после борьбы с дисбалансом методом взвешивания классов. Данная модель явно не является лучшей среди рассмотренных\n",
    "\n",
    "<b>Модель на данных без RowNumber, CustomerID, Surname:</b>\n",
    "<table>\n",
    "    <tr>\n",
    "\t\t<td>метрика</td>\n",
    "\t\t<td>без учета дисбаланса</td>\n",
    "\t\t<td>взвешенные данные</td>\n",
    "\t\t<td>увеличение выборки</td>\n",
    "\t</tr>\n",
    "\t<tr>\n",
    "\t\t<td>accuracy</td>\n",
    "\t\t<td>0.812981298129813</td>\n",
    "\t\t<td>0.7183718371837183</td>\n",
    "\t\t<td>0.7123212321232123</td>\n",
    "\t</tr>\n",
    "\t<tr>\n",
    "\t\t<td>recall</td>\n",
    "\t\t<td>0.1994535519125683</td>\n",
    "\t\t<td>0.6857923497267759</td>\n",
    "\t\t<td>0.7021857923497268</td>\n",
    "\t</tr>\n",
    "\t<tr>\n",
    "\t\t<td>precision</td>\n",
    "\t\t<td>0.6083333333333333</td>\n",
    "\t\t<td>0.3873456790123457</td>\n",
    "\t\t<td>0.3830104321907601</td>\n",
    "\t</tr>\n",
    "\t<tr>\n",
    "\t\t<td>f1</td>\n",
    "\t\t<td>0.3004115226337448</td>\n",
    "\t\t<td>0.49506903353057197</td>\n",
    "\t\t<td  bgcolor = #ffcc00>0.4956605593056895</td>\n",
    "\t</tr>\n",
    "\t<tr>\n",
    "\t\t<td>auc roc</td>\n",
    "\t\t<td>0.5835422029535292</td>\n",
    "\t\t<td>0.7061881858826717</td>\n",
    "\t\t<td>0.708530912703789</td>\n",
    "\t</tr>\n",
    "</table>\n",
    "Общая картина для модели логистической регрессии на данных без RowNumber, CustomerID, Surname схожа с картиной модели на полных данных, одаком метрики для модели на данных без RowNumber, CustomerID, Surname несколько выше, чем на модели на полных данных, но данная модель не является лучшей из рассмотренных"
   ]
  },
  {
   "cell_type": "markdown",
   "metadata": {},
   "source": [
    "<h3>Борьба с дисбалансом путем уменьшения выборки</h3>"
   ]
  },
  {
   "cell_type": "code",
   "execution_count": 21,
   "metadata": {},
   "outputs": [
    {
     "name": "stdout",
     "output_type": "stream",
     "text": [
      "Доля значений каждого класса после преобразования\n",
      "1    0.507944\n",
      "0    0.492056\n",
      "Name: Exited, dtype: float64\n"
     ]
    }
   ],
   "source": [
    "#функция для уменьшения выборки\n",
    "def downsample(features, target, fraction):\n",
    "    #разделяем выборку на классы\n",
    "    features_zero = features[target == 0]\n",
    "    features_one = features[target == 1]\n",
    "    target_zero = target[target == 0]\n",
    "    target_one = target[target == 1]\n",
    "    #уменьшаем нулевой класс и объединяем с единичным\n",
    "    features_downsampled = pd.concat([features_zero.sample(frac = fraction, random_state = RANDOM_STATE)] + [features_one])\n",
    "    target_downsampled = pd.concat([target_zero.sample(frac = fraction, random_state = RANDOM_STATE)] + [target_one])\n",
    "    #перемешиваем значения\n",
    "    features_downsampled, target_downsampled = shuffle(features_downsampled, target_downsampled,random_state = RANDOM_STATE)\n",
    "    return features_downsampled, target_downsampled\n",
    "\n",
    "fraction = 0.25\n",
    "churn_feat_train_dns, churn_targ_train_dns = downsample(churn_feat_train, churn_targ_train, fraction)\n",
    "churn_RnCi_feat_train_dns, churn_RnCi_targ_train_dns = downsample(churn_RnCi_feat_train, churn_RnCi_targ_train,fraction)\n",
    "print('Доля значений каждого класса после преобразования')\n",
    "print(churn_targ_train_dns.value_counts(normalize = True))\n"
   ]
  },
  {
   "cell_type": "markdown",
   "metadata": {},
   "source": [
    "Количество значений каждого класса приблизительно одинаково. можно тестировать модели"
   ]
  },
  {
   "cell_type": "markdown",
   "metadata": {},
   "source": [
    "<h4>Построение модели \"Дерево решений\" на downsampled данных</h4>"
   ]
  },
  {
   "cell_type": "code",
   "execution_count": 22,
   "metadata": {},
   "outputs": [
    {
     "name": "stdout",
     "output_type": "stream",
     "text": [
      "-------------------------------------------------------\n",
      "Исследование модели Дерево решений на полных данных после уменьшения выборки:\n",
      "\n",
      "Значение меры accuracy =  0.8047304730473047\n",
      "Значение меры recall =  0.6038251366120219\n",
      "Значение меры precision =  0.5127610208816705\n",
      "Значение меры f1 =  0.5545796737766625\n",
      "Значение меры auc roc =  0.7295985187192341\n",
      "Значение меры confusion matrix: \n",
      "[[1242  210]\n",
      " [ 145  221]]\n"
     ]
    },
    {
     "data": {
      "image/png": "[encoded data removed]",
      "text/plain": [
       "<Figure size 432x288 with 1 Axes>"
      ]
     },
     "metadata": {
      "needs_background": "light"
     },
     "output_type": "display_data"
    },
    {
     "name": "stdout",
     "output_type": "stream",
     "text": [
      "\n",
      "\n",
      "-------------------------------------------------------\n",
      "Исследование модели Дерево решений на данных без RowNumber, CustomerID, Surname после уменьшения выборки:\n",
      "\n",
      "Значение меры accuracy =  0.8036303630363036\n",
      "Значение меры recall =  0.6038251366120219\n",
      "Значение меры precision =  0.5103926096997691\n",
      "Значение меры f1 =  0.553191489361702\n",
      "Значение меры auc roc =  0.7289098134850742\n",
      "Значение меры confusion matrix: \n",
      "[[1240  212]\n",
      " [ 145  221]]\n"
     ]
    },
    {
     "data": {
      "image/png": "[encoded data removed]",
      "text/plain": [
       "<Figure size 432x288 with 1 Axes>"
      ]
     },
     "metadata": {
      "needs_background": "light"
     },
     "output_type": "display_data"
    },
    {
     "name": "stdout",
     "output_type": "stream",
     "text": [
      "\n",
      "\n"
     ]
    }
   ],
   "source": [
    "print('-------------------------------------------------------')\n",
    "print('Исследование модели Дерево решений на полных данных после уменьшения выборки:')  \n",
    "print()\n",
    "DecTreeChurn_HO_dns, predict_DecTree_HO_dns = find_best_DecisionTree(churn_feat_train_dns, churn_targ_train_dns, churn_feat_valid, churn_targ_valid, None)\n",
    "print()\n",
    "print()\n",
    "print('-------------------------------------------------------')\n",
    "print('Исследование модели Дерево решений на данных без RowNumber, CustomerID, Surname после уменьшения выборки:')    \n",
    "print()\n",
    "DecTreeChurn_RnCi_HO_dns, predict_RnCi_HO_dns = find_best_DecisionTree(churn_RnCi_feat_train_dns, churn_RnCi_targ_train_dns, churn_RnCi_feat_valid, churn_RnCi_targ_valid, None)\n",
    "print()\n",
    "print()"
   ]
  },
  {
   "cell_type": "markdown",
   "metadata": {},
   "source": [
    "Рассмотрим, как изменились метрики : <br>\n",
    "<b>Модель на полных данных:</b>\n",
    "<table>\n",
    "    <tr><td>Метрика</td><td>без учета дисбаланса</td><td>взвешивание классов</td><td>увеличение выборки</td><td>уменьшение выборки</td></tr>\n",
    "    <tr><td>accuracy</td><td> 0.8514851485148515</td><td > 0.812981298129813</td><td>0.8151815181518152</td><td>0.8047304730473047</td></tr>\n",
    "    <tr><td>recall</td><td> 0.4918032786885246</td><td>  0.6038251366120219</td><td > 0.6010928961748634</td><td> 0.6038251366120219</td></tr>\n",
    "    <tr><td>precision</td><td> 0.6818181818181818</td><td> 0.53125</td><td>0.5365853658536586</td><td>0.5127610208816705</td></tr>\n",
    "    <tr><td>f1</td><td> 0.5714285714285714</td><td> 0.5652173913043479</td><td  bgcolor = #ffcc00>0.5670103092783505</td><td>0.5545796737766625</td></tr>\n",
    "    <tr><td>auc roc</td><td> 0.7169760195095516</td><td> 0.7347638079754325</td><td> 0.7351194508422526</td><td> 0.7295985187192341</td></tr>\n",
    "</table>\n",
    "Модель \"дерево решений\" на уменьшенной выборке показала более низкие значения метрик, чем модель на увеличенной выбоорке, хотя и более близкие к ним (исключение составляет только метрика recall, хотя нас интересуют и recall, и precision,  поэтому учитываем только значение агрегированной метрики f1: а оно уменьшлось, как и значение auc roc). В любом случае, показатель метрики f1 недостаточно высок. Поэтому данную метрику нельзя считать лучшей.\n",
    "\n",
    "<b>Модель на данных без RowNumber, CustomerID, Surname:</b>\n",
    "<table>\n",
    "    <tr>\n",
    "\t\t<td>метрика</td>\n",
    "\t\t<td>без учета дисбаланса</td>\n",
    "\t\t<td>взвешенные данные</td>\n",
    "\t\t<td>увеличение выборки</td>\n",
    "\t\t<td>уменьшение выборки</td>\n",
    "\t</tr>\n",
    "\t<tr>\n",
    "\t\t<td>accuracy</td>\n",
    "\t\t<td>0.841034103410341</td>\n",
    "\t\t<td>0.757975797579758</td>\n",
    "\t\t<td>0.757975797579758</td>\n",
    "\t\t<td>0.8036303630363036</td>\n",
    "\t</tr>\n",
    "\t<tr>\n",
    "\t\t<td>recall</td>\n",
    "\t\t<td>0.4972677595628415</td>\n",
    "\t\t<td>0.7513661202185792</td>\n",
    "\t\t<td>0.7513661202185792</td>\n",
    "\t\t<td>0.6038251366120219</td>\n",
    "\t</tr>\n",
    "\t<tr>\n",
    "\t\t<td>precision</td>\n",
    "\t\t<td>0.6341463414634146</td>\n",
    "\t\t<td>0.4407051282051282</td>\n",
    "\t\t<td>0.4407051282051282</td>\n",
    "\t\t<td>0.5103926096997691</td>\n",
    "\t</tr>\n",
    "\t<tr>\n",
    "\t\t<td>f1</td>\n",
    "\t\t<td  bgcolor = #ffcc00>0.557427258805513</td>\n",
    "\t\t<td>0.5555555555555556</td>\n",
    "\t\t<td>0.5555555555555556</td>\n",
    "\t\t<td>0.553191489361702</td>\n",
    "\t</tr>\n",
    "\t<tr>\n",
    "\t\t<td>auc roc</td>\n",
    "\t\t<td>0.7124768549880323</td>\n",
    "\t\t<td>0.755503996748408</td>\n",
    "\t\t<td>0.755503996748408</td>\n",
    "\t\t<td>0.7289098134850742</td>\n",
    "\t</tr>\n",
    "</table>\n",
    "В целом картина жля модели без RowNumber, CustomerID, Surname отличается картиной на полных данных: данная мдель имеет самое меньшее значение f1 из всех моделей \"Дерево решений\". Наиболее высокие значения f1 для модели \"Дерево решений\" достигаются на данных без учета дисбаланса, но это значение недостаточно велико \n"
   ]
  },
  {
   "cell_type": "markdown",
   "metadata": {},
   "source": [
    "<h4>Построение модели \"Лес решений\" на downsampled выборке</h4>"
   ]
  },
  {
   "cell_type": "code",
   "execution_count": 23,
   "metadata": {},
   "outputs": [
    {
     "name": "stdout",
     "output_type": "stream",
     "text": [
      "-------------------------------------------------------\n",
      "Исследование модели \"Лес решений\" на downsampled данных:\n",
      "\n",
      "Наилучшее значение n_estimators =  122\n",
      "Наилучшее значение max_depth =  36\n",
      "Значение меры accuracy =  0.7805280528052805\n",
      "Значение меры recall =  0.7513661202185792\n",
      "Значение меры precision =  0.4716981132075472\n",
      "Значение меры f1 =  0.5795574288724974\n",
      "Значение меры auc roc =  0.7696224540486835\n",
      "Значение меры confusion matrix: \n",
      "[[1144  308]\n",
      " [  91  275]]\n"
     ]
    },
    {
     "data": {
      "image/png": "[encoded data removed]",
      "text/plain": [
       "<Figure size 432x288 with 1 Axes>"
      ]
     },
     "metadata": {
      "needs_background": "light"
     },
     "output_type": "display_data"
    },
    {
     "name": "stdout",
     "output_type": "stream",
     "text": [
      "\n",
      "\n",
      "-------------------------------------------------------\n",
      "Исследование модели \"Лес решений\" на downsampled данных без RowNumber, CustomerID, Surname:\n",
      "\n",
      "Наилучшее значение n_estimators =  76\n",
      "Наилучшее значение max_depth =  15\n",
      "Значение меры accuracy =  0.7970297029702971\n",
      "Значение меры recall =  0.7349726775956285\n",
      "Значение меры precision =  0.49722735674676527\n",
      "Значение меры f1 =  0.5931642778390298\n",
      "Значение меры auc roc =  0.7738224269520843\n",
      "Значение меры confusion matrix: \n",
      "[[1180  272]\n",
      " [  97  269]]\n"
     ]
    },
    {
     "data": {
      "image/png": "[encoded data removed]",
      "text/plain": [
       "<Figure size 432x288 with 1 Axes>"
      ]
     },
     "metadata": {
      "needs_background": "light"
     },
     "output_type": "display_data"
    },
    {
     "name": "stdout",
     "output_type": "stream",
     "text": [
      "\n",
      "\n"
     ]
    }
   ],
   "source": [
    "print('-------------------------------------------------------')\n",
    "print('Исследование модели \"Лес решений\" на downsampled данных:')  \n",
    "print()\n",
    "ForestChurn_HO_dns, predict_Forest_HO_dns = find_best_Forest(churn_feat_train_dns, churn_targ_train_dns, churn_feat_valid, churn_targ_valid, None)\n",
    "print()\n",
    "print()\n",
    "print('-------------------------------------------------------')\n",
    "print('Исследование модели \"Лес решений\" на downsampled данных без RowNumber, CustomerID, Surname:')  \n",
    "print() \n",
    "ForestChurn_RnCi_HO_dns, predict_RnCi_Forest_HO_dns = find_best_Forest(churn_RnCi_feat_train_dns, churn_RnCi_targ_train_dns, churn_RnCi_feat_valid, churn_RnCi_targ_valid, None)\n",
    "print()\n",
    "print() "
   ]
  },
  {
   "cell_type": "markdown",
   "metadata": {},
   "source": [
    "\n",
    "\n",
    "\n",
    "Рассмотрим, как изменились метрики : <br>\n",
    "<b>Модель на полных данных:</b>\n",
    "<table>\n",
    "    <tr><td>Метрика</td><td>без учета дисбаланса</td><td>взвешивание классов</td><td>увеличение выборки</td><td>уменьшение выборки</td></tr>\n",
    "    <tr><td>accuracy</td><td>0.8476347634763476 </td><td> 0.8454345434543454</td><td >0.8443344334433444</td><td>0.7805280528052805</td></tr>\n",
    "    <tr><td>recall</td><td> 0.3087431693989071 </td><td> 0.5191256830601093</td><td>0.5655737704918032</td><td> 0.7513661202185792</td></tr>\n",
    "    <tr><td>precision</td><td>0.8248175182481752</td><td>0.6440677966101694</td><td> 0.6253776435045317</td><td>0.4716981132075472</td></tr>\n",
    "    <tr><td>f1</td><td>0.44930417495029823 </td><td> 0.5748865355521936</td><td bgcolor = #ffcc00> 0.593974175035868</td><td> 0.5795574288724974</td></tr>\n",
    "    <tr><td>auc roc</td><td> 0.6461071218895362</td><td>0.7234058167366662</td><td>0.7400871607279953</td><td>0.7696224540486835</td></tr>\n",
    "</table>\n",
    "\n",
    "<b>Модель на данных без RowNumber, CustomerID, Surname:</b>\n",
    "<table>\n",
    " <tr>\n",
    "\t\t<td>метрика</td>\n",
    "\t\t<td>без учета дисбаланса</td>\n",
    "\t\t<td>взвешенные данные</td>\n",
    "\t\t<td>увеличение выборки</td>\n",
    "\t\t<td>уменьшение выборки</td>\n",
    "\t</tr>\n",
    "\t<tr>\n",
    "\t\t<td>accuracy</td>\n",
    "\t\t<td>0.8624862486248625</td>\n",
    "\t\t<td>0.8278327832783279</td>\n",
    "\t\t<td>0.8168316831683168</td>\n",
    "\t\t<td>0.7970297029702971</td>\n",
    "\t</tr>\n",
    "\t<tr>\n",
    "\t\t<td>recall</td>\n",
    "\t\t<td>0.43989071038251365</td>\n",
    "\t\t<td>0.6557377049180327</td>\n",
    "\t\t<td>0.7021857923497268</td>\n",
    "\t\t<td>0.7349726775956285</td>\n",
    "\t</tr>\n",
    "\t<tr>\n",
    "\t\t<td>precision</td>\n",
    "\t\t<td>0.7815533980582524</td>\n",
    "\t\t<td>0.5620608899297423</td>\n",
    "\t\t<td>0.5343035343035343</td>\n",
    "\t\t<td>0.49722735674676527</td>\n",
    "\t</tr>\n",
    "\t<tr>\n",
    "\t\t<td>f1</td>\n",
    "\t\t<td>0.5629370629370629</td>\n",
    "\t\t<td>0.6052963430012609</td>\n",
    "\t\t<td  bgcolor = #ffcc00>0.6068476977567886</td>\n",
    "\t\t<td>0.5931642778390298</td>\n",
    "\t</tr>\n",
    "\t<tr>\n",
    "\t\t<td>auc roc</td>\n",
    "\t\t<td>0.7044494874226618</td>\n",
    "\t\t<td>0.7634749130650769</td>\n",
    "\t\t<td>0.7739579099489681</td>\n",
    "\t\t<td>0.7738224269520843</td>\n",
    "\t</tr>\n",
    "</table>\n",
    "У обеих моделей значения метрик f1 ниже, чем у моделей на upsampled данных, причем значително, однако увелчились значения метрик recall и auc roc: false negative значений стало меньше, то есть модель стала более полной, но менее точной, а нам необходима максимизация обоих показателей. Поэтому считаем, что модель на upsampled данных больше подходит для решения поствленной задачи<br>\n",
    "Показатели на модели без RowNumber, CustomerID, Surname несколько выше, чем для модели на полных данных."
   ]
  },
  {
   "cell_type": "markdown",
   "metadata": {},
   "source": [
    "<h4>Построение модели логистической регрессии на downsampled данных</h4>"
   ]
  },
  {
   "cell_type": "code",
   "execution_count": 24,
   "metadata": {},
   "outputs": [
    {
     "name": "stdout",
     "output_type": "stream",
     "text": [
      "-------------------------------------------------------\n",
      "Исследование модели Логистической регрессии на взвешенных полных данных:\n",
      "\n",
      "Значение меры accuracy =  0.7029702970297029\n",
      "Значение меры recall =  0.6857923497267759\n",
      "Значение меры precision =  0.371301775147929\n",
      "Значение меры f1 =  0.48176583493282144\n",
      "Значение меры auc roc =  0.6965463126044347\n",
      "Значение меры confusion matrix: \n",
      "[[1027  425]\n",
      " [ 115  251]]\n"
     ]
    },
    {
     "data": {
      "image/png": "[encoded data removed]",
      "text/plain": [
       "<Figure size 432x288 with 1 Axes>"
      ]
     },
     "metadata": {
      "needs_background": "light"
     },
     "output_type": "display_data"
    },
    {
     "name": "stdout",
     "output_type": "stream",
     "text": [
      "\n",
      "\n",
      "-------------------------------------------------------\n",
      "Исследование модели Логистической регрессии на взвешенных данных без RowNumber, CustomerID, Surname:\n",
      "\n",
      "Значение меры accuracy =  0.7194719471947195\n",
      "Значение меры recall =  0.6967213114754098\n",
      "Значение меры precision =  0.38990825688073394\n",
      "Значение меры f1 =  0.5\n",
      "Значение меры auc roc =  0.7109639615228289\n",
      "Значение меры confusion matrix: \n",
      "[[1053  399]\n",
      " [ 111  255]]\n"
     ]
    },
    {
     "data": {
      "image/png": "[encoded data removed]",
      "text/plain": [
       "<Figure size 432x288 with 1 Axes>"
      ]
     },
     "metadata": {
      "needs_background": "light"
     },
     "output_type": "display_data"
    },
    {
     "name": "stdout",
     "output_type": "stream",
     "text": [
      "\n",
      "\n"
     ]
    }
   ],
   "source": [
    "print('-------------------------------------------------------')\n",
    "print('Исследование модели Логистической регрессии на взвешенных полных данных:')  \n",
    "print()  \n",
    "LogReg_HO_dns, predict_LogReg_HO_dns = find_best_LogicalRegression(churn_feat_train_dns, churn_targ_train_dns, churn_feat_valid, churn_targ_valid, None)\n",
    "print()\n",
    "print()\n",
    "\n",
    "print('-------------------------------------------------------')\n",
    "print('Исследование модели Логистической регрессии на взвешенных данных без RowNumber, CustomerID, Surname:')    \n",
    "print()\n",
    "LogReg_RnCi_HO_dns, predict_LogReg_RnCi_HO_dns = find_best_LogicalRegression(churn_RnCi_feat_train_dns, churn_RnCi_targ_train_dns, churn_RnCi_feat_valid, churn_RnCi_targ_valid, None)\n",
    "print()\n",
    "print()"
   ]
  },
  {
   "cell_type": "markdown",
   "metadata": {},
   "source": [
    "Рассмотрим, как изменились метрики: <br>\n",
    "<b>Модель на полных данных:</b>\n",
    "<table>\n",
    "    <tr><td>Метрика</td><td> без учета дисбаланса</td><td> взвешивание классов</td><td>увеличение выборки</td><td>уменьшение выборки</td></tr>\n",
    "    <tr><td>accuracy</td><td>0.8074807480748075</td><td> 0.7293729372937293</td><td> 0.7288228822882288</td><td>0.7029702970297029</td></tr>\n",
    "    <tr><td>recall</td><td> 0.20218579234972678  </td><td> 0.587431693989071 </td><td>0.5765027322404371</td><td>0.6857923497267759</td></tr>\n",
    "    <tr><td>precision</td><td>0.5606060606060606</td><td>0.38669064748201437 </td><td> 0.3843351548269581</td><td> 0.371301775147929</td></tr>\n",
    "    <tr><td>f1</td><td> 0.2971887550200803  </td><td> 0.4663774403470716</td><td>0.4612021857923498</td><td  bgcolor = #ffcc00>0.48176583493282144</td></tr>\n",
    "    <tr><td>auc roc</td><td> 0.5811204443842297 </td><td>0.6762916045702931 </td><td>0.6718601815472158</td><td>0.6965463126044347</td></tr>\n",
    "</table>\n",
    "\n",
    "\n",
    "<b>Модель на данных без RowNumber, CustomerID, Surname:</b>\n",
    "<table>\n",
    "    <tr>\n",
    "\t\t<td>метрика</td>\n",
    "\t\t<td>без учета дисбаланса</td>\n",
    "\t\t<td>взвешенные данные</td>\n",
    "\t\t<td>увеличение выборки</td>\n",
    "\t\t<td>уменьшение выборки</td>\n",
    "\t</tr>\n",
    "\t<tr>\n",
    "\t\t<td>accuracy</td>\n",
    "\t\t<td>0.812981298129813</td>\n",
    "\t\t<td>0.7183718371837183</td>\n",
    "\t\t<td>0.7123212321232123</td>\n",
    "\t\t<td>0.7194719471947195</td>\n",
    "\t</tr>\n",
    "\t<tr>\n",
    "\t\t<td>recall</td>\n",
    "\t\t<td>0.1994535519125683</td>\n",
    "\t\t<td>0.6857923497267759</td>\n",
    "\t\t<td>0.7021857923497268</td>\n",
    "\t\t<td>0.6967213114754098</td>\n",
    "\t</tr>\n",
    "\t<tr>\n",
    "\t\t<td>precision</td>\n",
    "\t\t<td>0.6083333333333333</td>\n",
    "\t\t<td>0.3873456790123457</td>\n",
    "\t\t<td>0.3830104321907601</td>\n",
    "\t\t<td>0.38990825688073394</td>\n",
    "\t</tr>\n",
    "\t<tr>\n",
    "\t\t<td>f1</td>\n",
    "\t\t<td>0.3004115226337448</td>\n",
    "\t\t<td>0.49506903353057197</td>\n",
    "\t\t<td>0.4956605593056895</td>\n",
    "\t\t<td  bgcolor = #ffcc00>0.5</td>\n",
    "\t</tr>\n",
    "\t<tr>\n",
    "\t\t<td>auc roc</td>\n",
    "\t\t<td>0.5835422029535292</td>\n",
    "\t\t<td>0.7061881858826717</td>\n",
    "\t\t<td>0.708530912703789</td>\n",
    "\t\t<td>0.7109639615228289</td>\n",
    "\t</tr>\n",
    "</table>\n",
    "\n",
    "Пказатели качества для обеих моделей чуть выше, чем на прочих моделях логистической регрессии. Данные значения далеки от целевого. рзультаты для обеих моеделей очень схожие, хотя модель на данных без RowNumber, CustomerID, Surname показывает значения метрик выше, чем для модели на полных данных"
   ]
  },
  {
   "cell_type": "markdown",
   "metadata": {},
   "source": [
    "<b>Таким образом получили, что наиболее высокие значения метрики f1 достигаются на моделях \"Лес решений\" на upsampled данных. Это верно для обеих моделей. Протестируем полученные модели</b>"
   ]
  },
  {
   "cell_type": "markdown",
   "metadata": {},
   "source": [
    "## Тестирование модели"
   ]
  },
  {
   "cell_type": "code",
   "execution_count": 25,
   "metadata": {},
   "outputs": [
    {
     "name": "stdout",
     "output_type": "stream",
     "text": [
      "\n",
      "Тестирование модели \"Лес решений\" на полных данных upsampled\n",
      "\n",
      "Значение меры accuracy =  0.8416712479384277\n",
      "Значение меры recall =  0.5745257452574526\n",
      "Значение меры precision =  0.6180758017492711\n",
      "Значение меры f1 =  0.5955056179775281\n",
      "Значение меры auc roc =  0.742090458835623\n",
      "Значение меры confusion matrix: \n",
      "[[1319  131]\n",
      " [ 157  212]]\n"
     ]
    },
    {
     "data": {
      "image/png": "[encoded data removed]",
      "text/plain": [
       "<Figure size 432x288 with 1 Axes>"
      ]
     },
     "metadata": {
      "needs_background": "light"
     },
     "output_type": "display_data"
    },
    {
     "name": "stdout",
     "output_type": "stream",
     "text": [
      "\n",
      "\n",
      "--------------------------------------------------------------\n",
      "\n",
      "Тестирование модели \"Лес решений\" на данных без RowNumber, CustomerID, Surname upsampled\n",
      "\n",
      "Значение меры accuracy =  0.7982407916437603\n",
      "Значение меры recall =  0.6910569105691057\n",
      "Значение меры precision =  0.5019685039370079\n",
      "Значение меры f1 =  0.5815279361459521\n",
      "Значение меры auc roc =  0.758287075974208\n",
      "Значение меры confusion matrix: \n",
      "[[1197  253]\n",
      " [ 114  255]]\n"
     ]
    },
    {
     "data": {
      "image/png": "[encoded data removed]",
      "text/plain": [
       "<Figure size 432x288 with 1 Axes>"
      ]
     },
     "metadata": {
      "needs_background": "light"
     },
     "output_type": "display_data"
    },
    {
     "name": "stdout",
     "output_type": "stream",
     "text": [
      "\n",
      "\n",
      "--------------------------------------------------------------\n"
     ]
    }
   ],
   "source": [
    "#Протестируем выбранную модель на полных данных:\n",
    "print()\n",
    "print('Тестирование модели \"Лес решений\" на полных данных upsampled')\n",
    "print()\n",
    "test_prdict_HO = ForestChurn_HO_ups.predict(churn_feat_test)\n",
    "print_basic_metrics(churn_targ_test,test_prdict_HO,ForestChurn_HO_ups,churn_feat_test)\n",
    "print()\n",
    "print()\n",
    "print('--------------------------------------------------------------')\n",
    "print()\n",
    "print('Тестирование модели \"Лес решений\" на данных без RowNumber, CustomerID, Surname upsampled')\n",
    "print()\n",
    "test_RnCi_prdict_HO = ForestChurn_RnCi_HO_ups.predict(churn_RnCi_feat_test)\n",
    "print_basic_metrics(churn_RnCi_targ_test,test_RnCi_prdict_HO,ForestChurn_RnCi_HO_ups,churn_RnCi_feat_test)\n",
    "print()\n",
    "print()\n",
    "print('--------------------------------------------------------------')"
   ]
  },
  {
   "cell_type": "markdown",
   "metadata": {},
   "source": [
    "На тестовой выборке результирующие метрики оказались близки к значениям на валидационной выборке\n",
    "<b>Модель на полных данных:</b>\n",
    "<table>\n",
    "    <tr><td>Метрика</td><td>валидационная выборка</td><td>Тестовая выборка</td></tr>\n",
    "    <tr><td>accuracy</td><td>0.8443344334433444</td><td>0.8416712479384277</td></tr>\n",
    "    <tr><td>recall</td><td>0.5655737704918032</td><td>0.5745257452574526</td></tr>\n",
    "    <tr><td>precision</td><td> 0.6253776435045317</td><td>0.6180758017492711</td></tr>\n",
    "    <tr><td>f1</td><td> 0.593974175035868</td><td>0.5955056179775281</td></tr>\n",
    "    <tr><td>auc roc</td><td>0.7400871607279953</td><td>0.736694701429773</td></tr>\n",
    "</table>\n",
    "На тестовой выборке на модели на полных данных значение параметра  f1 оказалось немного больше, чем на валидационной. Однако значения auc roc и precision оказались немного меньше. Это говорит о том, что на тестовой выборке мы получили чуть больше False Positive предсказаний. в целом качество модели достаточно выское\n",
    "<b>Модель на данных без RowNumber, CustomerID, Surname:</b>\n",
    "<table>\n",
    "    <tr>\n",
    "\t\t<td>метрика</td>\n",
    "\t\t<td>валидационная выборка</td>\n",
    "\t\t<td>тестовая выборка</td>\n",
    "\t</tr>\n",
    "\t<tr>\n",
    "\t\t<td>accuracy</td>\n",
    "\t\t<td>0.8168316831683168</td>\n",
    "\t\t<td>0.7982407916437603</td>\n",
    "\t</tr>\n",
    "\t<tr>\n",
    "\t\t<td>recall</td>\n",
    "\t\t<td>0.7021857923497268</td>\n",
    "\t\t<td>0.6910569105691057</td>\n",
    "\t</tr>\n",
    "\t<tr>\n",
    "\t\t<td>precision</td>\n",
    "\t\t<td>0.5343035343035343</td>\n",
    "\t\t<td>0.5019685039370079</td>\n",
    "\t</tr>\n",
    "\t<tr>\n",
    "\t\t<td>f1</td>\n",
    "\t\t<td>0.6068476977567886</td>\n",
    "\t\t<td>0.5815279361459521</td>\n",
    "\t</tr>\n",
    "\t<tr>\n",
    "\t\t<td>auc roc</td>\n",
    "\t\t<td>0.7739579099489681</td>\n",
    "\t\t<td>0.758287075974208</td>\n",
    "\t</tr>\n",
    "</table>\n",
    "На тестовой выборке на модели на данных без RowNumber, CustomerID, Surname значение всех метрик оказалось ниже, чем на валидационной. Возможно, у полученной модели есть некоторая склонность к переобучению, хотя разница в показателях на тестовой и валидационной выборках заметна. "
   ]
  }
 ],
 "metadata": {
  "kernelspec": {
   "display_name": "Python 3",
   "language": "python",
   "name": "python3"
  },
  "language_info": {
   "codemirror_mode": {
    "name": "ipython",
    "version": 3
   },
   "file_extension": ".py",
   "mimetype": "text/x-python",
   "name": "python",
   "nbconvert_exporter": "python",
   "pygments_lexer": "ipython3",
   "version": "3.9.5"
  },
  "toc": {
   "base_numbering": 1,
   "nav_menu": {},
   "number_sections": true,
   "sideBar": true,
   "skip_h1_title": true,
   "title_cell": "Содержание",
   "title_sidebar": "Contents",
   "toc_cell": true,
   "toc_position": {
    "height": "calc(100% - 180px)",
    "left": "10px",
    "top": "150px",
    "width": "246px"
   },
   "toc_section_display": true,
   "toc_window_display": false
  }
 },
 "nbformat": 4,
 "nbformat_minor": 2
}
